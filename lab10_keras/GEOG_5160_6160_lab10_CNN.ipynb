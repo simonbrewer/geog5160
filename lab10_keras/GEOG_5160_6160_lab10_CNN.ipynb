{
 "cells": [
  {
   "cell_type": "markdown",
   "metadata": {},
   "source": [
    "# GEOG 5160 6160 Lab 10 Convolutional neural networks"
   ]
  },
  {
   "cell_type": "markdown",
   "metadata": {},
   "source": [
    "## Introduction\n",
    "\n",
    "**THIS IS AN OPTIONAL LAB**\n",
    "\n",
    "In this lab, we'll look at how to use the Keras package to build a convolutional neural network (CNN). We'll use this for an image classification problem, and we'll look at the different types of layers used in a CNN, as well as code to work with large sets of images by batch processing. The code and example are modified from Shirin Elsinghorst's excellent blog on machine learning (https://shirinsplayground.netlify.com/2018/06/keras_fruits/) \n",
    "\n",
    "We'll use a dataset from Kaggle (https://www.kaggle.com/moltean/fruits) containing over 90,000 images of fruits and vegetables. You'll need to download the zip file *fruits.zip* from Canvas and move this to your working directory. Although the images are not high resolution, the total dataset will take about 800Mb. The dataset has already been split into a `Training` and `Testing` folder, and we'll use the latter to evaluate our model. Make a new folder for today's class called `lab10` (if you haven't already), download this file and unzip it there. You will also need to make sure the Python image library (PIL/pillow) is installed in your conda environment. "
   ]
  },
  {
   "cell_type": "markdown",
   "metadata": {},
   "source": [
    "## Image classification\n",
    "\n",
    "### Data processing\n",
    "Let's start, as usual, by loading the libraries we'll need for the lab:"
   ]
  },
  {
   "cell_type": "code",
   "execution_count": 1,
   "metadata": {},
   "outputs": [],
   "source": [
    "import os\n",
    "import numpy as np\n",
    "import pandas as pd\n",
    "import matplotlib.pyplot as plt\n",
    "import seaborn as sn"
   ]
  },
  {
   "cell_type": "markdown",
   "metadata": {},
   "source": [
    "Now set the path to the folder containing the training images you downloaded. I found that you need to set the full path rather than a relative path, but your mileage may vary. If you have any questions about setting this path, please ask. "
   ]
  },
  {
   "cell_type": "code",
   "execution_count": 2,
   "metadata": {},
   "outputs": [],
   "source": [
    "# path to image folders\n",
    "path = \"/Users/u0784726/Dropbox/Data/ml/fruits/\"\n",
    "train_image_files_path = path + \"Training\""
   ]
  },
  {
   "cell_type": "markdown",
   "metadata": {},
   "source": [
    "You can visualize any of the images using the Python image library (you'll need to install this) by joining the folder path to one of the image names:"
   ]
  },
  {
   "cell_type": "code",
   "execution_count": 3,
   "metadata": {},
   "outputs": [],
   "source": [
    "im_file = os.path.join(train_image_files_path, \"Banana\", \"0_100.jpg\")"
   ]
  },
  {
   "cell_type": "code",
   "execution_count": 4,
   "metadata": {},
   "outputs": [
    {
     "data": {
      "image/png": "[encoded data removed]",
      "text/plain": [
       "<PIL.JpegImagePlugin.JpegImageFile image mode=RGB size=100x100 at 0x7FBFEA925B50>"
      ]
     },
     "metadata": {},
     "output_type": "display_data"
    }
   ],
   "source": [
    "from PIL import Image               # to load images\n",
    "from IPython.display import display # to display inline images\n",
    "im = Image.open(im_file)\n",
    "#show image\n",
    "display(im)"
   ]
  },
  {
   "cell_type": "markdown",
   "metadata": {},
   "source": [
    "You can try other images by changing the folder name and filename. Note that these are somewhat idealized images, with a blank white background. \n",
    "\n",
    "Next, we'll define a subset of images that we are going to process. There are 131 different types in the folder, but we'll use a subset of 16 here. This makes this a multi-class classification problem, and we'll require a different activation function to accommodate this. Feel free to choose a different set if you'd like (but it might be best to avoid folders with spaces in the names). "
   ]
  },
  {
   "cell_type": "code",
   "execution_count": 5,
   "metadata": {},
   "outputs": [],
   "source": [
    "# fruits categories\n",
    "fruit_list = [\"Kiwi\", \"Banana\", \"Apricot\", \"Avocado\", \"Cocos\", \"Clementine\", \"Mandarine\", \"Orange\",\n",
    "                \"Limes\", \"Lemon\", \"Peach\", \"Plum\", \"Raspberry\", \"Strawberry\", \"Pineapple\", \"Pomegranate\"]\n",
    "# number of output classes (i.e. fruits)\n",
    "output_n = len(fruit_list)"
   ]
  },
  {
   "cell_type": "markdown",
   "metadata": {},
   "source": [
    "The original images are 100x100 pixels. Ideally we'd use these at their full resolution, but as this is an example, we'll reduce the resolution to 20x20 to make this a bit faster to run, so we set the target size here. We'll use these values (stored in `target_size` to define the input tensor shape in the network. (A good follow-up test would be to increase this and see how much it impacts the predictions.) "
   ]
  },
  {
   "cell_type": "code",
   "execution_count": 6,
   "metadata": {},
   "outputs": [],
   "source": [
    "img_width = 20\n",
    "img_height = 20\n",
    "target_size = (img_width, img_height)"
   ]
  },
  {
   "cell_type": "markdown",
   "metadata": {},
   "source": [
    "The other dimension we need for image processing is the image depth. These are RGB images with three color channels. The input tensors then will be rank 4, with shape ($n$, 20, 20, 3), where $n$ is the number of images. "
   ]
  },
  {
   "cell_type": "code",
   "execution_count": 7,
   "metadata": {},
   "outputs": [],
   "source": [
    "channels = 3"
   ]
  },
  {
   "cell_type": "markdown",
   "metadata": {},
   "source": [
    "The last parameter we'll set here is the batch size. This is the same parameter that we have used before to control the rate at which the network weights are updated. We'll also use this to control the number of images that are loaded into memory at any step. This is very useful if you're working on a computer with limited memory (like my old laptop)."
   ]
  },
  {
   "cell_type": "code",
   "execution_count": 8,
   "metadata": {},
   "outputs": [],
   "source": [
    "batch_size = 32"
   ]
  },
  {
   "cell_type": "markdown",
   "metadata": {},
   "source": [
    "### Image generators"
   ]
  },
  {
   "cell_type": "markdown",
   "metadata": {},
   "source": [
    "Keras has several functions to facilitate working with images. We'll start by creating an image *generator*. This acts a bit like a pipeline and will carry various pre-processing steps. These include data augmentation: simple transformations of the images to supplement the original image. We're not going to use that here, but some example code is given in the appendix to illustrate how you might use this.\n",
    "\n",
    "We'll create a generator for the training images. This will rescale each channel to a 0-1 range (the RGB channels have values between 0 and 255), and it will hold aside 30% of the training images for validation. We'll use this to check for overfitting during the training process."
   ]
  },
  {
   "cell_type": "code",
   "execution_count": 9,
   "metadata": {},
   "outputs": [],
   "source": [
    "from tensorflow.keras.preprocessing.image import ImageDataGenerator\n",
    "# training images\n",
    "train_data_gen = ImageDataGenerator(\n",
    "    rescale = 1./255,\n",
    "    validation_split = 0.3\n",
    ")"
   ]
  },
  {
   "cell_type": "markdown",
   "metadata": {},
   "source": [
    "The next function we'll use is a *flow* function. This function controls how Keras will read in the images for any training step (i.e. any update of the network weights). There are several arguments here:\n",
    "\n",
    "- `train_image_files_path`: The path to the top-level folder containing the training images\n",
    "- `train_data_gen`: The image data generator\n",
    "- `subset`: The subset of images to use from the generator for training. As we set the `validation_size` to 0.3, this will be 1 - 0.3 = 0.7, or 70% of the images\n",
    "- `target_size`: The size for rescaling each image\n",
    "- `class_mode`: The type of label used (this will one-hot encode the labels of the images)\n",
    "- `classes`: The set of categories to use. This is the list we defined earlier and needs to match the subfolder names. If this is not included, this will use all subfolders, and create a list of labels\n",
    "- `batch_size`: The number of images to import for any update step\n",
    "- `seed`: a value to initialize the random number generator (this is only there to ensure consistent results)"
   ]
  },
  {
   "cell_type": "code",
   "execution_count": 10,
   "metadata": {},
   "outputs": [
    {
     "name": "stdout",
     "output_type": "stream",
     "text": [
      "Found 5401 images belonging to 16 classes.\n"
     ]
    }
   ],
   "source": [
    "# training images\n",
    "train_image_array_gen = train_data_gen.flow_from_directory(train_image_files_path,                                                            \n",
    "                                                           target_size = target_size,\n",
    "                                                           subset = 'training',\n",
    "                                                           classes = fruit_list, \n",
    "                                                           class_mode = 'categorical',\n",
    "                                                           seed = 42)"
   ]
  },
  {
   "cell_type": "markdown",
   "metadata": {},
   "source": [
    "The function will tell you how many images (and classes) it found in the folder you defined. If this is 0, go back and check the folder path you defined earlier. We'll also create a flow for the validation images. The only difference here is in the definition of the subset. "
   ]
  },
  {
   "cell_type": "code",
   "execution_count": 11,
   "metadata": {},
   "outputs": [
    {
     "name": "stdout",
     "output_type": "stream",
     "text": [
      "Found 2308 images belonging to 16 classes.\n"
     ]
    }
   ],
   "source": [
    "# validation images\n",
    "valid_image_array_gen = train_data_gen.flow_from_directory(train_image_files_path, \n",
    "                                                           target_size = target_size,\n",
    "                                                           subset = 'validation',\n",
    "                                                           classes = fruit_list,\n",
    "                                                           class_mode = 'categorical',\n",
    "                                                           seed = 42)"
   ]
  },
  {
   "cell_type": "markdown",
   "metadata": {},
   "source": [
    "Note that these flow generators contain various useful bits of information. For example, to check the number of images (we'll also use this number when training the model):"
   ]
  },
  {
   "cell_type": "code",
   "execution_count": 12,
   "metadata": {},
   "outputs": [
    {
     "name": "stdout",
     "output_type": "stream",
     "text": [
      "Training: 5401; Valid: 2308\n"
     ]
    }
   ],
   "source": [
    "train_samples = train_image_array_gen.n\n",
    "valid_samples = valid_image_array_gen.n\n",
    "print(\"Training: %d; Valid:\" % train_samples, valid_samples)"
   ]
  },
  {
   "cell_type": "markdown",
   "metadata": {},
   "source": [
    "Or you can get the number of images per class (type of fruit)"
   ]
  },
  {
   "cell_type": "code",
   "execution_count": 13,
   "metadata": {},
   "outputs": [
    {
     "data": {
      "text/plain": [
       "15    345\n",
       "10    345\n",
       "2     345\n",
       "13    345\n",
       "9     345\n",
       "14    343\n",
       "6     343\n",
       "5     343\n",
       "1     343\n",
       "12    343\n",
       "8     343\n",
       "4     343\n",
       "7     336\n",
       "0     327\n",
       "11    313\n",
       "3     299\n",
       "dtype: int64"
      ]
     },
     "execution_count": 13,
     "metadata": {},
     "output_type": "execute_result"
    }
   ],
   "source": [
    "pd.Series(train_image_array_gen.classes).value_counts()"
   ]
  },
  {
   "cell_type": "markdown",
   "metadata": {},
   "source": [
    "Which suggest this is a relatively well-balanced dataset. This generator also contains various information about the files, resolution, channels, etc. "
   ]
  },
  {
   "cell_type": "markdown",
   "metadata": {},
   "source": [
    "### Model definition\n",
    "\n",
    "Let's now set up the model. As this is quite a complex model, we'll do this as a series of steps rather than in one go. First, import all the modules from Keras that we'll need:"
   ]
  },
  {
   "cell_type": "code",
   "execution_count": 14,
   "metadata": {},
   "outputs": [],
   "source": [
    "from tensorflow.keras.models import Sequential\n",
    "from tensorflow.keras.layers import (Conv2D,\n",
    "                          Dense,\n",
    "                          ReLU,LeakyReLU,\n",
    "                          BatchNormalization, \n",
    "                          MaxPooling2D, \n",
    "                          Dropout,\n",
    "                          Flatten)\n",
    "from tensorflow.keras.optimizers import RMSprop"
   ]
  },
  {
   "cell_type": "markdown",
   "metadata": {},
   "source": [
    "Now, create a template sequential model:"
   ]
  },
  {
   "cell_type": "code",
   "execution_count": 15,
   "metadata": {},
   "outputs": [],
   "source": [
    "model = Sequential()"
   ]
  },
  {
   "cell_type": "markdown",
   "metadata": {},
   "source": [
    "Next we add the first hidden layer. This is a convolutional layer, where we'll create 16 filters (or convolutions) based on the original images, with a 3x3 kernel. We'll pad the output of this layer so that it has the same size as the input (`same`). Note that we also need to define the size of the input tensors (width, height and channels). "
   ]
  },
  {
   "cell_type": "code",
   "execution_count": 16,
   "metadata": {},
   "outputs": [],
   "source": [
    "model.add(Conv2D(filters = 16, kernel_size = (3,3), padding = 'same', \n",
    "           input_shape = (img_width, img_height, channels)))"
   ]
  },
  {
   "cell_type": "markdown",
   "metadata": {},
   "source": [
    "We'll then take the output of this layer and pass it through a ReLU activation function (this could have been included directly in the convolutional layer, but this allows a little more control on the process):"
   ]
  },
  {
   "cell_type": "code",
   "execution_count": 17,
   "metadata": {},
   "outputs": [],
   "source": [
    "model.add(ReLU())"
   ]
  },
  {
   "cell_type": "markdown",
   "metadata": {},
   "source": [
    "Now, we add a max-pooling layer. As a reminder, this reduces the resolution of the output from the previous layer by a simple filter, forcing the next layer of the network to focus on larger image features. We'll also add a dropout layer. This is a form of regularization. It randomly sets some connection weights to 0 (i.e. having no contribution to the model), which can reduce overfitting."
   ]
  },
  {
   "cell_type": "code",
   "execution_count": 18,
   "metadata": {},
   "outputs": [],
   "source": [
    "model.add(MaxPooling2D(pool_size = (2,2)))\n",
    "model.add(Dropout(.25))"
   ]
  },
  {
   "cell_type": "markdown",
   "metadata": {},
   "source": [
    "Let's add another convolutional layer, this time with 32 filters, and pass this through a different activation function (a leaky ReLU)"
   ]
  },
  {
   "cell_type": "code",
   "execution_count": 19,
   "metadata": {},
   "outputs": [],
   "source": [
    "model.add(Conv2D(filters = 32, kernel_size = (3,3), padding = 'same', \n",
    "           input_shape = (img_width, img_height, channels)))\n",
    "model.add(LeakyReLU(0.5))"
   ]
  },
  {
   "cell_type": "markdown",
   "metadata": {},
   "source": [
    "We'll take the output of this function and normalize the weights. This is a simple method that adjusts the mean weight to close to zero and reduces the amount variation. This helps avoid gradient problems with very small or very large weights"
   ]
  },
  {
   "cell_type": "code",
   "execution_count": 20,
   "metadata": {},
   "outputs": [],
   "source": [
    "model.add(BatchNormalization())"
   ]
  },
  {
   "cell_type": "markdown",
   "metadata": {},
   "source": [
    "And we'll run the output of this through a max-pooling function with dropout:"
   ]
  },
  {
   "cell_type": "code",
   "execution_count": 21,
   "metadata": {},
   "outputs": [],
   "source": [
    "model.add(MaxPooling2D(pool_size = (2,2)))\n",
    "model.add(Dropout(.25))"
   ]
  },
  {
   "cell_type": "markdown",
   "metadata": {},
   "source": [
    "Now we'll add layers to connect the output of this last max-pooling step to the output (the fruit classes). The first thing we need to do is to flatten the output. The output of the max-pooling is a tensor of shape (5, 5, 32). The size of 5 is a result of the two max-pooling operations and the 32 is the number of filters from the second convolution. The `Flatten()` function will flatten this into a rank 1 tensor of shape (800). "
   ]
  },
  {
   "cell_type": "code",
   "execution_count": 22,
   "metadata": {},
   "outputs": [],
   "source": [
    "model.add(Flatten())"
   ]
  },
  {
   "cell_type": "markdown",
   "metadata": {},
   "source": [
    "Next we'll pass this flattened layer through a dense layer, with a ReLU activation and a dropout"
   ]
  },
  {
   "cell_type": "code",
   "execution_count": 23,
   "metadata": {},
   "outputs": [],
   "source": [
    "model.add(Dense(units = 100))\n",
    "model.add(ReLU())\n",
    "model.add(Dropout(.5))"
   ]
  },
  {
   "cell_type": "markdown",
   "metadata": {},
   "source": [
    "Finally, we need to output predictions. As this is a multiclass task, the final layer needs to have the same number of nodes as classes (16). This is passed through a softmax activation function. This transforms the predictions for all classes into probabilities (i.e. they have to sum to 1). "
   ]
  },
  {
   "cell_type": "code",
   "execution_count": 24,
   "metadata": {},
   "outputs": [],
   "source": [
    "model.add(Dense(units = output_n, activation = 'softmax'))"
   ]
  },
  {
   "cell_type": "markdown",
   "metadata": {},
   "source": [
    "Let's take a look at the whole thing:"
   ]
  },
  {
   "cell_type": "code",
   "execution_count": 25,
   "metadata": {},
   "outputs": [
    {
     "name": "stdout",
     "output_type": "stream",
     "text": [
      "Model: \"sequential\"\n",
      "_________________________________________________________________\n",
      "Layer (type)                 Output Shape              Param #   \n",
      "=================================================================\n",
      "conv2d (Conv2D)              (None, 20, 20, 16)        448       \n",
      "_________________________________________________________________\n",
      "re_lu (ReLU)                 (None, 20, 20, 16)        0         \n",
      "_________________________________________________________________\n",
      "max_pooling2d (MaxPooling2D) (None, 10, 10, 16)        0         \n",
      "_________________________________________________________________\n",
      "dropout (Dropout)            (None, 10, 10, 16)        0         \n",
      "_________________________________________________________________\n",
      "conv2d_1 (Conv2D)            (None, 10, 10, 32)        4640      \n",
      "_________________________________________________________________\n",
      "leaky_re_lu (LeakyReLU)      (None, 10, 10, 32)        0         \n",
      "_________________________________________________________________\n",
      "batch_normalization (BatchNo (None, 10, 10, 32)        128       \n",
      "_________________________________________________________________\n",
      "max_pooling2d_1 (MaxPooling2 (None, 5, 5, 32)          0         \n",
      "_________________________________________________________________\n",
      "dropout_1 (Dropout)          (None, 5, 5, 32)          0         \n",
      "_________________________________________________________________\n",
      "flatten (Flatten)            (None, 800)               0         \n",
      "_________________________________________________________________\n",
      "dense (Dense)                (None, 100)               80100     \n",
      "_________________________________________________________________\n",
      "re_lu_1 (ReLU)               (None, 100)               0         \n",
      "_________________________________________________________________\n",
      "dropout_2 (Dropout)          (None, 100)               0         \n",
      "_________________________________________________________________\n",
      "dense_1 (Dense)              (None, 16)                1616      \n",
      "=================================================================\n",
      "Total params: 86,932\n",
      "Trainable params: 86,868\n",
      "Non-trainable params: 64\n",
      "_________________________________________________________________\n"
     ]
    }
   ],
   "source": [
    "model.summary()"
   ]
  },
  {
   "cell_type": "markdown",
   "metadata": {},
   "source": [
    "Our model has a little under 87,000 parameters or weights to train (hence the need for a lot of images). Note that there are small set of non-trainable parameter from the normalization layer. If you'd rather build the model in one go, here's the code for that:"
   ]
  },
  {
   "cell_type": "code",
   "execution_count": 26,
   "metadata": {},
   "outputs": [],
   "source": [
    "model = Sequential([   \n",
    "    Conv2D(filters = 16, kernel_size = (3,3), padding = 'same', \n",
    "           input_shape = (img_width, img_height, channels), activation = 'relu'),\n",
    "    ReLU(),\n",
    "    MaxPooling2D(pool_size = (2,2)),\n",
    "    Conv2D(filters = 32, kernel_size = (3,3), padding = 'same'),\n",
    "    LeakyReLU(.5),\n",
    "    BatchNormalization(),\n",
    "    MaxPooling2D(pool_size = (2,2)),\n",
    "    Dropout(.25),\n",
    "    Flatten(),\n",
    "    Dense(units = 100),\n",
    "    ReLU(),\n",
    "    Dropout(.5),\n",
    "    Dense(units = output_n, activation = 'softmax')\n",
    "])"
   ]
  },
  {
   "cell_type": "code",
   "execution_count": 27,
   "metadata": {},
   "outputs": [
    {
     "data": {
      "image/png": "[encoded data removed]",
      "text/plain": [
       "<IPython.core.display.Image object>"
      ]
     },
     "execution_count": 27,
     "metadata": {},
     "output_type": "execute_result"
    }
   ],
   "source": [
    "from tensorflow.keras.utils import plot_model\n",
    "plot_model(model)"
   ]
  },
  {
   "cell_type": "markdown",
   "metadata": {},
   "source": [
    "Now let's define an optimization function, loss function and performance metric. A good option for the loss function is `categorical_crossentropy`, which tries to maximize the difference between the distribution of multiple categories. We'll use a backpropagation optimizer, but change the default option for the learning rate (`lr`) to a lower value. This will limit the update to the weights as the model trains, which results in a slower training but a reduced risk of overfitting. The `decay` parameter acts to reduce the learning rate even further at each iteration of the model. "
   ]
  },
  {
   "cell_type": "code",
   "execution_count": 28,
   "metadata": {},
   "outputs": [],
   "source": [
    "model.compile(loss = 'categorical_crossentropy', \n",
    "              metrics = ['accuracy'], \n",
    "              optimizer = RMSprop(lr = 1e-4, decay = 1e-6))"
   ]
  },
  {
   "cell_type": "markdown",
   "metadata": {},
   "source": [
    "### Training the model\n",
    "\n",
    "We'll now train the model for 20 epochs. As we are using a data generator function to supply the images and data to the model, we use the `fit_generator()` method instead of the `fit()` function we have previously used. We specify:\n",
    "\n",
    "- `train_image_array_gen`: The generator of the training samples\n",
    "- `steps_per_epoch`: The number of update steps in each epoch (usually just number of samples / batch size)\n",
    "- `epochs`: number of full training iterations\n",
    "- `validation_data`: the generator of the validation samples\n",
    "- `validation_steps`: the number of validation steps per epoch\n",
    "\n",
    "This takes a few minutes to train (on my laptop). It's worth remembering what is going on here: the algorithm is reading in batches of 32 images, rescaling them, updating model weights through back propagation and then repeating the whole thing 20 times. "
   ]
  },
  {
   "cell_type": "code",
   "execution_count": 29,
   "metadata": {},
   "outputs": [
    {
     "name": "stdout",
     "output_type": "stream",
     "text": [
      "Epoch 1/20\n",
      "168/168 [==============================] - 43s 257ms/step - loss: 2.5999 - accuracy: 0.1980 - val_loss: 2.5540 - val_accuracy: 0.2943\n",
      "Epoch 2/20\n",
      "168/168 [==============================] - 40s 241ms/step - loss: 1.8314 - accuracy: 0.3850 - val_loss: 1.8759 - val_accuracy: 0.5894\n",
      "Epoch 3/20\n",
      "168/168 [==============================] - 40s 241ms/step - loss: 1.3789 - accuracy: 0.5435 - val_loss: 1.0545 - val_accuracy: 0.8655\n",
      "Epoch 4/20\n",
      "168/168 [==============================] - 39s 231ms/step - loss: 1.0240 - accuracy: 0.6605 - val_loss: 0.5275 - val_accuracy: 0.9245\n",
      "Epoch 5/20\n",
      "168/168 [==============================] - 39s 233ms/step - loss: 0.7935 - accuracy: 0.7324 - val_loss: 0.3277 - val_accuracy: 0.9275\n",
      "Epoch 6/20\n",
      "168/168 [==============================] - 39s 233ms/step - loss: 0.6202 - accuracy: 0.7964 - val_loss: 0.2454 - val_accuracy: 0.9431\n",
      "Epoch 7/20\n",
      "168/168 [==============================] - 44s 263ms/step - loss: 0.4881 - accuracy: 0.8391 - val_loss: 0.1800 - val_accuracy: 0.9501\n",
      "Epoch 8/20\n",
      "168/168 [==============================] - 44s 259ms/step - loss: 0.3947 - accuracy: 0.8741 - val_loss: 0.1524 - val_accuracy: 0.9510\n",
      "Epoch 9/20\n",
      "168/168 [==============================] - 40s 238ms/step - loss: 0.3077 - accuracy: 0.9009 - val_loss: 0.1305 - val_accuracy: 0.9562\n",
      "Epoch 10/20\n",
      "168/168 [==============================] - 38s 224ms/step - loss: 0.2605 - accuracy: 0.9194 - val_loss: 0.0985 - val_accuracy: 0.9670\n",
      "Epoch 11/20\n",
      "168/168 [==============================] - 39s 232ms/step - loss: 0.2062 - accuracy: 0.9339 - val_loss: 0.0814 - val_accuracy: 0.9688\n",
      "Epoch 12/20\n",
      "168/168 [==============================] - 39s 232ms/step - loss: 0.1736 - accuracy: 0.9454 - val_loss: 0.0541 - val_accuracy: 0.9896\n",
      "Epoch 13/20\n",
      "168/168 [==============================] - 39s 235ms/step - loss: 0.1462 - accuracy: 0.9542 - val_loss: 0.0516 - val_accuracy: 0.9783\n",
      "Epoch 14/20\n",
      "168/168 [==============================] - 41s 242ms/step - loss: 0.1189 - accuracy: 0.9618 - val_loss: 0.0429 - val_accuracy: 0.9857\n",
      "Epoch 15/20\n",
      "168/168 [==============================] - 41s 242ms/step - loss: 0.1118 - accuracy: 0.9663 - val_loss: 0.0287 - val_accuracy: 0.9978\n",
      "Epoch 16/20\n",
      "168/168 [==============================] - 39s 235ms/step - loss: 0.1032 - accuracy: 0.9668 - val_loss: 0.0230 - val_accuracy: 0.9952\n",
      "Epoch 17/20\n",
      "168/168 [==============================] - 41s 244ms/step - loss: 0.0814 - accuracy: 0.9758 - val_loss: 0.0262 - val_accuracy: 0.9948\n",
      "Epoch 18/20\n",
      "168/168 [==============================] - 42s 249ms/step - loss: 0.0741 - accuracy: 0.9771 - val_loss: 0.0209 - val_accuracy: 0.9996\n",
      "Epoch 19/20\n",
      "168/168 [==============================] - 40s 237ms/step - loss: 0.0676 - accuracy: 0.9795 - val_loss: 0.0294 - val_accuracy: 0.9861\n",
      "Epoch 20/20\n",
      "168/168 [==============================] - 39s 230ms/step - loss: 0.0561 - accuracy: 0.9834 - val_loss: 0.0160 - val_accuracy: 0.9978\n"
     ]
    }
   ],
   "source": [
    "epochs = 20\n",
    "hist = model.fit_generator(\n",
    "  # training data\n",
    "  train_image_array_gen,\n",
    "\n",
    "  # epochs\n",
    "  steps_per_epoch = train_samples // batch_size, \n",
    "  epochs = epochs, \n",
    "\n",
    "  # validation data\n",
    "  validation_data = valid_image_array_gen,\n",
    "  validation_steps = valid_samples // batch_size,\n",
    "\n",
    "  # print progress\n",
    "  verbose = 1\n",
    ")"
   ]
  },
  {
   "cell_type": "markdown",
   "metadata": {},
   "source": [
    "Now plot the evolution of the loss function and performance metric:"
   ]
  },
  {
   "cell_type": "code",
   "execution_count": 30,
   "metadata": {},
   "outputs": [
    {
     "data": {
      "image/png": "[encoded data removed]",
      "text/plain": [
       "<Figure size 432x288 with 1 Axes>"
      ]
     },
     "metadata": {
      "needs_background": "light"
     },
     "output_type": "display_data"
    }
   ],
   "source": [
    "plt.plot(hist.history['loss'], label='train')\n",
    "plt.plot(hist.history['val_loss'], label='test')\n",
    "plt.legend()\n",
    "plt.show()"
   ]
  },
  {
   "cell_type": "markdown",
   "metadata": {},
   "source": [
    "The plot shows a good evolution of both the loss and performance metrics. "
   ]
  },
  {
   "cell_type": "markdown",
   "metadata": {},
   "source": [
    "### Model evaluation\n",
    "\n",
    "We'll now evaluate this model on the set of test images. Normally, we'd retrain the model using the full training set (including the validation set), but to save time, we'll just proceed with the existing model. In order to do this, we first need to create a new image generator for the test images:"
   ]
  },
  {
   "cell_type": "code",
   "execution_count": 31,
   "metadata": {},
   "outputs": [
    {
     "name": "stdout",
     "output_type": "stream",
     "text": [
      "Found 2592 images belonging to 16 classes.\n"
     ]
    }
   ],
   "source": [
    "test_image_files_path = path + \"Test\"\n",
    "# test images\n",
    "test_data_gen = ImageDataGenerator(\n",
    "    rescale = 1./255\n",
    ")\n",
    "test_image_array_gen = test_data_gen.flow_from_directory(test_image_files_path, \n",
    "                                                         target_size = target_size,\n",
    "                                                         classes = fruit_list,\n",
    "                                                         class_mode = 'categorical',\n",
    "                                                         shuffle = False,\n",
    "                                                         seed = 42)"
   ]
  },
  {
   "cell_type": "markdown",
   "metadata": {},
   "source": [
    "The only differences here from the previous code is that we use the test image folder, and we no longer specify a validation parameter. Now we can use this to evaluate the model:"
   ]
  },
  {
   "cell_type": "code",
   "execution_count": 32,
   "metadata": {},
   "outputs": [
    {
     "name": "stdout",
     "output_type": "stream",
     "text": [
      "81/81 [==============================] - 3s 38ms/step - loss: 0.0096 - accuracy: 1.0000\n"
     ]
    }
   ],
   "source": [
    "test_loss, test_acc = model.evaluate(test_image_array_gen)"
   ]
  },
  {
   "cell_type": "code",
   "execution_count": 33,
   "metadata": {},
   "outputs": [
    {
     "name": "stdout",
     "output_type": "stream",
     "text": [
      "Cross-entropy loss: 0.0096\n",
      "Accuracy: 1.0000\n"
     ]
    }
   ],
   "source": [
    "print('Cross-entropy loss: %.4f'\n",
    "      % test_loss)\n",
    "print('Accuracy: %.4f'\n",
    "      % test_acc)"
   ]
  },
  {
   "cell_type": "markdown",
   "metadata": {},
   "source": [
    "Which gives us an accuracy of close to 1, which is a very good classifier. It is worth noting that this is partly because the images have all been cleaned and prepared; achieving this level of accuracy with images take 'in the wild' would require much more work in setting up and training the model."
   ]
  },
  {
   "cell_type": "markdown",
   "metadata": {},
   "source": [
    "### Predicting classes\n",
    "\n",
    "We'll finish by obtaining predictions for the set of test images, and building a confusion matrix based on these. Predictions for new samples can be obtained using the `predict()` function. Note that if you were predicting for completely new images, you would need to make a new generator for these. "
   ]
  },
  {
   "cell_type": "code",
   "execution_count": 34,
   "metadata": {},
   "outputs": [
    {
     "data": {
      "text/plain": [
       "(2592, 16)"
      ]
     },
     "execution_count": 34,
     "metadata": {},
     "output_type": "execute_result"
    }
   ],
   "source": [
    "test_pred = model.predict(test_image_array_gen)\n",
    "test_pred.shape"
   ]
  },
  {
   "cell_type": "markdown",
   "metadata": {},
   "source": [
    "For each image, there is the predicted probability of each class:"
   ]
  },
  {
   "cell_type": "code",
   "execution_count": 35,
   "metadata": {},
   "outputs": [
    {
     "data": {
      "text/plain": [
       "array([9.9508792e-01, 6.1415420e-05, 2.6754838e-06, 1.9365105e-05,\n",
       "       4.5193746e-03, 4.3977579e-08, 1.4272256e-06, 4.5594188e-08,\n",
       "       1.6265754e-05, 2.2662169e-04, 4.2518095e-05, 1.5553999e-06,\n",
       "       6.5679831e-07, 7.4889067e-07, 1.3723995e-05, 5.5743694e-06],\n",
       "      dtype=float32)"
      ]
     },
     "execution_count": 35,
     "metadata": {},
     "output_type": "execute_result"
    }
   ],
   "source": [
    "test_pred[0,]"
   ]
  },
  {
   "cell_type": "markdown",
   "metadata": {},
   "source": [
    "To get the predicted labels, we simply need to find the column with the highest probability. We can use Numpy's `argmax()` function for this:"
   ]
  },
  {
   "cell_type": "code",
   "execution_count": 36,
   "metadata": {},
   "outputs": [],
   "source": [
    "test_pred = np.argmax(test_pred, axis=1)"
   ]
  },
  {
   "cell_type": "markdown",
   "metadata": {},
   "source": [
    "The test generator stores the observed labels for the test set, so let's extract that and store it as `obs_class`:"
   ]
  },
  {
   "cell_type": "code",
   "execution_count": 37,
   "metadata": {},
   "outputs": [],
   "source": [
    "test_obs = test_image_array_gen.classes"
   ]
  },
  {
   "cell_type": "markdown",
   "metadata": {},
   "source": [
    "We can now make a confusion matrix between the observed and predicted classes:"
   ]
  },
  {
   "cell_type": "code",
   "execution_count": 38,
   "metadata": {},
   "outputs": [
    {
     "data": {
      "text/plain": [
       "array([[156,   0,   0,   0,   0,   0,   0,   0,   0,   0,   0,   0,   0,\n",
       "          0,   0,   0],\n",
       "       [  0, 166,   0,   0,   0,   0,   0,   0,   0,   0,   0,   0,   0,\n",
       "          0,   0,   0],\n",
       "       [  0,   0, 164,   0,   0,   0,   0,   0,   0,   0,   0,   0,   0,\n",
       "          0,   0,   0],\n",
       "       [  0,   0,   0, 143,   0,   0,   0,   0,   0,   0,   0,   0,   0,\n",
       "          0,   0,   0],\n",
       "       [  0,   0,   0,   0, 166,   0,   0,   0,   0,   0,   0,   0,   0,\n",
       "          0,   0,   0],\n",
       "       [  0,   0,   0,   0,   0, 166,   0,   0,   0,   0,   0,   0,   0,\n",
       "          0,   0,   0],\n",
       "       [  0,   0,   0,   0,   0,   0, 166,   0,   0,   0,   0,   0,   0,\n",
       "          0,   0,   0],\n",
       "       [  0,   0,   0,   0,   0,   0,   0, 160,   0,   0,   0,   0,   0,\n",
       "          0,   0,   0],\n",
       "       [  0,   0,   0,   0,   0,   0,   0,   0, 166,   0,   0,   0,   0,\n",
       "          0,   0,   0],\n",
       "       [  0,   0,   0,   0,   0,   0,   0,   0,   0, 164,   0,   0,   0,\n",
       "          0,   0,   0],\n",
       "       [  0,   0,   0,   0,   0,   0,   0,   0,   0,   0, 164,   0,   0,\n",
       "          0,   0,   0],\n",
       "       [  0,   0,   0,   0,   0,   0,   0,   0,   0,   0,   0, 151,   0,\n",
       "          0,   0,   0],\n",
       "       [  0,   0,   0,   0,   0,   0,   0,   0,   0,   0,   0,   0, 166,\n",
       "          0,   0,   0],\n",
       "       [  0,   0,   0,   0,   0,   0,   0,   0,   0,   0,   0,   0,   0,\n",
       "        164,   0,   0],\n",
       "       [  0,   0,   0,   0,   0,   0,   0,   0,   0,   0,   0,   0,   0,\n",
       "          0, 166,   0],\n",
       "       [  0,   0,   0,   0,   0,   0,   0,   0,   0,   0,   0,   0,   0,\n",
       "          0,   0, 164]])"
      ]
     },
     "execution_count": 38,
     "metadata": {},
     "output_type": "execute_result"
    }
   ],
   "source": [
    "from sklearn.metrics import confusion_matrix\n",
    "confusion_matrix(test_obs, test_pred)"
   ]
  },
  {
   "cell_type": "markdown",
   "metadata": {},
   "source": [
    "Note that the row and column indices are integer values due to the numeric representaiton of the classes in the model. We can simply replace these with the fruit labels and make a DataFrame:"
   ]
  },
  {
   "cell_type": "code",
   "execution_count": 39,
   "metadata": {},
   "outputs": [
    {
     "data": {
      "text/html": [
       "<div>\n",
       "<style scoped>\n",
       "    .dataframe tbody tr th:only-of-type {\n",
       "        vertical-align: middle;\n",
       "    }\n",
       "\n",
       "    .dataframe tbody tr th {\n",
       "        vertical-align: top;\n",
       "    }\n",
       "\n",
       "    .dataframe thead th {\n",
       "        text-align: right;\n",
       "    }\n",
       "</style>\n",
       "<table border=\"1\" class=\"dataframe\">\n",
       "  <thead>\n",
       "    <tr style=\"text-align: right;\">\n",
       "      <th></th>\n",
       "      <th>Kiwi</th>\n",
       "      <th>Banana</th>\n",
       "      <th>Apricot</th>\n",
       "      <th>Avocado</th>\n",
       "      <th>Cocos</th>\n",
       "      <th>Clementine</th>\n",
       "      <th>Mandarine</th>\n",
       "      <th>Orange</th>\n",
       "      <th>Limes</th>\n",
       "      <th>Lemon</th>\n",
       "      <th>Peach</th>\n",
       "      <th>Plum</th>\n",
       "      <th>Raspberry</th>\n",
       "      <th>Strawberry</th>\n",
       "      <th>Pineapple</th>\n",
       "      <th>Pomegranate</th>\n",
       "    </tr>\n",
       "  </thead>\n",
       "  <tbody>\n",
       "    <tr>\n",
       "      <th>Kiwi</th>\n",
       "      <td>156</td>\n",
       "      <td>0</td>\n",
       "      <td>0</td>\n",
       "      <td>0</td>\n",
       "      <td>0</td>\n",
       "      <td>0</td>\n",
       "      <td>0</td>\n",
       "      <td>0</td>\n",
       "      <td>0</td>\n",
       "      <td>0</td>\n",
       "      <td>0</td>\n",
       "      <td>0</td>\n",
       "      <td>0</td>\n",
       "      <td>0</td>\n",
       "      <td>0</td>\n",
       "      <td>0</td>\n",
       "    </tr>\n",
       "    <tr>\n",
       "      <th>Banana</th>\n",
       "      <td>0</td>\n",
       "      <td>166</td>\n",
       "      <td>0</td>\n",
       "      <td>0</td>\n",
       "      <td>0</td>\n",
       "      <td>0</td>\n",
       "      <td>0</td>\n",
       "      <td>0</td>\n",
       "      <td>0</td>\n",
       "      <td>0</td>\n",
       "      <td>0</td>\n",
       "      <td>0</td>\n",
       "      <td>0</td>\n",
       "      <td>0</td>\n",
       "      <td>0</td>\n",
       "      <td>0</td>\n",
       "    </tr>\n",
       "    <tr>\n",
       "      <th>Apricot</th>\n",
       "      <td>0</td>\n",
       "      <td>0</td>\n",
       "      <td>164</td>\n",
       "      <td>0</td>\n",
       "      <td>0</td>\n",
       "      <td>0</td>\n",
       "      <td>0</td>\n",
       "      <td>0</td>\n",
       "      <td>0</td>\n",
       "      <td>0</td>\n",
       "      <td>0</td>\n",
       "      <td>0</td>\n",
       "      <td>0</td>\n",
       "      <td>0</td>\n",
       "      <td>0</td>\n",
       "      <td>0</td>\n",
       "    </tr>\n",
       "    <tr>\n",
       "      <th>Avocado</th>\n",
       "      <td>0</td>\n",
       "      <td>0</td>\n",
       "      <td>0</td>\n",
       "      <td>143</td>\n",
       "      <td>0</td>\n",
       "      <td>0</td>\n",
       "      <td>0</td>\n",
       "      <td>0</td>\n",
       "      <td>0</td>\n",
       "      <td>0</td>\n",
       "      <td>0</td>\n",
       "      <td>0</td>\n",
       "      <td>0</td>\n",
       "      <td>0</td>\n",
       "      <td>0</td>\n",
       "      <td>0</td>\n",
       "    </tr>\n",
       "    <tr>\n",
       "      <th>Cocos</th>\n",
       "      <td>0</td>\n",
       "      <td>0</td>\n",
       "      <td>0</td>\n",
       "      <td>0</td>\n",
       "      <td>166</td>\n",
       "      <td>0</td>\n",
       "      <td>0</td>\n",
       "      <td>0</td>\n",
       "      <td>0</td>\n",
       "      <td>0</td>\n",
       "      <td>0</td>\n",
       "      <td>0</td>\n",
       "      <td>0</td>\n",
       "      <td>0</td>\n",
       "      <td>0</td>\n",
       "      <td>0</td>\n",
       "    </tr>\n",
       "    <tr>\n",
       "      <th>Clementine</th>\n",
       "      <td>0</td>\n",
       "      <td>0</td>\n",
       "      <td>0</td>\n",
       "      <td>0</td>\n",
       "      <td>0</td>\n",
       "      <td>166</td>\n",
       "      <td>0</td>\n",
       "      <td>0</td>\n",
       "      <td>0</td>\n",
       "      <td>0</td>\n",
       "      <td>0</td>\n",
       "      <td>0</td>\n",
       "      <td>0</td>\n",
       "      <td>0</td>\n",
       "      <td>0</td>\n",
       "      <td>0</td>\n",
       "    </tr>\n",
       "    <tr>\n",
       "      <th>Mandarine</th>\n",
       "      <td>0</td>\n",
       "      <td>0</td>\n",
       "      <td>0</td>\n",
       "      <td>0</td>\n",
       "      <td>0</td>\n",
       "      <td>0</td>\n",
       "      <td>166</td>\n",
       "      <td>0</td>\n",
       "      <td>0</td>\n",
       "      <td>0</td>\n",
       "      <td>0</td>\n",
       "      <td>0</td>\n",
       "      <td>0</td>\n",
       "      <td>0</td>\n",
       "      <td>0</td>\n",
       "      <td>0</td>\n",
       "    </tr>\n",
       "    <tr>\n",
       "      <th>Orange</th>\n",
       "      <td>0</td>\n",
       "      <td>0</td>\n",
       "      <td>0</td>\n",
       "      <td>0</td>\n",
       "      <td>0</td>\n",
       "      <td>0</td>\n",
       "      <td>0</td>\n",
       "      <td>160</td>\n",
       "      <td>0</td>\n",
       "      <td>0</td>\n",
       "      <td>0</td>\n",
       "      <td>0</td>\n",
       "      <td>0</td>\n",
       "      <td>0</td>\n",
       "      <td>0</td>\n",
       "      <td>0</td>\n",
       "    </tr>\n",
       "    <tr>\n",
       "      <th>Limes</th>\n",
       "      <td>0</td>\n",
       "      <td>0</td>\n",
       "      <td>0</td>\n",
       "      <td>0</td>\n",
       "      <td>0</td>\n",
       "      <td>0</td>\n",
       "      <td>0</td>\n",
       "      <td>0</td>\n",
       "      <td>166</td>\n",
       "      <td>0</td>\n",
       "      <td>0</td>\n",
       "      <td>0</td>\n",
       "      <td>0</td>\n",
       "      <td>0</td>\n",
       "      <td>0</td>\n",
       "      <td>0</td>\n",
       "    </tr>\n",
       "    <tr>\n",
       "      <th>Lemon</th>\n",
       "      <td>0</td>\n",
       "      <td>0</td>\n",
       "      <td>0</td>\n",
       "      <td>0</td>\n",
       "      <td>0</td>\n",
       "      <td>0</td>\n",
       "      <td>0</td>\n",
       "      <td>0</td>\n",
       "      <td>0</td>\n",
       "      <td>164</td>\n",
       "      <td>0</td>\n",
       "      <td>0</td>\n",
       "      <td>0</td>\n",
       "      <td>0</td>\n",
       "      <td>0</td>\n",
       "      <td>0</td>\n",
       "    </tr>\n",
       "    <tr>\n",
       "      <th>Peach</th>\n",
       "      <td>0</td>\n",
       "      <td>0</td>\n",
       "      <td>0</td>\n",
       "      <td>0</td>\n",
       "      <td>0</td>\n",
       "      <td>0</td>\n",
       "      <td>0</td>\n",
       "      <td>0</td>\n",
       "      <td>0</td>\n",
       "      <td>0</td>\n",
       "      <td>164</td>\n",
       "      <td>0</td>\n",
       "      <td>0</td>\n",
       "      <td>0</td>\n",
       "      <td>0</td>\n",
       "      <td>0</td>\n",
       "    </tr>\n",
       "    <tr>\n",
       "      <th>Plum</th>\n",
       "      <td>0</td>\n",
       "      <td>0</td>\n",
       "      <td>0</td>\n",
       "      <td>0</td>\n",
       "      <td>0</td>\n",
       "      <td>0</td>\n",
       "      <td>0</td>\n",
       "      <td>0</td>\n",
       "      <td>0</td>\n",
       "      <td>0</td>\n",
       "      <td>0</td>\n",
       "      <td>151</td>\n",
       "      <td>0</td>\n",
       "      <td>0</td>\n",
       "      <td>0</td>\n",
       "      <td>0</td>\n",
       "    </tr>\n",
       "    <tr>\n",
       "      <th>Raspberry</th>\n",
       "      <td>0</td>\n",
       "      <td>0</td>\n",
       "      <td>0</td>\n",
       "      <td>0</td>\n",
       "      <td>0</td>\n",
       "      <td>0</td>\n",
       "      <td>0</td>\n",
       "      <td>0</td>\n",
       "      <td>0</td>\n",
       "      <td>0</td>\n",
       "      <td>0</td>\n",
       "      <td>0</td>\n",
       "      <td>166</td>\n",
       "      <td>0</td>\n",
       "      <td>0</td>\n",
       "      <td>0</td>\n",
       "    </tr>\n",
       "    <tr>\n",
       "      <th>Strawberry</th>\n",
       "      <td>0</td>\n",
       "      <td>0</td>\n",
       "      <td>0</td>\n",
       "      <td>0</td>\n",
       "      <td>0</td>\n",
       "      <td>0</td>\n",
       "      <td>0</td>\n",
       "      <td>0</td>\n",
       "      <td>0</td>\n",
       "      <td>0</td>\n",
       "      <td>0</td>\n",
       "      <td>0</td>\n",
       "      <td>0</td>\n",
       "      <td>164</td>\n",
       "      <td>0</td>\n",
       "      <td>0</td>\n",
       "    </tr>\n",
       "    <tr>\n",
       "      <th>Pineapple</th>\n",
       "      <td>0</td>\n",
       "      <td>0</td>\n",
       "      <td>0</td>\n",
       "      <td>0</td>\n",
       "      <td>0</td>\n",
       "      <td>0</td>\n",
       "      <td>0</td>\n",
       "      <td>0</td>\n",
       "      <td>0</td>\n",
       "      <td>0</td>\n",
       "      <td>0</td>\n",
       "      <td>0</td>\n",
       "      <td>0</td>\n",
       "      <td>0</td>\n",
       "      <td>166</td>\n",
       "      <td>0</td>\n",
       "    </tr>\n",
       "    <tr>\n",
       "      <th>Pomegranate</th>\n",
       "      <td>0</td>\n",
       "      <td>0</td>\n",
       "      <td>0</td>\n",
       "      <td>0</td>\n",
       "      <td>0</td>\n",
       "      <td>0</td>\n",
       "      <td>0</td>\n",
       "      <td>0</td>\n",
       "      <td>0</td>\n",
       "      <td>0</td>\n",
       "      <td>0</td>\n",
       "      <td>0</td>\n",
       "      <td>0</td>\n",
       "      <td>0</td>\n",
       "      <td>0</td>\n",
       "      <td>164</td>\n",
       "    </tr>\n",
       "  </tbody>\n",
       "</table>\n",
       "</div>"
      ],
      "text/plain": [
       "             Kiwi  Banana  Apricot  Avocado  Cocos  Clementine  Mandarine  \\\n",
       "Kiwi          156       0        0        0      0           0          0   \n",
       "Banana          0     166        0        0      0           0          0   \n",
       "Apricot         0       0      164        0      0           0          0   \n",
       "Avocado         0       0        0      143      0           0          0   \n",
       "Cocos           0       0        0        0    166           0          0   \n",
       "Clementine      0       0        0        0      0         166          0   \n",
       "Mandarine       0       0        0        0      0           0        166   \n",
       "Orange          0       0        0        0      0           0          0   \n",
       "Limes           0       0        0        0      0           0          0   \n",
       "Lemon           0       0        0        0      0           0          0   \n",
       "Peach           0       0        0        0      0           0          0   \n",
       "Plum            0       0        0        0      0           0          0   \n",
       "Raspberry       0       0        0        0      0           0          0   \n",
       "Strawberry      0       0        0        0      0           0          0   \n",
       "Pineapple       0       0        0        0      0           0          0   \n",
       "Pomegranate     0       0        0        0      0           0          0   \n",
       "\n",
       "             Orange  Limes  Lemon  Peach  Plum  Raspberry  Strawberry  \\\n",
       "Kiwi              0      0      0      0     0          0           0   \n",
       "Banana            0      0      0      0     0          0           0   \n",
       "Apricot           0      0      0      0     0          0           0   \n",
       "Avocado           0      0      0      0     0          0           0   \n",
       "Cocos             0      0      0      0     0          0           0   \n",
       "Clementine        0      0      0      0     0          0           0   \n",
       "Mandarine         0      0      0      0     0          0           0   \n",
       "Orange          160      0      0      0     0          0           0   \n",
       "Limes             0    166      0      0     0          0           0   \n",
       "Lemon             0      0    164      0     0          0           0   \n",
       "Peach             0      0      0    164     0          0           0   \n",
       "Plum              0      0      0      0   151          0           0   \n",
       "Raspberry         0      0      0      0     0        166           0   \n",
       "Strawberry        0      0      0      0     0          0         164   \n",
       "Pineapple         0      0      0      0     0          0           0   \n",
       "Pomegranate       0      0      0      0     0          0           0   \n",
       "\n",
       "             Pineapple  Pomegranate  \n",
       "Kiwi                 0            0  \n",
       "Banana               0            0  \n",
       "Apricot              0            0  \n",
       "Avocado              0            0  \n",
       "Cocos                0            0  \n",
       "Clementine           0            0  \n",
       "Mandarine            0            0  \n",
       "Orange               0            0  \n",
       "Limes                0            0  \n",
       "Lemon                0            0  \n",
       "Peach                0            0  \n",
       "Plum                 0            0  \n",
       "Raspberry            0            0  \n",
       "Strawberry           0            0  \n",
       "Pineapple          166            0  \n",
       "Pomegranate          0          164  "
      ]
     },
     "execution_count": 39,
     "metadata": {},
     "output_type": "execute_result"
    }
   ],
   "source": [
    "cm = confusion_matrix(test_obs, test_pred)\n",
    "\n",
    "df_cm = pd.DataFrame(cm, index = [i for i in fruit_list],\n",
    "                  columns = [i for i in fruit_list])\n",
    "df_cm"
   ]
  },
  {
   "cell_type": "markdown",
   "metadata": {},
   "source": [
    "This shows why we got such a high accuracy - nearly all the images are correctly classified. Let's finish by plotting this result using Seaborn's `heatmap()` function:"
   ]
  },
  {
   "cell_type": "code",
   "execution_count": 40,
   "metadata": {},
   "outputs": [
    {
     "data": {
      "text/plain": [
       "<matplotlib.axes._subplots.AxesSubplot at 0x7fbfd2705ad0>"
      ]
     },
     "execution_count": 40,
     "metadata": {},
     "output_type": "execute_result"
    },
    {
     "data": {
      "image/png": "[encoded data removed]",
      "text/plain": [
       "<Figure size 720x504 with 2 Axes>"
      ]
     },
     "metadata": {
      "needs_background": "light"
     },
     "output_type": "display_data"
    }
   ],
   "source": [
    "plt.figure(figsize = (10,7))\n",
    "sn.heatmap(df_cm, annot=True)"
   ]
  },
  {
   "cell_type": "markdown",
   "metadata": {},
   "source": [
    "The default confusion matrix shows the number of correctly/incorrectly classified images. You can also generate the proportion of correct/incorrect predictions by normalizing the confusion matrix:"
   ]
  },
  {
   "cell_type": "code",
   "execution_count": 41,
   "metadata": {},
   "outputs": [
    {
     "data": {
      "text/plain": [
       "<matplotlib.axes._subplots.AxesSubplot at 0x7fbfd9bf4310>"
      ]
     },
     "execution_count": 41,
     "metadata": {},
     "output_type": "execute_result"
    },
    {
     "data": {
      "image/png": "[encoded data removed]",
      "text/plain": [
       "<Figure size 720x504 with 2 Axes>"
      ]
     },
     "metadata": {
      "needs_background": "light"
     },
     "output_type": "display_data"
    }
   ],
   "source": [
    "cm = confusion_matrix(test_obs, test_pred, normalize='true')\n",
    "\n",
    "df_cm = pd.DataFrame(cm, index = [i for i in fruit_list],\n",
    "                  columns = [i for i in fruit_list])\n",
    "plt.figure(figsize = (10,7))\n",
    "sn.heatmap(df_cm, annot=True)"
   ]
  },
  {
   "cell_type": "markdown",
   "metadata": {},
   "source": [
    "## Appendix\n",
    "\n",
    "This is an example of an image generator that will perform data augmentation. In each epoch, each image is transformed according to a set of random modifications. The parameters here set limits on the amount of transformation that any method will carry out. For example, images will be randomly rotated by an amount between + and - 40 degrees."
   ]
  },
  {
   "cell_type": "code",
   "execution_count": 42,
   "metadata": {},
   "outputs": [],
   "source": [
    "train_data_gen = ImageDataGenerator(\n",
    "    rescale = 1./255, ## Rescale channel values\n",
    "    rotation_range=40, ## Random rotation (+/- 40 degrees)\n",
    "    width_shift_range=0.2, ## Random horizontal shift (+/- proportion of image size)\n",
    "    height_shift_range=0.2, ## Random vertical shift (+/- proportion of image size)\n",
    "    shear_range=0.2, ## Shear angle in counter-clockwise direction in degrees\n",
    "    zoom_range=0.2, ## Zoom range. Zooms by 1 +/- 0.2 from original\n",
    "    horizontal_flip=True, ## Randomly flips 50% of images\n",
    "    fill_mode='nearest', ## How to fill newly created pixels (nearest neighbor)\n",
    ")"
   ]
  }
 ],
 "metadata": {
  "kernelspec": {
   "display_name": "Python 3.8 (tensorflow)",
   "language": "python",
   "name": "tensorflow"
  },
  "language_info": {
   "codemirror_mode": {
    "name": "ipython",
    "version": 3
   },
   "file_extension": ".py",
   "mimetype": "text/x-python",
   "name": "python",
   "nbconvert_exporter": "python",
   "pygments_lexer": "ipython3",
   "version": "3.7.7"
  }
 },
 "nbformat": 4,
 "nbformat_minor": 4
}
