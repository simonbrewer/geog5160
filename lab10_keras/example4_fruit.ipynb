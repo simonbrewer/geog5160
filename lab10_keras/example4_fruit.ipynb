{
 "cells": [
  {
   "cell_type": "markdown",
   "metadata": {},
   "source": [
    "# Fruit image classification\n",
    "\n",
    "Modified from: https://shirinsplayground.netlify.app/2020/09/keras_fruits_update/"
   ]
  },
  {
   "cell_type": "code",
   "execution_count": 1,
   "metadata": {},
   "outputs": [],
   "source": [
    "import os\n",
    "import numpy as np\n",
    "import pandas as pd\n",
    "import matplotlib.pyplot as plt\n",
    "import seaborn as sn\n",
    "\n",
    "# path to image folders\n",
    "path = \"/Users/u0784726/Dropbox/Data/ml/fruits/\"\n",
    "train_image_files_path = path + \"Training\""
   ]
  },
  {
   "cell_type": "code",
   "execution_count": 2,
   "metadata": {},
   "outputs": [],
   "source": [
    "im_file = os.path.join(train_image_files_path, \"Banana\", \"0_100.jpg\")"
   ]
  },
  {
   "cell_type": "code",
   "execution_count": 3,
   "metadata": {},
   "outputs": [
    {
     "data": {
      "image/png": "[encoded data removed]",
      "text/plain": [
       "<PIL.JpegImagePlugin.JpegImageFile image mode=RGB size=100x100 at 0x7FF4C1952190>"
      ]
     },
     "metadata": {},
     "output_type": "display_data"
    }
   ],
   "source": [
    "from PIL import Image               # to load images\n",
    "from IPython.display import display # to display inline images\n",
    "im = Image.open(im_file)\n",
    "#show image\n",
    "display(im)"
   ]
  },
  {
   "cell_type": "markdown",
   "metadata": {},
   "source": [
    "### Project setup\n",
    "\n",
    "Which fruits? This is the list of subdirectories in the training folder (and will also be used as labels for the images)"
   ]
  },
  {
   "cell_type": "code",
   "execution_count": 4,
   "metadata": {},
   "outputs": [],
   "source": [
    "# fruits categories\n",
    "fruit_list = [\"Kiwi\", \"Banana\", \"Apricot\", \"Avocado\", \"Cocos\", \"Clementine\", \"Mandarine\", \"Orange\",\n",
    "                \"Limes\", \"Lemon\", \"Peach\", \"Plum\", \"Raspberry\", \"Strawberry\", \"Pineapple\", \"Pomegranate\"]\n",
    "# number of output classes (i.e. fruits)\n",
    "output_n = len(fruit_list)"
   ]
  },
  {
   "cell_type": "markdown",
   "metadata": {},
   "source": [
    "Image down scaling"
   ]
  },
  {
   "cell_type": "code",
   "execution_count": 5,
   "metadata": {},
   "outputs": [],
   "source": [
    "# image size to scale down to (original images are 100 x 100 px)\n",
    "img_width = 20\n",
    "img_height = 20\n",
    "target_size = (img_width, img_height)"
   ]
  },
  {
   "cell_type": "markdown",
   "metadata": {},
   "source": [
    "Number of available channels"
   ]
  },
  {
   "cell_type": "code",
   "execution_count": 6,
   "metadata": {},
   "outputs": [],
   "source": [
    "# image RGB channels number\n",
    "channels = 3"
   ]
  },
  {
   "cell_type": "markdown",
   "metadata": {},
   "source": [
    "### Model setup"
   ]
  },
  {
   "cell_type": "markdown",
   "metadata": {},
   "source": [
    "This is where we do any preprocessing of individual images. This would include augmentation - the creation of transformed versions of the original images. We create two image *generators*."
   ]
  },
  {
   "cell_type": "code",
   "execution_count": 7,
   "metadata": {},
   "outputs": [],
   "source": [
    "from tensorflow.keras.preprocessing.image import ImageDataGenerator\n",
    "# training images\n",
    "train_data_gen = ImageDataGenerator(\n",
    "    rescale = 1./255,\n",
    "    validation_split = 0.3\n",
    ")"
   ]
  },
  {
   "cell_type": "markdown",
   "metadata": {},
   "source": [
    "Define flows for the generators. These import images in batches, rather than trying to import all images at once. These generators can then be used while training the network. "
   ]
  },
  {
   "cell_type": "code",
   "execution_count": 8,
   "metadata": {},
   "outputs": [],
   "source": [
    "batch_size = 32"
   ]
  },
  {
   "cell_type": "code",
   "execution_count": 9,
   "metadata": {},
   "outputs": [
    {
     "name": "stdout",
     "output_type": "stream",
     "text": [
      "Found 5401 images belonging to 16 classes.\n",
      "Found 2308 images belonging to 16 classes.\n"
     ]
    }
   ],
   "source": [
    "# training images\n",
    "train_image_array_gen = train_data_gen.flow_from_directory(train_image_files_path,                                                            \n",
    "                                                           target_size = target_size,\n",
    "                                                           subset = 'training',\n",
    "                                                           classes = fruit_list, \n",
    "                                                           class_mode = 'categorical',\n",
    "                                                           seed = 42)\n",
    "\n",
    "# validation images\n",
    "valid_image_array_gen = train_data_gen.flow_from_directory(train_image_files_path, \n",
    "                                                           target_size = target_size,\n",
    "                                                           subset = 'validation',\n",
    "                                                           classes = fruit_list,\n",
    "                                                           class_mode = 'categorical',\n",
    "                                                           seed = 42)\n"
   ]
  },
  {
   "cell_type": "code",
   "execution_count": 10,
   "metadata": {},
   "outputs": [],
   "source": [
    "## model definition\n",
    "# number of training samples\n",
    "train_samples = train_image_array_gen.n\n",
    "# number of validation samples\n",
    "valid_samples = valid_image_array_gen.n\n",
    "# define batch size and number of epochs\n",
    "batch_size = 32\n",
    "epochs = 10"
   ]
  },
  {
   "cell_type": "code",
   "execution_count": 11,
   "metadata": {},
   "outputs": [],
   "source": [
    "from tensorflow.keras.models import Sequential\n",
    "from tensorflow.keras.layers import (Conv2D,\n",
    "                          Dense,\n",
    "                          LeakyReLU,\n",
    "                          BatchNormalization, \n",
    "                          MaxPooling2D, \n",
    "                          Dropout,\n",
    "                          Flatten)\n",
    "from tensorflow.keras.optimizers import RMSprop\n",
    "from tensorflow.keras.callbacks import ModelCheckpoint, TensorBoard"
   ]
  },
  {
   "cell_type": "code",
   "execution_count": 12,
   "metadata": {},
   "outputs": [
    {
     "name": "stdout",
     "output_type": "stream",
     "text": [
      "Model: \"sequential\"\n",
      "_________________________________________________________________\n",
      "Layer (type)                 Output Shape              Param #   \n",
      "=================================================================\n",
      "conv2d (Conv2D)              (None, 20, 20, 32)        896       \n",
      "_________________________________________________________________\n",
      "conv2d_1 (Conv2D)            (None, 20, 20, 16)        4624      \n",
      "_________________________________________________________________\n",
      "leaky_re_lu (LeakyReLU)      (None, 20, 20, 16)        0         \n",
      "_________________________________________________________________\n",
      "batch_normalization (BatchNo (None, 20, 20, 16)        64        \n",
      "_________________________________________________________________\n",
      "max_pooling2d (MaxPooling2D) (None, 10, 10, 16)        0         \n",
      "_________________________________________________________________\n",
      "dropout (Dropout)            (None, 10, 10, 16)        0         \n",
      "_________________________________________________________________\n",
      "flatten (Flatten)            (None, 1600)              0         \n",
      "_________________________________________________________________\n",
      "dense (Dense)                (None, 100)               160100    \n",
      "_________________________________________________________________\n",
      "dropout_1 (Dropout)          (None, 100)               0         \n",
      "_________________________________________________________________\n",
      "dense_1 (Dense)              (None, 16)                1616      \n",
      "=================================================================\n",
      "Total params: 167,300\n",
      "Trainable params: 167,268\n",
      "Non-trainable params: 32\n",
      "_________________________________________________________________\n",
      "None\n"
     ]
    }
   ],
   "source": [
    "model = Sequential([   \n",
    "    Conv2D(filters = 32, kernel_size = (3,3), padding = 'same', \n",
    "           input_shape = (img_width, img_height, channels), activation = 'relu'),\n",
    "    Conv2D(filters = 16, kernel_size = (3,3), padding = 'same'),\n",
    "    LeakyReLU(.5),\n",
    "    BatchNormalization(),\n",
    "    MaxPooling2D(pool_size = (2,2)),\n",
    "    Dropout(.25),\n",
    "    Flatten(),\n",
    "    Dense(units = 100, activation = 'relu'),\n",
    "    Dropout(.5),\n",
    "    Dense(units = output_n, activation = 'softmax')\n",
    "])\n",
    "print(model.summary())"
   ]
  },
  {
   "cell_type": "code",
   "execution_count": 13,
   "metadata": {},
   "outputs": [
    {
     "data": {
      "image/png": "[encoded data removed]",
      "text/plain": [
       "<IPython.core.display.Image object>"
      ]
     },
     "execution_count": 13,
     "metadata": {},
     "output_type": "execute_result"
    }
   ],
   "source": [
    "from tensorflow.keras.utils import plot_model\n",
    "plot_model(model)"
   ]
  },
  {
   "cell_type": "code",
   "execution_count": 14,
   "metadata": {},
   "outputs": [],
   "source": [
    "# compile the model\n",
    "model.compile(loss = 'categorical_crossentropy', \n",
    "              metrics = ['accuracy'], \n",
    "              optimizer = RMSprop(lr = 1e-4, decay = 1e-6))"
   ]
  },
  {
   "cell_type": "code",
   "execution_count": 15,
   "metadata": {},
   "outputs": [
    {
     "name": "stdout",
     "output_type": "stream",
     "text": [
      "Epoch 1/10\n",
      "168/168 [==============================] - 44s 263ms/step - loss: 2.0367 - accuracy: 0.3520 - val_loss: 2.1378 - val_accuracy: 0.5777\n",
      "Epoch 2/10\n",
      "168/168 [==============================] - 42s 252ms/step - loss: 1.0613 - accuracy: 0.6355 - val_loss: 1.0679 - val_accuracy: 0.9431\n",
      "Epoch 3/10\n",
      "168/168 [==============================] - 42s 253ms/step - loss: 0.6168 - accuracy: 0.7923 - val_loss: 0.3317 - val_accuracy: 0.9770\n",
      "Epoch 4/10\n",
      "168/168 [==============================] - 38s 228ms/step - loss: 0.3869 - accuracy: 0.8717 - val_loss: 0.1141 - val_accuracy: 0.9787\n",
      "Epoch 5/10\n",
      "168/168 [==============================] - 40s 239ms/step - loss: 0.2597 - accuracy: 0.9195 - val_loss: 0.0786 - val_accuracy: 0.9774\n",
      "Epoch 6/10\n",
      "168/168 [==============================] - 40s 240ms/step - loss: 0.1749 - accuracy: 0.9492 - val_loss: 0.0524 - val_accuracy: 0.9826\n",
      "Epoch 7/10\n",
      "168/168 [==============================] - 42s 250ms/step - loss: 0.1297 - accuracy: 0.9639 - val_loss: 0.0304 - val_accuracy: 0.9970\n",
      "Epoch 8/10\n",
      "168/168 [==============================] - 42s 252ms/step - loss: 0.1016 - accuracy: 0.9717 - val_loss: 0.0390 - val_accuracy: 0.9826\n",
      "Epoch 9/10\n",
      "168/168 [==============================] - 42s 249ms/step - loss: 0.0839 - accuracy: 0.9737 - val_loss: 0.0410 - val_accuracy: 0.9831\n",
      "Epoch 10/10\n",
      "168/168 [==============================] - 43s 255ms/step - loss: 0.0687 - accuracy: 0.9810 - val_loss: 0.0315 - val_accuracy: 0.9852\n"
     ]
    }
   ],
   "source": [
    "# train the model\n",
    "hist = model.fit_generator(\n",
    "  # training data\n",
    "  train_image_array_gen,\n",
    "\n",
    "  # epochs\n",
    "  steps_per_epoch = train_samples // batch_size, \n",
    "  epochs = epochs, \n",
    "\n",
    "  # validation data\n",
    "  validation_data = valid_image_array_gen,\n",
    "  validation_steps = valid_samples // batch_size,\n",
    "\n",
    "  # print progress\n",
    "  verbose = 1\n",
    "  #callbacks = [\n",
    "    # save best model after every epoch\n",
    "  #  ModelCheckpoint(\"fruits_checkpoints.h5\", save_best_only = True),\n",
    "    # only needed for visualising with TensorBoard\n",
    "  #  TensorBoard(log_dir = \"fruits_logs\")\n",
    "  #]\n",
    ")"
   ]
  },
  {
   "cell_type": "code",
   "execution_count": 16,
   "metadata": {},
   "outputs": [
    {
     "data": {
      "image/png": "[encoded data removed]",
      "text/plain": [
       "<Figure size 432x288 with 1 Axes>"
      ]
     },
     "metadata": {
      "needs_background": "light"
     },
     "output_type": "display_data"
    }
   ],
   "source": [
    "plt.plot(hist.history['loss'], label='train')\n",
    "plt.plot(hist.history['val_loss'], label='test')\n",
    "plt.legend()\n",
    "plt.show()"
   ]
  },
  {
   "cell_type": "code",
   "execution_count": 18,
   "metadata": {},
   "outputs": [
    {
     "name": "stdout",
     "output_type": "stream",
     "text": [
      "Found 2592 images belonging to 16 classes.\n"
     ]
    }
   ],
   "source": [
    "test_image_files_path = path + \"Test\"\n",
    "# test images\n",
    "test_data_gen = ImageDataGenerator(\n",
    "    rescale = 1./255\n",
    ")\n",
    "test_image_array_gen = test_data_gen.flow_from_directory(test_image_files_path, \n",
    "                                                         target_size = target_size,\n",
    "                                                         classes = fruit_list,\n",
    "                                                         class_mode = 'categorical',\n",
    "                                                         shuffle = False,\n",
    "                                                         seed = 42)"
   ]
  },
  {
   "cell_type": "code",
   "execution_count": 19,
   "metadata": {},
   "outputs": [
    {
     "name": "stdout",
     "output_type": "stream",
     "text": [
      "81/81 [==============================] - 3s 38ms/step - loss: 0.0365 - accuracy: 0.9938\n"
     ]
    }
   ],
   "source": [
    "test_loss, test_acc = model.evaluate(test_image_array_gen)"
   ]
  },
  {
   "cell_type": "code",
   "execution_count": 20,
   "metadata": {},
   "outputs": [
    {
     "name": "stdout",
     "output_type": "stream",
     "text": [
      "Cross-entropy loss: 0.0365\n",
      "Accuracy: 0.9938\n"
     ]
    }
   ],
   "source": [
    "print('Cross-entropy loss: %.4f'\n",
    "      % test_loss)\n",
    "print('Accuracy: %.4f'\n",
    "      % test_acc)"
   ]
  },
  {
   "cell_type": "code",
   "execution_count": 21,
   "metadata": {},
   "outputs": [
    {
     "data": {
      "text/plain": [
       "(2592, 16)"
      ]
     },
     "execution_count": 21,
     "metadata": {},
     "output_type": "execute_result"
    }
   ],
   "source": [
    "test_pred = model.predict(test_image_array_gen)\n",
    "test_pred.shape"
   ]
  },
  {
   "cell_type": "code",
   "execution_count": 22,
   "metadata": {},
   "outputs": [],
   "source": [
    "test_obs = test_image_array_gen.classes"
   ]
  },
  {
   "cell_type": "code",
   "execution_count": 23,
   "metadata": {},
   "outputs": [],
   "source": [
    "test_pred = np.argmax(test_pred, axis=1)"
   ]
  },
  {
   "cell_type": "code",
   "execution_count": 24,
   "metadata": {},
   "outputs": [
    {
     "data": {
      "text/plain": [
       "array([[156,   0,   0,   0,   0,   0,   0,   0,   0,   0,   0,   0,   0,\n",
       "          0,   0,   0],\n",
       "       [  0, 166,   0,   0,   0,   0,   0,   0,   0,   0,   0,   0,   0,\n",
       "          0,   0,   0],\n",
       "       [  0,   0, 164,   0,   0,   0,   0,   0,   0,   0,   0,   0,   0,\n",
       "          0,   0,   0],\n",
       "       [  0,   0,   0, 143,   0,   0,   0,   0,   0,   0,   0,   0,   0,\n",
       "          0,   0,   0],\n",
       "       [  0,   0,   0,   0, 158,   0,   0,   0,   0,   0,   0,   0,   8,\n",
       "          0,   0,   0],\n",
       "       [  0,   0,   0,   0,   0, 166,   0,   0,   0,   0,   0,   0,   0,\n",
       "          0,   0,   0],\n",
       "       [  0,   0,   0,   0,   0,   0, 166,   0,   0,   0,   0,   0,   0,\n",
       "          0,   0,   0],\n",
       "       [  0,   0,   0,   0,   0,   0,   0, 160,   0,   0,   0,   0,   0,\n",
       "          0,   0,   0],\n",
       "       [  0,   0,   0,   0,   0,   0,   0,   0, 166,   0,   0,   0,   0,\n",
       "          0,   0,   0],\n",
       "       [  0,   0,   0,   0,   0,   0,   0,   0,   0, 164,   0,   0,   0,\n",
       "          0,   0,   0],\n",
       "       [  0,   0,   0,   0,   0,   0,   7,   0,   0,   0, 156,   0,   0,\n",
       "          0,   0,   1],\n",
       "       [  0,   0,   0,   0,   0,   0,   0,   0,   0,   0,   0, 151,   0,\n",
       "          0,   0,   0],\n",
       "       [  0,   0,   0,   0,   0,   0,   0,   0,   0,   0,   0,   0, 166,\n",
       "          0,   0,   0],\n",
       "       [  0,   0,   0,   0,   0,   0,   0,   0,   0,   0,   0,   0,   0,\n",
       "        164,   0,   0],\n",
       "       [  0,   0,   0,   0,   0,   0,   0,   0,   0,   0,   0,   0,   0,\n",
       "          0, 166,   0],\n",
       "       [  0,   0,   0,   0,   0,   0,   0,   0,   0,   0,   0,   0,   0,\n",
       "          0,   0, 164]])"
      ]
     },
     "execution_count": 24,
     "metadata": {},
     "output_type": "execute_result"
    }
   ],
   "source": [
    "from sklearn.metrics import confusion_matrix\n",
    "confusion_matrix(test_obs, test_pred)"
   ]
  },
  {
   "cell_type": "code",
   "execution_count": 25,
   "metadata": {},
   "outputs": [
    {
     "data": {
      "text/html": [
       "<div>\n",
       "<style scoped>\n",
       "    .dataframe tbody tr th:only-of-type {\n",
       "        vertical-align: middle;\n",
       "    }\n",
       "\n",
       "    .dataframe tbody tr th {\n",
       "        vertical-align: top;\n",
       "    }\n",
       "\n",
       "    .dataframe thead th {\n",
       "        text-align: right;\n",
       "    }\n",
       "</style>\n",
       "<table border=\"1\" class=\"dataframe\">\n",
       "  <thead>\n",
       "    <tr style=\"text-align: right;\">\n",
       "      <th></th>\n",
       "      <th>Kiwi</th>\n",
       "      <th>Banana</th>\n",
       "      <th>Apricot</th>\n",
       "      <th>Avocado</th>\n",
       "      <th>Cocos</th>\n",
       "      <th>Clementine</th>\n",
       "      <th>Mandarine</th>\n",
       "      <th>Orange</th>\n",
       "      <th>Limes</th>\n",
       "      <th>Lemon</th>\n",
       "      <th>Peach</th>\n",
       "      <th>Plum</th>\n",
       "      <th>Raspberry</th>\n",
       "      <th>Strawberry</th>\n",
       "      <th>Pineapple</th>\n",
       "      <th>Pomegranate</th>\n",
       "    </tr>\n",
       "  </thead>\n",
       "  <tbody>\n",
       "    <tr>\n",
       "      <th>Kiwi</th>\n",
       "      <td>156</td>\n",
       "      <td>0</td>\n",
       "      <td>0</td>\n",
       "      <td>0</td>\n",
       "      <td>0</td>\n",
       "      <td>0</td>\n",
       "      <td>0</td>\n",
       "      <td>0</td>\n",
       "      <td>0</td>\n",
       "      <td>0</td>\n",
       "      <td>0</td>\n",
       "      <td>0</td>\n",
       "      <td>0</td>\n",
       "      <td>0</td>\n",
       "      <td>0</td>\n",
       "      <td>0</td>\n",
       "    </tr>\n",
       "    <tr>\n",
       "      <th>Banana</th>\n",
       "      <td>0</td>\n",
       "      <td>166</td>\n",
       "      <td>0</td>\n",
       "      <td>0</td>\n",
       "      <td>0</td>\n",
       "      <td>0</td>\n",
       "      <td>0</td>\n",
       "      <td>0</td>\n",
       "      <td>0</td>\n",
       "      <td>0</td>\n",
       "      <td>0</td>\n",
       "      <td>0</td>\n",
       "      <td>0</td>\n",
       "      <td>0</td>\n",
       "      <td>0</td>\n",
       "      <td>0</td>\n",
       "    </tr>\n",
       "    <tr>\n",
       "      <th>Apricot</th>\n",
       "      <td>0</td>\n",
       "      <td>0</td>\n",
       "      <td>164</td>\n",
       "      <td>0</td>\n",
       "      <td>0</td>\n",
       "      <td>0</td>\n",
       "      <td>0</td>\n",
       "      <td>0</td>\n",
       "      <td>0</td>\n",
       "      <td>0</td>\n",
       "      <td>0</td>\n",
       "      <td>0</td>\n",
       "      <td>0</td>\n",
       "      <td>0</td>\n",
       "      <td>0</td>\n",
       "      <td>0</td>\n",
       "    </tr>\n",
       "    <tr>\n",
       "      <th>Avocado</th>\n",
       "      <td>0</td>\n",
       "      <td>0</td>\n",
       "      <td>0</td>\n",
       "      <td>143</td>\n",
       "      <td>0</td>\n",
       "      <td>0</td>\n",
       "      <td>0</td>\n",
       "      <td>0</td>\n",
       "      <td>0</td>\n",
       "      <td>0</td>\n",
       "      <td>0</td>\n",
       "      <td>0</td>\n",
       "      <td>0</td>\n",
       "      <td>0</td>\n",
       "      <td>0</td>\n",
       "      <td>0</td>\n",
       "    </tr>\n",
       "    <tr>\n",
       "      <th>Cocos</th>\n",
       "      <td>0</td>\n",
       "      <td>0</td>\n",
       "      <td>0</td>\n",
       "      <td>0</td>\n",
       "      <td>158</td>\n",
       "      <td>0</td>\n",
       "      <td>0</td>\n",
       "      <td>0</td>\n",
       "      <td>0</td>\n",
       "      <td>0</td>\n",
       "      <td>0</td>\n",
       "      <td>0</td>\n",
       "      <td>8</td>\n",
       "      <td>0</td>\n",
       "      <td>0</td>\n",
       "      <td>0</td>\n",
       "    </tr>\n",
       "    <tr>\n",
       "      <th>Clementine</th>\n",
       "      <td>0</td>\n",
       "      <td>0</td>\n",
       "      <td>0</td>\n",
       "      <td>0</td>\n",
       "      <td>0</td>\n",
       "      <td>166</td>\n",
       "      <td>0</td>\n",
       "      <td>0</td>\n",
       "      <td>0</td>\n",
       "      <td>0</td>\n",
       "      <td>0</td>\n",
       "      <td>0</td>\n",
       "      <td>0</td>\n",
       "      <td>0</td>\n",
       "      <td>0</td>\n",
       "      <td>0</td>\n",
       "    </tr>\n",
       "    <tr>\n",
       "      <th>Mandarine</th>\n",
       "      <td>0</td>\n",
       "      <td>0</td>\n",
       "      <td>0</td>\n",
       "      <td>0</td>\n",
       "      <td>0</td>\n",
       "      <td>0</td>\n",
       "      <td>166</td>\n",
       "      <td>0</td>\n",
       "      <td>0</td>\n",
       "      <td>0</td>\n",
       "      <td>0</td>\n",
       "      <td>0</td>\n",
       "      <td>0</td>\n",
       "      <td>0</td>\n",
       "      <td>0</td>\n",
       "      <td>0</td>\n",
       "    </tr>\n",
       "    <tr>\n",
       "      <th>Orange</th>\n",
       "      <td>0</td>\n",
       "      <td>0</td>\n",
       "      <td>0</td>\n",
       "      <td>0</td>\n",
       "      <td>0</td>\n",
       "      <td>0</td>\n",
       "      <td>0</td>\n",
       "      <td>160</td>\n",
       "      <td>0</td>\n",
       "      <td>0</td>\n",
       "      <td>0</td>\n",
       "      <td>0</td>\n",
       "      <td>0</td>\n",
       "      <td>0</td>\n",
       "      <td>0</td>\n",
       "      <td>0</td>\n",
       "    </tr>\n",
       "    <tr>\n",
       "      <th>Limes</th>\n",
       "      <td>0</td>\n",
       "      <td>0</td>\n",
       "      <td>0</td>\n",
       "      <td>0</td>\n",
       "      <td>0</td>\n",
       "      <td>0</td>\n",
       "      <td>0</td>\n",
       "      <td>0</td>\n",
       "      <td>166</td>\n",
       "      <td>0</td>\n",
       "      <td>0</td>\n",
       "      <td>0</td>\n",
       "      <td>0</td>\n",
       "      <td>0</td>\n",
       "      <td>0</td>\n",
       "      <td>0</td>\n",
       "    </tr>\n",
       "    <tr>\n",
       "      <th>Lemon</th>\n",
       "      <td>0</td>\n",
       "      <td>0</td>\n",
       "      <td>0</td>\n",
       "      <td>0</td>\n",
       "      <td>0</td>\n",
       "      <td>0</td>\n",
       "      <td>0</td>\n",
       "      <td>0</td>\n",
       "      <td>0</td>\n",
       "      <td>164</td>\n",
       "      <td>0</td>\n",
       "      <td>0</td>\n",
       "      <td>0</td>\n",
       "      <td>0</td>\n",
       "      <td>0</td>\n",
       "      <td>0</td>\n",
       "    </tr>\n",
       "    <tr>\n",
       "      <th>Peach</th>\n",
       "      <td>0</td>\n",
       "      <td>0</td>\n",
       "      <td>0</td>\n",
       "      <td>0</td>\n",
       "      <td>0</td>\n",
       "      <td>0</td>\n",
       "      <td>7</td>\n",
       "      <td>0</td>\n",
       "      <td>0</td>\n",
       "      <td>0</td>\n",
       "      <td>156</td>\n",
       "      <td>0</td>\n",
       "      <td>0</td>\n",
       "      <td>0</td>\n",
       "      <td>0</td>\n",
       "      <td>1</td>\n",
       "    </tr>\n",
       "    <tr>\n",
       "      <th>Plum</th>\n",
       "      <td>0</td>\n",
       "      <td>0</td>\n",
       "      <td>0</td>\n",
       "      <td>0</td>\n",
       "      <td>0</td>\n",
       "      <td>0</td>\n",
       "      <td>0</td>\n",
       "      <td>0</td>\n",
       "      <td>0</td>\n",
       "      <td>0</td>\n",
       "      <td>0</td>\n",
       "      <td>151</td>\n",
       "      <td>0</td>\n",
       "      <td>0</td>\n",
       "      <td>0</td>\n",
       "      <td>0</td>\n",
       "    </tr>\n",
       "    <tr>\n",
       "      <th>Raspberry</th>\n",
       "      <td>0</td>\n",
       "      <td>0</td>\n",
       "      <td>0</td>\n",
       "      <td>0</td>\n",
       "      <td>0</td>\n",
       "      <td>0</td>\n",
       "      <td>0</td>\n",
       "      <td>0</td>\n",
       "      <td>0</td>\n",
       "      <td>0</td>\n",
       "      <td>0</td>\n",
       "      <td>0</td>\n",
       "      <td>166</td>\n",
       "      <td>0</td>\n",
       "      <td>0</td>\n",
       "      <td>0</td>\n",
       "    </tr>\n",
       "    <tr>\n",
       "      <th>Strawberry</th>\n",
       "      <td>0</td>\n",
       "      <td>0</td>\n",
       "      <td>0</td>\n",
       "      <td>0</td>\n",
       "      <td>0</td>\n",
       "      <td>0</td>\n",
       "      <td>0</td>\n",
       "      <td>0</td>\n",
       "      <td>0</td>\n",
       "      <td>0</td>\n",
       "      <td>0</td>\n",
       "      <td>0</td>\n",
       "      <td>0</td>\n",
       "      <td>164</td>\n",
       "      <td>0</td>\n",
       "      <td>0</td>\n",
       "    </tr>\n",
       "    <tr>\n",
       "      <th>Pineapple</th>\n",
       "      <td>0</td>\n",
       "      <td>0</td>\n",
       "      <td>0</td>\n",
       "      <td>0</td>\n",
       "      <td>0</td>\n",
       "      <td>0</td>\n",
       "      <td>0</td>\n",
       "      <td>0</td>\n",
       "      <td>0</td>\n",
       "      <td>0</td>\n",
       "      <td>0</td>\n",
       "      <td>0</td>\n",
       "      <td>0</td>\n",
       "      <td>0</td>\n",
       "      <td>166</td>\n",
       "      <td>0</td>\n",
       "    </tr>\n",
       "    <tr>\n",
       "      <th>Pomegranate</th>\n",
       "      <td>0</td>\n",
       "      <td>0</td>\n",
       "      <td>0</td>\n",
       "      <td>0</td>\n",
       "      <td>0</td>\n",
       "      <td>0</td>\n",
       "      <td>0</td>\n",
       "      <td>0</td>\n",
       "      <td>0</td>\n",
       "      <td>0</td>\n",
       "      <td>0</td>\n",
       "      <td>0</td>\n",
       "      <td>0</td>\n",
       "      <td>0</td>\n",
       "      <td>0</td>\n",
       "      <td>164</td>\n",
       "    </tr>\n",
       "  </tbody>\n",
       "</table>\n",
       "</div>"
      ],
      "text/plain": [
       "             Kiwi  Banana  Apricot  Avocado  Cocos  Clementine  Mandarine  \\\n",
       "Kiwi          156       0        0        0      0           0          0   \n",
       "Banana          0     166        0        0      0           0          0   \n",
       "Apricot         0       0      164        0      0           0          0   \n",
       "Avocado         0       0        0      143      0           0          0   \n",
       "Cocos           0       0        0        0    158           0          0   \n",
       "Clementine      0       0        0        0      0         166          0   \n",
       "Mandarine       0       0        0        0      0           0        166   \n",
       "Orange          0       0        0        0      0           0          0   \n",
       "Limes           0       0        0        0      0           0          0   \n",
       "Lemon           0       0        0        0      0           0          0   \n",
       "Peach           0       0        0        0      0           0          7   \n",
       "Plum            0       0        0        0      0           0          0   \n",
       "Raspberry       0       0        0        0      0           0          0   \n",
       "Strawberry      0       0        0        0      0           0          0   \n",
       "Pineapple       0       0        0        0      0           0          0   \n",
       "Pomegranate     0       0        0        0      0           0          0   \n",
       "\n",
       "             Orange  Limes  Lemon  Peach  Plum  Raspberry  Strawberry  \\\n",
       "Kiwi              0      0      0      0     0          0           0   \n",
       "Banana            0      0      0      0     0          0           0   \n",
       "Apricot           0      0      0      0     0          0           0   \n",
       "Avocado           0      0      0      0     0          0           0   \n",
       "Cocos             0      0      0      0     0          8           0   \n",
       "Clementine        0      0      0      0     0          0           0   \n",
       "Mandarine         0      0      0      0     0          0           0   \n",
       "Orange          160      0      0      0     0          0           0   \n",
       "Limes             0    166      0      0     0          0           0   \n",
       "Lemon             0      0    164      0     0          0           0   \n",
       "Peach             0      0      0    156     0          0           0   \n",
       "Plum              0      0      0      0   151          0           0   \n",
       "Raspberry         0      0      0      0     0        166           0   \n",
       "Strawberry        0      0      0      0     0          0         164   \n",
       "Pineapple         0      0      0      0     0          0           0   \n",
       "Pomegranate       0      0      0      0     0          0           0   \n",
       "\n",
       "             Pineapple  Pomegranate  \n",
       "Kiwi                 0            0  \n",
       "Banana               0            0  \n",
       "Apricot              0            0  \n",
       "Avocado              0            0  \n",
       "Cocos                0            0  \n",
       "Clementine           0            0  \n",
       "Mandarine            0            0  \n",
       "Orange               0            0  \n",
       "Limes                0            0  \n",
       "Lemon                0            0  \n",
       "Peach                0            1  \n",
       "Plum                 0            0  \n",
       "Raspberry            0            0  \n",
       "Strawberry           0            0  \n",
       "Pineapple          166            0  \n",
       "Pomegranate          0          164  "
      ]
     },
     "execution_count": 25,
     "metadata": {},
     "output_type": "execute_result"
    }
   ],
   "source": [
    "cm = confusion_matrix(test_obs, test_pred)\n",
    "\n",
    "df_cm = pd.DataFrame(cm, index = [i for i in fruit_list],\n",
    "                  columns = [i for i in fruit_list])\n",
    "df_cm"
   ]
  },
  {
   "cell_type": "code",
   "execution_count": 26,
   "metadata": {},
   "outputs": [
    {
     "data": {
      "text/plain": [
       "<matplotlib.axes._subplots.AxesSubplot at 0x7ff4afd57350>"
      ]
     },
     "execution_count": 26,
     "metadata": {},
     "output_type": "execute_result"
    },
    {
     "data": {
      "image/png": "[encoded data removed]",
      "text/plain": [
       "<Figure size 720x504 with 2 Axes>"
      ]
     },
     "metadata": {
      "needs_background": "light"
     },
     "output_type": "display_data"
    }
   ],
   "source": [
    "plt.figure(figsize = (10,7))\n",
    "sn.heatmap(df_cm, annot=True)"
   ]
  },
  {
   "cell_type": "code",
   "execution_count": 27,
   "metadata": {},
   "outputs": [
    {
     "data": {
      "text/plain": [
       "<matplotlib.axes._subplots.AxesSubplot at 0x7ff4a4fbbe10>"
      ]
     },
     "execution_count": 27,
     "metadata": {},
     "output_type": "execute_result"
    },
    {
     "data": {
      "image/png": "[encoded data removed]",
      "text/plain": [
       "<Figure size 720x504 with 2 Axes>"
      ]
     },
     "metadata": {
      "needs_background": "light"
     },
     "output_type": "display_data"
    }
   ],
   "source": [
    "cm = confusion_matrix(test_obs, test_pred, normalize='true')\n",
    "\n",
    "df_cm = pd.DataFrame(cm, index = [i for i in fruit_list],\n",
    "                  columns = [i for i in fruit_list])\n",
    "plt.figure(figsize = (10,7))\n",
    "sn.heatmap(df_cm, annot=True)"
   ]
  }
 ],
 "metadata": {
  "kernelspec": {
   "display_name": "Python 3.8 (tensorflow)",
   "language": "python",
   "name": "tensorflow"
  },
  "language_info": {
   "codemirror_mode": {
    "name": "ipython",
    "version": 3
   },
   "file_extension": ".py",
   "mimetype": "text/x-python",
   "name": "python",
   "nbconvert_exporter": "python",
   "pygments_lexer": "ipython3",
   "version": "3.7.7"
  }
 },
 "nbformat": 4,
 "nbformat_minor": 4
}
