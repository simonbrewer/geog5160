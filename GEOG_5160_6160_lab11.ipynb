{
 "cells": [
  {
   "cell_type": "markdown",
   "metadata": {},
   "source": [
    "# GEOG 5160 6160 Lab 11"
   ]
  },
  {
   "cell_type": "markdown",
   "metadata": {},
   "source": [
    "# Introduction\n",
    "\n",
    "In this lab, we'll look at working with time series data in deep learning models. The trick with all time series is to make predictions that consider not just the current time step, but also information from previous time steps. We'll do this in two ways here. First, we'll process the data for a 'predict-ahead' model. In this, the outcome or target at time $t$ will be modeled using the set of covariates at time $t-1$, plus the value of the outcome at $t-1$. This is a short-term predictive model in which we only use information from the previous time step to predict the target for the next time step. The second approach will be to use a recurrent neural network. These are models that are designed to incorporate a memory track, that retains some information about the relationship between variables from the previous time steps. We'll use the LSTM model (long/short-term memory), as this can include information over short and longer time steps. We'll build a series of models here of increasing complexity. As you go through this, pay attention to the relative gains (or losses) in predictive skill relative to the increases in model complexity.\n",
    "\n",
    "The models we'll build are modified from: https://machinelearningmastery.com/multivariate-time-series-forecasting-lstms-keras/, as well as the Deep Learning with Python book (Chollet 2024)."
   ]
  },
  {
   "cell_type": "markdown",
   "metadata": {},
   "source": [
    "## Objectives\n",
    "\n",
    "- Process data for time series modeling\n",
    "- Build and test a recurrent neural network (LSTM)\n",
    "- Extend the base LSTM model"
   ]
  },
  {
   "cell_type": "markdown",
   "metadata": {},
   "source": [
    "# Data processing\n",
    "\n",
    "The data we'll use is a time series of hourly air quality measurements from the US Embassy in Beijing from 2010 to 2014, together with corresponding weather data from Beijing Capital International Airport. Start by loading some of the libraries we'll need:"
   ]
  },
  {
   "cell_type": "code",
   "execution_count": 1,
   "metadata": {},
   "outputs": [],
   "source": [
    "import numpy as np\n",
    "import pandas as pd\n",
    "\n",
    "import matplotlib.pyplot as plt\n",
    "import keras\n",
    "import tensorflow as tf\n",
    "\n",
    "np.random.seed(42)\n",
    "tf.random.set_seed(42)"
   ]
  },
  {
   "cell_type": "markdown",
   "metadata": {},
   "source": [
    "Now load the data and take a look at the first few lines:"
   ]
  },
  {
   "cell_type": "code",
   "execution_count": 2,
   "metadata": {},
   "outputs": [
    {
     "data": {
      "text/html": [
       "<div>\n",
       "<style scoped>\n",
       "    .dataframe tbody tr th:only-of-type {\n",
       "        vertical-align: middle;\n",
       "    }\n",
       "\n",
       "    .dataframe tbody tr th {\n",
       "        vertical-align: top;\n",
       "    }\n",
       "\n",
       "    .dataframe thead th {\n",
       "        text-align: right;\n",
       "    }\n",
       "</style>\n",
       "<table border=\"1\" class=\"dataframe\">\n",
       "  <thead>\n",
       "    <tr style=\"text-align: right;\">\n",
       "      <th></th>\n",
       "      <th>pollution</th>\n",
       "      <th>dew</th>\n",
       "      <th>temp</th>\n",
       "      <th>press</th>\n",
       "      <th>wnd_dir</th>\n",
       "      <th>wnd_spd</th>\n",
       "      <th>snow</th>\n",
       "      <th>rain</th>\n",
       "    </tr>\n",
       "    <tr>\n",
       "      <th>date</th>\n",
       "      <th></th>\n",
       "      <th></th>\n",
       "      <th></th>\n",
       "      <th></th>\n",
       "      <th></th>\n",
       "      <th></th>\n",
       "      <th></th>\n",
       "      <th></th>\n",
       "    </tr>\n",
       "  </thead>\n",
       "  <tbody>\n",
       "    <tr>\n",
       "      <th>2010-01-02 00:00:00</th>\n",
       "      <td>129.0</td>\n",
       "      <td>-16</td>\n",
       "      <td>-4.0</td>\n",
       "      <td>1020.0</td>\n",
       "      <td>SE</td>\n",
       "      <td>1.79</td>\n",
       "      <td>0</td>\n",
       "      <td>0</td>\n",
       "    </tr>\n",
       "    <tr>\n",
       "      <th>2010-01-02 01:00:00</th>\n",
       "      <td>148.0</td>\n",
       "      <td>-15</td>\n",
       "      <td>-4.0</td>\n",
       "      <td>1020.0</td>\n",
       "      <td>SE</td>\n",
       "      <td>2.68</td>\n",
       "      <td>0</td>\n",
       "      <td>0</td>\n",
       "    </tr>\n",
       "    <tr>\n",
       "      <th>2010-01-02 02:00:00</th>\n",
       "      <td>159.0</td>\n",
       "      <td>-11</td>\n",
       "      <td>-5.0</td>\n",
       "      <td>1021.0</td>\n",
       "      <td>SE</td>\n",
       "      <td>3.57</td>\n",
       "      <td>0</td>\n",
       "      <td>0</td>\n",
       "    </tr>\n",
       "    <tr>\n",
       "      <th>2010-01-02 03:00:00</th>\n",
       "      <td>181.0</td>\n",
       "      <td>-7</td>\n",
       "      <td>-5.0</td>\n",
       "      <td>1022.0</td>\n",
       "      <td>SE</td>\n",
       "      <td>5.36</td>\n",
       "      <td>1</td>\n",
       "      <td>0</td>\n",
       "    </tr>\n",
       "    <tr>\n",
       "      <th>2010-01-02 04:00:00</th>\n",
       "      <td>138.0</td>\n",
       "      <td>-7</td>\n",
       "      <td>-5.0</td>\n",
       "      <td>1022.0</td>\n",
       "      <td>SE</td>\n",
       "      <td>6.25</td>\n",
       "      <td>2</td>\n",
       "      <td>0</td>\n",
       "    </tr>\n",
       "  </tbody>\n",
       "</table>\n",
       "</div>"
      ],
      "text/plain": [
       "                     pollution  dew  temp   press wnd_dir  wnd_spd  snow  rain\n",
       "date                                                                          \n",
       "2010-01-02 00:00:00      129.0  -16  -4.0  1020.0      SE     1.79     0     0\n",
       "2010-01-02 01:00:00      148.0  -15  -4.0  1020.0      SE     2.68     0     0\n",
       "2010-01-02 02:00:00      159.0  -11  -5.0  1021.0      SE     3.57     0     0\n",
       "2010-01-02 03:00:00      181.0   -7  -5.0  1022.0      SE     5.36     1     0\n",
       "2010-01-02 04:00:00      138.0   -7  -5.0  1022.0      SE     6.25     2     0"
      ]
     },
     "execution_count": 2,
     "metadata": {},
     "output_type": "execute_result"
    }
   ],
   "source": [
    "# load dataset\n",
    "dataset = pd.read_csv('./datafiles/pollution.csv', header=0, index_col=0)\n",
    "dataset.head()"
   ]
  },
  {
   "cell_type": "markdown",
   "metadata": {},
   "source": [
    "The column labelled `pollution` is the target for prediction (this is PM2.5 measurements in ppb). "
   ]
  },
  {
   "cell_type": "markdown",
   "metadata": {},
   "source": [
    "We'll now set up the data for modeling. First, we''ll convert from the Pandas dataframe to a numpy array:"
   ]
  },
  {
   "cell_type": "code",
   "execution_count": 3,
   "metadata": {},
   "outputs": [],
   "source": [
    "values = dataset.values"
   ]
  },
  {
   "cell_type": "markdown",
   "metadata": {},
   "source": [
    "Let's plot out the series to see the trends and patterns (you should see a fairly strong seasonal cycle in most of the variables)"
   ]
  },
  {
   "cell_type": "code",
   "execution_count": 4,
   "metadata": {},
   "outputs": [
    {
     "data": {
      "image/png": "[encoded data removed]",
      "text/plain": [
       "<Figure size 640x480 with 7 Axes>"
      ]
     },
     "metadata": {},
     "output_type": "display_data"
    }
   ],
   "source": [
    "# specify columns to plot\n",
    "groups = [0, 1, 2, 3, 5, 6, 7]\n",
    "i = 1\n",
    "# plot each column\n",
    "plt.figure()\n",
    "for group in groups:\n",
    "    plt.subplot(len(groups), 1, i)\n",
    "    plt.plot(values[:, group])\n",
    "    plt.title(dataset.columns[group], y=0.5, loc='right')\n",
    "    i += 1\n",
    "plt.show()"
   ]
  },
  {
   "cell_type": "markdown",
   "metadata": {},
   "source": [
    "Next, we need to deal with the wind direction variable which is a string:"
   ]
  },
  {
   "cell_type": "code",
   "execution_count": 5,
   "metadata": {},
   "outputs": [
    {
     "data": {
      "text/plain": [
       "wnd_dir\n",
       "SE    15290\n",
       "NW    14130\n",
       "cv     9384\n",
       "NE     4996\n",
       "Name: count, dtype: int64"
      ]
     },
     "execution_count": 5,
     "metadata": {},
     "output_type": "execute_result"
    }
   ],
   "source": [
    "dataset.wnd_dir.value_counts()"
   ]
  },
  {
   "cell_type": "markdown",
   "metadata": {},
   "source": [
    "We'll encode this variable to a numeric representation using Scikit-Learn's `LabelEncoder`. Rather than converting to a series of binary values (c.f. one-hot encoding), this will label each category with an integer value. After conversion, we make sure that all variables are represented as numeric floats (as tensorflow expects this)"
   ]
  },
  {
   "cell_type": "code",
   "execution_count": 6,
   "metadata": {},
   "outputs": [],
   "source": [
    "from sklearn.preprocessing import LabelEncoder\n",
    "\n",
    "encoder = LabelEncoder()\n",
    "\n",
    "values[:,4] = encoder.fit_transform(values[:,4])\n",
    "values = values.astype('float32')"
   ]
  },
  {
   "cell_type": "markdown",
   "metadata": {},
   "source": [
    "Now we'll normalize the variables to 0-1 range for training:"
   ]
  },
  {
   "cell_type": "code",
   "execution_count": 7,
   "metadata": {},
   "outputs": [],
   "source": [
    "from sklearn.preprocessing import MinMaxScaler\n",
    "\n",
    "scaler = MinMaxScaler(feature_range=(0, 1))\n",
    "scaled = scaler.fit_transform(values)"
   ]
  },
  {
   "cell_type": "markdown",
   "metadata": {},
   "source": [
    "Normally, we'd only normalize the features, but as we are going to use the PM2.5 value from the previous time step as an additional feature, we need to normalize this as well. As this means we will be modeling the normalized PM2.5 values, we'll store the minimum and maximum. This will allow us to back convert any predictions we make to parts per billion. "
   ]
  },
  {
   "cell_type": "code",
   "execution_count": 8,
   "metadata": {},
   "outputs": [
    {
     "name": "stdout",
     "output_type": "stream",
     "text": [
      "PM2.5 Min: 0.00; Max: 994.00\n"
     ]
    }
   ],
   "source": [
    "pollution_min = np.min(values[:,0])\n",
    "pollution_max = np.max(values[:,0])\n",
    "\n",
    "print('PM2.5 Min: %.2f; Max: %.2f' % (pollution_min, pollution_max))"
   ]
  },
  {
   "cell_type": "markdown",
   "metadata": {},
   "source": [
    "Now let's set up the data for time series modeling. As explained above, we want to estimate the air quality ($y$) at time $t$ using other variables at $t-1$. In time series terms, this is an VAR1 model, and can be written as:\n",
    "\n",
    "$$\n",
    "y_{t} = X_{t-1} + e\n",
    "$$\n",
    "\n",
    "The easiest way to do this is to create a series of *lagged* variables - i.e. we'll create a set of vectors of variables that are shifted by one day, so that the value of temperature (for example) on Jan 1 is attributed to Jan 2. This has the effect of linking the outcome variable on Jan 2 with the previous days value of temperature (and other features). We'll use a function created by Jason Brownlee to do this. This makes use of Pandas' `shift` function that will shift a vector of values by a set number of places. To illustrate what this does, the following code creates a small vector of numbers (0-10) and then shifts this both forward and backwards:"
   ]
  },
  {
   "cell_type": "code",
   "execution_count": 9,
   "metadata": {},
   "outputs": [
    {
     "name": "stdout",
     "output_type": "stream",
     "text": [
      "   x  (x+1)  (x-1)\n",
      "0  0    NaN    1.0\n",
      "1  1    0.0    2.0\n",
      "2  2    1.0    3.0\n",
      "3  3    2.0    4.0\n",
      "4  4    3.0    5.0\n",
      "5  5    4.0    6.0\n",
      "6  6    5.0    7.0\n",
      "7  7    6.0    8.0\n",
      "8  8    7.0    9.0\n",
      "9  9    8.0    NaN\n"
     ]
    }
   ],
   "source": [
    "df = pd.DataFrame({'x': np.arange(10)})\n",
    "df['(x+1)'] = df.shift(1)['x']\n",
    "df['(x-1)'] = df.shift(-1)['x']\n",
    "print(df)"
   ]
  },
  {
   "cell_type": "markdown",
   "metadata": {},
   "source": [
    "The function uses this in a very general way which will allow us to create more complex data later on. For now, let's set it up and create our lagged dataset. The function takes three arguments:\n",
    "\n",
    "- The dataset that containes the data to be lagged (as a Pandas dataframe)\n",
    "- The number of lags to create (e.g. `n_in=2` will create variables at 1 and 2 lags / time steps prior to the observation)\n",
    "- The number of forward steps to create. We won't use this here, but this sets up data to make predictions for multiple steps ahead"
   ]
  },
  {
   "cell_type": "code",
   "execution_count": 10,
   "metadata": {},
   "outputs": [],
   "source": [
    "from pandas import concat\n",
    "from pandas import DataFrame\n",
    " \n",
    "# convert series to supervised learning\n",
    "def series_to_supervised(data, n_in=1, n_out=1, dropnan=True):\n",
    "    n_vars = 1 if type(data) is list else data.shape[1]\n",
    "    df = DataFrame(data)\n",
    "    cols, names = list(), list()\n",
    "    # input sequence (t-n, ... t-1)\n",
    "    for i in range(n_in, 0, -1):\n",
    "        cols.append(df.shift(i))\n",
    "        names += [('var%d(t-%d)' % (j+1, i)) for j in range(n_vars)]\n",
    "    # forecast sequence (t, t+1, ... t+n)\n",
    "    for i in range(0, n_out):\n",
    "        cols.append(df.shift(-i))\n",
    "        if i == 0:\n",
    "            names += [('var%d(t)' % (j+1)) for j in range(n_vars)]\n",
    "        else:\n",
    "            names += [('var%d(t+%d)' % (j+1, i)) for j in range(n_vars)]\n",
    "    # put it all together\n",
    "    agg = concat(cols, axis=1)\n",
    "    agg.columns = names\n",
    "    # drop rows with NaN values\n",
    "    if dropnan:\n",
    "        agg.dropna(inplace=True)\n",
    "    return agg"
   ]
  },
  {
   "cell_type": "code",
   "execution_count": 11,
   "metadata": {},
   "outputs": [
    {
     "data": {
      "text/html": [
       "<div>\n",
       "<style scoped>\n",
       "    .dataframe tbody tr th:only-of-type {\n",
       "        vertical-align: middle;\n",
       "    }\n",
       "\n",
       "    .dataframe tbody tr th {\n",
       "        vertical-align: top;\n",
       "    }\n",
       "\n",
       "    .dataframe thead th {\n",
       "        text-align: right;\n",
       "    }\n",
       "</style>\n",
       "<table border=\"1\" class=\"dataframe\">\n",
       "  <thead>\n",
       "    <tr style=\"text-align: right;\">\n",
       "      <th></th>\n",
       "      <th>var1(t-1)</th>\n",
       "      <th>var2(t-1)</th>\n",
       "      <th>var3(t-1)</th>\n",
       "      <th>var4(t-1)</th>\n",
       "      <th>var5(t-1)</th>\n",
       "      <th>var6(t-1)</th>\n",
       "      <th>var7(t-1)</th>\n",
       "      <th>var8(t-1)</th>\n",
       "      <th>var1(t)</th>\n",
       "      <th>var2(t)</th>\n",
       "      <th>var3(t)</th>\n",
       "      <th>var4(t)</th>\n",
       "      <th>var5(t)</th>\n",
       "      <th>var6(t)</th>\n",
       "      <th>var7(t)</th>\n",
       "      <th>var8(t)</th>\n",
       "    </tr>\n",
       "  </thead>\n",
       "  <tbody>\n",
       "    <tr>\n",
       "      <th>1</th>\n",
       "      <td>0.129779</td>\n",
       "      <td>0.352941</td>\n",
       "      <td>0.245902</td>\n",
       "      <td>0.527273</td>\n",
       "      <td>0.666667</td>\n",
       "      <td>0.002290</td>\n",
       "      <td>0.000000</td>\n",
       "      <td>0.0</td>\n",
       "      <td>0.148893</td>\n",
       "      <td>0.367647</td>\n",
       "      <td>0.245902</td>\n",
       "      <td>0.527273</td>\n",
       "      <td>0.666667</td>\n",
       "      <td>0.003811</td>\n",
       "      <td>0.000000</td>\n",
       "      <td>0.0</td>\n",
       "    </tr>\n",
       "    <tr>\n",
       "      <th>2</th>\n",
       "      <td>0.148893</td>\n",
       "      <td>0.367647</td>\n",
       "      <td>0.245902</td>\n",
       "      <td>0.527273</td>\n",
       "      <td>0.666667</td>\n",
       "      <td>0.003811</td>\n",
       "      <td>0.000000</td>\n",
       "      <td>0.0</td>\n",
       "      <td>0.159960</td>\n",
       "      <td>0.426471</td>\n",
       "      <td>0.229508</td>\n",
       "      <td>0.545454</td>\n",
       "      <td>0.666667</td>\n",
       "      <td>0.005332</td>\n",
       "      <td>0.000000</td>\n",
       "      <td>0.0</td>\n",
       "    </tr>\n",
       "    <tr>\n",
       "      <th>3</th>\n",
       "      <td>0.159960</td>\n",
       "      <td>0.426471</td>\n",
       "      <td>0.229508</td>\n",
       "      <td>0.545454</td>\n",
       "      <td>0.666667</td>\n",
       "      <td>0.005332</td>\n",
       "      <td>0.000000</td>\n",
       "      <td>0.0</td>\n",
       "      <td>0.182093</td>\n",
       "      <td>0.485294</td>\n",
       "      <td>0.229508</td>\n",
       "      <td>0.563637</td>\n",
       "      <td>0.666667</td>\n",
       "      <td>0.008391</td>\n",
       "      <td>0.037037</td>\n",
       "      <td>0.0</td>\n",
       "    </tr>\n",
       "    <tr>\n",
       "      <th>4</th>\n",
       "      <td>0.182093</td>\n",
       "      <td>0.485294</td>\n",
       "      <td>0.229508</td>\n",
       "      <td>0.563637</td>\n",
       "      <td>0.666667</td>\n",
       "      <td>0.008391</td>\n",
       "      <td>0.037037</td>\n",
       "      <td>0.0</td>\n",
       "      <td>0.138833</td>\n",
       "      <td>0.485294</td>\n",
       "      <td>0.229508</td>\n",
       "      <td>0.563637</td>\n",
       "      <td>0.666667</td>\n",
       "      <td>0.009912</td>\n",
       "      <td>0.074074</td>\n",
       "      <td>0.0</td>\n",
       "    </tr>\n",
       "    <tr>\n",
       "      <th>5</th>\n",
       "      <td>0.138833</td>\n",
       "      <td>0.485294</td>\n",
       "      <td>0.229508</td>\n",
       "      <td>0.563637</td>\n",
       "      <td>0.666667</td>\n",
       "      <td>0.009912</td>\n",
       "      <td>0.074074</td>\n",
       "      <td>0.0</td>\n",
       "      <td>0.109658</td>\n",
       "      <td>0.485294</td>\n",
       "      <td>0.213115</td>\n",
       "      <td>0.563637</td>\n",
       "      <td>0.666667</td>\n",
       "      <td>0.011433</td>\n",
       "      <td>0.111111</td>\n",
       "      <td>0.0</td>\n",
       "    </tr>\n",
       "  </tbody>\n",
       "</table>\n",
       "</div>"
      ],
      "text/plain": [
       "   var1(t-1)  var2(t-1)  var3(t-1)  var4(t-1)  var5(t-1)  var6(t-1)  \\\n",
       "1   0.129779   0.352941   0.245902   0.527273   0.666667   0.002290   \n",
       "2   0.148893   0.367647   0.245902   0.527273   0.666667   0.003811   \n",
       "3   0.159960   0.426471   0.229508   0.545454   0.666667   0.005332   \n",
       "4   0.182093   0.485294   0.229508   0.563637   0.666667   0.008391   \n",
       "5   0.138833   0.485294   0.229508   0.563637   0.666667   0.009912   \n",
       "\n",
       "   var7(t-1)  var8(t-1)   var1(t)   var2(t)   var3(t)   var4(t)   var5(t)  \\\n",
       "1   0.000000        0.0  0.148893  0.367647  0.245902  0.527273  0.666667   \n",
       "2   0.000000        0.0  0.159960  0.426471  0.229508  0.545454  0.666667   \n",
       "3   0.000000        0.0  0.182093  0.485294  0.229508  0.563637  0.666667   \n",
       "4   0.037037        0.0  0.138833  0.485294  0.229508  0.563637  0.666667   \n",
       "5   0.074074        0.0  0.109658  0.485294  0.213115  0.563637  0.666667   \n",
       "\n",
       "    var6(t)   var7(t)  var8(t)  \n",
       "1  0.003811  0.000000      0.0  \n",
       "2  0.005332  0.000000      0.0  \n",
       "3  0.008391  0.037037      0.0  \n",
       "4  0.009912  0.074074      0.0  \n",
       "5  0.011433  0.111111      0.0  "
      ]
     },
     "execution_count": 11,
     "metadata": {},
     "output_type": "execute_result"
    }
   ],
   "source": [
    "reframed = series_to_supervised(scaled, 1, 1)\n",
    "reframed.head()"
   ]
  },
  {
   "cell_type": "markdown",
   "metadata": {},
   "source": [
    "You'll see in the output that this has relabled the data by column number (e.g. `var1`), and by the lag (`(t-1)`). It also keeps the original unlagged data (`(t)`).  If you look, you should see that the value at row 1 of any variable at `t-1` corresponds to the same value at row 0 at `t`.\n",
    "\n",
    "For our initial model, we only want to keep the variables at time $t-1$ and the pollutant values at time $t$ (`var1(t)`) as a target. We'll remove the last 7 columns."
   ]
  },
  {
   "cell_type": "code",
   "execution_count": 12,
   "metadata": {},
   "outputs": [
    {
     "data": {
      "text/html": [
       "<div>\n",
       "<style scoped>\n",
       "    .dataframe tbody tr th:only-of-type {\n",
       "        vertical-align: middle;\n",
       "    }\n",
       "\n",
       "    .dataframe tbody tr th {\n",
       "        vertical-align: top;\n",
       "    }\n",
       "\n",
       "    .dataframe thead th {\n",
       "        text-align: right;\n",
       "    }\n",
       "</style>\n",
       "<table border=\"1\" class=\"dataframe\">\n",
       "  <thead>\n",
       "    <tr style=\"text-align: right;\">\n",
       "      <th></th>\n",
       "      <th>var1(t-1)</th>\n",
       "      <th>var2(t-1)</th>\n",
       "      <th>var3(t-1)</th>\n",
       "      <th>var4(t-1)</th>\n",
       "      <th>var5(t-1)</th>\n",
       "      <th>var6(t-1)</th>\n",
       "      <th>var7(t-1)</th>\n",
       "      <th>var8(t-1)</th>\n",
       "      <th>var1(t)</th>\n",
       "    </tr>\n",
       "  </thead>\n",
       "  <tbody>\n",
       "    <tr>\n",
       "      <th>1</th>\n",
       "      <td>0.129779</td>\n",
       "      <td>0.352941</td>\n",
       "      <td>0.245902</td>\n",
       "      <td>0.527273</td>\n",
       "      <td>0.666667</td>\n",
       "      <td>0.002290</td>\n",
       "      <td>0.000000</td>\n",
       "      <td>0.0</td>\n",
       "      <td>0.148893</td>\n",
       "    </tr>\n",
       "    <tr>\n",
       "      <th>2</th>\n",
       "      <td>0.148893</td>\n",
       "      <td>0.367647</td>\n",
       "      <td>0.245902</td>\n",
       "      <td>0.527273</td>\n",
       "      <td>0.666667</td>\n",
       "      <td>0.003811</td>\n",
       "      <td>0.000000</td>\n",
       "      <td>0.0</td>\n",
       "      <td>0.159960</td>\n",
       "    </tr>\n",
       "    <tr>\n",
       "      <th>3</th>\n",
       "      <td>0.159960</td>\n",
       "      <td>0.426471</td>\n",
       "      <td>0.229508</td>\n",
       "      <td>0.545454</td>\n",
       "      <td>0.666667</td>\n",
       "      <td>0.005332</td>\n",
       "      <td>0.000000</td>\n",
       "      <td>0.0</td>\n",
       "      <td>0.182093</td>\n",
       "    </tr>\n",
       "    <tr>\n",
       "      <th>4</th>\n",
       "      <td>0.182093</td>\n",
       "      <td>0.485294</td>\n",
       "      <td>0.229508</td>\n",
       "      <td>0.563637</td>\n",
       "      <td>0.666667</td>\n",
       "      <td>0.008391</td>\n",
       "      <td>0.037037</td>\n",
       "      <td>0.0</td>\n",
       "      <td>0.138833</td>\n",
       "    </tr>\n",
       "    <tr>\n",
       "      <th>5</th>\n",
       "      <td>0.138833</td>\n",
       "      <td>0.485294</td>\n",
       "      <td>0.229508</td>\n",
       "      <td>0.563637</td>\n",
       "      <td>0.666667</td>\n",
       "      <td>0.009912</td>\n",
       "      <td>0.074074</td>\n",
       "      <td>0.0</td>\n",
       "      <td>0.109658</td>\n",
       "    </tr>\n",
       "  </tbody>\n",
       "</table>\n",
       "</div>"
      ],
      "text/plain": [
       "   var1(t-1)  var2(t-1)  var3(t-1)  var4(t-1)  var5(t-1)  var6(t-1)  \\\n",
       "1   0.129779   0.352941   0.245902   0.527273   0.666667   0.002290   \n",
       "2   0.148893   0.367647   0.245902   0.527273   0.666667   0.003811   \n",
       "3   0.159960   0.426471   0.229508   0.545454   0.666667   0.005332   \n",
       "4   0.182093   0.485294   0.229508   0.563637   0.666667   0.008391   \n",
       "5   0.138833   0.485294   0.229508   0.563637   0.666667   0.009912   \n",
       "\n",
       "   var7(t-1)  var8(t-1)   var1(t)  \n",
       "1   0.000000        0.0  0.148893  \n",
       "2   0.000000        0.0  0.159960  \n",
       "3   0.000000        0.0  0.182093  \n",
       "4   0.037037        0.0  0.138833  \n",
       "5   0.074074        0.0  0.109658  "
      ]
     },
     "execution_count": 12,
     "metadata": {},
     "output_type": "execute_result"
    }
   ],
   "source": [
    "reframed = reframed.iloc[:, :-7]\n",
    "reframed.head()"
   ]
  },
  {
   "cell_type": "markdown",
   "metadata": {},
   "source": [
    "Next, we'll  split the data into training/testing. For speed, we'll only use the first year for training, and evaluate on the remaining 4 years. You might want to come back to this and increase the amount of training data at a later point to see the impact on the model. "
   ]
  },
  {
   "cell_type": "code",
   "execution_count": 13,
   "metadata": {},
   "outputs": [
    {
     "name": "stdout",
     "output_type": "stream",
     "text": [
      "(8760, 8) (8760,) (35039, 8) (35039,)\n"
     ]
    }
   ],
   "source": [
    "# split into train and test sets\n",
    "values = reframed.values\n",
    "n_yr_train = 1\n",
    "n_train_hours = 365 * 24 * n_yr_train ## Number of training points\n",
    "train = values[:n_train_hours, :]\n",
    "test = values[n_train_hours:, :]\n",
    "# split into input and outputs\n",
    "X_train, y_train = train[:, :-1], train[:, -1]\n",
    "X_test, y_test = test[:, :-1], test[:, -1]\n",
    "# Data shapes\n",
    "print(X_train.shape, y_train.shape, X_test.shape, y_test.shape)"
   ]
  },
  {
   "cell_type": "markdown",
   "metadata": {},
   "source": [
    "# Model 1: Dense network\n",
    "\n",
    "To start with, we'll build a simple neural network with a single densely connected layer with 50 nodes between the input and output.  We'll build a pretty simple model with \n",
    "\n",
    "- A input layer. Each observation going into the model is the set of 7 features (temperature, etc) from the previous time step and the pollution from the previous step, which gives a shape of (8,)\n",
    "- A densely connected layer with 50 nodes\n",
    "- An output layer. We're only predicting the pollution value, so there's only a single output. Note that as this is a continuous outcome, we don't specify an activation function (as this would constrain the output of the model)."
   ]
  },
  {
   "cell_type": "code",
   "execution_count": 14,
   "metadata": {},
   "outputs": [
    {
     "data": {
      "text/html": [
       "<pre style=\"white-space:pre;overflow-x:auto;line-height:normal;font-family:Menlo,'DejaVu Sans Mono',consolas,'Courier New',monospace\"><span style=\"font-weight: bold\">Model: \"sequential\"</span>\n",
       "</pre>\n"
      ],
      "text/plain": [
       "\u001b[1mModel: \"sequential\"\u001b[0m\n"
      ]
     },
     "metadata": {},
     "output_type": "display_data"
    },
    {
     "data": {
      "text/html": [
       "<pre style=\"white-space:pre;overflow-x:auto;line-height:normal;font-family:Menlo,'DejaVu Sans Mono',consolas,'Courier New',monospace\">┏━━━━━━━━━━━━━━━━━━━━━━━━━━━━━━━━━┳━━━━━━━━━━━━━━━━━━━━━━━━┳━━━━━━━━━━━━━━━┓\n",
       "┃<span style=\"font-weight: bold\"> Layer (type)                    </span>┃<span style=\"font-weight: bold\"> Output Shape           </span>┃<span style=\"font-weight: bold\">       Param # </span>┃\n",
       "┡━━━━━━━━━━━━━━━━━━━━━━━━━━━━━━━━━╇━━━━━━━━━━━━━━━━━━━━━━━━╇━━━━━━━━━━━━━━━┩\n",
       "│ dense (<span style=\"color: #0087ff; text-decoration-color: #0087ff\">Dense</span>)                   │ (<span style=\"color: #00d7ff; text-decoration-color: #00d7ff\">None</span>, <span style=\"color: #00af00; text-decoration-color: #00af00\">50</span>)             │           <span style=\"color: #00af00; text-decoration-color: #00af00\">450</span> │\n",
       "├─────────────────────────────────┼────────────────────────┼───────────────┤\n",
       "│ dense_1 (<span style=\"color: #0087ff; text-decoration-color: #0087ff\">Dense</span>)                 │ (<span style=\"color: #00d7ff; text-decoration-color: #00d7ff\">None</span>, <span style=\"color: #00af00; text-decoration-color: #00af00\">1</span>)              │            <span style=\"color: #00af00; text-decoration-color: #00af00\">51</span> │\n",
       "└─────────────────────────────────┴────────────────────────┴───────────────┘\n",
       "</pre>\n"
      ],
      "text/plain": [
       "┏━━━━━━━━━━━━━━━━━━━━━━━━━━━━━━━━━┳━━━━━━━━━━━━━━━━━━━━━━━━┳━━━━━━━━━━━━━━━┓\n",
       "┃\u001b[1m \u001b[0m\u001b[1mLayer (type)                   \u001b[0m\u001b[1m \u001b[0m┃\u001b[1m \u001b[0m\u001b[1mOutput Shape          \u001b[0m\u001b[1m \u001b[0m┃\u001b[1m \u001b[0m\u001b[1m      Param #\u001b[0m\u001b[1m \u001b[0m┃\n",
       "┡━━━━━━━━━━━━━━━━━━━━━━━━━━━━━━━━━╇━━━━━━━━━━━━━━━━━━━━━━━━╇━━━━━━━━━━━━━━━┩\n",
       "│ dense (\u001b[38;5;33mDense\u001b[0m)                   │ (\u001b[38;5;45mNone\u001b[0m, \u001b[38;5;34m50\u001b[0m)             │           \u001b[38;5;34m450\u001b[0m │\n",
       "├─────────────────────────────────┼────────────────────────┼───────────────┤\n",
       "│ dense_1 (\u001b[38;5;33mDense\u001b[0m)                 │ (\u001b[38;5;45mNone\u001b[0m, \u001b[38;5;34m1\u001b[0m)              │            \u001b[38;5;34m51\u001b[0m │\n",
       "└─────────────────────────────────┴────────────────────────┴───────────────┘\n"
      ]
     },
     "metadata": {},
     "output_type": "display_data"
    },
    {
     "data": {
      "text/html": [
       "<pre style=\"white-space:pre;overflow-x:auto;line-height:normal;font-family:Menlo,'DejaVu Sans Mono',consolas,'Courier New',monospace\"><span style=\"font-weight: bold\"> Total params: </span><span style=\"color: #00af00; text-decoration-color: #00af00\">501</span> (1.96 KB)\n",
       "</pre>\n"
      ],
      "text/plain": [
       "\u001b[1m Total params: \u001b[0m\u001b[38;5;34m501\u001b[0m (1.96 KB)\n"
      ]
     },
     "metadata": {},
     "output_type": "display_data"
    },
    {
     "data": {
      "text/html": [
       "<pre style=\"white-space:pre;overflow-x:auto;line-height:normal;font-family:Menlo,'DejaVu Sans Mono',consolas,'Courier New',monospace\"><span style=\"font-weight: bold\"> Trainable params: </span><span style=\"color: #00af00; text-decoration-color: #00af00\">501</span> (1.96 KB)\n",
       "</pre>\n"
      ],
      "text/plain": [
       "\u001b[1m Trainable params: \u001b[0m\u001b[38;5;34m501\u001b[0m (1.96 KB)\n"
      ]
     },
     "metadata": {},
     "output_type": "display_data"
    },
    {
     "data": {
      "text/html": [
       "<pre style=\"white-space:pre;overflow-x:auto;line-height:normal;font-family:Menlo,'DejaVu Sans Mono',consolas,'Courier New',monospace\"><span style=\"font-weight: bold\"> Non-trainable params: </span><span style=\"color: #00af00; text-decoration-color: #00af00\">0</span> (0.00 B)\n",
       "</pre>\n"
      ],
      "text/plain": [
       "\u001b[1m Non-trainable params: \u001b[0m\u001b[38;5;34m0\u001b[0m (0.00 B)\n"
      ]
     },
     "metadata": {},
     "output_type": "display_data"
    },
    {
     "name": "stdout",
     "output_type": "stream",
     "text": [
      "None\n"
     ]
    }
   ],
   "source": [
    "from tensorflow.keras import models\n",
    "from tensorflow.keras import layers\n",
    "\n",
    "model = models.Sequential([   \n",
    "      layers.Input(shape=(8,)),                     \n",
    "      layers.Dense(50),\n",
    "      layers.Dense(1)\n",
    "])\n",
    "print(model.summary())"
   ]
  },
  {
   "cell_type": "markdown",
   "metadata": {},
   "source": [
    "A grand total of 501 parameters to train here. We'll use the Adam optimizer with a learning rate of 1x10^-3, mean squared error (`mse`) for the loss function, and evaluate with the mean absolute error (`mae`)"
   ]
  },
  {
   "cell_type": "code",
   "execution_count": 15,
   "metadata": {},
   "outputs": [],
   "source": [
    "myoptim = keras.optimizers.Adam(learning_rate=1e-3)\n",
    "myloss = \"mse\"\n",
    "mymetric = [\"mae\"]\n",
    "model.compile(optimizer=myoptim, loss=myloss, metrics=mymetric)"
   ]
  },
  {
   "cell_type": "markdown",
   "metadata": {},
   "source": [
    "We'll set a callback to save the model, and only update this if it improves during training"
   ]
  },
  {
   "cell_type": "code",
   "execution_count": 16,
   "metadata": {},
   "outputs": [],
   "source": [
    "callbacks = [\n",
    "    keras.callbacks.ModelCheckpoint(\"aq_model1.keras\",\n",
    "                                    save_best_only=True)\n",
    "]"
   ]
  },
  {
   "cell_type": "markdown",
   "metadata": {},
   "source": [
    "And fit. This should run pretty quickly, as the model is simple. "
   ]
  },
  {
   "cell_type": "code",
   "execution_count": 17,
   "metadata": {},
   "outputs": [
    {
     "name": "stdout",
     "output_type": "stream",
     "text": [
      "Epoch 1/10\n",
      "137/137 - 0s - 4ms/step - loss: 0.0142 - mae: 0.0895 - val_loss: 0.0045 - val_mae: 0.0514\n",
      "Epoch 2/10\n",
      "137/137 - 0s - 1ms/step - loss: 0.0027 - mae: 0.0370 - val_loss: 0.0019 - val_mae: 0.0345\n",
      "Epoch 3/10\n",
      "137/137 - 0s - 1ms/step - loss: 0.0012 - mae: 0.0215 - val_loss: 0.0015 - val_mae: 0.0290\n",
      "Epoch 4/10\n",
      "137/137 - 0s - 1ms/step - loss: 0.0010 - mae: 0.0183 - val_loss: 0.0013 - val_mae: 0.0259\n",
      "Epoch 5/10\n",
      "137/137 - 0s - 1ms/step - loss: 0.0010 - mae: 0.0171 - val_loss: 0.0011 - val_mae: 0.0233\n",
      "Epoch 6/10\n",
      "137/137 - 0s - 1ms/step - loss: 9.8676e-04 - mae: 0.0164 - val_loss: 9.9238e-04 - val_mae: 0.0211\n",
      "Epoch 7/10\n",
      "137/137 - 0s - 1ms/step - loss: 9.8028e-04 - mae: 0.0160 - val_loss: 9.1847e-04 - val_mae: 0.0195\n",
      "Epoch 8/10\n",
      "137/137 - 0s - 1ms/step - loss: 9.8090e-04 - mae: 0.0159 - val_loss: 8.8103e-04 - val_mae: 0.0187\n",
      "Epoch 9/10\n",
      "137/137 - 0s - 1ms/step - loss: 9.8543e-04 - mae: 0.0159 - val_loss: 8.8147e-04 - val_mae: 0.0187\n",
      "Epoch 10/10\n",
      "137/137 - 0s - 1ms/step - loss: 9.9126e-04 - mae: 0.0160 - val_loss: 9.2800e-04 - val_mae: 0.0197\n"
     ]
    }
   ],
   "source": [
    "# fit network\n",
    "history = model.fit(X_train, y_train, \n",
    "                    epochs=10, batch_size=64, \n",
    "                    validation_data=(X_test, y_test), \n",
    "                    callbacks=callbacks,\n",
    "                    verbose=2, shuffle=False)"
   ]
  },
  {
   "cell_type": "markdown",
   "metadata": {},
   "source": [
    "If we plot the loss curves, you'll see that it is pretty stable (it is possible that it may need to be run for a little longer)"
   ]
  },
  {
   "cell_type": "code",
   "execution_count": 18,
   "metadata": {},
   "outputs": [
    {
     "data": {
      "image/png": "[encoded data removed]",
      "text/plain": [
       "<Figure size 640x480 with 1 Axes>"
      ]
     },
     "metadata": {},
     "output_type": "display_data"
    }
   ],
   "source": [
    "# plot history\n",
    "plt.plot(history.history['loss'], label='train')\n",
    "plt.plot(history.history['val_loss'], label='valid')\n",
    "plt.legend()\n",
    "plt.show()"
   ]
  },
  {
   "cell_type": "markdown",
   "metadata": {},
   "source": [
    "We'll now evaluate to get the model loss and mean absolute error. We'll create a function for this as we are going to be testing multiple models"
   ]
  },
  {
   "cell_type": "code",
   "execution_count": 19,
   "metadata": {},
   "outputs": [],
   "source": [
    "def calc_mae(model, X_test, y_test):\n",
    "    test_mse_score, test_mae_score = model.evaluate(X_test, y_test, verbose=0)\n",
    "    print(f'Mean squared error: {np.round(test_mse_score, 5)}')\n",
    "    print(f'Mean absolute error: {np.round(test_mae_score, 5)}')"
   ]
  },
  {
   "cell_type": "code",
   "execution_count": 20,
   "metadata": {},
   "outputs": [
    {
     "name": "stdout",
     "output_type": "stream",
     "text": [
      "Mean squared error: 0.00088\n",
      "Mean absolute error: 0.0187\n"
     ]
    }
   ],
   "source": [
    "model = keras.models.load_model(\"aq_model1.keras\")\n",
    "calc_mae(model, X_test, y_test)"
   ]
  },
  {
   "cell_type": "markdown",
   "metadata": {},
   "source": [
    "And we get a value of around 0.03 (this varies quite a bit in practice, which also suggests that the model may need further training). To put this error into context, we rescaled the pollutant values to a [0-1] range, so an error of aorund 0.03 equates to about 3% of the original range"
   ]
  },
  {
   "cell_type": "markdown",
   "metadata": {},
   "source": [
    "We can also see how well this predicts over time for the test data. We'll predict for every observation in the dataset and plot against the observed test set. We'll restrict this to the first 1000 observations for plotting to see a little more of the detail."
   ]
  },
  {
   "cell_type": "code",
   "execution_count": 21,
   "metadata": {},
   "outputs": [
    {
     "name": "stdout",
     "output_type": "stream",
     "text": [
      "\u001b[1m1095/1095\u001b[0m \u001b[32m━━━━━━━━━━━━━━━━━━━━\u001b[0m\u001b[37m\u001b[0m \u001b[1m0s\u001b[0m 176us/step\n"
     ]
    },
    {
     "data": {
      "text/plain": [
       "<matplotlib.legend.Legend at 0x3321b5160>"
      ]
     },
     "execution_count": 21,
     "metadata": {},
     "output_type": "execute_result"
    },
    {
     "data": {
      "image/png": "[encoded data removed]",
      "text/plain": [
       "<Figure size 640x480 with 1 Axes>"
      ]
     },
     "metadata": {},
     "output_type": "display_data"
    }
   ],
   "source": [
    "y_test_pred_norm = model.predict(X_test)\n",
    "plt.plot(y_test[0:1000], label=\"Obs\")\n",
    "plt.plot(y_test_pred_norm[0:1000], label=\"Pred\")\n",
    "plt.legend()"
   ]
  },
  {
   "cell_type": "markdown",
   "metadata": {},
   "source": [
    "And we can plot the individual observations and predictions together - these should follow a 1:1 line:"
   ]
  },
  {
   "cell_type": "code",
   "execution_count": 22,
   "metadata": {},
   "outputs": [
    {
     "data": {
      "text/plain": [
       "[<matplotlib.lines.Line2D at 0x32e383b00>]"
      ]
     },
     "execution_count": 22,
     "metadata": {},
     "output_type": "execute_result"
    },
    {
     "data": {
      "image/png": "[encoded data removed]",
      "text/plain": [
       "<Figure size 640x480 with 1 Axes>"
      ]
     },
     "metadata": {},
     "output_type": "display_data"
    }
   ],
   "source": [
    "plt.plot(y_test, y_test_pred_norm, 'o')"
   ]
  },
  {
   "cell_type": "markdown",
   "metadata": {},
   "source": [
    "# Model 2: LSTM \n",
    "\n",
    "For the next model, we'll add an LSTM layer. This is a more complex layer, that includes weights that link inputs to the outputs, but also that link a saved or memory state to the current input. \n",
    "\n",
    "However, before setting this up, we need to reformat the input data. For time series models, the input shape needs to be three dimensional `(i,j,k)`, where `i` is the number of samples (this is the number of hourly observations), `j` is the number of time steps in each sequence and `k` is the number of features. `j` controls the number of previous time steps linked to an outcome, and this is a key parameter: higher values for `k` means that the model is considering a longer period of observations *prior* to the time step we are trying to predict. We'll start by reusing the dataset we created for the densely connected model above. All we need to do here is to use the `reshape` method to add the additional axis for `j` here:"
   ]
  },
  {
   "cell_type": "code",
   "execution_count": 23,
   "metadata": {},
   "outputs": [
    {
     "name": "stdout",
     "output_type": "stream",
     "text": [
      "X_train: (8760, 1, 8)\n",
      "X_test: (35039, 1, 8)\n"
     ]
    }
   ],
   "source": [
    "X_train = X_train.reshape((X_train.shape[0], 1, X_train.shape[1]))\n",
    "X_test = X_test.reshape((X_test.shape[0], 1, X_test.shape[1]))\n",
    "print(f\"X_train: {X_train.shape}\")\n",
    "print(f\"X_test: {X_test.shape}\")"
   ]
  },
  {
   "cell_type": "markdown",
   "metadata": {},
   "source": [
    "Now we'll build the model. Couple of things to note here: \n",
    "\n",
    "- The input layer needs to parameters: the first defines `j` (the number of time steps in each sequence) and the second defines `k`, the number of features\n",
    "- The LSTM layer takes a single argument which is the number of units in the layer. Each of these can be used to model a different part of the relationship between past values and the present"
   ]
  },
  {
   "cell_type": "code",
   "execution_count": 24,
   "metadata": {},
   "outputs": [],
   "source": [
    "model = models.Sequential([                        \n",
    "      layers.Input(shape=(X_train.shape[1], X_train.shape[2])),                     \n",
    "      layers.LSTM(100),\n",
    "      layers.Dense(1)\n",
    "])"
   ]
  },
  {
   "cell_type": "code",
   "execution_count": 25,
   "metadata": {},
   "outputs": [
    {
     "data": {
      "text/html": [
       "<pre style=\"white-space:pre;overflow-x:auto;line-height:normal;font-family:Menlo,'DejaVu Sans Mono',consolas,'Courier New',monospace\"><span style=\"font-weight: bold\">Model: \"sequential_1\"</span>\n",
       "</pre>\n"
      ],
      "text/plain": [
       "\u001b[1mModel: \"sequential_1\"\u001b[0m\n"
      ]
     },
     "metadata": {},
     "output_type": "display_data"
    },
    {
     "data": {
      "text/html": [
       "<pre style=\"white-space:pre;overflow-x:auto;line-height:normal;font-family:Menlo,'DejaVu Sans Mono',consolas,'Courier New',monospace\">┏━━━━━━━━━━━━━━━━━━━━━━━━━━━━━━━━━┳━━━━━━━━━━━━━━━━━━━━━━━━┳━━━━━━━━━━━━━━━┓\n",
       "┃<span style=\"font-weight: bold\"> Layer (type)                    </span>┃<span style=\"font-weight: bold\"> Output Shape           </span>┃<span style=\"font-weight: bold\">       Param # </span>┃\n",
       "┡━━━━━━━━━━━━━━━━━━━━━━━━━━━━━━━━━╇━━━━━━━━━━━━━━━━━━━━━━━━╇━━━━━━━━━━━━━━━┩\n",
       "│ lstm (<span style=\"color: #0087ff; text-decoration-color: #0087ff\">LSTM</span>)                     │ (<span style=\"color: #00d7ff; text-decoration-color: #00d7ff\">None</span>, <span style=\"color: #00af00; text-decoration-color: #00af00\">100</span>)            │        <span style=\"color: #00af00; text-decoration-color: #00af00\">43,600</span> │\n",
       "├─────────────────────────────────┼────────────────────────┼───────────────┤\n",
       "│ dense_2 (<span style=\"color: #0087ff; text-decoration-color: #0087ff\">Dense</span>)                 │ (<span style=\"color: #00d7ff; text-decoration-color: #00d7ff\">None</span>, <span style=\"color: #00af00; text-decoration-color: #00af00\">1</span>)              │           <span style=\"color: #00af00; text-decoration-color: #00af00\">101</span> │\n",
       "└─────────────────────────────────┴────────────────────────┴───────────────┘\n",
       "</pre>\n"
      ],
      "text/plain": [
       "┏━━━━━━━━━━━━━━━━━━━━━━━━━━━━━━━━━┳━━━━━━━━━━━━━━━━━━━━━━━━┳━━━━━━━━━━━━━━━┓\n",
       "┃\u001b[1m \u001b[0m\u001b[1mLayer (type)                   \u001b[0m\u001b[1m \u001b[0m┃\u001b[1m \u001b[0m\u001b[1mOutput Shape          \u001b[0m\u001b[1m \u001b[0m┃\u001b[1m \u001b[0m\u001b[1m      Param #\u001b[0m\u001b[1m \u001b[0m┃\n",
       "┡━━━━━━━━━━━━━━━━━━━━━━━━━━━━━━━━━╇━━━━━━━━━━━━━━━━━━━━━━━━╇━━━━━━━━━━━━━━━┩\n",
       "│ lstm (\u001b[38;5;33mLSTM\u001b[0m)                     │ (\u001b[38;5;45mNone\u001b[0m, \u001b[38;5;34m100\u001b[0m)            │        \u001b[38;5;34m43,600\u001b[0m │\n",
       "├─────────────────────────────────┼────────────────────────┼───────────────┤\n",
       "│ dense_2 (\u001b[38;5;33mDense\u001b[0m)                 │ (\u001b[38;5;45mNone\u001b[0m, \u001b[38;5;34m1\u001b[0m)              │           \u001b[38;5;34m101\u001b[0m │\n",
       "└─────────────────────────────────┴────────────────────────┴───────────────┘\n"
      ]
     },
     "metadata": {},
     "output_type": "display_data"
    },
    {
     "data": {
      "text/html": [
       "<pre style=\"white-space:pre;overflow-x:auto;line-height:normal;font-family:Menlo,'DejaVu Sans Mono',consolas,'Courier New',monospace\"><span style=\"font-weight: bold\"> Total params: </span><span style=\"color: #00af00; text-decoration-color: #00af00\">43,701</span> (170.71 KB)\n",
       "</pre>\n"
      ],
      "text/plain": [
       "\u001b[1m Total params: \u001b[0m\u001b[38;5;34m43,701\u001b[0m (170.71 KB)\n"
      ]
     },
     "metadata": {},
     "output_type": "display_data"
    },
    {
     "data": {
      "text/html": [
       "<pre style=\"white-space:pre;overflow-x:auto;line-height:normal;font-family:Menlo,'DejaVu Sans Mono',consolas,'Courier New',monospace\"><span style=\"font-weight: bold\"> Trainable params: </span><span style=\"color: #00af00; text-decoration-color: #00af00\">43,701</span> (170.71 KB)\n",
       "</pre>\n"
      ],
      "text/plain": [
       "\u001b[1m Trainable params: \u001b[0m\u001b[38;5;34m43,701\u001b[0m (170.71 KB)\n"
      ]
     },
     "metadata": {},
     "output_type": "display_data"
    },
    {
     "data": {
      "text/html": [
       "<pre style=\"white-space:pre;overflow-x:auto;line-height:normal;font-family:Menlo,'DejaVu Sans Mono',consolas,'Courier New',monospace\"><span style=\"font-weight: bold\"> Non-trainable params: </span><span style=\"color: #00af00; text-decoration-color: #00af00\">0</span> (0.00 B)\n",
       "</pre>\n"
      ],
      "text/plain": [
       "\u001b[1m Non-trainable params: \u001b[0m\u001b[38;5;34m0\u001b[0m (0.00 B)\n"
      ]
     },
     "metadata": {},
     "output_type": "display_data"
    },
    {
     "name": "stdout",
     "output_type": "stream",
     "text": [
      "None\n"
     ]
    }
   ],
   "source": [
    "print(model.summary())"
   ]
  },
  {
   "cell_type": "markdown",
   "metadata": {},
   "source": [
    "Our model is a little bigger now, at just over 43,000 parameters. Each unit in the LSTM layer has multiple weights: some to connect the input values, and some to control the contribution of previous information"
   ]
  },
  {
   "cell_type": "code",
   "execution_count": 26,
   "metadata": {},
   "outputs": [
    {
     "data": {
      "image/png": "[encoded data removed]",
      "text/plain": [
       "<IPython.core.display.Image object>"
      ]
     },
     "execution_count": 26,
     "metadata": {},
     "output_type": "execute_result"
    }
   ],
   "source": [
    "from tensorflow.keras.utils import plot_model\n",
    "plot_model(model, show_shapes=True, dpi=96)"
   ]
  },
  {
   "cell_type": "markdown",
   "metadata": {},
   "source": [
    "Next, we'll do the usual steps of compiling the model, setting up a callback and then training the model. We'll train for a higher number of epochs as we have amore complex model"
   ]
  },
  {
   "cell_type": "code",
   "execution_count": 27,
   "metadata": {},
   "outputs": [],
   "source": [
    "model.compile(optimizer=keras.optimizers.Adam(learning_rate=1e-3), loss=myloss, metrics=mymetric)\n",
    "callbacks = [\n",
    "    keras.callbacks.ModelCheckpoint(\"aq_model2.keras\",\n",
    "                                    save_best_only=True)\n",
    "]"
   ]
  },
  {
   "cell_type": "code",
   "execution_count": 28,
   "metadata": {},
   "outputs": [
    {
     "name": "stdout",
     "output_type": "stream",
     "text": [
      "Epoch 1/30\n",
      "137/137 - 1s - 6ms/step - loss: 0.0066 - mae: 0.0599 - val_loss: 0.0081 - val_mae: 0.0788\n",
      "Epoch 2/30\n",
      "137/137 - 0s - 2ms/step - loss: 0.0028 - mae: 0.0385 - val_loss: 0.0084 - val_mae: 0.0773\n",
      "Epoch 3/30\n",
      "137/137 - 0s - 2ms/step - loss: 0.0014 - mae: 0.0253 - val_loss: 0.0060 - val_mae: 0.0631\n",
      "Epoch 4/30\n",
      "137/137 - 0s - 2ms/step - loss: 0.0012 - mae: 0.0209 - val_loss: 0.0039 - val_mae: 0.0496\n",
      "Epoch 5/30\n",
      "137/137 - 0s - 2ms/step - loss: 0.0011 - mae: 0.0185 - val_loss: 0.0027 - val_mae: 0.0412\n",
      "Epoch 6/30\n",
      "137/137 - 0s - 2ms/step - loss: 0.0010 - mae: 0.0172 - val_loss: 0.0021 - val_mae: 0.0357\n",
      "Epoch 7/30\n",
      "137/137 - 0s - 2ms/step - loss: 9.9058e-04 - mae: 0.0164 - val_loss: 0.0018 - val_mae: 0.0320\n",
      "Epoch 8/30\n",
      "137/137 - 0s - 2ms/step - loss: 9.8125e-04 - mae: 0.0160 - val_loss: 0.0016 - val_mae: 0.0294\n",
      "Epoch 9/30\n",
      "137/137 - 0s - 2ms/step - loss: 9.7765e-04 - mae: 0.0158 - val_loss: 0.0014 - val_mae: 0.0276\n",
      "Epoch 10/30\n",
      "137/137 - 0s - 2ms/step - loss: 9.7744e-04 - mae: 0.0157 - val_loss: 0.0014 - val_mae: 0.0264\n",
      "Epoch 11/30\n",
      "137/137 - 0s - 2ms/step - loss: 9.7881e-04 - mae: 0.0157 - val_loss: 0.0013 - val_mae: 0.0257\n",
      "Epoch 12/30\n",
      "137/137 - 0s - 2ms/step - loss: 9.8069e-04 - mae: 0.0157 - val_loss: 0.0013 - val_mae: 0.0254\n",
      "Epoch 13/30\n",
      "137/137 - 0s - 2ms/step - loss: 9.8251e-04 - mae: 0.0157 - val_loss: 0.0013 - val_mae: 0.0255\n",
      "Epoch 14/30\n",
      "137/137 - 0s - 2ms/step - loss: 9.8406e-04 - mae: 0.0158 - val_loss: 0.0013 - val_mae: 0.0259\n",
      "Epoch 15/30\n",
      "137/137 - 0s - 2ms/step - loss: 9.8534e-04 - mae: 0.0158 - val_loss: 0.0013 - val_mae: 0.0263\n",
      "Epoch 16/30\n",
      "137/137 - 0s - 2ms/step - loss: 9.8643e-04 - mae: 0.0159 - val_loss: 0.0014 - val_mae: 0.0269\n",
      "Epoch 17/30\n",
      "137/137 - 0s - 2ms/step - loss: 9.8737e-04 - mae: 0.0160 - val_loss: 0.0014 - val_mae: 0.0274\n",
      "Epoch 18/30\n",
      "137/137 - 0s - 2ms/step - loss: 9.8817e-04 - mae: 0.0160 - val_loss: 0.0014 - val_mae: 0.0278\n",
      "Epoch 19/30\n",
      "137/137 - 0s - 2ms/step - loss: 9.8879e-04 - mae: 0.0160 - val_loss: 0.0015 - val_mae: 0.0282\n",
      "Epoch 20/30\n",
      "137/137 - 0s - 2ms/step - loss: 9.8921e-04 - mae: 0.0161 - val_loss: 0.0015 - val_mae: 0.0285\n",
      "Epoch 21/30\n",
      "137/137 - 0s - 2ms/step - loss: 9.8942e-04 - mae: 0.0161 - val_loss: 0.0015 - val_mae: 0.0287\n",
      "Epoch 22/30\n",
      "137/137 - 0s - 2ms/step - loss: 9.8946e-04 - mae: 0.0161 - val_loss: 0.0015 - val_mae: 0.0288\n",
      "Epoch 23/30\n",
      "137/137 - 0s - 2ms/step - loss: 9.8934e-04 - mae: 0.0161 - val_loss: 0.0015 - val_mae: 0.0288\n",
      "Epoch 24/30\n",
      "137/137 - 0s - 2ms/step - loss: 9.8909e-04 - mae: 0.0161 - val_loss: 0.0015 - val_mae: 0.0287\n",
      "Epoch 25/30\n",
      "137/137 - 0s - 2ms/step - loss: 9.8874e-04 - mae: 0.0161 - val_loss: 0.0015 - val_mae: 0.0285\n",
      "Epoch 26/30\n",
      "137/137 - 0s - 2ms/step - loss: 9.8831e-04 - mae: 0.0161 - val_loss: 0.0015 - val_mae: 0.0282\n",
      "Epoch 27/30\n",
      "137/137 - 0s - 2ms/step - loss: 9.8780e-04 - mae: 0.0161 - val_loss: 0.0015 - val_mae: 0.0279\n",
      "Epoch 28/30\n",
      "137/137 - 0s - 2ms/step - loss: 9.8723e-04 - mae: 0.0161 - val_loss: 0.0014 - val_mae: 0.0276\n",
      "Epoch 29/30\n",
      "137/137 - 0s - 2ms/step - loss: 9.8662e-04 - mae: 0.0161 - val_loss: 0.0014 - val_mae: 0.0272\n",
      "Epoch 30/30\n",
      "137/137 - 0s - 2ms/step - loss: 9.8598e-04 - mae: 0.0161 - val_loss: 0.0014 - val_mae: 0.0268\n"
     ]
    }
   ],
   "source": [
    "# fit network\n",
    "history = model.fit(X_train, y_train, \n",
    "                    epochs=30, batch_size=64, \n",
    "                    validation_data=(X_test, y_test),\n",
    "                    callbacks=callbacks,\n",
    "                    verbose=2, shuffle=False)"
   ]
  },
  {
   "cell_type": "markdown",
   "metadata": {},
   "source": [
    "The loss curves show that the model stabilizes somewhere around 15 epochs or so"
   ]
  },
  {
   "cell_type": "code",
   "execution_count": 29,
   "metadata": {},
   "outputs": [
    {
     "data": {
      "image/png": "[encoded data removed]",
      "text/plain": [
       "<Figure size 640x480 with 1 Axes>"
      ]
     },
     "metadata": {},
     "output_type": "display_data"
    }
   ],
   "source": [
    "# plot history\n",
    "plt.plot(history.history['loss'], label='train')\n",
    "plt.plot(history.history['val_loss'], label='valid')\n",
    "plt.legend()\n",
    "plt.show()"
   ]
  },
  {
   "cell_type": "markdown",
   "metadata": {},
   "source": [
    "And we'll evaluate for the test set. You should get a small improvement here, but not a great deal. The reason for this is that we are using a model that tries to link past information to the present, but we have only used 1 previous time step. We'll address this next"
   ]
  },
  {
   "cell_type": "code",
   "execution_count": 30,
   "metadata": {},
   "outputs": [
    {
     "name": "stdout",
     "output_type": "stream",
     "text": [
      "Mean squared error: 0.00129\n",
      "Mean absolute error: 0.02543\n"
     ]
    }
   ],
   "source": [
    "model = keras.models.load_model(\"aq_model2.keras\")\n",
    "calc_mae(model, X_test, y_test)"
   ]
  },
  {
   "cell_type": "markdown",
   "metadata": {},
   "source": [
    "# Model 3: LSTM with multiple time steps\n",
    "\n",
    "For this next model, we'll link sequences of 12 hours of data to each observation point. Each input tensor will have the shape (12, 8), and the overall input dataframe will be (n, 12, 8), where `n` is the total number of observations in the training set. Note that this will be smaller that the `n` for the previous dataset, as we lose the first 12 observations (as there are not enough preceding values to make the sequences). Note that 12 is a fairly small sequence to use here - for daily data, we might want to use 24 or even several days worth of data prior to the observation point. \n",
    "\n",
    "First define the number of steps and features:"
   ]
  },
  {
   "cell_type": "code",
   "execution_count": 31,
   "metadata": {},
   "outputs": [],
   "source": [
    "n_steps = 12\n",
    "n_features = 8"
   ]
  },
  {
   "cell_type": "markdown",
   "metadata": {},
   "source": [
    "Now we'll reuse the function from above to make a dataframe with the 12 lags:"
   ]
  },
  {
   "cell_type": "code",
   "execution_count": 32,
   "metadata": {},
   "outputs": [
    {
     "data": {
      "text/html": [
       "<div>\n",
       "<style scoped>\n",
       "    .dataframe tbody tr th:only-of-type {\n",
       "        vertical-align: middle;\n",
       "    }\n",
       "\n",
       "    .dataframe tbody tr th {\n",
       "        vertical-align: top;\n",
       "    }\n",
       "\n",
       "    .dataframe thead th {\n",
       "        text-align: right;\n",
       "    }\n",
       "</style>\n",
       "<table border=\"1\" class=\"dataframe\">\n",
       "  <thead>\n",
       "    <tr style=\"text-align: right;\">\n",
       "      <th></th>\n",
       "      <th>var1(t-12)</th>\n",
       "      <th>var2(t-12)</th>\n",
       "      <th>var3(t-12)</th>\n",
       "      <th>var4(t-12)</th>\n",
       "      <th>var5(t-12)</th>\n",
       "      <th>var6(t-12)</th>\n",
       "      <th>var7(t-12)</th>\n",
       "      <th>var8(t-12)</th>\n",
       "      <th>var1(t-11)</th>\n",
       "      <th>var2(t-11)</th>\n",
       "      <th>...</th>\n",
       "      <th>var7(t-1)</th>\n",
       "      <th>var8(t-1)</th>\n",
       "      <th>var1(t)</th>\n",
       "      <th>var2(t)</th>\n",
       "      <th>var3(t)</th>\n",
       "      <th>var4(t)</th>\n",
       "      <th>var5(t)</th>\n",
       "      <th>var6(t)</th>\n",
       "      <th>var7(t)</th>\n",
       "      <th>var8(t)</th>\n",
       "    </tr>\n",
       "  </thead>\n",
       "  <tbody>\n",
       "    <tr>\n",
       "      <th>12</th>\n",
       "      <td>0.129779</td>\n",
       "      <td>0.352941</td>\n",
       "      <td>0.245902</td>\n",
       "      <td>0.527273</td>\n",
       "      <td>0.666667</td>\n",
       "      <td>0.002290</td>\n",
       "      <td>0.000000</td>\n",
       "      <td>0.0</td>\n",
       "      <td>0.148893</td>\n",
       "      <td>0.367647</td>\n",
       "      <td>...</td>\n",
       "      <td>0.0</td>\n",
       "      <td>0.0</td>\n",
       "      <td>0.148893</td>\n",
       "      <td>0.470588</td>\n",
       "      <td>0.229508</td>\n",
       "      <td>0.636364</td>\n",
       "      <td>0.666667</td>\n",
       "      <td>0.039716</td>\n",
       "      <td>0.0</td>\n",
       "      <td>0.0</td>\n",
       "    </tr>\n",
       "    <tr>\n",
       "      <th>13</th>\n",
       "      <td>0.148893</td>\n",
       "      <td>0.367647</td>\n",
       "      <td>0.245902</td>\n",
       "      <td>0.527273</td>\n",
       "      <td>0.666667</td>\n",
       "      <td>0.003811</td>\n",
       "      <td>0.000000</td>\n",
       "      <td>0.0</td>\n",
       "      <td>0.159960</td>\n",
       "      <td>0.426471</td>\n",
       "      <td>...</td>\n",
       "      <td>0.0</td>\n",
       "      <td>0.0</td>\n",
       "      <td>0.164990</td>\n",
       "      <td>0.470588</td>\n",
       "      <td>0.229508</td>\n",
       "      <td>0.618183</td>\n",
       "      <td>0.666667</td>\n",
       "      <td>0.046586</td>\n",
       "      <td>0.0</td>\n",
       "      <td>0.0</td>\n",
       "    </tr>\n",
       "    <tr>\n",
       "      <th>14</th>\n",
       "      <td>0.159960</td>\n",
       "      <td>0.426471</td>\n",
       "      <td>0.229508</td>\n",
       "      <td>0.545454</td>\n",
       "      <td>0.666667</td>\n",
       "      <td>0.005332</td>\n",
       "      <td>0.000000</td>\n",
       "      <td>0.0</td>\n",
       "      <td>0.182093</td>\n",
       "      <td>0.485294</td>\n",
       "      <td>...</td>\n",
       "      <td>0.0</td>\n",
       "      <td>0.0</td>\n",
       "      <td>0.158954</td>\n",
       "      <td>0.455882</td>\n",
       "      <td>0.229508</td>\n",
       "      <td>0.618183</td>\n",
       "      <td>0.666667</td>\n",
       "      <td>0.053456</td>\n",
       "      <td>0.0</td>\n",
       "      <td>0.0</td>\n",
       "    </tr>\n",
       "    <tr>\n",
       "      <th>15</th>\n",
       "      <td>0.182093</td>\n",
       "      <td>0.485294</td>\n",
       "      <td>0.229508</td>\n",
       "      <td>0.563637</td>\n",
       "      <td>0.666667</td>\n",
       "      <td>0.008391</td>\n",
       "      <td>0.037037</td>\n",
       "      <td>0.0</td>\n",
       "      <td>0.138833</td>\n",
       "      <td>0.485294</td>\n",
       "      <td>...</td>\n",
       "      <td>0.0</td>\n",
       "      <td>0.0</td>\n",
       "      <td>0.154930</td>\n",
       "      <td>0.455882</td>\n",
       "      <td>0.229508</td>\n",
       "      <td>0.618183</td>\n",
       "      <td>0.666667</td>\n",
       "      <td>0.060326</td>\n",
       "      <td>0.0</td>\n",
       "      <td>0.0</td>\n",
       "    </tr>\n",
       "    <tr>\n",
       "      <th>16</th>\n",
       "      <td>0.138833</td>\n",
       "      <td>0.485294</td>\n",
       "      <td>0.229508</td>\n",
       "      <td>0.563637</td>\n",
       "      <td>0.666667</td>\n",
       "      <td>0.009912</td>\n",
       "      <td>0.074074</td>\n",
       "      <td>0.0</td>\n",
       "      <td>0.109658</td>\n",
       "      <td>0.485294</td>\n",
       "      <td>...</td>\n",
       "      <td>0.0</td>\n",
       "      <td>0.0</td>\n",
       "      <td>0.159960</td>\n",
       "      <td>0.455882</td>\n",
       "      <td>0.229508</td>\n",
       "      <td>0.636364</td>\n",
       "      <td>0.666667</td>\n",
       "      <td>0.063385</td>\n",
       "      <td>0.0</td>\n",
       "      <td>0.0</td>\n",
       "    </tr>\n",
       "    <tr>\n",
       "      <th>...</th>\n",
       "      <td>...</td>\n",
       "      <td>...</td>\n",
       "      <td>...</td>\n",
       "      <td>...</td>\n",
       "      <td>...</td>\n",
       "      <td>...</td>\n",
       "      <td>...</td>\n",
       "      <td>...</td>\n",
       "      <td>...</td>\n",
       "      <td>...</td>\n",
       "      <td>...</td>\n",
       "      <td>...</td>\n",
       "      <td>...</td>\n",
       "      <td>...</td>\n",
       "      <td>...</td>\n",
       "      <td>...</td>\n",
       "      <td>...</td>\n",
       "      <td>...</td>\n",
       "      <td>...</td>\n",
       "      <td>...</td>\n",
       "      <td>...</td>\n",
       "    </tr>\n",
       "    <tr>\n",
       "      <th>43795</th>\n",
       "      <td>0.008048</td>\n",
       "      <td>0.264706</td>\n",
       "      <td>0.229508</td>\n",
       "      <td>0.781818</td>\n",
       "      <td>0.333333</td>\n",
       "      <td>0.243664</td>\n",
       "      <td>0.000000</td>\n",
       "      <td>0.0</td>\n",
       "      <td>0.008048</td>\n",
       "      <td>0.264706</td>\n",
       "      <td>...</td>\n",
       "      <td>0.0</td>\n",
       "      <td>0.0</td>\n",
       "      <td>0.008048</td>\n",
       "      <td>0.250000</td>\n",
       "      <td>0.278689</td>\n",
       "      <td>0.781818</td>\n",
       "      <td>0.333333</td>\n",
       "      <td>0.395659</td>\n",
       "      <td>0.0</td>\n",
       "      <td>0.0</td>\n",
       "    </tr>\n",
       "    <tr>\n",
       "      <th>43796</th>\n",
       "      <td>0.008048</td>\n",
       "      <td>0.264706</td>\n",
       "      <td>0.229508</td>\n",
       "      <td>0.781818</td>\n",
       "      <td>0.333333</td>\n",
       "      <td>0.255883</td>\n",
       "      <td>0.000000</td>\n",
       "      <td>0.0</td>\n",
       "      <td>0.008048</td>\n",
       "      <td>0.264706</td>\n",
       "      <td>...</td>\n",
       "      <td>0.0</td>\n",
       "      <td>0.0</td>\n",
       "      <td>0.010060</td>\n",
       "      <td>0.264706</td>\n",
       "      <td>0.262295</td>\n",
       "      <td>0.781818</td>\n",
       "      <td>0.333333</td>\n",
       "      <td>0.405588</td>\n",
       "      <td>0.0</td>\n",
       "      <td>0.0</td>\n",
       "    </tr>\n",
       "    <tr>\n",
       "      <th>43797</th>\n",
       "      <td>0.008048</td>\n",
       "      <td>0.264706</td>\n",
       "      <td>0.262295</td>\n",
       "      <td>0.781818</td>\n",
       "      <td>0.333333</td>\n",
       "      <td>0.265812</td>\n",
       "      <td>0.000000</td>\n",
       "      <td>0.0</td>\n",
       "      <td>0.007042</td>\n",
       "      <td>0.264706</td>\n",
       "      <td>...</td>\n",
       "      <td>0.0</td>\n",
       "      <td>0.0</td>\n",
       "      <td>0.010060</td>\n",
       "      <td>0.264706</td>\n",
       "      <td>0.262295</td>\n",
       "      <td>0.781818</td>\n",
       "      <td>0.333333</td>\n",
       "      <td>0.413996</td>\n",
       "      <td>0.0</td>\n",
       "      <td>0.0</td>\n",
       "    </tr>\n",
       "    <tr>\n",
       "      <th>43798</th>\n",
       "      <td>0.007042</td>\n",
       "      <td>0.264706</td>\n",
       "      <td>0.278689</td>\n",
       "      <td>0.781818</td>\n",
       "      <td>0.333333</td>\n",
       "      <td>0.278031</td>\n",
       "      <td>0.000000</td>\n",
       "      <td>0.0</td>\n",
       "      <td>0.012072</td>\n",
       "      <td>0.264706</td>\n",
       "      <td>...</td>\n",
       "      <td>0.0</td>\n",
       "      <td>0.0</td>\n",
       "      <td>0.008048</td>\n",
       "      <td>0.264706</td>\n",
       "      <td>0.245902</td>\n",
       "      <td>0.781818</td>\n",
       "      <td>0.333333</td>\n",
       "      <td>0.420866</td>\n",
       "      <td>0.0</td>\n",
       "      <td>0.0</td>\n",
       "    </tr>\n",
       "    <tr>\n",
       "      <th>43799</th>\n",
       "      <td>0.012072</td>\n",
       "      <td>0.264706</td>\n",
       "      <td>0.278689</td>\n",
       "      <td>0.781818</td>\n",
       "      <td>0.333333</td>\n",
       "      <td>0.290250</td>\n",
       "      <td>0.000000</td>\n",
       "      <td>0.0</td>\n",
       "      <td>0.017103</td>\n",
       "      <td>0.264706</td>\n",
       "      <td>...</td>\n",
       "      <td>0.0</td>\n",
       "      <td>0.0</td>\n",
       "      <td>0.012072</td>\n",
       "      <td>0.279412</td>\n",
       "      <td>0.262295</td>\n",
       "      <td>0.781818</td>\n",
       "      <td>0.333333</td>\n",
       "      <td>0.426216</td>\n",
       "      <td>0.0</td>\n",
       "      <td>0.0</td>\n",
       "    </tr>\n",
       "  </tbody>\n",
       "</table>\n",
       "<p>43788 rows × 104 columns</p>\n",
       "</div>"
      ],
      "text/plain": [
       "       var1(t-12)  var2(t-12)  var3(t-12)  var4(t-12)  var5(t-12)  var6(t-12)  \\\n",
       "12       0.129779    0.352941    0.245902    0.527273    0.666667    0.002290   \n",
       "13       0.148893    0.367647    0.245902    0.527273    0.666667    0.003811   \n",
       "14       0.159960    0.426471    0.229508    0.545454    0.666667    0.005332   \n",
       "15       0.182093    0.485294    0.229508    0.563637    0.666667    0.008391   \n",
       "16       0.138833    0.485294    0.229508    0.563637    0.666667    0.009912   \n",
       "...           ...         ...         ...         ...         ...         ...   \n",
       "43795    0.008048    0.264706    0.229508    0.781818    0.333333    0.243664   \n",
       "43796    0.008048    0.264706    0.229508    0.781818    0.333333    0.255883   \n",
       "43797    0.008048    0.264706    0.262295    0.781818    0.333333    0.265812   \n",
       "43798    0.007042    0.264706    0.278689    0.781818    0.333333    0.278031   \n",
       "43799    0.012072    0.264706    0.278689    0.781818    0.333333    0.290250   \n",
       "\n",
       "       var7(t-12)  var8(t-12)  var1(t-11)  var2(t-11)  ...  var7(t-1)  \\\n",
       "12       0.000000         0.0    0.148893    0.367647  ...        0.0   \n",
       "13       0.000000         0.0    0.159960    0.426471  ...        0.0   \n",
       "14       0.000000         0.0    0.182093    0.485294  ...        0.0   \n",
       "15       0.037037         0.0    0.138833    0.485294  ...        0.0   \n",
       "16       0.074074         0.0    0.109658    0.485294  ...        0.0   \n",
       "...           ...         ...         ...         ...  ...        ...   \n",
       "43795    0.000000         0.0    0.008048    0.264706  ...        0.0   \n",
       "43796    0.000000         0.0    0.008048    0.264706  ...        0.0   \n",
       "43797    0.000000         0.0    0.007042    0.264706  ...        0.0   \n",
       "43798    0.000000         0.0    0.012072    0.264706  ...        0.0   \n",
       "43799    0.000000         0.0    0.017103    0.264706  ...        0.0   \n",
       "\n",
       "       var8(t-1)   var1(t)   var2(t)   var3(t)   var4(t)   var5(t)   var6(t)  \\\n",
       "12           0.0  0.148893  0.470588  0.229508  0.636364  0.666667  0.039716   \n",
       "13           0.0  0.164990  0.470588  0.229508  0.618183  0.666667  0.046586   \n",
       "14           0.0  0.158954  0.455882  0.229508  0.618183  0.666667  0.053456   \n",
       "15           0.0  0.154930  0.455882  0.229508  0.618183  0.666667  0.060326   \n",
       "16           0.0  0.159960  0.455882  0.229508  0.636364  0.666667  0.063385   \n",
       "...          ...       ...       ...       ...       ...       ...       ...   \n",
       "43795        0.0  0.008048  0.250000  0.278689  0.781818  0.333333  0.395659   \n",
       "43796        0.0  0.010060  0.264706  0.262295  0.781818  0.333333  0.405588   \n",
       "43797        0.0  0.010060  0.264706  0.262295  0.781818  0.333333  0.413996   \n",
       "43798        0.0  0.008048  0.264706  0.245902  0.781818  0.333333  0.420866   \n",
       "43799        0.0  0.012072  0.279412  0.262295  0.781818  0.333333  0.426216   \n",
       "\n",
       "       var7(t)  var8(t)  \n",
       "12         0.0      0.0  \n",
       "13         0.0      0.0  \n",
       "14         0.0      0.0  \n",
       "15         0.0      0.0  \n",
       "16         0.0      0.0  \n",
       "...        ...      ...  \n",
       "43795      0.0      0.0  \n",
       "43796      0.0      0.0  \n",
       "43797      0.0      0.0  \n",
       "43798      0.0      0.0  \n",
       "43799      0.0      0.0  \n",
       "\n",
       "[43788 rows x 104 columns]"
      ]
     },
     "execution_count": 32,
     "metadata": {},
     "output_type": "execute_result"
    }
   ],
   "source": [
    "reframed = series_to_supervised(scaled, n_steps, 1)\n",
    "reframed"
   ]
  },
  {
   "cell_type": "markdown",
   "metadata": {},
   "source": [
    "Remove the last 7 columns (the features at time `t`):"
   ]
  },
  {
   "cell_type": "code",
   "execution_count": 33,
   "metadata": {},
   "outputs": [
    {
     "data": {
      "text/html": [
       "<div>\n",
       "<style scoped>\n",
       "    .dataframe tbody tr th:only-of-type {\n",
       "        vertical-align: middle;\n",
       "    }\n",
       "\n",
       "    .dataframe tbody tr th {\n",
       "        vertical-align: top;\n",
       "    }\n",
       "\n",
       "    .dataframe thead th {\n",
       "        text-align: right;\n",
       "    }\n",
       "</style>\n",
       "<table border=\"1\" class=\"dataframe\">\n",
       "  <thead>\n",
       "    <tr style=\"text-align: right;\">\n",
       "      <th></th>\n",
       "      <th>var1(t-12)</th>\n",
       "      <th>var2(t-12)</th>\n",
       "      <th>var3(t-12)</th>\n",
       "      <th>var4(t-12)</th>\n",
       "      <th>var5(t-12)</th>\n",
       "      <th>var6(t-12)</th>\n",
       "      <th>var7(t-12)</th>\n",
       "      <th>var8(t-12)</th>\n",
       "      <th>var1(t-11)</th>\n",
       "      <th>var2(t-11)</th>\n",
       "      <th>...</th>\n",
       "      <th>var8(t-2)</th>\n",
       "      <th>var1(t-1)</th>\n",
       "      <th>var2(t-1)</th>\n",
       "      <th>var3(t-1)</th>\n",
       "      <th>var4(t-1)</th>\n",
       "      <th>var5(t-1)</th>\n",
       "      <th>var6(t-1)</th>\n",
       "      <th>var7(t-1)</th>\n",
       "      <th>var8(t-1)</th>\n",
       "      <th>var1(t)</th>\n",
       "    </tr>\n",
       "  </thead>\n",
       "  <tbody>\n",
       "    <tr>\n",
       "      <th>12</th>\n",
       "      <td>0.129779</td>\n",
       "      <td>0.352941</td>\n",
       "      <td>0.245902</td>\n",
       "      <td>0.527273</td>\n",
       "      <td>0.666667</td>\n",
       "      <td>0.002290</td>\n",
       "      <td>0.000000</td>\n",
       "      <td>0.0</td>\n",
       "      <td>0.148893</td>\n",
       "      <td>0.367647</td>\n",
       "      <td>...</td>\n",
       "      <td>0.0</td>\n",
       "      <td>0.152918</td>\n",
       "      <td>0.470588</td>\n",
       "      <td>0.229508</td>\n",
       "      <td>0.636364</td>\n",
       "      <td>0.666667</td>\n",
       "      <td>0.034367</td>\n",
       "      <td>0.0</td>\n",
       "      <td>0.0</td>\n",
       "      <td>0.148893</td>\n",
       "    </tr>\n",
       "    <tr>\n",
       "      <th>13</th>\n",
       "      <td>0.148893</td>\n",
       "      <td>0.367647</td>\n",
       "      <td>0.245902</td>\n",
       "      <td>0.527273</td>\n",
       "      <td>0.666667</td>\n",
       "      <td>0.003811</td>\n",
       "      <td>0.000000</td>\n",
       "      <td>0.0</td>\n",
       "      <td>0.159960</td>\n",
       "      <td>0.426471</td>\n",
       "      <td>...</td>\n",
       "      <td>0.0</td>\n",
       "      <td>0.148893</td>\n",
       "      <td>0.470588</td>\n",
       "      <td>0.229508</td>\n",
       "      <td>0.636364</td>\n",
       "      <td>0.666667</td>\n",
       "      <td>0.039716</td>\n",
       "      <td>0.0</td>\n",
       "      <td>0.0</td>\n",
       "      <td>0.164990</td>\n",
       "    </tr>\n",
       "    <tr>\n",
       "      <th>14</th>\n",
       "      <td>0.159960</td>\n",
       "      <td>0.426471</td>\n",
       "      <td>0.229508</td>\n",
       "      <td>0.545454</td>\n",
       "      <td>0.666667</td>\n",
       "      <td>0.005332</td>\n",
       "      <td>0.000000</td>\n",
       "      <td>0.0</td>\n",
       "      <td>0.182093</td>\n",
       "      <td>0.485294</td>\n",
       "      <td>...</td>\n",
       "      <td>0.0</td>\n",
       "      <td>0.164990</td>\n",
       "      <td>0.470588</td>\n",
       "      <td>0.229508</td>\n",
       "      <td>0.618183</td>\n",
       "      <td>0.666667</td>\n",
       "      <td>0.046586</td>\n",
       "      <td>0.0</td>\n",
       "      <td>0.0</td>\n",
       "      <td>0.158954</td>\n",
       "    </tr>\n",
       "    <tr>\n",
       "      <th>15</th>\n",
       "      <td>0.182093</td>\n",
       "      <td>0.485294</td>\n",
       "      <td>0.229508</td>\n",
       "      <td>0.563637</td>\n",
       "      <td>0.666667</td>\n",
       "      <td>0.008391</td>\n",
       "      <td>0.037037</td>\n",
       "      <td>0.0</td>\n",
       "      <td>0.138833</td>\n",
       "      <td>0.485294</td>\n",
       "      <td>...</td>\n",
       "      <td>0.0</td>\n",
       "      <td>0.158954</td>\n",
       "      <td>0.455882</td>\n",
       "      <td>0.229508</td>\n",
       "      <td>0.618183</td>\n",
       "      <td>0.666667</td>\n",
       "      <td>0.053456</td>\n",
       "      <td>0.0</td>\n",
       "      <td>0.0</td>\n",
       "      <td>0.154930</td>\n",
       "    </tr>\n",
       "    <tr>\n",
       "      <th>16</th>\n",
       "      <td>0.138833</td>\n",
       "      <td>0.485294</td>\n",
       "      <td>0.229508</td>\n",
       "      <td>0.563637</td>\n",
       "      <td>0.666667</td>\n",
       "      <td>0.009912</td>\n",
       "      <td>0.074074</td>\n",
       "      <td>0.0</td>\n",
       "      <td>0.109658</td>\n",
       "      <td>0.485294</td>\n",
       "      <td>...</td>\n",
       "      <td>0.0</td>\n",
       "      <td>0.154930</td>\n",
       "      <td>0.455882</td>\n",
       "      <td>0.229508</td>\n",
       "      <td>0.618183</td>\n",
       "      <td>0.666667</td>\n",
       "      <td>0.060326</td>\n",
       "      <td>0.0</td>\n",
       "      <td>0.0</td>\n",
       "      <td>0.159960</td>\n",
       "    </tr>\n",
       "  </tbody>\n",
       "</table>\n",
       "<p>5 rows × 97 columns</p>\n",
       "</div>"
      ],
      "text/plain": [
       "    var1(t-12)  var2(t-12)  var3(t-12)  var4(t-12)  var5(t-12)  var6(t-12)  \\\n",
       "12    0.129779    0.352941    0.245902    0.527273    0.666667    0.002290   \n",
       "13    0.148893    0.367647    0.245902    0.527273    0.666667    0.003811   \n",
       "14    0.159960    0.426471    0.229508    0.545454    0.666667    0.005332   \n",
       "15    0.182093    0.485294    0.229508    0.563637    0.666667    0.008391   \n",
       "16    0.138833    0.485294    0.229508    0.563637    0.666667    0.009912   \n",
       "\n",
       "    var7(t-12)  var8(t-12)  var1(t-11)  var2(t-11)  ...  var8(t-2)  var1(t-1)  \\\n",
       "12    0.000000         0.0    0.148893    0.367647  ...        0.0   0.152918   \n",
       "13    0.000000         0.0    0.159960    0.426471  ...        0.0   0.148893   \n",
       "14    0.000000         0.0    0.182093    0.485294  ...        0.0   0.164990   \n",
       "15    0.037037         0.0    0.138833    0.485294  ...        0.0   0.158954   \n",
       "16    0.074074         0.0    0.109658    0.485294  ...        0.0   0.154930   \n",
       "\n",
       "    var2(t-1)  var3(t-1)  var4(t-1)  var5(t-1)  var6(t-1)  var7(t-1)  \\\n",
       "12   0.470588   0.229508   0.636364   0.666667   0.034367        0.0   \n",
       "13   0.470588   0.229508   0.636364   0.666667   0.039716        0.0   \n",
       "14   0.470588   0.229508   0.618183   0.666667   0.046586        0.0   \n",
       "15   0.455882   0.229508   0.618183   0.666667   0.053456        0.0   \n",
       "16   0.455882   0.229508   0.618183   0.666667   0.060326        0.0   \n",
       "\n",
       "    var8(t-1)   var1(t)  \n",
       "12        0.0  0.148893  \n",
       "13        0.0  0.164990  \n",
       "14        0.0  0.158954  \n",
       "15        0.0  0.154930  \n",
       "16        0.0  0.159960  \n",
       "\n",
       "[5 rows x 97 columns]"
      ]
     },
     "execution_count": 33,
     "metadata": {},
     "output_type": "execute_result"
    }
   ],
   "source": [
    "reframed = reframed.iloc[:, :-7]\n",
    "reframed.head()"
   ]
  },
  {
   "cell_type": "markdown",
   "metadata": {},
   "source": [
    "And split into training and testing"
   ]
  },
  {
   "cell_type": "code",
   "execution_count": 34,
   "metadata": {},
   "outputs": [
    {
     "name": "stdout",
     "output_type": "stream",
     "text": [
      "(8760, 12, 8) (8760,) (35028, 12, 8) (35028,)\n"
     ]
    }
   ],
   "source": [
    "# split into train and test sets\n",
    "values = reframed.values\n",
    "n_train_hours = 365 * 24 ## One year of data\n",
    "train = values[:n_train_hours, :]\n",
    "test = values[n_train_hours:, :]\n",
    "# split into input and outputs\n",
    "X_train, y_train = train[:, :-1], train[:, -1]\n",
    "X_test, y_test = test[:, :-1], test[:, -1]\n",
    "# reshape input to be 3D [samples, timesteps, features]\n",
    "X_train = X_train.reshape((X_train.shape[0], n_steps, n_features))\n",
    "X_test = X_test.reshape((X_test.shape[0], n_steps, n_features))\n",
    "print(X_train.shape, y_train.shape, X_test.shape, y_test.shape)"
   ]
  },
  {
   "cell_type": "markdown",
   "metadata": {},
   "source": [
    "Check that the second dimension of the `X` data is equal to the number of steps in each sequence. Now let's go ahead and build and train our model. We'll use the same architecture as the previous model, but a slightly lower learning rate and a higher number of epochs"
   ]
  },
  {
   "cell_type": "code",
   "execution_count": 35,
   "metadata": {},
   "outputs": [],
   "source": [
    "model = models.Sequential([                        \n",
    "      layers.Input(shape=(X_train.shape[1], X_train.shape[2])),                     \n",
    "      layers.LSTM(100),\n",
    "      layers.Dense(1)\n",
    "])\n",
    "\n",
    "model.compile(optimizer=keras.optimizers.Adam(learning_rate=1e-3), loss=myloss, metrics=mymetric)\n",
    "callbacks = [\n",
    "    keras.callbacks.ModelCheckpoint(\"aq_model3.keras\",\n",
    "                                    save_best_only=True)\n",
    "]"
   ]
  },
  {
   "cell_type": "code",
   "execution_count": 36,
   "metadata": {},
   "outputs": [
    {
     "name": "stdout",
     "output_type": "stream",
     "text": [
      "Epoch 1/100\n",
      "137/137 - 2s - 12ms/step - loss: 0.0050 - mae: 0.0530 - val_loss: 0.0043 - val_mae: 0.0529\n",
      "Epoch 2/100\n",
      "137/137 - 1s - 8ms/step - loss: 0.0021 - mae: 0.0307 - val_loss: 0.0030 - val_mae: 0.0430\n",
      "Epoch 3/100\n",
      "137/137 - 1s - 8ms/step - loss: 0.0017 - mae: 0.0265 - val_loss: 0.0031 - val_mae: 0.0453\n",
      "Epoch 4/100\n",
      "137/137 - 1s - 8ms/step - loss: 0.0015 - mae: 0.0247 - val_loss: 0.0030 - val_mae: 0.0450\n",
      "Epoch 5/100\n",
      "137/137 - 1s - 8ms/step - loss: 0.0013 - mae: 0.0231 - val_loss: 0.0028 - val_mae: 0.0433\n",
      "Epoch 6/100\n",
      "137/137 - 1s - 8ms/step - loss: 0.0012 - mae: 0.0218 - val_loss: 0.0026 - val_mae: 0.0414\n",
      "Epoch 7/100\n",
      "137/137 - 1s - 8ms/step - loss: 0.0012 - mae: 0.0207 - val_loss: 0.0025 - val_mae: 0.0398\n",
      "Epoch 8/100\n",
      "137/137 - 1s - 8ms/step - loss: 0.0011 - mae: 0.0199 - val_loss: 0.0023 - val_mae: 0.0384\n",
      "Epoch 9/100\n",
      "137/137 - 1s - 8ms/step - loss: 0.0011 - mae: 0.0192 - val_loss: 0.0022 - val_mae: 0.0369\n",
      "Epoch 10/100\n",
      "137/137 - 1s - 8ms/step - loss: 0.0010 - mae: 0.0187 - val_loss: 0.0021 - val_mae: 0.0356\n",
      "Epoch 11/100\n",
      "137/137 - 1s - 8ms/step - loss: 0.0010 - mae: 0.0184 - val_loss: 0.0020 - val_mae: 0.0343\n",
      "Epoch 12/100\n",
      "137/137 - 1s - 8ms/step - loss: 0.0010 - mae: 0.0181 - val_loss: 0.0019 - val_mae: 0.0332\n",
      "Epoch 13/100\n",
      "137/137 - 1s - 8ms/step - loss: 0.0010 - mae: 0.0179 - val_loss: 0.0018 - val_mae: 0.0323\n",
      "Epoch 14/100\n",
      "137/137 - 1s - 8ms/step - loss: 0.0010 - mae: 0.0177 - val_loss: 0.0017 - val_mae: 0.0315\n",
      "Epoch 15/100\n",
      "137/137 - 1s - 8ms/step - loss: 9.9491e-04 - mae: 0.0176 - val_loss: 0.0017 - val_mae: 0.0307\n",
      "Epoch 16/100\n",
      "137/137 - 1s - 8ms/step - loss: 9.9037e-04 - mae: 0.0175 - val_loss: 0.0016 - val_mae: 0.0300\n",
      "Epoch 17/100\n",
      "137/137 - 1s - 8ms/step - loss: 9.8639e-04 - mae: 0.0173 - val_loss: 0.0016 - val_mae: 0.0294\n",
      "Epoch 18/100\n",
      "137/137 - 1s - 8ms/step - loss: 9.8274e-04 - mae: 0.0173 - val_loss: 0.0015 - val_mae: 0.0288\n",
      "Epoch 19/100\n",
      "137/137 - 1s - 8ms/step - loss: 9.7929e-04 - mae: 0.0172 - val_loss: 0.0015 - val_mae: 0.0282\n",
      "Epoch 20/100\n",
      "137/137 - 1s - 8ms/step - loss: 9.7595e-04 - mae: 0.0171 - val_loss: 0.0015 - val_mae: 0.0277\n",
      "Epoch 21/100\n",
      "137/137 - 1s - 8ms/step - loss: 9.7269e-04 - mae: 0.0170 - val_loss: 0.0014 - val_mae: 0.0272\n",
      "Epoch 22/100\n",
      "137/137 - 1s - 8ms/step - loss: 9.6949e-04 - mae: 0.0169 - val_loss: 0.0014 - val_mae: 0.0267\n",
      "Epoch 23/100\n",
      "137/137 - 1s - 8ms/step - loss: 9.6634e-04 - mae: 0.0169 - val_loss: 0.0014 - val_mae: 0.0263\n",
      "Epoch 24/100\n",
      "137/137 - 1s - 8ms/step - loss: 9.6325e-04 - mae: 0.0168 - val_loss: 0.0013 - val_mae: 0.0258\n",
      "Epoch 25/100\n",
      "137/137 - 1s - 8ms/step - loss: 9.6020e-04 - mae: 0.0168 - val_loss: 0.0013 - val_mae: 0.0255\n",
      "Epoch 26/100\n",
      "137/137 - 1s - 8ms/step - loss: 9.5717e-04 - mae: 0.0167 - val_loss: 0.0013 - val_mae: 0.0251\n",
      "Epoch 27/100\n",
      "137/137 - 1s - 8ms/step - loss: 9.5415e-04 - mae: 0.0167 - val_loss: 0.0013 - val_mae: 0.0248\n",
      "Epoch 28/100\n",
      "137/137 - 1s - 8ms/step - loss: 9.5113e-04 - mae: 0.0166 - val_loss: 0.0013 - val_mae: 0.0244\n",
      "Epoch 29/100\n",
      "137/137 - 1s - 8ms/step - loss: 9.4809e-04 - mae: 0.0166 - val_loss: 0.0012 - val_mae: 0.0242\n",
      "Epoch 30/100\n",
      "137/137 - 1s - 8ms/step - loss: 9.4503e-04 - mae: 0.0165 - val_loss: 0.0012 - val_mae: 0.0239\n",
      "Epoch 31/100\n",
      "137/137 - 1s - 8ms/step - loss: 9.4196e-04 - mae: 0.0165 - val_loss: 0.0012 - val_mae: 0.0237\n",
      "Epoch 32/100\n",
      "137/137 - 1s - 8ms/step - loss: 9.3887e-04 - mae: 0.0164 - val_loss: 0.0012 - val_mae: 0.0235\n",
      "Epoch 33/100\n",
      "137/137 - 1s - 8ms/step - loss: 9.3578e-04 - mae: 0.0164 - val_loss: 0.0012 - val_mae: 0.0233\n",
      "Epoch 34/100\n",
      "137/137 - 1s - 8ms/step - loss: 9.3269e-04 - mae: 0.0163 - val_loss: 0.0012 - val_mae: 0.0232\n",
      "Epoch 35/100\n",
      "137/137 - 1s - 8ms/step - loss: 9.2958e-04 - mae: 0.0163 - val_loss: 0.0012 - val_mae: 0.0231\n",
      "Epoch 36/100\n",
      "137/137 - 1s - 8ms/step - loss: 9.2645e-04 - mae: 0.0163 - val_loss: 0.0012 - val_mae: 0.0230\n",
      "Epoch 37/100\n",
      "137/137 - 1s - 8ms/step - loss: 9.2331e-04 - mae: 0.0162 - val_loss: 0.0012 - val_mae: 0.0230\n",
      "Epoch 38/100\n",
      "137/137 - 1s - 8ms/step - loss: 9.2011e-04 - mae: 0.0162 - val_loss: 0.0012 - val_mae: 0.0229\n",
      "Epoch 39/100\n",
      "137/137 - 1s - 8ms/step - loss: 9.1685e-04 - mae: 0.0162 - val_loss: 0.0012 - val_mae: 0.0229\n",
      "Epoch 40/100\n",
      "137/137 - 1s - 8ms/step - loss: 9.1350e-04 - mae: 0.0161 - val_loss: 0.0012 - val_mae: 0.0228\n",
      "Epoch 41/100\n",
      "137/137 - 1s - 8ms/step - loss: 9.1013e-04 - mae: 0.0161 - val_loss: 0.0012 - val_mae: 0.0227\n",
      "Epoch 42/100\n",
      "137/137 - 1s - 9ms/step - loss: 9.0683e-04 - mae: 0.0161 - val_loss: 0.0012 - val_mae: 0.0226\n",
      "Epoch 43/100\n",
      "137/137 - 1s - 8ms/step - loss: 9.0360e-04 - mae: 0.0160 - val_loss: 0.0012 - val_mae: 0.0224\n",
      "Epoch 44/100\n",
      "137/137 - 1s - 8ms/step - loss: 9.0029e-04 - mae: 0.0160 - val_loss: 0.0011 - val_mae: 0.0223\n",
      "Epoch 45/100\n",
      "137/137 - 1s - 8ms/step - loss: 8.9644e-04 - mae: 0.0160 - val_loss: 0.0011 - val_mae: 0.0222\n",
      "Epoch 46/100\n",
      "137/137 - 1s - 8ms/step - loss: 8.9248e-04 - mae: 0.0159 - val_loss: 0.0011 - val_mae: 0.0220\n",
      "Epoch 47/100\n",
      "137/137 - 1s - 8ms/step - loss: 8.8954e-04 - mae: 0.0159 - val_loss: 0.0011 - val_mae: 0.0217\n",
      "Epoch 48/100\n",
      "137/137 - 1s - 8ms/step - loss: 8.8603e-04 - mae: 0.0159 - val_loss: 0.0011 - val_mae: 0.0217\n",
      "Epoch 49/100\n",
      "137/137 - 1s - 8ms/step - loss: 8.8157e-04 - mae: 0.0159 - val_loss: 0.0011 - val_mae: 0.0219\n",
      "Epoch 50/100\n",
      "137/137 - 1s - 8ms/step - loss: 8.7734e-04 - mae: 0.0158 - val_loss: 0.0011 - val_mae: 0.0220\n",
      "Epoch 51/100\n",
      "137/137 - 1s - 8ms/step - loss: 8.7345e-04 - mae: 0.0158 - val_loss: 0.0011 - val_mae: 0.0221\n",
      "Epoch 52/100\n",
      "137/137 - 1s - 8ms/step - loss: 8.6911e-04 - mae: 0.0157 - val_loss: 0.0011 - val_mae: 0.0222\n",
      "Epoch 53/100\n",
      "137/137 - 1s - 8ms/step - loss: 8.6416e-04 - mae: 0.0157 - val_loss: 0.0012 - val_mae: 0.0224\n",
      "Epoch 54/100\n",
      "137/137 - 1s - 8ms/step - loss: 8.5924e-04 - mae: 0.0156 - val_loss: 0.0012 - val_mae: 0.0228\n",
      "Epoch 55/100\n",
      "137/137 - 1s - 8ms/step - loss: 8.5433e-04 - mae: 0.0156 - val_loss: 0.0012 - val_mae: 0.0231\n",
      "Epoch 56/100\n",
      "137/137 - 1s - 8ms/step - loss: 8.4926e-04 - mae: 0.0155 - val_loss: 0.0012 - val_mae: 0.0233\n",
      "Epoch 57/100\n",
      "137/137 - 1s - 8ms/step - loss: 8.4422e-04 - mae: 0.0155 - val_loss: 0.0012 - val_mae: 0.0233\n",
      "Epoch 58/100\n",
      "137/137 - 1s - 8ms/step - loss: 8.3923e-04 - mae: 0.0154 - val_loss: 0.0012 - val_mae: 0.0231\n",
      "Epoch 59/100\n",
      "137/137 - 1s - 8ms/step - loss: 8.3429e-04 - mae: 0.0154 - val_loss: 0.0012 - val_mae: 0.0229\n",
      "Epoch 60/100\n",
      "137/137 - 1s - 8ms/step - loss: 8.2955e-04 - mae: 0.0154 - val_loss: 0.0012 - val_mae: 0.0227\n",
      "Epoch 61/100\n",
      "137/137 - 1s - 8ms/step - loss: 8.2505e-04 - mae: 0.0153 - val_loss: 0.0012 - val_mae: 0.0225\n",
      "Epoch 62/100\n",
      "137/137 - 1s - 8ms/step - loss: 8.2067e-04 - mae: 0.0153 - val_loss: 0.0012 - val_mae: 0.0224\n",
      "Epoch 63/100\n",
      "137/137 - 1s - 8ms/step - loss: 8.1635e-04 - mae: 0.0153 - val_loss: 0.0012 - val_mae: 0.0223\n",
      "Epoch 64/100\n",
      "137/137 - 1s - 8ms/step - loss: 8.1195e-04 - mae: 0.0153 - val_loss: 0.0012 - val_mae: 0.0221\n",
      "Epoch 65/100\n",
      "137/137 - 1s - 8ms/step - loss: 8.0720e-04 - mae: 0.0153 - val_loss: 0.0012 - val_mae: 0.0219\n",
      "Epoch 66/100\n",
      "137/137 - 1s - 8ms/step - loss: 8.0232e-04 - mae: 0.0153 - val_loss: 0.0011 - val_mae: 0.0215\n",
      "Epoch 67/100\n",
      "137/137 - 1s - 8ms/step - loss: 7.9772e-04 - mae: 0.0153 - val_loss: 0.0011 - val_mae: 0.0210\n",
      "Epoch 68/100\n",
      "137/137 - 1s - 8ms/step - loss: 7.9324e-04 - mae: 0.0152 - val_loss: 0.0011 - val_mae: 0.0207\n",
      "Epoch 69/100\n",
      "137/137 - 1s - 8ms/step - loss: 7.8890e-04 - mae: 0.0152 - val_loss: 0.0011 - val_mae: 0.0206\n",
      "Epoch 70/100\n",
      "137/137 - 1s - 8ms/step - loss: 7.8513e-04 - mae: 0.0152 - val_loss: 0.0011 - val_mae: 0.0204\n",
      "Epoch 71/100\n",
      "137/137 - 1s - 8ms/step - loss: 7.8152e-04 - mae: 0.0152 - val_loss: 0.0011 - val_mae: 0.0204\n",
      "Epoch 72/100\n",
      "137/137 - 1s - 8ms/step - loss: 7.7815e-04 - mae: 0.0151 - val_loss: 0.0011 - val_mae: 0.0204\n",
      "Epoch 73/100\n",
      "137/137 - 1s - 8ms/step - loss: 7.7552e-04 - mae: 0.0151 - val_loss: 0.0011 - val_mae: 0.0204\n",
      "Epoch 74/100\n",
      "137/137 - 1s - 8ms/step - loss: 7.7336e-04 - mae: 0.0151 - val_loss: 0.0011 - val_mae: 0.0204\n",
      "Epoch 75/100\n",
      "137/137 - 1s - 8ms/step - loss: 7.7196e-04 - mae: 0.0151 - val_loss: 0.0012 - val_mae: 0.0206\n",
      "Epoch 76/100\n",
      "137/137 - 1s - 8ms/step - loss: 7.7115e-04 - mae: 0.0152 - val_loss: 0.0012 - val_mae: 0.0212\n",
      "Epoch 77/100\n",
      "137/137 - 1s - 8ms/step - loss: 7.7138e-04 - mae: 0.0152 - val_loss: 0.0012 - val_mae: 0.0216\n",
      "Epoch 78/100\n",
      "137/137 - 1s - 8ms/step - loss: 7.6712e-04 - mae: 0.0152 - val_loss: 0.0012 - val_mae: 0.0216\n",
      "Epoch 79/100\n",
      "137/137 - 1s - 8ms/step - loss: 7.6192e-04 - mae: 0.0151 - val_loss: 0.0012 - val_mae: 0.0205\n",
      "Epoch 80/100\n",
      "137/137 - 1s - 8ms/step - loss: 7.5479e-04 - mae: 0.0152 - val_loss: 0.0012 - val_mae: 0.0210\n",
      "Epoch 81/100\n",
      "137/137 - 1s - 8ms/step - loss: 7.5613e-04 - mae: 0.0152 - val_loss: 0.0011 - val_mae: 0.0198\n",
      "Epoch 82/100\n",
      "137/137 - 1s - 8ms/step - loss: 7.4933e-04 - mae: 0.0152 - val_loss: 0.0013 - val_mae: 0.0233\n",
      "Epoch 83/100\n",
      "137/137 - 1s - 8ms/step - loss: 7.5954e-04 - mae: 0.0152 - val_loss: 0.0011 - val_mae: 0.0186\n",
      "Epoch 84/100\n",
      "137/137 - 1s - 8ms/step - loss: 7.4204e-04 - mae: 0.0150 - val_loss: 0.0013 - val_mae: 0.0214\n",
      "Epoch 85/100\n",
      "137/137 - 1s - 8ms/step - loss: 7.2743e-04 - mae: 0.0148 - val_loss: 0.0012 - val_mae: 0.0205\n",
      "Epoch 86/100\n",
      "137/137 - 1s - 8ms/step - loss: 7.1910e-04 - mae: 0.0148 - val_loss: 0.0013 - val_mae: 0.0215\n",
      "Epoch 87/100\n",
      "137/137 - 1s - 8ms/step - loss: 7.1428e-04 - mae: 0.0147 - val_loss: 0.0013 - val_mae: 0.0213\n",
      "Epoch 88/100\n",
      "137/137 - 1s - 8ms/step - loss: 7.0932e-04 - mae: 0.0147 - val_loss: 0.0013 - val_mae: 0.0217\n",
      "Epoch 89/100\n",
      "137/137 - 1s - 8ms/step - loss: 7.0343e-04 - mae: 0.0146 - val_loss: 0.0014 - val_mae: 0.0219\n",
      "Epoch 90/100\n",
      "137/137 - 1s - 8ms/step - loss: 6.9654e-04 - mae: 0.0145 - val_loss: 0.0014 - val_mae: 0.0225\n",
      "Epoch 91/100\n",
      "137/137 - 1s - 8ms/step - loss: 6.9397e-04 - mae: 0.0145 - val_loss: 0.0014 - val_mae: 0.0229\n",
      "Epoch 92/100\n",
      "137/137 - 1s - 8ms/step - loss: 6.9206e-04 - mae: 0.0145 - val_loss: 0.0014 - val_mae: 0.0228\n",
      "Epoch 93/100\n",
      "137/137 - 1s - 8ms/step - loss: 6.8454e-04 - mae: 0.0144 - val_loss: 0.0014 - val_mae: 0.0233\n",
      "Epoch 94/100\n",
      "137/137 - 1s - 8ms/step - loss: 7.1703e-04 - mae: 0.0150 - val_loss: 0.0014 - val_mae: 0.0240\n",
      "Epoch 95/100\n",
      "137/137 - 1s - 8ms/step - loss: 7.3838e-04 - mae: 0.0152 - val_loss: 0.0011 - val_mae: 0.0183\n",
      "Epoch 96/100\n",
      "137/137 - 1s - 8ms/step - loss: 7.1605e-04 - mae: 0.0147 - val_loss: 0.0010 - val_mae: 0.0172\n",
      "Epoch 97/100\n",
      "137/137 - 1s - 8ms/step - loss: 6.8900e-04 - mae: 0.0146 - val_loss: 0.0012 - val_mae: 0.0194\n",
      "Epoch 98/100\n",
      "137/137 - 1s - 8ms/step - loss: 6.7326e-04 - mae: 0.0144 - val_loss: 0.0011 - val_mae: 0.0197\n",
      "Epoch 99/100\n",
      "137/137 - 1s - 8ms/step - loss: 7.0833e-04 - mae: 0.0149 - val_loss: 0.0012 - val_mae: 0.0205\n",
      "Epoch 100/100\n",
      "137/137 - 1s - 8ms/step - loss: 6.8591e-04 - mae: 0.0146 - val_loss: 0.0013 - val_mae: 0.0220\n"
     ]
    }
   ],
   "source": [
    "# fit network \n",
    "history = model.fit(X_train, y_train, \n",
    "                    epochs=100, batch_size=64, \n",
    "                    validation_data=(X_test, y_test),\n",
    "                    callbacks=callbacks,\n",
    "                    verbose=2, shuffle=False)"
   ]
  },
  {
   "cell_type": "code",
   "execution_count": 37,
   "metadata": {},
   "outputs": [
    {
     "data": {
      "image/png": "[encoded data removed]",
      "text/plain": [
       "<Figure size 640x480 with 1 Axes>"
      ]
     },
     "metadata": {},
     "output_type": "display_data"
    }
   ],
   "source": [
    "# plot history\n",
    "plt.plot(history.history['loss'], label='train')\n",
    "plt.plot(history.history['val_loss'], label='valid')\n",
    "plt.legend()\n",
    "plt.show()"
   ]
  },
  {
   "cell_type": "code",
   "execution_count": 38,
   "metadata": {},
   "outputs": [
    {
     "name": "stdout",
     "output_type": "stream",
     "text": [
      "Mean squared error: 0.00105\n",
      "Mean absolute error: 0.01715\n"
     ]
    }
   ],
   "source": [
    "model = keras.models.load_model(\"aq_model3.keras\")\n",
    "calc_mae(model, X_test, y_test)"
   ]
  },
  {
   "cell_type": "markdown",
   "metadata": {},
   "source": [
    "# Extending the model"
   ]
  },
  {
   "cell_type": "markdown",
   "metadata": {},
   "source": [
    "## Adding recurrent dropouts\n",
    "\n",
    "We've previously explored the use of dropout layers to slow training and create more general models. We'll now use this to see if we can further improve model performance. As a reminder, dropouts randomly set some weights to zero, effectively removing them from affecting model predictions (this is what slows the training). For recurrent models like LSTMs dropouts have to be applied in a temporally constant manner by dropping some of the connections between data from different time steps. We'll add this with the `recurrent_dropout` argument, but otherwise keep the model the same"
   ]
  },
  {
   "cell_type": "code",
   "execution_count": 39,
   "metadata": {},
   "outputs": [],
   "source": [
    "inputs = keras.Input(shape=(X_train.shape[1], X_train.shape[2]))\n",
    "x = layers.LSTM(100, recurrent_dropout=0.5)(inputs)\n",
    "outputs = layers.Dense(1)(x)\n",
    "model = keras.Model(inputs, outputs)"
   ]
  },
  {
   "cell_type": "code",
   "execution_count": 40,
   "metadata": {},
   "outputs": [
    {
     "data": {
      "text/html": [
       "<pre style=\"white-space:pre;overflow-x:auto;line-height:normal;font-family:Menlo,'DejaVu Sans Mono',consolas,'Courier New',monospace\"><span style=\"font-weight: bold\">Model: \"functional_9\"</span>\n",
       "</pre>\n"
      ],
      "text/plain": [
       "\u001b[1mModel: \"functional_9\"\u001b[0m\n"
      ]
     },
     "metadata": {},
     "output_type": "display_data"
    },
    {
     "data": {
      "text/html": [
       "<pre style=\"white-space:pre;overflow-x:auto;line-height:normal;font-family:Menlo,'DejaVu Sans Mono',consolas,'Courier New',monospace\">┏━━━━━━━━━━━━━━━━━━━━━━━━━━━━━━━━━┳━━━━━━━━━━━━━━━━━━━━━━━━┳━━━━━━━━━━━━━━━┓\n",
       "┃<span style=\"font-weight: bold\"> Layer (type)                    </span>┃<span style=\"font-weight: bold\"> Output Shape           </span>┃<span style=\"font-weight: bold\">       Param # </span>┃\n",
       "┡━━━━━━━━━━━━━━━━━━━━━━━━━━━━━━━━━╇━━━━━━━━━━━━━━━━━━━━━━━━╇━━━━━━━━━━━━━━━┩\n",
       "│ input_layer_3 (<span style=\"color: #0087ff; text-decoration-color: #0087ff\">InputLayer</span>)      │ (<span style=\"color: #00d7ff; text-decoration-color: #00d7ff\">None</span>, <span style=\"color: #00af00; text-decoration-color: #00af00\">12</span>, <span style=\"color: #00af00; text-decoration-color: #00af00\">8</span>)          │             <span style=\"color: #00af00; text-decoration-color: #00af00\">0</span> │\n",
       "├─────────────────────────────────┼────────────────────────┼───────────────┤\n",
       "│ lstm_2 (<span style=\"color: #0087ff; text-decoration-color: #0087ff\">LSTM</span>)                   │ (<span style=\"color: #00d7ff; text-decoration-color: #00d7ff\">None</span>, <span style=\"color: #00af00; text-decoration-color: #00af00\">100</span>)            │        <span style=\"color: #00af00; text-decoration-color: #00af00\">43,600</span> │\n",
       "├─────────────────────────────────┼────────────────────────┼───────────────┤\n",
       "│ dense_4 (<span style=\"color: #0087ff; text-decoration-color: #0087ff\">Dense</span>)                 │ (<span style=\"color: #00d7ff; text-decoration-color: #00d7ff\">None</span>, <span style=\"color: #00af00; text-decoration-color: #00af00\">1</span>)              │           <span style=\"color: #00af00; text-decoration-color: #00af00\">101</span> │\n",
       "└─────────────────────────────────┴────────────────────────┴───────────────┘\n",
       "</pre>\n"
      ],
      "text/plain": [
       "┏━━━━━━━━━━━━━━━━━━━━━━━━━━━━━━━━━┳━━━━━━━━━━━━━━━━━━━━━━━━┳━━━━━━━━━━━━━━━┓\n",
       "┃\u001b[1m \u001b[0m\u001b[1mLayer (type)                   \u001b[0m\u001b[1m \u001b[0m┃\u001b[1m \u001b[0m\u001b[1mOutput Shape          \u001b[0m\u001b[1m \u001b[0m┃\u001b[1m \u001b[0m\u001b[1m      Param #\u001b[0m\u001b[1m \u001b[0m┃\n",
       "┡━━━━━━━━━━━━━━━━━━━━━━━━━━━━━━━━━╇━━━━━━━━━━━━━━━━━━━━━━━━╇━━━━━━━━━━━━━━━┩\n",
       "│ input_layer_3 (\u001b[38;5;33mInputLayer\u001b[0m)      │ (\u001b[38;5;45mNone\u001b[0m, \u001b[38;5;34m12\u001b[0m, \u001b[38;5;34m8\u001b[0m)          │             \u001b[38;5;34m0\u001b[0m │\n",
       "├─────────────────────────────────┼────────────────────────┼───────────────┤\n",
       "│ lstm_2 (\u001b[38;5;33mLSTM\u001b[0m)                   │ (\u001b[38;5;45mNone\u001b[0m, \u001b[38;5;34m100\u001b[0m)            │        \u001b[38;5;34m43,600\u001b[0m │\n",
       "├─────────────────────────────────┼────────────────────────┼───────────────┤\n",
       "│ dense_4 (\u001b[38;5;33mDense\u001b[0m)                 │ (\u001b[38;5;45mNone\u001b[0m, \u001b[38;5;34m1\u001b[0m)              │           \u001b[38;5;34m101\u001b[0m │\n",
       "└─────────────────────────────────┴────────────────────────┴───────────────┘\n"
      ]
     },
     "metadata": {},
     "output_type": "display_data"
    },
    {
     "data": {
      "text/html": [
       "<pre style=\"white-space:pre;overflow-x:auto;line-height:normal;font-family:Menlo,'DejaVu Sans Mono',consolas,'Courier New',monospace\"><span style=\"font-weight: bold\"> Total params: </span><span style=\"color: #00af00; text-decoration-color: #00af00\">43,701</span> (170.71 KB)\n",
       "</pre>\n"
      ],
      "text/plain": [
       "\u001b[1m Total params: \u001b[0m\u001b[38;5;34m43,701\u001b[0m (170.71 KB)\n"
      ]
     },
     "metadata": {},
     "output_type": "display_data"
    },
    {
     "data": {
      "text/html": [
       "<pre style=\"white-space:pre;overflow-x:auto;line-height:normal;font-family:Menlo,'DejaVu Sans Mono',consolas,'Courier New',monospace\"><span style=\"font-weight: bold\"> Trainable params: </span><span style=\"color: #00af00; text-decoration-color: #00af00\">43,701</span> (170.71 KB)\n",
       "</pre>\n"
      ],
      "text/plain": [
       "\u001b[1m Trainable params: \u001b[0m\u001b[38;5;34m43,701\u001b[0m (170.71 KB)\n"
      ]
     },
     "metadata": {},
     "output_type": "display_data"
    },
    {
     "data": {
      "text/html": [
       "<pre style=\"white-space:pre;overflow-x:auto;line-height:normal;font-family:Menlo,'DejaVu Sans Mono',consolas,'Courier New',monospace\"><span style=\"font-weight: bold\"> Non-trainable params: </span><span style=\"color: #00af00; text-decoration-color: #00af00\">0</span> (0.00 B)\n",
       "</pre>\n"
      ],
      "text/plain": [
       "\u001b[1m Non-trainable params: \u001b[0m\u001b[38;5;34m0\u001b[0m (0.00 B)\n"
      ]
     },
     "metadata": {},
     "output_type": "display_data"
    }
   ],
   "source": [
    "model.summary()"
   ]
  },
  {
   "cell_type": "code",
   "execution_count": 41,
   "metadata": {},
   "outputs": [],
   "source": [
    "model.compile(optimizer=keras.optimizers.Adam(learning_rate=1e-3), loss=myloss, metrics=mymetric)\n",
    "callbacks = [\n",
    "    keras.callbacks.ModelCheckpoint(\"aq_model4.keras\",\n",
    "                                    save_best_only=True)\n",
    "]"
   ]
  },
  {
   "cell_type": "code",
   "execution_count": 42,
   "metadata": {},
   "outputs": [
    {
     "name": "stdout",
     "output_type": "stream",
     "text": [
      "Epoch 1/100\n",
      "137/137 - 2s - 18ms/step - loss: 0.0052 - mae: 0.0532 - val_loss: 0.0051 - val_mae: 0.0573\n",
      "Epoch 2/100\n",
      "137/137 - 2s - 12ms/step - loss: 0.0022 - mae: 0.0322 - val_loss: 0.0031 - val_mae: 0.0435\n",
      "Epoch 3/100\n",
      "137/137 - 2s - 12ms/step - loss: 0.0018 - mae: 0.0282 - val_loss: 0.0023 - val_mae: 0.0369\n",
      "Epoch 4/100\n",
      "137/137 - 2s - 11ms/step - loss: 0.0016 - mae: 0.0261 - val_loss: 0.0024 - val_mae: 0.0377\n",
      "Epoch 5/100\n",
      "137/137 - 2s - 12ms/step - loss: 0.0015 - mae: 0.0252 - val_loss: 0.0021 - val_mae: 0.0345\n",
      "Epoch 6/100\n",
      "137/137 - 2s - 12ms/step - loss: 0.0015 - mae: 0.0243 - val_loss: 0.0017 - val_mae: 0.0311\n",
      "Epoch 7/100\n",
      "137/137 - 2s - 12ms/step - loss: 0.0014 - mae: 0.0242 - val_loss: 0.0016 - val_mae: 0.0302\n",
      "Epoch 8/100\n",
      "137/137 - 2s - 11ms/step - loss: 0.0014 - mae: 0.0236 - val_loss: 0.0017 - val_mae: 0.0308\n",
      "Epoch 9/100\n",
      "137/137 - 2s - 12ms/step - loss: 0.0013 - mae: 0.0230 - val_loss: 0.0018 - val_mae: 0.0322\n",
      "Epoch 10/100\n",
      "137/137 - 2s - 11ms/step - loss: 0.0013 - mae: 0.0226 - val_loss: 0.0017 - val_mae: 0.0319\n",
      "Epoch 11/100\n",
      "137/137 - 2s - 12ms/step - loss: 0.0013 - mae: 0.0223 - val_loss: 0.0018 - val_mae: 0.0335\n",
      "Epoch 12/100\n",
      "137/137 - 2s - 11ms/step - loss: 0.0012 - mae: 0.0219 - val_loss: 0.0018 - val_mae: 0.0332\n",
      "Epoch 13/100\n",
      "137/137 - 2s - 12ms/step - loss: 0.0012 - mae: 0.0213 - val_loss: 0.0017 - val_mae: 0.0315\n",
      "Epoch 14/100\n",
      "137/137 - 2s - 11ms/step - loss: 0.0012 - mae: 0.0212 - val_loss: 0.0018 - val_mae: 0.0339\n",
      "Epoch 15/100\n",
      "137/137 - 2s - 12ms/step - loss: 0.0012 - mae: 0.0208 - val_loss: 0.0021 - val_mae: 0.0376\n",
      "Epoch 16/100\n",
      "137/137 - 2s - 12ms/step - loss: 0.0012 - mae: 0.0209 - val_loss: 0.0017 - val_mae: 0.0329\n",
      "Epoch 17/100\n",
      "137/137 - 2s - 12ms/step - loss: 0.0011 - mae: 0.0201 - val_loss: 0.0015 - val_mae: 0.0303\n",
      "Epoch 18/100\n",
      "137/137 - 2s - 12ms/step - loss: 0.0011 - mae: 0.0198 - val_loss: 0.0019 - val_mae: 0.0357\n",
      "Epoch 19/100\n",
      "137/137 - 2s - 12ms/step - loss: 0.0011 - mae: 0.0201 - val_loss: 0.0017 - val_mae: 0.0329\n",
      "Epoch 20/100\n",
      "137/137 - 2s - 12ms/step - loss: 0.0011 - mae: 0.0195 - val_loss: 0.0016 - val_mae: 0.0317\n",
      "Epoch 21/100\n",
      "137/137 - 2s - 11ms/step - loss: 0.0011 - mae: 0.0193 - val_loss: 0.0016 - val_mae: 0.0318\n",
      "Epoch 22/100\n",
      "137/137 - 2s - 12ms/step - loss: 0.0011 - mae: 0.0190 - val_loss: 0.0015 - val_mae: 0.0300\n",
      "Epoch 23/100\n",
      "137/137 - 2s - 12ms/step - loss: 0.0011 - mae: 0.0189 - val_loss: 0.0015 - val_mae: 0.0302\n",
      "Epoch 24/100\n",
      "137/137 - 2s - 12ms/step - loss: 0.0010 - mae: 0.0185 - val_loss: 0.0015 - val_mae: 0.0305\n",
      "Epoch 25/100\n",
      "137/137 - 2s - 12ms/step - loss: 0.0010 - mae: 0.0187 - val_loss: 0.0014 - val_mae: 0.0286\n",
      "Epoch 26/100\n",
      "137/137 - 2s - 12ms/step - loss: 0.0010 - mae: 0.0185 - val_loss: 0.0015 - val_mae: 0.0304\n",
      "Epoch 27/100\n",
      "137/137 - 2s - 12ms/step - loss: 0.0010 - mae: 0.0187 - val_loss: 0.0016 - val_mae: 0.0325\n",
      "Epoch 28/100\n",
      "137/137 - 2s - 12ms/step - loss: 0.0010 - mae: 0.0185 - val_loss: 0.0015 - val_mae: 0.0309\n",
      "Epoch 29/100\n",
      "137/137 - 2s - 11ms/step - loss: 0.0010 - mae: 0.0184 - val_loss: 0.0016 - val_mae: 0.0322\n",
      "Epoch 30/100\n",
      "137/137 - 2s - 12ms/step - loss: 0.0010 - mae: 0.0184 - val_loss: 0.0015 - val_mae: 0.0297\n",
      "Epoch 31/100\n",
      "137/137 - 2s - 11ms/step - loss: 0.0010 - mae: 0.0180 - val_loss: 0.0014 - val_mae: 0.0291\n",
      "Epoch 32/100\n",
      "137/137 - 2s - 11ms/step - loss: 0.0010 - mae: 0.0181 - val_loss: 0.0015 - val_mae: 0.0306\n",
      "Epoch 33/100\n",
      "137/137 - 2s - 11ms/step - loss: 0.0010 - mae: 0.0180 - val_loss: 0.0016 - val_mae: 0.0313\n",
      "Epoch 34/100\n",
      "137/137 - 2s - 11ms/step - loss: 0.0010 - mae: 0.0181 - val_loss: 0.0015 - val_mae: 0.0310\n",
      "Epoch 35/100\n",
      "137/137 - 2s - 12ms/step - loss: 0.0010 - mae: 0.0178 - val_loss: 0.0015 - val_mae: 0.0300\n",
      "Epoch 36/100\n",
      "137/137 - 2s - 12ms/step - loss: 0.0010 - mae: 0.0179 - val_loss: 0.0015 - val_mae: 0.0308\n",
      "Epoch 37/100\n",
      "137/137 - 2s - 12ms/step - loss: 9.9625e-04 - mae: 0.0179 - val_loss: 0.0015 - val_mae: 0.0308\n",
      "Epoch 38/100\n",
      "137/137 - 2s - 11ms/step - loss: 0.0010 - mae: 0.0180 - val_loss: 0.0016 - val_mae: 0.0320\n",
      "Epoch 39/100\n",
      "137/137 - 2s - 11ms/step - loss: 9.9552e-04 - mae: 0.0176 - val_loss: 0.0014 - val_mae: 0.0295\n",
      "Epoch 40/100\n",
      "137/137 - 2s - 11ms/step - loss: 9.9322e-04 - mae: 0.0174 - val_loss: 0.0013 - val_mae: 0.0278\n",
      "Epoch 41/100\n",
      "137/137 - 2s - 12ms/step - loss: 9.8225e-04 - mae: 0.0175 - val_loss: 0.0014 - val_mae: 0.0289\n",
      "Epoch 42/100\n",
      "137/137 - 2s - 12ms/step - loss: 9.8850e-04 - mae: 0.0174 - val_loss: 0.0015 - val_mae: 0.0298\n",
      "Epoch 43/100\n",
      "137/137 - 2s - 11ms/step - loss: 9.9017e-04 - mae: 0.0174 - val_loss: 0.0014 - val_mae: 0.0282\n",
      "Epoch 44/100\n",
      "137/137 - 2s - 11ms/step - loss: 9.8344e-04 - mae: 0.0173 - val_loss: 0.0015 - val_mae: 0.0298\n",
      "Epoch 45/100\n",
      "137/137 - 2s - 12ms/step - loss: 9.9941e-04 - mae: 0.0175 - val_loss: 0.0014 - val_mae: 0.0294\n",
      "Epoch 46/100\n",
      "137/137 - 2s - 11ms/step - loss: 9.8090e-04 - mae: 0.0173 - val_loss: 0.0014 - val_mae: 0.0279\n",
      "Epoch 47/100\n",
      "137/137 - 2s - 11ms/step - loss: 9.7289e-04 - mae: 0.0172 - val_loss: 0.0014 - val_mae: 0.0284\n",
      "Epoch 48/100\n",
      "137/137 - 2s - 12ms/step - loss: 9.7712e-04 - mae: 0.0172 - val_loss: 0.0013 - val_mae: 0.0272\n",
      "Epoch 49/100\n",
      "137/137 - 2s - 12ms/step - loss: 9.7717e-04 - mae: 0.0170 - val_loss: 0.0013 - val_mae: 0.0271\n",
      "Epoch 50/100\n",
      "137/137 - 2s - 12ms/step - loss: 9.6318e-04 - mae: 0.0170 - val_loss: 0.0013 - val_mae: 0.0267\n",
      "Epoch 51/100\n",
      "137/137 - 2s - 12ms/step - loss: 9.6460e-04 - mae: 0.0170 - val_loss: 0.0012 - val_mae: 0.0259\n",
      "Epoch 52/100\n",
      "137/137 - 2s - 12ms/step - loss: 9.6610e-04 - mae: 0.0171 - val_loss: 0.0012 - val_mae: 0.0253\n",
      "Epoch 53/100\n",
      "137/137 - 2s - 12ms/step - loss: 9.6081e-04 - mae: 0.0169 - val_loss: 0.0012 - val_mae: 0.0254\n",
      "Epoch 54/100\n",
      "137/137 - 2s - 12ms/step - loss: 9.7481e-04 - mae: 0.0169 - val_loss: 0.0012 - val_mae: 0.0249\n",
      "Epoch 55/100\n",
      "137/137 - 2s - 12ms/step - loss: 9.4456e-04 - mae: 0.0167 - val_loss: 0.0013 - val_mae: 0.0262\n",
      "Epoch 56/100\n",
      "137/137 - 2s - 12ms/step - loss: 9.5384e-04 - mae: 0.0168 - val_loss: 0.0012 - val_mae: 0.0250\n",
      "Epoch 57/100\n",
      "137/137 - 2s - 12ms/step - loss: 9.5787e-04 - mae: 0.0166 - val_loss: 0.0013 - val_mae: 0.0261\n",
      "Epoch 58/100\n",
      "137/137 - 2s - 11ms/step - loss: 9.5713e-04 - mae: 0.0168 - val_loss: 0.0012 - val_mae: 0.0247\n",
      "Epoch 59/100\n",
      "137/137 - 2s - 12ms/step - loss: 9.5173e-04 - mae: 0.0166 - val_loss: 0.0012 - val_mae: 0.0243\n",
      "Epoch 60/100\n",
      "137/137 - 2s - 12ms/step - loss: 9.5402e-04 - mae: 0.0167 - val_loss: 0.0011 - val_mae: 0.0230\n",
      "Epoch 61/100\n",
      "137/137 - 2s - 12ms/step - loss: 9.4612e-04 - mae: 0.0166 - val_loss: 0.0011 - val_mae: 0.0228\n",
      "Epoch 62/100\n",
      "137/137 - 2s - 12ms/step - loss: 9.3767e-04 - mae: 0.0165 - val_loss: 0.0011 - val_mae: 0.0233\n",
      "Epoch 63/100\n",
      "137/137 - 2s - 12ms/step - loss: 9.4982e-04 - mae: 0.0165 - val_loss: 0.0012 - val_mae: 0.0246\n",
      "Epoch 64/100\n",
      "137/137 - 2s - 11ms/step - loss: 9.4345e-04 - mae: 0.0166 - val_loss: 0.0011 - val_mae: 0.0230\n",
      "Epoch 65/100\n",
      "137/137 - 2s - 12ms/step - loss: 9.4113e-04 - mae: 0.0165 - val_loss: 0.0011 - val_mae: 0.0219\n",
      "Epoch 66/100\n",
      "137/137 - 2s - 12ms/step - loss: 9.3362e-04 - mae: 0.0163 - val_loss: 0.0011 - val_mae: 0.0214\n",
      "Epoch 67/100\n",
      "137/137 - 2s - 12ms/step - loss: 9.3716e-04 - mae: 0.0163 - val_loss: 0.0011 - val_mae: 0.0219\n",
      "Epoch 68/100\n",
      "137/137 - 2s - 11ms/step - loss: 9.4345e-04 - mae: 0.0164 - val_loss: 0.0011 - val_mae: 0.0214\n",
      "Epoch 69/100\n",
      "137/137 - 2s - 12ms/step - loss: 9.2522e-04 - mae: 0.0164 - val_loss: 0.0011 - val_mae: 0.0215\n",
      "Epoch 70/100\n",
      "137/137 - 2s - 11ms/step - loss: 9.3390e-04 - mae: 0.0163 - val_loss: 0.0011 - val_mae: 0.0220\n",
      "Epoch 71/100\n",
      "137/137 - 2s - 12ms/step - loss: 9.2483e-04 - mae: 0.0162 - val_loss: 0.0011 - val_mae: 0.0222\n",
      "Epoch 72/100\n",
      "137/137 - 2s - 12ms/step - loss: 9.2614e-04 - mae: 0.0164 - val_loss: 0.0011 - val_mae: 0.0210\n",
      "Epoch 73/100\n",
      "137/137 - 2s - 12ms/step - loss: 9.2932e-04 - mae: 0.0162 - val_loss: 0.0012 - val_mae: 0.0224\n",
      "Epoch 74/100\n",
      "137/137 - 2s - 13ms/step - loss: 9.2179e-04 - mae: 0.0162 - val_loss: 0.0011 - val_mae: 0.0209\n",
      "Epoch 75/100\n",
      "137/137 - 2s - 12ms/step - loss: 9.2737e-04 - mae: 0.0162 - val_loss: 0.0011 - val_mae: 0.0212\n",
      "Epoch 76/100\n",
      "137/137 - 2s - 12ms/step - loss: 9.2528e-04 - mae: 0.0161 - val_loss: 0.0011 - val_mae: 0.0203\n",
      "Epoch 77/100\n",
      "137/137 - 2s - 12ms/step - loss: 9.2388e-04 - mae: 0.0161 - val_loss: 0.0011 - val_mae: 0.0207\n",
      "Epoch 78/100\n",
      "137/137 - 2s - 11ms/step - loss: 9.2159e-04 - mae: 0.0161 - val_loss: 0.0011 - val_mae: 0.0200\n",
      "Epoch 79/100\n",
      "137/137 - 2s - 11ms/step - loss: 9.2359e-04 - mae: 0.0161 - val_loss: 0.0010 - val_mae: 0.0193\n",
      "Epoch 80/100\n",
      "137/137 - 2s - 12ms/step - loss: 9.2587e-04 - mae: 0.0160 - val_loss: 0.0010 - val_mae: 0.0197\n",
      "Epoch 81/100\n",
      "137/137 - 2s - 11ms/step - loss: 9.1453e-04 - mae: 0.0160 - val_loss: 0.0010 - val_mae: 0.0198\n",
      "Epoch 82/100\n",
      "137/137 - 2s - 12ms/step - loss: 9.1033e-04 - mae: 0.0160 - val_loss: 0.0011 - val_mae: 0.0207\n",
      "Epoch 83/100\n",
      "137/137 - 2s - 12ms/step - loss: 9.1376e-04 - mae: 0.0160 - val_loss: 0.0010 - val_mae: 0.0188\n",
      "Epoch 84/100\n",
      "137/137 - 2s - 11ms/step - loss: 9.2083e-04 - mae: 0.0159 - val_loss: 0.0011 - val_mae: 0.0201\n",
      "Epoch 85/100\n",
      "137/137 - 2s - 11ms/step - loss: 8.9907e-04 - mae: 0.0158 - val_loss: 0.0011 - val_mae: 0.0198\n",
      "Epoch 86/100\n",
      "137/137 - 2s - 11ms/step - loss: 9.0505e-04 - mae: 0.0159 - val_loss: 0.0011 - val_mae: 0.0198\n",
      "Epoch 87/100\n",
      "137/137 - 2s - 11ms/step - loss: 8.8938e-04 - mae: 0.0158 - val_loss: 0.0011 - val_mae: 0.0198\n",
      "Epoch 88/100\n",
      "137/137 - 2s - 11ms/step - loss: 8.9876e-04 - mae: 0.0158 - val_loss: 0.0011 - val_mae: 0.0205\n",
      "Epoch 89/100\n",
      "137/137 - 2s - 11ms/step - loss: 9.0387e-04 - mae: 0.0158 - val_loss: 0.0011 - val_mae: 0.0207\n",
      "Epoch 90/100\n",
      "137/137 - 2s - 12ms/step - loss: 9.0287e-04 - mae: 0.0158 - val_loss: 0.0011 - val_mae: 0.0198\n",
      "Epoch 91/100\n",
      "137/137 - 2s - 11ms/step - loss: 8.9881e-04 - mae: 0.0158 - val_loss: 0.0011 - val_mae: 0.0206\n",
      "Epoch 92/100\n",
      "137/137 - 2s - 11ms/step - loss: 8.9965e-04 - mae: 0.0159 - val_loss: 0.0012 - val_mae: 0.0212\n",
      "Epoch 93/100\n",
      "137/137 - 2s - 11ms/step - loss: 9.0093e-04 - mae: 0.0159 - val_loss: 0.0010 - val_mae: 0.0185\n",
      "Epoch 94/100\n",
      "137/137 - 2s - 12ms/step - loss: 8.9685e-04 - mae: 0.0157 - val_loss: 0.0010 - val_mae: 0.0191\n",
      "Epoch 95/100\n",
      "137/137 - 2s - 12ms/step - loss: 8.9319e-04 - mae: 0.0157 - val_loss: 0.0010 - val_mae: 0.0185\n",
      "Epoch 96/100\n",
      "137/137 - 2s - 11ms/step - loss: 8.8865e-04 - mae: 0.0157 - val_loss: 0.0010 - val_mae: 0.0191\n",
      "Epoch 97/100\n",
      "137/137 - 2s - 11ms/step - loss: 8.9782e-04 - mae: 0.0158 - val_loss: 0.0010 - val_mae: 0.0193\n",
      "Epoch 98/100\n",
      "137/137 - 2s - 11ms/step - loss: 8.9293e-04 - mae: 0.0157 - val_loss: 0.0011 - val_mae: 0.0198\n",
      "Epoch 99/100\n",
      "137/137 - 2s - 12ms/step - loss: 8.8117e-04 - mae: 0.0156 - val_loss: 0.0011 - val_mae: 0.0199\n",
      "Epoch 100/100\n",
      "137/137 - 2s - 11ms/step - loss: 8.7781e-04 - mae: 0.0156 - val_loss: 0.0011 - val_mae: 0.0199\n"
     ]
    }
   ],
   "source": [
    "# fit network\n",
    "history = model.fit(X_train, y_train, \n",
    "                    epochs=100, batch_size=64, \n",
    "                    validation_data=(X_test, y_test),\n",
    "                    callbacks=callbacks,\n",
    "                    verbose=2, shuffle=False)"
   ]
  },
  {
   "cell_type": "code",
   "execution_count": 43,
   "metadata": {},
   "outputs": [
    {
     "data": {
      "image/png": "[encoded data removed]",
      "text/plain": [
       "<Figure size 640x480 with 1 Axes>"
      ]
     },
     "metadata": {},
     "output_type": "display_data"
    }
   ],
   "source": [
    "# plot history\n",
    "plt.plot(history.history['loss'], label='train')\n",
    "plt.plot(history.history['val_loss'], label='valid')\n",
    "plt.legend()\n",
    "plt.show()"
   ]
  },
  {
   "cell_type": "code",
   "execution_count": 44,
   "metadata": {},
   "outputs": [
    {
     "name": "stdout",
     "output_type": "stream",
     "text": [
      "Mean squared error: 0.001\n",
      "Mean absolute error: 0.01849\n"
     ]
    }
   ],
   "source": [
    "model = keras.models.load_model(\"aq_model4.keras\")\n",
    "calc_mae(model, X_test, y_test)"
   ]
  },
  {
   "cell_type": "markdown",
   "metadata": {},
   "source": [
    "## Stacked LSTM"
   ]
  },
  {
   "cell_type": "code",
   "execution_count": 45,
   "metadata": {},
   "outputs": [],
   "source": [
    "inputs = keras.Input(shape=(X_train.shape[1], X_train.shape[2]))\n",
    "x = layers.LSTM(100, recurrent_dropout=0.5, return_sequences=True)(inputs)\n",
    "x = layers.LSTM(50, recurrent_dropout=0.5)(x)\n",
    "x = layers.Dropout(0.5)(x)\n",
    "outputs = layers.Dense(1)(x)\n",
    "model = keras.Model(inputs, outputs)"
   ]
  },
  {
   "cell_type": "code",
   "execution_count": 46,
   "metadata": {},
   "outputs": [
    {
     "data": {
      "text/html": [
       "<pre style=\"white-space:pre;overflow-x:auto;line-height:normal;font-family:Menlo,'DejaVu Sans Mono',consolas,'Courier New',monospace\"><span style=\"font-weight: bold\">Model: \"functional_10\"</span>\n",
       "</pre>\n"
      ],
      "text/plain": [
       "\u001b[1mModel: \"functional_10\"\u001b[0m\n"
      ]
     },
     "metadata": {},
     "output_type": "display_data"
    },
    {
     "data": {
      "text/html": [
       "<pre style=\"white-space:pre;overflow-x:auto;line-height:normal;font-family:Menlo,'DejaVu Sans Mono',consolas,'Courier New',monospace\">┏━━━━━━━━━━━━━━━━━━━━━━━━━━━━━━━━━┳━━━━━━━━━━━━━━━━━━━━━━━━┳━━━━━━━━━━━━━━━┓\n",
       "┃<span style=\"font-weight: bold\"> Layer (type)                    </span>┃<span style=\"font-weight: bold\"> Output Shape           </span>┃<span style=\"font-weight: bold\">       Param # </span>┃\n",
       "┡━━━━━━━━━━━━━━━━━━━━━━━━━━━━━━━━━╇━━━━━━━━━━━━━━━━━━━━━━━━╇━━━━━━━━━━━━━━━┩\n",
       "│ input_layer_4 (<span style=\"color: #0087ff; text-decoration-color: #0087ff\">InputLayer</span>)      │ (<span style=\"color: #00d7ff; text-decoration-color: #00d7ff\">None</span>, <span style=\"color: #00af00; text-decoration-color: #00af00\">12</span>, <span style=\"color: #00af00; text-decoration-color: #00af00\">8</span>)          │             <span style=\"color: #00af00; text-decoration-color: #00af00\">0</span> │\n",
       "├─────────────────────────────────┼────────────────────────┼───────────────┤\n",
       "│ lstm_3 (<span style=\"color: #0087ff; text-decoration-color: #0087ff\">LSTM</span>)                   │ (<span style=\"color: #00d7ff; text-decoration-color: #00d7ff\">None</span>, <span style=\"color: #00af00; text-decoration-color: #00af00\">12</span>, <span style=\"color: #00af00; text-decoration-color: #00af00\">100</span>)        │        <span style=\"color: #00af00; text-decoration-color: #00af00\">43,600</span> │\n",
       "├─────────────────────────────────┼────────────────────────┼───────────────┤\n",
       "│ lstm_4 (<span style=\"color: #0087ff; text-decoration-color: #0087ff\">LSTM</span>)                   │ (<span style=\"color: #00d7ff; text-decoration-color: #00d7ff\">None</span>, <span style=\"color: #00af00; text-decoration-color: #00af00\">50</span>)             │        <span style=\"color: #00af00; text-decoration-color: #00af00\">30,200</span> │\n",
       "├─────────────────────────────────┼────────────────────────┼───────────────┤\n",
       "│ dropout (<span style=\"color: #0087ff; text-decoration-color: #0087ff\">Dropout</span>)               │ (<span style=\"color: #00d7ff; text-decoration-color: #00d7ff\">None</span>, <span style=\"color: #00af00; text-decoration-color: #00af00\">50</span>)             │             <span style=\"color: #00af00; text-decoration-color: #00af00\">0</span> │\n",
       "├─────────────────────────────────┼────────────────────────┼───────────────┤\n",
       "│ dense_5 (<span style=\"color: #0087ff; text-decoration-color: #0087ff\">Dense</span>)                 │ (<span style=\"color: #00d7ff; text-decoration-color: #00d7ff\">None</span>, <span style=\"color: #00af00; text-decoration-color: #00af00\">1</span>)              │            <span style=\"color: #00af00; text-decoration-color: #00af00\">51</span> │\n",
       "└─────────────────────────────────┴────────────────────────┴───────────────┘\n",
       "</pre>\n"
      ],
      "text/plain": [
       "┏━━━━━━━━━━━━━━━━━━━━━━━━━━━━━━━━━┳━━━━━━━━━━━━━━━━━━━━━━━━┳━━━━━━━━━━━━━━━┓\n",
       "┃\u001b[1m \u001b[0m\u001b[1mLayer (type)                   \u001b[0m\u001b[1m \u001b[0m┃\u001b[1m \u001b[0m\u001b[1mOutput Shape          \u001b[0m\u001b[1m \u001b[0m┃\u001b[1m \u001b[0m\u001b[1m      Param #\u001b[0m\u001b[1m \u001b[0m┃\n",
       "┡━━━━━━━━━━━━━━━━━━━━━━━━━━━━━━━━━╇━━━━━━━━━━━━━━━━━━━━━━━━╇━━━━━━━━━━━━━━━┩\n",
       "│ input_layer_4 (\u001b[38;5;33mInputLayer\u001b[0m)      │ (\u001b[38;5;45mNone\u001b[0m, \u001b[38;5;34m12\u001b[0m, \u001b[38;5;34m8\u001b[0m)          │             \u001b[38;5;34m0\u001b[0m │\n",
       "├─────────────────────────────────┼────────────────────────┼───────────────┤\n",
       "│ lstm_3 (\u001b[38;5;33mLSTM\u001b[0m)                   │ (\u001b[38;5;45mNone\u001b[0m, \u001b[38;5;34m12\u001b[0m, \u001b[38;5;34m100\u001b[0m)        │        \u001b[38;5;34m43,600\u001b[0m │\n",
       "├─────────────────────────────────┼────────────────────────┼───────────────┤\n",
       "│ lstm_4 (\u001b[38;5;33mLSTM\u001b[0m)                   │ (\u001b[38;5;45mNone\u001b[0m, \u001b[38;5;34m50\u001b[0m)             │        \u001b[38;5;34m30,200\u001b[0m │\n",
       "├─────────────────────────────────┼────────────────────────┼───────────────┤\n",
       "│ dropout (\u001b[38;5;33mDropout\u001b[0m)               │ (\u001b[38;5;45mNone\u001b[0m, \u001b[38;5;34m50\u001b[0m)             │             \u001b[38;5;34m0\u001b[0m │\n",
       "├─────────────────────────────────┼────────────────────────┼───────────────┤\n",
       "│ dense_5 (\u001b[38;5;33mDense\u001b[0m)                 │ (\u001b[38;5;45mNone\u001b[0m, \u001b[38;5;34m1\u001b[0m)              │            \u001b[38;5;34m51\u001b[0m │\n",
       "└─────────────────────────────────┴────────────────────────┴───────────────┘\n"
      ]
     },
     "metadata": {},
     "output_type": "display_data"
    },
    {
     "data": {
      "text/html": [
       "<pre style=\"white-space:pre;overflow-x:auto;line-height:normal;font-family:Menlo,'DejaVu Sans Mono',consolas,'Courier New',monospace\"><span style=\"font-weight: bold\"> Total params: </span><span style=\"color: #00af00; text-decoration-color: #00af00\">73,851</span> (288.48 KB)\n",
       "</pre>\n"
      ],
      "text/plain": [
       "\u001b[1m Total params: \u001b[0m\u001b[38;5;34m73,851\u001b[0m (288.48 KB)\n"
      ]
     },
     "metadata": {},
     "output_type": "display_data"
    },
    {
     "data": {
      "text/html": [
       "<pre style=\"white-space:pre;overflow-x:auto;line-height:normal;font-family:Menlo,'DejaVu Sans Mono',consolas,'Courier New',monospace\"><span style=\"font-weight: bold\"> Trainable params: </span><span style=\"color: #00af00; text-decoration-color: #00af00\">73,851</span> (288.48 KB)\n",
       "</pre>\n"
      ],
      "text/plain": [
       "\u001b[1m Trainable params: \u001b[0m\u001b[38;5;34m73,851\u001b[0m (288.48 KB)\n"
      ]
     },
     "metadata": {},
     "output_type": "display_data"
    },
    {
     "data": {
      "text/html": [
       "<pre style=\"white-space:pre;overflow-x:auto;line-height:normal;font-family:Menlo,'DejaVu Sans Mono',consolas,'Courier New',monospace\"><span style=\"font-weight: bold\"> Non-trainable params: </span><span style=\"color: #00af00; text-decoration-color: #00af00\">0</span> (0.00 B)\n",
       "</pre>\n"
      ],
      "text/plain": [
       "\u001b[1m Non-trainable params: \u001b[0m\u001b[38;5;34m0\u001b[0m (0.00 B)\n"
      ]
     },
     "metadata": {},
     "output_type": "display_data"
    }
   ],
   "source": [
    "model.summary()"
   ]
  },
  {
   "cell_type": "code",
   "execution_count": 47,
   "metadata": {},
   "outputs": [],
   "source": [
    "model.compile(optimizer=keras.optimizers.Adam(learning_rate=1e-3), loss=myloss, metrics=mymetric)\n",
    "callbacks = [\n",
    "    keras.callbacks.ModelCheckpoint(\"aq_model5.keras\",\n",
    "                                    save_best_only=True)\n",
    "]"
   ]
  },
  {
   "cell_type": "code",
   "execution_count": 48,
   "metadata": {},
   "outputs": [
    {
     "name": "stdout",
     "output_type": "stream",
     "text": [
      "Epoch 1/100\n",
      "137/137 - 5s - 34ms/step - loss: 0.0068 - mae: 0.0611 - val_loss: 0.0037 - val_mae: 0.0457\n",
      "Epoch 2/100\n",
      "137/137 - 3s - 23ms/step - loss: 0.0036 - mae: 0.0421 - val_loss: 0.0030 - val_mae: 0.0421\n",
      "Epoch 3/100\n",
      "137/137 - 3s - 25ms/step - loss: 0.0030 - mae: 0.0376 - val_loss: 0.0023 - val_mae: 0.0349\n",
      "Epoch 4/100\n",
      "137/137 - 3s - 25ms/step - loss: 0.0027 - mae: 0.0352 - val_loss: 0.0020 - val_mae: 0.0310\n",
      "Epoch 5/100\n",
      "137/137 - 3s - 24ms/step - loss: 0.0025 - mae: 0.0336 - val_loss: 0.0017 - val_mae: 0.0278\n",
      "Epoch 6/100\n",
      "137/137 - 3s - 22ms/step - loss: 0.0023 - mae: 0.0320 - val_loss: 0.0017 - val_mae: 0.0276\n",
      "Epoch 7/100\n",
      "137/137 - 3s - 21ms/step - loss: 0.0022 - mae: 0.0306 - val_loss: 0.0016 - val_mae: 0.0270\n",
      "Epoch 8/100\n",
      "137/137 - 3s - 24ms/step - loss: 0.0021 - mae: 0.0295 - val_loss: 0.0016 - val_mae: 0.0282\n",
      "Epoch 9/100\n",
      "137/137 - 3s - 22ms/step - loss: 0.0019 - mae: 0.0286 - val_loss: 0.0014 - val_mae: 0.0249\n",
      "Epoch 10/100\n",
      "137/137 - 3s - 22ms/step - loss: 0.0018 - mae: 0.0274 - val_loss: 0.0013 - val_mae: 0.0248\n",
      "Epoch 11/100\n",
      "137/137 - 3s - 22ms/step - loss: 0.0018 - mae: 0.0269 - val_loss: 0.0012 - val_mae: 0.0221\n",
      "Epoch 12/100\n",
      "137/137 - 3s - 22ms/step - loss: 0.0017 - mae: 0.0264 - val_loss: 0.0012 - val_mae: 0.0243\n",
      "Epoch 13/100\n",
      "137/137 - 3s - 21ms/step - loss: 0.0016 - mae: 0.0260 - val_loss: 0.0013 - val_mae: 0.0257\n",
      "Epoch 14/100\n",
      "137/137 - 3s - 22ms/step - loss: 0.0016 - mae: 0.0254 - val_loss: 0.0011 - val_mae: 0.0210\n",
      "Epoch 15/100\n",
      "137/137 - 4s - 27ms/step - loss: 0.0016 - mae: 0.0247 - val_loss: 0.0011 - val_mae: 0.0226\n",
      "Epoch 16/100\n",
      "137/137 - 3s - 25ms/step - loss: 0.0015 - mae: 0.0246 - val_loss: 0.0011 - val_mae: 0.0222\n",
      "Epoch 17/100\n",
      "137/137 - 3s - 24ms/step - loss: 0.0015 - mae: 0.0240 - val_loss: 9.6501e-04 - val_mae: 0.0195\n",
      "Epoch 18/100\n",
      "137/137 - 3s - 25ms/step - loss: 0.0014 - mae: 0.0236 - val_loss: 9.7310e-04 - val_mae: 0.0204\n",
      "Epoch 19/100\n",
      "137/137 - 3s - 24ms/step - loss: 0.0014 - mae: 0.0235 - val_loss: 9.5710e-04 - val_mae: 0.0193\n",
      "Epoch 20/100\n",
      "137/137 - 3s - 24ms/step - loss: 0.0014 - mae: 0.0236 - val_loss: 9.3124e-04 - val_mae: 0.0195\n",
      "Epoch 21/100\n",
      "137/137 - 4s - 27ms/step - loss: 0.0014 - mae: 0.0230 - val_loss: 9.0730e-04 - val_mae: 0.0190\n",
      "Epoch 22/100\n",
      "137/137 - 3s - 24ms/step - loss: 0.0014 - mae: 0.0231 - val_loss: 9.2302e-04 - val_mae: 0.0199\n",
      "Epoch 23/100\n",
      "137/137 - 3s - 23ms/step - loss: 0.0014 - mae: 0.0226 - val_loss: 9.8949e-04 - val_mae: 0.0217\n",
      "Epoch 24/100\n",
      "137/137 - 3s - 25ms/step - loss: 0.0014 - mae: 0.0228 - val_loss: 0.0010 - val_mae: 0.0220\n",
      "Epoch 25/100\n",
      "137/137 - 3s - 22ms/step - loss: 0.0014 - mae: 0.0227 - val_loss: 9.0378e-04 - val_mae: 0.0189\n",
      "Epoch 26/100\n",
      "137/137 - 3s - 23ms/step - loss: 0.0013 - mae: 0.0223 - val_loss: 8.4949e-04 - val_mae: 0.0182\n",
      "Epoch 27/100\n",
      "137/137 - 3s - 25ms/step - loss: 0.0013 - mae: 0.0220 - val_loss: 8.4588e-04 - val_mae: 0.0176\n",
      "Epoch 28/100\n",
      "137/137 - 3s - 24ms/step - loss: 0.0013 - mae: 0.0216 - val_loss: 8.4883e-04 - val_mae: 0.0180\n",
      "Epoch 29/100\n",
      "137/137 - 3s - 23ms/step - loss: 0.0013 - mae: 0.0218 - val_loss: 8.4398e-04 - val_mae: 0.0180\n",
      "Epoch 30/100\n",
      "137/137 - 3s - 23ms/step - loss: 0.0013 - mae: 0.0220 - val_loss: 8.1026e-04 - val_mae: 0.0162\n",
      "Epoch 31/100\n",
      "137/137 - 3s - 24ms/step - loss: 0.0012 - mae: 0.0218 - val_loss: 8.8363e-04 - val_mae: 0.0195\n",
      "Epoch 32/100\n",
      "137/137 - 3s - 23ms/step - loss: 0.0013 - mae: 0.0217 - val_loss: 8.4422e-04 - val_mae: 0.0176\n",
      "Epoch 33/100\n",
      "137/137 - 3s - 22ms/step - loss: 0.0013 - mae: 0.0214 - val_loss: 8.1615e-04 - val_mae: 0.0171\n",
      "Epoch 34/100\n",
      "137/137 - 3s - 23ms/step - loss: 0.0012 - mae: 0.0210 - val_loss: 8.8339e-04 - val_mae: 0.0192\n",
      "Epoch 35/100\n",
      "137/137 - 3s - 22ms/step - loss: 0.0012 - mae: 0.0212 - val_loss: 8.8375e-04 - val_mae: 0.0190\n",
      "Epoch 36/100\n",
      "137/137 - 3s - 22ms/step - loss: 0.0012 - mae: 0.0213 - val_loss: 8.5810e-04 - val_mae: 0.0183\n",
      "Epoch 37/100\n",
      "137/137 - 3s - 22ms/step - loss: 0.0012 - mae: 0.0211 - val_loss: 8.4376e-04 - val_mae: 0.0178\n",
      "Epoch 38/100\n",
      "137/137 - 3s - 22ms/step - loss: 0.0012 - mae: 0.0213 - val_loss: 7.9660e-04 - val_mae: 0.0170\n",
      "Epoch 39/100\n",
      "137/137 - 3s - 22ms/step - loss: 0.0012 - mae: 0.0209 - val_loss: 8.2034e-04 - val_mae: 0.0175\n",
      "Epoch 40/100\n",
      "137/137 - 3s - 21ms/step - loss: 0.0012 - mae: 0.0209 - val_loss: 8.5926e-04 - val_mae: 0.0184\n",
      "Epoch 41/100\n",
      "137/137 - 3s - 21ms/step - loss: 0.0013 - mae: 0.0210 - val_loss: 8.8854e-04 - val_mae: 0.0192\n",
      "Epoch 42/100\n",
      "137/137 - 3s - 21ms/step - loss: 0.0012 - mae: 0.0211 - val_loss: 8.4750e-04 - val_mae: 0.0180\n",
      "Epoch 43/100\n",
      "137/137 - 3s - 21ms/step - loss: 0.0012 - mae: 0.0208 - val_loss: 8.6352e-04 - val_mae: 0.0184\n",
      "Epoch 44/100\n",
      "137/137 - 3s - 22ms/step - loss: 0.0012 - mae: 0.0207 - val_loss: 8.0541e-04 - val_mae: 0.0165\n",
      "Epoch 45/100\n",
      "137/137 - 3s - 21ms/step - loss: 0.0013 - mae: 0.0210 - val_loss: 8.4741e-04 - val_mae: 0.0181\n",
      "Epoch 46/100\n",
      "137/137 - 3s - 21ms/step - loss: 0.0012 - mae: 0.0208 - val_loss: 8.4977e-04 - val_mae: 0.0178\n",
      "Epoch 47/100\n",
      "137/137 - 3s - 21ms/step - loss: 0.0012 - mae: 0.0207 - val_loss: 8.0750e-04 - val_mae: 0.0162\n",
      "Epoch 48/100\n",
      "137/137 - 3s - 21ms/step - loss: 0.0012 - mae: 0.0202 - val_loss: 8.1169e-04 - val_mae: 0.0167\n",
      "Epoch 49/100\n",
      "137/137 - 3s - 22ms/step - loss: 0.0012 - mae: 0.0201 - val_loss: 9.7451e-04 - val_mae: 0.0208\n",
      "Epoch 50/100\n",
      "137/137 - 3s - 22ms/step - loss: 0.0012 - mae: 0.0203 - val_loss: 8.7289e-04 - val_mae: 0.0183\n",
      "Epoch 51/100\n",
      "137/137 - 3s - 21ms/step - loss: 0.0012 - mae: 0.0200 - val_loss: 8.4516e-04 - val_mae: 0.0175\n",
      "Epoch 52/100\n",
      "137/137 - 3s - 21ms/step - loss: 0.0012 - mae: 0.0203 - val_loss: 8.3478e-04 - val_mae: 0.0170\n",
      "Epoch 53/100\n",
      "137/137 - 3s - 21ms/step - loss: 0.0012 - mae: 0.0201 - val_loss: 7.9563e-04 - val_mae: 0.0158\n",
      "Epoch 54/100\n",
      "137/137 - 3s - 21ms/step - loss: 0.0012 - mae: 0.0201 - val_loss: 9.9615e-04 - val_mae: 0.0213\n",
      "Epoch 55/100\n",
      "137/137 - 3s - 21ms/step - loss: 0.0012 - mae: 0.0204 - val_loss: 8.6308e-04 - val_mae: 0.0178\n",
      "Epoch 56/100\n",
      "137/137 - 3s - 21ms/step - loss: 0.0011 - mae: 0.0198 - val_loss: 7.8998e-04 - val_mae: 0.0158\n",
      "Epoch 57/100\n",
      "137/137 - 3s - 21ms/step - loss: 0.0011 - mae: 0.0197 - val_loss: 8.1202e-04 - val_mae: 0.0162\n",
      "Epoch 58/100\n",
      "137/137 - 3s - 21ms/step - loss: 0.0012 - mae: 0.0202 - val_loss: 8.5578e-04 - val_mae: 0.0176\n",
      "Epoch 59/100\n",
      "137/137 - 3s - 21ms/step - loss: 0.0012 - mae: 0.0201 - val_loss: 8.7115e-04 - val_mae: 0.0182\n",
      "Epoch 60/100\n",
      "137/137 - 3s - 21ms/step - loss: 0.0011 - mae: 0.0199 - val_loss: 8.3300e-04 - val_mae: 0.0170\n",
      "Epoch 61/100\n",
      "137/137 - 3s - 21ms/step - loss: 0.0012 - mae: 0.0198 - val_loss: 8.0979e-04 - val_mae: 0.0163\n",
      "Epoch 62/100\n",
      "137/137 - 3s - 21ms/step - loss: 0.0012 - mae: 0.0199 - val_loss: 8.9975e-04 - val_mae: 0.0190\n",
      "Epoch 63/100\n",
      "137/137 - 3s - 21ms/step - loss: 0.0011 - mae: 0.0200 - val_loss: 8.3438e-04 - val_mae: 0.0169\n",
      "Epoch 64/100\n",
      "137/137 - 3s - 21ms/step - loss: 0.0012 - mae: 0.0198 - val_loss: 8.6492e-04 - val_mae: 0.0180\n",
      "Epoch 65/100\n",
      "137/137 - 3s - 21ms/step - loss: 0.0011 - mae: 0.0201 - val_loss: 8.7718e-04 - val_mae: 0.0183\n",
      "Epoch 66/100\n",
      "137/137 - 3s - 21ms/step - loss: 0.0012 - mae: 0.0199 - val_loss: 8.8281e-04 - val_mae: 0.0183\n",
      "Epoch 67/100\n",
      "137/137 - 3s - 21ms/step - loss: 0.0011 - mae: 0.0198 - val_loss: 9.2081e-04 - val_mae: 0.0194\n",
      "Epoch 68/100\n",
      "137/137 - 3s - 21ms/step - loss: 0.0012 - mae: 0.0200 - val_loss: 9.9483e-04 - val_mae: 0.0211\n",
      "Epoch 69/100\n",
      "137/137 - 3s - 21ms/step - loss: 0.0011 - mae: 0.0196 - val_loss: 9.3501e-04 - val_mae: 0.0193\n",
      "Epoch 70/100\n",
      "137/137 - 3s - 21ms/step - loss: 0.0011 - mae: 0.0195 - val_loss: 9.0059e-04 - val_mae: 0.0185\n",
      "Epoch 71/100\n",
      "137/137 - 3s - 21ms/step - loss: 0.0011 - mae: 0.0196 - val_loss: 8.9187e-04 - val_mae: 0.0184\n",
      "Epoch 72/100\n",
      "137/137 - 3s - 21ms/step - loss: 0.0011 - mae: 0.0197 - val_loss: 0.0011 - val_mae: 0.0221\n",
      "Epoch 73/100\n",
      "137/137 - 3s - 21ms/step - loss: 0.0011 - mae: 0.0195 - val_loss: 9.4728e-04 - val_mae: 0.0195\n",
      "Epoch 74/100\n",
      "137/137 - 3s - 21ms/step - loss: 0.0011 - mae: 0.0194 - val_loss: 9.5805e-04 - val_mae: 0.0200\n",
      "Epoch 75/100\n",
      "137/137 - 3s - 21ms/step - loss: 0.0011 - mae: 0.0197 - val_loss: 8.5917e-04 - val_mae: 0.0173\n",
      "Epoch 76/100\n",
      "137/137 - 3s - 21ms/step - loss: 0.0011 - mae: 0.0195 - val_loss: 8.3906e-04 - val_mae: 0.0165\n",
      "Epoch 77/100\n",
      "137/137 - 3s - 21ms/step - loss: 0.0011 - mae: 0.0196 - val_loss: 8.5193e-04 - val_mae: 0.0171\n",
      "Epoch 78/100\n",
      "137/137 - 3s - 21ms/step - loss: 0.0011 - mae: 0.0196 - val_loss: 8.5152e-04 - val_mae: 0.0171\n",
      "Epoch 79/100\n",
      "137/137 - 3s - 21ms/step - loss: 0.0010 - mae: 0.0189 - val_loss: 8.6055e-04 - val_mae: 0.0172\n",
      "Epoch 80/100\n",
      "137/137 - 3s - 21ms/step - loss: 0.0011 - mae: 0.0196 - val_loss: 9.6553e-04 - val_mae: 0.0200\n",
      "Epoch 81/100\n",
      "137/137 - 3s - 22ms/step - loss: 0.0010 - mae: 0.0194 - val_loss: 9.4637e-04 - val_mae: 0.0194\n",
      "Epoch 82/100\n",
      "137/137 - 3s - 23ms/step - loss: 0.0011 - mae: 0.0194 - val_loss: 8.5308e-04 - val_mae: 0.0170\n",
      "Epoch 83/100\n",
      "137/137 - 3s - 21ms/step - loss: 0.0010 - mae: 0.0190 - val_loss: 9.2245e-04 - val_mae: 0.0183\n",
      "Epoch 84/100\n",
      "137/137 - 3s - 21ms/step - loss: 0.0010 - mae: 0.0191 - val_loss: 8.4132e-04 - val_mae: 0.0165\n",
      "Epoch 85/100\n",
      "137/137 - 3s - 21ms/step - loss: 0.0010 - mae: 0.0191 - val_loss: 8.7880e-04 - val_mae: 0.0172\n",
      "Epoch 86/100\n",
      "137/137 - 3s - 21ms/step - loss: 0.0010 - mae: 0.0191 - val_loss: 8.8845e-04 - val_mae: 0.0173\n",
      "Epoch 87/100\n",
      "137/137 - 3s - 21ms/step - loss: 0.0011 - mae: 0.0190 - val_loss: 8.8494e-04 - val_mae: 0.0168\n",
      "Epoch 88/100\n",
      "137/137 - 3s - 21ms/step - loss: 0.0011 - mae: 0.0191 - val_loss: 8.5372e-04 - val_mae: 0.0169\n",
      "Epoch 89/100\n",
      "137/137 - 3s - 21ms/step - loss: 0.0011 - mae: 0.0191 - val_loss: 8.4891e-04 - val_mae: 0.0157\n",
      "Epoch 90/100\n",
      "137/137 - 3s - 21ms/step - loss: 0.0011 - mae: 0.0193 - val_loss: 9.5272e-04 - val_mae: 0.0191\n",
      "Epoch 91/100\n",
      "137/137 - 3s - 21ms/step - loss: 0.0010 - mae: 0.0189 - val_loss: 9.3897e-04 - val_mae: 0.0174\n",
      "Epoch 92/100\n",
      "137/137 - 3s - 21ms/step - loss: 0.0010 - mae: 0.0189 - val_loss: 8.7670e-04 - val_mae: 0.0166\n",
      "Epoch 93/100\n",
      "137/137 - 3s - 21ms/step - loss: 0.0010 - mae: 0.0192 - val_loss: 8.5453e-04 - val_mae: 0.0161\n",
      "Epoch 94/100\n",
      "137/137 - 3s - 22ms/step - loss: 0.0010 - mae: 0.0191 - val_loss: 8.4407e-04 - val_mae: 0.0157\n",
      "Epoch 95/100\n",
      "137/137 - 3s - 21ms/step - loss: 0.0011 - mae: 0.0192 - val_loss: 8.4150e-04 - val_mae: 0.0159\n",
      "Epoch 96/100\n",
      "137/137 - 3s - 21ms/step - loss: 0.0010 - mae: 0.0190 - val_loss: 8.9915e-04 - val_mae: 0.0176\n",
      "Epoch 97/100\n",
      "137/137 - 3s - 21ms/step - loss: 0.0010 - mae: 0.0189 - val_loss: 8.6222e-04 - val_mae: 0.0160\n",
      "Epoch 98/100\n",
      "137/137 - 3s - 21ms/step - loss: 9.7665e-04 - mae: 0.0186 - val_loss: 9.2549e-04 - val_mae: 0.0176\n",
      "Epoch 99/100\n",
      "137/137 - 3s - 21ms/step - loss: 0.0010 - mae: 0.0188 - val_loss: 8.7328e-04 - val_mae: 0.0163\n",
      "Epoch 100/100\n",
      "137/137 - 3s - 21ms/step - loss: 9.9015e-04 - mae: 0.0189 - val_loss: 9.6141e-04 - val_mae: 0.0188\n"
     ]
    }
   ],
   "source": [
    "# fit network\n",
    "history = model.fit(X_train, y_train, \n",
    "                    epochs=100, batch_size=64, \n",
    "                    validation_data=(X_test, y_test),\n",
    "                    callbacks=callbacks,\n",
    "                    verbose=2, shuffle=False)"
   ]
  },
  {
   "cell_type": "code",
   "execution_count": 49,
   "metadata": {},
   "outputs": [
    {
     "data": {
      "image/png": "[encoded data removed]",
      "text/plain": [
       "<Figure size 640x480 with 1 Axes>"
      ]
     },
     "metadata": {},
     "output_type": "display_data"
    }
   ],
   "source": [
    "# plot history\n",
    "plt.plot(history.history['loss'], label='train')\n",
    "plt.plot(history.history['val_loss'], label='valid')\n",
    "plt.legend()\n",
    "plt.show()"
   ]
  },
  {
   "cell_type": "code",
   "execution_count": 50,
   "metadata": {},
   "outputs": [
    {
     "name": "stdout",
     "output_type": "stream",
     "text": [
      "Mean squared error: 0.00079\n",
      "Mean absolute error: 0.01577\n"
     ]
    }
   ],
   "source": [
    "model = keras.models.load_model(\"aq_model5.keras\")\n",
    "calc_mae(model, X_test, y_test)"
   ]
  },
  {
   "cell_type": "markdown",
   "metadata": {},
   "source": [
    "## Appendix\n",
    "\n",
    "### Beijing pollution dataset: *pollution.csv*\n",
    "\n",
    "| Column header | Variable |\n",
    "| --- | --- |\n",
    "| date | POSIX date (y-m-d h:m:s) |\n",
    "| pollution | PM2.5 concentration (ppb) |\n",
    "| dew | Dew point |\n",
    "| temp | Temperature (C) |\n",
    "| press | Air pressure (hPa) |\n",
    "| wnd_dir | Wind direction (categorical) |\n",
    "| wnd_spd | m s-1 |\n",
    "| rain | mm |\n"
   ]
  }
 ],
 "metadata": {
  "kernelspec": {
   "display_name": "tf-5160",
   "language": "python",
   "name": "python3"
  },
  "language_info": {
   "codemirror_mode": {
    "name": "ipython",
    "version": 3
   },
   "file_extension": ".py",
   "mimetype": "text/x-python",
   "name": "python",
   "nbconvert_exporter": "python",
   "pygments_lexer": "ipython3",
   "version": "3.12.9"
  }
 },
 "nbformat": 4,
 "nbformat_minor": 4
}
