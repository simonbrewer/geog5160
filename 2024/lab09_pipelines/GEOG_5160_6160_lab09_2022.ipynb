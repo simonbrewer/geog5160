{
 "cells": [
  {
   "cell_type": "markdown",
   "metadata": {},
   "source": [
    "# GEOG 5160 6160 Lab 09"
   ]
  },
  {
   "cell_type": "markdown",
   "metadata": {},
   "source": [
    "Let's begin by importing the packages we'll need for the lab:"
   ]
  },
  {
   "cell_type": "code",
   "execution_count": 1,
   "metadata": {},
   "outputs": [],
   "source": [
    "import pandas as pd\n",
    "import numpy as np\n",
    "import sklearn\n",
    "import matplotlib.pyplot as plt\n",
    "import seaborn as sns\n",
    "sns.set(style=\"white\")\n",
    "sns.set(style=\"whitegrid\", color_codes=True)\n",
    "## Set random seed for reproducibility\n",
    "np.random.seed(1234)"
   ]
  },
  {
   "cell_type": "markdown",
   "metadata": {},
   "source": [
    "## Regression neural networks"
   ]
  },
  {
   "cell_type": "markdown",
   "metadata": {},
   "source": [
    "We'll start with an example of using a neural network for a regression task. The data are taken from a Kaggle competition and are based on a set of 77 breakfast cereals. A description of the data is given in the appendix. The last field in the file (`rating`) is the outcome variable that we will build the network for. Start by reading the file:"
   ]
  },
  {
   "cell_type": "code",
   "execution_count": 2,
   "metadata": {},
   "outputs": [
    {
     "name": "stdout",
     "output_type": "stream",
     "text": [
      "(77, 16)\n"
     ]
    }
   ],
   "source": [
    "cereal = pd.read_csv(\"../datafiles/cereals.csv\")\n",
    "print(cereal.shape)"
   ]
  },
  {
   "cell_type": "code",
   "execution_count": 3,
   "metadata": {},
   "outputs": [
    {
     "data": {
      "text/html": [
       "<div>\n",
       "<style scoped>\n",
       "    .dataframe tbody tr th:only-of-type {\n",
       "        vertical-align: middle;\n",
       "    }\n",
       "\n",
       "    .dataframe tbody tr th {\n",
       "        vertical-align: top;\n",
       "    }\n",
       "\n",
       "    .dataframe thead th {\n",
       "        text-align: right;\n",
       "    }\n",
       "</style>\n",
       "<table border=\"1\" class=\"dataframe\">\n",
       "  <thead>\n",
       "    <tr style=\"text-align: right;\">\n",
       "      <th></th>\n",
       "      <th>name</th>\n",
       "      <th>mfr</th>\n",
       "      <th>type</th>\n",
       "      <th>calories</th>\n",
       "      <th>protein</th>\n",
       "      <th>fat</th>\n",
       "      <th>sodium</th>\n",
       "      <th>fiber</th>\n",
       "      <th>carbo</th>\n",
       "      <th>sugars</th>\n",
       "      <th>potass</th>\n",
       "      <th>vitamins</th>\n",
       "      <th>shelf</th>\n",
       "      <th>weight</th>\n",
       "      <th>cups</th>\n",
       "      <th>rating</th>\n",
       "    </tr>\n",
       "  </thead>\n",
       "  <tbody>\n",
       "    <tr>\n",
       "      <th>0</th>\n",
       "      <td>100% Bran</td>\n",
       "      <td>N</td>\n",
       "      <td>C</td>\n",
       "      <td>70</td>\n",
       "      <td>4</td>\n",
       "      <td>1</td>\n",
       "      <td>130</td>\n",
       "      <td>10.0</td>\n",
       "      <td>5.0</td>\n",
       "      <td>6</td>\n",
       "      <td>280</td>\n",
       "      <td>25.0</td>\n",
       "      <td>3</td>\n",
       "      <td>1.0</td>\n",
       "      <td>0.33</td>\n",
       "      <td>68.40</td>\n",
       "    </tr>\n",
       "    <tr>\n",
       "      <th>1</th>\n",
       "      <td>100% Natural Bran</td>\n",
       "      <td>Q</td>\n",
       "      <td>C</td>\n",
       "      <td>120</td>\n",
       "      <td>3</td>\n",
       "      <td>5</td>\n",
       "      <td>15</td>\n",
       "      <td>2.0</td>\n",
       "      <td>8.0</td>\n",
       "      <td>8</td>\n",
       "      <td>135</td>\n",
       "      <td>0.0</td>\n",
       "      <td>3</td>\n",
       "      <td>1.0</td>\n",
       "      <td>1.00</td>\n",
       "      <td>33.98</td>\n",
       "    </tr>\n",
       "    <tr>\n",
       "      <th>2</th>\n",
       "      <td>All-Bran</td>\n",
       "      <td>K</td>\n",
       "      <td>C</td>\n",
       "      <td>70</td>\n",
       "      <td>4</td>\n",
       "      <td>1</td>\n",
       "      <td>260</td>\n",
       "      <td>9.0</td>\n",
       "      <td>7.0</td>\n",
       "      <td>5</td>\n",
       "      <td>320</td>\n",
       "      <td>25.0</td>\n",
       "      <td>3</td>\n",
       "      <td>1.0</td>\n",
       "      <td>0.33</td>\n",
       "      <td>59.43</td>\n",
       "    </tr>\n",
       "    <tr>\n",
       "      <th>3</th>\n",
       "      <td>All-Bran with Extra Fiber</td>\n",
       "      <td>K</td>\n",
       "      <td>C</td>\n",
       "      <td>50</td>\n",
       "      <td>4</td>\n",
       "      <td>0</td>\n",
       "      <td>140</td>\n",
       "      <td>14.0</td>\n",
       "      <td>8.0</td>\n",
       "      <td>0</td>\n",
       "      <td>330</td>\n",
       "      <td>25.0</td>\n",
       "      <td>3</td>\n",
       "      <td>1.0</td>\n",
       "      <td>0.50</td>\n",
       "      <td>93.70</td>\n",
       "    </tr>\n",
       "    <tr>\n",
       "      <th>4</th>\n",
       "      <td>Almond Delight</td>\n",
       "      <td>R</td>\n",
       "      <td>C</td>\n",
       "      <td>110</td>\n",
       "      <td>2</td>\n",
       "      <td>2</td>\n",
       "      <td>200</td>\n",
       "      <td>1.0</td>\n",
       "      <td>14.0</td>\n",
       "      <td>8</td>\n",
       "      <td>-1</td>\n",
       "      <td>25.0</td>\n",
       "      <td>3</td>\n",
       "      <td>1.0</td>\n",
       "      <td>0.75</td>\n",
       "      <td>34.38</td>\n",
       "    </tr>\n",
       "  </tbody>\n",
       "</table>\n",
       "</div>"
      ],
      "text/plain": [
       "                        name mfr type  calories  protein  fat  sodium  fiber  \\\n",
       "0                  100% Bran   N    C        70        4    1     130   10.0   \n",
       "1          100% Natural Bran   Q    C       120        3    5      15    2.0   \n",
       "2                   All-Bran   K    C        70        4    1     260    9.0   \n",
       "3  All-Bran with Extra Fiber   K    C        50        4    0     140   14.0   \n",
       "4             Almond Delight   R    C       110        2    2     200    1.0   \n",
       "\n",
       "   carbo  sugars  potass  vitamins  shelf  weight  cups  rating  \n",
       "0    5.0       6     280      25.0      3     1.0  0.33   68.40  \n",
       "1    8.0       8     135       0.0      3     1.0  1.00   33.98  \n",
       "2    7.0       5     320      25.0      3     1.0  0.33   59.43  \n",
       "3    8.0       0     330      25.0      3     1.0  0.50   93.70  \n",
       "4   14.0       8      -1      25.0      3     1.0  0.75   34.38  "
      ]
     },
     "execution_count": 3,
     "metadata": {},
     "output_type": "execute_result"
    }
   ],
   "source": [
    "cereal.head()"
   ]
  },
  {
   "cell_type": "markdown",
   "metadata": {},
   "source": [
    "Next, we'll select a subset of the numeric features for modeling, as well as the outcome variable. We can use this to plot a correlation matrix showing the correlation between each variable (including the outcome `rating`)"
   ]
  },
  {
   "cell_type": "code",
   "execution_count": 4,
   "metadata": {},
   "outputs": [],
   "source": [
    "cereal = cereal[['rating','calories','protein','fat','sodium','fiber']]"
   ]
  },
  {
   "cell_type": "code",
   "execution_count": 5,
   "metadata": {},
   "outputs": [
    {
     "data": {
      "text/plain": [
       "<AxesSubplot:>"
      ]
     },
     "execution_count": 5,
     "metadata": {},
     "output_type": "execute_result"
    },
    {
     "data": {
      "image/png": "[encoded data removed]",
      "text/plain": [
       "<Figure size 720x576 with 2 Axes>"
      ]
     },
     "metadata": {},
     "output_type": "display_data"
    }
   ],
   "source": [
    "f, ax = plt.subplots(figsize=(10, 8))\n",
    "corr = cereal.corr()\n",
    "sns.heatmap(corr, mask=np.zeros_like(corr, dtype=np.bool), \n",
    "            cmap=sns.diverging_palette(220, 10, as_cmap=True),\n",
    "            square=True, ax=ax, annot = True)"
   ]
  },
  {
   "cell_type": "markdown",
   "metadata": {},
   "source": [
    "### Linear model\n",
    "\n",
    "We'll start by making a linear model as a baseline for comparisons with the neural network. First, we'll make up the set of features and labels, and then split these into two for simple hold-out based cross-validation"
   ]
  },
  {
   "cell_type": "code",
   "execution_count": 6,
   "metadata": {},
   "outputs": [],
   "source": [
    "from sklearn.model_selection import train_test_split\n",
    "\n",
    "X = cereal[['calories','protein','fat','sodium','fiber']]\n",
    "y = cereal['rating']\n",
    "X_train, X_test, y_train, y_test = train_test_split(X, y,\n",
    "                                                    train_size = 0.8)"
   ]
  },
  {
   "cell_type": "code",
   "execution_count": 7,
   "metadata": {},
   "outputs": [
    {
     "name": "stdout",
     "output_type": "stream",
     "text": [
      "0.824\n"
     ]
    }
   ],
   "source": [
    "from sklearn import linear_model\n",
    "lin_reg = linear_model.LinearRegression()\n",
    "lin_reg.fit(X_train, y_train)\n",
    "print(np.round(lin_reg.score(X_train, y_train), 3))"
   ]
  },
  {
   "cell_type": "markdown",
   "metadata": {},
   "source": [
    "This is a reasonable model with an R$^2$ of about 0.8. Now, we can test it's predictive skill by calculating the root mean squared error (RMSE)"
   ]
  },
  {
   "cell_type": "code",
   "execution_count": 8,
   "metadata": {},
   "outputs": [
    {
     "name": "stdout",
     "output_type": "stream",
     "text": [
      "Root mean squared error: 5.29\n"
     ]
    }
   ],
   "source": [
    "y_test_pred = lin_reg.predict(X_test)\n",
    "from sklearn.metrics import mean_squared_error\n",
    "print('Root mean squared error: %.2f'\n",
    "      % mean_squared_error(y_test, y_test_pred, squared = False))"
   ]
  },
  {
   "cell_type": "markdown",
   "metadata": {},
   "source": [
    "And we can further to check the RMSE through a five-fold cross-validation, to give us a baseline score for comparison to the neural network."
   ]
  },
  {
   "cell_type": "code",
   "execution_count": 9,
   "metadata": {},
   "outputs": [
    {
     "name": "stdout",
     "output_type": "stream",
     "text": [
      "6.473\n"
     ]
    }
   ],
   "source": [
    "from sklearn.model_selection import cross_val_score, KFold\n",
    "# define model evaluation method\n",
    "cv = KFold(n_splits=5)\n",
    "\n",
    "scores = cross_val_score(lin_reg, X, y, cv=cv, scoring = 'neg_root_mean_squared_error')\n",
    "print(\"%.3f\" % np.mean(-scores))"
   ]
  },
  {
   "cell_type": "markdown",
   "metadata": {},
   "source": [
    "### Neural network\n",
    "\n",
    "Now we'll turn to making a neural network. We'll again use scikit-learn to build the network. As the network uses weighted sums of the input features, it's important that none of these are on very different scales. The easiest way to avoid this is to scale all variables to approximately the same range. The scaling we use here is a min-max transformation or *normalization* (i.e. each variable is converted to a 0-1 range). This transformation is given by the following equation. "
   ]
  },
  {
   "cell_type": "markdown",
   "metadata": {},
   "source": [
    "$x_i'=\\frac{x_i-min(x)}{max(x)-min(x)}$"
   ]
  },
  {
   "cell_type": "markdown",
   "metadata": {},
   "source": [
    "To calculate this, we'll take advantage of some Pandas functions here that calculate the minimum and maximum of each column:  "
   ]
  },
  {
   "cell_type": "code",
   "execution_count": 10,
   "metadata": {},
   "outputs": [],
   "source": [
    "X_normalized = (X - X.min()) / (X.max() - X.min())"
   ]
  },
  {
   "cell_type": "markdown",
   "metadata": {},
   "source": [
    "To check this has worked, let's look at the min and max values for each column in the new DataFrame:"
   ]
  },
  {
   "cell_type": "code",
   "execution_count": 11,
   "metadata": {},
   "outputs": [
    {
     "name": "stdout",
     "output_type": "stream",
     "text": [
      "calories    0.0\n",
      "protein     0.0\n",
      "fat         0.0\n",
      "sodium      0.0\n",
      "fiber       0.0\n",
      "dtype: float64\n",
      "calories    1.0\n",
      "protein     1.0\n",
      "fat         1.0\n",
      "sodium      1.0\n",
      "fiber       1.0\n",
      "dtype: float64\n"
     ]
    }
   ],
   "source": [
    "print(X_normalized.min())\n",
    "print(X_normalized.max())"
   ]
  },
  {
   "cell_type": "markdown",
   "metadata": {},
   "source": [
    "Now let's re-create our training and testing set"
   ]
  },
  {
   "cell_type": "code",
   "execution_count": 12,
   "metadata": {},
   "outputs": [],
   "source": [
    "X_train, X_test, y_train, y_test = train_test_split(X_normalized, y,\n",
    "                                                    train_size = 0.8)"
   ]
  },
  {
   "cell_type": "markdown",
   "metadata": {},
   "source": [
    "We can now fit the network. For a regression neural network, we need the `MLPRegressor` function from the `neural_network` submodule. There are (as ever) a lot of parameters that you can tweak. A few key ones are :\n",
    "\n",
    "- `hidden_layer_sizes`: this defines the size (and number) of hidden layers. \n",
    "- `activation`: The activation function. For this first attempt, we'll use a sigmoid function (`logistic`)\n",
    "- `solver`: the optimization method. We'll use `lbfgs` here, as it works well with small datasets. Two alternatives are `adam`, which is recommended for large datasets, and a stochastic gradient descent `sgd`. This latter solver is a powerful method, but in general requries a fair amount of tuning to get the best performance."
   ]
  },
  {
   "cell_type": "code",
   "execution_count": 13,
   "metadata": {},
   "outputs": [],
   "source": [
    "from sklearn.neural_network import MLPRegressor\n",
    "\n",
    "nn_reg = MLPRegressor(hidden_layer_sizes=(3,),  \n",
    "                      activation='logistic', \n",
    "                      solver='lbfgs', \n",
    "                      max_iter = 200)"
   ]
  },
  {
   "cell_type": "markdown",
   "metadata": {},
   "source": [
    "Let's fit this to our testing dataset:"
   ]
  },
  {
   "cell_type": "code",
   "execution_count": 14,
   "metadata": {},
   "outputs": [
    {
     "name": "stderr",
     "output_type": "stream",
     "text": [
      "/opt/miniconda3/envs/geog5160/lib/python3.9/site-packages/sklearn/neural_network/_multilayer_perceptron.py:500: ConvergenceWarning: lbfgs failed to converge (status=1):\n",
      "STOP: TOTAL NO. of ITERATIONS REACHED LIMIT.\n",
      "\n",
      "Increase the number of iterations (max_iter) or scale the data as shown in:\n",
      "    https://scikit-learn.org/stable/modules/preprocessing.html\n",
      "  self.n_iter_ = _check_optimize_result(\"lbfgs\", opt_res, self.max_iter)\n"
     ]
    },
    {
     "data": {
      "text/plain": [
       "MLPRegressor(activation='logistic', hidden_layer_sizes=(3,), solver='lbfgs')"
      ]
     },
     "execution_count": 14,
     "metadata": {},
     "output_type": "execute_result"
    }
   ],
   "source": [
    "nn_reg.fit(X_train, y_train)"
   ]
  },
  {
   "cell_type": "markdown",
   "metadata": {},
   "source": [
    "You should see a warning message telling you that the algorithm did not converge before reaching the maximum number of iterations. This is quite a difficult dataset to model, as there are a low number of observations. Let's calculate the RMSE to see how far off this model is:"
   ]
  },
  {
   "cell_type": "code",
   "execution_count": 15,
   "metadata": {},
   "outputs": [
    {
     "name": "stdout",
     "output_type": "stream",
     "text": [
      "Root mean squared error: 11.42\n"
     ]
    }
   ],
   "source": [
    "y_test_pred = nn_reg.predict(X_test)\n",
    "print('Root mean squared error: %.2f'\n",
    "      % mean_squared_error(y_test, y_test_pred, squared = False))"
   ]
  },
  {
   "cell_type": "markdown",
   "metadata": {},
   "source": [
    "Almost twice as bad as the simple linear regression. Let's first try increasing the iteration limit and see if it will fit:"
   ]
  },
  {
   "cell_type": "code",
   "execution_count": 16,
   "metadata": {},
   "outputs": [
    {
     "name": "stdout",
     "output_type": "stream",
     "text": [
      "Root mean squared error: 10.67\n"
     ]
    }
   ],
   "source": [
    "nn_reg = MLPRegressor(hidden_layer_sizes=(3,),  \n",
    "                      activation='logistic', \n",
    "                      solver='lbfgs', \n",
    "                      max_iter = 500,\n",
    "                     random_state = 1)\n",
    "nn_reg.fit(X_train, y_train)\n",
    "y_test_pred = nn_reg.predict(X_test)\n",
    "print('Root mean squared error: %.2f'\n",
    "      % mean_squared_error(y_test, y_test_pred, squared = False))"
   ]
  },
  {
   "cell_type": "markdown",
   "metadata": {},
   "source": [
    "500 iterations is enough to get the model to converge, but the error is still pretty high. \n",
    "\n",
    "Before making a further additions, we can visualize the network we have obtained. This is an optional section, and if you want to get it to run, you will need to down load the file *VisualizeNN.py* and copy it to your working directory. The script works in two steps: first it extracts the network structure and connection weights and then we use the `DrawNN()` method to plot it. "
   ]
  },
  {
   "cell_type": "code",
   "execution_count": 17,
   "metadata": {},
   "outputs": [],
   "source": [
    "import VisualizeNN as VisNN\n",
    "#network_structure = np.hstack(([X_train.shape[1]], \n",
    "#                               np.asarray(nn_reg.hidden_layer_sizes), \n",
    "#                               [y_train.shape[1]]))\n",
    "network_structure = np.hstack(([X_train.shape[1]], \n",
    "                               np.asarray(nn_reg.hidden_layer_sizes), \n",
    "                               [1]))"
   ]
  },
  {
   "cell_type": "code",
   "execution_count": 18,
   "metadata": {},
   "outputs": [
    {
     "data": {
      "image/png": "[encoded data removed]",
      "text/plain": [
       "<Figure size 864x648 with 1 Axes>"
      ]
     },
     "metadata": {},
     "output_type": "display_data"
    }
   ],
   "source": [
    "network=VisNN.DrawNN(network_structure, nn_reg.coefs_)\n",
    "network.draw()"
   ]
  },
  {
   "cell_type": "markdown",
   "metadata": {},
   "source": [
    "Let's try to improve on this model. One key parameter in a multi-layer neural network is the definition of the hidden layers, which include\n",
    "\n",
    "- the number of layers\n",
    "- the number of nodes in each layer\n",
    "\n",
    "A good rule of thumb for the number of nodes is that this should be somewhere between the number of input and number of output nodes. However, picking this number is not straightforward. Another good suggestion is that you should generally prefer a smaller number of nodes, but a larger number of layers. \n",
    "\n",
    "We'll now see if adding a second hidden layer will improve the model. To do this, we simply add another value to the `hidden_layer_sizes` argument. This is a tuple containing a set of integer values. The length of the tuple is the number of hidden layers, and the individual values define how many nodes to include in that layer. Here, we use two hidden layers, with 6 and 3 nodes respectively. As the network is more complex, we'll increase the number of iterations to make sure it converges:"
   ]
  },
  {
   "cell_type": "code",
   "execution_count": 19,
   "metadata": {},
   "outputs": [
    {
     "name": "stdout",
     "output_type": "stream",
     "text": [
      "Root mean squared error: 7.02\n"
     ]
    },
    {
     "name": "stderr",
     "output_type": "stream",
     "text": [
      "/opt/miniconda3/envs/geog5160/lib/python3.9/site-packages/sklearn/neural_network/_multilayer_perceptron.py:500: ConvergenceWarning: lbfgs failed to converge (status=1):\n",
      "STOP: TOTAL NO. of ITERATIONS REACHED LIMIT.\n",
      "\n",
      "Increase the number of iterations (max_iter) or scale the data as shown in:\n",
      "    https://scikit-learn.org/stable/modules/preprocessing.html\n",
      "  self.n_iter_ = _check_optimize_result(\"lbfgs\", opt_res, self.max_iter)\n"
     ]
    }
   ],
   "source": [
    "nn_reg = MLPRegressor(hidden_layer_sizes=(6,3),  \n",
    "                      activation='logistic', \n",
    "                      solver='lbfgs', \n",
    "                      max_iter = 5000,\n",
    "                     random_state = 1)\n",
    "nn_reg.fit(X_train, y_train)\n",
    "y_test_pred = nn_reg.predict(X_test)\n",
    "print('Root mean squared error: %.2f'\n",
    "      % mean_squared_error(y_test, y_test_pred, squared = False))"
   ]
  },
  {
   "cell_type": "markdown",
   "metadata": {},
   "source": [
    "Even with the larger number of iterations, this still fails to converge. But despite this, we get a fairly large improvement in the RMSE. "
   ]
  },
  {
   "cell_type": "markdown",
   "metadata": {},
   "source": [
    "The last thing we can try is to change the solver. We'll use the stochastic gradient descent, with a couple of hyperparameters that control the learning rate. The values shown here were obtained through trial and error, but a better approach would be to use a grid search of potential values (try changing these to see the effect). We'll also try a different activation function: `relu` "
   ]
  },
  {
   "cell_type": "code",
   "execution_count": 20,
   "metadata": {},
   "outputs": [
    {
     "name": "stdout",
     "output_type": "stream",
     "text": [
      "Root mean squared error: 5.89\n"
     ]
    }
   ],
   "source": [
    "nn_reg = MLPRegressor(hidden_layer_sizes=(100,),\n",
    "                      activation='relu',\n",
    "                      solver='sgd', \n",
    "                      max_iter=10000, \n",
    "                      random_state=1, \n",
    "                      learning_rate_init=0.01,\n",
    "                      momentum = 0.6,\n",
    "                      tol=1e-4)\n",
    "nn_reg.fit(X_train, y_train)\n",
    "y_test_pred = nn_reg.predict(X_test)\n",
    "print('Root mean squared error: %.2f'\n",
    "      % mean_squared_error(y_test, y_test_pred, squared = False))"
   ]
  },
  {
   "cell_type": "markdown",
   "metadata": {},
   "source": [
    "Stochastic descent algorithms (like `sgd` and `adam`) will output a loss curve, showing the reduction in the overall loss as the network trains. You can visualize this as follows:"
   ]
  },
  {
   "cell_type": "code",
   "execution_count": 21,
   "metadata": {},
   "outputs": [
    {
     "data": {
      "image/png": "[encoded data removed]",
      "text/plain": [
       "<Figure size 432x288 with 1 Axes>"
      ]
     },
     "metadata": {},
     "output_type": "display_data"
    }
   ],
   "source": [
    "plt.plot(nn_reg.loss_curve_)\n",
    "plt.show()"
   ]
  },
  {
   "cell_type": "markdown",
   "metadata": {},
   "source": [
    "Finally, we can use the $k$-fold cross-validation strategy defined above to see what the overall prediction error is:"
   ]
  },
  {
   "cell_type": "code",
   "execution_count": 22,
   "metadata": {},
   "outputs": [],
   "source": [
    "from sklearn.model_selection import cross_val_score, KFold\n",
    "# define model evaluation method\n",
    "cv = KFold(n_splits=5)\n",
    "\n",
    "scores = cross_val_score(nn_reg, X_normalized, y, cv=cv, scoring = 'neg_root_mean_squared_error')"
   ]
  },
  {
   "cell_type": "code",
   "execution_count": 23,
   "metadata": {},
   "outputs": [
    {
     "name": "stdout",
     "output_type": "stream",
     "text": [
      "[-6.07  -6.562 -5.411 -6.284 -7.608]\n",
      "6.387\n"
     ]
    }
   ],
   "source": [
    "with np.printoptions(precision=3, suppress=True):\n",
    "    print(scores)\n",
    "print(\"%.3f\" % np.mean(-scores))"
   ]
  },
  {
   "cell_type": "markdown",
   "metadata": {},
   "source": [
    "This gives us a slight improvement over the simple linear model. "
   ]
  },
  {
   "cell_type": "markdown",
   "metadata": {},
   "source": [
    "## Classification neural networks"
   ]
  },
  {
   "cell_type": "markdown",
   "metadata": {},
   "source": [
    "Next, we'll build a neural network for a classification task. We'll use a new dataset, containing credit rankings for over 4000 people (see appendix for a description of the fields). The goal will be to predict `Status`, a binary outcome with two levels: `good` and `bad`. We'll start again by reading the data:"
   ]
  },
  {
   "cell_type": "code",
   "execution_count": 24,
   "metadata": {},
   "outputs": [
    {
     "name": "stdout",
     "output_type": "stream",
     "text": [
      "(4454, 14)\n"
     ]
    }
   ],
   "source": [
    "credit = pd.read_csv(\"../datafiles/credit_data.csv\")\n",
    "print(credit.shape)"
   ]
  },
  {
   "cell_type": "markdown",
   "metadata": {},
   "source": [
    "If we take a look at the first few rows of the data, you should see that there are a mixture of numerical and categorical variables, as well as a range of different scales for the numerical variables. "
   ]
  },
  {
   "cell_type": "code",
   "execution_count": 25,
   "metadata": {},
   "outputs": [
    {
     "data": {
      "text/html": [
       "<div>\n",
       "<style scoped>\n",
       "    .dataframe tbody tr th:only-of-type {\n",
       "        vertical-align: middle;\n",
       "    }\n",
       "\n",
       "    .dataframe tbody tr th {\n",
       "        vertical-align: top;\n",
       "    }\n",
       "\n",
       "    .dataframe thead th {\n",
       "        text-align: right;\n",
       "    }\n",
       "</style>\n",
       "<table border=\"1\" class=\"dataframe\">\n",
       "  <thead>\n",
       "    <tr style=\"text-align: right;\">\n",
       "      <th></th>\n",
       "      <th>Status</th>\n",
       "      <th>Seniority</th>\n",
       "      <th>Home</th>\n",
       "      <th>Time</th>\n",
       "      <th>Age</th>\n",
       "      <th>Marital</th>\n",
       "      <th>Records</th>\n",
       "      <th>Job</th>\n",
       "      <th>Expenses</th>\n",
       "      <th>Income</th>\n",
       "      <th>Assets</th>\n",
       "      <th>Debt</th>\n",
       "      <th>Amount</th>\n",
       "      <th>Price</th>\n",
       "    </tr>\n",
       "  </thead>\n",
       "  <tbody>\n",
       "    <tr>\n",
       "      <th>0</th>\n",
       "      <td>good</td>\n",
       "      <td>9</td>\n",
       "      <td>rent</td>\n",
       "      <td>60</td>\n",
       "      <td>30</td>\n",
       "      <td>married</td>\n",
       "      <td>no</td>\n",
       "      <td>freelance</td>\n",
       "      <td>73</td>\n",
       "      <td>129.0</td>\n",
       "      <td>0.0</td>\n",
       "      <td>0.0</td>\n",
       "      <td>800</td>\n",
       "      <td>846</td>\n",
       "    </tr>\n",
       "    <tr>\n",
       "      <th>1</th>\n",
       "      <td>good</td>\n",
       "      <td>17</td>\n",
       "      <td>rent</td>\n",
       "      <td>60</td>\n",
       "      <td>58</td>\n",
       "      <td>widow</td>\n",
       "      <td>no</td>\n",
       "      <td>fixed</td>\n",
       "      <td>48</td>\n",
       "      <td>131.0</td>\n",
       "      <td>0.0</td>\n",
       "      <td>0.0</td>\n",
       "      <td>1000</td>\n",
       "      <td>1658</td>\n",
       "    </tr>\n",
       "    <tr>\n",
       "      <th>2</th>\n",
       "      <td>bad</td>\n",
       "      <td>10</td>\n",
       "      <td>owner</td>\n",
       "      <td>36</td>\n",
       "      <td>46</td>\n",
       "      <td>married</td>\n",
       "      <td>yes</td>\n",
       "      <td>freelance</td>\n",
       "      <td>90</td>\n",
       "      <td>200.0</td>\n",
       "      <td>3000.0</td>\n",
       "      <td>0.0</td>\n",
       "      <td>2000</td>\n",
       "      <td>2985</td>\n",
       "    </tr>\n",
       "    <tr>\n",
       "      <th>3</th>\n",
       "      <td>good</td>\n",
       "      <td>0</td>\n",
       "      <td>rent</td>\n",
       "      <td>60</td>\n",
       "      <td>24</td>\n",
       "      <td>single</td>\n",
       "      <td>no</td>\n",
       "      <td>fixed</td>\n",
       "      <td>63</td>\n",
       "      <td>182.0</td>\n",
       "      <td>2500.0</td>\n",
       "      <td>0.0</td>\n",
       "      <td>900</td>\n",
       "      <td>1325</td>\n",
       "    </tr>\n",
       "    <tr>\n",
       "      <th>4</th>\n",
       "      <td>good</td>\n",
       "      <td>0</td>\n",
       "      <td>rent</td>\n",
       "      <td>36</td>\n",
       "      <td>26</td>\n",
       "      <td>single</td>\n",
       "      <td>no</td>\n",
       "      <td>fixed</td>\n",
       "      <td>46</td>\n",
       "      <td>107.0</td>\n",
       "      <td>0.0</td>\n",
       "      <td>0.0</td>\n",
       "      <td>310</td>\n",
       "      <td>910</td>\n",
       "    </tr>\n",
       "  </tbody>\n",
       "</table>\n",
       "</div>"
      ],
      "text/plain": [
       "  Status  Seniority   Home  Time  Age  Marital Records        Job  Expenses  \\\n",
       "0   good          9   rent    60   30  married      no  freelance        73   \n",
       "1   good         17   rent    60   58    widow      no      fixed        48   \n",
       "2    bad         10  owner    36   46  married     yes  freelance        90   \n",
       "3   good          0   rent    60   24   single      no      fixed        63   \n",
       "4   good          0   rent    36   26   single      no      fixed        46   \n",
       "\n",
       "   Income  Assets  Debt  Amount  Price  \n",
       "0   129.0     0.0   0.0     800    846  \n",
       "1   131.0     0.0   0.0    1000   1658  \n",
       "2   200.0  3000.0   0.0    2000   2985  \n",
       "3   182.0  2500.0   0.0     900   1325  \n",
       "4   107.0     0.0   0.0     310    910  "
      ]
     },
     "execution_count": 25,
     "metadata": {},
     "output_type": "execute_result"
    }
   ],
   "source": [
    "credit.head()"
   ]
  },
  {
   "cell_type": "markdown",
   "metadata": {},
   "source": [
    "In addition, if you run the `isna()` method, you'll see that there are missing values in several of the features. As machine learning algorithms can't use missing data to train, we need to decide what to do with these missing values. "
   ]
  },
  {
   "cell_type": "code",
   "execution_count": 26,
   "metadata": {},
   "outputs": [
    {
     "data": {
      "text/plain": [
       "Status       False\n",
       "Seniority    False\n",
       "Home          True\n",
       "Time         False\n",
       "Age          False\n",
       "Marital       True\n",
       "Records      False\n",
       "Job           True\n",
       "Expenses     False\n",
       "Income        True\n",
       "Assets        True\n",
       "Debt          True\n",
       "Amount       False\n",
       "Price        False\n",
       "dtype: bool"
      ]
     },
     "execution_count": 26,
     "metadata": {},
     "output_type": "execute_result"
    }
   ],
   "source": [
    "credit.isna().any()"
   ]
  },
  {
   "cell_type": "markdown",
   "metadata": {},
   "source": [
    "There are several steps that we might want to do to process these data:\n",
    "\n",
    "- Impute any missing values\n",
    "- Convert categorical/factor variables to numeric by one-hot encoding\n",
    "- Scale the numerical variables to prevent biases while training our neural networks\n",
    "\n",
    "While it is possible to do this in an ad-hoc way (as we did in the previous example), we will set up a processing *pipeline* that contains all of these steps. This takes more time to set up, but has a number of advantages: we can use the pipeline directly in cross-validation or tuning, and we can use it to process any new data that we might to make predictions for, without having to remember the individual steps. scikit-learn has a whole series of submodules and functions to help with this process, and we'll look at some of these here. Full details, including a number of worked examples, can be found on the scikit-learn website here: https://scikit-learn.org/stable/data_transforms.html\n",
    "\n",
    "Let's start by splitting the data into a training and testing set using a simple holdout (we'll use this to demonstrate some of the functions:"
   ]
  },
  {
   "cell_type": "code",
   "execution_count": 27,
   "metadata": {},
   "outputs": [],
   "source": [
    "X = credit.loc[:, credit.columns != 'Status']\n",
    "y = credit['Status']\n",
    "X_train, X_test, y_train, y_test = train_test_split(X, y,\n",
    "                                                    train_size = 0.8)"
   ]
  },
  {
   "cell_type": "markdown",
   "metadata": {},
   "source": [
    "It is possible to set up the full pipeline in one step, but we'll work through this gradually so you can get a sense of what each operator is doing. As we have mixed data (numeric and categorical), we'll need separate operators for each type. You can get a list of the data types in a Pandas DataFrame by looking at the `dtypes` property:"
   ]
  },
  {
   "cell_type": "code",
   "execution_count": 28,
   "metadata": {},
   "outputs": [
    {
     "data": {
      "text/plain": [
       "Seniority      int64\n",
       "Home          object\n",
       "Time           int64\n",
       "Age            int64\n",
       "Marital       object\n",
       "Records       object\n",
       "Job           object\n",
       "Expenses       int64\n",
       "Income       float64\n",
       "Assets       float64\n",
       "Debt         float64\n",
       "Amount         int64\n",
       "Price          int64\n",
       "dtype: object"
      ]
     },
     "execution_count": 28,
     "metadata": {},
     "output_type": "execute_result"
    }
   ],
   "source": [
    "X.dtypes"
   ]
  },
  {
   "cell_type": "markdown",
   "metadata": {},
   "source": [
    "It is possible to set up the full pipeline in one step, but we'll work through this gradually so you can get a sense of what each operator is doing. As we have mixed data (numeric and categorical), we'll need separate operators for each type. We'll start by setting up lists containing the names of the categorical and numerical types so that we can refer to these for each step. "
   ]
  },
  {
   "cell_type": "code",
   "execution_count": 29,
   "metadata": {},
   "outputs": [],
   "source": [
    "categorical_features = ['Home', 'Marital', 'Records', 'Job']\n",
    "numerical_features = ['Seniority', 'Time', 'Age', 'Expenses', 'Income', \n",
    "                      'Assets', 'Debt', 'Amount', 'Price']"
   ]
  },
  {
   "cell_type": "markdown",
   "metadata": {},
   "source": [
    "Next, we'll design two operators to process the categorical data. The first will carry out a mode-based imputation of any missing values (i.e. fill in with the most common value). This is a simple (single) imputation method, and we need the `SimpleImputer()` function from `sklearn.impute`. Note that we include an argument `strategy` to define what value we will use to fill in the missing values. "
   ]
  },
  {
   "cell_type": "code",
   "execution_count": 30,
   "metadata": {},
   "outputs": [],
   "source": [
    "from sklearn.impute import SimpleImputer\n",
    "imp_cat = SimpleImputer(strategy=\"most_frequent\")"
   ]
  },
  {
   "cell_type": "markdown",
   "metadata": {},
   "source": [
    "Having set this up, we can run it on our data. This can be done using the `fit()` method, which 'fits' an imputation method to a given dataset. While this is not a machine learning method, we are still building a simple model - here just finding the most common value in each column. Note that we use the vector of column names to confine this operation to the categorical features."
   ]
  },
  {
   "cell_type": "code",
   "execution_count": 31,
   "metadata": {},
   "outputs": [
    {
     "data": {
      "text/plain": [
       "SimpleImputer(strategy='most_frequent')"
      ]
     },
     "execution_count": 31,
     "metadata": {},
     "output_type": "execute_result"
    }
   ],
   "source": [
    "imp_cat.fit(X[categorical_features])"
   ]
  },
  {
   "cell_type": "markdown",
   "metadata": {},
   "source": [
    "To actually see the results of this, we can use the `fit_transform()` method to output the results as an array"
   ]
  },
  {
   "cell_type": "code",
   "execution_count": 32,
   "metadata": {},
   "outputs": [
    {
     "name": "stdout",
     "output_type": "stream",
     "text": [
      "[['rent' 'married' 'no' 'freelance']\n",
      " ['rent' 'widow' 'no' 'fixed']\n",
      " ['owner' 'married' 'yes' 'freelance']\n",
      " ...\n",
      " ['owner' 'married' 'no' 'partime']\n",
      " ['rent' 'single' 'no' 'freelance']\n",
      " ['owner' 'married' 'no' 'freelance']]\n"
     ]
    }
   ],
   "source": [
    "X_impute = imp_cat.fit_transform(X[categorical_features])\n",
    "print(X_impute)"
   ]
  },
  {
   "cell_type": "markdown",
   "metadata": {},
   "source": [
    "To check that this has, in fact, filled the missing values, we can convert this array to a DataFrame and reuse the code to check for the presence of missing values:"
   ]
  },
  {
   "cell_type": "code",
   "execution_count": 33,
   "metadata": {},
   "outputs": [
    {
     "data": {
      "text/plain": [
       "Home       False\n",
       "Marital    False\n",
       "Records    False\n",
       "Job        False\n",
       "dtype: bool"
      ]
     },
     "execution_count": 33,
     "metadata": {},
     "output_type": "execute_result"
    }
   ],
   "source": [
    "X_impute_df = pd.DataFrame(X_impute, columns = categorical_features)\n",
    "X_impute_df.isna().any()"
   ]
  },
  {
   "cell_type": "markdown",
   "metadata": {},
   "source": [
    "Next, we'll one-hot encode the categorical variables. This converts each feature to a new set of numerical, integer features, one per level in the original feature. So a column titled 'sex', containing the levels 'female' and 'male' would be converted to two new columns: 'sex_female' and 'sex_male'. Each new column has a simple binary representation of that level, so an observation coded as 'female' would have 'sex_female' = 1 and 'sex_male' = 0. For this we need the `OneHotEncoder` function from `preprocessing`. Note that we include the argument `drop = 'first'`. This will remove the first new encoded feature to reduce redundancy and multicollinearity. "
   ]
  },
  {
   "cell_type": "code",
   "execution_count": 34,
   "metadata": {},
   "outputs": [
    {
     "data": {
      "text/plain": [
       "OneHotEncoder(drop='first')"
      ]
     },
     "execution_count": 34,
     "metadata": {},
     "output_type": "execute_result"
    }
   ],
   "source": [
    "from sklearn.preprocessing import OneHotEncoder\n",
    "ohe = OneHotEncoder(drop = 'first')\n",
    "ohe.fit(X[categorical_features])"
   ]
  },
  {
   "cell_type": "markdown",
   "metadata": {},
   "source": [
    "Output is as a sparse matrix by default, so to visualize what it is doing, we can covert to a NumPy array"
   ]
  },
  {
   "cell_type": "code",
   "execution_count": 35,
   "metadata": {},
   "outputs": [
    {
     "data": {
      "text/plain": [
       "array([[0., 0., 0., ..., 0., 0., 0.],\n",
       "       [0., 0., 0., ..., 0., 0., 0.],\n",
       "       [0., 1., 0., ..., 0., 0., 0.],\n",
       "       ...,\n",
       "       [0., 1., 0., ..., 0., 1., 0.],\n",
       "       [0., 0., 0., ..., 0., 0., 0.],\n",
       "       [0., 1., 0., ..., 0., 0., 0.]])"
      ]
     },
     "execution_count": 35,
     "metadata": {},
     "output_type": "execute_result"
    }
   ],
   "source": [
    "X_cat = ohe.transform(X[categorical_features]).toarray()\n",
    "X_cat"
   ]
  },
  {
   "cell_type": "markdown",
   "metadata": {},
   "source": [
    "Now we have the two operations for the categorical features, we can combine them into a pipeline. The function you need is, amazingly, called `Pipeline()`. This requires the argument `steps`, which is a list of all the individual operators. We'll include the two that we have already defined, but note that you could define these directly in the pipeline if needed. "
   ]
  },
  {
   "cell_type": "code",
   "execution_count": 36,
   "metadata": {},
   "outputs": [],
   "source": [
    "from sklearn.pipeline import Pipeline\n",
    "categorical_transformer = Pipeline(steps=[\n",
    "    ('imputer', imp_cat),\n",
    "    ('encoder', ohe)])"
   ]
  },
  {
   "cell_type": "markdown",
   "metadata": {},
   "source": [
    "We can visualize the pipeline by importing `set_config`, and changing the display type. You can now just type the name of the pipeline to see the following diagram:"
   ]
  },
  {
   "cell_type": "code",
   "execution_count": 37,
   "metadata": {},
   "outputs": [
    {
     "data": {
      "text/html": [
       "<style>div.sk-top-container {color: black;background-color: white;}div.sk-toggleable {background-color: white;}label.sk-toggleable__label {cursor: pointer;display: block;width: 100%;margin-bottom: 0;padding: 0.2em 0.3em;box-sizing: border-box;text-align: center;}div.sk-toggleable__content {max-height: 0;max-width: 0;overflow: hidden;text-align: left;background-color: #f0f8ff;}div.sk-toggleable__content pre {margin: 0.2em;color: black;border-radius: 0.25em;background-color: #f0f8ff;}input.sk-toggleable__control:checked~div.sk-toggleable__content {max-height: 200px;max-width: 100%;overflow: auto;}div.sk-estimator input.sk-toggleable__control:checked~label.sk-toggleable__label {background-color: #d4ebff;}div.sk-label input.sk-toggleable__control:checked~label.sk-toggleable__label {background-color: #d4ebff;}input.sk-hidden--visually {border: 0;clip: rect(1px 1px 1px 1px);clip: rect(1px, 1px, 1px, 1px);height: 1px;margin: -1px;overflow: hidden;padding: 0;position: absolute;width: 1px;}div.sk-estimator {font-family: monospace;background-color: #f0f8ff;margin: 0.25em 0.25em;border: 1px dotted black;border-radius: 0.25em;box-sizing: border-box;}div.sk-estimator:hover {background-color: #d4ebff;}div.sk-parallel-item::after {content: \"\";width: 100%;border-bottom: 1px solid gray;flex-grow: 1;}div.sk-label:hover label.sk-toggleable__label {background-color: #d4ebff;}div.sk-serial::before {content: \"\";position: absolute;border-left: 1px solid gray;box-sizing: border-box;top: 2em;bottom: 0;left: 50%;}div.sk-serial {display: flex;flex-direction: column;align-items: center;background-color: white;}div.sk-item {z-index: 1;}div.sk-parallel {display: flex;align-items: stretch;justify-content: center;background-color: white;}div.sk-parallel-item {display: flex;flex-direction: column;position: relative;background-color: white;}div.sk-parallel-item:first-child::after {align-self: flex-end;width: 50%;}div.sk-parallel-item:last-child::after {align-self: flex-start;width: 50%;}div.sk-parallel-item:only-child::after {width: 0;}div.sk-dashed-wrapped {border: 1px dashed gray;margin: 0.2em;box-sizing: border-box;padding-bottom: 0.1em;background-color: white;position: relative;}div.sk-label label {font-family: monospace;font-weight: bold;background-color: white;display: inline-block;line-height: 1.2em;}div.sk-label-container {position: relative;z-index: 2;text-align: center;}div.sk-container {display: inline-block;position: relative;}</style><div class=\"sk-top-container\"><div class=\"sk-container\"><div class=\"sk-item sk-dashed-wrapped\"><div class=\"sk-label-container\"><div class=\"sk-label sk-toggleable\"><input class=\"sk-toggleable__control sk-hidden--visually\" id=\"c7ea7ceb-5618-402a-aff1-adda68f8fec7\" type=\"checkbox\" ><label class=\"sk-toggleable__label\" for=\"c7ea7ceb-5618-402a-aff1-adda68f8fec7\">Pipeline</label><div class=\"sk-toggleable__content\"><pre>Pipeline(steps=[('imputer', SimpleImputer(strategy='most_frequent')),\n",
       "                ('encoder', OneHotEncoder(drop='first'))])</pre></div></div></div><div class=\"sk-serial\"><div class=\"sk-item\"><div class=\"sk-estimator sk-toggleable\"><input class=\"sk-toggleable__control sk-hidden--visually\" id=\"3f3c345a-5793-4a96-b8ad-7ed3aac12cb2\" type=\"checkbox\" ><label class=\"sk-toggleable__label\" for=\"3f3c345a-5793-4a96-b8ad-7ed3aac12cb2\">SimpleImputer</label><div class=\"sk-toggleable__content\"><pre>SimpleImputer(strategy='most_frequent')</pre></div></div></div><div class=\"sk-item\"><div class=\"sk-estimator sk-toggleable\"><input class=\"sk-toggleable__control sk-hidden--visually\" id=\"26b9c60f-397b-411b-85b5-b469b48e560d\" type=\"checkbox\" ><label class=\"sk-toggleable__label\" for=\"26b9c60f-397b-411b-85b5-b469b48e560d\">OneHotEncoder</label><div class=\"sk-toggleable__content\"><pre>OneHotEncoder(drop='first')</pre></div></div></div></div></div></div></div>"
      ],
      "text/plain": [
       "Pipeline(steps=[('imputer', SimpleImputer(strategy='most_frequent')),\n",
       "                ('encoder', OneHotEncoder(drop='first'))])"
      ]
     },
     "execution_count": 37,
     "metadata": {},
     "output_type": "execute_result"
    }
   ],
   "source": [
    "from sklearn import set_config\n",
    "set_config(display='diagram')\n",
    "categorical_transformer"
   ]
  },
  {
   "cell_type": "markdown",
   "metadata": {},
   "source": [
    "Now let's do the same thing for the numerical variables. We'll start by imputing the median value. This again uses the `SimpleImputer` but with a different strategy:"
   ]
  },
  {
   "cell_type": "code",
   "execution_count": 38,
   "metadata": {},
   "outputs": [
    {
     "name": "stdout",
     "output_type": "stream",
     "text": [
      "[[   9.   60.   30. ...    0.  800.  846.]\n",
      " [  17.   60.   58. ...    0. 1000. 1658.]\n",
      " [  10.   36.   46. ...    0. 2000. 2985.]\n",
      " ...\n",
      " [   0.   24.   37. ...    0.  500.  963.]\n",
      " [   0.   48.   23. ...    0.  550.  550.]\n",
      " [   5.   60.   32. ... 1000. 1350. 1650.]]\n"
     ]
    }
   ],
   "source": [
    "from sklearn.impute import SimpleImputer\n",
    "imp_num = SimpleImputer(missing_values=np.nan, strategy='median')\n",
    "print(imp_num.fit_transform(X[numerical_features]))"
   ]
  },
  {
   "cell_type": "markdown",
   "metadata": {},
   "source": [
    "Quick check to see that all the NaNs have been removed:"
   ]
  },
  {
   "cell_type": "code",
   "execution_count": 39,
   "metadata": {},
   "outputs": [
    {
     "data": {
      "text/plain": [
       "Seniority    False\n",
       "Time         False\n",
       "Age          False\n",
       "Expenses     False\n",
       "Income       False\n",
       "Assets       False\n",
       "Debt         False\n",
       "Amount       False\n",
       "Price        False\n",
       "dtype: bool"
      ]
     },
     "execution_count": 39,
     "metadata": {},
     "output_type": "execute_result"
    }
   ],
   "source": [
    "X_impute_df = pd.DataFrame(imp_num.fit_transform(X[numerical_features]), \n",
    "                           columns = numerical_features)\n",
    "X_impute_df.isna().any()"
   ]
  },
  {
   "cell_type": "markdown",
   "metadata": {},
   "source": [
    "Next, we'll rescale the numerical values to a 0-1 range using `MinMaxScaler`. The default range is 0-1, but this can be adjusted if you want a different range. "
   ]
  },
  {
   "cell_type": "code",
   "execution_count": 40,
   "metadata": {},
   "outputs": [
    {
     "data": {
      "text/html": [
       "<div>\n",
       "<style scoped>\n",
       "    .dataframe tbody tr th:only-of-type {\n",
       "        vertical-align: middle;\n",
       "    }\n",
       "\n",
       "    .dataframe tbody tr th {\n",
       "        vertical-align: top;\n",
       "    }\n",
       "\n",
       "    .dataframe thead th {\n",
       "        text-align: right;\n",
       "    }\n",
       "</style>\n",
       "<table border=\"1\" class=\"dataframe\">\n",
       "  <thead>\n",
       "    <tr style=\"text-align: right;\">\n",
       "      <th></th>\n",
       "      <th>Seniority</th>\n",
       "      <th>Time</th>\n",
       "      <th>Age</th>\n",
       "      <th>Expenses</th>\n",
       "      <th>Income</th>\n",
       "      <th>Assets</th>\n",
       "      <th>Debt</th>\n",
       "      <th>Amount</th>\n",
       "      <th>Price</th>\n",
       "    </tr>\n",
       "  </thead>\n",
       "  <tbody>\n",
       "    <tr>\n",
       "      <th>count</th>\n",
       "      <td>4454.000000</td>\n",
       "      <td>4454.000000</td>\n",
       "      <td>4454.000000</td>\n",
       "      <td>4454.000000</td>\n",
       "      <td>4073.000000</td>\n",
       "      <td>4407.000000</td>\n",
       "      <td>4436.000000</td>\n",
       "      <td>4454.000000</td>\n",
       "      <td>4454.000000</td>\n",
       "    </tr>\n",
       "    <tr>\n",
       "      <th>mean</th>\n",
       "      <td>0.166391</td>\n",
       "      <td>0.612708</td>\n",
       "      <td>0.381608</td>\n",
       "      <td>0.141886</td>\n",
       "      <td>0.142380</td>\n",
       "      <td>0.018013</td>\n",
       "      <td>0.011434</td>\n",
       "      <td>0.191616</td>\n",
       "      <td>0.123043</td>\n",
       "    </tr>\n",
       "    <tr>\n",
       "      <th>std</th>\n",
       "      <td>0.170298</td>\n",
       "      <td>0.222052</td>\n",
       "      <td>0.219692</td>\n",
       "      <td>0.134591</td>\n",
       "      <td>0.084731</td>\n",
       "      <td>0.038581</td>\n",
       "      <td>0.041533</td>\n",
       "      <td>0.096846</td>\n",
       "      <td>0.056921</td>\n",
       "    </tr>\n",
       "    <tr>\n",
       "      <th>min</th>\n",
       "      <td>0.000000</td>\n",
       "      <td>0.000000</td>\n",
       "      <td>0.000000</td>\n",
       "      <td>0.000000</td>\n",
       "      <td>0.000000</td>\n",
       "      <td>0.000000</td>\n",
       "      <td>0.000000</td>\n",
       "      <td>0.000000</td>\n",
       "      <td>0.000000</td>\n",
       "    </tr>\n",
       "    <tr>\n",
       "      <th>25%</th>\n",
       "      <td>0.041667</td>\n",
       "      <td>0.454545</td>\n",
       "      <td>0.200000</td>\n",
       "      <td>0.000000</td>\n",
       "      <td>0.088143</td>\n",
       "      <td>0.000000</td>\n",
       "      <td>0.000000</td>\n",
       "      <td>0.122449</td>\n",
       "      <td>0.091731</td>\n",
       "    </tr>\n",
       "    <tr>\n",
       "      <th>50%</th>\n",
       "      <td>0.104167</td>\n",
       "      <td>0.636364</td>\n",
       "      <td>0.360000</td>\n",
       "      <td>0.110345</td>\n",
       "      <td>0.124869</td>\n",
       "      <td>0.010000</td>\n",
       "      <td>0.000000</td>\n",
       "      <td>0.183673</td>\n",
       "      <td>0.117354</td>\n",
       "    </tr>\n",
       "    <tr>\n",
       "      <th>75%</th>\n",
       "      <td>0.250000</td>\n",
       "      <td>0.818182</td>\n",
       "      <td>0.540000</td>\n",
       "      <td>0.255172</td>\n",
       "      <td>0.172088</td>\n",
       "      <td>0.020000</td>\n",
       "      <td>0.000000</td>\n",
       "      <td>0.244898</td>\n",
       "      <td>0.143770</td>\n",
       "    </tr>\n",
       "    <tr>\n",
       "      <th>max</th>\n",
       "      <td>1.000000</td>\n",
       "      <td>1.000000</td>\n",
       "      <td>1.000000</td>\n",
       "      <td>1.000000</td>\n",
       "      <td>1.000000</td>\n",
       "      <td>1.000000</td>\n",
       "      <td>1.000000</td>\n",
       "      <td>1.000000</td>\n",
       "      <td>1.000000</td>\n",
       "    </tr>\n",
       "  </tbody>\n",
       "</table>\n",
       "</div>"
      ],
      "text/plain": [
       "         Seniority         Time          Age     Expenses       Income  \\\n",
       "count  4454.000000  4454.000000  4454.000000  4454.000000  4073.000000   \n",
       "mean      0.166391     0.612708     0.381608     0.141886     0.142380   \n",
       "std       0.170298     0.222052     0.219692     0.134591     0.084731   \n",
       "min       0.000000     0.000000     0.000000     0.000000     0.000000   \n",
       "25%       0.041667     0.454545     0.200000     0.000000     0.088143   \n",
       "50%       0.104167     0.636364     0.360000     0.110345     0.124869   \n",
       "75%       0.250000     0.818182     0.540000     0.255172     0.172088   \n",
       "max       1.000000     1.000000     1.000000     1.000000     1.000000   \n",
       "\n",
       "            Assets         Debt       Amount        Price  \n",
       "count  4407.000000  4436.000000  4454.000000  4454.000000  \n",
       "mean      0.018013     0.011434     0.191616     0.123043  \n",
       "std       0.038581     0.041533     0.096846     0.056921  \n",
       "min       0.000000     0.000000     0.000000     0.000000  \n",
       "25%       0.000000     0.000000     0.122449     0.091731  \n",
       "50%       0.010000     0.000000     0.183673     0.117354  \n",
       "75%       0.020000     0.000000     0.244898     0.143770  \n",
       "max       1.000000     1.000000     1.000000     1.000000  "
      ]
     },
     "execution_count": 40,
     "metadata": {},
     "output_type": "execute_result"
    }
   ],
   "source": [
    "from sklearn.preprocessing import MinMaxScaler\n",
    "scale = MinMaxScaler()\n",
    "X_scale_df = pd.DataFrame(scale.fit_transform(X[numerical_features]), \n",
    "                           columns = numerical_features)\n",
    "X_scale_df.describe()"
   ]
  },
  {
   "cell_type": "markdown",
   "metadata": {},
   "source": [
    "And we can now arrange these two operations in a pipeline for the numerical features. "
   ]
  },
  {
   "cell_type": "code",
   "execution_count": 41,
   "metadata": {},
   "outputs": [
    {
     "data": {
      "text/html": [
       "<style>div.sk-top-container {color: black;background-color: white;}div.sk-toggleable {background-color: white;}label.sk-toggleable__label {cursor: pointer;display: block;width: 100%;margin-bottom: 0;padding: 0.2em 0.3em;box-sizing: border-box;text-align: center;}div.sk-toggleable__content {max-height: 0;max-width: 0;overflow: hidden;text-align: left;background-color: #f0f8ff;}div.sk-toggleable__content pre {margin: 0.2em;color: black;border-radius: 0.25em;background-color: #f0f8ff;}input.sk-toggleable__control:checked~div.sk-toggleable__content {max-height: 200px;max-width: 100%;overflow: auto;}div.sk-estimator input.sk-toggleable__control:checked~label.sk-toggleable__label {background-color: #d4ebff;}div.sk-label input.sk-toggleable__control:checked~label.sk-toggleable__label {background-color: #d4ebff;}input.sk-hidden--visually {border: 0;clip: rect(1px 1px 1px 1px);clip: rect(1px, 1px, 1px, 1px);height: 1px;margin: -1px;overflow: hidden;padding: 0;position: absolute;width: 1px;}div.sk-estimator {font-family: monospace;background-color: #f0f8ff;margin: 0.25em 0.25em;border: 1px dotted black;border-radius: 0.25em;box-sizing: border-box;}div.sk-estimator:hover {background-color: #d4ebff;}div.sk-parallel-item::after {content: \"\";width: 100%;border-bottom: 1px solid gray;flex-grow: 1;}div.sk-label:hover label.sk-toggleable__label {background-color: #d4ebff;}div.sk-serial::before {content: \"\";position: absolute;border-left: 1px solid gray;box-sizing: border-box;top: 2em;bottom: 0;left: 50%;}div.sk-serial {display: flex;flex-direction: column;align-items: center;background-color: white;}div.sk-item {z-index: 1;}div.sk-parallel {display: flex;align-items: stretch;justify-content: center;background-color: white;}div.sk-parallel-item {display: flex;flex-direction: column;position: relative;background-color: white;}div.sk-parallel-item:first-child::after {align-self: flex-end;width: 50%;}div.sk-parallel-item:last-child::after {align-self: flex-start;width: 50%;}div.sk-parallel-item:only-child::after {width: 0;}div.sk-dashed-wrapped {border: 1px dashed gray;margin: 0.2em;box-sizing: border-box;padding-bottom: 0.1em;background-color: white;position: relative;}div.sk-label label {font-family: monospace;font-weight: bold;background-color: white;display: inline-block;line-height: 1.2em;}div.sk-label-container {position: relative;z-index: 2;text-align: center;}div.sk-container {display: inline-block;position: relative;}</style><div class=\"sk-top-container\"><div class=\"sk-container\"><div class=\"sk-item sk-dashed-wrapped\"><div class=\"sk-label-container\"><div class=\"sk-label sk-toggleable\"><input class=\"sk-toggleable__control sk-hidden--visually\" id=\"d365cc2b-be0d-4c6c-986c-2128fd269db9\" type=\"checkbox\" ><label class=\"sk-toggleable__label\" for=\"d365cc2b-be0d-4c6c-986c-2128fd269db9\">Pipeline</label><div class=\"sk-toggleable__content\"><pre>Pipeline(steps=[('imputer', SimpleImputer(strategy='median')),\n",
       "                ('scaler', MinMaxScaler())])</pre></div></div></div><div class=\"sk-serial\"><div class=\"sk-item\"><div class=\"sk-estimator sk-toggleable\"><input class=\"sk-toggleable__control sk-hidden--visually\" id=\"c5544c4a-1f9b-4228-a020-2541504e2167\" type=\"checkbox\" ><label class=\"sk-toggleable__label\" for=\"c5544c4a-1f9b-4228-a020-2541504e2167\">SimpleImputer</label><div class=\"sk-toggleable__content\"><pre>SimpleImputer(strategy='median')</pre></div></div></div><div class=\"sk-item\"><div class=\"sk-estimator sk-toggleable\"><input class=\"sk-toggleable__control sk-hidden--visually\" id=\"067487e1-e709-42e1-9945-3443bbfccdaa\" type=\"checkbox\" ><label class=\"sk-toggleable__label\" for=\"067487e1-e709-42e1-9945-3443bbfccdaa\">MinMaxScaler</label><div class=\"sk-toggleable__content\"><pre>MinMaxScaler()</pre></div></div></div></div></div></div></div>"
      ],
      "text/plain": [
       "Pipeline(steps=[('imputer', SimpleImputer(strategy='median')),\n",
       "                ('scaler', MinMaxScaler())])"
      ]
     },
     "execution_count": 41,
     "metadata": {},
     "output_type": "execute_result"
    }
   ],
   "source": [
    "numerical_transformer = Pipeline(steps=[\n",
    "    ('imputer', imp_num),\n",
    "    ('scaler', scale)])\n",
    "numerical_transformer"
   ]
  },
  {
   "cell_type": "markdown",
   "metadata": {},
   "source": [
    "Now we want to stick all of this together to process the entire dataset using a `ColumnTransformer` function, which includes the two pipelines. Note that each one had an ID in the first argument (e.g. `'num'`) - this will be important in identifying hyperparameters for tuning later on. "
   ]
  },
  {
   "cell_type": "code",
   "execution_count": 42,
   "metadata": {},
   "outputs": [
    {
     "data": {
      "text/html": [
       "<style>div.sk-top-container {color: black;background-color: white;}div.sk-toggleable {background-color: white;}label.sk-toggleable__label {cursor: pointer;display: block;width: 100%;margin-bottom: 0;padding: 0.2em 0.3em;box-sizing: border-box;text-align: center;}div.sk-toggleable__content {max-height: 0;max-width: 0;overflow: hidden;text-align: left;background-color: #f0f8ff;}div.sk-toggleable__content pre {margin: 0.2em;color: black;border-radius: 0.25em;background-color: #f0f8ff;}input.sk-toggleable__control:checked~div.sk-toggleable__content {max-height: 200px;max-width: 100%;overflow: auto;}div.sk-estimator input.sk-toggleable__control:checked~label.sk-toggleable__label {background-color: #d4ebff;}div.sk-label input.sk-toggleable__control:checked~label.sk-toggleable__label {background-color: #d4ebff;}input.sk-hidden--visually {border: 0;clip: rect(1px 1px 1px 1px);clip: rect(1px, 1px, 1px, 1px);height: 1px;margin: -1px;overflow: hidden;padding: 0;position: absolute;width: 1px;}div.sk-estimator {font-family: monospace;background-color: #f0f8ff;margin: 0.25em 0.25em;border: 1px dotted black;border-radius: 0.25em;box-sizing: border-box;}div.sk-estimator:hover {background-color: #d4ebff;}div.sk-parallel-item::after {content: \"\";width: 100%;border-bottom: 1px solid gray;flex-grow: 1;}div.sk-label:hover label.sk-toggleable__label {background-color: #d4ebff;}div.sk-serial::before {content: \"\";position: absolute;border-left: 1px solid gray;box-sizing: border-box;top: 2em;bottom: 0;left: 50%;}div.sk-serial {display: flex;flex-direction: column;align-items: center;background-color: white;}div.sk-item {z-index: 1;}div.sk-parallel {display: flex;align-items: stretch;justify-content: center;background-color: white;}div.sk-parallel-item {display: flex;flex-direction: column;position: relative;background-color: white;}div.sk-parallel-item:first-child::after {align-self: flex-end;width: 50%;}div.sk-parallel-item:last-child::after {align-self: flex-start;width: 50%;}div.sk-parallel-item:only-child::after {width: 0;}div.sk-dashed-wrapped {border: 1px dashed gray;margin: 0.2em;box-sizing: border-box;padding-bottom: 0.1em;background-color: white;position: relative;}div.sk-label label {font-family: monospace;font-weight: bold;background-color: white;display: inline-block;line-height: 1.2em;}div.sk-label-container {position: relative;z-index: 2;text-align: center;}div.sk-container {display: inline-block;position: relative;}</style><div class=\"sk-top-container\"><div class=\"sk-container\"><div class=\"sk-item sk-dashed-wrapped\"><div class=\"sk-label-container\"><div class=\"sk-label sk-toggleable\"><input class=\"sk-toggleable__control sk-hidden--visually\" id=\"6af9b607-a25f-4c99-90e8-662b9adf32ba\" type=\"checkbox\" ><label class=\"sk-toggleable__label\" for=\"6af9b607-a25f-4c99-90e8-662b9adf32ba\">ColumnTransformer</label><div class=\"sk-toggleable__content\"><pre>ColumnTransformer(transformers=[('num',\n",
       "                                 Pipeline(steps=[('imputer',\n",
       "                                                  SimpleImputer(strategy='median')),\n",
       "                                                 ('scaler', MinMaxScaler())]),\n",
       "                                 ['Seniority', 'Time', 'Age', 'Expenses',\n",
       "                                  'Income', 'Assets', 'Debt', 'Amount',\n",
       "                                  'Price']),\n",
       "                                ('cat',\n",
       "                                 Pipeline(steps=[('imputer',\n",
       "                                                  SimpleImputer(strategy='most_frequent')),\n",
       "                                                 ('encoder',\n",
       "                                                  OneHotEncoder(drop='first'))]),\n",
       "                                 ['Home', 'Marital', 'Records', 'Job'])])</pre></div></div></div><div class=\"sk-parallel\"><div class=\"sk-parallel-item\"><div class=\"sk-item\"><div class=\"sk-label-container\"><div class=\"sk-label sk-toggleable\"><input class=\"sk-toggleable__control sk-hidden--visually\" id=\"917f4e33-5a59-4666-86bc-8189154981ce\" type=\"checkbox\" ><label class=\"sk-toggleable__label\" for=\"917f4e33-5a59-4666-86bc-8189154981ce\">num</label><div class=\"sk-toggleable__content\"><pre>['Seniority', 'Time', 'Age', 'Expenses', 'Income', 'Assets', 'Debt', 'Amount', 'Price']</pre></div></div></div><div class=\"sk-serial\"><div class=\"sk-item\"><div class=\"sk-serial\"><div class=\"sk-item\"><div class=\"sk-estimator sk-toggleable\"><input class=\"sk-toggleable__control sk-hidden--visually\" id=\"f5585736-fec1-46b7-891f-177597c9c834\" type=\"checkbox\" ><label class=\"sk-toggleable__label\" for=\"f5585736-fec1-46b7-891f-177597c9c834\">SimpleImputer</label><div class=\"sk-toggleable__content\"><pre>SimpleImputer(strategy='median')</pre></div></div></div><div class=\"sk-item\"><div class=\"sk-estimator sk-toggleable\"><input class=\"sk-toggleable__control sk-hidden--visually\" id=\"495b4480-7928-437c-a8ea-efc5cc8e2197\" type=\"checkbox\" ><label class=\"sk-toggleable__label\" for=\"495b4480-7928-437c-a8ea-efc5cc8e2197\">MinMaxScaler</label><div class=\"sk-toggleable__content\"><pre>MinMaxScaler()</pre></div></div></div></div></div></div></div></div><div class=\"sk-parallel-item\"><div class=\"sk-item\"><div class=\"sk-label-container\"><div class=\"sk-label sk-toggleable\"><input class=\"sk-toggleable__control sk-hidden--visually\" id=\"a3775f86-f692-4fcd-9d5c-310773d739ce\" type=\"checkbox\" ><label class=\"sk-toggleable__label\" for=\"a3775f86-f692-4fcd-9d5c-310773d739ce\">cat</label><div class=\"sk-toggleable__content\"><pre>['Home', 'Marital', 'Records', 'Job']</pre></div></div></div><div class=\"sk-serial\"><div class=\"sk-item\"><div class=\"sk-serial\"><div class=\"sk-item\"><div class=\"sk-estimator sk-toggleable\"><input class=\"sk-toggleable__control sk-hidden--visually\" id=\"3402e022-ad8d-4034-bd74-7d623aac0c2f\" type=\"checkbox\" ><label class=\"sk-toggleable__label\" for=\"3402e022-ad8d-4034-bd74-7d623aac0c2f\">SimpleImputer</label><div class=\"sk-toggleable__content\"><pre>SimpleImputer(strategy='most_frequent')</pre></div></div></div><div class=\"sk-item\"><div class=\"sk-estimator sk-toggleable\"><input class=\"sk-toggleable__control sk-hidden--visually\" id=\"3b627f87-a11c-4484-b269-165f6a23dd80\" type=\"checkbox\" ><label class=\"sk-toggleable__label\" for=\"3b627f87-a11c-4484-b269-165f6a23dd80\">OneHotEncoder</label><div class=\"sk-toggleable__content\"><pre>OneHotEncoder(drop='first')</pre></div></div></div></div></div></div></div></div></div></div></div></div>"
      ],
      "text/plain": [
       "ColumnTransformer(transformers=[('num',\n",
       "                                 Pipeline(steps=[('imputer',\n",
       "                                                  SimpleImputer(strategy='median')),\n",
       "                                                 ('scaler', MinMaxScaler())]),\n",
       "                                 ['Seniority', 'Time', 'Age', 'Expenses',\n",
       "                                  'Income', 'Assets', 'Debt', 'Amount',\n",
       "                                  'Price']),\n",
       "                                ('cat',\n",
       "                                 Pipeline(steps=[('imputer',\n",
       "                                                  SimpleImputer(strategy='most_frequent')),\n",
       "                                                 ('encoder',\n",
       "                                                  OneHotEncoder(drop='first'))]),\n",
       "                                 ['Home', 'Marital', 'Records', 'Job'])])"
      ]
     },
     "execution_count": 42,
     "metadata": {},
     "output_type": "execute_result"
    }
   ],
   "source": [
    "from sklearn.compose import ColumnTransformer\n",
    "preprocessor = ColumnTransformer(\n",
    "    transformers=[\n",
    "        ('num', numerical_transformer, numerical_features),\n",
    "        ('cat', categorical_transformer, categorical_features)\n",
    "    ])\n",
    "preprocessor"
   ]
  },
  {
   "cell_type": "markdown",
   "metadata": {},
   "source": [
    "So far, we have a pipeline that transforms the dataset into a format ready for modeling. The next step is to link it to a algorithm, so that we can pass the transformed data directly to it. We'll set up a classification based neural network, with a default hidden layer and a maximum iteration limit of 1000:"
   ]
  },
  {
   "cell_type": "code",
   "execution_count": 43,
   "metadata": {},
   "outputs": [
    {
     "data": {
      "text/html": [
       "<style>div.sk-top-container {color: black;background-color: white;}div.sk-toggleable {background-color: white;}label.sk-toggleable__label {cursor: pointer;display: block;width: 100%;margin-bottom: 0;padding: 0.2em 0.3em;box-sizing: border-box;text-align: center;}div.sk-toggleable__content {max-height: 0;max-width: 0;overflow: hidden;text-align: left;background-color: #f0f8ff;}div.sk-toggleable__content pre {margin: 0.2em;color: black;border-radius: 0.25em;background-color: #f0f8ff;}input.sk-toggleable__control:checked~div.sk-toggleable__content {max-height: 200px;max-width: 100%;overflow: auto;}div.sk-estimator input.sk-toggleable__control:checked~label.sk-toggleable__label {background-color: #d4ebff;}div.sk-label input.sk-toggleable__control:checked~label.sk-toggleable__label {background-color: #d4ebff;}input.sk-hidden--visually {border: 0;clip: rect(1px 1px 1px 1px);clip: rect(1px, 1px, 1px, 1px);height: 1px;margin: -1px;overflow: hidden;padding: 0;position: absolute;width: 1px;}div.sk-estimator {font-family: monospace;background-color: #f0f8ff;margin: 0.25em 0.25em;border: 1px dotted black;border-radius: 0.25em;box-sizing: border-box;}div.sk-estimator:hover {background-color: #d4ebff;}div.sk-parallel-item::after {content: \"\";width: 100%;border-bottom: 1px solid gray;flex-grow: 1;}div.sk-label:hover label.sk-toggleable__label {background-color: #d4ebff;}div.sk-serial::before {content: \"\";position: absolute;border-left: 1px solid gray;box-sizing: border-box;top: 2em;bottom: 0;left: 50%;}div.sk-serial {display: flex;flex-direction: column;align-items: center;background-color: white;}div.sk-item {z-index: 1;}div.sk-parallel {display: flex;align-items: stretch;justify-content: center;background-color: white;}div.sk-parallel-item {display: flex;flex-direction: column;position: relative;background-color: white;}div.sk-parallel-item:first-child::after {align-self: flex-end;width: 50%;}div.sk-parallel-item:last-child::after {align-self: flex-start;width: 50%;}div.sk-parallel-item:only-child::after {width: 0;}div.sk-dashed-wrapped {border: 1px dashed gray;margin: 0.2em;box-sizing: border-box;padding-bottom: 0.1em;background-color: white;position: relative;}div.sk-label label {font-family: monospace;font-weight: bold;background-color: white;display: inline-block;line-height: 1.2em;}div.sk-label-container {position: relative;z-index: 2;text-align: center;}div.sk-container {display: inline-block;position: relative;}</style><div class=\"sk-top-container\"><div class=\"sk-container\"><div class=\"sk-item sk-dashed-wrapped\"><div class=\"sk-label-container\"><div class=\"sk-label sk-toggleable\"><input class=\"sk-toggleable__control sk-hidden--visually\" id=\"9d0ef9db-54d5-4438-8edb-5539ea404f07\" type=\"checkbox\" ><label class=\"sk-toggleable__label\" for=\"9d0ef9db-54d5-4438-8edb-5539ea404f07\">Pipeline</label><div class=\"sk-toggleable__content\"><pre>Pipeline(steps=[('preprocessor',\n",
       "                 ColumnTransformer(transformers=[('num',\n",
       "                                                  Pipeline(steps=[('imputer',\n",
       "                                                                   SimpleImputer(strategy='median')),\n",
       "                                                                  ('scaler',\n",
       "                                                                   MinMaxScaler())]),\n",
       "                                                  ['Seniority', 'Time', 'Age',\n",
       "                                                   'Expenses', 'Income',\n",
       "                                                   'Assets', 'Debt', 'Amount',\n",
       "                                                   'Price']),\n",
       "                                                 ('cat',\n",
       "                                                  Pipeline(steps=[('imputer',\n",
       "                                                                   SimpleImputer(strategy='most_frequent')),\n",
       "                                                                  ('encoder',\n",
       "                                                                   OneHotEncoder(drop='first'))]),\n",
       "                                                  ['Home', 'Marital', 'Records',\n",
       "                                                   'Job'])])),\n",
       "                ('classifier', MLPClassifier(max_iter=1000))])</pre></div></div></div><div class=\"sk-serial\"><div class=\"sk-item sk-dashed-wrapped\"><div class=\"sk-label-container\"><div class=\"sk-label sk-toggleable\"><input class=\"sk-toggleable__control sk-hidden--visually\" id=\"c9a6d049-c8ae-4e1e-8c20-9cc9c6d1b8e0\" type=\"checkbox\" ><label class=\"sk-toggleable__label\" for=\"c9a6d049-c8ae-4e1e-8c20-9cc9c6d1b8e0\">preprocessor: ColumnTransformer</label><div class=\"sk-toggleable__content\"><pre>ColumnTransformer(transformers=[('num',\n",
       "                                 Pipeline(steps=[('imputer',\n",
       "                                                  SimpleImputer(strategy='median')),\n",
       "                                                 ('scaler', MinMaxScaler())]),\n",
       "                                 ['Seniority', 'Time', 'Age', 'Expenses',\n",
       "                                  'Income', 'Assets', 'Debt', 'Amount',\n",
       "                                  'Price']),\n",
       "                                ('cat',\n",
       "                                 Pipeline(steps=[('imputer',\n",
       "                                                  SimpleImputer(strategy='most_frequent')),\n",
       "                                                 ('encoder',\n",
       "                                                  OneHotEncoder(drop='first'))]),\n",
       "                                 ['Home', 'Marital', 'Records', 'Job'])])</pre></div></div></div><div class=\"sk-parallel\"><div class=\"sk-parallel-item\"><div class=\"sk-item\"><div class=\"sk-label-container\"><div class=\"sk-label sk-toggleable\"><input class=\"sk-toggleable__control sk-hidden--visually\" id=\"9fa30b1f-4525-4ef2-a87f-e59aae933bda\" type=\"checkbox\" ><label class=\"sk-toggleable__label\" for=\"9fa30b1f-4525-4ef2-a87f-e59aae933bda\">num</label><div class=\"sk-toggleable__content\"><pre>['Seniority', 'Time', 'Age', 'Expenses', 'Income', 'Assets', 'Debt', 'Amount', 'Price']</pre></div></div></div><div class=\"sk-serial\"><div class=\"sk-item\"><div class=\"sk-serial\"><div class=\"sk-item\"><div class=\"sk-estimator sk-toggleable\"><input class=\"sk-toggleable__control sk-hidden--visually\" id=\"7f4a1f56-c0e9-422f-92cb-0fb93ed01b05\" type=\"checkbox\" ><label class=\"sk-toggleable__label\" for=\"7f4a1f56-c0e9-422f-92cb-0fb93ed01b05\">SimpleImputer</label><div class=\"sk-toggleable__content\"><pre>SimpleImputer(strategy='median')</pre></div></div></div><div class=\"sk-item\"><div class=\"sk-estimator sk-toggleable\"><input class=\"sk-toggleable__control sk-hidden--visually\" id=\"8f450cae-d20f-4cdf-95a2-dfb185259ae3\" type=\"checkbox\" ><label class=\"sk-toggleable__label\" for=\"8f450cae-d20f-4cdf-95a2-dfb185259ae3\">MinMaxScaler</label><div class=\"sk-toggleable__content\"><pre>MinMaxScaler()</pre></div></div></div></div></div></div></div></div><div class=\"sk-parallel-item\"><div class=\"sk-item\"><div class=\"sk-label-container\"><div class=\"sk-label sk-toggleable\"><input class=\"sk-toggleable__control sk-hidden--visually\" id=\"9964be43-031b-4530-9328-0a87cc679afd\" type=\"checkbox\" ><label class=\"sk-toggleable__label\" for=\"9964be43-031b-4530-9328-0a87cc679afd\">cat</label><div class=\"sk-toggleable__content\"><pre>['Home', 'Marital', 'Records', 'Job']</pre></div></div></div><div class=\"sk-serial\"><div class=\"sk-item\"><div class=\"sk-serial\"><div class=\"sk-item\"><div class=\"sk-estimator sk-toggleable\"><input class=\"sk-toggleable__control sk-hidden--visually\" id=\"de7dad0f-56f6-49ee-9901-3676c40cbc35\" type=\"checkbox\" ><label class=\"sk-toggleable__label\" for=\"de7dad0f-56f6-49ee-9901-3676c40cbc35\">SimpleImputer</label><div class=\"sk-toggleable__content\"><pre>SimpleImputer(strategy='most_frequent')</pre></div></div></div><div class=\"sk-item\"><div class=\"sk-estimator sk-toggleable\"><input class=\"sk-toggleable__control sk-hidden--visually\" id=\"7d4e41cb-6528-46c8-a076-6f1a17bf567c\" type=\"checkbox\" ><label class=\"sk-toggleable__label\" for=\"7d4e41cb-6528-46c8-a076-6f1a17bf567c\">OneHotEncoder</label><div class=\"sk-toggleable__content\"><pre>OneHotEncoder(drop='first')</pre></div></div></div></div></div></div></div></div></div></div><div class=\"sk-item\"><div class=\"sk-estimator sk-toggleable\"><input class=\"sk-toggleable__control sk-hidden--visually\" id=\"a0c220bc-bfde-4a00-aba8-c7a0a7f2ce01\" type=\"checkbox\" ><label class=\"sk-toggleable__label\" for=\"a0c220bc-bfde-4a00-aba8-c7a0a7f2ce01\">MLPClassifier</label><div class=\"sk-toggleable__content\"><pre>MLPClassifier(max_iter=1000)</pre></div></div></div></div></div></div></div>"
      ],
      "text/plain": [
       "Pipeline(steps=[('preprocessor',\n",
       "                 ColumnTransformer(transformers=[('num',\n",
       "                                                  Pipeline(steps=[('imputer',\n",
       "                                                                   SimpleImputer(strategy='median')),\n",
       "                                                                  ('scaler',\n",
       "                                                                   MinMaxScaler())]),\n",
       "                                                  ['Seniority', 'Time', 'Age',\n",
       "                                                   'Expenses', 'Income',\n",
       "                                                   'Assets', 'Debt', 'Amount',\n",
       "                                                   'Price']),\n",
       "                                                 ('cat',\n",
       "                                                  Pipeline(steps=[('imputer',\n",
       "                                                                   SimpleImputer(strategy='most_frequent')),\n",
       "                                                                  ('encoder',\n",
       "                                                                   OneHotEncoder(drop='first'))]),\n",
       "                                                  ['Home', 'Marital', 'Records',\n",
       "                                                   'Job'])])),\n",
       "                ('classifier', MLPClassifier(max_iter=1000))])"
      ]
     },
     "execution_count": 43,
     "metadata": {},
     "output_type": "execute_result"
    }
   ],
   "source": [
    "from sklearn.neural_network import MLPClassifier\n",
    "nn_credit = Pipeline(steps=[('preprocessor', preprocessor),\n",
    "                            ('classifier', MLPClassifier(max_iter = 1000))])\n",
    "nn_credit"
   ]
  },
  {
   "cell_type": "markdown",
   "metadata": {},
   "source": [
    "If we now fit this new object (`nn_credit`) to our holdout training set, this processes the data, fills in missing values, encodes and scales *and* fits the neural network. "
   ]
  },
  {
   "cell_type": "code",
   "execution_count": 44,
   "metadata": {},
   "outputs": [
    {
     "data": {
      "text/html": [
       "<style>div.sk-top-container {color: black;background-color: white;}div.sk-toggleable {background-color: white;}label.sk-toggleable__label {cursor: pointer;display: block;width: 100%;margin-bottom: 0;padding: 0.2em 0.3em;box-sizing: border-box;text-align: center;}div.sk-toggleable__content {max-height: 0;max-width: 0;overflow: hidden;text-align: left;background-color: #f0f8ff;}div.sk-toggleable__content pre {margin: 0.2em;color: black;border-radius: 0.25em;background-color: #f0f8ff;}input.sk-toggleable__control:checked~div.sk-toggleable__content {max-height: 200px;max-width: 100%;overflow: auto;}div.sk-estimator input.sk-toggleable__control:checked~label.sk-toggleable__label {background-color: #d4ebff;}div.sk-label input.sk-toggleable__control:checked~label.sk-toggleable__label {background-color: #d4ebff;}input.sk-hidden--visually {border: 0;clip: rect(1px 1px 1px 1px);clip: rect(1px, 1px, 1px, 1px);height: 1px;margin: -1px;overflow: hidden;padding: 0;position: absolute;width: 1px;}div.sk-estimator {font-family: monospace;background-color: #f0f8ff;margin: 0.25em 0.25em;border: 1px dotted black;border-radius: 0.25em;box-sizing: border-box;}div.sk-estimator:hover {background-color: #d4ebff;}div.sk-parallel-item::after {content: \"\";width: 100%;border-bottom: 1px solid gray;flex-grow: 1;}div.sk-label:hover label.sk-toggleable__label {background-color: #d4ebff;}div.sk-serial::before {content: \"\";position: absolute;border-left: 1px solid gray;box-sizing: border-box;top: 2em;bottom: 0;left: 50%;}div.sk-serial {display: flex;flex-direction: column;align-items: center;background-color: white;}div.sk-item {z-index: 1;}div.sk-parallel {display: flex;align-items: stretch;justify-content: center;background-color: white;}div.sk-parallel-item {display: flex;flex-direction: column;position: relative;background-color: white;}div.sk-parallel-item:first-child::after {align-self: flex-end;width: 50%;}div.sk-parallel-item:last-child::after {align-self: flex-start;width: 50%;}div.sk-parallel-item:only-child::after {width: 0;}div.sk-dashed-wrapped {border: 1px dashed gray;margin: 0.2em;box-sizing: border-box;padding-bottom: 0.1em;background-color: white;position: relative;}div.sk-label label {font-family: monospace;font-weight: bold;background-color: white;display: inline-block;line-height: 1.2em;}div.sk-label-container {position: relative;z-index: 2;text-align: center;}div.sk-container {display: inline-block;position: relative;}</style><div class=\"sk-top-container\"><div class=\"sk-container\"><div class=\"sk-item sk-dashed-wrapped\"><div class=\"sk-label-container\"><div class=\"sk-label sk-toggleable\"><input class=\"sk-toggleable__control sk-hidden--visually\" id=\"cadc4ed5-3290-4b91-abeb-b95e84613af3\" type=\"checkbox\" ><label class=\"sk-toggleable__label\" for=\"cadc4ed5-3290-4b91-abeb-b95e84613af3\">Pipeline</label><div class=\"sk-toggleable__content\"><pre>Pipeline(steps=[('preprocessor',\n",
       "                 ColumnTransformer(transformers=[('num',\n",
       "                                                  Pipeline(steps=[('imputer',\n",
       "                                                                   SimpleImputer(strategy='median')),\n",
       "                                                                  ('scaler',\n",
       "                                                                   MinMaxScaler())]),\n",
       "                                                  ['Seniority', 'Time', 'Age',\n",
       "                                                   'Expenses', 'Income',\n",
       "                                                   'Assets', 'Debt', 'Amount',\n",
       "                                                   'Price']),\n",
       "                                                 ('cat',\n",
       "                                                  Pipeline(steps=[('imputer',\n",
       "                                                                   SimpleImputer(strategy='most_frequent')),\n",
       "                                                                  ('encoder',\n",
       "                                                                   OneHotEncoder(drop='first'))]),\n",
       "                                                  ['Home', 'Marital', 'Records',\n",
       "                                                   'Job'])])),\n",
       "                ('classifier', MLPClassifier(max_iter=1000))])</pre></div></div></div><div class=\"sk-serial\"><div class=\"sk-item sk-dashed-wrapped\"><div class=\"sk-label-container\"><div class=\"sk-label sk-toggleable\"><input class=\"sk-toggleable__control sk-hidden--visually\" id=\"764f8a67-6b06-47f3-995f-9ca83d3140ab\" type=\"checkbox\" ><label class=\"sk-toggleable__label\" for=\"764f8a67-6b06-47f3-995f-9ca83d3140ab\">preprocessor: ColumnTransformer</label><div class=\"sk-toggleable__content\"><pre>ColumnTransformer(transformers=[('num',\n",
       "                                 Pipeline(steps=[('imputer',\n",
       "                                                  SimpleImputer(strategy='median')),\n",
       "                                                 ('scaler', MinMaxScaler())]),\n",
       "                                 ['Seniority', 'Time', 'Age', 'Expenses',\n",
       "                                  'Income', 'Assets', 'Debt', 'Amount',\n",
       "                                  'Price']),\n",
       "                                ('cat',\n",
       "                                 Pipeline(steps=[('imputer',\n",
       "                                                  SimpleImputer(strategy='most_frequent')),\n",
       "                                                 ('encoder',\n",
       "                                                  OneHotEncoder(drop='first'))]),\n",
       "                                 ['Home', 'Marital', 'Records', 'Job'])])</pre></div></div></div><div class=\"sk-parallel\"><div class=\"sk-parallel-item\"><div class=\"sk-item\"><div class=\"sk-label-container\"><div class=\"sk-label sk-toggleable\"><input class=\"sk-toggleable__control sk-hidden--visually\" id=\"97d9ff51-12fe-419c-a9bf-1e9e7c2af35e\" type=\"checkbox\" ><label class=\"sk-toggleable__label\" for=\"97d9ff51-12fe-419c-a9bf-1e9e7c2af35e\">num</label><div class=\"sk-toggleable__content\"><pre>['Seniority', 'Time', 'Age', 'Expenses', 'Income', 'Assets', 'Debt', 'Amount', 'Price']</pre></div></div></div><div class=\"sk-serial\"><div class=\"sk-item\"><div class=\"sk-serial\"><div class=\"sk-item\"><div class=\"sk-estimator sk-toggleable\"><input class=\"sk-toggleable__control sk-hidden--visually\" id=\"6de90ebd-f3fe-49f0-a41c-03bad3d8b10b\" type=\"checkbox\" ><label class=\"sk-toggleable__label\" for=\"6de90ebd-f3fe-49f0-a41c-03bad3d8b10b\">SimpleImputer</label><div class=\"sk-toggleable__content\"><pre>SimpleImputer(strategy='median')</pre></div></div></div><div class=\"sk-item\"><div class=\"sk-estimator sk-toggleable\"><input class=\"sk-toggleable__control sk-hidden--visually\" id=\"c6324b14-a328-48c2-af50-17b3eba77744\" type=\"checkbox\" ><label class=\"sk-toggleable__label\" for=\"c6324b14-a328-48c2-af50-17b3eba77744\">MinMaxScaler</label><div class=\"sk-toggleable__content\"><pre>MinMaxScaler()</pre></div></div></div></div></div></div></div></div><div class=\"sk-parallel-item\"><div class=\"sk-item\"><div class=\"sk-label-container\"><div class=\"sk-label sk-toggleable\"><input class=\"sk-toggleable__control sk-hidden--visually\" id=\"5b56006a-1a33-4cb7-8aa0-68a20923ae01\" type=\"checkbox\" ><label class=\"sk-toggleable__label\" for=\"5b56006a-1a33-4cb7-8aa0-68a20923ae01\">cat</label><div class=\"sk-toggleable__content\"><pre>['Home', 'Marital', 'Records', 'Job']</pre></div></div></div><div class=\"sk-serial\"><div class=\"sk-item\"><div class=\"sk-serial\"><div class=\"sk-item\"><div class=\"sk-estimator sk-toggleable\"><input class=\"sk-toggleable__control sk-hidden--visually\" id=\"6f5d665c-a1b8-438d-a019-a5e1c1dc62d5\" type=\"checkbox\" ><label class=\"sk-toggleable__label\" for=\"6f5d665c-a1b8-438d-a019-a5e1c1dc62d5\">SimpleImputer</label><div class=\"sk-toggleable__content\"><pre>SimpleImputer(strategy='most_frequent')</pre></div></div></div><div class=\"sk-item\"><div class=\"sk-estimator sk-toggleable\"><input class=\"sk-toggleable__control sk-hidden--visually\" id=\"c8b64b77-8b59-4207-a090-f954ed73525e\" type=\"checkbox\" ><label class=\"sk-toggleable__label\" for=\"c8b64b77-8b59-4207-a090-f954ed73525e\">OneHotEncoder</label><div class=\"sk-toggleable__content\"><pre>OneHotEncoder(drop='first')</pre></div></div></div></div></div></div></div></div></div></div><div class=\"sk-item\"><div class=\"sk-estimator sk-toggleable\"><input class=\"sk-toggleable__control sk-hidden--visually\" id=\"7646b6d1-af58-4e20-aa38-3eb71b26efc4\" type=\"checkbox\" ><label class=\"sk-toggleable__label\" for=\"7646b6d1-af58-4e20-aa38-3eb71b26efc4\">MLPClassifier</label><div class=\"sk-toggleable__content\"><pre>MLPClassifier(max_iter=1000)</pre></div></div></div></div></div></div></div>"
      ],
      "text/plain": [
       "Pipeline(steps=[('preprocessor',\n",
       "                 ColumnTransformer(transformers=[('num',\n",
       "                                                  Pipeline(steps=[('imputer',\n",
       "                                                                   SimpleImputer(strategy='median')),\n",
       "                                                                  ('scaler',\n",
       "                                                                   MinMaxScaler())]),\n",
       "                                                  ['Seniority', 'Time', 'Age',\n",
       "                                                   'Expenses', 'Income',\n",
       "                                                   'Assets', 'Debt', 'Amount',\n",
       "                                                   'Price']),\n",
       "                                                 ('cat',\n",
       "                                                  Pipeline(steps=[('imputer',\n",
       "                                                                   SimpleImputer(strategy='most_frequent')),\n",
       "                                                                  ('encoder',\n",
       "                                                                   OneHotEncoder(drop='first'))]),\n",
       "                                                  ['Home', 'Marital', 'Records',\n",
       "                                                   'Job'])])),\n",
       "                ('classifier', MLPClassifier(max_iter=1000))])"
      ]
     },
     "execution_count": 44,
     "metadata": {},
     "output_type": "execute_result"
    }
   ],
   "source": [
    "nn_credit.fit(X_train, y_train)"
   ]
  },
  {
   "cell_type": "markdown",
   "metadata": {},
   "source": [
    "Now we can use the same pipeline to predict for our test set. Note that we don;t need to do anything to this, the pipeline will take care of all the processing steps, and then pass these new data to the trained neural network to make a prediction. We'll get the probabilistic predictions, and calculate the AUC"
   ]
  },
  {
   "cell_type": "code",
   "execution_count": 45,
   "metadata": {},
   "outputs": [
    {
     "data": {
      "text/plain": [
       "0.8033974709979753"
      ]
     },
     "execution_count": 45,
     "metadata": {},
     "output_type": "execute_result"
    }
   ],
   "source": [
    "from sklearn import metrics\n",
    "\n",
    "y_test_pred = nn_credit.predict_proba(X_test)\n",
    "metrics.roc_auc_score(y_test, y_test_pred[:,1])"
   ]
  },
  {
   "cell_type": "markdown",
   "metadata": {},
   "source": [
    "We can use the same pipeline in a cross-validation to get an overall assessment of the model. As this can take some time, I've added the argument `n_jobs=4` to force it to run in parallel on 4 cores. Feel free to adjust this to match what is available on your machine. Setting `n_jobs = -1` will use all available cores. "
   ]
  },
  {
   "cell_type": "code",
   "execution_count": 46,
   "metadata": {},
   "outputs": [
    {
     "name": "stdout",
     "output_type": "stream",
     "text": [
      "0.823\n"
     ]
    }
   ],
   "source": [
    "cv = KFold(n_splits=5)\n",
    "scores = cross_val_score(nn_credit, X, y, cv=cv, \n",
    "                         scoring='roc_auc', n_jobs=4)\n",
    "print(\"%.3f\" % np.mean(scores))"
   ]
  },
  {
   "cell_type": "markdown",
   "metadata": {},
   "source": [
    "Alternatively, we can use our combined pipeline and learner to tune hyperparameters of the learner. We'll try tuning the number of nodes in the hidden layer, the `size` argument to between 2 and 20. To see the full set of available hyperparameters, just use the `get_params()` method. Note that as we are using a pipeline, this returns *all* the parameters, including any for the individual operators in the pipeline:\n"
   ]
  },
  {
   "cell_type": "code",
   "execution_count": 47,
   "metadata": {},
   "outputs": [
    {
     "data": {
      "text/plain": [
       "{'memory': None,\n",
       " 'steps': [('preprocessor',\n",
       "   ColumnTransformer(transformers=[('num',\n",
       "                                    Pipeline(steps=[('imputer',\n",
       "                                                     SimpleImputer(strategy='median')),\n",
       "                                                    ('scaler', MinMaxScaler())]),\n",
       "                                    ['Seniority', 'Time', 'Age', 'Expenses',\n",
       "                                     'Income', 'Assets', 'Debt', 'Amount',\n",
       "                                     'Price']),\n",
       "                                   ('cat',\n",
       "                                    Pipeline(steps=[('imputer',\n",
       "                                                     SimpleImputer(strategy='most_frequent')),\n",
       "                                                    ('encoder',\n",
       "                                                     OneHotEncoder(drop='first'))]),\n",
       "                                    ['Home', 'Marital', 'Records', 'Job'])])),\n",
       "  ('classifier', MLPClassifier(max_iter=1000))],\n",
       " 'verbose': False,\n",
       " 'preprocessor': ColumnTransformer(transformers=[('num',\n",
       "                                  Pipeline(steps=[('imputer',\n",
       "                                                   SimpleImputer(strategy='median')),\n",
       "                                                  ('scaler', MinMaxScaler())]),\n",
       "                                  ['Seniority', 'Time', 'Age', 'Expenses',\n",
       "                                   'Income', 'Assets', 'Debt', 'Amount',\n",
       "                                   'Price']),\n",
       "                                 ('cat',\n",
       "                                  Pipeline(steps=[('imputer',\n",
       "                                                   SimpleImputer(strategy='most_frequent')),\n",
       "                                                  ('encoder',\n",
       "                                                   OneHotEncoder(drop='first'))]),\n",
       "                                  ['Home', 'Marital', 'Records', 'Job'])]),\n",
       " 'classifier': MLPClassifier(max_iter=1000),\n",
       " 'preprocessor__n_jobs': None,\n",
       " 'preprocessor__remainder': 'drop',\n",
       " 'preprocessor__sparse_threshold': 0.3,\n",
       " 'preprocessor__transformer_weights': None,\n",
       " 'preprocessor__transformers': [('num',\n",
       "   Pipeline(steps=[('imputer', SimpleImputer(strategy='median')),\n",
       "                   ('scaler', MinMaxScaler())]),\n",
       "   ['Seniority',\n",
       "    'Time',\n",
       "    'Age',\n",
       "    'Expenses',\n",
       "    'Income',\n",
       "    'Assets',\n",
       "    'Debt',\n",
       "    'Amount',\n",
       "    'Price']),\n",
       "  ('cat',\n",
       "   Pipeline(steps=[('imputer', SimpleImputer(strategy='most_frequent')),\n",
       "                   ('encoder', OneHotEncoder(drop='first'))]),\n",
       "   ['Home', 'Marital', 'Records', 'Job'])],\n",
       " 'preprocessor__verbose': False,\n",
       " 'preprocessor__num': Pipeline(steps=[('imputer', SimpleImputer(strategy='median')),\n",
       "                 ('scaler', MinMaxScaler())]),\n",
       " 'preprocessor__cat': Pipeline(steps=[('imputer', SimpleImputer(strategy='most_frequent')),\n",
       "                 ('encoder', OneHotEncoder(drop='first'))]),\n",
       " 'preprocessor__num__memory': None,\n",
       " 'preprocessor__num__steps': [('imputer', SimpleImputer(strategy='median')),\n",
       "  ('scaler', MinMaxScaler())],\n",
       " 'preprocessor__num__verbose': False,\n",
       " 'preprocessor__num__imputer': SimpleImputer(strategy='median'),\n",
       " 'preprocessor__num__scaler': MinMaxScaler(),\n",
       " 'preprocessor__num__imputer__add_indicator': False,\n",
       " 'preprocessor__num__imputer__copy': True,\n",
       " 'preprocessor__num__imputer__fill_value': None,\n",
       " 'preprocessor__num__imputer__missing_values': nan,\n",
       " 'preprocessor__num__imputer__strategy': 'median',\n",
       " 'preprocessor__num__imputer__verbose': 0,\n",
       " 'preprocessor__num__scaler__clip': False,\n",
       " 'preprocessor__num__scaler__copy': True,\n",
       " 'preprocessor__num__scaler__feature_range': (0, 1),\n",
       " 'preprocessor__cat__memory': None,\n",
       " 'preprocessor__cat__steps': [('imputer',\n",
       "   SimpleImputer(strategy='most_frequent')),\n",
       "  ('encoder', OneHotEncoder(drop='first'))],\n",
       " 'preprocessor__cat__verbose': False,\n",
       " 'preprocessor__cat__imputer': SimpleImputer(strategy='most_frequent'),\n",
       " 'preprocessor__cat__encoder': OneHotEncoder(drop='first'),\n",
       " 'preprocessor__cat__imputer__add_indicator': False,\n",
       " 'preprocessor__cat__imputer__copy': True,\n",
       " 'preprocessor__cat__imputer__fill_value': None,\n",
       " 'preprocessor__cat__imputer__missing_values': nan,\n",
       " 'preprocessor__cat__imputer__strategy': 'most_frequent',\n",
       " 'preprocessor__cat__imputer__verbose': 0,\n",
       " 'preprocessor__cat__encoder__categories': 'auto',\n",
       " 'preprocessor__cat__encoder__drop': 'first',\n",
       " 'preprocessor__cat__encoder__dtype': numpy.float64,\n",
       " 'preprocessor__cat__encoder__handle_unknown': 'error',\n",
       " 'preprocessor__cat__encoder__sparse': True,\n",
       " 'classifier__activation': 'relu',\n",
       " 'classifier__alpha': 0.0001,\n",
       " 'classifier__batch_size': 'auto',\n",
       " 'classifier__beta_1': 0.9,\n",
       " 'classifier__beta_2': 0.999,\n",
       " 'classifier__early_stopping': False,\n",
       " 'classifier__epsilon': 1e-08,\n",
       " 'classifier__hidden_layer_sizes': (100,),\n",
       " 'classifier__learning_rate': 'constant',\n",
       " 'classifier__learning_rate_init': 0.001,\n",
       " 'classifier__max_fun': 15000,\n",
       " 'classifier__max_iter': 1000,\n",
       " 'classifier__momentum': 0.9,\n",
       " 'classifier__n_iter_no_change': 10,\n",
       " 'classifier__nesterovs_momentum': True,\n",
       " 'classifier__power_t': 0.5,\n",
       " 'classifier__random_state': None,\n",
       " 'classifier__shuffle': True,\n",
       " 'classifier__solver': 'adam',\n",
       " 'classifier__tol': 0.0001,\n",
       " 'classifier__validation_fraction': 0.1,\n",
       " 'classifier__verbose': False,\n",
       " 'classifier__warm_start': False}"
      ]
     },
     "execution_count": 47,
     "metadata": {},
     "output_type": "execute_result"
    }
   ],
   "source": [
    "nn_credit.get_params()"
   ]
  },
  {
   "cell_type": "markdown",
   "metadata": {},
   "source": [
    "So there's a lot in there. The hierarchy in the pipeline is shown by a double underscore connecting the different operators. The one we want to tune is the number of nodes in the hidden layer (`classifier__hidden_layer_sizes`). We need to set up a search space for this, then set up `GridSearchCV` to run the tuning. Note that we use the pipeline (`nn_credit`) directly in the grid search. This will then carry out all the necessary operations of imputation and scaling for each iteration of each parameter value"
   ]
  },
  {
   "cell_type": "code",
   "execution_count": 48,
   "metadata": {},
   "outputs": [
    {
     "data": {
      "text/html": [
       "<style>div.sk-top-container {color: black;background-color: white;}div.sk-toggleable {background-color: white;}label.sk-toggleable__label {cursor: pointer;display: block;width: 100%;margin-bottom: 0;padding: 0.2em 0.3em;box-sizing: border-box;text-align: center;}div.sk-toggleable__content {max-height: 0;max-width: 0;overflow: hidden;text-align: left;background-color: #f0f8ff;}div.sk-toggleable__content pre {margin: 0.2em;color: black;border-radius: 0.25em;background-color: #f0f8ff;}input.sk-toggleable__control:checked~div.sk-toggleable__content {max-height: 200px;max-width: 100%;overflow: auto;}div.sk-estimator input.sk-toggleable__control:checked~label.sk-toggleable__label {background-color: #d4ebff;}div.sk-label input.sk-toggleable__control:checked~label.sk-toggleable__label {background-color: #d4ebff;}input.sk-hidden--visually {border: 0;clip: rect(1px 1px 1px 1px);clip: rect(1px, 1px, 1px, 1px);height: 1px;margin: -1px;overflow: hidden;padding: 0;position: absolute;width: 1px;}div.sk-estimator {font-family: monospace;background-color: #f0f8ff;margin: 0.25em 0.25em;border: 1px dotted black;border-radius: 0.25em;box-sizing: border-box;}div.sk-estimator:hover {background-color: #d4ebff;}div.sk-parallel-item::after {content: \"\";width: 100%;border-bottom: 1px solid gray;flex-grow: 1;}div.sk-label:hover label.sk-toggleable__label {background-color: #d4ebff;}div.sk-serial::before {content: \"\";position: absolute;border-left: 1px solid gray;box-sizing: border-box;top: 2em;bottom: 0;left: 50%;}div.sk-serial {display: flex;flex-direction: column;align-items: center;background-color: white;}div.sk-item {z-index: 1;}div.sk-parallel {display: flex;align-items: stretch;justify-content: center;background-color: white;}div.sk-parallel-item {display: flex;flex-direction: column;position: relative;background-color: white;}div.sk-parallel-item:first-child::after {align-self: flex-end;width: 50%;}div.sk-parallel-item:last-child::after {align-self: flex-start;width: 50%;}div.sk-parallel-item:only-child::after {width: 0;}div.sk-dashed-wrapped {border: 1px dashed gray;margin: 0.2em;box-sizing: border-box;padding-bottom: 0.1em;background-color: white;position: relative;}div.sk-label label {font-family: monospace;font-weight: bold;background-color: white;display: inline-block;line-height: 1.2em;}div.sk-label-container {position: relative;z-index: 2;text-align: center;}div.sk-container {display: inline-block;position: relative;}</style><div class=\"sk-top-container\"><div class=\"sk-container\"><div class=\"sk-item sk-dashed-wrapped\"><div class=\"sk-label-container\"><div class=\"sk-label sk-toggleable\"><input class=\"sk-toggleable__control sk-hidden--visually\" id=\"f89b150c-0458-475e-be9b-2778adf1640a\" type=\"checkbox\" ><label class=\"sk-toggleable__label\" for=\"f89b150c-0458-475e-be9b-2778adf1640a\">GridSearchCV</label><div class=\"sk-toggleable__content\"><pre>GridSearchCV(cv=5,\n",
       "             estimator=Pipeline(steps=[('preprocessor',\n",
       "                                        ColumnTransformer(transformers=[('num',\n",
       "                                                                         Pipeline(steps=[('imputer',\n",
       "                                                                                          SimpleImputer(strategy='median')),\n",
       "                                                                                         ('scaler',\n",
       "                                                                                          MinMaxScaler())]),\n",
       "                                                                         ['Seniority',\n",
       "                                                                          'Time',\n",
       "                                                                          'Age',\n",
       "                                                                          'Expenses',\n",
       "                                                                          'Income',\n",
       "                                                                          'Assets',\n",
       "                                                                          'Debt',\n",
       "                                                                          'Amount',\n",
       "                                                                          'Price']),\n",
       "                                                                        ('cat',\n",
       "                                                                         Pipeline(steps=[('imputer',\n",
       "                                                                                          SimpleImputer(strategy='most_frequent')),\n",
       "                                                                                         ('encoder',\n",
       "                                                                                          OneHotEncoder(drop='first'))]),\n",
       "                                                                         ['Home',\n",
       "                                                                          'Marital',\n",
       "                                                                          'Records',\n",
       "                                                                          'Job'])])),\n",
       "                                       ('classifier',\n",
       "                                        MLPClassifier(max_iter=1000))]),\n",
       "             n_jobs=4,\n",
       "             param_grid={'classifier__hidden_layer_sizes': [[2], [4], [6], [8],\n",
       "                                                            [10], [12], [14],\n",
       "                                                            [16], [18], [20]]},\n",
       "             scoring='roc_auc')</pre></div></div></div><div class=\"sk-parallel\"><div class=\"sk-parallel-item\"><div class=\"sk-item\"><div class=\"sk-serial\"><div class=\"sk-item\"><div class=\"sk-serial\"><div class=\"sk-item sk-dashed-wrapped\"><div class=\"sk-label-container\"><div class=\"sk-label sk-toggleable\"><input class=\"sk-toggleable__control sk-hidden--visually\" id=\"7c090559-8034-42ab-80bb-bbb16090d460\" type=\"checkbox\" ><label class=\"sk-toggleable__label\" for=\"7c090559-8034-42ab-80bb-bbb16090d460\">preprocessor: ColumnTransformer</label><div class=\"sk-toggleable__content\"><pre>ColumnTransformer(transformers=[('num',\n",
       "                                 Pipeline(steps=[('imputer',\n",
       "                                                  SimpleImputer(strategy='median')),\n",
       "                                                 ('scaler', MinMaxScaler())]),\n",
       "                                 ['Seniority', 'Time', 'Age', 'Expenses',\n",
       "                                  'Income', 'Assets', 'Debt', 'Amount',\n",
       "                                  'Price']),\n",
       "                                ('cat',\n",
       "                                 Pipeline(steps=[('imputer',\n",
       "                                                  SimpleImputer(strategy='most_frequent')),\n",
       "                                                 ('encoder',\n",
       "                                                  OneHotEncoder(drop='first'))]),\n",
       "                                 ['Home', 'Marital', 'Records', 'Job'])])</pre></div></div></div><div class=\"sk-parallel\"><div class=\"sk-parallel-item\"><div class=\"sk-item\"><div class=\"sk-label-container\"><div class=\"sk-label sk-toggleable\"><input class=\"sk-toggleable__control sk-hidden--visually\" id=\"74a1d074-253a-45c2-afb0-e20fffe81d3a\" type=\"checkbox\" ><label class=\"sk-toggleable__label\" for=\"74a1d074-253a-45c2-afb0-e20fffe81d3a\">num</label><div class=\"sk-toggleable__content\"><pre>['Seniority', 'Time', 'Age', 'Expenses', 'Income', 'Assets', 'Debt', 'Amount', 'Price']</pre></div></div></div><div class=\"sk-serial\"><div class=\"sk-item\"><div class=\"sk-serial\"><div class=\"sk-item\"><div class=\"sk-estimator sk-toggleable\"><input class=\"sk-toggleable__control sk-hidden--visually\" id=\"2bd91b3a-22c9-468b-9779-6f271b4889fd\" type=\"checkbox\" ><label class=\"sk-toggleable__label\" for=\"2bd91b3a-22c9-468b-9779-6f271b4889fd\">SimpleImputer</label><div class=\"sk-toggleable__content\"><pre>SimpleImputer(strategy='median')</pre></div></div></div><div class=\"sk-item\"><div class=\"sk-estimator sk-toggleable\"><input class=\"sk-toggleable__control sk-hidden--visually\" id=\"181d82f1-579c-44ac-8990-a69d3078fd8e\" type=\"checkbox\" ><label class=\"sk-toggleable__label\" for=\"181d82f1-579c-44ac-8990-a69d3078fd8e\">MinMaxScaler</label><div class=\"sk-toggleable__content\"><pre>MinMaxScaler()</pre></div></div></div></div></div></div></div></div><div class=\"sk-parallel-item\"><div class=\"sk-item\"><div class=\"sk-label-container\"><div class=\"sk-label sk-toggleable\"><input class=\"sk-toggleable__control sk-hidden--visually\" id=\"b93dbb06-287c-4ad6-8529-8d1271c148f7\" type=\"checkbox\" ><label class=\"sk-toggleable__label\" for=\"b93dbb06-287c-4ad6-8529-8d1271c148f7\">cat</label><div class=\"sk-toggleable__content\"><pre>['Home', 'Marital', 'Records', 'Job']</pre></div></div></div><div class=\"sk-serial\"><div class=\"sk-item\"><div class=\"sk-serial\"><div class=\"sk-item\"><div class=\"sk-estimator sk-toggleable\"><input class=\"sk-toggleable__control sk-hidden--visually\" id=\"c45d7803-c027-4759-bd6e-b59cc46e02a5\" type=\"checkbox\" ><label class=\"sk-toggleable__label\" for=\"c45d7803-c027-4759-bd6e-b59cc46e02a5\">SimpleImputer</label><div class=\"sk-toggleable__content\"><pre>SimpleImputer(strategy='most_frequent')</pre></div></div></div><div class=\"sk-item\"><div class=\"sk-estimator sk-toggleable\"><input class=\"sk-toggleable__control sk-hidden--visually\" id=\"eacf0bf6-a296-4c69-9bd3-a077869b4e7f\" type=\"checkbox\" ><label class=\"sk-toggleable__label\" for=\"eacf0bf6-a296-4c69-9bd3-a077869b4e7f\">OneHotEncoder</label><div class=\"sk-toggleable__content\"><pre>OneHotEncoder(drop='first')</pre></div></div></div></div></div></div></div></div></div></div><div class=\"sk-item\"><div class=\"sk-estimator sk-toggleable\"><input class=\"sk-toggleable__control sk-hidden--visually\" id=\"7fb97c9e-a728-498d-a4eb-bc7427664f5d\" type=\"checkbox\" ><label class=\"sk-toggleable__label\" for=\"7fb97c9e-a728-498d-a4eb-bc7427664f5d\">MLPClassifier</label><div class=\"sk-toggleable__content\"><pre>MLPClassifier(max_iter=1000)</pre></div></div></div></div></div></div></div></div></div></div></div></div>"
      ],
      "text/plain": [
       "GridSearchCV(cv=5,\n",
       "             estimator=Pipeline(steps=[('preprocessor',\n",
       "                                        ColumnTransformer(transformers=[('num',\n",
       "                                                                         Pipeline(steps=[('imputer',\n",
       "                                                                                          SimpleImputer(strategy='median')),\n",
       "                                                                                         ('scaler',\n",
       "                                                                                          MinMaxScaler())]),\n",
       "                                                                         ['Seniority',\n",
       "                                                                          'Time',\n",
       "                                                                          'Age',\n",
       "                                                                          'Expenses',\n",
       "                                                                          'Income',\n",
       "                                                                          'Assets',\n",
       "                                                                          'Debt',\n",
       "                                                                          'Amount',\n",
       "                                                                          'Price']),\n",
       "                                                                        ('cat',\n",
       "                                                                         Pipeline(steps=[('imputer',\n",
       "                                                                                          SimpleImputer(strategy='most_frequent')),\n",
       "                                                                                         ('encoder',\n",
       "                                                                                          OneHotEncoder(drop='first'))]),\n",
       "                                                                         ['Home',\n",
       "                                                                          'Marital',\n",
       "                                                                          'Records',\n",
       "                                                                          'Job'])])),\n",
       "                                       ('classifier',\n",
       "                                        MLPClassifier(max_iter=1000))]),\n",
       "             n_jobs=4,\n",
       "             param_grid={'classifier__hidden_layer_sizes': [[2], [4], [6], [8],\n",
       "                                                            [10], [12], [14],\n",
       "                                                            [16], [18], [20]]},\n",
       "             scoring='roc_auc')"
      ]
     },
     "execution_count": 48,
     "metadata": {},
     "output_type": "execute_result"
    }
   ],
   "source": [
    "from sklearn.model_selection import GridSearchCV\n",
    "param_grid = {'classifier__hidden_layer_sizes': \n",
    "              [[2], [4], [6], [8], [10], [12], [14], [16], [18], [20]]}\n",
    "\n",
    "credit_nn_tuned = GridSearchCV(nn_credit, param_grid, \n",
    "                             scoring='roc_auc', cv=5, n_jobs=4)\n",
    "credit_nn_tuned"
   ]
  },
  {
   "cell_type": "markdown",
   "metadata": {},
   "source": [
    "Now let's run this (it will take a short while to go through all the iterations and parameter values):"
   ]
  },
  {
   "cell_type": "code",
   "execution_count": 49,
   "metadata": {},
   "outputs": [
    {
     "data": {
      "text/html": [
       "<style>div.sk-top-container {color: black;background-color: white;}div.sk-toggleable {background-color: white;}label.sk-toggleable__label {cursor: pointer;display: block;width: 100%;margin-bottom: 0;padding: 0.2em 0.3em;box-sizing: border-box;text-align: center;}div.sk-toggleable__content {max-height: 0;max-width: 0;overflow: hidden;text-align: left;background-color: #f0f8ff;}div.sk-toggleable__content pre {margin: 0.2em;color: black;border-radius: 0.25em;background-color: #f0f8ff;}input.sk-toggleable__control:checked~div.sk-toggleable__content {max-height: 200px;max-width: 100%;overflow: auto;}div.sk-estimator input.sk-toggleable__control:checked~label.sk-toggleable__label {background-color: #d4ebff;}div.sk-label input.sk-toggleable__control:checked~label.sk-toggleable__label {background-color: #d4ebff;}input.sk-hidden--visually {border: 0;clip: rect(1px 1px 1px 1px);clip: rect(1px, 1px, 1px, 1px);height: 1px;margin: -1px;overflow: hidden;padding: 0;position: absolute;width: 1px;}div.sk-estimator {font-family: monospace;background-color: #f0f8ff;margin: 0.25em 0.25em;border: 1px dotted black;border-radius: 0.25em;box-sizing: border-box;}div.sk-estimator:hover {background-color: #d4ebff;}div.sk-parallel-item::after {content: \"\";width: 100%;border-bottom: 1px solid gray;flex-grow: 1;}div.sk-label:hover label.sk-toggleable__label {background-color: #d4ebff;}div.sk-serial::before {content: \"\";position: absolute;border-left: 1px solid gray;box-sizing: border-box;top: 2em;bottom: 0;left: 50%;}div.sk-serial {display: flex;flex-direction: column;align-items: center;background-color: white;}div.sk-item {z-index: 1;}div.sk-parallel {display: flex;align-items: stretch;justify-content: center;background-color: white;}div.sk-parallel-item {display: flex;flex-direction: column;position: relative;background-color: white;}div.sk-parallel-item:first-child::after {align-self: flex-end;width: 50%;}div.sk-parallel-item:last-child::after {align-self: flex-start;width: 50%;}div.sk-parallel-item:only-child::after {width: 0;}div.sk-dashed-wrapped {border: 1px dashed gray;margin: 0.2em;box-sizing: border-box;padding-bottom: 0.1em;background-color: white;position: relative;}div.sk-label label {font-family: monospace;font-weight: bold;background-color: white;display: inline-block;line-height: 1.2em;}div.sk-label-container {position: relative;z-index: 2;text-align: center;}div.sk-container {display: inline-block;position: relative;}</style><div class=\"sk-top-container\"><div class=\"sk-container\"><div class=\"sk-item sk-dashed-wrapped\"><div class=\"sk-label-container\"><div class=\"sk-label sk-toggleable\"><input class=\"sk-toggleable__control sk-hidden--visually\" id=\"442d673b-f9d2-432d-b32f-916ac2d26cb4\" type=\"checkbox\" ><label class=\"sk-toggleable__label\" for=\"442d673b-f9d2-432d-b32f-916ac2d26cb4\">GridSearchCV</label><div class=\"sk-toggleable__content\"><pre>GridSearchCV(cv=5,\n",
       "             estimator=Pipeline(steps=[('preprocessor',\n",
       "                                        ColumnTransformer(transformers=[('num',\n",
       "                                                                         Pipeline(steps=[('imputer',\n",
       "                                                                                          SimpleImputer(strategy='median')),\n",
       "                                                                                         ('scaler',\n",
       "                                                                                          MinMaxScaler())]),\n",
       "                                                                         ['Seniority',\n",
       "                                                                          'Time',\n",
       "                                                                          'Age',\n",
       "                                                                          'Expenses',\n",
       "                                                                          'Income',\n",
       "                                                                          'Assets',\n",
       "                                                                          'Debt',\n",
       "                                                                          'Amount',\n",
       "                                                                          'Price']),\n",
       "                                                                        ('cat',\n",
       "                                                                         Pipeline(steps=[('imputer',\n",
       "                                                                                          SimpleImputer(strategy='most_frequent')),\n",
       "                                                                                         ('encoder',\n",
       "                                                                                          OneHotEncoder(drop='first'))]),\n",
       "                                                                         ['Home',\n",
       "                                                                          'Marital',\n",
       "                                                                          'Records',\n",
       "                                                                          'Job'])])),\n",
       "                                       ('classifier',\n",
       "                                        MLPClassifier(max_iter=1000))]),\n",
       "             n_jobs=4,\n",
       "             param_grid={'classifier__hidden_layer_sizes': [[2], [4], [6], [8],\n",
       "                                                            [10], [12], [14],\n",
       "                                                            [16], [18], [20]]},\n",
       "             scoring='roc_auc')</pre></div></div></div><div class=\"sk-parallel\"><div class=\"sk-parallel-item\"><div class=\"sk-item\"><div class=\"sk-serial\"><div class=\"sk-item\"><div class=\"sk-serial\"><div class=\"sk-item sk-dashed-wrapped\"><div class=\"sk-label-container\"><div class=\"sk-label sk-toggleable\"><input class=\"sk-toggleable__control sk-hidden--visually\" id=\"9f283351-b212-4837-8295-83dae1ba795a\" type=\"checkbox\" ><label class=\"sk-toggleable__label\" for=\"9f283351-b212-4837-8295-83dae1ba795a\">preprocessor: ColumnTransformer</label><div class=\"sk-toggleable__content\"><pre>ColumnTransformer(transformers=[('num',\n",
       "                                 Pipeline(steps=[('imputer',\n",
       "                                                  SimpleImputer(strategy='median')),\n",
       "                                                 ('scaler', MinMaxScaler())]),\n",
       "                                 ['Seniority', 'Time', 'Age', 'Expenses',\n",
       "                                  'Income', 'Assets', 'Debt', 'Amount',\n",
       "                                  'Price']),\n",
       "                                ('cat',\n",
       "                                 Pipeline(steps=[('imputer',\n",
       "                                                  SimpleImputer(strategy='most_frequent')),\n",
       "                                                 ('encoder',\n",
       "                                                  OneHotEncoder(drop='first'))]),\n",
       "                                 ['Home', 'Marital', 'Records', 'Job'])])</pre></div></div></div><div class=\"sk-parallel\"><div class=\"sk-parallel-item\"><div class=\"sk-item\"><div class=\"sk-label-container\"><div class=\"sk-label sk-toggleable\"><input class=\"sk-toggleable__control sk-hidden--visually\" id=\"a69bd26f-d5b4-474d-9bc5-994f4188af33\" type=\"checkbox\" ><label class=\"sk-toggleable__label\" for=\"a69bd26f-d5b4-474d-9bc5-994f4188af33\">num</label><div class=\"sk-toggleable__content\"><pre>['Seniority', 'Time', 'Age', 'Expenses', 'Income', 'Assets', 'Debt', 'Amount', 'Price']</pre></div></div></div><div class=\"sk-serial\"><div class=\"sk-item\"><div class=\"sk-serial\"><div class=\"sk-item\"><div class=\"sk-estimator sk-toggleable\"><input class=\"sk-toggleable__control sk-hidden--visually\" id=\"96ba3af0-4c9e-47d7-afa0-7ed9be8ef379\" type=\"checkbox\" ><label class=\"sk-toggleable__label\" for=\"96ba3af0-4c9e-47d7-afa0-7ed9be8ef379\">SimpleImputer</label><div class=\"sk-toggleable__content\"><pre>SimpleImputer(strategy='median')</pre></div></div></div><div class=\"sk-item\"><div class=\"sk-estimator sk-toggleable\"><input class=\"sk-toggleable__control sk-hidden--visually\" id=\"143b52d3-3c60-4a93-a05e-b6f5a6b8da78\" type=\"checkbox\" ><label class=\"sk-toggleable__label\" for=\"143b52d3-3c60-4a93-a05e-b6f5a6b8da78\">MinMaxScaler</label><div class=\"sk-toggleable__content\"><pre>MinMaxScaler()</pre></div></div></div></div></div></div></div></div><div class=\"sk-parallel-item\"><div class=\"sk-item\"><div class=\"sk-label-container\"><div class=\"sk-label sk-toggleable\"><input class=\"sk-toggleable__control sk-hidden--visually\" id=\"c5087e36-805b-43fd-a81c-8df74d95f413\" type=\"checkbox\" ><label class=\"sk-toggleable__label\" for=\"c5087e36-805b-43fd-a81c-8df74d95f413\">cat</label><div class=\"sk-toggleable__content\"><pre>['Home', 'Marital', 'Records', 'Job']</pre></div></div></div><div class=\"sk-serial\"><div class=\"sk-item\"><div class=\"sk-serial\"><div class=\"sk-item\"><div class=\"sk-estimator sk-toggleable\"><input class=\"sk-toggleable__control sk-hidden--visually\" id=\"834540e1-a9e4-4725-b549-5378c3670a65\" type=\"checkbox\" ><label class=\"sk-toggleable__label\" for=\"834540e1-a9e4-4725-b549-5378c3670a65\">SimpleImputer</label><div class=\"sk-toggleable__content\"><pre>SimpleImputer(strategy='most_frequent')</pre></div></div></div><div class=\"sk-item\"><div class=\"sk-estimator sk-toggleable\"><input class=\"sk-toggleable__control sk-hidden--visually\" id=\"32b6037e-4a31-4a1e-b777-efcea26164a3\" type=\"checkbox\" ><label class=\"sk-toggleable__label\" for=\"32b6037e-4a31-4a1e-b777-efcea26164a3\">OneHotEncoder</label><div class=\"sk-toggleable__content\"><pre>OneHotEncoder(drop='first')</pre></div></div></div></div></div></div></div></div></div></div><div class=\"sk-item\"><div class=\"sk-estimator sk-toggleable\"><input class=\"sk-toggleable__control sk-hidden--visually\" id=\"06cd00a4-46a1-4d2b-aa0a-e7f182fb1401\" type=\"checkbox\" ><label class=\"sk-toggleable__label\" for=\"06cd00a4-46a1-4d2b-aa0a-e7f182fb1401\">MLPClassifier</label><div class=\"sk-toggleable__content\"><pre>MLPClassifier(max_iter=1000)</pre></div></div></div></div></div></div></div></div></div></div></div></div>"
      ],
      "text/plain": [
       "GridSearchCV(cv=5,\n",
       "             estimator=Pipeline(steps=[('preprocessor',\n",
       "                                        ColumnTransformer(transformers=[('num',\n",
       "                                                                         Pipeline(steps=[('imputer',\n",
       "                                                                                          SimpleImputer(strategy='median')),\n",
       "                                                                                         ('scaler',\n",
       "                                                                                          MinMaxScaler())]),\n",
       "                                                                         ['Seniority',\n",
       "                                                                          'Time',\n",
       "                                                                          'Age',\n",
       "                                                                          'Expenses',\n",
       "                                                                          'Income',\n",
       "                                                                          'Assets',\n",
       "                                                                          'Debt',\n",
       "                                                                          'Amount',\n",
       "                                                                          'Price']),\n",
       "                                                                        ('cat',\n",
       "                                                                         Pipeline(steps=[('imputer',\n",
       "                                                                                          SimpleImputer(strategy='most_frequent')),\n",
       "                                                                                         ('encoder',\n",
       "                                                                                          OneHotEncoder(drop='first'))]),\n",
       "                                                                         ['Home',\n",
       "                                                                          'Marital',\n",
       "                                                                          'Records',\n",
       "                                                                          'Job'])])),\n",
       "                                       ('classifier',\n",
       "                                        MLPClassifier(max_iter=1000))]),\n",
       "             n_jobs=4,\n",
       "             param_grid={'classifier__hidden_layer_sizes': [[2], [4], [6], [8],\n",
       "                                                            [10], [12], [14],\n",
       "                                                            [16], [18], [20]]},\n",
       "             scoring='roc_auc')"
      ]
     },
     "execution_count": 49,
     "metadata": {},
     "output_type": "execute_result"
    }
   ],
   "source": [
    "credit_nn_tuned.fit(X_train, y_train)"
   ]
  },
  {
   "cell_type": "markdown",
   "metadata": {},
   "source": [
    "And we can check the results of the tuning:"
   ]
  },
  {
   "cell_type": "code",
   "execution_count": 50,
   "metadata": {},
   "outputs": [
    {
     "name": "stdout",
     "output_type": "stream",
     "text": [
      "Best params:\n",
      "{'classifier__hidden_layer_sizes': [12]}\n",
      "0.8280779557177544\n"
     ]
    }
   ],
   "source": [
    "print(f\"Best params:\")\n",
    "print(credit_nn_tuned.best_params_)\n",
    "print(credit_nn_tuned.best_score_)"
   ]
  },
  {
   "cell_type": "markdown",
   "metadata": {},
   "source": [
    "We can use the tuned learner to make predictions for a new data set. As the learner is built on the data transformation pipeline, we do need to carry out any transformations prior to prediction. Instead we can simply pass the new data to the learner, and leave it to do all that for us. We'll create a single example and use the `predict_new()` method to get a prediction of credit risk (feel free to use different values to see the impact here):"
   ]
  },
  {
   "cell_type": "code",
   "execution_count": 51,
   "metadata": {},
   "outputs": [],
   "source": [
    "new_credit = pd.DataFrame({'Seniority': [8], 'Home': [\"rent\"], 'Time': [36], 'Age': [26],\n",
    "                           'Marital': [\"single\"], 'Records': [\"no\"], 'Job': [\"fixed\"],\n",
    "                           'Expenses': [50], 'Income': [100], 'Assets': [0], 'Debt': [10],\n",
    "                           'Amount': [100], 'Price': [125]})"
   ]
  },
  {
   "cell_type": "markdown",
   "metadata": {},
   "source": [
    "And predict for this new case:"
   ]
  },
  {
   "cell_type": "code",
   "execution_count": 52,
   "metadata": {},
   "outputs": [
    {
     "data": {
      "text/plain": [
       "array(['good'], dtype='<U4')"
      ]
     },
     "execution_count": 52,
     "metadata": {},
     "output_type": "execute_result"
    }
   ],
   "source": [
    "credit_nn_tuned.predict(new_credit)"
   ]
  },
  {
   "cell_type": "markdown",
   "metadata": {},
   "source": [
    "This predicts a good credit ranking for this example. As a reminder, if you use `predict_proba()` instead of `predict()` this will return the predicted probabilities of each class ('bad' vs 'good'):"
   ]
  },
  {
   "cell_type": "code",
   "execution_count": 53,
   "metadata": {},
   "outputs": [
    {
     "data": {
      "text/plain": [
       "array([[0.16315357, 0.83684643]])"
      ]
     },
     "execution_count": 53,
     "metadata": {},
     "output_type": "execute_result"
    }
   ],
   "source": [
    "credit_nn_tuned.predict_proba(new_credit)"
   ]
  },
  {
   "cell_type": "markdown",
   "metadata": {},
   "source": [
    "One neat thing about this form of tuning is that we are not simply restricted to testing the number of nodes in a hidden layer. The following will test 4 different neural networks. One with a single hidden layer with 10 nodes, three with two hidden nodes with 6 and 3, and 8 and 4 nodes, and 12 and 6 nodes:"
   ]
  },
  {
   "cell_type": "code",
   "execution_count": 54,
   "metadata": {},
   "outputs": [
    {
     "data": {
      "text/html": [
       "<style>div.sk-top-container {color: black;background-color: white;}div.sk-toggleable {background-color: white;}label.sk-toggleable__label {cursor: pointer;display: block;width: 100%;margin-bottom: 0;padding: 0.2em 0.3em;box-sizing: border-box;text-align: center;}div.sk-toggleable__content {max-height: 0;max-width: 0;overflow: hidden;text-align: left;background-color: #f0f8ff;}div.sk-toggleable__content pre {margin: 0.2em;color: black;border-radius: 0.25em;background-color: #f0f8ff;}input.sk-toggleable__control:checked~div.sk-toggleable__content {max-height: 200px;max-width: 100%;overflow: auto;}div.sk-estimator input.sk-toggleable__control:checked~label.sk-toggleable__label {background-color: #d4ebff;}div.sk-label input.sk-toggleable__control:checked~label.sk-toggleable__label {background-color: #d4ebff;}input.sk-hidden--visually {border: 0;clip: rect(1px 1px 1px 1px);clip: rect(1px, 1px, 1px, 1px);height: 1px;margin: -1px;overflow: hidden;padding: 0;position: absolute;width: 1px;}div.sk-estimator {font-family: monospace;background-color: #f0f8ff;margin: 0.25em 0.25em;border: 1px dotted black;border-radius: 0.25em;box-sizing: border-box;}div.sk-estimator:hover {background-color: #d4ebff;}div.sk-parallel-item::after {content: \"\";width: 100%;border-bottom: 1px solid gray;flex-grow: 1;}div.sk-label:hover label.sk-toggleable__label {background-color: #d4ebff;}div.sk-serial::before {content: \"\";position: absolute;border-left: 1px solid gray;box-sizing: border-box;top: 2em;bottom: 0;left: 50%;}div.sk-serial {display: flex;flex-direction: column;align-items: center;background-color: white;}div.sk-item {z-index: 1;}div.sk-parallel {display: flex;align-items: stretch;justify-content: center;background-color: white;}div.sk-parallel-item {display: flex;flex-direction: column;position: relative;background-color: white;}div.sk-parallel-item:first-child::after {align-self: flex-end;width: 50%;}div.sk-parallel-item:last-child::after {align-self: flex-start;width: 50%;}div.sk-parallel-item:only-child::after {width: 0;}div.sk-dashed-wrapped {border: 1px dashed gray;margin: 0.2em;box-sizing: border-box;padding-bottom: 0.1em;background-color: white;position: relative;}div.sk-label label {font-family: monospace;font-weight: bold;background-color: white;display: inline-block;line-height: 1.2em;}div.sk-label-container {position: relative;z-index: 2;text-align: center;}div.sk-container {display: inline-block;position: relative;}</style><div class=\"sk-top-container\"><div class=\"sk-container\"><div class=\"sk-item sk-dashed-wrapped\"><div class=\"sk-label-container\"><div class=\"sk-label sk-toggleable\"><input class=\"sk-toggleable__control sk-hidden--visually\" id=\"328a8845-438f-48c2-b216-8de23acfe836\" type=\"checkbox\" ><label class=\"sk-toggleable__label\" for=\"328a8845-438f-48c2-b216-8de23acfe836\">GridSearchCV</label><div class=\"sk-toggleable__content\"><pre>GridSearchCV(cv=5,\n",
       "             estimator=Pipeline(steps=[('preprocessor',\n",
       "                                        ColumnTransformer(transformers=[('num',\n",
       "                                                                         Pipeline(steps=[('imputer',\n",
       "                                                                                          SimpleImputer(strategy='median')),\n",
       "                                                                                         ('scaler',\n",
       "                                                                                          MinMaxScaler())]),\n",
       "                                                                         ['Seniority',\n",
       "                                                                          'Time',\n",
       "                                                                          'Age',\n",
       "                                                                          'Expenses',\n",
       "                                                                          'Income',\n",
       "                                                                          'Assets',\n",
       "                                                                          'Debt',\n",
       "                                                                          'Amount',\n",
       "                                                                          'Price']),\n",
       "                                                                        ('cat',\n",
       "                                                                         Pipeline(steps=[('imputer',\n",
       "                                                                                          SimpleImputer(strategy='most_frequent')),\n",
       "                                                                                         ('encoder',\n",
       "                                                                                          OneHotEncoder(drop='first'))]),\n",
       "                                                                         ['Home',\n",
       "                                                                          'Marital',\n",
       "                                                                          'Records',\n",
       "                                                                          'Job'])])),\n",
       "                                       ('classifier',\n",
       "                                        MLPClassifier(max_iter=1000))]),\n",
       "             n_jobs=4,\n",
       "             param_grid={'classifier__hidden_layer_sizes': [[6], [6, 3], [8, 4],\n",
       "                                                            [12, 6]]},\n",
       "             scoring='roc_auc')</pre></div></div></div><div class=\"sk-parallel\"><div class=\"sk-parallel-item\"><div class=\"sk-item\"><div class=\"sk-serial\"><div class=\"sk-item\"><div class=\"sk-serial\"><div class=\"sk-item sk-dashed-wrapped\"><div class=\"sk-label-container\"><div class=\"sk-label sk-toggleable\"><input class=\"sk-toggleable__control sk-hidden--visually\" id=\"1dc8ad31-fe0d-4537-bff4-a04ef87bcdde\" type=\"checkbox\" ><label class=\"sk-toggleable__label\" for=\"1dc8ad31-fe0d-4537-bff4-a04ef87bcdde\">preprocessor: ColumnTransformer</label><div class=\"sk-toggleable__content\"><pre>ColumnTransformer(transformers=[('num',\n",
       "                                 Pipeline(steps=[('imputer',\n",
       "                                                  SimpleImputer(strategy='median')),\n",
       "                                                 ('scaler', MinMaxScaler())]),\n",
       "                                 ['Seniority', 'Time', 'Age', 'Expenses',\n",
       "                                  'Income', 'Assets', 'Debt', 'Amount',\n",
       "                                  'Price']),\n",
       "                                ('cat',\n",
       "                                 Pipeline(steps=[('imputer',\n",
       "                                                  SimpleImputer(strategy='most_frequent')),\n",
       "                                                 ('encoder',\n",
       "                                                  OneHotEncoder(drop='first'))]),\n",
       "                                 ['Home', 'Marital', 'Records', 'Job'])])</pre></div></div></div><div class=\"sk-parallel\"><div class=\"sk-parallel-item\"><div class=\"sk-item\"><div class=\"sk-label-container\"><div class=\"sk-label sk-toggleable\"><input class=\"sk-toggleable__control sk-hidden--visually\" id=\"5a8f00a5-5c3a-46c5-acb1-c8e2f9a18ca7\" type=\"checkbox\" ><label class=\"sk-toggleable__label\" for=\"5a8f00a5-5c3a-46c5-acb1-c8e2f9a18ca7\">num</label><div class=\"sk-toggleable__content\"><pre>['Seniority', 'Time', 'Age', 'Expenses', 'Income', 'Assets', 'Debt', 'Amount', 'Price']</pre></div></div></div><div class=\"sk-serial\"><div class=\"sk-item\"><div class=\"sk-serial\"><div class=\"sk-item\"><div class=\"sk-estimator sk-toggleable\"><input class=\"sk-toggleable__control sk-hidden--visually\" id=\"53b6ebe7-f515-4b2c-9d51-8d80d788d395\" type=\"checkbox\" ><label class=\"sk-toggleable__label\" for=\"53b6ebe7-f515-4b2c-9d51-8d80d788d395\">SimpleImputer</label><div class=\"sk-toggleable__content\"><pre>SimpleImputer(strategy='median')</pre></div></div></div><div class=\"sk-item\"><div class=\"sk-estimator sk-toggleable\"><input class=\"sk-toggleable__control sk-hidden--visually\" id=\"7456fbd2-0c13-4fe9-b6b2-a0430ce2c42c\" type=\"checkbox\" ><label class=\"sk-toggleable__label\" for=\"7456fbd2-0c13-4fe9-b6b2-a0430ce2c42c\">MinMaxScaler</label><div class=\"sk-toggleable__content\"><pre>MinMaxScaler()</pre></div></div></div></div></div></div></div></div><div class=\"sk-parallel-item\"><div class=\"sk-item\"><div class=\"sk-label-container\"><div class=\"sk-label sk-toggleable\"><input class=\"sk-toggleable__control sk-hidden--visually\" id=\"f311a93b-3ebb-4cd0-9963-c67e70990b79\" type=\"checkbox\" ><label class=\"sk-toggleable__label\" for=\"f311a93b-3ebb-4cd0-9963-c67e70990b79\">cat</label><div class=\"sk-toggleable__content\"><pre>['Home', 'Marital', 'Records', 'Job']</pre></div></div></div><div class=\"sk-serial\"><div class=\"sk-item\"><div class=\"sk-serial\"><div class=\"sk-item\"><div class=\"sk-estimator sk-toggleable\"><input class=\"sk-toggleable__control sk-hidden--visually\" id=\"5830d80e-27fb-4c46-80c3-8404fd883b2c\" type=\"checkbox\" ><label class=\"sk-toggleable__label\" for=\"5830d80e-27fb-4c46-80c3-8404fd883b2c\">SimpleImputer</label><div class=\"sk-toggleable__content\"><pre>SimpleImputer(strategy='most_frequent')</pre></div></div></div><div class=\"sk-item\"><div class=\"sk-estimator sk-toggleable\"><input class=\"sk-toggleable__control sk-hidden--visually\" id=\"fc2e67af-cc00-445e-b360-42376eaab1b2\" type=\"checkbox\" ><label class=\"sk-toggleable__label\" for=\"fc2e67af-cc00-445e-b360-42376eaab1b2\">OneHotEncoder</label><div class=\"sk-toggleable__content\"><pre>OneHotEncoder(drop='first')</pre></div></div></div></div></div></div></div></div></div></div><div class=\"sk-item\"><div class=\"sk-estimator sk-toggleable\"><input class=\"sk-toggleable__control sk-hidden--visually\" id=\"17b6ad2b-9153-419e-a3ed-dbd1c0dc8de5\" type=\"checkbox\" ><label class=\"sk-toggleable__label\" for=\"17b6ad2b-9153-419e-a3ed-dbd1c0dc8de5\">MLPClassifier</label><div class=\"sk-toggleable__content\"><pre>MLPClassifier(max_iter=1000)</pre></div></div></div></div></div></div></div></div></div></div></div></div>"
      ],
      "text/plain": [
       "GridSearchCV(cv=5,\n",
       "             estimator=Pipeline(steps=[('preprocessor',\n",
       "                                        ColumnTransformer(transformers=[('num',\n",
       "                                                                         Pipeline(steps=[('imputer',\n",
       "                                                                                          SimpleImputer(strategy='median')),\n",
       "                                                                                         ('scaler',\n",
       "                                                                                          MinMaxScaler())]),\n",
       "                                                                         ['Seniority',\n",
       "                                                                          'Time',\n",
       "                                                                          'Age',\n",
       "                                                                          'Expenses',\n",
       "                                                                          'Income',\n",
       "                                                                          'Assets',\n",
       "                                                                          'Debt',\n",
       "                                                                          'Amount',\n",
       "                                                                          'Price']),\n",
       "                                                                        ('cat',\n",
       "                                                                         Pipeline(steps=[('imputer',\n",
       "                                                                                          SimpleImputer(strategy='most_frequent')),\n",
       "                                                                                         ('encoder',\n",
       "                                                                                          OneHotEncoder(drop='first'))]),\n",
       "                                                                         ['Home',\n",
       "                                                                          'Marital',\n",
       "                                                                          'Records',\n",
       "                                                                          'Job'])])),\n",
       "                                       ('classifier',\n",
       "                                        MLPClassifier(max_iter=1000))]),\n",
       "             n_jobs=4,\n",
       "             param_grid={'classifier__hidden_layer_sizes': [[6], [6, 3], [8, 4],\n",
       "                                                            [12, 6]]},\n",
       "             scoring='roc_auc')"
      ]
     },
     "execution_count": 54,
     "metadata": {},
     "output_type": "execute_result"
    }
   ],
   "source": [
    "param_grid = {'classifier__hidden_layer_sizes': [[6, ], [6, 3], [8, 4], [12, 6]]}\n",
    "\n",
    "credit_nn_tuned = GridSearchCV(nn_credit, param_grid, \n",
    "                             scoring='roc_auc', cv=5, n_jobs=4)\n",
    "credit_nn_tuned"
   ]
  },
  {
   "cell_type": "code",
   "execution_count": 55,
   "metadata": {},
   "outputs": [
    {
     "name": "stdout",
     "output_type": "stream",
     "text": [
      "Best params:\n",
      "{'classifier__hidden_layer_sizes': [6]}\n",
      "0.8280129072913723\n"
     ]
    }
   ],
   "source": [
    "credit_nn_tuned.fit(X_train, y_train)\n",
    "print(f\"Best params:\")\n",
    "print(credit_nn_tuned.best_params_)\n",
    "print(credit_nn_tuned.best_score_)"
   ]
  },
  {
   "cell_type": "markdown",
   "metadata": {},
   "source": [
    "### Feature selection\n",
    "\n",
    "When working with datasets with large numbers of features we often want to reduce the number of features used to build the model. We can further modify the pipeline to allow for feature selection using scikit-learn. In this first example, we'll filter the features by mutual information; a form of entropy based correlation between each feature and the target variable. \n",
    "\n",
    "We'll make a new pipeline that consists of the original data processor (the categorical and numerical transformations) and append the feature selection operator. Note that there are two seperate functions here:\n",
    "\n",
    "- `mutual_info_classif`: this calculates the mutual information value for each feature\n",
    "- `SelectKBest`: this selects the top $k$ features based on the values returned by `mutual_info_classif`. Here, we'll choose the top 5. "
   ]
  },
  {
   "cell_type": "code",
   "execution_count": 56,
   "metadata": {},
   "outputs": [
    {
     "data": {
      "text/html": [
       "<style>div.sk-top-container {color: black;background-color: white;}div.sk-toggleable {background-color: white;}label.sk-toggleable__label {cursor: pointer;display: block;width: 100%;margin-bottom: 0;padding: 0.2em 0.3em;box-sizing: border-box;text-align: center;}div.sk-toggleable__content {max-height: 0;max-width: 0;overflow: hidden;text-align: left;background-color: #f0f8ff;}div.sk-toggleable__content pre {margin: 0.2em;color: black;border-radius: 0.25em;background-color: #f0f8ff;}input.sk-toggleable__control:checked~div.sk-toggleable__content {max-height: 200px;max-width: 100%;overflow: auto;}div.sk-estimator input.sk-toggleable__control:checked~label.sk-toggleable__label {background-color: #d4ebff;}div.sk-label input.sk-toggleable__control:checked~label.sk-toggleable__label {background-color: #d4ebff;}input.sk-hidden--visually {border: 0;clip: rect(1px 1px 1px 1px);clip: rect(1px, 1px, 1px, 1px);height: 1px;margin: -1px;overflow: hidden;padding: 0;position: absolute;width: 1px;}div.sk-estimator {font-family: monospace;background-color: #f0f8ff;margin: 0.25em 0.25em;border: 1px dotted black;border-radius: 0.25em;box-sizing: border-box;}div.sk-estimator:hover {background-color: #d4ebff;}div.sk-parallel-item::after {content: \"\";width: 100%;border-bottom: 1px solid gray;flex-grow: 1;}div.sk-label:hover label.sk-toggleable__label {background-color: #d4ebff;}div.sk-serial::before {content: \"\";position: absolute;border-left: 1px solid gray;box-sizing: border-box;top: 2em;bottom: 0;left: 50%;}div.sk-serial {display: flex;flex-direction: column;align-items: center;background-color: white;}div.sk-item {z-index: 1;}div.sk-parallel {display: flex;align-items: stretch;justify-content: center;background-color: white;}div.sk-parallel-item {display: flex;flex-direction: column;position: relative;background-color: white;}div.sk-parallel-item:first-child::after {align-self: flex-end;width: 50%;}div.sk-parallel-item:last-child::after {align-self: flex-start;width: 50%;}div.sk-parallel-item:only-child::after {width: 0;}div.sk-dashed-wrapped {border: 1px dashed gray;margin: 0.2em;box-sizing: border-box;padding-bottom: 0.1em;background-color: white;position: relative;}div.sk-label label {font-family: monospace;font-weight: bold;background-color: white;display: inline-block;line-height: 1.2em;}div.sk-label-container {position: relative;z-index: 2;text-align: center;}div.sk-container {display: inline-block;position: relative;}</style><div class=\"sk-top-container\"><div class=\"sk-container\"><div class=\"sk-item sk-dashed-wrapped\"><div class=\"sk-label-container\"><div class=\"sk-label sk-toggleable\"><input class=\"sk-toggleable__control sk-hidden--visually\" id=\"a8ee678d-ddc0-477f-8dff-dd2dc8f64741\" type=\"checkbox\" ><label class=\"sk-toggleable__label\" for=\"a8ee678d-ddc0-477f-8dff-dd2dc8f64741\">Pipeline</label><div class=\"sk-toggleable__content\"><pre>Pipeline(steps=[('preprocessor',\n",
       "                 ColumnTransformer(transformers=[('num',\n",
       "                                                  Pipeline(steps=[('imputer',\n",
       "                                                                   SimpleImputer(strategy='median')),\n",
       "                                                                  ('scaler',\n",
       "                                                                   MinMaxScaler())]),\n",
       "                                                  ['Seniority', 'Time', 'Age',\n",
       "                                                   'Expenses', 'Income',\n",
       "                                                   'Assets', 'Debt', 'Amount',\n",
       "                                                   'Price']),\n",
       "                                                 ('cat',\n",
       "                                                  Pipeline(steps=[('imputer',\n",
       "                                                                   SimpleImputer(strategy='most_frequent')),\n",
       "                                                                  ('encoder',\n",
       "                                                                   OneHotEncoder(drop='first'))]),\n",
       "                                                  ['Home', 'Marital', 'Records',\n",
       "                                                   'Job'])])),\n",
       "                ('mim',\n",
       "                 SelectKBest(k=5,\n",
       "                             score_func=<function mutual_info_classif at 0x15a24baf0>))])</pre></div></div></div><div class=\"sk-serial\"><div class=\"sk-item sk-dashed-wrapped\"><div class=\"sk-label-container\"><div class=\"sk-label sk-toggleable\"><input class=\"sk-toggleable__control sk-hidden--visually\" id=\"57da3b30-7a76-4b64-a706-7237e9f16837\" type=\"checkbox\" ><label class=\"sk-toggleable__label\" for=\"57da3b30-7a76-4b64-a706-7237e9f16837\">preprocessor: ColumnTransformer</label><div class=\"sk-toggleable__content\"><pre>ColumnTransformer(transformers=[('num',\n",
       "                                 Pipeline(steps=[('imputer',\n",
       "                                                  SimpleImputer(strategy='median')),\n",
       "                                                 ('scaler', MinMaxScaler())]),\n",
       "                                 ['Seniority', 'Time', 'Age', 'Expenses',\n",
       "                                  'Income', 'Assets', 'Debt', 'Amount',\n",
       "                                  'Price']),\n",
       "                                ('cat',\n",
       "                                 Pipeline(steps=[('imputer',\n",
       "                                                  SimpleImputer(strategy='most_frequent')),\n",
       "                                                 ('encoder',\n",
       "                                                  OneHotEncoder(drop='first'))]),\n",
       "                                 ['Home', 'Marital', 'Records', 'Job'])])</pre></div></div></div><div class=\"sk-parallel\"><div class=\"sk-parallel-item\"><div class=\"sk-item\"><div class=\"sk-label-container\"><div class=\"sk-label sk-toggleable\"><input class=\"sk-toggleable__control sk-hidden--visually\" id=\"b75b999d-6005-46ea-be22-f1054e343790\" type=\"checkbox\" ><label class=\"sk-toggleable__label\" for=\"b75b999d-6005-46ea-be22-f1054e343790\">num</label><div class=\"sk-toggleable__content\"><pre>['Seniority', 'Time', 'Age', 'Expenses', 'Income', 'Assets', 'Debt', 'Amount', 'Price']</pre></div></div></div><div class=\"sk-serial\"><div class=\"sk-item\"><div class=\"sk-serial\"><div class=\"sk-item\"><div class=\"sk-estimator sk-toggleable\"><input class=\"sk-toggleable__control sk-hidden--visually\" id=\"8b5de503-583c-4e85-985b-cffe2097785b\" type=\"checkbox\" ><label class=\"sk-toggleable__label\" for=\"8b5de503-583c-4e85-985b-cffe2097785b\">SimpleImputer</label><div class=\"sk-toggleable__content\"><pre>SimpleImputer(strategy='median')</pre></div></div></div><div class=\"sk-item\"><div class=\"sk-estimator sk-toggleable\"><input class=\"sk-toggleable__control sk-hidden--visually\" id=\"0aac1da2-7434-4841-a2fd-b521c528e033\" type=\"checkbox\" ><label class=\"sk-toggleable__label\" for=\"0aac1da2-7434-4841-a2fd-b521c528e033\">MinMaxScaler</label><div class=\"sk-toggleable__content\"><pre>MinMaxScaler()</pre></div></div></div></div></div></div></div></div><div class=\"sk-parallel-item\"><div class=\"sk-item\"><div class=\"sk-label-container\"><div class=\"sk-label sk-toggleable\"><input class=\"sk-toggleable__control sk-hidden--visually\" id=\"ed57195c-eee2-485e-b825-be2522342b0f\" type=\"checkbox\" ><label class=\"sk-toggleable__label\" for=\"ed57195c-eee2-485e-b825-be2522342b0f\">cat</label><div class=\"sk-toggleable__content\"><pre>['Home', 'Marital', 'Records', 'Job']</pre></div></div></div><div class=\"sk-serial\"><div class=\"sk-item\"><div class=\"sk-serial\"><div class=\"sk-item\"><div class=\"sk-estimator sk-toggleable\"><input class=\"sk-toggleable__control sk-hidden--visually\" id=\"34f2747c-6666-4f41-b973-9510211eac8d\" type=\"checkbox\" ><label class=\"sk-toggleable__label\" for=\"34f2747c-6666-4f41-b973-9510211eac8d\">SimpleImputer</label><div class=\"sk-toggleable__content\"><pre>SimpleImputer(strategy='most_frequent')</pre></div></div></div><div class=\"sk-item\"><div class=\"sk-estimator sk-toggleable\"><input class=\"sk-toggleable__control sk-hidden--visually\" id=\"0f5e3401-5695-4ff8-99b3-a521d04994f7\" type=\"checkbox\" ><label class=\"sk-toggleable__label\" for=\"0f5e3401-5695-4ff8-99b3-a521d04994f7\">OneHotEncoder</label><div class=\"sk-toggleable__content\"><pre>OneHotEncoder(drop='first')</pre></div></div></div></div></div></div></div></div></div></div><div class=\"sk-item\"><div class=\"sk-estimator sk-toggleable\"><input class=\"sk-toggleable__control sk-hidden--visually\" id=\"2b36ddaf-a34c-4740-97c3-4d7a0a6513a6\" type=\"checkbox\" ><label class=\"sk-toggleable__label\" for=\"2b36ddaf-a34c-4740-97c3-4d7a0a6513a6\">SelectKBest</label><div class=\"sk-toggleable__content\"><pre>SelectKBest(k=5, score_func=<function mutual_info_classif at 0x15a24baf0>)</pre></div></div></div></div></div></div></div>"
      ],
      "text/plain": [
       "Pipeline(steps=[('preprocessor',\n",
       "                 ColumnTransformer(transformers=[('num',\n",
       "                                                  Pipeline(steps=[('imputer',\n",
       "                                                                   SimpleImputer(strategy='median')),\n",
       "                                                                  ('scaler',\n",
       "                                                                   MinMaxScaler())]),\n",
       "                                                  ['Seniority', 'Time', 'Age',\n",
       "                                                   'Expenses', 'Income',\n",
       "                                                   'Assets', 'Debt', 'Amount',\n",
       "                                                   'Price']),\n",
       "                                                 ('cat',\n",
       "                                                  Pipeline(steps=[('imputer',\n",
       "                                                                   SimpleImputer(strategy='most_frequent')),\n",
       "                                                                  ('encoder',\n",
       "                                                                   OneHotEncoder(drop='first'))]),\n",
       "                                                  ['Home', 'Marital', 'Records',\n",
       "                                                   'Job'])])),\n",
       "                ('mim',\n",
       "                 SelectKBest(k=5,\n",
       "                             score_func=<function mutual_info_classif at 0x15a24baf0>))])"
      ]
     },
     "execution_count": 56,
     "metadata": {},
     "output_type": "execute_result"
    }
   ],
   "source": [
    "from sklearn.feature_selection import SelectKBest, mutual_info_classif\n",
    "nn_credit = Pipeline(steps=[('preprocessor', preprocessor),\n",
    "                            ('mim', SelectKBest(mutual_info_classif, k = 5)\n",
    "                            )])\n",
    "nn_credit"
   ]
  },
  {
   "cell_type": "markdown",
   "metadata": {},
   "source": [
    "We can again use the `fit_transform` function to show the results of this process. Note that we need to include both X and y here to calculate the mutual information values. This will return an array with just 5 features. Note that one impact of running this following the one-hot encoding is that the filter might select the encoding of *individual* levels of the original factor. "
   ]
  },
  {
   "cell_type": "code",
   "execution_count": 57,
   "metadata": {},
   "outputs": [
    {
     "name": "stdout",
     "output_type": "stream",
     "text": [
      "[[0.1875     0.12906611 0.         0.         0.        ]\n",
      " [0.35416667 0.13116474 0.         0.         0.        ]\n",
      " [0.20833333 0.20356768 0.01       1.         1.        ]\n",
      " ...\n",
      " [0.         0.08814271 0.01166667 1.         0.        ]\n",
      " [0.         0.1406086  0.         0.         0.        ]\n",
      " [0.10416667 0.1406086  0.01333333 1.         0.        ]]\n"
     ]
    }
   ],
   "source": [
    "print(nn_credit.fit_transform(X, y))"
   ]
  },
  {
   "cell_type": "markdown",
   "metadata": {},
   "source": [
    "We don't, however, know if 3 is the best subset of variables to include in the model. This is where the link between the pipeline, learner and tuning becomes very useful as we can tune this parameter (`k`) just as we would tune any hyperparameter. To do this, first rebuild the pipeline to include the neural network classifier:"
   ]
  },
  {
   "cell_type": "code",
   "execution_count": 58,
   "metadata": {},
   "outputs": [
    {
     "data": {
      "text/html": [
       "<style>div.sk-top-container {color: black;background-color: white;}div.sk-toggleable {background-color: white;}label.sk-toggleable__label {cursor: pointer;display: block;width: 100%;margin-bottom: 0;padding: 0.2em 0.3em;box-sizing: border-box;text-align: center;}div.sk-toggleable__content {max-height: 0;max-width: 0;overflow: hidden;text-align: left;background-color: #f0f8ff;}div.sk-toggleable__content pre {margin: 0.2em;color: black;border-radius: 0.25em;background-color: #f0f8ff;}input.sk-toggleable__control:checked~div.sk-toggleable__content {max-height: 200px;max-width: 100%;overflow: auto;}div.sk-estimator input.sk-toggleable__control:checked~label.sk-toggleable__label {background-color: #d4ebff;}div.sk-label input.sk-toggleable__control:checked~label.sk-toggleable__label {background-color: #d4ebff;}input.sk-hidden--visually {border: 0;clip: rect(1px 1px 1px 1px);clip: rect(1px, 1px, 1px, 1px);height: 1px;margin: -1px;overflow: hidden;padding: 0;position: absolute;width: 1px;}div.sk-estimator {font-family: monospace;background-color: #f0f8ff;margin: 0.25em 0.25em;border: 1px dotted black;border-radius: 0.25em;box-sizing: border-box;}div.sk-estimator:hover {background-color: #d4ebff;}div.sk-parallel-item::after {content: \"\";width: 100%;border-bottom: 1px solid gray;flex-grow: 1;}div.sk-label:hover label.sk-toggleable__label {background-color: #d4ebff;}div.sk-serial::before {content: \"\";position: absolute;border-left: 1px solid gray;box-sizing: border-box;top: 2em;bottom: 0;left: 50%;}div.sk-serial {display: flex;flex-direction: column;align-items: center;background-color: white;}div.sk-item {z-index: 1;}div.sk-parallel {display: flex;align-items: stretch;justify-content: center;background-color: white;}div.sk-parallel-item {display: flex;flex-direction: column;position: relative;background-color: white;}div.sk-parallel-item:first-child::after {align-self: flex-end;width: 50%;}div.sk-parallel-item:last-child::after {align-self: flex-start;width: 50%;}div.sk-parallel-item:only-child::after {width: 0;}div.sk-dashed-wrapped {border: 1px dashed gray;margin: 0.2em;box-sizing: border-box;padding-bottom: 0.1em;background-color: white;position: relative;}div.sk-label label {font-family: monospace;font-weight: bold;background-color: white;display: inline-block;line-height: 1.2em;}div.sk-label-container {position: relative;z-index: 2;text-align: center;}div.sk-container {display: inline-block;position: relative;}</style><div class=\"sk-top-container\"><div class=\"sk-container\"><div class=\"sk-item sk-dashed-wrapped\"><div class=\"sk-label-container\"><div class=\"sk-label sk-toggleable\"><input class=\"sk-toggleable__control sk-hidden--visually\" id=\"660c7cb0-5cac-4595-bf5e-0bd06ecbcce8\" type=\"checkbox\" ><label class=\"sk-toggleable__label\" for=\"660c7cb0-5cac-4595-bf5e-0bd06ecbcce8\">Pipeline</label><div class=\"sk-toggleable__content\"><pre>Pipeline(steps=[('preprocessor',\n",
       "                 ColumnTransformer(transformers=[('num',\n",
       "                                                  Pipeline(steps=[('imputer',\n",
       "                                                                   SimpleImputer(strategy='median')),\n",
       "                                                                  ('scaler',\n",
       "                                                                   MinMaxScaler())]),\n",
       "                                                  ['Seniority', 'Time', 'Age',\n",
       "                                                   'Expenses', 'Income',\n",
       "                                                   'Assets', 'Debt', 'Amount',\n",
       "                                                   'Price']),\n",
       "                                                 ('cat',\n",
       "                                                  Pipeline(steps=[('imputer',\n",
       "                                                                   SimpleImputer(strategy='most_frequent')),\n",
       "                                                                  ('encoder',\n",
       "                                                                   OneHotEncoder(drop='first'))]),\n",
       "                                                  ['Home', 'Marital', 'Records',\n",
       "                                                   'Job'])])),\n",
       "                ('mim',\n",
       "                 SelectKBest(score_func=<function mutual_info_classif at 0x15a24baf0>)),\n",
       "                ('classifier', MLPClassifier(max_iter=1000))])</pre></div></div></div><div class=\"sk-serial\"><div class=\"sk-item sk-dashed-wrapped\"><div class=\"sk-label-container\"><div class=\"sk-label sk-toggleable\"><input class=\"sk-toggleable__control sk-hidden--visually\" id=\"64b04094-7fc7-455f-8217-b18d285b85fb\" type=\"checkbox\" ><label class=\"sk-toggleable__label\" for=\"64b04094-7fc7-455f-8217-b18d285b85fb\">preprocessor: ColumnTransformer</label><div class=\"sk-toggleable__content\"><pre>ColumnTransformer(transformers=[('num',\n",
       "                                 Pipeline(steps=[('imputer',\n",
       "                                                  SimpleImputer(strategy='median')),\n",
       "                                                 ('scaler', MinMaxScaler())]),\n",
       "                                 ['Seniority', 'Time', 'Age', 'Expenses',\n",
       "                                  'Income', 'Assets', 'Debt', 'Amount',\n",
       "                                  'Price']),\n",
       "                                ('cat',\n",
       "                                 Pipeline(steps=[('imputer',\n",
       "                                                  SimpleImputer(strategy='most_frequent')),\n",
       "                                                 ('encoder',\n",
       "                                                  OneHotEncoder(drop='first'))]),\n",
       "                                 ['Home', 'Marital', 'Records', 'Job'])])</pre></div></div></div><div class=\"sk-parallel\"><div class=\"sk-parallel-item\"><div class=\"sk-item\"><div class=\"sk-label-container\"><div class=\"sk-label sk-toggleable\"><input class=\"sk-toggleable__control sk-hidden--visually\" id=\"583152e5-749a-4c2a-a9df-edc78b7a7d4c\" type=\"checkbox\" ><label class=\"sk-toggleable__label\" for=\"583152e5-749a-4c2a-a9df-edc78b7a7d4c\">num</label><div class=\"sk-toggleable__content\"><pre>['Seniority', 'Time', 'Age', 'Expenses', 'Income', 'Assets', 'Debt', 'Amount', 'Price']</pre></div></div></div><div class=\"sk-serial\"><div class=\"sk-item\"><div class=\"sk-serial\"><div class=\"sk-item\"><div class=\"sk-estimator sk-toggleable\"><input class=\"sk-toggleable__control sk-hidden--visually\" id=\"5f606922-c1a7-4e29-a1f8-5149945de5da\" type=\"checkbox\" ><label class=\"sk-toggleable__label\" for=\"5f606922-c1a7-4e29-a1f8-5149945de5da\">SimpleImputer</label><div class=\"sk-toggleable__content\"><pre>SimpleImputer(strategy='median')</pre></div></div></div><div class=\"sk-item\"><div class=\"sk-estimator sk-toggleable\"><input class=\"sk-toggleable__control sk-hidden--visually\" id=\"94023b57-2fe1-484a-875a-f1fd383d4ce1\" type=\"checkbox\" ><label class=\"sk-toggleable__label\" for=\"94023b57-2fe1-484a-875a-f1fd383d4ce1\">MinMaxScaler</label><div class=\"sk-toggleable__content\"><pre>MinMaxScaler()</pre></div></div></div></div></div></div></div></div><div class=\"sk-parallel-item\"><div class=\"sk-item\"><div class=\"sk-label-container\"><div class=\"sk-label sk-toggleable\"><input class=\"sk-toggleable__control sk-hidden--visually\" id=\"d529b8ee-70ff-41ca-85e0-566d80d88943\" type=\"checkbox\" ><label class=\"sk-toggleable__label\" for=\"d529b8ee-70ff-41ca-85e0-566d80d88943\">cat</label><div class=\"sk-toggleable__content\"><pre>['Home', 'Marital', 'Records', 'Job']</pre></div></div></div><div class=\"sk-serial\"><div class=\"sk-item\"><div class=\"sk-serial\"><div class=\"sk-item\"><div class=\"sk-estimator sk-toggleable\"><input class=\"sk-toggleable__control sk-hidden--visually\" id=\"b071204e-c33b-4ccd-8c92-bf9d8278f2ec\" type=\"checkbox\" ><label class=\"sk-toggleable__label\" for=\"b071204e-c33b-4ccd-8c92-bf9d8278f2ec\">SimpleImputer</label><div class=\"sk-toggleable__content\"><pre>SimpleImputer(strategy='most_frequent')</pre></div></div></div><div class=\"sk-item\"><div class=\"sk-estimator sk-toggleable\"><input class=\"sk-toggleable__control sk-hidden--visually\" id=\"abec9388-0484-4e8b-be8b-f96a6710119b\" type=\"checkbox\" ><label class=\"sk-toggleable__label\" for=\"abec9388-0484-4e8b-be8b-f96a6710119b\">OneHotEncoder</label><div class=\"sk-toggleable__content\"><pre>OneHotEncoder(drop='first')</pre></div></div></div></div></div></div></div></div></div></div><div class=\"sk-item\"><div class=\"sk-estimator sk-toggleable\"><input class=\"sk-toggleable__control sk-hidden--visually\" id=\"68280ec8-fa50-419f-80a3-f59855a89f0e\" type=\"checkbox\" ><label class=\"sk-toggleable__label\" for=\"68280ec8-fa50-419f-80a3-f59855a89f0e\">SelectKBest</label><div class=\"sk-toggleable__content\"><pre>SelectKBest(score_func=<function mutual_info_classif at 0x15a24baf0>)</pre></div></div></div><div class=\"sk-item\"><div class=\"sk-estimator sk-toggleable\"><input class=\"sk-toggleable__control sk-hidden--visually\" id=\"963d50b3-102e-4de4-a63f-d4f324091f76\" type=\"checkbox\" ><label class=\"sk-toggleable__label\" for=\"963d50b3-102e-4de4-a63f-d4f324091f76\">MLPClassifier</label><div class=\"sk-toggleable__content\"><pre>MLPClassifier(max_iter=1000)</pre></div></div></div></div></div></div></div>"
      ],
      "text/plain": [
       "Pipeline(steps=[('preprocessor',\n",
       "                 ColumnTransformer(transformers=[('num',\n",
       "                                                  Pipeline(steps=[('imputer',\n",
       "                                                                   SimpleImputer(strategy='median')),\n",
       "                                                                  ('scaler',\n",
       "                                                                   MinMaxScaler())]),\n",
       "                                                  ['Seniority', 'Time', 'Age',\n",
       "                                                   'Expenses', 'Income',\n",
       "                                                   'Assets', 'Debt', 'Amount',\n",
       "                                                   'Price']),\n",
       "                                                 ('cat',\n",
       "                                                  Pipeline(steps=[('imputer',\n",
       "                                                                   SimpleImputer(strategy='most_frequent')),\n",
       "                                                                  ('encoder',\n",
       "                                                                   OneHotEncoder(drop='first'))]),\n",
       "                                                  ['Home', 'Marital', 'Records',\n",
       "                                                   'Job'])])),\n",
       "                ('mim',\n",
       "                 SelectKBest(score_func=<function mutual_info_classif at 0x15a24baf0>)),\n",
       "                ('classifier', MLPClassifier(max_iter=1000))])"
      ]
     },
     "execution_count": 58,
     "metadata": {},
     "output_type": "execute_result"
    }
   ],
   "source": [
    "nn_credit = Pipeline(steps=[('preprocessor', preprocessor),\n",
    "                            ('mim', SelectKBest(mutual_info_classif)),\n",
    "                            ('classifier', MLPClassifier(max_iter = 1000))\n",
    "                            ])\n",
    "nn_credit"
   ]
  },
  {
   "cell_type": "markdown",
   "metadata": {},
   "source": [
    "Now set up a new tuning grid that includes both the number of features (`mim__k`) and the number of nodes in the hidden layer (`classifier__hidden_layer_sizes`). To keep this manageable, we'll just test 3 values for each to give 3 x 3 = 9 total combinations, which will result in 9 x 5 = 45 total models being built during the cross-validation. As a reminder, type `nn_credit.get_params()` to see the full set of parameters and their names.\n"
   ]
  },
  {
   "cell_type": "code",
   "execution_count": 59,
   "metadata": {},
   "outputs": [
    {
     "data": {
      "text/html": [
       "<style>div.sk-top-container {color: black;background-color: white;}div.sk-toggleable {background-color: white;}label.sk-toggleable__label {cursor: pointer;display: block;width: 100%;margin-bottom: 0;padding: 0.2em 0.3em;box-sizing: border-box;text-align: center;}div.sk-toggleable__content {max-height: 0;max-width: 0;overflow: hidden;text-align: left;background-color: #f0f8ff;}div.sk-toggleable__content pre {margin: 0.2em;color: black;border-radius: 0.25em;background-color: #f0f8ff;}input.sk-toggleable__control:checked~div.sk-toggleable__content {max-height: 200px;max-width: 100%;overflow: auto;}div.sk-estimator input.sk-toggleable__control:checked~label.sk-toggleable__label {background-color: #d4ebff;}div.sk-label input.sk-toggleable__control:checked~label.sk-toggleable__label {background-color: #d4ebff;}input.sk-hidden--visually {border: 0;clip: rect(1px 1px 1px 1px);clip: rect(1px, 1px, 1px, 1px);height: 1px;margin: -1px;overflow: hidden;padding: 0;position: absolute;width: 1px;}div.sk-estimator {font-family: monospace;background-color: #f0f8ff;margin: 0.25em 0.25em;border: 1px dotted black;border-radius: 0.25em;box-sizing: border-box;}div.sk-estimator:hover {background-color: #d4ebff;}div.sk-parallel-item::after {content: \"\";width: 100%;border-bottom: 1px solid gray;flex-grow: 1;}div.sk-label:hover label.sk-toggleable__label {background-color: #d4ebff;}div.sk-serial::before {content: \"\";position: absolute;border-left: 1px solid gray;box-sizing: border-box;top: 2em;bottom: 0;left: 50%;}div.sk-serial {display: flex;flex-direction: column;align-items: center;background-color: white;}div.sk-item {z-index: 1;}div.sk-parallel {display: flex;align-items: stretch;justify-content: center;background-color: white;}div.sk-parallel-item {display: flex;flex-direction: column;position: relative;background-color: white;}div.sk-parallel-item:first-child::after {align-self: flex-end;width: 50%;}div.sk-parallel-item:last-child::after {align-self: flex-start;width: 50%;}div.sk-parallel-item:only-child::after {width: 0;}div.sk-dashed-wrapped {border: 1px dashed gray;margin: 0.2em;box-sizing: border-box;padding-bottom: 0.1em;background-color: white;position: relative;}div.sk-label label {font-family: monospace;font-weight: bold;background-color: white;display: inline-block;line-height: 1.2em;}div.sk-label-container {position: relative;z-index: 2;text-align: center;}div.sk-container {display: inline-block;position: relative;}</style><div class=\"sk-top-container\"><div class=\"sk-container\"><div class=\"sk-item sk-dashed-wrapped\"><div class=\"sk-label-container\"><div class=\"sk-label sk-toggleable\"><input class=\"sk-toggleable__control sk-hidden--visually\" id=\"4c048434-a631-4e9b-b348-284ecd254ff7\" type=\"checkbox\" ><label class=\"sk-toggleable__label\" for=\"4c048434-a631-4e9b-b348-284ecd254ff7\">GridSearchCV</label><div class=\"sk-toggleable__content\"><pre>GridSearchCV(cv=5,\n",
       "             estimator=Pipeline(steps=[('preprocessor',\n",
       "                                        ColumnTransformer(transformers=[('num',\n",
       "                                                                         Pipeline(steps=[('imputer',\n",
       "                                                                                          SimpleImputer(strategy='median')),\n",
       "                                                                                         ('scaler',\n",
       "                                                                                          MinMaxScaler())]),\n",
       "                                                                         ['Seniority',\n",
       "                                                                          'Time',\n",
       "                                                                          'Age',\n",
       "                                                                          'Expenses',\n",
       "                                                                          'Income',\n",
       "                                                                          'Assets',\n",
       "                                                                          'Debt',\n",
       "                                                                          'Amount',\n",
       "                                                                          'Price']),\n",
       "                                                                        ('cat',\n",
       "                                                                         Pipeline(steps=[('imputer',\n",
       "                                                                                          SimpleImputer(strategy='most_frequent')),\n",
       "                                                                                         ('encoder',\n",
       "                                                                                          OneHotEncoder(drop='first'))]),\n",
       "                                                                         ['Home',\n",
       "                                                                          'Marital',\n",
       "                                                                          'Records',\n",
       "                                                                          'Job'])])),\n",
       "                                       ('mim',\n",
       "                                        SelectKBest(score_func=<function mutual_info_classif at 0x15a24baf0>)),\n",
       "                                       ('classifier',\n",
       "                                        MLPClassifier(max_iter=1000))]),\n",
       "             n_jobs=4,\n",
       "             param_grid={'classifier__hidden_layer_sizes': [[10], [15], [20]],\n",
       "                         'mim__k': [5, 10, 15]},\n",
       "             scoring='roc_auc')</pre></div></div></div><div class=\"sk-parallel\"><div class=\"sk-parallel-item\"><div class=\"sk-item\"><div class=\"sk-serial\"><div class=\"sk-item\"><div class=\"sk-serial\"><div class=\"sk-item sk-dashed-wrapped\"><div class=\"sk-label-container\"><div class=\"sk-label sk-toggleable\"><input class=\"sk-toggleable__control sk-hidden--visually\" id=\"06cb66d9-c0e2-4006-b3f1-eafc37d4c357\" type=\"checkbox\" ><label class=\"sk-toggleable__label\" for=\"06cb66d9-c0e2-4006-b3f1-eafc37d4c357\">preprocessor: ColumnTransformer</label><div class=\"sk-toggleable__content\"><pre>ColumnTransformer(transformers=[('num',\n",
       "                                 Pipeline(steps=[('imputer',\n",
       "                                                  SimpleImputer(strategy='median')),\n",
       "                                                 ('scaler', MinMaxScaler())]),\n",
       "                                 ['Seniority', 'Time', 'Age', 'Expenses',\n",
       "                                  'Income', 'Assets', 'Debt', 'Amount',\n",
       "                                  'Price']),\n",
       "                                ('cat',\n",
       "                                 Pipeline(steps=[('imputer',\n",
       "                                                  SimpleImputer(strategy='most_frequent')),\n",
       "                                                 ('encoder',\n",
       "                                                  OneHotEncoder(drop='first'))]),\n",
       "                                 ['Home', 'Marital', 'Records', 'Job'])])</pre></div></div></div><div class=\"sk-parallel\"><div class=\"sk-parallel-item\"><div class=\"sk-item\"><div class=\"sk-label-container\"><div class=\"sk-label sk-toggleable\"><input class=\"sk-toggleable__control sk-hidden--visually\" id=\"ba5f541f-a19d-4516-ae6c-7c388918ff63\" type=\"checkbox\" ><label class=\"sk-toggleable__label\" for=\"ba5f541f-a19d-4516-ae6c-7c388918ff63\">num</label><div class=\"sk-toggleable__content\"><pre>['Seniority', 'Time', 'Age', 'Expenses', 'Income', 'Assets', 'Debt', 'Amount', 'Price']</pre></div></div></div><div class=\"sk-serial\"><div class=\"sk-item\"><div class=\"sk-serial\"><div class=\"sk-item\"><div class=\"sk-estimator sk-toggleable\"><input class=\"sk-toggleable__control sk-hidden--visually\" id=\"cc73e140-c645-43d6-9c4a-12764e33c480\" type=\"checkbox\" ><label class=\"sk-toggleable__label\" for=\"cc73e140-c645-43d6-9c4a-12764e33c480\">SimpleImputer</label><div class=\"sk-toggleable__content\"><pre>SimpleImputer(strategy='median')</pre></div></div></div><div class=\"sk-item\"><div class=\"sk-estimator sk-toggleable\"><input class=\"sk-toggleable__control sk-hidden--visually\" id=\"8435aa79-1164-4463-a724-94488bae1173\" type=\"checkbox\" ><label class=\"sk-toggleable__label\" for=\"8435aa79-1164-4463-a724-94488bae1173\">MinMaxScaler</label><div class=\"sk-toggleable__content\"><pre>MinMaxScaler()</pre></div></div></div></div></div></div></div></div><div class=\"sk-parallel-item\"><div class=\"sk-item\"><div class=\"sk-label-container\"><div class=\"sk-label sk-toggleable\"><input class=\"sk-toggleable__control sk-hidden--visually\" id=\"09392329-4a7a-48ee-a553-f511ff26d7eb\" type=\"checkbox\" ><label class=\"sk-toggleable__label\" for=\"09392329-4a7a-48ee-a553-f511ff26d7eb\">cat</label><div class=\"sk-toggleable__content\"><pre>['Home', 'Marital', 'Records', 'Job']</pre></div></div></div><div class=\"sk-serial\"><div class=\"sk-item\"><div class=\"sk-serial\"><div class=\"sk-item\"><div class=\"sk-estimator sk-toggleable\"><input class=\"sk-toggleable__control sk-hidden--visually\" id=\"4cb7e14e-f3e6-4913-ab2d-33495e1d8094\" type=\"checkbox\" ><label class=\"sk-toggleable__label\" for=\"4cb7e14e-f3e6-4913-ab2d-33495e1d8094\">SimpleImputer</label><div class=\"sk-toggleable__content\"><pre>SimpleImputer(strategy='most_frequent')</pre></div></div></div><div class=\"sk-item\"><div class=\"sk-estimator sk-toggleable\"><input class=\"sk-toggleable__control sk-hidden--visually\" id=\"8f81b5e1-14fc-4d3f-81a3-8341991b05eb\" type=\"checkbox\" ><label class=\"sk-toggleable__label\" for=\"8f81b5e1-14fc-4d3f-81a3-8341991b05eb\">OneHotEncoder</label><div class=\"sk-toggleable__content\"><pre>OneHotEncoder(drop='first')</pre></div></div></div></div></div></div></div></div></div></div><div class=\"sk-item\"><div class=\"sk-estimator sk-toggleable\"><input class=\"sk-toggleable__control sk-hidden--visually\" id=\"ed6d5c9f-9d02-41c6-a344-6d7cda1dcaaa\" type=\"checkbox\" ><label class=\"sk-toggleable__label\" for=\"ed6d5c9f-9d02-41c6-a344-6d7cda1dcaaa\">SelectKBest</label><div class=\"sk-toggleable__content\"><pre>SelectKBest(score_func=<function mutual_info_classif at 0x15a24baf0>)</pre></div></div></div><div class=\"sk-item\"><div class=\"sk-estimator sk-toggleable\"><input class=\"sk-toggleable__control sk-hidden--visually\" id=\"a4b337bf-5043-4cb3-b265-ef6cade04eac\" type=\"checkbox\" ><label class=\"sk-toggleable__label\" for=\"a4b337bf-5043-4cb3-b265-ef6cade04eac\">MLPClassifier</label><div class=\"sk-toggleable__content\"><pre>MLPClassifier(max_iter=1000)</pre></div></div></div></div></div></div></div></div></div></div></div></div>"
      ],
      "text/plain": [
       "GridSearchCV(cv=5,\n",
       "             estimator=Pipeline(steps=[('preprocessor',\n",
       "                                        ColumnTransformer(transformers=[('num',\n",
       "                                                                         Pipeline(steps=[('imputer',\n",
       "                                                                                          SimpleImputer(strategy='median')),\n",
       "                                                                                         ('scaler',\n",
       "                                                                                          MinMaxScaler())]),\n",
       "                                                                         ['Seniority',\n",
       "                                                                          'Time',\n",
       "                                                                          'Age',\n",
       "                                                                          'Expenses',\n",
       "                                                                          'Income',\n",
       "                                                                          'Assets',\n",
       "                                                                          'Debt',\n",
       "                                                                          'Amount',\n",
       "                                                                          'Price']),\n",
       "                                                                        ('cat',\n",
       "                                                                         Pipeline(steps=[('imputer',\n",
       "                                                                                          SimpleImputer(strategy='most_frequent')),\n",
       "                                                                                         ('encoder',\n",
       "                                                                                          OneHotEncoder(drop='first'))]),\n",
       "                                                                         ['Home',\n",
       "                                                                          'Marital',\n",
       "                                                                          'Records',\n",
       "                                                                          'Job'])])),\n",
       "                                       ('mim',\n",
       "                                        SelectKBest(score_func=<function mutual_info_classif at 0x15a24baf0>)),\n",
       "                                       ('classifier',\n",
       "                                        MLPClassifier(max_iter=1000))]),\n",
       "             n_jobs=4,\n",
       "             param_grid={'classifier__hidden_layer_sizes': [[10], [15], [20]],\n",
       "                         'mim__k': [5, 10, 15]},\n",
       "             scoring='roc_auc')"
      ]
     },
     "execution_count": 59,
     "metadata": {},
     "output_type": "execute_result"
    }
   ],
   "source": [
    "param_grid = {'classifier__hidden_layer_sizes': [[10], [15], [20]],\n",
    "             'mim__k': [5, 10, 15]}\n",
    "\n",
    "credit_nn_tuned = GridSearchCV(nn_credit, param_grid, \n",
    "                               scoring='roc_auc', cv=5, n_jobs=4)\n",
    "credit_nn_tuned"
   ]
  },
  {
   "cell_type": "code",
   "execution_count": 60,
   "metadata": {},
   "outputs": [
    {
     "data": {
      "text/plain": [
       "{'classifier__hidden_layer_sizes': [[10], [15], [20]], 'mim__k': [5, 10, 15]}"
      ]
     },
     "execution_count": 60,
     "metadata": {},
     "output_type": "execute_result"
    }
   ],
   "source": [
    "param_grid"
   ]
  },
  {
   "cell_type": "markdown",
   "metadata": {},
   "source": [
    "And run the tuning:"
   ]
  },
  {
   "cell_type": "code",
   "execution_count": 61,
   "metadata": {},
   "outputs": [],
   "source": [
    "%%capture --no-stdout\n",
    "credit_nn_tuned.fit(X, y)"
   ]
  },
  {
   "cell_type": "code",
   "execution_count": 62,
   "metadata": {},
   "outputs": [
    {
     "name": "stdout",
     "output_type": "stream",
     "text": [
      "Best params:\n",
      "{'classifier__hidden_layer_sizes': [20], 'mim__k': 15}\n",
      "0.8238953486055778\n"
     ]
    }
   ],
   "source": [
    "print(f\"Best params:\")\n",
    "print(credit_nn_tuned.best_params_)\n",
    "print(credit_nn_tuned.best_score_)"
   ]
  },
  {
   "cell_type": "markdown",
   "metadata": {},
   "source": [
    "### PCA transformation\n",
    "\n",
    "For a final example, we'll look at a different feature selection strategy. Rather than selecting out original features, we'll use a PCA transformation to create new features. These are based on the original features, but a) are uncorrelated and b) try to maximize the amount of information contained in each one. Ideally, we should be able to select a small number of these that still represent most of the signal in the features.\n",
    "\n",
    "To do this, we'll recreate our pipeline with a new operator that will carry out the PCA transformation (`pca`). We also add a new filter that selects the set of new features based on the proportion of the original variation in the dataset that they explain (we'll start by choosing the set that explain >50%).\n"
   ]
  },
  {
   "cell_type": "code",
   "execution_count": 63,
   "metadata": {},
   "outputs": [
    {
     "data": {
      "text/html": [
       "<style>div.sk-top-container {color: black;background-color: white;}div.sk-toggleable {background-color: white;}label.sk-toggleable__label {cursor: pointer;display: block;width: 100%;margin-bottom: 0;padding: 0.2em 0.3em;box-sizing: border-box;text-align: center;}div.sk-toggleable__content {max-height: 0;max-width: 0;overflow: hidden;text-align: left;background-color: #f0f8ff;}div.sk-toggleable__content pre {margin: 0.2em;color: black;border-radius: 0.25em;background-color: #f0f8ff;}input.sk-toggleable__control:checked~div.sk-toggleable__content {max-height: 200px;max-width: 100%;overflow: auto;}div.sk-estimator input.sk-toggleable__control:checked~label.sk-toggleable__label {background-color: #d4ebff;}div.sk-label input.sk-toggleable__control:checked~label.sk-toggleable__label {background-color: #d4ebff;}input.sk-hidden--visually {border: 0;clip: rect(1px 1px 1px 1px);clip: rect(1px, 1px, 1px, 1px);height: 1px;margin: -1px;overflow: hidden;padding: 0;position: absolute;width: 1px;}div.sk-estimator {font-family: monospace;background-color: #f0f8ff;margin: 0.25em 0.25em;border: 1px dotted black;border-radius: 0.25em;box-sizing: border-box;}div.sk-estimator:hover {background-color: #d4ebff;}div.sk-parallel-item::after {content: \"\";width: 100%;border-bottom: 1px solid gray;flex-grow: 1;}div.sk-label:hover label.sk-toggleable__label {background-color: #d4ebff;}div.sk-serial::before {content: \"\";position: absolute;border-left: 1px solid gray;box-sizing: border-box;top: 2em;bottom: 0;left: 50%;}div.sk-serial {display: flex;flex-direction: column;align-items: center;background-color: white;}div.sk-item {z-index: 1;}div.sk-parallel {display: flex;align-items: stretch;justify-content: center;background-color: white;}div.sk-parallel-item {display: flex;flex-direction: column;position: relative;background-color: white;}div.sk-parallel-item:first-child::after {align-self: flex-end;width: 50%;}div.sk-parallel-item:last-child::after {align-self: flex-start;width: 50%;}div.sk-parallel-item:only-child::after {width: 0;}div.sk-dashed-wrapped {border: 1px dashed gray;margin: 0.2em;box-sizing: border-box;padding-bottom: 0.1em;background-color: white;position: relative;}div.sk-label label {font-family: monospace;font-weight: bold;background-color: white;display: inline-block;line-height: 1.2em;}div.sk-label-container {position: relative;z-index: 2;text-align: center;}div.sk-container {display: inline-block;position: relative;}</style><div class=\"sk-top-container\"><div class=\"sk-container\"><div class=\"sk-item sk-dashed-wrapped\"><div class=\"sk-label-container\"><div class=\"sk-label sk-toggleable\"><input class=\"sk-toggleable__control sk-hidden--visually\" id=\"0422553c-77fc-4999-b2c1-d037c5084da7\" type=\"checkbox\" ><label class=\"sk-toggleable__label\" for=\"0422553c-77fc-4999-b2c1-d037c5084da7\">Pipeline</label><div class=\"sk-toggleable__content\"><pre>Pipeline(steps=[('preprocessor',\n",
       "                 ColumnTransformer(transformers=[('num',\n",
       "                                                  Pipeline(steps=[('imputer',\n",
       "                                                                   SimpleImputer(strategy='median')),\n",
       "                                                                  ('scaler',\n",
       "                                                                   MinMaxScaler())]),\n",
       "                                                  ['Seniority', 'Time', 'Age',\n",
       "                                                   'Expenses', 'Income',\n",
       "                                                   'Assets', 'Debt', 'Amount',\n",
       "                                                   'Price']),\n",
       "                                                 ('cat',\n",
       "                                                  Pipeline(steps=[('imputer',\n",
       "                                                                   SimpleImputer(strategy='most_frequent')),\n",
       "                                                                  ('encoder',\n",
       "                                                                   OneHotEncoder(drop='first'))]),\n",
       "                                                  ['Home', 'Marital', 'Records',\n",
       "                                                   'Job'])])),\n",
       "                ('pca', PCA(n_components=0.5))])</pre></div></div></div><div class=\"sk-serial\"><div class=\"sk-item sk-dashed-wrapped\"><div class=\"sk-label-container\"><div class=\"sk-label sk-toggleable\"><input class=\"sk-toggleable__control sk-hidden--visually\" id=\"55841e0f-0c2c-485b-9f2b-4af8e0119796\" type=\"checkbox\" ><label class=\"sk-toggleable__label\" for=\"55841e0f-0c2c-485b-9f2b-4af8e0119796\">preprocessor: ColumnTransformer</label><div class=\"sk-toggleable__content\"><pre>ColumnTransformer(transformers=[('num',\n",
       "                                 Pipeline(steps=[('imputer',\n",
       "                                                  SimpleImputer(strategy='median')),\n",
       "                                                 ('scaler', MinMaxScaler())]),\n",
       "                                 ['Seniority', 'Time', 'Age', 'Expenses',\n",
       "                                  'Income', 'Assets', 'Debt', 'Amount',\n",
       "                                  'Price']),\n",
       "                                ('cat',\n",
       "                                 Pipeline(steps=[('imputer',\n",
       "                                                  SimpleImputer(strategy='most_frequent')),\n",
       "                                                 ('encoder',\n",
       "                                                  OneHotEncoder(drop='first'))]),\n",
       "                                 ['Home', 'Marital', 'Records', 'Job'])])</pre></div></div></div><div class=\"sk-parallel\"><div class=\"sk-parallel-item\"><div class=\"sk-item\"><div class=\"sk-label-container\"><div class=\"sk-label sk-toggleable\"><input class=\"sk-toggleable__control sk-hidden--visually\" id=\"97b07b96-c699-4096-a470-d07746c0fe5f\" type=\"checkbox\" ><label class=\"sk-toggleable__label\" for=\"97b07b96-c699-4096-a470-d07746c0fe5f\">num</label><div class=\"sk-toggleable__content\"><pre>['Seniority', 'Time', 'Age', 'Expenses', 'Income', 'Assets', 'Debt', 'Amount', 'Price']</pre></div></div></div><div class=\"sk-serial\"><div class=\"sk-item\"><div class=\"sk-serial\"><div class=\"sk-item\"><div class=\"sk-estimator sk-toggleable\"><input class=\"sk-toggleable__control sk-hidden--visually\" id=\"e346a52d-de05-4ed4-983f-788aff13e192\" type=\"checkbox\" ><label class=\"sk-toggleable__label\" for=\"e346a52d-de05-4ed4-983f-788aff13e192\">SimpleImputer</label><div class=\"sk-toggleable__content\"><pre>SimpleImputer(strategy='median')</pre></div></div></div><div class=\"sk-item\"><div class=\"sk-estimator sk-toggleable\"><input class=\"sk-toggleable__control sk-hidden--visually\" id=\"d0702907-4a2f-49cb-af84-230bf87833d4\" type=\"checkbox\" ><label class=\"sk-toggleable__label\" for=\"d0702907-4a2f-49cb-af84-230bf87833d4\">MinMaxScaler</label><div class=\"sk-toggleable__content\"><pre>MinMaxScaler()</pre></div></div></div></div></div></div></div></div><div class=\"sk-parallel-item\"><div class=\"sk-item\"><div class=\"sk-label-container\"><div class=\"sk-label sk-toggleable\"><input class=\"sk-toggleable__control sk-hidden--visually\" id=\"e5786cf2-18ae-44a6-881f-3c548bbbbfd9\" type=\"checkbox\" ><label class=\"sk-toggleable__label\" for=\"e5786cf2-18ae-44a6-881f-3c548bbbbfd9\">cat</label><div class=\"sk-toggleable__content\"><pre>['Home', 'Marital', 'Records', 'Job']</pre></div></div></div><div class=\"sk-serial\"><div class=\"sk-item\"><div class=\"sk-serial\"><div class=\"sk-item\"><div class=\"sk-estimator sk-toggleable\"><input class=\"sk-toggleable__control sk-hidden--visually\" id=\"6a58e247-7ca8-4537-8b3d-41474d9daf6e\" type=\"checkbox\" ><label class=\"sk-toggleable__label\" for=\"6a58e247-7ca8-4537-8b3d-41474d9daf6e\">SimpleImputer</label><div class=\"sk-toggleable__content\"><pre>SimpleImputer(strategy='most_frequent')</pre></div></div></div><div class=\"sk-item\"><div class=\"sk-estimator sk-toggleable\"><input class=\"sk-toggleable__control sk-hidden--visually\" id=\"1d466f4b-74d5-449f-9d55-515b54cc0ca1\" type=\"checkbox\" ><label class=\"sk-toggleable__label\" for=\"1d466f4b-74d5-449f-9d55-515b54cc0ca1\">OneHotEncoder</label><div class=\"sk-toggleable__content\"><pre>OneHotEncoder(drop='first')</pre></div></div></div></div></div></div></div></div></div></div><div class=\"sk-item\"><div class=\"sk-estimator sk-toggleable\"><input class=\"sk-toggleable__control sk-hidden--visually\" id=\"66f10d1f-a23b-4e5f-ab3f-803844ba8c35\" type=\"checkbox\" ><label class=\"sk-toggleable__label\" for=\"66f10d1f-a23b-4e5f-ab3f-803844ba8c35\">PCA</label><div class=\"sk-toggleable__content\"><pre>PCA(n_components=0.5)</pre></div></div></div></div></div></div></div>"
      ],
      "text/plain": [
       "Pipeline(steps=[('preprocessor',\n",
       "                 ColumnTransformer(transformers=[('num',\n",
       "                                                  Pipeline(steps=[('imputer',\n",
       "                                                                   SimpleImputer(strategy='median')),\n",
       "                                                                  ('scaler',\n",
       "                                                                   MinMaxScaler())]),\n",
       "                                                  ['Seniority', 'Time', 'Age',\n",
       "                                                   'Expenses', 'Income',\n",
       "                                                   'Assets', 'Debt', 'Amount',\n",
       "                                                   'Price']),\n",
       "                                                 ('cat',\n",
       "                                                  Pipeline(steps=[('imputer',\n",
       "                                                                   SimpleImputer(strategy='most_frequent')),\n",
       "                                                                  ('encoder',\n",
       "                                                                   OneHotEncoder(drop='first'))]),\n",
       "                                                  ['Home', 'Marital', 'Records',\n",
       "                                                   'Job'])])),\n",
       "                ('pca', PCA(n_components=0.5))])"
      ]
     },
     "execution_count": 63,
     "metadata": {},
     "output_type": "execute_result"
    }
   ],
   "source": [
    "from sklearn.decomposition import PCA\n",
    "nn_credit = Pipeline(steps=[('preprocessor', preprocessor),\n",
    "                            ('pca', PCA(n_components = 0.5)\n",
    "                            )])\n",
    "nn_credit"
   ]
  },
  {
   "cell_type": "markdown",
   "metadata": {},
   "source": [
    "If we `fit` this to our data, you'll that this returns just three new features. This is the 1st, 2nd and 3rd PC, and these could then be used as input features to the neural network (or any other algorithm)."
   ]
  },
  {
   "cell_type": "code",
   "execution_count": 64,
   "metadata": {},
   "outputs": [
    {
     "data": {
      "text/plain": [
       "array([[-0.08389405,  0.93255372,  0.68336541],\n",
       "       [ 0.47187127,  0.65092987, -0.1051408 ],\n",
       "       [-0.79090489, -0.20694752,  0.8723634 ],\n",
       "       ...,\n",
       "       [-0.4702979 , -0.30145424, -0.50129179],\n",
       "       [ 0.99785998,  0.33168092,  0.86230522],\n",
       "       [-0.6897555 , -0.32020941,  0.57742967]])"
      ]
     },
     "execution_count": 64,
     "metadata": {},
     "output_type": "execute_result"
    }
   ],
   "source": [
    "nn_credit.fit_transform(X)"
   ]
  },
  {
   "cell_type": "markdown",
   "metadata": {},
   "source": [
    "Again, we don't know if this is a best number of the new features to retain. We can test this by tuning this parameter (`n_components`). As before, we'll remake the full pipeline with the neural network, create a parameter grid and fit this"
   ]
  },
  {
   "cell_type": "code",
   "execution_count": 65,
   "metadata": {},
   "outputs": [],
   "source": [
    "nn_credit = Pipeline(steps=[('preprocessor', preprocessor),\n",
    "                            ('pca', PCA()),\n",
    "                            ('classifier', MLPClassifier(max_iter = 1000))\n",
    "                            ])"
   ]
  },
  {
   "cell_type": "code",
   "execution_count": 66,
   "metadata": {},
   "outputs": [
    {
     "data": {
      "text/html": [
       "<style>div.sk-top-container {color: black;background-color: white;}div.sk-toggleable {background-color: white;}label.sk-toggleable__label {cursor: pointer;display: block;width: 100%;margin-bottom: 0;padding: 0.2em 0.3em;box-sizing: border-box;text-align: center;}div.sk-toggleable__content {max-height: 0;max-width: 0;overflow: hidden;text-align: left;background-color: #f0f8ff;}div.sk-toggleable__content pre {margin: 0.2em;color: black;border-radius: 0.25em;background-color: #f0f8ff;}input.sk-toggleable__control:checked~div.sk-toggleable__content {max-height: 200px;max-width: 100%;overflow: auto;}div.sk-estimator input.sk-toggleable__control:checked~label.sk-toggleable__label {background-color: #d4ebff;}div.sk-label input.sk-toggleable__control:checked~label.sk-toggleable__label {background-color: #d4ebff;}input.sk-hidden--visually {border: 0;clip: rect(1px 1px 1px 1px);clip: rect(1px, 1px, 1px, 1px);height: 1px;margin: -1px;overflow: hidden;padding: 0;position: absolute;width: 1px;}div.sk-estimator {font-family: monospace;background-color: #f0f8ff;margin: 0.25em 0.25em;border: 1px dotted black;border-radius: 0.25em;box-sizing: border-box;}div.sk-estimator:hover {background-color: #d4ebff;}div.sk-parallel-item::after {content: \"\";width: 100%;border-bottom: 1px solid gray;flex-grow: 1;}div.sk-label:hover label.sk-toggleable__label {background-color: #d4ebff;}div.sk-serial::before {content: \"\";position: absolute;border-left: 1px solid gray;box-sizing: border-box;top: 2em;bottom: 0;left: 50%;}div.sk-serial {display: flex;flex-direction: column;align-items: center;background-color: white;}div.sk-item {z-index: 1;}div.sk-parallel {display: flex;align-items: stretch;justify-content: center;background-color: white;}div.sk-parallel-item {display: flex;flex-direction: column;position: relative;background-color: white;}div.sk-parallel-item:first-child::after {align-self: flex-end;width: 50%;}div.sk-parallel-item:last-child::after {align-self: flex-start;width: 50%;}div.sk-parallel-item:only-child::after {width: 0;}div.sk-dashed-wrapped {border: 1px dashed gray;margin: 0.2em;box-sizing: border-box;padding-bottom: 0.1em;background-color: white;position: relative;}div.sk-label label {font-family: monospace;font-weight: bold;background-color: white;display: inline-block;line-height: 1.2em;}div.sk-label-container {position: relative;z-index: 2;text-align: center;}div.sk-container {display: inline-block;position: relative;}</style><div class=\"sk-top-container\"><div class=\"sk-container\"><div class=\"sk-item sk-dashed-wrapped\"><div class=\"sk-label-container\"><div class=\"sk-label sk-toggleable\"><input class=\"sk-toggleable__control sk-hidden--visually\" id=\"76db3034-e464-46d8-b5a5-76d7be520a91\" type=\"checkbox\" ><label class=\"sk-toggleable__label\" for=\"76db3034-e464-46d8-b5a5-76d7be520a91\">GridSearchCV</label><div class=\"sk-toggleable__content\"><pre>GridSearchCV(cv=5,\n",
       "             estimator=Pipeline(steps=[('preprocessor',\n",
       "                                        ColumnTransformer(transformers=[('num',\n",
       "                                                                         Pipeline(steps=[('imputer',\n",
       "                                                                                          SimpleImputer(strategy='median')),\n",
       "                                                                                         ('scaler',\n",
       "                                                                                          MinMaxScaler())]),\n",
       "                                                                         ['Seniority',\n",
       "                                                                          'Time',\n",
       "                                                                          'Age',\n",
       "                                                                          'Expenses',\n",
       "                                                                          'Income',\n",
       "                                                                          'Assets',\n",
       "                                                                          'Debt',\n",
       "                                                                          'Amount',\n",
       "                                                                          'Price']),\n",
       "                                                                        ('cat',\n",
       "                                                                         Pipeline(steps=[('imputer',\n",
       "                                                                                          SimpleImputer(strategy='most_frequent')),\n",
       "                                                                                         ('encoder',\n",
       "                                                                                          OneHotEncoder(drop='first'))]),\n",
       "                                                                         ['Home',\n",
       "                                                                          'Marital',\n",
       "                                                                          'Records',\n",
       "                                                                          'Job'])])),\n",
       "                                       ('pca', PCA()),\n",
       "                                       ('classifier',\n",
       "                                        MLPClassifier(max_iter=1000))]),\n",
       "             n_jobs=4,\n",
       "             param_grid={'classifier__hidden_layer_sizes': [[10], [15], [20]],\n",
       "                         'pca__n_components': [0.5, 0.75, 0.9]},\n",
       "             scoring='roc_auc')</pre></div></div></div><div class=\"sk-parallel\"><div class=\"sk-parallel-item\"><div class=\"sk-item\"><div class=\"sk-serial\"><div class=\"sk-item\"><div class=\"sk-serial\"><div class=\"sk-item sk-dashed-wrapped\"><div class=\"sk-label-container\"><div class=\"sk-label sk-toggleable\"><input class=\"sk-toggleable__control sk-hidden--visually\" id=\"35601a1c-578c-4165-8470-0c276f217da7\" type=\"checkbox\" ><label class=\"sk-toggleable__label\" for=\"35601a1c-578c-4165-8470-0c276f217da7\">preprocessor: ColumnTransformer</label><div class=\"sk-toggleable__content\"><pre>ColumnTransformer(transformers=[('num',\n",
       "                                 Pipeline(steps=[('imputer',\n",
       "                                                  SimpleImputer(strategy='median')),\n",
       "                                                 ('scaler', MinMaxScaler())]),\n",
       "                                 ['Seniority', 'Time', 'Age', 'Expenses',\n",
       "                                  'Income', 'Assets', 'Debt', 'Amount',\n",
       "                                  'Price']),\n",
       "                                ('cat',\n",
       "                                 Pipeline(steps=[('imputer',\n",
       "                                                  SimpleImputer(strategy='most_frequent')),\n",
       "                                                 ('encoder',\n",
       "                                                  OneHotEncoder(drop='first'))]),\n",
       "                                 ['Home', 'Marital', 'Records', 'Job'])])</pre></div></div></div><div class=\"sk-parallel\"><div class=\"sk-parallel-item\"><div class=\"sk-item\"><div class=\"sk-label-container\"><div class=\"sk-label sk-toggleable\"><input class=\"sk-toggleable__control sk-hidden--visually\" id=\"07cdd556-fa2d-4375-8c39-a71da59a0f44\" type=\"checkbox\" ><label class=\"sk-toggleable__label\" for=\"07cdd556-fa2d-4375-8c39-a71da59a0f44\">num</label><div class=\"sk-toggleable__content\"><pre>['Seniority', 'Time', 'Age', 'Expenses', 'Income', 'Assets', 'Debt', 'Amount', 'Price']</pre></div></div></div><div class=\"sk-serial\"><div class=\"sk-item\"><div class=\"sk-serial\"><div class=\"sk-item\"><div class=\"sk-estimator sk-toggleable\"><input class=\"sk-toggleable__control sk-hidden--visually\" id=\"e6b9aa5c-8577-427f-a496-8692ee597929\" type=\"checkbox\" ><label class=\"sk-toggleable__label\" for=\"e6b9aa5c-8577-427f-a496-8692ee597929\">SimpleImputer</label><div class=\"sk-toggleable__content\"><pre>SimpleImputer(strategy='median')</pre></div></div></div><div class=\"sk-item\"><div class=\"sk-estimator sk-toggleable\"><input class=\"sk-toggleable__control sk-hidden--visually\" id=\"caf67b37-0618-4139-8add-6f443c1a1624\" type=\"checkbox\" ><label class=\"sk-toggleable__label\" for=\"caf67b37-0618-4139-8add-6f443c1a1624\">MinMaxScaler</label><div class=\"sk-toggleable__content\"><pre>MinMaxScaler()</pre></div></div></div></div></div></div></div></div><div class=\"sk-parallel-item\"><div class=\"sk-item\"><div class=\"sk-label-container\"><div class=\"sk-label sk-toggleable\"><input class=\"sk-toggleable__control sk-hidden--visually\" id=\"c918abb4-35d3-45de-bf34-6ff82d4efbe0\" type=\"checkbox\" ><label class=\"sk-toggleable__label\" for=\"c918abb4-35d3-45de-bf34-6ff82d4efbe0\">cat</label><div class=\"sk-toggleable__content\"><pre>['Home', 'Marital', 'Records', 'Job']</pre></div></div></div><div class=\"sk-serial\"><div class=\"sk-item\"><div class=\"sk-serial\"><div class=\"sk-item\"><div class=\"sk-estimator sk-toggleable\"><input class=\"sk-toggleable__control sk-hidden--visually\" id=\"edb0d65c-f582-40f1-bce1-fcd123aaa83f\" type=\"checkbox\" ><label class=\"sk-toggleable__label\" for=\"edb0d65c-f582-40f1-bce1-fcd123aaa83f\">SimpleImputer</label><div class=\"sk-toggleable__content\"><pre>SimpleImputer(strategy='most_frequent')</pre></div></div></div><div class=\"sk-item\"><div class=\"sk-estimator sk-toggleable\"><input class=\"sk-toggleable__control sk-hidden--visually\" id=\"681ab328-4e4c-456b-975d-64166195b2a5\" type=\"checkbox\" ><label class=\"sk-toggleable__label\" for=\"681ab328-4e4c-456b-975d-64166195b2a5\">OneHotEncoder</label><div class=\"sk-toggleable__content\"><pre>OneHotEncoder(drop='first')</pre></div></div></div></div></div></div></div></div></div></div><div class=\"sk-item\"><div class=\"sk-estimator sk-toggleable\"><input class=\"sk-toggleable__control sk-hidden--visually\" id=\"63ee40cc-82b0-4e73-8954-a1e8d81a591a\" type=\"checkbox\" ><label class=\"sk-toggleable__label\" for=\"63ee40cc-82b0-4e73-8954-a1e8d81a591a\">PCA</label><div class=\"sk-toggleable__content\"><pre>PCA()</pre></div></div></div><div class=\"sk-item\"><div class=\"sk-estimator sk-toggleable\"><input class=\"sk-toggleable__control sk-hidden--visually\" id=\"de4c52e4-5eb9-49a1-8b06-1b061b34efbe\" type=\"checkbox\" ><label class=\"sk-toggleable__label\" for=\"de4c52e4-5eb9-49a1-8b06-1b061b34efbe\">MLPClassifier</label><div class=\"sk-toggleable__content\"><pre>MLPClassifier(max_iter=1000)</pre></div></div></div></div></div></div></div></div></div></div></div></div>"
      ],
      "text/plain": [
       "GridSearchCV(cv=5,\n",
       "             estimator=Pipeline(steps=[('preprocessor',\n",
       "                                        ColumnTransformer(transformers=[('num',\n",
       "                                                                         Pipeline(steps=[('imputer',\n",
       "                                                                                          SimpleImputer(strategy='median')),\n",
       "                                                                                         ('scaler',\n",
       "                                                                                          MinMaxScaler())]),\n",
       "                                                                         ['Seniority',\n",
       "                                                                          'Time',\n",
       "                                                                          'Age',\n",
       "                                                                          'Expenses',\n",
       "                                                                          'Income',\n",
       "                                                                          'Assets',\n",
       "                                                                          'Debt',\n",
       "                                                                          'Amount',\n",
       "                                                                          'Price']),\n",
       "                                                                        ('cat',\n",
       "                                                                         Pipeline(steps=[('imputer',\n",
       "                                                                                          SimpleImputer(strategy='most_frequent')),\n",
       "                                                                                         ('encoder',\n",
       "                                                                                          OneHotEncoder(drop='first'))]),\n",
       "                                                                         ['Home',\n",
       "                                                                          'Marital',\n",
       "                                                                          'Records',\n",
       "                                                                          'Job'])])),\n",
       "                                       ('pca', PCA()),\n",
       "                                       ('classifier',\n",
       "                                        MLPClassifier(max_iter=1000))]),\n",
       "             n_jobs=4,\n",
       "             param_grid={'classifier__hidden_layer_sizes': [[10], [15], [20]],\n",
       "                         'pca__n_components': [0.5, 0.75, 0.9]},\n",
       "             scoring='roc_auc')"
      ]
     },
     "execution_count": 66,
     "metadata": {},
     "output_type": "execute_result"
    }
   ],
   "source": [
    "param_grid = {'classifier__hidden_layer_sizes': [[10], [15], [20]],\n",
    "             'pca__n_components': [0.5, 0.75, 0.9]}\n",
    "credit_nn_tuned = GridSearchCV(nn_credit, param_grid, \n",
    "                               scoring='roc_auc', cv=5, n_jobs=4)\n",
    "credit_nn_tuned"
   ]
  },
  {
   "cell_type": "code",
   "execution_count": 67,
   "metadata": {},
   "outputs": [],
   "source": [
    "%%capture --no-stdout\n",
    "credit_nn_tuned.fit(X, y)"
   ]
  },
  {
   "cell_type": "code",
   "execution_count": 68,
   "metadata": {},
   "outputs": [
    {
     "name": "stdout",
     "output_type": "stream",
     "text": [
      "Best params:\n",
      "{'classifier__hidden_layer_sizes': [10], 'pca__n_components': 0.9}\n",
      "0.7716097908366534\n"
     ]
    }
   ],
   "source": [
    "print(f\"Best params:\")\n",
    "print(credit_nn_tuned.best_params_)\n",
    "print(credit_nn_tuned.best_score_)"
   ]
  },
  {
   "cell_type": "markdown",
   "metadata": {},
   "source": [
    "## Exercise (NEEDS EDITING)\n",
    "\n",
    "For the exercise we will once again use the data from the *Sonar.csv* file to model types of object (rocks 'R' or mines 'M') using the values of a set of frequency bands. The goal of the exercise is to build the best predictive neural network for predicting these data. You should use the **scikit-learn** framework to setup, train and test your model. You will need to choose a cross-validation strategy and calculate the AUC to assess the model. \n",
    "\n",
    "As the data has a large number of features, you should build a pipeline to reduce the number of features using one of the two filter examples (mutual information or PCA) from the lab. Note that there are no categorical features so you can skip those steps. You should then tune both the filter and the size of the hidden layer in the network.\n",
    "\n",
    "Your answer should consist of the following\n",
    "\n",
    "- A description of your pipeline (this can include a figure showing the steps)\n",
    "- The values you obtained for the number of features and the size of the hidden layer through tuning\n",
    "- The cross-validated AUC\n",
    "\n",
    "You should also provide your full Python code, either as a notebook or a screenshot "
   ]
  },
  {
   "cell_type": "markdown",
   "metadata": {},
   "source": [
    "## Appendix\n",
    "\n",
    "### Cereal data set\n",
    "\n",
    "From https://www.kaggle.com/crawford/80-cereals\n",
    "\n",
    "|    | Column name | Feature                | \n",
    "|----|-------------|------------------------|\n",
    "| 1  | `Name`      | Name of cereal          |\n",
    "| 2  | `mfr`       | Manufacturer of cereal  |\n",
    "|    |             | A = American Home Food Products |\n",
    "|    |             | G = General Mills |\n",
    "|    |             | K = Kelloggs |\n",
    "|    |             | N = Nabisco |\n",
    "|    |             | P = Post |\n",
    "|    |             | Q = Quaker Oats |\n",
    "|    |             | R = Ralston Purina |\n",
    "| 3  | `type`      | cold or hot |\n",
    "| 4  | `calories`  | calories per serving |\n",
    "| 5  | `protein`   | grams of protein          |\n",
    "| 6  | `fat`       | grams of fat         |\n",
    "| 7  | `sodium`    | milligrams of sodium   |\n",
    "| 8  | `fiber`     | grams of dietary fiber           |\n",
    "| 9  | `carbo`     | grams of complex carbohydrates   |\n",
    "| 10 | `sugars`    | grams of sugars       |\n",
    "| 11 | `potass`    | milligrams of potassium       |\n",
    "| 12 | `vitamins`  | vitamins and minerals - 0, 25, or 100,          |\n",
    "|    |             | indicating the typical percentage of FDA recommended         |\n",
    "| 13 | `shelf`     | display shelf (1, 2, or 3, counting from the floor) |\n",
    "| 14 | `weight`    | weight in ounces of one serving         |\n",
    "| 15 | `cups`      | number of cups in one serving          |\n",
    "| 16 | `rating`    | a rating of the cereals          |\n",
    "\n",
    "### Credit data set \n",
    "\n",
    "From https://github.com/gastonstat/CreditScoring\n",
    "\n",
    "|    | Column name | Feature                | \n",
    "|----|-------------|------------------------|\n",
    "| 1  | `Status`    | credit status          |\n",
    "| 2  | `Seniority` | job seniority (years)  |\n",
    "| 3  | `Home`      | type of home ownership |\n",
    "| 4  | `Time`      | time of requested loan |\n",
    "| 5  | `Age`       | client's age           |\n",
    "| 6  | `Marital`   | marital status         |\n",
    "| 7  | `Records`   | existence of records   |\n",
    "| 8  | `Job`       | type of job            |\n",
    "| 9  | `Expenses`  | amount of expenses     |\n",
    "| 10 | `Income`    | amount of income       |\n",
    "| 11 | `Assets`    | amount of assets       |\n",
    "| 12 | `Debt`      | amount of debt         |\n",
    "| 13 | `Amount`    | loan amount requested  |\n",
    "| 14 | `Price`     | price of good          |\n",
    "\n"
   ]
  }
 ],
 "metadata": {
  "kernelspec": {
   "display_name": "Python 3 (ipykernel)",
   "language": "python",
   "name": "python3"
  },
  "language_info": {
   "codemirror_mode": {
    "name": "ipython",
    "version": 3
   },
   "file_extension": ".py",
   "mimetype": "text/x-python",
   "name": "python",
   "nbconvert_exporter": "python",
   "pygments_lexer": "ipython3",
   "version": "3.10.9"
  }
 },
 "nbformat": 4,
 "nbformat_minor": 2
}
