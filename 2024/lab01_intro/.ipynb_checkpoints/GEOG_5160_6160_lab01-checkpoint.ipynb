{
 "cells": [
  {
   "cell_type": "markdown",
   "metadata": {},
   "source": [
    "# GEOG 5160 6160 Lab 01\n",
    "\n",
    "This lab provides a brief overview of using pandas and Python for data manipulation. Some examples and the introduction are taken from https://ourcodingclub.github.io"
   ]
  },
  {
   "cell_type": "markdown",
   "metadata": {},
   "source": [
    "`pandas` is a hugely popular, and still growing, Python library used across a range of disciplines from environmental and climate science, through to social science, linguistics, biology, as well as a number of applications in industry such as data analytics, financial trading, and many others. \n",
    "\n",
    "`pandas` is designed to help you deal with a whole set of tasks necessary for data analysis and manipulation. It simplifies the loading of data from external sources such as text files and databases, as well as providing ways of analyzing and manipulating data once it is loaded into your computer. The features provided in `pandas` automate and simplify a lot of the common tasks that would take many lines of code to write in the basic Python language. \n",
    "\n",
    "If you have used R’s dataframes before, or the `numpy` package in Python, you may find some similarities in the Python `pandas` package. But if not, don’t worry because this tutorial doesn’t assume any knowledge of NumPy or R, only basic-level Python."
   ]
  },
  {
   "cell_type": "markdown",
   "metadata": {},
   "source": [
    "To use `pandas` functions, you will first need to `import` the package using the following code. By convention, the `pandas` module is almost always imported `as pd`. Every time we use a pandas feature thereafter, we can shorten what we type by just typing `pd`, such as `pd.some_function()`."
   ]
  },
  {
   "cell_type": "code",
   "execution_count": 1,
   "metadata": {},
   "outputs": [],
   "source": [
    "import pandas as pd"
   ]
  },
  {
   "cell_type": "markdown",
   "metadata": {},
   "source": [
    "## pandas data type"
   ]
  },
  {
   "cell_type": "markdown",
   "metadata": {},
   "source": [
    "### Series\n",
    "\n",
    "A series is a one-dimensional array-like structure designed to hold a single vector of data and an associated index. You can easily create a series using the `pd.Series()` function and a Python list. Here we use a set of numbers:"
   ]
  },
  {
   "cell_type": "code",
   "execution_count": 2,
   "metadata": {},
   "outputs": [
    {
     "name": "stdout",
     "output_type": "stream",
     "text": [
      "0    4.6\n",
      "1    2.1\n",
      "2   -4.0\n",
      "3    3.0\n",
      "dtype: float64\n"
     ]
    }
   ],
   "source": [
    "my_series = pd.Series([4.6, 2.1, -4.0, 3.0])\n",
    "print(my_series)"
   ]
  },
  {
   "cell_type": "markdown",
   "metadata": {},
   "source": [
    "Note the list of numbers, organized into a single column on the right, and the index on the left (0 - 3). Note that Python is zero-indexed, i.e. indices start at 0, not 1. If you just want the values, not the index:"
   ]
  },
  {
   "cell_type": "code",
   "execution_count": 3,
   "metadata": {},
   "outputs": [
    {
     "name": "stdout",
     "output_type": "stream",
     "text": [
      "[ 4.6  2.1 -4.   3. ]\n"
     ]
    }
   ],
   "source": [
    "print(my_series.values)"
   ]
  },
  {
   "cell_type": "markdown",
   "metadata": {},
   "source": [
    "### Data frames\n",
    "\n",
    "DataFrames represent tabular data, a bit like a spreadsheet. These are organized into columns (each of which is a Series), which generally represent variables or features, and rows, which generally represent observations. Each column can store a single data-type, e.g. floating point numbers, strings, boolean values etc. DataFrames can be indexed by either their row or column names. \n",
    "\n",
    "DataFrames can be created from a Python dictionary, or by loading in a text file containing tabular data."
   ]
  },
  {
   "cell_type": "markdown",
   "metadata": {},
   "source": [
    "#### Dictionaries\n",
    "\n",
    "Dictionaries are Python structures that contain a set of `key:value` pairs of information. In the most basic form, a single value is used to index a single key. In DataFrames, however, we can index a list with multiple values to a single key. The key is then used to create the column heading in a DataFrame, and the list represents the set of values (one per observation). The following first creates a dictionary with some basic information about a set of Scottish hills, then uses `pd.DataFrame` to convert this to a DataFrame:"
   ]
  },
  {
   "cell_type": "code",
   "execution_count": null,
   "metadata": {},
   "outputs": [],
   "source": [
    "scottish_hills = {'Hill Name': ['Ben Nevis', 'Ben Macdui', 'Braeriach', 'Cairn Toul', 'Sgòr an Lochain Uaine'],\n",
    "                  'Height': [1345, 1309, 1296, 1291, 1258],\n",
    "                  'Latitude': [56.79685, 57.070453, 57.078628, 57.054611, 57.057999],\n",
    "                  'Longitude': [-5.003508, -3.668262, -3.728024, -3.71042, -3.725416]}\n",
    "dataframe = pd.DataFrame(scottish_hills)\n",
    "print(dataframe)"
   ]
  },
  {
   "cell_type": "markdown",
   "metadata": {},
   "source": [
    "The `pd.DataFrame()` function then converts this dictionary to a DataFrame. Dictionary keys are used for column headers, and each Series becomes a column of values (note that a row index number was automatically generated)."
   ]
  },
  {
   "cell_type": "code",
   "execution_count": null,
   "metadata": {},
   "outputs": [],
   "source": [
    "#### Reading from files"
   ]
  },
  {
   "cell_type": "markdown",
   "metadata": {},
   "source": [
    "`pandas` has a built function (`pd.read_csv()`) that allows you to read in comma separated value (CSV) files. An alternative is to use Python's built in `CSV` library. Here, we'll read in the Penguin dataset, and use this to create a new DataFrame called `penguins`:"
   ]
  },
  {
   "cell_type": "code",
   "execution_count": null,
   "metadata": {},
   "outputs": [],
   "source": [
    "penguins = pd.read_csv(\"../datafiles/penguins.csv\")"
   ]
  },
  {
   "cell_type": "markdown",
   "metadata": {},
   "source": [
    "DataFrames have a set of attributes and methods that can be used to find out basic information about them. For example, `shape` returns the dimensions of the data (here, 344 rows and 8 columns):"
   ]
  },
  {
   "cell_type": "code",
   "execution_count": null,
   "metadata": {},
   "outputs": [],
   "source": [
    "penguins.shape"
   ]
  },
  {
   "cell_type": "markdown",
   "metadata": {},
   "source": [
    "Use `head(6)` to get the first six lines (changing the `6` will show more or fewer lines):"
   ]
  },
  {
   "cell_type": "code",
   "execution_count": null,
   "metadata": {},
   "outputs": [],
   "source": [
    "penguins.head(6)"
   ]
  },
  {
   "cell_type": "markdown",
   "metadata": {},
   "source": [
    "And you can use `tail()` to see the last few rows"
   ]
  },
  {
   "cell_type": "code",
   "execution_count": null,
   "metadata": {},
   "outputs": [],
   "source": [
    "penguins.tail(4)"
   ]
  },
  {
   "cell_type": "markdown",
   "metadata": {},
   "source": [
    "If you want to just see the column names:"
   ]
  },
  {
   "cell_type": "code",
   "execution_count": null,
   "metadata": {},
   "outputs": [],
   "source": [
    "penguins.columns.values"
   ]
  },
  {
   "cell_type": "markdown",
   "metadata": {},
   "source": [
    "Use `describe()` to get summary statistics on the columns (numeric only):"
   ]
  },
  {
   "cell_type": "code",
   "execution_count": null,
   "metadata": {},
   "outputs": [],
   "source": [
    "penguins.describe()"
   ]
  },
  {
   "cell_type": "markdown",
   "metadata": {},
   "source": [
    "## Accessing values\n",
    "\n",
    "You can access individual series in the DataFrame using the column name:"
   ]
  },
  {
   "cell_type": "code",
   "execution_count": null,
   "metadata": {},
   "outputs": [],
   "source": [
    "penguins['flipper_length_mm']"
   ]
  },
  {
   "cell_type": "markdown",
   "metadata": {},
   "source": [
    "Note that the 4th observation has a missing value marked by `NaN`. The pandas function `dropna()` allows us to remove all observations with missing values. Here, we create a new DataFrame, the extract the flipper length values again. Note that the length (shown at the bottom) has decreased. "
   ]
  },
  {
   "cell_type": "code",
   "execution_count": null,
   "metadata": {},
   "outputs": [],
   "source": [
    "penguins2 = penguins.dropna()\n",
    "penguins2['flipper_length_mm']"
   ]
  },
  {
   "cell_type": "markdown",
   "metadata": {},
   "source": [
    "You can also access individual Series using a `.` notation. "
   ]
  },
  {
   "cell_type": "code",
   "execution_count": null,
   "metadata": {},
   "outputs": [],
   "source": [
    "penguins.flipper_length_mm"
   ]
  },
  {
   "cell_type": "markdown",
   "metadata": {},
   "source": [
    "You can also access values in a pandas DataFrame using a row, column index. The format for this is `dataframe.iloc[row]` or `dataframe.iloc[row, col]`. The `iloc` is important here - it tells pandas that you are using integer indices to access the data. To access the first row, simply enter"
   ]
  },
  {
   "cell_type": "code",
   "execution_count": null,
   "metadata": {},
   "outputs": [],
   "source": [
    "penguins.iloc[0]"
   ]
  },
  {
   "cell_type": "markdown",
   "metadata": {},
   "source": [
    "To access the first value of the first row"
   ]
  },
  {
   "cell_type": "code",
   "execution_count": null,
   "metadata": {},
   "outputs": [],
   "source": [
    "penguins.iloc[0,0]"
   ]
  },
  {
   "cell_type": "markdown",
   "metadata": {},
   "source": [
    "An equivalent approach would be to extract the first Series (the `species` column) and get the first value"
   ]
  },
  {
   "cell_type": "code",
   "execution_count": null,
   "metadata": {},
   "outputs": [],
   "source": [
    "penguins.species.iloc[0]"
   ]
  },
  {
   "cell_type": "markdown",
   "metadata": {},
   "source": [
    "If you want to access a range of rows and/or columns, you can use a colon to indicate the start and end of the range you want. To extract the first 3 rows of our DataFrame (note that the end of the range is the row after the range we want):"
   ]
  },
  {
   "cell_type": "code",
   "execution_count": null,
   "metadata": {},
   "outputs": [],
   "source": [
    "penguins.iloc[0:3]"
   ]
  },
  {
   "cell_type": "markdown",
   "metadata": {},
   "source": [
    "You can do the same to extract a range of columns. Here, we'll extract the 4 to 6th row (`3:6`),and the 3rd to 6th column (`2:6`):"
   ]
  },
  {
   "cell_type": "code",
   "execution_count": null,
   "metadata": {},
   "outputs": [],
   "source": [
    "penguins.iloc[3:6, 2:6]"
   ]
  },
  {
   "cell_type": "markdown",
   "metadata": {},
   "source": [
    "To add a new column to a DataFrame, simply specify the new Series name within `[]` and provide the vector of values. For example, to include an observation index starting at 1:"
   ]
  },
  {
   "cell_type": "code",
   "execution_count": null,
   "metadata": {},
   "outputs": [],
   "source": [
    "penguins['id'] = range(1,345)\n",
    "penguins.head()"
   ]
  },
  {
   "cell_type": "markdown",
   "metadata": {},
   "source": [
    "Unwanted columns can be removed using `drop()`:"
   ]
  },
  {
   "cell_type": "code",
   "execution_count": null,
   "metadata": {},
   "outputs": [],
   "source": [
    "penguins = penguins.drop('id', axis = 1)\n",
    "penguins.head()"
   ]
  },
  {
   "cell_type": "markdown",
   "metadata": {},
   "source": [
    "## Conditional selection\n",
    "\n",
    "You can use the values in any of the DataFrame series to conditionally filter parts of the dataset. For example, if we want to find all the rows corresponding to female penguins:"
   ]
  },
  {
   "cell_type": "code",
   "execution_count": null,
   "metadata": {},
   "outputs": [],
   "source": [
    "penguins.sex == 'female'"
   ]
  },
  {
   "cell_type": "markdown",
   "metadata": {},
   "source": [
    "This returns a Boolean Series, with all 'female' rows marked as `True`. If we incorporate this as an index, then this will only return the rows that meet the condition (i.e. are `True`):"
   ]
  },
  {
   "cell_type": "code",
   "execution_count": null,
   "metadata": {},
   "outputs": [],
   "source": [
    "penguins[penguins.sex == 'female']"
   ]
  },
  {
   "cell_type": "markdown",
   "metadata": {},
   "source": [
    "And we can easily use this to create a new DataFrame with only the female penguin data."
   ]
  },
  {
   "cell_type": "code",
   "execution_count": null,
   "metadata": {},
   "outputs": [],
   "source": [
    "females = penguins[penguins['sex'] == 'female']\n",
    "females.shape"
   ]
  },
  {
   "cell_type": "markdown",
   "metadata": {},
   "source": [
    "You can also use conditional selection with numeric values. Here, we'll create a subset of all penguins weighing over 5kg:"
   ]
  },
  {
   "cell_type": "code",
   "execution_count": null,
   "metadata": {},
   "outputs": [],
   "source": [
    "bigbirds = penguins[penguins['body_mass_g'] > 5000]\n",
    "bigbirds.shape"
   ]
  },
  {
   "cell_type": "markdown",
   "metadata": {},
   "source": [
    "You can include multiple conditions by including one of the usual set of operators ('AND' = `&`, 'OR' = `|`, 'NOT = `!`). In this example, we extract all Adelie penguins from Biscoe Island:"
   ]
  },
  {
   "cell_type": "code",
   "execution_count": null,
   "metadata": {},
   "outputs": [],
   "source": [
    "adelie_biscoe = penguins[(penguins['species'] == 'Adelie') & (penguins['island'] == 'Biscoe')]\n",
    "adelie_biscoe.shape"
   ]
  },
  {
   "cell_type": "markdown",
   "metadata": {},
   "source": [
    "## Split, apply, combine\n",
    "\n",
    "pandas DataFrames include a useful method `groupby()`. This allows you to form subgroups of the data and run some functions on each one without having to create a new DataFrame for each subgroup. This is called split, apply, combine as we need to do three steps:\n",
    "\n",
    "- split involves breaking up a data frame into groups\n",
    "- apply involves running some function for each group\n",
    "- combine merges the results into a new table\n",
    "\n",
    "To demonstrate this, we'll calculate the mean body mass of female and male penguins. To start, we'll just calculate the mean for the whole dataset. We can do this by simply calling the `mean()` method on the Series:"
   ]
  },
  {
   "cell_type": "code",
   "execution_count": null,
   "metadata": {},
   "outputs": [],
   "source": [
    "penguins.body_mass_g.mean()"
   ]
  },
  {
   "cell_type": "markdown",
   "metadata": {},
   "source": [
    "Now let's group the penguins by `sex`:"
   ]
  },
  {
   "cell_type": "code",
   "execution_count": null,
   "metadata": {},
   "outputs": [],
   "source": [
    "penguins.groupby('sex')"
   ]
  },
  {
   "cell_type": "markdown",
   "metadata": {},
   "source": [
    "This creates a `groupby` index. To actually calculate the mean weight, we can simply append the `mean()` method to this:"
   ]
  },
  {
   "cell_type": "code",
   "execution_count": null,
   "metadata": {},
   "outputs": [],
   "source": [
    "penguins.groupby('sex').mean()"
   ]
  },
  {
   "cell_type": "markdown",
   "metadata": {},
   "source": [
    "As we didn't specify which data Series we wanted the mean for, Python has calculated this for all numeric Series. To only get the body mass values, simply include this following the `groupby()` method:"
   ]
  },
  {
   "cell_type": "code",
   "execution_count": null,
   "metadata": {},
   "outputs": [],
   "source": [
    "penguins.groupby('sex').body_mass_g.mean()"
   ]
  },
  {
   "cell_type": "markdown",
   "metadata": {},
   "source": [
    "The `groupby()` method also works with two (or more) groups. Simply specify each group name between `[]`. To get the mean body mass for each species on each island:"
   ]
  },
  {
   "cell_type": "code",
   "execution_count": null,
   "metadata": {},
   "outputs": [],
   "source": [
    "penguins.groupby(['species', 'island'])['body_mass_g'].mean()"
   ]
  },
  {
   "cell_type": "markdown",
   "metadata": {},
   "source": [
    "For two groups, pandas DataFrames have a `pivot_table()` method that allow you to make a better formatted version of this table. By default, this will calculate the mean of the variable for each combination of the `index` and `columns`):"
   ]
  },
  {
   "cell_type": "code",
   "execution_count": null,
   "metadata": {},
   "outputs": [],
   "source": [
    "penguins.pivot_table('body_mass_g', index = 'sex', columns = 'species')"
   ]
  },
  {
   "cell_type": "markdown",
   "metadata": {},
   "source": [
    "## Plotting\n",
    "\n",
    "### matplotlib\n",
    "\n",
    "We will run through some simple plotting examples. We'll start by using matplotlib, one of the oldest and most established plotting packages for Python. We'll start by importing it:"
   ]
  },
  {
   "cell_type": "code",
   "execution_count": null,
   "metadata": {},
   "outputs": [],
   "source": [
    "import matplotlib.pyplot as plt"
   ]
  },
  {
   "cell_type": "markdown",
   "metadata": {},
   "source": [
    "Unlike the previous packages, we are importing only a submodule of matplotlib called `pyplot`, which has a more user friendly interface than the basic package. To import a submodule, we specify `import module.submodule`. \n",
    "\n",
    "If you are using a jupyter notebook, the following code will force any plot made to appear in the notebook:"
   ]
  },
  {
   "cell_type": "code",
   "execution_count": null,
   "metadata": {},
   "outputs": [],
   "source": [
    "%matplotlib inline"
   ]
  },
  {
   "cell_type": "markdown",
   "metadata": {},
   "source": [
    "We'll now plot a couple of variables from the penguins dataset as a scatter plot. The function is `plt.scatter`, and we need to specify the x and y variable, here as pandas Series:"
   ]
  },
  {
   "cell_type": "code",
   "execution_count": null,
   "metadata": {},
   "outputs": [],
   "source": [
    "plt.scatter(x = penguins.bill_length_mm, y = penguins.bill_depth_mm)"
   ]
  },
  {
   "cell_type": "markdown",
   "metadata": {},
   "source": [
    "The basic function produces a plot without annotations. Matplotlib works as a series of layers, and you can easily add axis labels and a title as follows:"
   ]
  },
  {
   "cell_type": "code",
   "execution_count": null,
   "metadata": {},
   "outputs": [],
   "source": [
    "plt.scatter(x = penguins.bill_length_mm, y = penguins.bill_depth_mm)\n",
    "plt.xlabel(\"(mm)\")\n",
    "plt.ylabel(\"(mm)\")\n",
    "plt.title(\"Bill length vs bill depth\")"
   ]
  },
  {
   "cell_type": "markdown",
   "metadata": {},
   "source": [
    "Matplotlib comes with a set of plot styles that change the plot layout, background color, etc. Use `plt.style.use()` to change the style. Here, we'll change to the `classic` style. The full set of styles can be found here:\n",
    "\n",
    "https://matplotlib.org/3.2.1/gallery/style_sheets/style_sheets_reference.html"
   ]
  },
  {
   "cell_type": "code",
   "execution_count": null,
   "metadata": {},
   "outputs": [],
   "source": [
    "plt.style.use('classic')\n",
    "plt.scatter(x = penguins.bill_length_mm, y = penguins.bill_depth_mm)\n",
    "plt.xlabel(\"(mm)\")\n",
    "plt.ylabel(\"(mm)\")\n",
    "plt.title(\"Bill length vs bill depth\")"
   ]
  },
  {
   "cell_type": "markdown",
   "metadata": {},
   "source": [
    "Histograms can be made with the `plt.hist()` function. Note the use of `color` to set the fill and `ec` to set the outline"
   ]
  },
  {
   "cell_type": "code",
   "execution_count": null,
   "metadata": {},
   "outputs": [],
   "source": [
    "plt.hist(penguins.bill_length_mm, color = \"skyblue\", ec=\"white\")\n",
    "plt.xlabel(\"(mm)\")\n",
    "plt.ylabel(\"Frequency\")\n",
    "plt.title(\"Histogram of bill length\")"
   ]
  },
  {
   "cell_type": "markdown",
   "metadata": {},
   "source": [
    "### Seaborn\n",
    "\n",
    "The matplotlib package has a great deal more flexibility than we can go through here. In particular, the ability to add elements individually allows you to make some very complex figures, but may take some time and trial and error to complete. A newer package, seaborn, was developed on top of matplotlib and provides a much simpler way to make complex figures, including easy use of color and size to represent data values. Start by loading this (it is usually imported with the pseudonym `sns`):"
   ]
  },
  {
   "cell_type": "code",
   "execution_count": null,
   "metadata": {},
   "outputs": [],
   "source": [
    "import seaborn as sns\n",
    "sns.set()"
   ]
  },
  {
   "cell_type": "markdown",
   "metadata": {},
   "source": [
    "To start with, let's make a simple bar plot of the Scottish Hill data. This shows the basic format for a seaborn plot: `sns.plotype(x, y, data)`:"
   ]
  },
  {
   "cell_type": "code",
   "execution_count": null,
   "metadata": {},
   "outputs": [],
   "source": [
    "sns.barplot(x = \"Hill Name\", y = \"Height\", data = scottish_hills)"
   ]
  },
  {
   "cell_type": "markdown",
   "metadata": {},
   "source": [
    "Now, we'll use the penguins data set to make a scatterplot of bill length and bill depth:"
   ]
  },
  {
   "cell_type": "code",
   "execution_count": null,
   "metadata": {},
   "outputs": [],
   "source": [
    "sns.scatterplot(x = \"bill_length_mm\", y = \"bill_depth_mm\", data = penguins)"
   ]
  },
  {
   "cell_type": "markdown",
   "metadata": {},
   "source": [
    "Like matplotlib, the seaborn package has a set of themes to change the layout of your plots. Here, we'll change to white background with black gridlines:"
   ]
  },
  {
   "cell_type": "code",
   "execution_count": null,
   "metadata": {},
   "outputs": [],
   "source": [
    "sns.set_theme(style=\"whitegrid\")\n",
    "sns.scatterplot(x = \"bill_length_mm\", y = \"bill_depth_mm\", data = penguins)"
   ]
  },
  {
   "cell_type": "markdown",
   "metadata": {},
   "source": [
    "seaborn makes it easty to include a third (and possibly fourth) Series of data in the plot to control the size and color of symbols and lines. Here, we'll include the body mass Series to change the symbol size:"
   ]
  },
  {
   "cell_type": "code",
   "execution_count": null,
   "metadata": {},
   "outputs": [],
   "source": [
    "sns.scatterplot(x = \"bill_length_mm\", y = \"bill_depth_mm\", \n",
    "                size = \"body_mass_g\",\n",
    "                data = penguins)"
   ]
  },
  {
   "cell_type": "markdown",
   "metadata": {},
   "source": [
    "If you'd prefer to set the symbol color rather than size, then use the `hue` argument. We also use the `s` argument to increase the size of the symbols (try changing this to see the effect):"
   ]
  },
  {
   "cell_type": "code",
   "execution_count": null,
   "metadata": {},
   "outputs": [],
   "source": [
    "sns.scatterplot(x = \"bill_length_mm\", y = \"bill_depth_mm\", \n",
    "                s = 200, hue = \"body_mass_g\",\n",
    "                data = penguins)"
   ]
  },
  {
   "cell_type": "markdown",
   "metadata": {},
   "source": [
    "seaborn has a large set of built in color palettes (including the ColorBrewer palettes). To change the palette, simply use `palette = 'name'`. Here we'll use the ColorBrewer Blues palette. We also change the symbol outline to black to help highlight symbols with a lighter shade of blue. \n",
    "\n",
    "Further information about seaborns color palettes can be found here:\n",
    "https://seaborn.pydata.org/tutorial/color_palettes.html"
   ]
  },
  {
   "cell_type": "code",
   "execution_count": null,
   "metadata": {},
   "outputs": [],
   "source": [
    "sns.scatterplot(x = \"bill_length_mm\", y = \"bill_depth_mm\", \n",
    "                s = 100, hue = \"body_mass_g\",\n",
    "                palette = 'Blues', ec = 'black',\n",
    "                data = penguins)"
   ]
  },
  {
   "cell_type": "markdown",
   "metadata": {},
   "source": [
    "If you use a pandas Series with character strings, seaborn will use this to color by group level. For example, if we want to illustrate the difference between the different species of penguin:"
   ]
  },
  {
   "cell_type": "code",
   "execution_count": null,
   "metadata": {},
   "outputs": [],
   "source": [
    "sns.scatterplot(x = \"bill_length_mm\", y = \"bill_depth_mm\", \n",
    "                hue = \"species\",\n",
    "                data = penguins)"
   ]
  },
  {
   "cell_type": "markdown",
   "metadata": {},
   "source": [
    "Because seaborn is built on top of matplotlib, it returns a object that can be modified with matplotlib functions. Here, we save the output in an object called `ax`. We can then add different axis labels and a title"
   ]
  },
  {
   "cell_type": "code",
   "execution_count": null,
   "metadata": {},
   "outputs": [],
   "source": [
    "ax = sns.scatterplot(x = \"bill_length_mm\", y = \"bill_depth_mm\", \n",
    "                     hue = \"species\",\n",
    "                     data = penguins)\n",
    "ax.set(xlabel = \"Bill length (mm)\", ylabel = \"Bill depth (mm)\")\n",
    "ax.set_title(\"Penguins, penguins, penguins\")"
   ]
  },
  {
   "cell_type": "markdown",
   "metadata": {},
   "source": [
    "If you have a dataset with a set of groups, seaborn can use facets to split the full dataset into subplots, one per level of a group. This is done in two steps. First, we define which Series is to be used to partition the data, with the `col` argument used to split the group plots into columns in the final plot. Second, we use the `map()` method to create a new plot type for each level of the requested group:"
   ]
  },
  {
   "cell_type": "code",
   "execution_count": null,
   "metadata": {},
   "outputs": [],
   "source": [
    "g = sns.FacetGrid(penguins, col=\"species\")\n",
    "g.map(sns.scatterplot, \"bill_length_mm\", \"bill_depth_mm\")"
   ]
  },
  {
   "cell_type": "markdown",
   "metadata": {},
   "source": [
    "With two groupings, you can split the data by each; one along the rows and one along the columns of the final plot. To illustrate this, we'll split the penguins data by both species (columns) and sex (rows):"
   ]
  },
  {
   "cell_type": "code",
   "execution_count": null,
   "metadata": {},
   "outputs": [],
   "source": [
    "g = sns.FacetGrid(penguins, col = \"species\", row = \"sex\")\n",
    "g.map(sns.scatterplot, \"bill_length_mm\", \"bill_depth_mm\")"
   ]
  },
  {
   "cell_type": "markdown",
   "metadata": {},
   "source": [
    "#### Other plot types\n",
    "\n",
    "Boxplots"
   ]
  },
  {
   "cell_type": "code",
   "execution_count": null,
   "metadata": {},
   "outputs": [],
   "source": [
    "sns.set_theme(style=\"ticks\")\n",
    "sns.boxplot(x = \"species\", y = \"body_mass_g\", data = penguins)"
   ]
  },
  {
   "cell_type": "markdown",
   "metadata": {},
   "source": [
    "Histograms (single variable)"
   ]
  },
  {
   "cell_type": "code",
   "execution_count": null,
   "metadata": {},
   "outputs": [],
   "source": [
    "sns.displot(x = \"body_mass_g\", data = penguins)"
   ]
  },
  {
   "cell_type": "markdown",
   "metadata": {},
   "source": [
    "Histograms by group"
   ]
  },
  {
   "cell_type": "code",
   "execution_count": null,
   "metadata": {},
   "outputs": [],
   "source": [
    "sns.displot(x = \"body_mass_g\", hue = \"sex\", data = penguins)"
   ]
  },
  {
   "cell_type": "markdown",
   "metadata": {},
   "source": [
    "Stacked histograms"
   ]
  },
  {
   "cell_type": "code",
   "execution_count": null,
   "metadata": {},
   "outputs": [],
   "source": [
    "sns.displot(x = \"body_mass_g\", hue = \"sex\", data = penguins, multiple = \"stack\")"
   ]
  },
  {
   "cell_type": "markdown",
   "metadata": {},
   "source": [
    "Density plots"
   ]
  },
  {
   "cell_type": "code",
   "execution_count": null,
   "metadata": {},
   "outputs": [],
   "source": [
    "sns.displot(x = \"body_mass_g\", hue = \"species\", data = penguins, \n",
    "            kind = \"kde\", fill = True)"
   ]
  },
  {
   "cell_type": "markdown",
   "metadata": {},
   "source": [
    "Stacked density plots"
   ]
  },
  {
   "cell_type": "code",
   "execution_count": null,
   "metadata": {},
   "outputs": [],
   "source": [
    "sns.displot(x = \"body_mass_g\", hue = \"species\", data = penguins, \n",
    "            kind = \"kde\", fill = True, multiple = \"stack\")"
   ]
  }
 ],
 "metadata": {
  "kernelspec": {
   "display_name": "Python 3",
   "language": "python",
   "name": "python3"
  },
  "language_info": {
   "codemirror_mode": {
    "name": "ipython",
    "version": 3
   },
   "file_extension": ".py",
   "mimetype": "text/x-python",
   "name": "python",
   "nbconvert_exporter": "python",
   "pygments_lexer": "ipython3",
   "version": "3.9.6"
  }
 },
 "nbformat": 4,
 "nbformat_minor": 2
}
