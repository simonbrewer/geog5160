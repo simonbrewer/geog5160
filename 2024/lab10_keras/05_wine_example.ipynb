{
 "cells": [
  {
   "cell_type": "markdown",
   "id": "6c8f6317",
   "metadata": {},
   "source": [
    "# Tensorflow Wine Example"
   ]
  },
  {
   "cell_type": "markdown",
   "id": "759d7723",
   "metadata": {},
   "source": [
    "Libraries and data"
   ]
  },
  {
   "cell_type": "code",
   "execution_count": 2,
   "id": "506fdfb7",
   "metadata": {},
   "outputs": [],
   "source": [
    "import numpy as np\n",
    "import pandas as pd\n",
    "import tensorflow as tf\n",
    "\n",
    "wine = pd.read_csv(\"../datafiles/winequality-red.csv\", sep = \";\")\n",
    "\n",
    "tf.random.set_seed(1234)"
   ]
  },
  {
   "cell_type": "code",
   "execution_count": 3,
   "id": "35c027e6",
   "metadata": {},
   "outputs": [
    {
     "data": {
      "text/html": [
       "<div>\n",
       "<style scoped>\n",
       "    .dataframe tbody tr th:only-of-type {\n",
       "        vertical-align: middle;\n",
       "    }\n",
       "\n",
       "    .dataframe tbody tr th {\n",
       "        vertical-align: top;\n",
       "    }\n",
       "\n",
       "    .dataframe thead th {\n",
       "        text-align: right;\n",
       "    }\n",
       "</style>\n",
       "<table border=\"1\" class=\"dataframe\">\n",
       "  <thead>\n",
       "    <tr style=\"text-align: right;\">\n",
       "      <th></th>\n",
       "      <th>fixed acidity</th>\n",
       "      <th>volatile acidity</th>\n",
       "      <th>citric acid</th>\n",
       "      <th>residual sugar</th>\n",
       "      <th>chlorides</th>\n",
       "      <th>free sulfur dioxide</th>\n",
       "      <th>total sulfur dioxide</th>\n",
       "      <th>density</th>\n",
       "      <th>pH</th>\n",
       "      <th>sulphates</th>\n",
       "      <th>alcohol</th>\n",
       "      <th>quality</th>\n",
       "    </tr>\n",
       "  </thead>\n",
       "  <tbody>\n",
       "    <tr>\n",
       "      <th>0</th>\n",
       "      <td>7.4</td>\n",
       "      <td>0.70</td>\n",
       "      <td>0.00</td>\n",
       "      <td>1.9</td>\n",
       "      <td>0.076</td>\n",
       "      <td>11.0</td>\n",
       "      <td>34.0</td>\n",
       "      <td>0.9978</td>\n",
       "      <td>3.51</td>\n",
       "      <td>0.56</td>\n",
       "      <td>9.4</td>\n",
       "      <td>5</td>\n",
       "    </tr>\n",
       "    <tr>\n",
       "      <th>1</th>\n",
       "      <td>7.8</td>\n",
       "      <td>0.88</td>\n",
       "      <td>0.00</td>\n",
       "      <td>2.6</td>\n",
       "      <td>0.098</td>\n",
       "      <td>25.0</td>\n",
       "      <td>67.0</td>\n",
       "      <td>0.9968</td>\n",
       "      <td>3.20</td>\n",
       "      <td>0.68</td>\n",
       "      <td>9.8</td>\n",
       "      <td>5</td>\n",
       "    </tr>\n",
       "    <tr>\n",
       "      <th>2</th>\n",
       "      <td>7.8</td>\n",
       "      <td>0.76</td>\n",
       "      <td>0.04</td>\n",
       "      <td>2.3</td>\n",
       "      <td>0.092</td>\n",
       "      <td>15.0</td>\n",
       "      <td>54.0</td>\n",
       "      <td>0.9970</td>\n",
       "      <td>3.26</td>\n",
       "      <td>0.65</td>\n",
       "      <td>9.8</td>\n",
       "      <td>5</td>\n",
       "    </tr>\n",
       "    <tr>\n",
       "      <th>3</th>\n",
       "      <td>11.2</td>\n",
       "      <td>0.28</td>\n",
       "      <td>0.56</td>\n",
       "      <td>1.9</td>\n",
       "      <td>0.075</td>\n",
       "      <td>17.0</td>\n",
       "      <td>60.0</td>\n",
       "      <td>0.9980</td>\n",
       "      <td>3.16</td>\n",
       "      <td>0.58</td>\n",
       "      <td>9.8</td>\n",
       "      <td>6</td>\n",
       "    </tr>\n",
       "    <tr>\n",
       "      <th>4</th>\n",
       "      <td>7.4</td>\n",
       "      <td>0.70</td>\n",
       "      <td>0.00</td>\n",
       "      <td>1.9</td>\n",
       "      <td>0.076</td>\n",
       "      <td>11.0</td>\n",
       "      <td>34.0</td>\n",
       "      <td>0.9978</td>\n",
       "      <td>3.51</td>\n",
       "      <td>0.56</td>\n",
       "      <td>9.4</td>\n",
       "      <td>5</td>\n",
       "    </tr>\n",
       "  </tbody>\n",
       "</table>\n",
       "</div>"
      ],
      "text/plain": [
       "   fixed acidity  volatile acidity  citric acid  residual sugar  chlorides  \\\n",
       "0            7.4              0.70         0.00             1.9      0.076   \n",
       "1            7.8              0.88         0.00             2.6      0.098   \n",
       "2            7.8              0.76         0.04             2.3      0.092   \n",
       "3           11.2              0.28         0.56             1.9      0.075   \n",
       "4            7.4              0.70         0.00             1.9      0.076   \n",
       "\n",
       "   free sulfur dioxide  total sulfur dioxide  density    pH  sulphates  \\\n",
       "0                 11.0                  34.0   0.9978  3.51       0.56   \n",
       "1                 25.0                  67.0   0.9968  3.20       0.68   \n",
       "2                 15.0                  54.0   0.9970  3.26       0.65   \n",
       "3                 17.0                  60.0   0.9980  3.16       0.58   \n",
       "4                 11.0                  34.0   0.9978  3.51       0.56   \n",
       "\n",
       "   alcohol  quality  \n",
       "0      9.4        5  \n",
       "1      9.8        5  \n",
       "2      9.8        5  \n",
       "3      9.8        6  \n",
       "4      9.4        5  "
      ]
     },
     "execution_count": 3,
     "metadata": {},
     "output_type": "execute_result"
    }
   ],
   "source": [
    "wine.head()"
   ]
  },
  {
   "cell_type": "code",
   "execution_count": 4,
   "id": "994fad37",
   "metadata": {},
   "outputs": [
    {
     "data": {
      "text/html": [
       "<div>\n",
       "<style scoped>\n",
       "    .dataframe tbody tr th:only-of-type {\n",
       "        vertical-align: middle;\n",
       "    }\n",
       "\n",
       "    .dataframe tbody tr th {\n",
       "        vertical-align: top;\n",
       "    }\n",
       "\n",
       "    .dataframe thead th {\n",
       "        text-align: right;\n",
       "    }\n",
       "</style>\n",
       "<table border=\"1\" class=\"dataframe\">\n",
       "  <thead>\n",
       "    <tr style=\"text-align: right;\">\n",
       "      <th></th>\n",
       "      <th>fixed acidity</th>\n",
       "      <th>volatile acidity</th>\n",
       "      <th>citric acid</th>\n",
       "      <th>residual sugar</th>\n",
       "      <th>chlorides</th>\n",
       "      <th>free sulfur dioxide</th>\n",
       "      <th>total sulfur dioxide</th>\n",
       "      <th>density</th>\n",
       "      <th>pH</th>\n",
       "      <th>sulphates</th>\n",
       "      <th>alcohol</th>\n",
       "      <th>quality</th>\n",
       "    </tr>\n",
       "  </thead>\n",
       "  <tbody>\n",
       "    <tr>\n",
       "      <th>count</th>\n",
       "      <td>1599.000000</td>\n",
       "      <td>1599.000000</td>\n",
       "      <td>1599.000000</td>\n",
       "      <td>1599.000000</td>\n",
       "      <td>1599.000000</td>\n",
       "      <td>1599.000000</td>\n",
       "      <td>1599.000000</td>\n",
       "      <td>1599.000000</td>\n",
       "      <td>1599.000000</td>\n",
       "      <td>1599.000000</td>\n",
       "      <td>1599.000000</td>\n",
       "      <td>1599.000000</td>\n",
       "    </tr>\n",
       "    <tr>\n",
       "      <th>mean</th>\n",
       "      <td>8.319637</td>\n",
       "      <td>0.527821</td>\n",
       "      <td>0.270976</td>\n",
       "      <td>2.538806</td>\n",
       "      <td>0.087467</td>\n",
       "      <td>15.874922</td>\n",
       "      <td>46.467792</td>\n",
       "      <td>0.996747</td>\n",
       "      <td>3.311113</td>\n",
       "      <td>0.658149</td>\n",
       "      <td>10.422983</td>\n",
       "      <td>5.636023</td>\n",
       "    </tr>\n",
       "    <tr>\n",
       "      <th>std</th>\n",
       "      <td>1.741096</td>\n",
       "      <td>0.179060</td>\n",
       "      <td>0.194801</td>\n",
       "      <td>1.409928</td>\n",
       "      <td>0.047065</td>\n",
       "      <td>10.460157</td>\n",
       "      <td>32.895324</td>\n",
       "      <td>0.001887</td>\n",
       "      <td>0.154386</td>\n",
       "      <td>0.169507</td>\n",
       "      <td>1.065668</td>\n",
       "      <td>0.807569</td>\n",
       "    </tr>\n",
       "    <tr>\n",
       "      <th>min</th>\n",
       "      <td>4.600000</td>\n",
       "      <td>0.120000</td>\n",
       "      <td>0.000000</td>\n",
       "      <td>0.900000</td>\n",
       "      <td>0.012000</td>\n",
       "      <td>1.000000</td>\n",
       "      <td>6.000000</td>\n",
       "      <td>0.990070</td>\n",
       "      <td>2.740000</td>\n",
       "      <td>0.330000</td>\n",
       "      <td>8.400000</td>\n",
       "      <td>3.000000</td>\n",
       "    </tr>\n",
       "    <tr>\n",
       "      <th>25%</th>\n",
       "      <td>7.100000</td>\n",
       "      <td>0.390000</td>\n",
       "      <td>0.090000</td>\n",
       "      <td>1.900000</td>\n",
       "      <td>0.070000</td>\n",
       "      <td>7.000000</td>\n",
       "      <td>22.000000</td>\n",
       "      <td>0.995600</td>\n",
       "      <td>3.210000</td>\n",
       "      <td>0.550000</td>\n",
       "      <td>9.500000</td>\n",
       "      <td>5.000000</td>\n",
       "    </tr>\n",
       "    <tr>\n",
       "      <th>50%</th>\n",
       "      <td>7.900000</td>\n",
       "      <td>0.520000</td>\n",
       "      <td>0.260000</td>\n",
       "      <td>2.200000</td>\n",
       "      <td>0.079000</td>\n",
       "      <td>14.000000</td>\n",
       "      <td>38.000000</td>\n",
       "      <td>0.996750</td>\n",
       "      <td>3.310000</td>\n",
       "      <td>0.620000</td>\n",
       "      <td>10.200000</td>\n",
       "      <td>6.000000</td>\n",
       "    </tr>\n",
       "    <tr>\n",
       "      <th>75%</th>\n",
       "      <td>9.200000</td>\n",
       "      <td>0.640000</td>\n",
       "      <td>0.420000</td>\n",
       "      <td>2.600000</td>\n",
       "      <td>0.090000</td>\n",
       "      <td>21.000000</td>\n",
       "      <td>62.000000</td>\n",
       "      <td>0.997835</td>\n",
       "      <td>3.400000</td>\n",
       "      <td>0.730000</td>\n",
       "      <td>11.100000</td>\n",
       "      <td>6.000000</td>\n",
       "    </tr>\n",
       "    <tr>\n",
       "      <th>max</th>\n",
       "      <td>15.900000</td>\n",
       "      <td>1.580000</td>\n",
       "      <td>1.000000</td>\n",
       "      <td>15.500000</td>\n",
       "      <td>0.611000</td>\n",
       "      <td>72.000000</td>\n",
       "      <td>289.000000</td>\n",
       "      <td>1.003690</td>\n",
       "      <td>4.010000</td>\n",
       "      <td>2.000000</td>\n",
       "      <td>14.900000</td>\n",
       "      <td>8.000000</td>\n",
       "    </tr>\n",
       "  </tbody>\n",
       "</table>\n",
       "</div>"
      ],
      "text/plain": [
       "       fixed acidity  volatile acidity  citric acid  residual sugar  \\\n",
       "count    1599.000000       1599.000000  1599.000000     1599.000000   \n",
       "mean        8.319637          0.527821     0.270976        2.538806   \n",
       "std         1.741096          0.179060     0.194801        1.409928   \n",
       "min         4.600000          0.120000     0.000000        0.900000   \n",
       "25%         7.100000          0.390000     0.090000        1.900000   \n",
       "50%         7.900000          0.520000     0.260000        2.200000   \n",
       "75%         9.200000          0.640000     0.420000        2.600000   \n",
       "max        15.900000          1.580000     1.000000       15.500000   \n",
       "\n",
       "         chlorides  free sulfur dioxide  total sulfur dioxide      density  \\\n",
       "count  1599.000000          1599.000000           1599.000000  1599.000000   \n",
       "mean      0.087467            15.874922             46.467792     0.996747   \n",
       "std       0.047065            10.460157             32.895324     0.001887   \n",
       "min       0.012000             1.000000              6.000000     0.990070   \n",
       "25%       0.070000             7.000000             22.000000     0.995600   \n",
       "50%       0.079000            14.000000             38.000000     0.996750   \n",
       "75%       0.090000            21.000000             62.000000     0.997835   \n",
       "max       0.611000            72.000000            289.000000     1.003690   \n",
       "\n",
       "                pH    sulphates      alcohol      quality  \n",
       "count  1599.000000  1599.000000  1599.000000  1599.000000  \n",
       "mean      3.311113     0.658149    10.422983     5.636023  \n",
       "std       0.154386     0.169507     1.065668     0.807569  \n",
       "min       2.740000     0.330000     8.400000     3.000000  \n",
       "25%       3.210000     0.550000     9.500000     5.000000  \n",
       "50%       3.310000     0.620000    10.200000     6.000000  \n",
       "75%       3.400000     0.730000    11.100000     6.000000  \n",
       "max       4.010000     2.000000    14.900000     8.000000  "
      ]
     },
     "execution_count": 4,
     "metadata": {},
     "output_type": "execute_result"
    }
   ],
   "source": [
    "wine.describe()"
   ]
  },
  {
   "cell_type": "code",
   "execution_count": 5,
   "id": "97c4d72f",
   "metadata": {},
   "outputs": [
    {
     "data": {
      "image/png": "[encoded data removed]",
      "text/plain": [
       "<Figure size 1440x1080 with 12 Axes>"
      ]
     },
     "metadata": {
      "needs_background": "light"
     },
     "output_type": "display_data"
    }
   ],
   "source": [
    "## %matplotlib inline\n",
    "import matplotlib.pyplot as plt\n",
    "wine.hist(bins=50, figsize=(20,15))\n",
    "plt.show()"
   ]
  },
  {
   "cell_type": "markdown",
   "id": "74c14f5a",
   "metadata": {},
   "source": [
    "## Cross-validation"
   ]
  },
  {
   "cell_type": "code",
   "execution_count": 6,
   "id": "c96ee03c",
   "metadata": {},
   "outputs": [],
   "source": [
    "from sklearn.model_selection import train_test_split\n",
    "\n",
    "train, test = train_test_split(wine, test_size=0.2, random_state=42)"
   ]
  },
  {
   "cell_type": "code",
   "execution_count": 7,
   "id": "05c236f6",
   "metadata": {},
   "outputs": [
    {
     "name": "stdout",
     "output_type": "stream",
     "text": [
      "(1279, 11)\n",
      "(1279,)\n"
     ]
    }
   ],
   "source": [
    "X_train = train.drop('quality', axis=1).values\n",
    "y_train = train['quality'].values\n",
    "print(X_train.shape)\n",
    "print(y_train.shape)"
   ]
  },
  {
   "cell_type": "code",
   "execution_count": 8,
   "id": "e0c451af",
   "metadata": {},
   "outputs": [
    {
     "name": "stdout",
     "output_type": "stream",
     "text": [
      "(320, 11)\n",
      "(320,)\n"
     ]
    }
   ],
   "source": [
    "X_test = test.drop('quality', axis=1).values\n",
    "y_test = test['quality'].values\n",
    "print(X_test.shape)\n",
    "print(y_test.shape)"
   ]
  },
  {
   "cell_type": "code",
   "execution_count": 9,
   "id": "f9c46ab0",
   "metadata": {},
   "outputs": [
    {
     "data": {
      "text/plain": [
       "StandardScaler()"
      ]
     },
     "execution_count": 9,
     "metadata": {},
     "output_type": "execute_result"
    }
   ],
   "source": [
    "from sklearn.preprocessing import StandardScaler\n",
    "scaler = StandardScaler()\n",
    "scaler.fit(X_train)"
   ]
  },
  {
   "cell_type": "code",
   "execution_count": 10,
   "id": "322bec08",
   "metadata": {},
   "outputs": [],
   "source": [
    "X_train = scaler.transform(X_train)\n",
    "X_test = scaler.transform(X_test)"
   ]
  },
  {
   "cell_type": "code",
   "execution_count": 11,
   "id": "87ebe3f7",
   "metadata": {},
   "outputs": [
    {
     "data": {
      "text/plain": [
       "array([[ 0.21833164,  0.88971201,  0.19209222, ...,  1.09349989,\n",
       "         0.45822284,  1.12317723],\n",
       "       [-1.29016623, -1.78878251,  0.65275338, ..., -0.40043872,\n",
       "        -0.40119696,  1.40827174],\n",
       "       [ 1.49475291, -0.78434707,  1.01104539, ..., -0.07566946,\n",
       "         0.51551749, -0.58738978],\n",
       "       ...,\n",
       "       [-0.65195559,  0.49909822, -1.08752211, ...,  1.28836145,\n",
       "        -0.68767023, -0.87248428],\n",
       "       [-0.24582155, -1.84458448,  0.39683051, ...,  0.05423824,\n",
       "         0.80199076,  1.40827174],\n",
       "       [-1.46422367, -1.34236676, -0.06383064, ...,  0.50891521,\n",
       "        -0.68767023,  2.92877575]])"
      ]
     },
     "execution_count": 11,
     "metadata": {},
     "output_type": "execute_result"
    }
   ],
   "source": [
    "X_train"
   ]
  },
  {
   "cell_type": "markdown",
   "id": "6a030a31",
   "metadata": {},
   "source": [
    "## Random forest (shallow learner)"
   ]
  },
  {
   "cell_type": "code",
   "execution_count": 12,
   "id": "a81b9efe",
   "metadata": {},
   "outputs": [],
   "source": [
    "from sklearn.ensemble import RandomForestRegressor\n",
    "rf = RandomForestRegressor(n_estimators = 500)\n",
    "rf.fit(X_train, y_train)\n",
    "y_test_pred = rf.predict(X_test)"
   ]
  },
  {
   "cell_type": "code",
   "execution_count": 13,
   "id": "9489efff",
   "metadata": {},
   "outputs": [
    {
     "name": "stdout",
     "output_type": "stream",
     "text": [
      "Root mean squared error: 0.31\n"
     ]
    }
   ],
   "source": [
    "from sklearn.metrics import mean_squared_error\n",
    "print('Root mean squared error: %.2f'\n",
    "      % mean_squared_error(y_test, y_test_pred, squared = True))"
   ]
  },
  {
   "cell_type": "code",
   "execution_count": 14,
   "id": "fb32fff7",
   "metadata": {},
   "outputs": [
    {
     "data": {
      "image/png": "[encoded data removed]",
      "text/plain": [
       "<Figure size 432x288 with 1 Axes>"
      ]
     },
     "metadata": {
      "needs_background": "light"
     },
     "output_type": "display_data"
    }
   ],
   "source": [
    "plt.scatter(y_test, y_test_pred)\n",
    "plt.show()"
   ]
  },
  {
   "cell_type": "markdown",
   "id": "86228810",
   "metadata": {},
   "source": [
    "## Tensorflow (deep learner)"
   ]
  },
  {
   "cell_type": "code",
   "execution_count": 16,
   "id": "098cf5e0",
   "metadata": {},
   "outputs": [],
   "source": [
    "from tensorflow.keras import models\n",
    "from tensorflow.keras import layers"
   ]
  },
  {
   "cell_type": "code",
   "execution_count": 14,
   "id": "d1e3fe59",
   "metadata": {},
   "outputs": [
    {
     "data": {
      "text/plain": [
       "(1279, 11)"
      ]
     },
     "execution_count": 14,
     "metadata": {},
     "output_type": "execute_result"
    }
   ],
   "source": [
    "X_train.shape"
   ]
  },
  {
   "cell_type": "code",
   "execution_count": 17,
   "id": "2959b05a",
   "metadata": {},
   "outputs": [],
   "source": [
    "model = models.Sequential([\n",
    "  layers.Dense(64, activation='relu', input_shape=(11,)),\n",
    "  layers.Dense(1, activation='linear')\n",
    "])"
   ]
  },
  {
   "cell_type": "code",
   "execution_count": 34,
   "id": "780d7b91",
   "metadata": {},
   "outputs": [
    {
     "data": {
      "text/plain": [
       "array([6, 6, 6, ..., 5, 7, 6])"
      ]
     },
     "execution_count": 34,
     "metadata": {},
     "output_type": "execute_result"
    }
   ],
   "source": [
    "y_train"
   ]
  },
  {
   "cell_type": "code",
   "execution_count": 18,
   "id": "d821d698",
   "metadata": {},
   "outputs": [
    {
     "data": {
      "image/png": "[encoded data removed]",
      "text/plain": [
       "<IPython.core.display.Image object>"
      ]
     },
     "execution_count": 18,
     "metadata": {},
     "output_type": "execute_result"
    }
   ],
   "source": [
    "from tensorflow.keras.utils import plot_model\n",
    "plot_model(model, show_shapes = True)"
   ]
  },
  {
   "cell_type": "code",
   "execution_count": 20,
   "id": "46413110",
   "metadata": {},
   "outputs": [
    {
     "name": "stdout",
     "output_type": "stream",
     "text": [
      "Model: \"sequential\"\n",
      "_________________________________________________________________\n",
      "Layer (type)                 Output Shape              Param #   \n",
      "=================================================================\n",
      "dense (Dense)                (None, 64)                768       \n",
      "_________________________________________________________________\n",
      "dense_1 (Dense)              (None, 1)                 65        \n",
      "=================================================================\n",
      "Total params: 833\n",
      "Trainable params: 833\n",
      "Non-trainable params: 0\n",
      "_________________________________________________________________\n"
     ]
    }
   ],
   "source": [
    "model.summary()"
   ]
  },
  {
   "cell_type": "code",
   "execution_count": 21,
   "id": "5d876fde",
   "metadata": {},
   "outputs": [
    {
     "data": {
      "image/png": "[encoded data removed]",
      "text/plain": [
       "<IPython.core.display.Image object>"
      ]
     },
     "execution_count": 21,
     "metadata": {},
     "output_type": "execute_result"
    }
   ],
   "source": [
    "model = models.Sequential([\n",
    "  layers.Dense(64, activation='relu', input_shape=(11,)),\n",
    "  layers.Dense(32, activation='relu'),\n",
    "  layers.Dense(1, activation='linear')\n",
    "])\n",
    "plot_model(model, show_shapes = True)"
   ]
  },
  {
   "cell_type": "code",
   "execution_count": 22,
   "id": "a57d3fdc",
   "metadata": {},
   "outputs": [
    {
     "name": "stdout",
     "output_type": "stream",
     "text": [
      "Model: \"sequential_1\"\n",
      "_________________________________________________________________\n",
      "Layer (type)                 Output Shape              Param #   \n",
      "=================================================================\n",
      "dense_2 (Dense)              (None, 64)                768       \n",
      "_________________________________________________________________\n",
      "dense_3 (Dense)              (None, 32)                2080      \n",
      "_________________________________________________________________\n",
      "dense_4 (Dense)              (None, 1)                 33        \n",
      "=================================================================\n",
      "Total params: 2,881\n",
      "Trainable params: 2,881\n",
      "Non-trainable params: 0\n",
      "_________________________________________________________________\n"
     ]
    }
   ],
   "source": [
    "model.summary()"
   ]
  },
  {
   "cell_type": "code",
   "execution_count": 23,
   "id": "8c948e9a",
   "metadata": {},
   "outputs": [
    {
     "data": {
      "image/png": "[encoded data removed]",
      "text/plain": [
       "<IPython.core.display.Image object>"
      ]
     },
     "execution_count": 23,
     "metadata": {},
     "output_type": "execute_result"
    }
   ],
   "source": [
    "model = models.Sequential([\n",
    "  layers.Dense(64, activation='relu', input_shape=(11,)),\n",
    "  layers.Dense(32, activation='relu'),\n",
    "  layers.Dense(16, activation='relu'),\n",
    "  layers.Dense(1, activation='linear')\n",
    "])\n",
    "plot_model(model, show_shapes = True)"
   ]
  },
  {
   "cell_type": "code",
   "execution_count": 24,
   "id": "339720ce",
   "metadata": {},
   "outputs": [
    {
     "name": "stdout",
     "output_type": "stream",
     "text": [
      "Model: \"sequential_2\"\n",
      "_________________________________________________________________\n",
      "Layer (type)                 Output Shape              Param #   \n",
      "=================================================================\n",
      "dense_5 (Dense)              (None, 64)                768       \n",
      "_________________________________________________________________\n",
      "dense_6 (Dense)              (None, 32)                2080      \n",
      "_________________________________________________________________\n",
      "dense_7 (Dense)              (None, 16)                528       \n",
      "_________________________________________________________________\n",
      "dense_8 (Dense)              (None, 1)                 17        \n",
      "=================================================================\n",
      "Total params: 3,393\n",
      "Trainable params: 3,393\n",
      "Non-trainable params: 0\n",
      "_________________________________________________________________\n"
     ]
    }
   ],
   "source": [
    "model.summary()"
   ]
  },
  {
   "cell_type": "code",
   "execution_count": 25,
   "id": "84c9bbd2",
   "metadata": {},
   "outputs": [],
   "source": [
    "from tensorflow.keras import optimizers\n",
    "optimizer = optimizers.RMSprop()\n",
    "\n",
    "model.compile(optimizer=optimizer, loss='mse', metrics=['mae'])"
   ]
  },
  {
   "cell_type": "code",
   "execution_count": 26,
   "id": "3ab5cf36",
   "metadata": {},
   "outputs": [
    {
     "name": "stderr",
     "output_type": "stream",
     "text": [
      "2023-04-17 12:20:58.799872: I tensorflow/compiler/mlir/mlir_graph_optimization_pass.cc:116] None of the MLIR optimization passes are enabled (registered 2)\n",
      "2023-04-17 12:20:58.805437: W tensorflow/core/platform/profile_utils/cpu_utils.cc:126] Failed to get CPU frequency: 0 Hz\n"
     ]
    },
    {
     "name": "stdout",
     "output_type": "stream",
     "text": [
      "Epoch 1/125\n",
      "WARNING:tensorflow:AutoGraph could not transform <function Model.make_train_function.<locals>.train_function at 0x1401790d0> and will run it as-is.\n",
      "Please report this to the TensorFlow team. When filing the bug, set the verbosity to 10 (on Linux, `export AUTOGRAPH_VERBOSITY=10`) and attach the full output.\n",
      "Cause: unsupported operand type(s) for -: 'NoneType' and 'int'\n",
      "To silence this warning, decorate the function with @tf.autograph.experimental.do_not_convert\n",
      "WARNING: AutoGraph could not transform <function Model.make_train_function.<locals>.train_function at 0x1401790d0> and will run it as-is.\n",
      "Please report this to the TensorFlow team. When filing the bug, set the verbosity to 10 (on Linux, `export AUTOGRAPH_VERBOSITY=10`) and attach the full output.\n",
      "Cause: unsupported operand type(s) for -: 'NoneType' and 'int'\n",
      "To silence this warning, decorate the function with @tf.autograph.experimental.do_not_convert\n",
      "69/80 [========================>.....] - ETA: 0s - loss: 18.6188 - mae: 3.9596 WARNING:tensorflow:AutoGraph could not transform <function Model.make_test_function.<locals>.test_function at 0x142f07820> and will run it as-is.\n",
      "Please report this to the TensorFlow team. When filing the bug, set the verbosity to 10 (on Linux, `export AUTOGRAPH_VERBOSITY=10`) and attach the full output.\n",
      "Cause: unsupported operand type(s) for -: 'NoneType' and 'int'\n",
      "To silence this warning, decorate the function with @tf.autograph.experimental.do_not_convert\n",
      "WARNING: AutoGraph could not transform <function Model.make_test_function.<locals>.test_function at 0x142f07820> and will run it as-is.\n",
      "Please report this to the TensorFlow team. When filing the bug, set the verbosity to 10 (on Linux, `export AUTOGRAPH_VERBOSITY=10`) and attach the full output.\n",
      "Cause: unsupported operand type(s) for -: 'NoneType' and 'int'\n",
      "To silence this warning, decorate the function with @tf.autograph.experimental.do_not_convert\n",
      "80/80 [==============================] - 1s 7ms/step - loss: 17.3160 - mae: 3.7574 - val_loss: 2.0980 - val_mae: 1.1546\n",
      "Epoch 2/125\n",
      "80/80 [==============================] - 0s 914us/step - loss: 2.1714 - mae: 1.1476 - val_loss: 1.1932 - val_mae: 0.8684\n",
      "Epoch 3/125\n",
      "80/80 [==============================] - 0s 866us/step - loss: 1.1872 - mae: 0.8578 - val_loss: 0.8185 - val_mae: 0.7134\n",
      "Epoch 4/125\n",
      "80/80 [==============================] - 0s 875us/step - loss: 0.8840 - mae: 0.7437 - val_loss: 0.6377 - val_mae: 0.6320\n",
      "Epoch 5/125\n",
      "80/80 [==============================] - 0s 821us/step - loss: 0.6761 - mae: 0.6321 - val_loss: 0.5534 - val_mae: 0.5835\n",
      "Epoch 6/125\n",
      "80/80 [==============================] - 0s 903us/step - loss: 0.6016 - mae: 0.5864 - val_loss: 0.4910 - val_mae: 0.5577\n",
      "Epoch 7/125\n",
      "80/80 [==============================] - 0s 914us/step - loss: 0.4975 - mae: 0.5471 - val_loss: 0.4825 - val_mae: 0.5466\n",
      "Epoch 8/125\n",
      "80/80 [==============================] - 0s 772us/step - loss: 0.4755 - mae: 0.5267 - val_loss: 0.4508 - val_mae: 0.5319\n",
      "Epoch 9/125\n",
      "80/80 [==============================] - 0s 835us/step - loss: 0.4679 - mae: 0.5176 - val_loss: 0.4450 - val_mae: 0.5320\n",
      "Epoch 10/125\n",
      "80/80 [==============================] - 0s 830us/step - loss: 0.4465 - mae: 0.5221 - val_loss: 0.4196 - val_mae: 0.5160\n",
      "Epoch 11/125\n",
      "80/80 [==============================] - 0s 739us/step - loss: 0.4103 - mae: 0.4959 - val_loss: 0.4180 - val_mae: 0.5148\n",
      "Epoch 12/125\n",
      "80/80 [==============================] - 0s 1ms/step - loss: 0.3604 - mae: 0.4614 - val_loss: 0.3867 - val_mae: 0.4985\n",
      "Epoch 13/125\n",
      "80/80 [==============================] - 0s 876us/step - loss: 0.3801 - mae: 0.4787 - val_loss: 0.4169 - val_mae: 0.5146\n",
      "Epoch 14/125\n",
      "80/80 [==============================] - 0s 874us/step - loss: 0.3532 - mae: 0.4544 - val_loss: 0.4075 - val_mae: 0.5116\n",
      "Epoch 15/125\n",
      "80/80 [==============================] - 0s 782us/step - loss: 0.3654 - mae: 0.4774 - val_loss: 0.4174 - val_mae: 0.5068\n",
      "Epoch 16/125\n",
      "80/80 [==============================] - 0s 893us/step - loss: 0.3600 - mae: 0.4539 - val_loss: 0.3851 - val_mae: 0.4908\n",
      "Epoch 17/125\n",
      "80/80 [==============================] - 0s 1ms/step - loss: 0.3332 - mae: 0.4432 - val_loss: 0.4160 - val_mae: 0.5112\n",
      "Epoch 18/125\n",
      "80/80 [==============================] - 0s 995us/step - loss: 0.3535 - mae: 0.4606 - val_loss: 0.3880 - val_mae: 0.4956\n",
      "Epoch 19/125\n",
      "80/80 [==============================] - 0s 976us/step - loss: 0.3391 - mae: 0.4551 - val_loss: 0.3747 - val_mae: 0.4838\n",
      "Epoch 20/125\n",
      "80/80 [==============================] - 0s 989us/step - loss: 0.3120 - mae: 0.4274 - val_loss: 0.3664 - val_mae: 0.4754\n",
      "Epoch 21/125\n",
      "80/80 [==============================] - 0s 923us/step - loss: 0.3141 - mae: 0.4386 - val_loss: 0.3734 - val_mae: 0.4734\n",
      "Epoch 22/125\n",
      "80/80 [==============================] - 0s 941us/step - loss: 0.3203 - mae: 0.4294 - val_loss: 0.3816 - val_mae: 0.4932\n",
      "Epoch 23/125\n",
      "80/80 [==============================] - 0s 887us/step - loss: 0.3102 - mae: 0.4248 - val_loss: 0.4091 - val_mae: 0.5164\n",
      "Epoch 24/125\n",
      "80/80 [==============================] - 0s 917us/step - loss: 0.3120 - mae: 0.4322 - val_loss: 0.3753 - val_mae: 0.4915\n",
      "Epoch 25/125\n",
      "80/80 [==============================] - 0s 902us/step - loss: 0.3255 - mae: 0.4424 - val_loss: 0.3912 - val_mae: 0.4904\n",
      "Epoch 26/125\n",
      "80/80 [==============================] - 0s 831us/step - loss: 0.3182 - mae: 0.4331 - val_loss: 0.3892 - val_mae: 0.4906\n",
      "Epoch 27/125\n",
      "80/80 [==============================] - 0s 773us/step - loss: 0.3131 - mae: 0.4341 - val_loss: 0.3681 - val_mae: 0.4810\n",
      "Epoch 28/125\n",
      "80/80 [==============================] - 0s 725us/step - loss: 0.2896 - mae: 0.4131 - val_loss: 0.3886 - val_mae: 0.4995\n",
      "Epoch 29/125\n",
      "80/80 [==============================] - 0s 797us/step - loss: 0.3271 - mae: 0.4297 - val_loss: 0.3996 - val_mae: 0.4913\n",
      "Epoch 30/125\n",
      "80/80 [==============================] - 0s 1ms/step - loss: 0.2801 - mae: 0.4105 - val_loss: 0.3750 - val_mae: 0.4814\n",
      "Epoch 31/125\n",
      "80/80 [==============================] - 0s 1ms/step - loss: 0.2923 - mae: 0.4096 - val_loss: 0.4108 - val_mae: 0.5036\n",
      "Epoch 32/125\n",
      "80/80 [==============================] - 0s 969us/step - loss: 0.2853 - mae: 0.4035 - val_loss: 0.4640 - val_mae: 0.5313\n",
      "Epoch 33/125\n",
      "80/80 [==============================] - 0s 1ms/step - loss: 0.3076 - mae: 0.4242 - val_loss: 0.3815 - val_mae: 0.4791\n",
      "Epoch 34/125\n",
      "80/80 [==============================] - 0s 1ms/step - loss: 0.2958 - mae: 0.4189 - val_loss: 0.4926 - val_mae: 0.5621\n",
      "Epoch 35/125\n",
      "80/80 [==============================] - 0s 939us/step - loss: 0.2609 - mae: 0.3937 - val_loss: 0.4054 - val_mae: 0.5065\n",
      "Epoch 36/125\n",
      "80/80 [==============================] - 0s 1ms/step - loss: 0.2927 - mae: 0.4116 - val_loss: 0.4750 - val_mae: 0.5383\n",
      "Epoch 37/125\n",
      "80/80 [==============================] - 0s 951us/step - loss: 0.2869 - mae: 0.4063 - val_loss: 0.5331 - val_mae: 0.5781\n",
      "Epoch 38/125\n",
      "80/80 [==============================] - 0s 897us/step - loss: 0.2765 - mae: 0.4071 - val_loss: 0.3961 - val_mae: 0.4893\n",
      "Epoch 39/125\n",
      "80/80 [==============================] - 0s 820us/step - loss: 0.2606 - mae: 0.3932 - val_loss: 0.3883 - val_mae: 0.4838\n",
      "Epoch 40/125\n",
      "80/80 [==============================] - 0s 849us/step - loss: 0.2547 - mae: 0.3898 - val_loss: 0.4602 - val_mae: 0.5327\n",
      "Epoch 41/125\n",
      "80/80 [==============================] - 0s 921us/step - loss: 0.2781 - mae: 0.4029 - val_loss: 0.4071 - val_mae: 0.4919\n",
      "Epoch 42/125\n",
      "80/80 [==============================] - 0s 849us/step - loss: 0.2547 - mae: 0.3883 - val_loss: 0.3883 - val_mae: 0.4759\n",
      "Epoch 43/125\n",
      "80/80 [==============================] - 0s 791us/step - loss: 0.2743 - mae: 0.4059 - val_loss: 0.4004 - val_mae: 0.5021\n",
      "Epoch 44/125\n",
      "80/80 [==============================] - 0s 844us/step - loss: 0.2625 - mae: 0.3984 - val_loss: 0.4176 - val_mae: 0.5130\n",
      "Epoch 45/125\n",
      "80/80 [==============================] - 0s 821us/step - loss: 0.2686 - mae: 0.3988 - val_loss: 0.4423 - val_mae: 0.5257\n",
      "Epoch 46/125\n",
      "80/80 [==============================] - 0s 807us/step - loss: 0.2321 - mae: 0.3721 - val_loss: 0.4013 - val_mae: 0.4861\n",
      "Epoch 47/125\n",
      "80/80 [==============================] - 0s 1ms/step - loss: 0.2871 - mae: 0.4168 - val_loss: 0.3999 - val_mae: 0.4930\n",
      "Epoch 48/125\n",
      "80/80 [==============================] - 0s 1ms/step - loss: 0.2468 - mae: 0.3848 - val_loss: 0.3756 - val_mae: 0.4698\n",
      "Epoch 49/125\n",
      "80/80 [==============================] - 0s 1ms/step - loss: 0.2170 - mae: 0.3494 - val_loss: 0.5083 - val_mae: 0.5746\n",
      "Epoch 50/125\n",
      "80/80 [==============================] - 0s 1ms/step - loss: 0.2460 - mae: 0.3882 - val_loss: 0.4202 - val_mae: 0.4994\n",
      "Epoch 51/125\n",
      "80/80 [==============================] - 0s 2ms/step - loss: 0.2344 - mae: 0.3721 - val_loss: 0.3868 - val_mae: 0.4779\n",
      "Epoch 52/125\n",
      "80/80 [==============================] - 0s 870us/step - loss: 0.2345 - mae: 0.3721 - val_loss: 0.4621 - val_mae: 0.5403\n",
      "Epoch 53/125\n",
      "80/80 [==============================] - 0s 967us/step - loss: 0.2315 - mae: 0.3783 - val_loss: 0.4049 - val_mae: 0.4885\n",
      "Epoch 54/125\n",
      "80/80 [==============================] - 0s 921us/step - loss: 0.2489 - mae: 0.3826 - val_loss: 0.4296 - val_mae: 0.5093\n",
      "Epoch 55/125\n",
      "80/80 [==============================] - 0s 987us/step - loss: 0.2538 - mae: 0.3794 - val_loss: 0.4141 - val_mae: 0.4920\n",
      "Epoch 56/125\n",
      "80/80 [==============================] - 0s 1ms/step - loss: 0.2310 - mae: 0.3735 - val_loss: 0.3921 - val_mae: 0.4811\n",
      "Epoch 57/125\n",
      "80/80 [==============================] - 0s 889us/step - loss: 0.2486 - mae: 0.3762 - val_loss: 0.4447 - val_mae: 0.5189\n",
      "Epoch 58/125\n",
      "80/80 [==============================] - 0s 760us/step - loss: 0.2411 - mae: 0.3803 - val_loss: 0.4292 - val_mae: 0.5168\n",
      "Epoch 59/125\n",
      "80/80 [==============================] - 0s 861us/step - loss: 0.2098 - mae: 0.3538 - val_loss: 0.4016 - val_mae: 0.4866\n",
      "Epoch 60/125\n",
      "80/80 [==============================] - 0s 806us/step - loss: 0.2285 - mae: 0.3686 - val_loss: 0.4278 - val_mae: 0.5022\n",
      "Epoch 61/125\n",
      "80/80 [==============================] - 0s 846us/step - loss: 0.2135 - mae: 0.3568 - val_loss: 0.3906 - val_mae: 0.4790\n",
      "Epoch 62/125\n",
      "80/80 [==============================] - 0s 879us/step - loss: 0.2368 - mae: 0.3724 - val_loss: 0.4384 - val_mae: 0.5123\n",
      "Epoch 63/125\n",
      "80/80 [==============================] - 0s 790us/step - loss: 0.2251 - mae: 0.3654 - val_loss: 0.4072 - val_mae: 0.4997\n",
      "Epoch 64/125\n",
      "80/80 [==============================] - 0s 826us/step - loss: 0.2110 - mae: 0.3558 - val_loss: 0.4458 - val_mae: 0.5022\n",
      "Epoch 65/125\n",
      "80/80 [==============================] - 0s 825us/step - loss: 0.2248 - mae: 0.3614 - val_loss: 0.3867 - val_mae: 0.4795\n",
      "Epoch 66/125\n",
      "80/80 [==============================] - 0s 826us/step - loss: 0.2233 - mae: 0.3555 - val_loss: 0.4247 - val_mae: 0.4916\n",
      "Epoch 67/125\n",
      "80/80 [==============================] - 0s 831us/step - loss: 0.2301 - mae: 0.3691 - val_loss: 0.4068 - val_mae: 0.4928\n",
      "Epoch 68/125\n",
      "80/80 [==============================] - 0s 812us/step - loss: 0.2084 - mae: 0.3448 - val_loss: 0.4215 - val_mae: 0.5002\n",
      "Epoch 69/125\n",
      "80/80 [==============================] - 0s 848us/step - loss: 0.2551 - mae: 0.3847 - val_loss: 0.3971 - val_mae: 0.4893\n",
      "Epoch 70/125\n",
      "80/80 [==============================] - 0s 855us/step - loss: 0.2061 - mae: 0.3378 - val_loss: 0.4027 - val_mae: 0.4798\n",
      "Epoch 71/125\n",
      "80/80 [==============================] - 0s 816us/step - loss: 0.2129 - mae: 0.3628 - val_loss: 0.4144 - val_mae: 0.5004\n",
      "Epoch 72/125\n",
      "80/80 [==============================] - 0s 819us/step - loss: 0.2185 - mae: 0.3544 - val_loss: 0.4242 - val_mae: 0.4935\n",
      "Epoch 73/125\n",
      "80/80 [==============================] - 0s 841us/step - loss: 0.2167 - mae: 0.3610 - val_loss: 0.4297 - val_mae: 0.5056\n",
      "Epoch 74/125\n",
      "80/80 [==============================] - 0s 766us/step - loss: 0.2188 - mae: 0.3566 - val_loss: 0.4110 - val_mae: 0.4830\n",
      "Epoch 75/125\n",
      "80/80 [==============================] - 0s 825us/step - loss: 0.2204 - mae: 0.3594 - val_loss: 0.4141 - val_mae: 0.4947\n",
      "Epoch 76/125\n",
      "80/80 [==============================] - 0s 781us/step - loss: 0.2196 - mae: 0.3567 - val_loss: 0.4605 - val_mae: 0.5205\n",
      "Epoch 77/125\n",
      "80/80 [==============================] - 0s 896us/step - loss: 0.2093 - mae: 0.3520 - val_loss: 0.4361 - val_mae: 0.5057\n",
      "Epoch 78/125\n",
      "80/80 [==============================] - 0s 960us/step - loss: 0.2099 - mae: 0.3518 - val_loss: 0.4498 - val_mae: 0.5123\n",
      "Epoch 79/125\n",
      "80/80 [==============================] - 0s 921us/step - loss: 0.2063 - mae: 0.3503 - val_loss: 0.4113 - val_mae: 0.4874\n",
      "Epoch 80/125\n",
      "80/80 [==============================] - 0s 928us/step - loss: 0.2044 - mae: 0.3463 - val_loss: 0.4358 - val_mae: 0.5095\n",
      "Epoch 81/125\n",
      "80/80 [==============================] - 0s 848us/step - loss: 0.2132 - mae: 0.3590 - val_loss: 0.4715 - val_mae: 0.5190\n",
      "Epoch 82/125\n",
      "80/80 [==============================] - 0s 847us/step - loss: 0.1899 - mae: 0.3306 - val_loss: 0.4344 - val_mae: 0.4996\n",
      "Epoch 83/125\n",
      "80/80 [==============================] - 0s 787us/step - loss: 0.1906 - mae: 0.3364 - val_loss: 0.5603 - val_mae: 0.5809\n",
      "Epoch 84/125\n",
      "80/80 [==============================] - 0s 1ms/step - loss: 0.1924 - mae: 0.3416 - val_loss: 0.4341 - val_mae: 0.5054\n",
      "Epoch 85/125\n",
      "80/80 [==============================] - 0s 865us/step - loss: 0.1966 - mae: 0.3456 - val_loss: 0.4557 - val_mae: 0.5123\n",
      "Epoch 86/125\n",
      "80/80 [==============================] - 0s 897us/step - loss: 0.2080 - mae: 0.3506 - val_loss: 0.4391 - val_mae: 0.5094\n",
      "Epoch 87/125\n",
      "80/80 [==============================] - 0s 990us/step - loss: 0.1975 - mae: 0.3458 - val_loss: 0.4449 - val_mae: 0.5203\n",
      "Epoch 88/125\n",
      "80/80 [==============================] - 0s 1ms/step - loss: 0.1876 - mae: 0.3372 - val_loss: 0.4389 - val_mae: 0.5009\n",
      "Epoch 89/125\n",
      "80/80 [==============================] - 0s 1ms/step - loss: 0.1908 - mae: 0.3353 - val_loss: 0.4127 - val_mae: 0.4961\n",
      "Epoch 90/125\n",
      "80/80 [==============================] - 0s 1ms/step - loss: 0.1865 - mae: 0.3353 - val_loss: 0.4566 - val_mae: 0.5242\n",
      "Epoch 91/125\n",
      "80/80 [==============================] - 0s 915us/step - loss: 0.2002 - mae: 0.3330 - val_loss: 0.4418 - val_mae: 0.4947\n",
      "Epoch 92/125\n",
      "80/80 [==============================] - 0s 1ms/step - loss: 0.1813 - mae: 0.3211 - val_loss: 0.4314 - val_mae: 0.5022\n",
      "Epoch 93/125\n",
      "80/80 [==============================] - 0s 892us/step - loss: 0.1773 - mae: 0.3267 - val_loss: 0.4830 - val_mae: 0.5173\n",
      "Epoch 94/125\n",
      "80/80 [==============================] - 0s 927us/step - loss: 0.1833 - mae: 0.3346 - val_loss: 0.4363 - val_mae: 0.4960\n",
      "Epoch 95/125\n",
      "80/80 [==============================] - 0s 877us/step - loss: 0.1594 - mae: 0.3096 - val_loss: 0.4581 - val_mae: 0.5096\n",
      "Epoch 96/125\n",
      "80/80 [==============================] - 0s 881us/step - loss: 0.1868 - mae: 0.3295 - val_loss: 0.4475 - val_mae: 0.4981\n",
      "Epoch 97/125\n",
      "80/80 [==============================] - 0s 851us/step - loss: 0.1705 - mae: 0.3157 - val_loss: 0.4335 - val_mae: 0.4971\n",
      "Epoch 98/125\n",
      "80/80 [==============================] - 0s 827us/step - loss: 0.1736 - mae: 0.3187 - val_loss: 0.4472 - val_mae: 0.5077\n",
      "Epoch 99/125\n",
      "80/80 [==============================] - 0s 815us/step - loss: 0.1851 - mae: 0.3269 - val_loss: 0.4486 - val_mae: 0.5080\n",
      "Epoch 100/125\n",
      "80/80 [==============================] - 0s 751us/step - loss: 0.1664 - mae: 0.3188 - val_loss: 0.5171 - val_mae: 0.5476\n",
      "Epoch 101/125\n",
      "80/80 [==============================] - 0s 775us/step - loss: 0.1755 - mae: 0.3241 - val_loss: 0.4337 - val_mae: 0.4972\n",
      "Epoch 102/125\n",
      "80/80 [==============================] - 0s 873us/step - loss: 0.1995 - mae: 0.3411 - val_loss: 0.4816 - val_mae: 0.5172\n",
      "Epoch 103/125\n",
      "80/80 [==============================] - 0s 777us/step - loss: 0.1763 - mae: 0.3235 - val_loss: 0.5125 - val_mae: 0.5356\n",
      "Epoch 104/125\n",
      "80/80 [==============================] - 0s 769us/step - loss: 0.1799 - mae: 0.3249 - val_loss: 0.4291 - val_mae: 0.4948\n",
      "Epoch 105/125\n",
      "80/80 [==============================] - 0s 826us/step - loss: 0.1565 - mae: 0.3067 - val_loss: 0.4256 - val_mae: 0.4901\n",
      "Epoch 106/125\n",
      "80/80 [==============================] - 0s 867us/step - loss: 0.1816 - mae: 0.3336 - val_loss: 0.4477 - val_mae: 0.4998\n",
      "Epoch 107/125\n",
      "80/80 [==============================] - 0s 838us/step - loss: 0.1608 - mae: 0.3041 - val_loss: 0.4567 - val_mae: 0.4933\n",
      "Epoch 108/125\n",
      "80/80 [==============================] - 0s 824us/step - loss: 0.1724 - mae: 0.3172 - val_loss: 0.4970 - val_mae: 0.5334\n",
      "Epoch 109/125\n",
      "80/80 [==============================] - 0s 827us/step - loss: 0.1687 - mae: 0.3092 - val_loss: 0.4268 - val_mae: 0.4950\n",
      "Epoch 110/125\n",
      "80/80 [==============================] - 0s 840us/step - loss: 0.1795 - mae: 0.3217 - val_loss: 0.4462 - val_mae: 0.5052\n",
      "Epoch 111/125\n",
      "80/80 [==============================] - 0s 849us/step - loss: 0.1762 - mae: 0.3231 - val_loss: 0.4622 - val_mae: 0.5191\n",
      "Epoch 112/125\n",
      "80/80 [==============================] - 0s 881us/step - loss: 0.1774 - mae: 0.3240 - val_loss: 0.5009 - val_mae: 0.5290\n",
      "Epoch 113/125\n",
      "80/80 [==============================] - 0s 908us/step - loss: 0.1643 - mae: 0.3150 - val_loss: 0.4604 - val_mae: 0.5095\n",
      "Epoch 114/125\n",
      "80/80 [==============================] - 0s 839us/step - loss: 0.1607 - mae: 0.3061 - val_loss: 0.5275 - val_mae: 0.5447\n",
      "Epoch 115/125\n",
      "80/80 [==============================] - 0s 838us/step - loss: 0.1760 - mae: 0.3232 - val_loss: 0.4865 - val_mae: 0.5198\n",
      "Epoch 116/125\n",
      "80/80 [==============================] - 0s 771us/step - loss: 0.1623 - mae: 0.3100 - val_loss: 0.5532 - val_mae: 0.5616\n",
      "Epoch 117/125\n",
      "80/80 [==============================] - 0s 787us/step - loss: 0.1659 - mae: 0.3116 - val_loss: 0.4367 - val_mae: 0.5073\n",
      "Epoch 118/125\n",
      "80/80 [==============================] - 0s 862us/step - loss: 0.1559 - mae: 0.3049 - val_loss: 0.4533 - val_mae: 0.5020\n",
      "Epoch 119/125\n",
      "80/80 [==============================] - 0s 931us/step - loss: 0.1518 - mae: 0.3007 - val_loss: 0.5084 - val_mae: 0.5482\n",
      "Epoch 120/125\n",
      "80/80 [==============================] - 0s 919us/step - loss: 0.1505 - mae: 0.2973 - val_loss: 0.4621 - val_mae: 0.5153\n",
      "Epoch 121/125\n",
      "80/80 [==============================] - 0s 812us/step - loss: 0.1667 - mae: 0.3098 - val_loss: 0.4944 - val_mae: 0.5209\n",
      "Epoch 122/125\n",
      "80/80 [==============================] - 0s 2ms/step - loss: 0.1474 - mae: 0.2924 - val_loss: 0.5054 - val_mae: 0.5252\n",
      "Epoch 123/125\n",
      "80/80 [==============================] - 0s 832us/step - loss: 0.1529 - mae: 0.3004 - val_loss: 0.4486 - val_mae: 0.4892\n",
      "Epoch 124/125\n",
      "80/80 [==============================] - 0s 837us/step - loss: 0.1594 - mae: 0.3052 - val_loss: 0.4867 - val_mae: 0.5284\n",
      "Epoch 125/125\n",
      "80/80 [==============================] - 0s 719us/step - loss: 0.1622 - mae: 0.3022 - val_loss: 0.4535 - val_mae: 0.5067\n"
     ]
    }
   ],
   "source": [
    "hist = model.fit(X_train, y_train,\n",
    "                 validation_data=(X_test, y_test),\n",
    "                 epochs=125, batch_size=16, verbose=1)"
   ]
  },
  {
   "cell_type": "code",
   "execution_count": 27,
   "id": "254b4f90",
   "metadata": {},
   "outputs": [
    {
     "data": {
      "image/png": "[encoded data removed]",
      "text/plain": [
       "<Figure size 432x288 with 1 Axes>"
      ]
     },
     "metadata": {
      "needs_background": "light"
     },
     "output_type": "display_data"
    }
   ],
   "source": [
    "plt.plot(hist.history['loss'], label='train')\n",
    "plt.plot(hist.history['val_loss'], label='test')\n",
    "plt.legend()\n",
    "plt.show()"
   ]
  },
  {
   "cell_type": "markdown",
   "id": "75c33134",
   "metadata": {},
   "source": [
    "Change hyper-parameters"
   ]
  },
  {
   "cell_type": "code",
   "execution_count": 28,
   "id": "e7f6b66b",
   "metadata": {},
   "outputs": [],
   "source": [
    "model = models.Sequential([\n",
    "  layers.Dense(64, activation='relu', input_shape=(11,)),\n",
    "  layers.Dense(32, activation='relu'),\n",
    "  layers.Dense(16, activation='relu'),\n",
    "  layers.Dense(1, activation='linear')\n",
    "])\n",
    "optimizer = optimizers.RMSprop(lr = 1e-4)\n",
    "\n",
    "model.compile(optimizer=optimizer, loss='mse', metrics=['mae'])"
   ]
  },
  {
   "cell_type": "code",
   "execution_count": 29,
   "id": "f2171406",
   "metadata": {},
   "outputs": [
    {
     "name": "stdout",
     "output_type": "stream",
     "text": [
      "Epoch 1/50\n",
      "WARNING:tensorflow:AutoGraph could not transform <function Model.make_train_function.<locals>.train_function at 0x142feda60> and will run it as-is.\n",
      "Please report this to the TensorFlow team. When filing the bug, set the verbosity to 10 (on Linux, `export AUTOGRAPH_VERBOSITY=10`) and attach the full output.\n",
      "Cause: unsupported operand type(s) for -: 'NoneType' and 'int'\n",
      "To silence this warning, decorate the function with @tf.autograph.experimental.do_not_convert\n",
      "WARNING: AutoGraph could not transform <function Model.make_train_function.<locals>.train_function at 0x142feda60> and will run it as-is.\n",
      "Please report this to the TensorFlow team. When filing the bug, set the verbosity to 10 (on Linux, `export AUTOGRAPH_VERBOSITY=10`) and attach the full output.\n",
      "Cause: unsupported operand type(s) for -: 'NoneType' and 'int'\n",
      "To silence this warning, decorate the function with @tf.autograph.experimental.do_not_convert\n",
      "80/80 [==============================] - ETA: 0s - loss: 33.2388 - mae: 5.7036 WARNING:tensorflow:AutoGraph could not transform <function Model.make_test_function.<locals>.test_function at 0x143329c10> and will run it as-is.\n",
      "Please report this to the TensorFlow team. When filing the bug, set the verbosity to 10 (on Linux, `export AUTOGRAPH_VERBOSITY=10`) and attach the full output.\n",
      "Cause: unsupported operand type(s) for -: 'NoneType' and 'int'\n",
      "To silence this warning, decorate the function with @tf.autograph.experimental.do_not_convert\n",
      "WARNING: AutoGraph could not transform <function Model.make_test_function.<locals>.test_function at 0x143329c10> and will run it as-is.\n",
      "Please report this to the TensorFlow team. When filing the bug, set the verbosity to 10 (on Linux, `export AUTOGRAPH_VERBOSITY=10`) and attach the full output.\n",
      "Cause: unsupported operand type(s) for -: 'NoneType' and 'int'\n",
      "To silence this warning, decorate the function with @tf.autograph.experimental.do_not_convert\n",
      "80/80 [==============================] - 0s 3ms/step - loss: 33.2340 - mae: 5.7032 - val_loss: 32.5491 - val_mae: 5.6463\n",
      "Epoch 2/50\n",
      "80/80 [==============================] - 0s 1ms/step - loss: 30.7405 - mae: 5.4856 - val_loss: 30.7088 - val_mae: 5.4840\n",
      "Epoch 3/50\n",
      "80/80 [==============================] - 0s 2ms/step - loss: 29.7122 - mae: 5.3906 - val_loss: 28.2959 - val_mae: 5.2598\n",
      "Epoch 4/50\n",
      "80/80 [==============================] - 0s 1ms/step - loss: 27.4926 - mae: 5.1758 - val_loss: 25.6143 - val_mae: 4.9963\n",
      "Epoch 5/50\n",
      "80/80 [==============================] - 0s 1ms/step - loss: 24.8919 - mae: 4.9195 - val_loss: 22.5120 - val_mae: 4.6694\n",
      "Epoch 6/50\n",
      "80/80 [==============================] - 0s 2ms/step - loss: 21.2179 - mae: 4.5193 - val_loss: 19.1294 - val_mae: 4.2798\n",
      "Epoch 7/50\n",
      "80/80 [==============================] - 0s 2ms/step - loss: 18.1330 - mae: 4.1570 - val_loss: 15.5898 - val_mae: 3.8248\n",
      "Epoch 8/50\n",
      "80/80 [==============================] - 0s 969us/step - loss: 14.7730 - mae: 3.7080 - val_loss: 12.0251 - val_mae: 3.3022\n",
      "Epoch 9/50\n",
      "80/80 [==============================] - 0s 942us/step - loss: 11.3077 - mae: 3.1802 - val_loss: 8.6795 - val_mae: 2.7181\n",
      "Epoch 10/50\n",
      "80/80 [==============================] - 0s 976us/step - loss: 8.1683 - mae: 2.6318 - val_loss: 5.8903 - val_mae: 2.1304\n",
      "Epoch 11/50\n",
      "80/80 [==============================] - 0s 922us/step - loss: 5.5273 - mae: 2.0755 - val_loss: 3.9924 - val_mae: 1.6813\n",
      "Epoch 12/50\n",
      "80/80 [==============================] - 0s 886us/step - loss: 3.8284 - mae: 1.6224 - val_loss: 3.1272 - val_mae: 1.4311\n",
      "Epoch 13/50\n",
      "80/80 [==============================] - 0s 941us/step - loss: 3.0208 - mae: 1.3723 - val_loss: 2.7841 - val_mae: 1.3297\n",
      "Epoch 14/50\n",
      "80/80 [==============================] - 0s 832us/step - loss: 2.7382 - mae: 1.3042 - val_loss: 2.5740 - val_mae: 1.2725\n",
      "Epoch 15/50\n",
      "80/80 [==============================] - 0s 968us/step - loss: 2.5219 - mae: 1.2334 - val_loss: 2.3976 - val_mae: 1.2240\n",
      "Epoch 16/50\n",
      "80/80 [==============================] - 0s 860us/step - loss: 2.5624 - mae: 1.2289 - val_loss: 2.2696 - val_mae: 1.1836\n",
      "Epoch 17/50\n",
      "80/80 [==============================] - 0s 952us/step - loss: 2.0653 - mae: 1.1005 - val_loss: 2.1489 - val_mae: 1.1490\n",
      "Epoch 18/50\n",
      "80/80 [==============================] - 0s 883us/step - loss: 2.1386 - mae: 1.1119 - val_loss: 2.0529 - val_mae: 1.1181\n",
      "Epoch 19/50\n",
      "80/80 [==============================] - 0s 1ms/step - loss: 2.0784 - mae: 1.0989 - val_loss: 1.9560 - val_mae: 1.0897\n",
      "Epoch 20/50\n",
      "80/80 [==============================] - 0s 1ms/step - loss: 1.8812 - mae: 1.0629 - val_loss: 1.8688 - val_mae: 1.0634\n",
      "Epoch 21/50\n",
      "80/80 [==============================] - 0s 1ms/step - loss: 1.7851 - mae: 1.0336 - val_loss: 1.7945 - val_mae: 1.0409\n",
      "Epoch 22/50\n",
      "80/80 [==============================] - 0s 975us/step - loss: 1.8409 - mae: 1.0361 - val_loss: 1.7266 - val_mae: 1.0193\n",
      "Epoch 23/50\n",
      "80/80 [==============================] - 0s 1ms/step - loss: 1.7968 - mae: 1.0194 - val_loss: 1.6626 - val_mae: 0.9998\n",
      "Epoch 24/50\n",
      "80/80 [==============================] - 0s 1ms/step - loss: 1.6192 - mae: 0.9631 - val_loss: 1.6129 - val_mae: 0.9847\n",
      "Epoch 25/50\n",
      "80/80 [==============================] - 0s 1ms/step - loss: 1.5339 - mae: 0.9555 - val_loss: 1.5480 - val_mae: 0.9669\n",
      "Epoch 26/50\n",
      "80/80 [==============================] - 0s 1ms/step - loss: 1.6004 - mae: 0.9576 - val_loss: 1.4988 - val_mae: 0.9526\n",
      "Epoch 27/50\n",
      "80/80 [==============================] - 0s 1ms/step - loss: 1.4410 - mae: 0.9290 - val_loss: 1.4457 - val_mae: 0.9372\n",
      "Epoch 28/50\n",
      "80/80 [==============================] - 0s 1ms/step - loss: 1.4584 - mae: 0.9355 - val_loss: 1.4009 - val_mae: 0.9226\n",
      "Epoch 29/50\n",
      "80/80 [==============================] - 0s 870us/step - loss: 1.3869 - mae: 0.9107 - val_loss: 1.3573 - val_mae: 0.9092\n",
      "Epoch 30/50\n",
      "80/80 [==============================] - 0s 967us/step - loss: 1.4660 - mae: 0.9178 - val_loss: 1.3158 - val_mae: 0.8962\n",
      "Epoch 31/50\n",
      "80/80 [==============================] - 0s 890us/step - loss: 1.3329 - mae: 0.8844 - val_loss: 1.2777 - val_mae: 0.8840\n",
      "Epoch 32/50\n",
      "80/80 [==============================] - 0s 947us/step - loss: 1.2801 - mae: 0.8621 - val_loss: 1.2494 - val_mae: 0.8742\n",
      "Epoch 33/50\n",
      "80/80 [==============================] - 0s 844us/step - loss: 1.2378 - mae: 0.8633 - val_loss: 1.2076 - val_mae: 0.8605\n",
      "Epoch 34/50\n",
      "80/80 [==============================] - 0s 942us/step - loss: 1.2409 - mae: 0.8552 - val_loss: 1.1755 - val_mae: 0.8496\n",
      "Epoch 35/50\n",
      "80/80 [==============================] - 0s 948us/step - loss: 1.2195 - mae: 0.8406 - val_loss: 1.1481 - val_mae: 0.8396\n",
      "Epoch 36/50\n",
      "80/80 [==============================] - 0s 921us/step - loss: 1.1854 - mae: 0.8324 - val_loss: 1.1176 - val_mae: 0.8295\n",
      "Epoch 37/50\n",
      "80/80 [==============================] - 0s 847us/step - loss: 1.0986 - mae: 0.8094 - val_loss: 1.0883 - val_mae: 0.8192\n",
      "Epoch 38/50\n",
      "80/80 [==============================] - 0s 892us/step - loss: 1.0947 - mae: 0.8034 - val_loss: 1.0579 - val_mae: 0.8096\n",
      "Epoch 39/50\n",
      "80/80 [==============================] - 0s 866us/step - loss: 1.0001 - mae: 0.7782 - val_loss: 1.0301 - val_mae: 0.7990\n",
      "Epoch 40/50\n",
      "80/80 [==============================] - 0s 895us/step - loss: 1.0399 - mae: 0.7777 - val_loss: 1.0056 - val_mae: 0.7890\n",
      "Epoch 41/50\n",
      "80/80 [==============================] - 0s 1ms/step - loss: 1.0958 - mae: 0.7932 - val_loss: 0.9800 - val_mae: 0.7802\n",
      "Epoch 42/50\n",
      "80/80 [==============================] - 0s 1ms/step - loss: 0.9686 - mae: 0.7611 - val_loss: 0.9568 - val_mae: 0.7715\n",
      "Epoch 43/50\n",
      "80/80 [==============================] - 0s 951us/step - loss: 0.8611 - mae: 0.7133 - val_loss: 0.9314 - val_mae: 0.7626\n",
      "Epoch 44/50\n",
      "80/80 [==============================] - 0s 969us/step - loss: 0.9916 - mae: 0.7568 - val_loss: 0.9104 - val_mae: 0.7542\n",
      "Epoch 45/50\n",
      "80/80 [==============================] - 0s 887us/step - loss: 0.9433 - mae: 0.7543 - val_loss: 0.8920 - val_mae: 0.7461\n",
      "Epoch 46/50\n",
      "80/80 [==============================] - 0s 828us/step - loss: 0.8716 - mae: 0.7136 - val_loss: 0.8705 - val_mae: 0.7383\n",
      "Epoch 47/50\n",
      "80/80 [==============================] - 0s 930us/step - loss: 0.9700 - mae: 0.7554 - val_loss: 0.8521 - val_mae: 0.7325\n",
      "Epoch 48/50\n",
      "80/80 [==============================] - 0s 995us/step - loss: 0.8898 - mae: 0.7215 - val_loss: 0.8351 - val_mae: 0.7238\n",
      "Epoch 49/50\n",
      "80/80 [==============================] - 0s 908us/step - loss: 0.8316 - mae: 0.6963 - val_loss: 0.8216 - val_mae: 0.7180\n",
      "Epoch 50/50\n",
      "80/80 [==============================] - 0s 876us/step - loss: 0.8039 - mae: 0.6851 - val_loss: 0.7994 - val_mae: 0.7097\n"
     ]
    }
   ],
   "source": [
    "hist = model.fit(X_train, y_train,\n",
    "                 validation_data=(X_test, y_test),\n",
    "                 epochs=50, batch_size=16, verbose=1)"
   ]
  },
  {
   "cell_type": "code",
   "execution_count": 30,
   "id": "5682a64e",
   "metadata": {},
   "outputs": [
    {
     "data": {
      "image/png": "[encoded data removed]",
      "text/plain": [
       "<Figure size 432x288 with 1 Axes>"
      ]
     },
     "metadata": {
      "needs_background": "light"
     },
     "output_type": "display_data"
    }
   ],
   "source": [
    "plt.plot(hist.history['loss'], label='train')\n",
    "plt.plot(hist.history['val_loss'], label='test')\n",
    "plt.legend()\n",
    "plt.show()"
   ]
  },
  {
   "cell_type": "code",
   "execution_count": 31,
   "id": "994061b5",
   "metadata": {},
   "outputs": [
    {
     "name": "stdout",
     "output_type": "stream",
     "text": [
      "MSE loss: 0.7994\n",
      "MAE: 0.7097\n"
     ]
    }
   ],
   "source": [
    "test_mse_score, test_mae_score = model.evaluate(X_test, y_test, verbose=0)\n",
    "print('MSE loss: %.4f'\n",
    "      % test_mse_score)\n",
    "print('MAE: %.4f'\n",
    "      % test_mae_score)"
   ]
  },
  {
   "cell_type": "code",
   "execution_count": 32,
   "id": "8e3d6d1c",
   "metadata": {},
   "outputs": [
    {
     "name": "stdout",
     "output_type": "stream",
     "text": [
      "WARNING:tensorflow:AutoGraph could not transform <function Model.make_predict_function.<locals>.predict_function at 0x143a90550> and will run it as-is.\n",
      "Please report this to the TensorFlow team. When filing the bug, set the verbosity to 10 (on Linux, `export AUTOGRAPH_VERBOSITY=10`) and attach the full output.\n",
      "Cause: unsupported operand type(s) for -: 'NoneType' and 'int'\n",
      "To silence this warning, decorate the function with @tf.autograph.experimental.do_not_convert\n",
      "WARNING: AutoGraph could not transform <function Model.make_predict_function.<locals>.predict_function at 0x143a90550> and will run it as-is.\n",
      "Please report this to the TensorFlow team. When filing the bug, set the verbosity to 10 (on Linux, `export AUTOGRAPH_VERBOSITY=10`) and attach the full output.\n",
      "Cause: unsupported operand type(s) for -: 'NoneType' and 'int'\n",
      "To silence this warning, decorate the function with @tf.autograph.experimental.do_not_convert\n"
     ]
    }
   ],
   "source": [
    "y_test_pred = model.predict(X_test)"
   ]
  },
  {
   "cell_type": "code",
   "execution_count": 33,
   "id": "cc7da4d8",
   "metadata": {},
   "outputs": [
    {
     "data": {
      "image/png": "[encoded data removed]",
      "text/plain": [
       "<Figure size 432x288 with 1 Axes>"
      ]
     },
     "metadata": {
      "needs_background": "light"
     },
     "output_type": "display_data"
    }
   ],
   "source": [
    "plt.scatter(y_test, y_test_pred)\n",
    "plt.show()"
   ]
  }
 ],
 "metadata": {
  "kernelspec": {
   "display_name": "Python 3 (ipykernel)",
   "language": "python",
   "name": "python3"
  },
  "language_info": {
   "codemirror_mode": {
    "name": "ipython",
    "version": 3
   },
   "file_extension": ".py",
   "mimetype": "text/x-python",
   "name": "python",
   "nbconvert_exporter": "python",
   "pygments_lexer": "ipython3",
   "version": "3.8.12"
  }
 },
 "nbformat": 4,
 "nbformat_minor": 5
}
