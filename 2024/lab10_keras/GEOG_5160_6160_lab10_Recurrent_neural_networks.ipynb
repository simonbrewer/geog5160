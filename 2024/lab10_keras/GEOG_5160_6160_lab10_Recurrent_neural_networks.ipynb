{
 "cells": [
  {
   "cell_type": "markdown",
   "metadata": {},
   "source": [
    "# GEOG 5160 6160 Lab 10 Recurrent neural networks"
   ]
  },
  {
   "cell_type": "markdown",
   "metadata": {},
   "source": [
    "## Introduction\n",
    "\n",
    "**THIS IS AN OPTIONAL LAB**\n",
    "\n",
    "In this lab, we'll look at how to build a recurrent neural network using the Keras package. The example is modified from an example in Python from Jason Brownlee's blog on machine learning (https://machinelearningmastery.com/multivariate-time-series-forecasting-lstms-keras/). \n",
    "\n",
    "You will need the file called *pollution.csv*, which should be available from Canvas with this document. Download this to your `datafiles` folder.\n",
    "\n",
    "Let's start by loading some libraries we'll need for this lab:"
   ]
  },
  {
   "cell_type": "code",
   "execution_count": 1,
   "metadata": {},
   "outputs": [],
   "source": [
    "import numpy as np\n",
    "import pandas as pd\n",
    "from matplotlib import pyplot"
   ]
  },
  {
   "cell_type": "markdown",
   "metadata": {},
   "source": [
    "Next, we'll load the dataset and take a quick look at the first few lines:"
   ]
  },
  {
   "cell_type": "code",
   "execution_count": 2,
   "metadata": {},
   "outputs": [
    {
     "data": {
      "text/html": [
       "<div>\n",
       "<style scoped>\n",
       "    .dataframe tbody tr th:only-of-type {\n",
       "        vertical-align: middle;\n",
       "    }\n",
       "\n",
       "    .dataframe tbody tr th {\n",
       "        vertical-align: top;\n",
       "    }\n",
       "\n",
       "    .dataframe thead th {\n",
       "        text-align: right;\n",
       "    }\n",
       "</style>\n",
       "<table border=\"1\" class=\"dataframe\">\n",
       "  <thead>\n",
       "    <tr style=\"text-align: right;\">\n",
       "      <th></th>\n",
       "      <th>pollution</th>\n",
       "      <th>dew</th>\n",
       "      <th>temp</th>\n",
       "      <th>press</th>\n",
       "      <th>wnd_dir</th>\n",
       "      <th>wnd_spd</th>\n",
       "      <th>snow</th>\n",
       "      <th>rain</th>\n",
       "    </tr>\n",
       "    <tr>\n",
       "      <th>date</th>\n",
       "      <th></th>\n",
       "      <th></th>\n",
       "      <th></th>\n",
       "      <th></th>\n",
       "      <th></th>\n",
       "      <th></th>\n",
       "      <th></th>\n",
       "      <th></th>\n",
       "    </tr>\n",
       "  </thead>\n",
       "  <tbody>\n",
       "    <tr>\n",
       "      <th>2010-01-02 00:00:00</th>\n",
       "      <td>129.0</td>\n",
       "      <td>-16</td>\n",
       "      <td>-4.0</td>\n",
       "      <td>1020.0</td>\n",
       "      <td>SE</td>\n",
       "      <td>1.79</td>\n",
       "      <td>0</td>\n",
       "      <td>0</td>\n",
       "    </tr>\n",
       "    <tr>\n",
       "      <th>2010-01-02 01:00:00</th>\n",
       "      <td>148.0</td>\n",
       "      <td>-15</td>\n",
       "      <td>-4.0</td>\n",
       "      <td>1020.0</td>\n",
       "      <td>SE</td>\n",
       "      <td>2.68</td>\n",
       "      <td>0</td>\n",
       "      <td>0</td>\n",
       "    </tr>\n",
       "    <tr>\n",
       "      <th>2010-01-02 02:00:00</th>\n",
       "      <td>159.0</td>\n",
       "      <td>-11</td>\n",
       "      <td>-5.0</td>\n",
       "      <td>1021.0</td>\n",
       "      <td>SE</td>\n",
       "      <td>3.57</td>\n",
       "      <td>0</td>\n",
       "      <td>0</td>\n",
       "    </tr>\n",
       "    <tr>\n",
       "      <th>2010-01-02 03:00:00</th>\n",
       "      <td>181.0</td>\n",
       "      <td>-7</td>\n",
       "      <td>-5.0</td>\n",
       "      <td>1022.0</td>\n",
       "      <td>SE</td>\n",
       "      <td>5.36</td>\n",
       "      <td>1</td>\n",
       "      <td>0</td>\n",
       "    </tr>\n",
       "    <tr>\n",
       "      <th>2010-01-02 04:00:00</th>\n",
       "      <td>138.0</td>\n",
       "      <td>-7</td>\n",
       "      <td>-5.0</td>\n",
       "      <td>1022.0</td>\n",
       "      <td>SE</td>\n",
       "      <td>6.25</td>\n",
       "      <td>2</td>\n",
       "      <td>0</td>\n",
       "    </tr>\n",
       "    <tr>\n",
       "      <th>...</th>\n",
       "      <td>...</td>\n",
       "      <td>...</td>\n",
       "      <td>...</td>\n",
       "      <td>...</td>\n",
       "      <td>...</td>\n",
       "      <td>...</td>\n",
       "      <td>...</td>\n",
       "      <td>...</td>\n",
       "    </tr>\n",
       "    <tr>\n",
       "      <th>2014-12-31 19:00:00</th>\n",
       "      <td>8.0</td>\n",
       "      <td>-23</td>\n",
       "      <td>-2.0</td>\n",
       "      <td>1034.0</td>\n",
       "      <td>NW</td>\n",
       "      <td>231.97</td>\n",
       "      <td>0</td>\n",
       "      <td>0</td>\n",
       "    </tr>\n",
       "    <tr>\n",
       "      <th>2014-12-31 20:00:00</th>\n",
       "      <td>10.0</td>\n",
       "      <td>-22</td>\n",
       "      <td>-3.0</td>\n",
       "      <td>1034.0</td>\n",
       "      <td>NW</td>\n",
       "      <td>237.78</td>\n",
       "      <td>0</td>\n",
       "      <td>0</td>\n",
       "    </tr>\n",
       "    <tr>\n",
       "      <th>2014-12-31 21:00:00</th>\n",
       "      <td>10.0</td>\n",
       "      <td>-22</td>\n",
       "      <td>-3.0</td>\n",
       "      <td>1034.0</td>\n",
       "      <td>NW</td>\n",
       "      <td>242.70</td>\n",
       "      <td>0</td>\n",
       "      <td>0</td>\n",
       "    </tr>\n",
       "    <tr>\n",
       "      <th>2014-12-31 22:00:00</th>\n",
       "      <td>8.0</td>\n",
       "      <td>-22</td>\n",
       "      <td>-4.0</td>\n",
       "      <td>1034.0</td>\n",
       "      <td>NW</td>\n",
       "      <td>246.72</td>\n",
       "      <td>0</td>\n",
       "      <td>0</td>\n",
       "    </tr>\n",
       "    <tr>\n",
       "      <th>2014-12-31 23:00:00</th>\n",
       "      <td>12.0</td>\n",
       "      <td>-21</td>\n",
       "      <td>-3.0</td>\n",
       "      <td>1034.0</td>\n",
       "      <td>NW</td>\n",
       "      <td>249.85</td>\n",
       "      <td>0</td>\n",
       "      <td>0</td>\n",
       "    </tr>\n",
       "  </tbody>\n",
       "</table>\n",
       "<p>43800 rows × 8 columns</p>\n",
       "</div>"
      ],
      "text/plain": [
       "                     pollution  dew  temp   press wnd_dir  wnd_spd  snow  rain\n",
       "date                                                                          \n",
       "2010-01-02 00:00:00      129.0  -16  -4.0  1020.0      SE     1.79     0     0\n",
       "2010-01-02 01:00:00      148.0  -15  -4.0  1020.0      SE     2.68     0     0\n",
       "2010-01-02 02:00:00      159.0  -11  -5.0  1021.0      SE     3.57     0     0\n",
       "2010-01-02 03:00:00      181.0   -7  -5.0  1022.0      SE     5.36     1     0\n",
       "2010-01-02 04:00:00      138.0   -7  -5.0  1022.0      SE     6.25     2     0\n",
       "...                        ...  ...   ...     ...     ...      ...   ...   ...\n",
       "2014-12-31 19:00:00        8.0  -23  -2.0  1034.0      NW   231.97     0     0\n",
       "2014-12-31 20:00:00       10.0  -22  -3.0  1034.0      NW   237.78     0     0\n",
       "2014-12-31 21:00:00       10.0  -22  -3.0  1034.0      NW   242.70     0     0\n",
       "2014-12-31 22:00:00        8.0  -22  -4.0  1034.0      NW   246.72     0     0\n",
       "2014-12-31 23:00:00       12.0  -21  -3.0  1034.0      NW   249.85     0     0\n",
       "\n",
       "[43800 rows x 8 columns]"
      ]
     },
     "execution_count": 2,
     "metadata": {},
     "output_type": "execute_result"
    }
   ],
   "source": [
    "# load dataset\n",
    "dataset = pd.read_csv('../datafiles/pollution.csv', header=0, index_col=0)\n",
    "dataset"
   ]
  },
  {
   "cell_type": "markdown",
   "metadata": {},
   "source": [
    "The data are hourly pollution and weather measurements from the US embassy in Beijing for a period of 5 years. The goal will be to build a model that can do a step ahead prediction, i.e. can predict the PM2.5 concentration at any hour $t$ from the values of all the variables at previous hour $t-1$, *including the previous value of PM2.5*."
   ]
  },
  {
   "cell_type": "markdown",
   "metadata": {},
   "source": [
    "Let's make a couple of plots to see what the variables look like for the first year. We'll first convert this to a NumPy array (as these are a little easier for Keras to work with):"
   ]
  },
  {
   "cell_type": "code",
   "execution_count": 3,
   "metadata": {},
   "outputs": [],
   "source": [
    "values = dataset.values"
   ]
  },
  {
   "cell_type": "code",
   "execution_count": 4,
   "metadata": {},
   "outputs": [
    {
     "data": {
      "image/png": "[encoded data removed]",
      "text/plain": [
       "<Figure size 432x288 with 7 Axes>"
      ]
     },
     "metadata": {
      "needs_background": "light"
     },
     "output_type": "display_data"
    }
   ],
   "source": [
    "# specify columns to plot\n",
    "groups = [0, 1, 2, 3, 5, 6, 7]\n",
    "i = 1\n",
    "# plot each column\n",
    "pyplot.figure()\n",
    "for group in groups:\n",
    "    pyplot.subplot(len(groups), 1, i)\n",
    "    pyplot.plot(values[:, group])\n",
    "    pyplot.title(dataset.columns[group], y=0.5, loc='right')\n",
    "    i += 1\n",
    "pyplot.show()"
   ]
  },
  {
   "cell_type": "markdown",
   "metadata": {},
   "source": [
    "Before we can build a model there are a few things we'll need to do to process these data:\n",
    "\n",
    "- Create lagged variables (i.e. the values of each variable one hour ahead of the target time)\n",
    "- Encode the wind direction variable\n",
    "- Normalize all the features\n",
    "- Create a training and testing set"
   ]
  },
  {
   "cell_type": "markdown",
   "metadata": {},
   "source": [
    "As we want to model pollution using the previous hour's features, we need to create a lagged version of each one. So for any given observation, we need the value of each feature from the previous hour. There's a couple of ways to do this, but we'll use a function that was create by Jason Brownlee to create a lagged dataset. This takes as arguments: the data set you want to alter, and the number of lags you need to create. It will return a new dataset consisting of the original values of each feature, plus new, time-lagged features. Note that it also removes any row with a missing value (lagged variables will have missing values for the first observations). \n",
    "\n",
    "A full description of what this function is doing can be found here:\n",
    "https://machinelearningmastery.com/convert-time-series-supervised-learning-problem-python/"
   ]
  },
  {
   "cell_type": "code",
   "execution_count": 5,
   "metadata": {},
   "outputs": [],
   "source": [
    "from pandas import concat\n",
    "from pandas import DataFrame\n",
    " \n",
    "# convert series to supervised learning\n",
    "def series_to_supervised(data, n_in=1, n_out=1, dropnan=True):\n",
    "    n_vars = 1 if type(data) is list else data.shape[1]\n",
    "    df = DataFrame(data)\n",
    "    cols, names = list(), list()\n",
    "    # input sequence (t-n, ... t-1)\n",
    "    for i in range(n_in, 0, -1):\n",
    "        cols.append(df.shift(i))\n",
    "        names += [('var%d(t-%d)' % (j+1, i)) for j in range(n_vars)]\n",
    "    # forecast sequence (t, t+1, ... t+n)\n",
    "    for i in range(0, n_out):\n",
    "        cols.append(df.shift(-i))\n",
    "        if i == 0:\n",
    "            names += [('var%d(t)' % (j+1)) for j in range(n_vars)]\n",
    "        else:\n",
    "            names += [('var%d(t+%d)' % (j+1, i)) for j in range(n_vars)]\n",
    "    # put it all together\n",
    "    agg = concat(cols, axis=1)\n",
    "    agg.columns = names\n",
    "    # drop rows with NaN values\n",
    "    if dropnan:\n",
    "        agg.dropna(inplace=True)\n",
    "    return agg"
   ]
  },
  {
   "cell_type": "markdown",
   "metadata": {},
   "source": [
    "We'll start by encoding the wind direction feature to integer values using scikit-learn's LabelEncoder(), then makes sure that everything is transformed to a floating point value:"
   ]
  },
  {
   "cell_type": "code",
   "execution_count": 6,
   "metadata": {},
   "outputs": [],
   "source": [
    "from sklearn.preprocessing import LabelEncoder\n",
    "\n",
    " # Extract values to NumPy array\n",
    "values = dataset.values\n",
    "# integer encode direction\n",
    "encoder = LabelEncoder()\n",
    "values[:,4] = encoder.fit_transform(values[:,4])\n",
    "# ensure all data is float\n",
    "values = values.astype('float32')"
   ]
  },
  {
   "cell_type": "markdown",
   "metadata": {},
   "source": [
    "Next, we'll normalize the data to 0-1 range for training. We'll use scikit-learn's `MinMaxScaler` function to replace the original values with the transformed values. Normally, we'd only normalize the features, but as we are going to use the PM2.5 value from the previous time step as an additional feature, we need to normalize this as well. As this means we will be modeling the normalized PM2.5 values, we'll first store the minimum and maximum. This will allow us to back convert any predictions we make to parts per billion. "
   ]
  },
  {
   "cell_type": "code",
   "execution_count": 7,
   "metadata": {},
   "outputs": [
    {
     "name": "stdout",
     "output_type": "stream",
     "text": [
      "PM2.5 Min: 0.00; Max: 994.00\n"
     ]
    }
   ],
   "source": [
    "pollution_min = np.min(values[:,0])\n",
    "pollution_max = np.max(values[:,0])\n",
    "\n",
    "print('PM2.5 Min: %.2f; Max: %.2f' % (pollution_min, pollution_max))"
   ]
  },
  {
   "cell_type": "code",
   "execution_count": 8,
   "metadata": {},
   "outputs": [],
   "source": [
    "from sklearn.preprocessing import MinMaxScaler\n",
    "\n",
    "# normalize features\n",
    "scaler = MinMaxScaler(feature_range=(0, 1))\n",
    "scaled = scaler.fit_transform(values)"
   ]
  },
  {
   "cell_type": "markdown",
   "metadata": {},
   "source": [
    "Now, we'll pass the normalized features through the function to create lagged variables"
   ]
  },
  {
   "cell_type": "code",
   "execution_count": 9,
   "metadata": {},
   "outputs": [],
   "source": [
    "# frame as supervised learning\n",
    "reframed = series_to_supervised(scaled, 1, 1)"
   ]
  },
  {
   "cell_type": "markdown",
   "metadata": {},
   "source": [
    "And finally keep only the lagged features and the pollution:"
   ]
  },
  {
   "cell_type": "code",
   "execution_count": 10,
   "metadata": {},
   "outputs": [
    {
     "name": "stdout",
     "output_type": "stream",
     "text": [
      "   var1(t-1)  var2(t-1)  var3(t-1)  var4(t-1)  var5(t-1)  var6(t-1)  \\\n",
      "1   0.129779   0.352941   0.245902   0.527273   0.666667   0.002290   \n",
      "2   0.148893   0.367647   0.245902   0.527273   0.666667   0.003811   \n",
      "3   0.159960   0.426471   0.229508   0.545454   0.666667   0.005332   \n",
      "4   0.182093   0.485294   0.229508   0.563637   0.666667   0.008391   \n",
      "5   0.138833   0.485294   0.229508   0.563637   0.666667   0.009912   \n",
      "\n",
      "   var7(t-1)  var8(t-1)   var1(t)  \n",
      "1   0.000000        0.0  0.148893  \n",
      "2   0.000000        0.0  0.159960  \n",
      "3   0.000000        0.0  0.182093  \n",
      "4   0.037037        0.0  0.138833  \n",
      "5   0.074074        0.0  0.109658  \n"
     ]
    }
   ],
   "source": [
    "reframed.drop(reframed.columns[[9,10,11,12,13,14,15]], axis=1, inplace=True)\n",
    "print(reframed.head())"
   ]
  },
  {
   "cell_type": "markdown",
   "metadata": {},
   "source": [
    "If you look at the first few rows, you should see that the target (`var1(t)`) is now linked to the previous hour's pollution value `var1(t-1)` (and the other features)."
   ]
  },
  {
   "cell_type": "markdown",
   "metadata": {},
   "source": [
    "The last thing we need to do is to create out training and testing sets. We'll keep the first two years for training, and the other three years for testing. Some things to note here:\n",
    "\n",
    "- We generate an index for the samples that is the number of days in a year * the number of hours. Technically it should be one less than this as we will have lost the first row once we lagged the features\n",
    "- The data are converted to a matrix form, then reshaped to a 3D array. As we are going to be fitting a recurrent neural network, we need to make sure the input tensor has the correct shape. RNNs use rank 3 tensors with a shape given by (`sample`, `timesteps`, `features`). Here, we only have a single time step, because we are only using the preceding hour as input. Ultimately we'll rely on the RNNs hidden state to 'remember' earlier information"
   ]
  },
  {
   "cell_type": "code",
   "execution_count": 11,
   "metadata": {},
   "outputs": [
    {
     "name": "stdout",
     "output_type": "stream",
     "text": [
      "(17520, 1, 8) (17520,) (26279, 1, 8) (26279,)\n"
     ]
    }
   ],
   "source": [
    "# split into train and test sets\n",
    "values = reframed.values\n",
    "n_train_hours = 365 * 24 * 2 ## two years of data\n",
    "train = values[:n_train_hours, :]\n",
    "test = values[n_train_hours:, :]\n",
    "# split into input and outputs\n",
    "X_train, y_train = train[:, :-1], train[:, -1]\n",
    "X_test, y_test = test[:, :-1], test[:, -1]\n",
    "# reshape input to be 3D [samples, timesteps, features]\n",
    "X_train = X_train.reshape((X_train.shape[0], 1, X_train.shape[1]))\n",
    "X_test = X_test.reshape((X_test.shape[0], 1, X_test.shape[1]))\n",
    "print(X_train.shape, y_train.shape, X_test.shape, y_test.shape)"
   ]
  },
  {
   "cell_type": "markdown",
   "metadata": {},
   "source": [
    "## Model"
   ]
  },
  {
   "cell_type": "markdown",
   "metadata": {},
   "source": [
    "### Dense network\n",
    "\n",
    "Now let's put together a model. Before trying a recurrent NN, let's just build a standard dense network. This will allow us to test if the additional complexity of the RNN is worth it or not. There's only one small problem here. The dense network requires a rank 2 tensor or 2D array of features as input. In the step above, we created rank 3 tensors for use with a RNN: "
   ]
  },
  {
   "cell_type": "code",
   "execution_count": 12,
   "metadata": {},
   "outputs": [
    {
     "name": "stdout",
     "output_type": "stream",
     "text": [
      "(17520, 1, 8)\n",
      "(26279, 1, 8)\n"
     ]
    }
   ],
   "source": [
    "print(X_train.shape)\n",
    "print(X_test.shape)"
   ]
  },
  {
   "cell_type": "markdown",
   "metadata": {},
   "source": [
    "Fortunately, it is easy to change these back using the `reshape()` method:"
   ]
  },
  {
   "cell_type": "code",
   "execution_count": 13,
   "metadata": {},
   "outputs": [],
   "source": [
    "X_train_flat = X_train.reshape(17520, 8)\n",
    "X_test_flat = X_test.reshape(26279, 8)"
   ]
  },
  {
   "cell_type": "markdown",
   "metadata": {},
   "source": [
    "Now let's divide these into a partial training set and validation set, with a year of data in each"
   ]
  },
  {
   "cell_type": "code",
   "execution_count": 14,
   "metadata": {},
   "outputs": [],
   "source": [
    "n_train_hours = 365*24\n",
    "X_train_flat_partial = X_train_flat[:n_train_hours, :]\n",
    "y_train_partial = y_train[:n_train_hours]\n",
    "X_val_flat = X_train_flat[n_train_hours:, :]\n",
    "y_val = y_train[n_train_hours:]"
   ]
  },
  {
   "cell_type": "markdown",
   "metadata": {},
   "source": [
    "As before, we build our model as a sequential series of layers. We have just a single hidden layer with 50 nodes and we'll use a default liner activation function. This feeds into a output layer with a single node to match the observed, non-lagged PM2.5 values."
   ]
  },
  {
   "cell_type": "code",
   "execution_count": 15,
   "metadata": {},
   "outputs": [
    {
     "name": "stdout",
     "output_type": "stream",
     "text": [
      "Model: \"sequential\"\n",
      "_________________________________________________________________\n",
      "Layer (type)                 Output Shape              Param #   \n",
      "=================================================================\n",
      "dense (Dense)                (None, 50)                450       \n",
      "_________________________________________________________________\n",
      "dense_1 (Dense)              (None, 1)                 51        \n",
      "=================================================================\n",
      "Total params: 501\n",
      "Trainable params: 501\n",
      "Non-trainable params: 0\n",
      "_________________________________________________________________\n",
      "None\n"
     ]
    }
   ],
   "source": [
    "from tensorflow.keras import models\n",
    "from tensorflow.keras import layers\n",
    "\n",
    "model = models.Sequential([                        \n",
    "      layers.Dense(50, input_shape=(8,)),\n",
    "      layers.Dense(1)\n",
    "])\n",
    "print(model.summary())"
   ]
  },
  {
   "cell_type": "markdown",
   "metadata": {},
   "source": [
    "Now let's compile this by adding an optimizer, loss function and performance metric. We'll use a different optimizer called Adam, which works well with large, noisy datasets (and is particularly efficient for deep learning)."
   ]
  },
  {
   "cell_type": "code",
   "execution_count": 16,
   "metadata": {},
   "outputs": [],
   "source": [
    "model.compile(optimizer='adam', loss='mse', metrics=['mae'])"
   ]
  },
  {
   "cell_type": "markdown",
   "metadata": {},
   "source": [
    "And now we can train the network. We'll use a batch size of 64 as we have quite a lot of observations to work with, and run this for 50 epochs. We'll train on the first year of training data, and validate on the second."
   ]
  },
  {
   "cell_type": "code",
   "execution_count": 17,
   "metadata": {},
   "outputs": [
    {
     "name": "stdout",
     "output_type": "stream",
     "text": [
      "Train on 8760 samples, validate on 8760 samples\n",
      "Epoch 1/50\n",
      "8760/8760 - 2s - loss: 0.0047 - mae: 0.0492 - val_loss: 0.0093 - val_mae: 0.0785\n",
      "Epoch 2/50\n",
      "8760/8760 - 1s - loss: 0.0014 - mae: 0.0252 - val_loss: 0.0046 - val_mae: 0.0542\n",
      "Epoch 3/50\n",
      "8760/8760 - 1s - loss: 0.0011 - mae: 0.0202 - val_loss: 0.0023 - val_mae: 0.0374\n",
      "Epoch 4/50\n",
      "8760/8760 - 1s - loss: 0.0010 - mae: 0.0182 - val_loss: 0.0015 - val_mae: 0.0285\n",
      "Epoch 5/50\n",
      "8760/8760 - 1s - loss: 0.0010 - mae: 0.0171 - val_loss: 0.0012 - val_mae: 0.0253\n",
      "Epoch 6/50\n",
      "8760/8760 - 1s - loss: 0.0010 - mae: 0.0167 - val_loss: 0.0013 - val_mae: 0.0263\n",
      "Epoch 7/50\n",
      "8760/8760 - 1s - loss: 0.0010 - mae: 0.0165 - val_loss: 0.0014 - val_mae: 0.0284\n",
      "Epoch 8/50\n",
      "8760/8760 - 1s - loss: 0.0010 - mae: 0.0166 - val_loss: 0.0015 - val_mae: 0.0301\n",
      "Epoch 9/50\n",
      "8760/8760 - 1s - loss: 0.0010 - mae: 0.0168 - val_loss: 0.0016 - val_mae: 0.0311\n",
      "Epoch 10/50\n",
      "8760/8760 - 1s - loss: 0.0010 - mae: 0.0170 - val_loss: 0.0016 - val_mae: 0.0317\n",
      "Epoch 11/50\n",
      "8760/8760 - 1s - loss: 0.0010 - mae: 0.0172 - val_loss: 0.0016 - val_mae: 0.0317\n",
      "Epoch 12/50\n",
      "8760/8760 - 1s - loss: 0.0010 - mae: 0.0173 - val_loss: 0.0016 - val_mae: 0.0313\n",
      "Epoch 13/50\n",
      "8760/8760 - 1s - loss: 0.0010 - mae: 0.0174 - val_loss: 0.0016 - val_mae: 0.0307\n",
      "Epoch 14/50\n",
      "8760/8760 - 1s - loss: 0.0010 - mae: 0.0174 - val_loss: 0.0015 - val_mae: 0.0301\n",
      "Epoch 15/50\n",
      "8760/8760 - 1s - loss: 0.0010 - mae: 0.0175 - val_loss: 0.0015 - val_mae: 0.0296\n",
      "Epoch 16/50\n",
      "8760/8760 - 1s - loss: 0.0010 - mae: 0.0175 - val_loss: 0.0015 - val_mae: 0.0291\n",
      "Epoch 17/50\n",
      "8760/8760 - 1s - loss: 0.0010 - mae: 0.0175 - val_loss: 0.0014 - val_mae: 0.0287\n",
      "Epoch 18/50\n",
      "8760/8760 - 1s - loss: 0.0010 - mae: 0.0175 - val_loss: 0.0014 - val_mae: 0.0284\n",
      "Epoch 19/50\n",
      "8760/8760 - 1s - loss: 0.0010 - mae: 0.0176 - val_loss: 0.0014 - val_mae: 0.0282\n",
      "Epoch 20/50\n",
      "8760/8760 - 1s - loss: 0.0010 - mae: 0.0176 - val_loss: 0.0014 - val_mae: 0.0280\n",
      "Epoch 21/50\n",
      "8760/8760 - 1s - loss: 0.0010 - mae: 0.0176 - val_loss: 0.0014 - val_mae: 0.0278\n",
      "Epoch 22/50\n",
      "8760/8760 - 1s - loss: 0.0010 - mae: 0.0176 - val_loss: 0.0014 - val_mae: 0.0277\n",
      "Epoch 23/50\n",
      "8760/8760 - 1s - loss: 0.0010 - mae: 0.0176 - val_loss: 0.0014 - val_mae: 0.0275\n",
      "Epoch 24/50\n",
      "8760/8760 - 1s - loss: 0.0010 - mae: 0.0176 - val_loss: 0.0013 - val_mae: 0.0274\n",
      "Epoch 25/50\n",
      "8760/8760 - 1s - loss: 0.0010 - mae: 0.0177 - val_loss: 0.0013 - val_mae: 0.0274\n",
      "Epoch 26/50\n",
      "8760/8760 - 1s - loss: 0.0010 - mae: 0.0177 - val_loss: 0.0013 - val_mae: 0.0273\n",
      "Epoch 27/50\n",
      "8760/8760 - 1s - loss: 0.0010 - mae: 0.0177 - val_loss: 0.0013 - val_mae: 0.0272\n",
      "Epoch 28/50\n",
      "8760/8760 - 1s - loss: 0.0010 - mae: 0.0177 - val_loss: 0.0013 - val_mae: 0.0272\n",
      "Epoch 29/50\n",
      "8760/8760 - 1s - loss: 0.0010 - mae: 0.0177 - val_loss: 0.0013 - val_mae: 0.0272\n",
      "Epoch 30/50\n",
      "8760/8760 - 1s - loss: 0.0010 - mae: 0.0177 - val_loss: 0.0013 - val_mae: 0.0271\n",
      "Epoch 31/50\n",
      "8760/8760 - 1s - loss: 0.0010 - mae: 0.0177 - val_loss: 0.0013 - val_mae: 0.0271\n",
      "Epoch 32/50\n",
      "8760/8760 - 1s - loss: 0.0010 - mae: 0.0177 - val_loss: 0.0013 - val_mae: 0.0271\n",
      "Epoch 33/50\n",
      "8760/8760 - 1s - loss: 0.0010 - mae: 0.0177 - val_loss: 0.0013 - val_mae: 0.0272\n",
      "Epoch 34/50\n",
      "8760/8760 - 1s - loss: 0.0010 - mae: 0.0177 - val_loss: 0.0013 - val_mae: 0.0272\n",
      "Epoch 35/50\n",
      "8760/8760 - 1s - loss: 0.0010 - mae: 0.0177 - val_loss: 0.0013 - val_mae: 0.0272\n",
      "Epoch 36/50\n",
      "8760/8760 - 1s - loss: 0.0010 - mae: 0.0177 - val_loss: 0.0013 - val_mae: 0.0273\n",
      "Epoch 37/50\n",
      "8760/8760 - 1s - loss: 0.0010 - mae: 0.0177 - val_loss: 0.0013 - val_mae: 0.0274\n",
      "Epoch 38/50\n",
      "8760/8760 - 1s - loss: 0.0010 - mae: 0.0176 - val_loss: 0.0013 - val_mae: 0.0275\n",
      "Epoch 39/50\n",
      "8760/8760 - 1s - loss: 0.0010 - mae: 0.0176 - val_loss: 0.0014 - val_mae: 0.0276\n",
      "Epoch 40/50\n",
      "8760/8760 - 1s - loss: 0.0010 - mae: 0.0176 - val_loss: 0.0014 - val_mae: 0.0278\n",
      "Epoch 41/50\n",
      "8760/8760 - 1s - loss: 0.0010 - mae: 0.0176 - val_loss: 0.0014 - val_mae: 0.0279\n",
      "Epoch 42/50\n",
      "8760/8760 - 1s - loss: 0.0010 - mae: 0.0176 - val_loss: 0.0014 - val_mae: 0.0280\n",
      "Epoch 43/50\n",
      "8760/8760 - 1s - loss: 0.0010 - mae: 0.0175 - val_loss: 0.0014 - val_mae: 0.0282\n",
      "Epoch 44/50\n",
      "8760/8760 - 1s - loss: 0.0010 - mae: 0.0175 - val_loss: 0.0014 - val_mae: 0.0284\n",
      "Epoch 45/50\n",
      "8760/8760 - 1s - loss: 0.0010 - mae: 0.0175 - val_loss: 0.0014 - val_mae: 0.0285\n",
      "Epoch 46/50\n",
      "8760/8760 - 1s - loss: 0.0010 - mae: 0.0175 - val_loss: 0.0014 - val_mae: 0.0287\n",
      "Epoch 47/50\n",
      "8760/8760 - 1s - loss: 0.0010 - mae: 0.0175 - val_loss: 0.0014 - val_mae: 0.0288\n",
      "Epoch 48/50\n",
      "8760/8760 - 1s - loss: 0.0010 - mae: 0.0174 - val_loss: 0.0014 - val_mae: 0.0290\n",
      "Epoch 49/50\n",
      "8760/8760 - 0s - loss: 0.0010 - mae: 0.0174 - val_loss: 0.0014 - val_mae: 0.0292\n",
      "Epoch 50/50\n",
      "8760/8760 - 0s - loss: 0.0010 - mae: 0.0174 - val_loss: 0.0015 - val_mae: 0.0293\n"
     ]
    }
   ],
   "source": [
    "# fit network\n",
    "history = model.fit(X_train_flat_partial, y_train_partial, epochs=50, batch_size=64, \n",
    "                    validation_data=(X_val_flat, y_val), verbose=2, shuffle=False)"
   ]
  },
  {
   "cell_type": "code",
   "execution_count": 18,
   "metadata": {},
   "outputs": [
    {
     "data": {
      "image/png": "[encoded data removed]",
      "text/plain": [
       "<Figure size 432x288 with 1 Axes>"
      ]
     },
     "metadata": {
      "needs_background": "light"
     },
     "output_type": "display_data"
    }
   ],
   "source": [
    "# plot history\n",
    "pyplot.plot(history.history['loss'], label='train')\n",
    "pyplot.plot(history.history['val_loss'], label='test')\n",
    "pyplot.legend()\n",
    "pyplot.show()"
   ]
  },
  {
   "cell_type": "markdown",
   "metadata": {},
   "source": [
    "The validation shows no sign of overfitting, but little improvement beyond about 35 epochs. Let's now build the full training model and evaluate:"
   ]
  },
  {
   "cell_type": "code",
   "execution_count": 19,
   "metadata": {},
   "outputs": [],
   "source": [
    "model = models.Sequential([                        \n",
    "      layers.Dense(50, input_shape=(8,)),\n",
    "      layers.Dense(1)\n",
    "])\n",
    "model.compile(optimizer='adam', loss='mse', metrics=['mae'])\n",
    "history = model.fit(X_train_flat, y_train, epochs=35, batch_size=64, \n",
    "                    verbose=0, shuffle=False)"
   ]
  },
  {
   "cell_type": "markdown",
   "metadata": {},
   "source": [
    "We now evaluate on the test set"
   ]
  },
  {
   "cell_type": "code",
   "execution_count": 20,
   "metadata": {},
   "outputs": [],
   "source": [
    "test_mse_score, test_mae_score = model.evaluate(X_test_flat, y_test, verbose=0)"
   ]
  },
  {
   "cell_type": "code",
   "execution_count": 21,
   "metadata": {},
   "outputs": [
    {
     "name": "stdout",
     "output_type": "stream",
     "text": [
      "Mean squared error: 0.0011\n",
      "Mean absolute error: 0.0237\n"
     ]
    }
   ],
   "source": [
    "print('Mean squared error: %.4f'\n",
    "      % test_mse_score)\n",
    "print('Mean absolute error: %.4f'\n",
    "      % test_mae_score)"
   ]
  },
  {
   "cell_type": "markdown",
   "metadata": {},
   "source": [
    "As we had to normalize the PM2.5 values to use them as a lagged variable, the MAE is on this normalized scale. To get a better assessment of the model, we can calculate an error value by back-transforming the prediction. A simple function to back transform from a minmax scaling is:"
   ]
  },
  {
   "cell_type": "code",
   "execution_count": 22,
   "metadata": {},
   "outputs": [],
   "source": [
    "def back_transform(data, data_min=0, data_max=1):\n",
    "    return (data * (data_max - data_min)) + data_min"
   ]
  },
  {
   "cell_type": "markdown",
   "metadata": {},
   "source": [
    "To get a back transformed MAE, we need to \n",
    "\n",
    "- Predict for the test set on the normalized scale\n",
    "- Back transform these predictions\n",
    "- Back transform the matching test labels (PM2.5 values)\n",
    "- Calculate the mean absolute error"
   ]
  },
  {
   "cell_type": "code",
   "execution_count": 23,
   "metadata": {},
   "outputs": [
    {
     "data": {
      "text/plain": [
       "(26279, 1)"
      ]
     },
     "execution_count": 23,
     "metadata": {},
     "output_type": "execute_result"
    }
   ],
   "source": [
    "y_test_pred_norm = model.predict(X_test_flat)\n",
    "y_test_pred_norm.shape"
   ]
  },
  {
   "cell_type": "markdown",
   "metadata": {},
   "source": [
    "The output of the `predict()` method is a 2D array, so we'll need to reshape this to a 1D array to match the observed PM2.5 values"
   ]
  },
  {
   "cell_type": "code",
   "execution_count": 24,
   "metadata": {},
   "outputs": [],
   "source": [
    "y_test_pred_norm = y_test_pred_norm.reshape(y_test.shape)"
   ]
  },
  {
   "cell_type": "markdown",
   "metadata": {},
   "source": [
    "Now we can back transform these predictions (and the observed PM2.5 values from the test set)"
   ]
  },
  {
   "cell_type": "code",
   "execution_count": 25,
   "metadata": {},
   "outputs": [],
   "source": [
    "y_test_pred = back_transform(y_test_pred_norm, pollution_min, pollution_max)\n",
    "y_test_obs = back_transform(y_test, pollution_min, pollution_max)"
   ]
  },
  {
   "cell_type": "markdown",
   "metadata": {},
   "source": [
    "And finally, calculate the MAE in ppb:"
   ]
  },
  {
   "cell_type": "code",
   "execution_count": 26,
   "metadata": {},
   "outputs": [
    {
     "data": {
      "text/plain": [
       "23.528936"
      ]
     },
     "execution_count": 26,
     "metadata": {},
     "output_type": "execute_result"
    }
   ],
   "source": [
    "np.mean(np.abs(y_test_pred - y_test_obs))"
   ]
  },
  {
   "cell_type": "markdown",
   "metadata": {},
   "source": [
    "## LSTM \n",
    "\n",
    "Now let's build a recurrent neural network. We'll use a very similar structure to the previous model, but replace the hidden layer with a LSTM layer. This includes both the hidden state component and the carry track, allowing the model to propagate information over a large number of time steps. The input and output remain the same"
   ]
  },
  {
   "cell_type": "code",
   "execution_count": 27,
   "metadata": {},
   "outputs": [],
   "source": [
    "from tensorflow.keras import models\n",
    "from tensorflow.keras import layers\n",
    "\n",
    "model = models.Sequential([                        \n",
    "      layers.LSTM(50, input_shape=(X_train.shape[1], X_train.shape[2])),\n",
    "      layers.Dense(1)\n",
    "])"
   ]
  },
  {
   "cell_type": "code",
   "execution_count": 28,
   "metadata": {},
   "outputs": [
    {
     "name": "stdout",
     "output_type": "stream",
     "text": [
      "Model: \"sequential_2\"\n",
      "_________________________________________________________________\n",
      "Layer (type)                 Output Shape              Param #   \n",
      "=================================================================\n",
      "lstm (LSTM)                  (None, 50)                11800     \n",
      "_________________________________________________________________\n",
      "dense_4 (Dense)              (None, 1)                 51        \n",
      "=================================================================\n",
      "Total params: 11,851\n",
      "Trainable params: 11,851\n",
      "Non-trainable params: 0\n",
      "_________________________________________________________________\n",
      "None\n"
     ]
    }
   ],
   "source": [
    "print(model.summary())"
   ]
  },
  {
   "cell_type": "code",
   "execution_count": 29,
   "metadata": {},
   "outputs": [
    {
     "data": {
      "image/png": "[encoded data removed]",
      "text/plain": [
       "<IPython.core.display.Image object>"
      ]
     },
     "execution_count": 29,
     "metadata": {},
     "output_type": "execute_result"
    }
   ],
   "source": [
    "from tensorflow.keras.utils import plot_model\n",
    "plot_model(model)"
   ]
  },
  {
   "cell_type": "code",
   "execution_count": 30,
   "metadata": {},
   "outputs": [],
   "source": [
    "model.compile(optimizer='adam', loss='mse', metrics=['mae'])"
   ]
  },
  {
   "cell_type": "markdown",
   "metadata": {},
   "source": [
    "Now let's train and validate. As this is a more complex algorithm, we'll train for 100 epochs. First divide the training data into training and validation. Note that now we need to keep this as a rank 3 tensor for the LSTM layer"
   ]
  },
  {
   "cell_type": "code",
   "execution_count": 31,
   "metadata": {},
   "outputs": [],
   "source": [
    "n_train_hours = 365*24\n",
    "X_train_partial = X_train[:n_train_hours, :, :]\n",
    "y_train_partial = y_train[:n_train_hours]\n",
    "X_val = X_train[n_train_hours:, :, :]\n",
    "y_val = y_train[n_train_hours:]"
   ]
  },
  {
   "cell_type": "code",
   "execution_count": 32,
   "metadata": {},
   "outputs": [
    {
     "name": "stdout",
     "output_type": "stream",
     "text": [
      "Train on 8760 samples, validate on 8760 samples\n",
      "Epoch 1/100\n",
      "8760/8760 [==============================] - 6s 734us/sample - loss: 0.0070 - mae: 0.0620 - val_loss: 0.0093 - val_mae: 0.0850\n",
      "Epoch 2/100\n",
      "8760/8760 [==============================] - 2s 190us/sample - loss: 0.0035 - mae: 0.0424 - val_loss: 0.0121 - val_mae: 0.0933\n",
      "Epoch 3/100\n",
      "8760/8760 [==============================] - 2s 194us/sample - loss: 0.0019 - mae: 0.0304 - val_loss: 0.0124 - val_mae: 0.0914\n",
      "Epoch 4/100\n",
      "8760/8760 [==============================] - 2s 197us/sample - loss: 0.0014 - mae: 0.0252 - val_loss: 0.0102 - val_mae: 0.0819\n",
      "Epoch 5/100\n",
      "8760/8760 [==============================] - 2s 197us/sample - loss: 0.0012 - mae: 0.0221 - val_loss: 0.0078 - val_mae: 0.0715\n",
      "Epoch 6/100\n",
      "8760/8760 [==============================] - 2s 202us/sample - loss: 0.0011 - mae: 0.0200 - val_loss: 0.0062 - val_mae: 0.0635\n",
      "Epoch 7/100\n",
      "8760/8760 [==============================] - 2s 199us/sample - loss: 0.0011 - mae: 0.0186 - val_loss: 0.0051 - val_mae: 0.0576\n",
      "Epoch 8/100\n",
      "8760/8760 [==============================] - 2s 202us/sample - loss: 0.0010 - mae: 0.0177 - val_loss: 0.0044 - val_mae: 0.0534\n",
      "Epoch 9/100\n",
      "8760/8760 [==============================] - 2s 201us/sample - loss: 0.0010 - mae: 0.0170 - val_loss: 0.0038 - val_mae: 0.0500\n",
      "Epoch 10/100\n",
      "8760/8760 [==============================] - 2s 200us/sample - loss: 9.9248e-04 - mae: 0.0166 - val_loss: 0.0034 - val_mae: 0.0470\n",
      "Epoch 11/100\n",
      "8760/8760 [==============================] - 2s 202us/sample - loss: 9.8394e-04 - mae: 0.0162 - val_loss: 0.0031 - val_mae: 0.0442\n",
      "Epoch 12/100\n",
      "8760/8760 [==============================] - 2s 198us/sample - loss: 9.7808e-04 - mae: 0.0160 - val_loss: 0.0028 - val_mae: 0.0416\n",
      "Epoch 13/100\n",
      "8760/8760 [==============================] - 2s 193us/sample - loss: 9.7405e-04 - mae: 0.0158 - val_loss: 0.0025 - val_mae: 0.0393\n",
      "Epoch 14/100\n",
      "8760/8760 [==============================] - 2s 197us/sample - loss: 9.7138e-04 - mae: 0.0156 - val_loss: 0.0023 - val_mae: 0.0372\n",
      "Epoch 15/100\n",
      "8760/8760 [==============================] - 2s 200us/sample - loss: 9.6974e-04 - mae: 0.0155 - val_loss: 0.0021 - val_mae: 0.0354\n",
      "Epoch 16/100\n",
      "8760/8760 [==============================] - 2s 195us/sample - loss: 9.6886e-04 - mae: 0.0155 - val_loss: 0.0020 - val_mae: 0.0338\n",
      "Epoch 17/100\n",
      "8760/8760 [==============================] - 2s 196us/sample - loss: 9.6851e-04 - mae: 0.0155 - val_loss: 0.0019 - val_mae: 0.0324\n",
      "Epoch 18/100\n",
      "8760/8760 [==============================] - 2s 192us/sample - loss: 9.6850e-04 - mae: 0.0155 - val_loss: 0.0018 - val_mae: 0.0312\n",
      "Epoch 19/100\n",
      "8760/8760 [==============================] - 2s 179us/sample - loss: 9.6870e-04 - mae: 0.0155 - val_loss: 0.0017 - val_mae: 0.0302\n",
      "Epoch 20/100\n",
      "8760/8760 [==============================] - 2s 176us/sample - loss: 9.6903e-04 - mae: 0.0155 - val_loss: 0.0016 - val_mae: 0.0294\n",
      "Epoch 21/100\n",
      "8760/8760 [==============================] - 2s 180us/sample - loss: 9.6942e-04 - mae: 0.0155 - val_loss: 0.0016 - val_mae: 0.0287\n",
      "Epoch 22/100\n",
      "8760/8760 [==============================] - 2s 194us/sample - loss: 9.6981e-04 - mae: 0.0155 - val_loss: 0.0015 - val_mae: 0.0282\n",
      "Epoch 23/100\n",
      "8760/8760 [==============================] - 2s 203us/sample - loss: 9.7016e-04 - mae: 0.0155 - val_loss: 0.0015 - val_mae: 0.0278\n",
      "Epoch 24/100\n",
      "8760/8760 [==============================] - 2s 200us/sample - loss: 9.7046e-04 - mae: 0.0155 - val_loss: 0.0015 - val_mae: 0.0274\n",
      "Epoch 25/100\n",
      "8760/8760 [==============================] - 2s 196us/sample - loss: 9.7067e-04 - mae: 0.0156 - val_loss: 0.0015 - val_mae: 0.0271\n",
      "Epoch 26/100\n",
      "8760/8760 [==============================] - 2s 196us/sample - loss: 9.7076e-04 - mae: 0.0156 - val_loss: 0.0014 - val_mae: 0.0268\n",
      "Epoch 27/100\n",
      "8760/8760 [==============================] - 2s 185us/sample - loss: 9.7073e-04 - mae: 0.0156 - val_loss: 0.0014 - val_mae: 0.0266\n",
      "Epoch 28/100\n",
      "8760/8760 [==============================] - 2s 192us/sample - loss: 9.7058e-04 - mae: 0.0156 - val_loss: 0.0014 - val_mae: 0.0264\n",
      "Epoch 29/100\n",
      "8760/8760 [==============================] - 2s 197us/sample - loss: 9.7032e-04 - mae: 0.0156 - val_loss: 0.0014 - val_mae: 0.0262\n",
      "Epoch 30/100\n",
      "8760/8760 [==============================] - 2s 193us/sample - loss: 9.6997e-04 - mae: 0.0156 - val_loss: 0.0014 - val_mae: 0.0260\n",
      "Epoch 31/100\n",
      "8760/8760 [==============================] - 2s 201us/sample - loss: 9.6955e-04 - mae: 0.0156 - val_loss: 0.0014 - val_mae: 0.0258\n",
      "Epoch 32/100\n",
      "8760/8760 [==============================] - 2s 198us/sample - loss: 9.6908e-04 - mae: 0.0156 - val_loss: 0.0014 - val_mae: 0.0256\n",
      "Epoch 33/100\n",
      "8760/8760 [==============================] - 2s 216us/sample - loss: 9.6856e-04 - mae: 0.0156 - val_loss: 0.0014 - val_mae: 0.0255\n",
      "Epoch 34/100\n",
      "8760/8760 [==============================] - 2s 201us/sample - loss: 9.6801e-04 - mae: 0.0156 - val_loss: 0.0013 - val_mae: 0.0253\n",
      "Epoch 35/100\n",
      "8760/8760 [==============================] - 2s 194us/sample - loss: 9.6743e-04 - mae: 0.0156 - val_loss: 0.0013 - val_mae: 0.0251\n",
      "Epoch 36/100\n",
      "8760/8760 [==============================] - 2s 202us/sample - loss: 9.6684e-04 - mae: 0.0156 - val_loss: 0.0013 - val_mae: 0.0250\n",
      "Epoch 37/100\n",
      "8760/8760 [==============================] - 2s 201us/sample - loss: 9.6623e-04 - mae: 0.0156 - val_loss: 0.0013 - val_mae: 0.0248\n",
      "Epoch 38/100\n",
      "8760/8760 [==============================] - 2s 195us/sample - loss: 9.6562e-04 - mae: 0.0156 - val_loss: 0.0013 - val_mae: 0.0247\n",
      "Epoch 39/100\n",
      "8760/8760 [==============================] - 2s 199us/sample - loss: 9.6501e-04 - mae: 0.0156 - val_loss: 0.0013 - val_mae: 0.0245\n",
      "Epoch 40/100\n",
      "8760/8760 [==============================] - 2s 203us/sample - loss: 9.6440e-04 - mae: 0.0156 - val_loss: 0.0013 - val_mae: 0.0244\n",
      "Epoch 41/100\n",
      "8760/8760 [==============================] - 2s 196us/sample - loss: 9.6380e-04 - mae: 0.0156 - val_loss: 0.0013 - val_mae: 0.0242\n",
      "Epoch 42/100\n",
      "8760/8760 [==============================] - 2s 195us/sample - loss: 9.6320e-04 - mae: 0.0156 - val_loss: 0.0013 - val_mae: 0.0241\n",
      "Epoch 43/100\n",
      "8760/8760 [==============================] - 2s 201us/sample - loss: 9.6261e-04 - mae: 0.0156 - val_loss: 0.0013 - val_mae: 0.0240\n",
      "Epoch 44/100\n",
      "8760/8760 [==============================] - 2s 188us/sample - loss: 9.6203e-04 - mae: 0.0156 - val_loss: 0.0013 - val_mae: 0.0239\n",
      "Epoch 45/100\n",
      "8760/8760 [==============================] - 2s 182us/sample - loss: 9.6147e-04 - mae: 0.0156 - val_loss: 0.0013 - val_mae: 0.0238\n",
      "Epoch 46/100\n",
      "8760/8760 [==============================] - 2s 188us/sample - loss: 9.6091e-04 - mae: 0.0156 - val_loss: 0.0013 - val_mae: 0.0236\n",
      "Epoch 47/100\n",
      "8760/8760 [==============================] - 2s 188us/sample - loss: 9.6036e-04 - mae: 0.0156 - val_loss: 0.0012 - val_mae: 0.0235\n",
      "Epoch 48/100\n",
      "8760/8760 [==============================] - 2s 187us/sample - loss: 9.5983e-04 - mae: 0.0156 - val_loss: 0.0012 - val_mae: 0.0234\n",
      "Epoch 49/100\n",
      "8760/8760 [==============================] - 2s 192us/sample - loss: 9.5931e-04 - mae: 0.0156 - val_loss: 0.0012 - val_mae: 0.0233\n",
      "Epoch 50/100\n",
      "8760/8760 [==============================] - 2s 215us/sample - loss: 9.5880e-04 - mae: 0.0156 - val_loss: 0.0012 - val_mae: 0.0232\n",
      "Epoch 51/100\n",
      "8760/8760 [==============================] - 2s 250us/sample - loss: 9.5830e-04 - mae: 0.0156 - val_loss: 0.0012 - val_mae: 0.0231\n",
      "Epoch 52/100\n",
      "8760/8760 [==============================] - 2s 216us/sample - loss: 9.5781e-04 - mae: 0.0155 - val_loss: 0.0012 - val_mae: 0.0230\n",
      "Epoch 53/100\n",
      "8760/8760 [==============================] - 2s 238us/sample - loss: 9.5734e-04 - mae: 0.0155 - val_loss: 0.0012 - val_mae: 0.0229\n",
      "Epoch 54/100\n",
      "8760/8760 [==============================] - 2s 234us/sample - loss: 9.5687e-04 - mae: 0.0155 - val_loss: 0.0012 - val_mae: 0.0228\n",
      "Epoch 55/100\n",
      "8760/8760 [==============================] - 2s 196us/sample - loss: 9.5642e-04 - mae: 0.0155 - val_loss: 0.0012 - val_mae: 0.0228\n",
      "Epoch 56/100\n",
      "8760/8760 [==============================] - 2s 195us/sample - loss: 9.5597e-04 - mae: 0.0155 - val_loss: 0.0012 - val_mae: 0.0227\n",
      "Epoch 57/100\n",
      "8760/8760 [==============================] - 2s 198us/sample - loss: 9.5553e-04 - mae: 0.0155 - val_loss: 0.0012 - val_mae: 0.0226\n"
     ]
    },
    {
     "name": "stdout",
     "output_type": "stream",
     "text": [
      "Epoch 58/100\n",
      "8760/8760 [==============================] - 2s 191us/sample - loss: 9.5510e-04 - mae: 0.0155 - val_loss: 0.0012 - val_mae: 0.0225\n",
      "Epoch 59/100\n",
      "8760/8760 [==============================] - 2s 195us/sample - loss: 9.5468e-04 - mae: 0.0155 - val_loss: 0.0012 - val_mae: 0.0224\n",
      "Epoch 60/100\n",
      "8760/8760 [==============================] - 2s 180us/sample - loss: 9.5426e-04 - mae: 0.0155 - val_loss: 0.0012 - val_mae: 0.0224\n",
      "Epoch 61/100\n",
      "8760/8760 [==============================] - 2s 174us/sample - loss: 9.5385e-04 - mae: 0.0155 - val_loss: 0.0012 - val_mae: 0.0223\n",
      "Epoch 62/100\n",
      "8760/8760 [==============================] - 2s 182us/sample - loss: 9.5344e-04 - mae: 0.0155 - val_loss: 0.0012 - val_mae: 0.0222\n",
      "Epoch 63/100\n",
      "8760/8760 [==============================] - 2s 191us/sample - loss: 9.5303e-04 - mae: 0.0155 - val_loss: 0.0012 - val_mae: 0.0221\n",
      "Epoch 64/100\n",
      "8760/8760 [==============================] - 2s 197us/sample - loss: 9.5263e-04 - mae: 0.0155 - val_loss: 0.0012 - val_mae: 0.0221\n",
      "Epoch 65/100\n",
      "8760/8760 [==============================] - 2s 204us/sample - loss: 9.5222e-04 - mae: 0.0155 - val_loss: 0.0011 - val_mae: 0.0220\n",
      "Epoch 66/100\n",
      "8760/8760 [==============================] - 2s 257us/sample - loss: 9.5182e-04 - mae: 0.0155 - val_loss: 0.0011 - val_mae: 0.0219\n",
      "Epoch 67/100\n",
      "8760/8760 [==============================] - 2s 230us/sample - loss: 9.5141e-04 - mae: 0.0155 - val_loss: 0.0011 - val_mae: 0.0219\n",
      "Epoch 68/100\n",
      "8760/8760 [==============================] - 2s 197us/sample - loss: 9.5100e-04 - mae: 0.0155 - val_loss: 0.0011 - val_mae: 0.0218\n",
      "Epoch 69/100\n",
      "8760/8760 [==============================] - 2s 193us/sample - loss: 9.5059e-04 - mae: 0.0155 - val_loss: 0.0011 - val_mae: 0.0218\n",
      "Epoch 70/100\n",
      "8760/8760 [==============================] - 2s 193us/sample - loss: 9.5018e-04 - mae: 0.0155 - val_loss: 0.0011 - val_mae: 0.0217\n",
      "Epoch 71/100\n",
      "8760/8760 [==============================] - 2s 200us/sample - loss: 9.4977e-04 - mae: 0.0155 - val_loss: 0.0011 - val_mae: 0.0217\n",
      "Epoch 72/100\n",
      "8760/8760 [==============================] - 2s 197us/sample - loss: 9.4935e-04 - mae: 0.0155 - val_loss: 0.0011 - val_mae: 0.0216\n",
      "Epoch 73/100\n",
      "8760/8760 [==============================] - 2s 192us/sample - loss: 9.4893e-04 - mae: 0.0155 - val_loss: 0.0011 - val_mae: 0.0216\n",
      "Epoch 74/100\n",
      "8760/8760 [==============================] - 2s 211us/sample - loss: 9.4850e-04 - mae: 0.0155 - val_loss: 0.0011 - val_mae: 0.0215\n",
      "Epoch 75/100\n",
      "8760/8760 [==============================] - 2s 199us/sample - loss: 9.4808e-04 - mae: 0.0155 - val_loss: 0.0011 - val_mae: 0.0215\n",
      "Epoch 76/100\n",
      "8760/8760 [==============================] - 2s 197us/sample - loss: 9.4764e-04 - mae: 0.0155 - val_loss: 0.0011 - val_mae: 0.0215\n",
      "Epoch 77/100\n",
      "8760/8760 [==============================] - 2s 193us/sample - loss: 9.4721e-04 - mae: 0.0155 - val_loss: 0.0011 - val_mae: 0.0214\n",
      "Epoch 78/100\n",
      "8760/8760 [==============================] - 2s 198us/sample - loss: 9.4677e-04 - mae: 0.0155 - val_loss: 0.0011 - val_mae: 0.0214\n",
      "Epoch 79/100\n",
      "8760/8760 [==============================] - 2s 196us/sample - loss: 9.4632e-04 - mae: 0.0155 - val_loss: 0.0011 - val_mae: 0.0214\n",
      "Epoch 80/100\n",
      "8760/8760 [==============================] - 2s 205us/sample - loss: 9.4586e-04 - mae: 0.0155 - val_loss: 0.0011 - val_mae: 0.0214\n",
      "Epoch 81/100\n",
      "8760/8760 [==============================] - 2s 196us/sample - loss: 9.4539e-04 - mae: 0.0155 - val_loss: 0.0011 - val_mae: 0.0214\n",
      "Epoch 82/100\n",
      "8760/8760 [==============================] - 2s 199us/sample - loss: 9.4497e-04 - mae: 0.0155 - val_loss: 0.0011 - val_mae: 0.0213\n",
      "Epoch 83/100\n",
      "8760/8760 [==============================] - 2s 199us/sample - loss: 9.4454e-04 - mae: 0.0154 - val_loss: 0.0011 - val_mae: 0.0213\n",
      "Epoch 84/100\n",
      "8760/8760 [==============================] - 2s 196us/sample - loss: 9.4408e-04 - mae: 0.0154 - val_loss: 0.0011 - val_mae: 0.0213\n",
      "Epoch 85/100\n",
      "8760/8760 [==============================] - 2s 210us/sample - loss: 9.4362e-04 - mae: 0.0154 - val_loss: 0.0011 - val_mae: 0.0213\n",
      "Epoch 86/100\n",
      "8760/8760 [==============================] - 2s 200us/sample - loss: 9.4317e-04 - mae: 0.0154 - val_loss: 0.0011 - val_mae: 0.0213\n",
      "Epoch 87/100\n",
      "8760/8760 [==============================] - 2s 192us/sample - loss: 9.4272e-04 - mae: 0.0154 - val_loss: 0.0011 - val_mae: 0.0213\n",
      "Epoch 88/100\n",
      "8760/8760 [==============================] - 2s 197us/sample - loss: 9.4227e-04 - mae: 0.0154 - val_loss: 0.0011 - val_mae: 0.0213\n",
      "Epoch 89/100\n",
      "8760/8760 [==============================] - 2s 202us/sample - loss: 9.4182e-04 - mae: 0.0154 - val_loss: 0.0011 - val_mae: 0.0213\n",
      "Epoch 90/100\n",
      "8760/8760 [==============================] - 2s 194us/sample - loss: 9.4137e-04 - mae: 0.0154 - val_loss: 0.0011 - val_mae: 0.0213\n",
      "Epoch 91/100\n",
      "8760/8760 [==============================] - 2s 181us/sample - loss: 9.4092e-04 - mae: 0.0154 - val_loss: 0.0011 - val_mae: 0.0213\n",
      "Epoch 92/100\n",
      "8760/8760 [==============================] - 2s 179us/sample - loss: 9.4046e-04 - mae: 0.0154 - val_loss: 0.0011 - val_mae: 0.0213\n",
      "Epoch 93/100\n",
      "8760/8760 [==============================] - 2s 177us/sample - loss: 9.3999e-04 - mae: 0.0154 - val_loss: 0.0011 - val_mae: 0.0213\n",
      "Epoch 94/100\n",
      "8760/8760 [==============================] - 2s 189us/sample - loss: 9.3958e-04 - mae: 0.0154 - val_loss: 0.0011 - val_mae: 0.0213\n",
      "Epoch 95/100\n",
      "8760/8760 [==============================] - 2s 202us/sample - loss: 9.3915e-04 - mae: 0.0154 - val_loss: 0.0011 - val_mae: 0.0213\n",
      "Epoch 96/100\n",
      "8760/8760 [==============================] - 2s 193us/sample - loss: 9.3870e-04 - mae: 0.0154 - val_loss: 0.0011 - val_mae: 0.0213\n",
      "Epoch 97/100\n",
      "8760/8760 [==============================] - 2s 187us/sample - loss: 9.3825e-04 - mae: 0.0154 - val_loss: 0.0011 - val_mae: 0.0213\n",
      "Epoch 98/100\n",
      "8760/8760 [==============================] - 2s 178us/sample - loss: 9.3781e-04 - mae: 0.0154 - val_loss: 0.0011 - val_mae: 0.0214\n",
      "Epoch 99/100\n",
      "8760/8760 [==============================] - 2s 191us/sample - loss: 9.3737e-04 - mae: 0.0154 - val_loss: 0.0011 - val_mae: 0.0214\n",
      "Epoch 100/100\n",
      "8760/8760 [==============================] - 2s 200us/sample - loss: 9.3693e-04 - mae: 0.0154 - val_loss: 0.0011 - val_mae: 0.0214\n"
     ]
    }
   ],
   "source": [
    "# fit network\n",
    "history = model.fit(X_train_partial, y_train_partial, epochs=100, batch_size=64, \n",
    "                    validation_data=(X_val, y_val), verbose=1, shuffle=False)"
   ]
  },
  {
   "cell_type": "markdown",
   "metadata": {},
   "source": [
    "Plot the training history"
   ]
  },
  {
   "cell_type": "code",
   "execution_count": 33,
   "metadata": {},
   "outputs": [
    {
     "data": {
      "image/png": "[encoded data removed]",
      "text/plain": [
       "<Figure size 432x288 with 1 Axes>"
      ]
     },
     "metadata": {
      "needs_background": "light"
     },
     "output_type": "display_data"
    }
   ],
   "source": [
    "# plot history\n",
    "pyplot.plot(history.history['loss'], label='train')\n",
    "pyplot.plot(history.history['val_loss'], label='test')\n",
    "pyplot.legend()\n",
    "pyplot.show()"
   ]
  },
  {
   "cell_type": "markdown",
   "metadata": {},
   "source": [
    "The results suggest that the model converges at around 60 epochs. Let's train a final model and evaluate."
   ]
  },
  {
   "cell_type": "code",
   "execution_count": 34,
   "metadata": {},
   "outputs": [
    {
     "name": "stdout",
     "output_type": "stream",
     "text": [
      "Train on 17520 samples\n",
      "Epoch 1/60\n",
      "17520/17520 [==============================] - 7s 386us/sample - loss: 0.0061 - mae: 0.0577\n",
      "Epoch 2/60\n",
      "17520/17520 [==============================] - 2s 126us/sample - loss: 0.0018 - mae: 0.0302\n",
      "Epoch 3/60\n",
      "17520/17520 [==============================] - 2s 134us/sample - loss: 9.9177e-04 - mae: 0.0196\n",
      "Epoch 4/60\n",
      "17520/17520 [==============================] - 2s 132us/sample - loss: 8.9278e-04 - mae: 0.0171\n",
      "Epoch 5/60\n",
      "17520/17520 [==============================] - 2s 129us/sample - loss: 8.6476e-04 - mae: 0.0162\n",
      "Epoch 6/60\n",
      "17520/17520 [==============================] - 2s 137us/sample - loss: 8.5453e-04 - mae: 0.0158\n",
      "Epoch 7/60\n",
      "17520/17520 [==============================] - 2s 129us/sample - loss: 8.4903e-04 - mae: 0.0155\n",
      "Epoch 8/60\n",
      "17520/17520 [==============================] - 2s 132us/sample - loss: 8.4562e-04 - mae: 0.0154\n",
      "Epoch 9/60\n",
      "17520/17520 [==============================] - 3s 149us/sample - loss: 8.4426e-04 - mae: 0.0154\n",
      "Epoch 10/60\n",
      "17520/17520 [==============================] - 3s 146us/sample - loss: 8.4435e-04 - mae: 0.0154\n",
      "Epoch 11/60\n",
      "17520/17520 [==============================] - 3s 163us/sample - loss: 8.4501e-04 - mae: 0.0154\n",
      "Epoch 12/60\n",
      "17520/17520 [==============================] - 2s 133us/sample - loss: 8.4572e-04 - mae: 0.0154\n",
      "Epoch 13/60\n",
      "17520/17520 [==============================] - 2s 131us/sample - loss: 8.4620e-04 - mae: 0.0155\n",
      "Epoch 14/60\n",
      "17520/17520 [==============================] - 2s 130us/sample - loss: 8.4633e-04 - mae: 0.0155\n",
      "Epoch 15/60\n",
      "17520/17520 [==============================] - 2s 133us/sample - loss: 8.4614e-04 - mae: 0.0155\n",
      "Epoch 16/60\n",
      "17520/17520 [==============================] - 2s 133us/sample - loss: 8.4570e-04 - mae: 0.0155\n",
      "Epoch 17/60\n",
      "17520/17520 [==============================] - 2s 133us/sample - loss: 8.4510e-04 - mae: 0.0155\n",
      "Epoch 18/60\n",
      "17520/17520 [==============================] - 2s 127us/sample - loss: 8.4444e-04 - mae: 0.0155\n",
      "Epoch 19/60\n",
      "17520/17520 [==============================] - 2s 127us/sample - loss: 8.4375e-04 - mae: 0.0155\n",
      "Epoch 20/60\n",
      "17520/17520 [==============================] - 2s 127us/sample - loss: 8.4299e-04 - mae: 0.0155\n",
      "Epoch 21/60\n",
      "17520/17520 [==============================] - 2s 128us/sample - loss: 8.4218e-04 - mae: 0.0154\n",
      "Epoch 22/60\n",
      "17520/17520 [==============================] - 2s 133us/sample - loss: 8.4136e-04 - mae: 0.0154\n",
      "Epoch 23/60\n",
      "17520/17520 [==============================] - 2s 139us/sample - loss: 8.4055e-04 - mae: 0.0154\n",
      "Epoch 24/60\n",
      "17520/17520 [==============================] - 2s 123us/sample - loss: 8.3975e-04 - mae: 0.0154\n",
      "Epoch 25/60\n",
      "17520/17520 [==============================] - 2s 124us/sample - loss: 8.3897e-04 - mae: 0.0154\n",
      "Epoch 26/60\n",
      "17520/17520 [==============================] - 2s 141us/sample - loss: 8.3819e-04 - mae: 0.0154\n",
      "Epoch 27/60\n",
      "17520/17520 [==============================] - 2s 127us/sample - loss: 8.3744e-04 - mae: 0.0154\n",
      "Epoch 28/60\n",
      "17520/17520 [==============================] - 2s 130us/sample - loss: 8.3669e-04 - mae: 0.0153\n",
      "Epoch 29/60\n",
      "17520/17520 [==============================] - 2s 133us/sample - loss: 8.3595e-04 - mae: 0.0153\n",
      "Epoch 30/60\n",
      "17520/17520 [==============================] - 2s 123us/sample - loss: 8.3522e-04 - mae: 0.0153\n",
      "Epoch 31/60\n",
      "17520/17520 [==============================] - 2s 123us/sample - loss: 8.3450e-04 - mae: 0.0153\n",
      "Epoch 32/60\n",
      "17520/17520 [==============================] - 2s 129us/sample - loss: 8.3379e-04 - mae: 0.0153\n",
      "Epoch 33/60\n",
      "17520/17520 [==============================] - 2s 130us/sample - loss: 8.3309e-04 - mae: 0.0153\n",
      "Epoch 34/60\n",
      "17520/17520 [==============================] - 2s 134us/sample - loss: 8.3240e-04 - mae: 0.0153\n",
      "Epoch 35/60\n",
      "17520/17520 [==============================] - 2s 132us/sample - loss: 8.3172e-04 - mae: 0.0153\n",
      "Epoch 36/60\n",
      "17520/17520 [==============================] - 2s 134us/sample - loss: 8.3105e-04 - mae: 0.0152\n",
      "Epoch 37/60\n",
      "17520/17520 [==============================] - 2s 133us/sample - loss: 8.3040e-04 - mae: 0.0152\n",
      "Epoch 38/60\n",
      "17520/17520 [==============================] - 2s 134us/sample - loss: 8.2975e-04 - mae: 0.0152\n",
      "Epoch 39/60\n",
      "17520/17520 [==============================] - 2s 134us/sample - loss: 8.2910e-04 - mae: 0.0152\n",
      "Epoch 40/60\n",
      "17520/17520 [==============================] - 2s 134us/sample - loss: 8.2847e-04 - mae: 0.0152\n",
      "Epoch 41/60\n",
      "17520/17520 [==============================] - 2s 135us/sample - loss: 8.2784e-04 - mae: 0.0152\n",
      "Epoch 42/60\n",
      "17520/17520 [==============================] - 2s 134us/sample - loss: 8.2722e-04 - mae: 0.0152\n",
      "Epoch 43/60\n",
      "17520/17520 [==============================] - 3s 147us/sample - loss: 8.2661e-04 - mae: 0.0152\n",
      "Epoch 44/60\n",
      "17520/17520 [==============================] - 2s 134us/sample - loss: 8.2600e-04 - mae: 0.0152\n",
      "Epoch 45/60\n",
      "17520/17520 [==============================] - 2s 138us/sample - loss: 8.2540e-04 - mae: 0.0151\n",
      "Epoch 46/60\n",
      "17520/17520 [==============================] - 2s 134us/sample - loss: 8.2480e-04 - mae: 0.0151\n",
      "Epoch 47/60\n",
      "17520/17520 [==============================] - 2s 132us/sample - loss: 8.2421e-04 - mae: 0.0151\n",
      "Epoch 48/60\n",
      "17520/17520 [==============================] - 2s 127us/sample - loss: 8.2363e-04 - mae: 0.0151\n",
      "Epoch 49/60\n",
      "17520/17520 [==============================] - 2s 134us/sample - loss: 8.2305e-04 - mae: 0.0151\n",
      "Epoch 50/60\n",
      "17520/17520 [==============================] - 2s 124us/sample - loss: 8.2248e-04 - mae: 0.0151\n",
      "Epoch 51/60\n",
      "17520/17520 [==============================] - 2s 126us/sample - loss: 8.2191e-04 - mae: 0.0151\n",
      "Epoch 52/60\n",
      "17520/17520 [==============================] - 2s 130us/sample - loss: 8.2135e-04 - mae: 0.0151\n",
      "Epoch 53/60\n",
      "17520/17520 [==============================] - 2s 127us/sample - loss: 8.2078e-04 - mae: 0.0151\n",
      "Epoch 54/60\n",
      "17520/17520 [==============================] - 2s 127us/sample - loss: 8.2023e-04 - mae: 0.0151\n",
      "Epoch 55/60\n",
      "17520/17520 [==============================] - 2s 128us/sample - loss: 8.1968e-04 - mae: 0.0151\n",
      "Epoch 56/60\n",
      "17520/17520 [==============================] - 2s 129us/sample - loss: 8.1914e-04 - mae: 0.0150\n",
      "Epoch 57/60\n",
      "17520/17520 [==============================] - 2s 130us/sample - loss: 8.1861e-04 - mae: 0.0150\n",
      "Epoch 58/60\n",
      "17520/17520 [==============================] - 2s 128us/sample - loss: 8.1808e-04 - mae: 0.0150\n",
      "Epoch 59/60\n",
      "17520/17520 [==============================] - 3s 150us/sample - loss: 8.1756e-04 - mae: 0.0150\n",
      "Epoch 60/60\n",
      "17520/17520 [==============================] - 2s 140us/sample - loss: 8.1703e-04 - mae: 0.0150\n"
     ]
    }
   ],
   "source": [
    "model = models.Sequential([                        \n",
    "      layers.LSTM(50, input_shape=(X_train.shape[1], X_train.shape[2])),\n",
    "      layers.Dense(1)\n",
    "])\n",
    "model.compile(optimizer='adam', loss='mse', metrics=['mae'])\n",
    "history = model.fit(X_train, y_train, epochs=60, batch_size=64, \n",
    "                    verbose=1, shuffle=False)"
   ]
  },
  {
   "cell_type": "markdown",
   "metadata": {},
   "source": [
    "We now evaluate on the test set"
   ]
  },
  {
   "cell_type": "code",
   "execution_count": 35,
   "metadata": {},
   "outputs": [],
   "source": [
    "test_mse_score, test_mae_score = model.evaluate(X_test, y_test, verbose=0)"
   ]
  },
  {
   "cell_type": "code",
   "execution_count": 36,
   "metadata": {},
   "outputs": [
    {
     "name": "stdout",
     "output_type": "stream",
     "text": [
      "Mean squared error: 0.0009\n",
      "Mean absolute error: 0.0187\n"
     ]
    }
   ],
   "source": [
    "print('Mean squared error: %.4f'\n",
    "      % test_mse_score)\n",
    "print('Mean absolute error: %.4f'\n",
    "      % test_mae_score)"
   ]
  },
  {
   "cell_type": "markdown",
   "metadata": {},
   "source": [
    "And let's calculate the error after back-transformation"
   ]
  },
  {
   "cell_type": "code",
   "execution_count": 37,
   "metadata": {},
   "outputs": [
    {
     "data": {
      "text/plain": [
       "18.609028"
      ]
     },
     "execution_count": 37,
     "metadata": {},
     "output_type": "execute_result"
    }
   ],
   "source": [
    "y_test_pred_norm = model.predict(X_test)\n",
    "y_test_pred_norm.shape\n",
    "\n",
    "y_test_pred_norm = y_test_pred_norm.reshape(y_test.shape)\n",
    "\n",
    "y_test_pred = back_transform(y_test_pred_norm, pollution_min, pollution_max)\n",
    "y_test_obs = back_transform(y_test, pollution_min, pollution_max)\n",
    "\n",
    "np.mean(np.abs(y_test_pred - y_test_obs))"
   ]
  },
  {
   "cell_type": "markdown",
   "metadata": {},
   "source": [
    "This gives a reduction in the MAE of about 2-3 ppb, a decrease of around 10% relative to the dense network model. "
   ]
  },
  {
   "cell_type": "markdown",
   "metadata": {},
   "source": [
    "## Extending the model\n",
    "Note that it is relatively easy to extend this model to incorporate more lags. The following code shows how to make a dataset where the PM2.5 value is modeled using the 3 previous time steps:"
   ]
  },
  {
   "cell_type": "code",
   "execution_count": 38,
   "metadata": {},
   "outputs": [
    {
     "name": "stdout",
     "output_type": "stream",
     "text": [
      "   var1(t-3)  var2(t-3)  var3(t-3)  var4(t-3)  var5(t-3)  var6(t-3)  \\\n",
      "3   0.129779   0.352941   0.245902   0.527273   0.666667   0.002290   \n",
      "4   0.148893   0.367647   0.245902   0.527273   0.666667   0.003811   \n",
      "5   0.159960   0.426471   0.229508   0.545454   0.666667   0.005332   \n",
      "6   0.182093   0.485294   0.229508   0.563637   0.666667   0.008391   \n",
      "7   0.138833   0.485294   0.229508   0.563637   0.666667   0.009912   \n",
      "\n",
      "   var7(t-3)  var8(t-3)  var1(t-2)  var2(t-2)  ...  var8(t-2)  var1(t-1)  \\\n",
      "3   0.000000        0.0   0.148893   0.367647  ...        0.0   0.159960   \n",
      "4   0.000000        0.0   0.159960   0.426471  ...        0.0   0.182093   \n",
      "5   0.000000        0.0   0.182093   0.485294  ...        0.0   0.138833   \n",
      "6   0.037037        0.0   0.138833   0.485294  ...        0.0   0.109658   \n",
      "7   0.074074        0.0   0.109658   0.485294  ...        0.0   0.105634   \n",
      "\n",
      "   var2(t-1)  var3(t-1)  var4(t-1)  var5(t-1)  var6(t-1)  var7(t-1)  \\\n",
      "3   0.426471   0.229508   0.545454   0.666667   0.005332   0.000000   \n",
      "4   0.485294   0.229508   0.563637   0.666667   0.008391   0.037037   \n",
      "5   0.485294   0.229508   0.563637   0.666667   0.009912   0.074074   \n",
      "6   0.485294   0.213115   0.563637   0.666667   0.011433   0.111111   \n",
      "7   0.485294   0.213115   0.581818   0.666667   0.014492   0.148148   \n",
      "\n",
      "   var8(t-1)   var1(t)  \n",
      "3        0.0  0.182093  \n",
      "4        0.0  0.138833  \n",
      "5        0.0  0.109658  \n",
      "6        0.0  0.105634  \n",
      "7        0.0  0.124748  \n",
      "\n",
      "[5 rows x 25 columns]\n"
     ]
    }
   ],
   "source": [
    "reframed = series_to_supervised(scaled, 3, 1)\n",
    "# drop columns we don't want to predict\n",
    "reframed.drop(reframed.columns[[25,26,27,28,29,30,31]], axis=1, inplace=True)\n",
    "print(reframed.head())"
   ]
  },
  {
   "cell_type": "markdown",
   "metadata": {},
   "source": [
    "Note that the model will still be defined in the same way, except that the shape of the input tensor will be (?, 3, 8). "
   ]
  },
  {
   "cell_type": "code",
   "execution_count": 39,
   "metadata": {},
   "outputs": [],
   "source": [
    "model = models.Sequential([                        \n",
    "      layers.LSTM(50, input_shape=(X_train.shape[1], X_train.shape[2])),\n",
    "      layers.Dense(1)\n",
    "])"
   ]
  }
 ],
 "metadata": {
  "kernelspec": {
   "display_name": "Python 3.8 (tensorflow)",
   "language": "python",
   "name": "tensorflow"
  },
  "language_info": {
   "codemirror_mode": {
    "name": "ipython",
    "version": 3
   },
   "file_extension": ".py",
   "mimetype": "text/x-python",
   "name": "python",
   "nbconvert_exporter": "python",
   "pygments_lexer": "ipython3",
   "version": "3.7.7"
  }
 },
 "nbformat": 4,
 "nbformat_minor": 4
}
