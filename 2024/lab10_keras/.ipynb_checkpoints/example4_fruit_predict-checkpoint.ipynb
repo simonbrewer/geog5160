{
 "cells": [
  {
   "cell_type": "markdown",
   "metadata": {},
   "source": [
    "# Fruit image classification\n",
    "\n",
    "Modified from: https://shirinsplayground.netlify.app/2020/09/keras_fruits_update/"
   ]
  },
  {
   "cell_type": "code",
   "execution_count": 1,
   "metadata": {},
   "outputs": [],
   "source": [
    "import os\n",
    "import numpy as np\n",
    "import pandas as pd\n",
    "import matplotlib.pyplot as plt\n",
    "import seaborn as sn\n",
    "\n",
    "# path to image folders\n",
    "path = \"/Users/u0784726/Dropbox/Data/ml/fruits/\"\n",
    "train_image_files_path = path + \"Training\""
   ]
  },
  {
   "cell_type": "code",
   "execution_count": 2,
   "metadata": {},
   "outputs": [],
   "source": [
    "im_file = os.path.join(train_image_files_path, \"Banana\", \"0_100.jpg\")"
   ]
  },
  {
   "cell_type": "code",
   "execution_count": 3,
   "metadata": {},
   "outputs": [
    {
     "data": {
      "image/png": "[encoded data removed]",
      "text/plain": [
       "<PIL.JpegImagePlugin.JpegImageFile image mode=RGB size=100x100 at 0x7F966AA34210>"
      ]
     },
     "metadata": {},
     "output_type": "display_data"
    }
   ],
   "source": [
    "from PIL import Image               # to load images\n",
    "from IPython.display import display # to display inline images\n",
    "im = Image.open(im_file)\n",
    "#show image\n",
    "display(im)"
   ]
  },
  {
   "cell_type": "markdown",
   "metadata": {},
   "source": [
    "### Project setup\n",
    "\n",
    "Which fruits? This is the list of subdirectories in the training folder (and will also be used as labels for the images)"
   ]
  },
  {
   "cell_type": "code",
   "execution_count": 4,
   "metadata": {},
   "outputs": [],
   "source": [
    "# fruits categories\n",
    "fruit_list = [\"Kiwi\", \"Banana\", \"Apricot\", \"Avocado\", \"Cocos\", \"Clementine\", \"Mandarine\", \"Orange\",\n",
    "                \"Limes\", \"Lemon\", \"Peach\", \"Plum\", \"Raspberry\", \"Strawberry\", \"Pineapple\", \"Pomegranate\"]\n",
    "# number of output classes (i.e. fruits)\n",
    "output_n = len(fruit_list)"
   ]
  },
  {
   "cell_type": "markdown",
   "metadata": {},
   "source": [
    "Image down scaling"
   ]
  },
  {
   "cell_type": "code",
   "execution_count": 5,
   "metadata": {},
   "outputs": [],
   "source": [
    "# image size to scale down to (original images are 100 x 100 px)\n",
    "img_width = 20\n",
    "img_height = 20\n",
    "target_size = (img_width, img_height)"
   ]
  },
  {
   "cell_type": "markdown",
   "metadata": {},
   "source": [
    "Number of available channels"
   ]
  },
  {
   "cell_type": "code",
   "execution_count": 6,
   "metadata": {},
   "outputs": [],
   "source": [
    "# image RGB channels number\n",
    "channels = 3"
   ]
  },
  {
   "cell_type": "markdown",
   "metadata": {},
   "source": [
    "### Model setup"
   ]
  },
  {
   "cell_type": "markdown",
   "metadata": {},
   "source": [
    "This is where we do any preprocessing of individual images. This would include augmentation - the creation of transformed versions of the original images. We create two image *generators*."
   ]
  },
  {
   "cell_type": "code",
   "execution_count": 7,
   "metadata": {},
   "outputs": [],
   "source": [
    "from tensorflow.keras.preprocessing.image import ImageDataGenerator\n",
    "# training images\n",
    "train_data_gen = ImageDataGenerator(\n",
    "    rescale = 1./255,\n",
    "    validation_split = 0.3\n",
    ")"
   ]
  },
  {
   "cell_type": "markdown",
   "metadata": {},
   "source": [
    "Define flows for the generators. These import images in batches, rather than trying to import all images at once. These generators can then be used while training the network. "
   ]
  },
  {
   "cell_type": "code",
   "execution_count": 8,
   "metadata": {},
   "outputs": [],
   "source": [
    "batch_size = 32"
   ]
  },
  {
   "cell_type": "code",
   "execution_count": 9,
   "metadata": {},
   "outputs": [
    {
     "name": "stdout",
     "output_type": "stream",
     "text": [
      "Found 5401 images belonging to 16 classes.\n"
     ]
    },
    {
     "ename": "NameError",
     "evalue": "name 'valid_image_files_path' is not defined",
     "output_type": "error",
     "traceback": [
      "\u001b[0;31m---------------------------------------------------------------------------\u001b[0m",
      "\u001b[0;31mNameError\u001b[0m                                 Traceback (most recent call last)",
      "\u001b[0;32m<ipython-input-9-f9069e996754>\u001b[0m in \u001b[0;36m<module>\u001b[0;34m\u001b[0m\n\u001b[1;32m      8\u001b[0m \u001b[0;34m\u001b[0m\u001b[0m\n\u001b[1;32m      9\u001b[0m \u001b[0;31m# validation images\u001b[0m\u001b[0;34m\u001b[0m\u001b[0;34m\u001b[0m\u001b[0;34m\u001b[0m\u001b[0m\n\u001b[0;32m---> 10\u001b[0;31m valid_image_array_gen = train_data_gen.flow_from_directory(valid_image_files_path, \n\u001b[0m\u001b[1;32m     11\u001b[0m                                                            \u001b[0mtarget_size\u001b[0m \u001b[0;34m=\u001b[0m \u001b[0mtarget_size\u001b[0m\u001b[0;34m,\u001b[0m\u001b[0;34m\u001b[0m\u001b[0;34m\u001b[0m\u001b[0m\n\u001b[1;32m     12\u001b[0m                                                            \u001b[0msubset\u001b[0m \u001b[0;34m=\u001b[0m \u001b[0;34m'validation'\u001b[0m\u001b[0;34m,\u001b[0m\u001b[0;34m\u001b[0m\u001b[0;34m\u001b[0m\u001b[0m\n",
      "\u001b[0;31mNameError\u001b[0m: name 'valid_image_files_path' is not defined"
     ]
    }
   ],
   "source": [
    "# training images\n",
    "train_image_array_gen = train_data_gen.flow_from_directory(train_image_files_path,                                                            \n",
    "                                                           target_size = target_size,\n",
    "                                                           subset = 'training',\n",
    "                                                           classes = fruit_list, \n",
    "                                                           class_mode = 'categorical',\n",
    "                                                           seed = 42)\n",
    "\n",
    "# validation images\n",
    "valid_image_array_gen = train_data_gen.flow_from_directory(train_image_files_path, \n",
    "                                                           target_size = target_size,\n",
    "                                                           subset = 'validation',\n",
    "                                                           classes = fruit_list,\n",
    "                                                           class_mode = 'categorical',\n",
    "                                                           seed = 42)\n"
   ]
  },
  {
   "cell_type": "code",
   "execution_count": null,
   "metadata": {},
   "outputs": [],
   "source": [
    "## model definition\n",
    "# number of training samples\n",
    "train_samples = train_image_array_gen.n\n",
    "# number of validation samples\n",
    "valid_samples = valid_image_array_gen.n\n",
    "# define batch size and number of epochs\n",
    "batch_size = 32\n",
    "epochs = 10"
   ]
  },
  {
   "cell_type": "code",
   "execution_count": null,
   "metadata": {},
   "outputs": [],
   "source": [
    "from tensorflow.keras.models import Sequential\n",
    "from tensorflow.keras.layers import (Conv2D,\n",
    "                          Dense,\n",
    "                          LeakyReLU,\n",
    "                          BatchNormalization, \n",
    "                          MaxPooling2D, \n",
    "                          Dropout,\n",
    "                          Flatten)\n",
    "from tensorflow.keras.optimizers import RMSprop\n",
    "from tensorflow.keras.callbacks import ModelCheckpoint, TensorBoard"
   ]
  },
  {
   "cell_type": "code",
   "execution_count": null,
   "metadata": {},
   "outputs": [],
   "source": [
    "model = Sequential([   \n",
    "    Conv2D(filters = 32, kernel_size = (3,3), padding = 'same', \n",
    "           input_shape = (img_width, img_height, channels), activation = 'relu'),\n",
    "    Conv2D(filters = 16, kernel_size = (3,3), padding = 'same'),\n",
    "    LeakyReLU(.5),\n",
    "    BatchNormalization(),\n",
    "    MaxPooling2D(pool_size = (2,2)),\n",
    "    Dropout(.25),\n",
    "    Flatten(),\n",
    "    Dense(units = 100, activation = 'relu'),\n",
    "    Dropout(.5),\n",
    "    Dense(units = output_n, activation = 'softmax')\n",
    "])\n",
    "print(model.summary())"
   ]
  },
  {
   "cell_type": "code",
   "execution_count": null,
   "metadata": {},
   "outputs": [],
   "source": [
    "from tensorflow.keras.utils import plot_model\n",
    "plot_model(model)"
   ]
  },
  {
   "cell_type": "code",
   "execution_count": null,
   "metadata": {},
   "outputs": [],
   "source": [
    "# compile the model\n",
    "model.compile(loss = 'categorical_crossentropy', \n",
    "              metrics = ['accuracy'], \n",
    "              optimizer = RMSprop(lr = 1e-4, decay = 1e-6))"
   ]
  },
  {
   "cell_type": "code",
   "execution_count": null,
   "metadata": {},
   "outputs": [],
   "source": [
    "# train the model\n",
    "hist = model.fit_generator(\n",
    "  # training data\n",
    "  train_image_array_gen,\n",
    "\n",
    "  # epochs\n",
    "  steps_per_epoch = train_samples // batch_size, \n",
    "  epochs = epochs, \n",
    "\n",
    "  # validation data\n",
    "  validation_data = valid_image_array_gen,\n",
    "  validation_steps = valid_samples // batch_size,\n",
    "\n",
    "  # print progress\n",
    "  verbose = 1\n",
    "  #callbacks = [\n",
    "    # save best model after every epoch\n",
    "  #  ModelCheckpoint(\"fruits_checkpoints.h5\", save_best_only = True),\n",
    "    # only needed for visualising with TensorBoard\n",
    "  #  TensorBoard(log_dir = \"fruits_logs\")\n",
    "  #]\n",
    ")"
   ]
  },
  {
   "cell_type": "code",
   "execution_count": null,
   "metadata": {},
   "outputs": [],
   "source": [
    "plt.plot(hist.history['loss'], label='train')\n",
    "plt.plot(hist.history['val_loss'], label='test')\n",
    "plt.legend()\n",
    "plt.show()"
   ]
  },
  {
   "cell_type": "code",
   "execution_count": null,
   "metadata": {},
   "outputs": [],
   "source": [
    "test_image_files_path = path + \"Test\"\n",
    "# test images\n",
    "test_data_gen = ImageDataGenerator(\n",
    "    rescale = 1./255\n",
    ")\n",
    "test_image_array_gen = test_data_gen.flow_from_directory(valid_image_files_path, \n",
    "                                                         target_size = target_size,\n",
    "                                                         classes = fruit_list,\n",
    "                                                         class_mode = 'categorical',\n",
    "                                                         shuffle = False,\n",
    "                                                         seed = 42)"
   ]
  },
  {
   "cell_type": "code",
   "execution_count": null,
   "metadata": {},
   "outputs": [],
   "source": [
    "test_loss, test_acc = model.evaluate(test_image_array_gen)"
   ]
  },
  {
   "cell_type": "code",
   "execution_count": null,
   "metadata": {},
   "outputs": [],
   "source": [
    "print('Cross-entropy loss: %.4f'\n",
    "      % test_loss)\n",
    "print('Accuracy: %.4f'\n",
    "      % test_acc)"
   ]
  },
  {
   "cell_type": "code",
   "execution_count": null,
   "metadata": {},
   "outputs": [],
   "source": [
    "test_pred = model.predict(test_image_array_gen)\n",
    "test_pred.shape"
   ]
  },
  {
   "cell_type": "code",
   "execution_count": null,
   "metadata": {},
   "outputs": [],
   "source": [
    "test_obs = test_image_array_gen.classes"
   ]
  },
  {
   "cell_type": "code",
   "execution_count": null,
   "metadata": {},
   "outputs": [],
   "source": [
    "test_pred = np.argmax(test_pred, axis=1)"
   ]
  },
  {
   "cell_type": "code",
   "execution_count": null,
   "metadata": {},
   "outputs": [],
   "source": [
    "from sklearn.metrics import confusion_matrix\n",
    "confusion_matrix(test_obs, test_pred)"
   ]
  },
  {
   "cell_type": "code",
   "execution_count": null,
   "metadata": {},
   "outputs": [],
   "source": [
    "cm = confusion_matrix(test_obs, test_pred)\n",
    "\n",
    "df_cm = pd.DataFrame(cm, index = [i for i in fruit_list],\n",
    "                  columns = [i for i in fruit_list])\n",
    "df_cm"
   ]
  },
  {
   "cell_type": "code",
   "execution_count": null,
   "metadata": {},
   "outputs": [],
   "source": [
    "plt.figure(figsize = (10,7))\n",
    "sn.heatmap(df_cm, annot=True)"
   ]
  },
  {
   "cell_type": "code",
   "execution_count": null,
   "metadata": {},
   "outputs": [],
   "source": [
    "cm = confusion_matrix(test_obs, test_pred, normalize='true')\n",
    "\n",
    "df_cm = pd.DataFrame(cm, index = [i for i in fruit_list],\n",
    "                  columns = [i for i in fruit_list])\n",
    "plt.figure(figsize = (10,7))\n",
    "sn.heatmap(df_cm, annot=True)"
   ]
  }
 ],
 "metadata": {
  "kernelspec": {
   "display_name": "Python 3.8 (tensorflow)",
   "language": "python",
   "name": "tensorflow"
  },
  "language_info": {
   "codemirror_mode": {
    "name": "ipython",
    "version": 3
   },
   "file_extension": ".py",
   "mimetype": "text/x-python",
   "name": "python",
   "nbconvert_exporter": "python",
   "pygments_lexer": "ipython3",
   "version": "3.7.7"
  }
 },
 "nbformat": 4,
 "nbformat_minor": 4
}
