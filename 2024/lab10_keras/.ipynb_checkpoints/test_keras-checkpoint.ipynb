{
 "cells": [
  {
   "cell_type": "markdown",
   "metadata": {},
   "source": [
    "# GEOG 5160 6160 Lab 10"
   ]
  },
  {
   "cell_type": "markdown",
   "metadata": {},
   "source": [
    "## Keras workflow\n",
    "\n",
    "Building a deep learning model through Keras requires a series of steps:\n",
    "\n",
    "1. Create training data as tensors. This should include the input features and the target as separate tensors. For the simple models we are looking at in this lab, this is fairly straightforward, but for the more complex models, careful attention is required to the size and shape of these tensors.\n",
    "2. Create the network architecture. This consists of the set of layers that link the inputs to the target(s)\n",
    "3. Define the loss function, the optimizer and the performance metrics to be used to test the progress of the training\n",
    "4. Train the model using the training data, with part of the training data left out as validation data"
   ]
  },
  {
   "cell_type": "markdown",
   "metadata": {},
   "source": [
    "### Defining the network architecture\n",
    "\n",
    "Keras has two methods to create the network. The simplest is to use the `Sequential()` function from the `models` submodule. This takes as input the definition of the hidden layers, as well as any parameters that are used to modify these during training. \n",
    "\n",
    "For example, to create a simple, two layer model with a single output, one hidden layer with 10 nodes, you would run the following command. Note that the first layer takes the argument `input_shape` which describes the expected shape of the tensor holding the features, and that we specify a ReLU activation function for the output. \n",
    "\n",
    "```\n",
    "model = models.Sequential([\n",
    "  layers.Dense(10, input_shape=(20,)),\n",
    "  layers.Dense(1, activation='relu')\n",
    "])\n",
    "```\n",
    "\n",
    "The other method to define the architecture uses the Keras API. This is a much more flexible approach based on graph theory and can be used to create networks that are much more complex. "
   ]
  },
  {
   "cell_type": "markdown",
   "metadata": {},
   "source": [
    "## Example 1: binary classification\n",
    "The first example we'll look is a binary classification task. This is based on a set of movie reviews taken from the IMDB. There are a total of 50,000 reviews, split 50-50 into a training and testing set. "
   ]
  },
  {
   "cell_type": "markdown",
   "metadata": {},
   "source": [
    "The IMDB data is included with the Keras package, so we don't need to worry about processing it, but simply load it. First, import the `imdb` functions from `datasets`, the use the `load_data()` method to get the data. This will download the data to your computer, so make sure you are connected to the internet when you run this."
   ]
  },
  {
   "cell_type": "code",
   "execution_count": 1,
   "metadata": {},
   "outputs": [
    {
     "name": "stderr",
     "output_type": "stream",
     "text": [
      "/opt/miniconda3/envs/tensorflow/lib/python3.7/site-packages/tensorflow_core/python/keras/datasets/imdb.py:129: VisibleDeprecationWarning: Creating an ndarray from ragged nested sequences (which is a list-or-tuple of lists-or-tuples-or ndarrays with different lengths or shapes) is deprecated. If you meant to do this, you must specify 'dtype=object' when creating the ndarray\n",
      "  x_train, y_train = np.array(xs[:idx]), np.array(labels[:idx])\n",
      "/opt/miniconda3/envs/tensorflow/lib/python3.7/site-packages/tensorflow_core/python/keras/datasets/imdb.py:130: VisibleDeprecationWarning: Creating an ndarray from ragged nested sequences (which is a list-or-tuple of lists-or-tuples-or ndarrays with different lengths or shapes) is deprecated. If you meant to do this, you must specify 'dtype=object' when creating the ndarray\n",
      "  x_test, y_test = np.array(xs[idx:]), np.array(labels[idx:])\n"
     ]
    }
   ],
   "source": [
    "from tensorflow.keras.datasets import imdb\n",
    "(train_data, train_labels), (test_data, test_labels) = imdb.load_data(\n",
    "    num_words=10000)"
   ]
  },
  {
   "cell_type": "markdown",
   "metadata": {},
   "source": [
    "The `num_words` argument limits the data to the top 10,000 words, and ignores words that occur less frequently. Note that this has already been split into the training and testing set for us. "
   ]
  },
  {
   "cell_type": "code",
   "execution_count": 2,
   "metadata": {},
   "outputs": [
    {
     "name": "stdout",
     "output_type": "stream",
     "text": [
      "(25000,)\n"
     ]
    }
   ],
   "source": [
    "print(train_data.shape)"
   ]
  },
  {
   "cell_type": "markdown",
   "metadata": {},
   "source": [
    "Let's take a quick look at the first review:"
   ]
  },
  {
   "cell_type": "code",
   "execution_count": 3,
   "metadata": {},
   "outputs": [
    {
     "name": "stdout",
     "output_type": "stream",
     "text": [
      "[1, 14, 22, 16, 43, 530, 973, 1622, 1385, 65, 458, 4468, 66, 3941, 4, 173, 36, 256, 5, 25, 100, 43, 838, 112, 50, 670, 2, 9, 35, 480, 284, 5, 150, 4, 172, 112, 167, 2, 336, 385, 39, 4, 172, 4536, 1111, 17, 546, 38, 13, 447, 4, 192, 50, 16, 6, 147, 2025, 19, 14, 22, 4, 1920, 4613, 469, 4, 22, 71, 87, 12, 16, 43, 530, 38, 76, 15, 13, 1247, 4, 22, 17, 515, 17, 12, 16, 626, 18, 2, 5, 62, 386, 12, 8, 316, 8, 106, 5, 4, 2223, 5244, 16, 480, 66, 3785, 33, 4, 130, 12, 16, 38, 619, 5, 25, 124, 51, 36, 135, 48, 25, 1415, 33, 6, 22, 12, 215, 28, 77, 52, 5, 14, 407, 16, 82, 2, 8, 4, 107, 117, 5952, 15, 256, 4, 2, 7, 3766, 5, 723, 36, 71, 43, 530, 476, 26, 400, 317, 46, 7, 4, 2, 1029, 13, 104, 88, 4, 381, 15, 297, 98, 32, 2071, 56, 26, 141, 6, 194, 7486, 18, 4, 226, 22, 21, 134, 476, 26, 480, 5, 144, 30, 5535, 18, 51, 36, 28, 224, 92, 25, 104, 4, 226, 65, 16, 38, 1334, 88, 12, 16, 283, 5, 16, 4472, 113, 103, 32, 15, 16, 5345, 19, 178, 32]\n"
     ]
    }
   ],
   "source": [
    "print(train_data[0])"
   ]
  },
  {
   "cell_type": "markdown",
   "metadata": {},
   "source": [
    "The review has already been encoded to an integer representation. Each number represents the presence of a single word in a review (for example 19 == `film`). \n",
    "\n",
    "The authors provide a function that allows you to decode these reviews (i.e. back transform them to the original text). First, create an index containing the words and their integer representations:"
   ]
  },
  {
   "cell_type": "code",
   "execution_count": 4,
   "metadata": {},
   "outputs": [],
   "source": [
    "word_index = imdb.get_word_index()                               \n",
    "\n",
    "reverse_word_index = dict(\n",
    "    [(value, key) for (key, value) in word_index.items()])       "
   ]
  },
  {
   "cell_type": "markdown",
   "metadata": {},
   "source": [
    "Now use this to transform the above review "
   ]
  },
  {
   "cell_type": "code",
   "execution_count": 5,
   "metadata": {},
   "outputs": [
    {
     "name": "stdout",
     "output_type": "stream",
     "text": [
      "? this film was just brilliant casting location scenery story direction everyone's really suited the part they played and you could just imagine being there robert ? is an amazing actor and now the same being director ? father came from the same scottish island as myself so i loved the fact there was a real connection with this film the witty remarks throughout the film were great it was just brilliant so much that i bought the film as soon as it was released for ? and would recommend it to everyone to watch and the fly fishing was amazing really cried at the end it was so sad and you know what they say if you cry at a film it must have been good and this definitely was also ? to the two little boy's that played the ? of norman and paul they were just brilliant children are often left out of the ? list i think because the stars that play them all grown up are such a big profile for the whole film but these children are amazing and should be praised for what they have done don't you think the whole story was so lovely because it was true and was someone's life after all that was shared with us all\n"
     ]
    }
   ],
   "source": [
    "decoded_review = ' '.join(\n",
    "    [reverse_word_index.get(i - 3, '?') for i in train_data[0]]) \n",
    "\n",
    "print(decoded_review)"
   ]
  },
  {
   "cell_type": "markdown",
   "metadata": {},
   "source": [
    "We can also take a look at the outcome label. This is a binary value, where 0 indicates a negative review and 1 indicates a positive review. "
   ]
  },
  {
   "cell_type": "code",
   "execution_count": 6,
   "metadata": {},
   "outputs": [
    {
     "name": "stdout",
     "output_type": "stream",
     "text": [
      "1\n"
     ]
    }
   ],
   "source": [
    "print(train_labels[0])"
   ]
  },
  {
   "cell_type": "markdown",
   "metadata": {},
   "source": [
    "So the objects `train_data` and `test_data` are lists of reviews; each review is a list of word indices (encoding a sequence of words). `train_labels` and `test_labels` are lists of 0s and 1s, where 0 stands for negative and 1 stands for positive:\n",
    "\n",
    "Although the data have been processed and organized by review, we can't use these reviews directly in a model, as it will based any weights on the integer assigned to each word, rather than simply the presence or absence of that word. In addition, each review is of a different length, which makes it tricky to assign these values to input nodes in a neural network. We can get a better organization by one-hot encoding the reviews. This will produce, for each review, a vector of length 10,000, where each entry will be a binary (0/1) value indicating whether or not that particular word was present in the review. As we need to do this for both the training and testing sets, we'll create a function to do this for us:"
   ]
  },
  {
   "cell_type": "code",
   "execution_count": 7,
   "metadata": {},
   "outputs": [],
   "source": [
    "import numpy as np\n",
    "\n",
    "def vectorize_sequences(sequences, dimension=10000):\n",
    "    # Create an all-zero matrix of shape (len(sequences), dimension)\n",
    "    results = np.zeros((len(sequences), dimension))\n",
    "    for i, sequence in enumerate(sequences):\n",
    "        results[i, sequence] = 1.  # set specific indices of results[i] to 1s\n",
    "    return results"
   ]
  },
  {
   "cell_type": "markdown",
   "metadata": {},
   "source": [
    "This first creates a matrix with 10,000 columns (representing each word) and the same number of rows as the set of reviews we are processing. It then iterates through each review, and if a given word is present in that review, then the value in the matrix is set to 1, otherwise it is left as a 0. \n",
    "\n",
    "Now we can apply this to both the training and testing reviews:"
   ]
  },
  {
   "cell_type": "code",
   "execution_count": 8,
   "metadata": {},
   "outputs": [],
   "source": [
    "# Our vectorized training data\n",
    "x_train = vectorize_sequences(train_data)\n",
    "# Our vectorized test data\n",
    "x_test = vectorize_sequences(test_data)"
   ]
  },
  {
   "cell_type": "markdown",
   "metadata": {},
   "source": [
    "If you want to see what the first training review looks like following the one-hot encoding, simply type `x_train[0]`. These represent the input *tensors*. For this model, these are rank 2 tensors and simply represented in Python as 2D arrays. "
   ]
  },
  {
   "cell_type": "code",
   "execution_count": 9,
   "metadata": {},
   "outputs": [
    {
     "data": {
      "text/plain": [
       "array([0., 1., 1., ..., 0., 0., 0.])"
      ]
     },
     "execution_count": 9,
     "metadata": {},
     "output_type": "execute_result"
    }
   ],
   "source": [
    "x_train[0]"
   ]
  },
  {
   "cell_type": "markdown",
   "metadata": {},
   "source": [
    "We'll also convert the labels from integer values to floating point (numeric):"
   ]
  },
  {
   "cell_type": "code",
   "execution_count": 10,
   "metadata": {},
   "outputs": [],
   "source": [
    "y_train = np.asarray(train_labels).astype('float32')\n",
    "y_test = np.asarray(test_labels).astype('float32')"
   ]
  },
  {
   "cell_type": "markdown",
   "metadata": {},
   "source": [
    "Before we start to build the model, we'll create a validation dataset by splitting the training data in two parts. Validation datasets are important in deep learning as the complex networks can quickly and easily overfit to the training data. Validation data are used during the training process. Following each adjustment of the weights, the network predicts the labels for the validation set, and a validation error is calculated. A decreasing validation error suggests that the model is training well to the data, but when it starts to increase, this indicates overfitting: prediction for new data becomes worse. Here, we'll take the first 10,000 reviews and use them for validation:"
   ]
  },
  {
   "cell_type": "code",
   "execution_count": 11,
   "metadata": {},
   "outputs": [],
   "source": [
    "x_val = x_train[:10000]\n",
    "partial_x_train = x_train[10000:]\n",
    "y_val = y_train[:10000]\n",
    "partial_y_train = y_train[10000:]"
   ]
  },
  {
   "cell_type": "markdown",
   "metadata": {},
   "source": [
    "## Setting up the network\n",
    "\n",
    "Now we'll set up the network architecture. The Keras API uses a set of building block functions to set up this network. The `Sequential()` function defines a blank template for a sequential neural network. The `Dense()` function adds a single hidden layer to this. A *dense* layer is a a standard neural network hidden layer that is fully (or densely) connected to all inputs and all outputs. \n",
    "\n",
    "In the following code, we define a simple network with two hidden layers. Each hidden layer has 16 nodes (`units`) and uses a ReLU activation function. The second layer is then connected to an output later with a single unit as we are predicting a single outcome (good vs. bad reviews). Note that \n",
    "\n",
    "- we use a sigmoid activation function for the output layer, as this forces the output to be in 0-1 range. \n",
    "- we define the number of features in the `input_shape` in the first hidden layer. This will define the number of connections needed between the input (10,000 words) and the nodes of the first layer"
   ]
  },
  {
   "cell_type": "code",
   "execution_count": 12,
   "metadata": {},
   "outputs": [],
   "source": [
    "from tensorflow.keras import models\n",
    "from tensorflow.keras import layers\n",
    "\n",
    "model = models.Sequential([\n",
    "  layers.Dense(16, activation='relu', input_shape=(10000,)),\n",
    "  layers.Dense(16, activation='relu'),\n",
    "  layers.Dense(1, activation='sigmoid')\n",
    "])"
   ]
  },
  {
   "cell_type": "markdown",
   "metadata": {},
   "source": [
    "Let's take a look at the architecture this has created:"
   ]
  },
  {
   "cell_type": "code",
   "execution_count": 13,
   "metadata": {},
   "outputs": [
    {
     "name": "stdout",
     "output_type": "stream",
     "text": [
      "Model: \"sequential\"\n",
      "_________________________________________________________________\n",
      "Layer (type)                 Output Shape              Param #   \n",
      "=================================================================\n",
      "dense (Dense)                (None, 16)                160016    \n",
      "_________________________________________________________________\n",
      "dense_1 (Dense)              (None, 16)                272       \n",
      "_________________________________________________________________\n",
      "dense_2 (Dense)              (None, 1)                 17        \n",
      "=================================================================\n",
      "Total params: 160,305\n",
      "Trainable params: 160,305\n",
      "Non-trainable params: 0\n",
      "_________________________________________________________________\n",
      "None\n"
     ]
    }
   ],
   "source": [
    "print(model.summary())"
   ]
  },
  {
   "cell_type": "markdown",
   "metadata": {},
   "source": [
    "This table shows for each layer:\n",
    "\n",
    "- Its name (this can be set in the `layer_dense` function)\n",
    "- The number of outputs (shape)\n",
    "- The number of parameters to be estimated. For the first this is the number of inputs (10,000) multiplied by the number of nodes (16) + a bias for each node (16). \n",
    "- The total number of parameters in the model, which comes out to a little over 160,000. This large number of parameters is why these models require large amounts of data to train (and why they can fit complex problems)"
   ]
  },
  {
   "cell_type": "markdown",
   "metadata": {},
   "source": [
    "You can also plot out the model as a graph network (this requires that the `pydot` and `graphviz` packages are installed). This is a great way to track more complex models. "
   ]
  },
  {
   "cell_type": "code",
   "execution_count": 14,
   "metadata": {},
   "outputs": [
    {
     "data": {
      "image/png": "[encoded data removed]",
      "text/plain": [
       "<IPython.core.display.Image object>"
      ]
     },
     "execution_count": 14,
     "metadata": {},
     "output_type": "execute_result"
    }
   ],
   "source": [
    "from tensorflow.keras.utils import plot_model\n",
    "plot_model(model, show_shapes = True)"
   ]
  },
  {
   "cell_type": "markdown",
   "metadata": {},
   "source": [
    "Next, we need to configure the model by specifying the optimizer to be used, the loss function and any error metrics we want to calculate. We'll use standard backpropagation for the optimizer, binary cross entropy for the loss function and we'll measure the model's accuracy. Cross entropy is a measure of how different two distributions are, and this is well suited to a binary classification exercise, where we want to discriminate between 0's and 1's,"
   ]
  },
  {
   "cell_type": "code",
   "execution_count": 15,
   "metadata": {},
   "outputs": [],
   "source": [
    "model.compile(optimizer='rmsprop',\n",
    "              loss='binary_crossentropy',\n",
    "              metrics=['acc'])"
   ]
  },
  {
   "cell_type": "markdown",
   "metadata": {},
   "source": [
    "### Training the model\n",
    "\n",
    "Now we have everything in place, we can train the model. Here we specify:\n",
    "\n",
    "- the set of features for training (`partial_x_train`)\n",
    "- the set of labels for training (`partial_y_train`)\n",
    "- the number of iterations to train the model for (`epochs`)\n",
    "- the `batch_size`. \n",
    "- the validation features and labels\n",
    "\n",
    "The batch size is quite an useful parameter to make your network more efficient. This is the number of samples to pass through the network before updating weights. This allows you to trade off the speed of the calculation against the convergence. Using smaller batches uses less memory but may take longer to converge, as the weights are being updated using only a fraction of the data. Larger batches will converge quickly, by may cause memory issues, and may more easily result in overfitting. "
   ]
  },
  {
   "cell_type": "code",
   "execution_count": 16,
   "metadata": {},
   "outputs": [
    {
     "name": "stdout",
     "output_type": "stream",
     "text": [
      "Train on 15000 samples, validate on 10000 samples\n",
      "Epoch 1/20\n",
      "15000/15000 [==============================] - 4s 251us/sample - loss: 0.5175 - acc: 0.7913 - val_loss: 0.3835 - val_acc: 0.8708\n",
      "Epoch 2/20\n",
      "15000/15000 [==============================] - 2s 103us/sample - loss: 0.3062 - acc: 0.8987 - val_loss: 0.3104 - val_acc: 0.8820\n",
      "Epoch 3/20\n",
      "15000/15000 [==============================] - 1s 91us/sample - loss: 0.2248 - acc: 0.9261 - val_loss: 0.2815 - val_acc: 0.8873\n",
      "Epoch 4/20\n",
      "15000/15000 [==============================] - 1s 78us/sample - loss: 0.1777 - acc: 0.9413 - val_loss: 0.2762 - val_acc: 0.8890\n",
      "Epoch 5/20\n",
      "15000/15000 [==============================] - 1s 90us/sample - loss: 0.1453 - acc: 0.9542 - val_loss: 0.2848 - val_acc: 0.8859\n",
      "Epoch 6/20\n",
      "15000/15000 [==============================] - 1s 94us/sample - loss: 0.1184 - acc: 0.9625 - val_loss: 0.2983 - val_acc: 0.8844\n",
      "Epoch 7/20\n",
      "15000/15000 [==============================] - 1s 84us/sample - loss: 0.0985 - acc: 0.9699 - val_loss: 0.3386 - val_acc: 0.8768\n",
      "Epoch 8/20\n",
      "15000/15000 [==============================] - 1s 76us/sample - loss: 0.0808 - acc: 0.9771 - val_loss: 0.3402 - val_acc: 0.8788\n",
      "Epoch 9/20\n",
      "15000/15000 [==============================] - 1s 77us/sample - loss: 0.0676 - acc: 0.9811 - val_loss: 0.3563 - val_acc: 0.8808\n",
      "Epoch 10/20\n",
      "15000/15000 [==============================] - 1s 77us/sample - loss: 0.0555 - acc: 0.9843 - val_loss: 0.3834 - val_acc: 0.8757\n",
      "Epoch 11/20\n",
      "15000/15000 [==============================] - 1s 77us/sample - loss: 0.0423 - acc: 0.9909 - val_loss: 0.4099 - val_acc: 0.8750\n",
      "Epoch 12/20\n",
      "15000/15000 [==============================] - 1s 77us/sample - loss: 0.0357 - acc: 0.9920 - val_loss: 0.4411 - val_acc: 0.8738\n",
      "Epoch 13/20\n",
      "15000/15000 [==============================] - 1s 78us/sample - loss: 0.0289 - acc: 0.9941 - val_loss: 0.4692 - val_acc: 0.8745\n",
      "Epoch 14/20\n",
      "15000/15000 [==============================] - 1s 73us/sample - loss: 0.0205 - acc: 0.9965 - val_loss: 0.5099 - val_acc: 0.8696\n",
      "Epoch 15/20\n",
      "15000/15000 [==============================] - 1s 73us/sample - loss: 0.0185 - acc: 0.9969 - val_loss: 0.5372 - val_acc: 0.8723\n",
      "Epoch 16/20\n",
      "15000/15000 [==============================] - 1s 75us/sample - loss: 0.0128 - acc: 0.9985 - val_loss: 0.5720 - val_acc: 0.8705\n",
      "Epoch 17/20\n",
      "15000/15000 [==============================] - 1s 77us/sample - loss: 0.0085 - acc: 0.9993 - val_loss: 0.6131 - val_acc: 0.8698\n",
      "Epoch 18/20\n",
      "15000/15000 [==============================] - 1s 75us/sample - loss: 0.0099 - acc: 0.9985 - val_loss: 0.6453 - val_acc: 0.8701\n",
      "Epoch 19/20\n",
      "15000/15000 [==============================] - 1s 76us/sample - loss: 0.0070 - acc: 0.9989 - val_loss: 0.6854 - val_acc: 0.8666\n",
      "Epoch 20/20\n",
      "15000/15000 [==============================] - 1s 79us/sample - loss: 0.0033 - acc: 0.9999 - val_loss: 0.7152 - val_acc: 0.8662\n"
     ]
    }
   ],
   "source": [
    "history = model.fit(partial_x_train,\n",
    "                    partial_y_train,\n",
    "                    epochs=20,\n",
    "                    batch_size=512,\n",
    "                    validation_data=(x_val, y_val))"
   ]
  },
  {
   "cell_type": "markdown",
   "metadata": {},
   "source": [
    "The output from the training (`history`) contains the evolution of the loss function and performance metric, and we can use this to visualize the progression of the model:"
   ]
  },
  {
   "cell_type": "code",
   "execution_count": 17,
   "metadata": {},
   "outputs": [
    {
     "data": {
      "text/plain": [
       "dict_keys(['loss', 'acc', 'val_loss', 'val_acc'])"
      ]
     },
     "execution_count": 17,
     "metadata": {},
     "output_type": "execute_result"
    }
   ],
   "source": [
    "history_dict = history.history\n",
    "history_dict.keys()"
   ]
  },
  {
   "cell_type": "code",
   "execution_count": 18,
   "metadata": {},
   "outputs": [
    {
     "data": {
      "image/png": "[encoded data removed]",
      "text/plain": [
       "<Figure size 432x288 with 1 Axes>"
      ]
     },
     "metadata": {
      "needs_background": "light"
     },
     "output_type": "display_data"
    }
   ],
   "source": [
    "import matplotlib.pyplot as plt\n",
    "\n",
    "loss_values = history_dict['loss']\n",
    "val_loss_values = history_dict['val_loss']\n",
    "\n",
    "epochs = range(1, len(loss_values) + 1)\n",
    "plt.plot(epochs, loss_values, 'bo', label='Training loss')          \n",
    "\n",
    "plt.plot(epochs, val_loss_values, 'b', label='Validation loss')     \n",
    "\n",
    "plt.title('Training and validation loss')\n",
    "plt.xlabel('Epochs')\n",
    "plt.ylabel('Loss')\n",
    "plt.legend()\n",
    "plt.show()"
   ]
  },
  {
   "cell_type": "markdown",
   "metadata": {},
   "source": [
    "And here's the change in the accuracy:"
   ]
  },
  {
   "cell_type": "code",
   "execution_count": 19,
   "metadata": {},
   "outputs": [
    {
     "data": {
      "image/png": "[encoded data removed]",
      "text/plain": [
       "<Figure size 432x288 with 1 Axes>"
      ]
     },
     "metadata": {
      "needs_background": "light"
     },
     "output_type": "display_data"
    }
   ],
   "source": [
    "plt.clf()                                                           \n",
    "\n",
    "acc = history_dict['acc']\n",
    "val_acc = history_dict['val_acc']\n",
    "plt.plot(epochs, acc, 'bo', label='Training acc')\n",
    "plt.plot(epochs, val_acc, 'b', label='Validation acc')\n",
    "plt.title('Training and validation accuracy')\n",
    "plt.xlabel('Epochs')\n",
    "plt.ylabel('Accuracy')\n",
    "plt.legend()\n",
    "plt.show()"
   ]
  },
  {
   "cell_type": "markdown",
   "metadata": {},
   "source": [
    "The lines show the loss and accuracy for the training dataset, with a maximum accuracy close to 1. The blue points show the same for the validation dataset, and show clear signs of overfitting. There is a peak in accuracy (and a minimum in the loss function) at around 5 epochs. We'll refit our model with a smaller number of epochs to the full training set, and then go on to test it.\n"
   ]
  },
  {
   "cell_type": "code",
   "execution_count": 20,
   "metadata": {},
   "outputs": [
    {
     "name": "stdout",
     "output_type": "stream",
     "text": [
      "Train on 25000 samples\n",
      "Epoch 1/5\n",
      "25000/25000 [==============================] - 2s 90us/sample - loss: 0.4449 - accuracy: 0.8261\n",
      "Epoch 2/5\n",
      "25000/25000 [==============================] - 1s 43us/sample - loss: 0.2569 - accuracy: 0.9102\n",
      "Epoch 3/5\n",
      "25000/25000 [==============================] - 1s 44us/sample - loss: 0.1981 - accuracy: 0.9296\n",
      "Epoch 4/5\n",
      "25000/25000 [==============================] - 1s 49us/sample - loss: 0.1652 - accuracy: 0.9416\n",
      "Epoch 5/5\n",
      "25000/25000 [==============================] - 2s 66us/sample - loss: 0.1454 - accuracy: 0.9490\n"
     ]
    },
    {
     "data": {
      "text/plain": [
       "<tensorflow.python.keras.callbacks.History at 0x7fafa0c90f90>"
      ]
     },
     "execution_count": 20,
     "metadata": {},
     "output_type": "execute_result"
    }
   ],
   "source": [
    "model = models.Sequential([\n",
    "  layers.Dense(16, activation='relu', input_shape=(10000,)),\n",
    "  layers.Dense(16, activation='relu'),\n",
    "  layers.Dense(1, activation='sigmoid')\n",
    "])\n",
    "\n",
    "model.compile(optimizer='rmsprop',\n",
    "              loss='binary_crossentropy',\n",
    "              metrics=['accuracy'])\n",
    "\n",
    "model.fit(x_train, y_train, epochs = 5, batch_size = 512)"
   ]
  },
  {
   "cell_type": "markdown",
   "metadata": {},
   "source": [
    "We can test the model by using the `evaluate()` method and the original test (not validation!) dataset:"
   ]
  },
  {
   "cell_type": "code",
   "execution_count": 21,
   "metadata": {},
   "outputs": [],
   "source": [
    "results = model.evaluate(x_test, y_test, verbose=0)"
   ]
  },
  {
   "cell_type": "code",
   "execution_count": 22,
   "metadata": {},
   "outputs": [
    {
     "name": "stdout",
     "output_type": "stream",
     "text": [
      "Final loss: 0.3114\n",
      "Final accuracy: 0.8796\n"
     ]
    }
   ],
   "source": [
    "print('Final loss: %.4f'\n",
    "      % results[0])\n",
    "print('Final accuracy: %.4f'\n",
    "      % results[1])"
   ]
  },
  {
   "cell_type": "markdown",
   "metadata": {},
   "source": [
    "We get an accuracy of about 87%, which is not bad for a first attempt. The next steps would be to modify the network architecture to see if this could be improved on, e.g. by adding more layers or more nodes in the layers. We'll finish here by making a quick prediction using our trained network, but feel free to try and change your network. "
   ]
  },
  {
   "cell_type": "markdown",
   "metadata": {},
   "source": [
    "We'll take the first 10 reviews from the test data and use the `predict()` method to get a predicted probability of this being a good review:"
   ]
  },
  {
   "cell_type": "code",
   "execution_count": 23,
   "metadata": {},
   "outputs": [
    {
     "data": {
      "text/plain": [
       "array([[0.22477978],\n",
       "       [0.99982965],\n",
       "       [0.8338088 ],\n",
       "       [0.907768  ],\n",
       "       [0.9611802 ],\n",
       "       [0.81270874],\n",
       "       [0.99988663],\n",
       "       [0.00707677],\n",
       "       [0.974094  ],\n",
       "       [0.9987135 ]], dtype=float32)"
      ]
     },
     "execution_count": 23,
     "metadata": {},
     "output_type": "execute_result"
    }
   ],
   "source": [
    "model.predict(x_test[0:10])"
   ]
  },
  {
   "cell_type": "markdown",
   "metadata": {},
   "source": [
    "This shows a fair range, with some reviews being predicted as very close to 0 or 1, but others where there is greater uncertainty. One thing to do would be to take the function that back transforms the reviews, and look at an example that has been predicted close to 0 or 1 to see what was actually written."
   ]
  },
  {
   "cell_type": "markdown",
   "metadata": {},
   "source": [
    "## Example 2: regression\n",
    "\n",
    "For the second example, we'll demonstrate a regression example, as well as a $k$-fold cross-validation. We'll use data on house prices and neighborhood characteristics from Boston, in the file *boston6k.csv*. Start by reading this data in, and take a quick look at the values:"
   ]
  },
  {
   "cell_type": "code",
   "execution_count": 24,
   "metadata": {},
   "outputs": [],
   "source": [
    "import numpy as np\n",
    "import pandas as pd\n",
    "\n",
    "boston = pd.read_csv(\"../datafiles/boston6k.csv\")"
   ]
  },
  {
   "cell_type": "markdown",
   "metadata": {},
   "source": [
    "Load data"
   ]
  },
  {
   "cell_type": "code",
   "execution_count": 25,
   "metadata": {},
   "outputs": [
    {
     "data": {
      "text/html": [
       "<div>\n",
       "<style scoped>\n",
       "    .dataframe tbody tr th:only-of-type {\n",
       "        vertical-align: middle;\n",
       "    }\n",
       "\n",
       "    .dataframe tbody tr th {\n",
       "        vertical-align: top;\n",
       "    }\n",
       "\n",
       "    .dataframe thead th {\n",
       "        text-align: right;\n",
       "    }\n",
       "</style>\n",
       "<table border=\"1\" class=\"dataframe\">\n",
       "  <thead>\n",
       "    <tr style=\"text-align: right;\">\n",
       "      <th></th>\n",
       "      <th>ID</th>\n",
       "      <th>TOWN</th>\n",
       "      <th>TOWNNO</th>\n",
       "      <th>TRACT</th>\n",
       "      <th>LON</th>\n",
       "      <th>LAT</th>\n",
       "      <th>MEDV</th>\n",
       "      <th>CMEDV</th>\n",
       "      <th>CRIM</th>\n",
       "      <th>ZN</th>\n",
       "      <th>...</th>\n",
       "      <th>CHAS</th>\n",
       "      <th>NOX</th>\n",
       "      <th>RM</th>\n",
       "      <th>AGE</th>\n",
       "      <th>DIS</th>\n",
       "      <th>RAD</th>\n",
       "      <th>TAX</th>\n",
       "      <th>PTRATIO</th>\n",
       "      <th>B</th>\n",
       "      <th>LSTAT</th>\n",
       "    </tr>\n",
       "  </thead>\n",
       "  <tbody>\n",
       "    <tr>\n",
       "      <th>0</th>\n",
       "      <td>1</td>\n",
       "      <td>Boston Allston-Brighton</td>\n",
       "      <td>74</td>\n",
       "      <td>1</td>\n",
       "      <td>-71.139367</td>\n",
       "      <td>42.362447</td>\n",
       "      <td>17.8</td>\n",
       "      <td>17.8</td>\n",
       "      <td>8.98296</td>\n",
       "      <td>0.0</td>\n",
       "      <td>...</td>\n",
       "      <td>1</td>\n",
       "      <td>0.77</td>\n",
       "      <td>6.212</td>\n",
       "      <td>97.4</td>\n",
       "      <td>2.1222</td>\n",
       "      <td>24</td>\n",
       "      <td>666</td>\n",
       "      <td>20.2</td>\n",
       "      <td>377.73</td>\n",
       "      <td>17.60</td>\n",
       "    </tr>\n",
       "    <tr>\n",
       "      <th>1</th>\n",
       "      <td>2</td>\n",
       "      <td>Boston Allston-Brighton</td>\n",
       "      <td>74</td>\n",
       "      <td>2</td>\n",
       "      <td>-71.158552</td>\n",
       "      <td>42.353116</td>\n",
       "      <td>21.7</td>\n",
       "      <td>21.7</td>\n",
       "      <td>3.84970</td>\n",
       "      <td>0.0</td>\n",
       "      <td>...</td>\n",
       "      <td>1</td>\n",
       "      <td>0.77</td>\n",
       "      <td>6.395</td>\n",
       "      <td>91.0</td>\n",
       "      <td>2.5052</td>\n",
       "      <td>24</td>\n",
       "      <td>666</td>\n",
       "      <td>20.2</td>\n",
       "      <td>391.34</td>\n",
       "      <td>13.27</td>\n",
       "    </tr>\n",
       "    <tr>\n",
       "      <th>2</th>\n",
       "      <td>3</td>\n",
       "      <td>Boston Allston-Brighton</td>\n",
       "      <td>74</td>\n",
       "      <td>3</td>\n",
       "      <td>-71.168487</td>\n",
       "      <td>42.350608</td>\n",
       "      <td>22.7</td>\n",
       "      <td>22.7</td>\n",
       "      <td>5.20177</td>\n",
       "      <td>0.0</td>\n",
       "      <td>...</td>\n",
       "      <td>1</td>\n",
       "      <td>0.77</td>\n",
       "      <td>6.127</td>\n",
       "      <td>83.4</td>\n",
       "      <td>2.7227</td>\n",
       "      <td>24</td>\n",
       "      <td>666</td>\n",
       "      <td>20.2</td>\n",
       "      <td>395.43</td>\n",
       "      <td>11.48</td>\n",
       "    </tr>\n",
       "    <tr>\n",
       "      <th>3</th>\n",
       "      <td>4</td>\n",
       "      <td>Boston Allston-Brighton</td>\n",
       "      <td>74</td>\n",
       "      <td>4</td>\n",
       "      <td>-71.156163</td>\n",
       "      <td>42.343818</td>\n",
       "      <td>22.6</td>\n",
       "      <td>22.6</td>\n",
       "      <td>4.26131</td>\n",
       "      <td>0.0</td>\n",
       "      <td>...</td>\n",
       "      <td>0</td>\n",
       "      <td>0.77</td>\n",
       "      <td>6.112</td>\n",
       "      <td>81.3</td>\n",
       "      <td>2.5091</td>\n",
       "      <td>24</td>\n",
       "      <td>666</td>\n",
       "      <td>20.2</td>\n",
       "      <td>390.74</td>\n",
       "      <td>12.67</td>\n",
       "    </tr>\n",
       "    <tr>\n",
       "      <th>4</th>\n",
       "      <td>5</td>\n",
       "      <td>Boston Allston-Brighton</td>\n",
       "      <td>74</td>\n",
       "      <td>5</td>\n",
       "      <td>-71.155807</td>\n",
       "      <td>42.337318</td>\n",
       "      <td>25.0</td>\n",
       "      <td>25.0</td>\n",
       "      <td>4.54192</td>\n",
       "      <td>0.0</td>\n",
       "      <td>...</td>\n",
       "      <td>0</td>\n",
       "      <td>0.77</td>\n",
       "      <td>6.398</td>\n",
       "      <td>88.0</td>\n",
       "      <td>2.5182</td>\n",
       "      <td>24</td>\n",
       "      <td>666</td>\n",
       "      <td>20.2</td>\n",
       "      <td>374.56</td>\n",
       "      <td>7.79</td>\n",
       "    </tr>\n",
       "  </tbody>\n",
       "</table>\n",
       "<p>5 rows × 21 columns</p>\n",
       "</div>"
      ],
      "text/plain": [
       "   ID                     TOWN  TOWNNO  TRACT        LON        LAT  MEDV  \\\n",
       "0   1  Boston Allston-Brighton      74      1 -71.139367  42.362447  17.8   \n",
       "1   2  Boston Allston-Brighton      74      2 -71.158552  42.353116  21.7   \n",
       "2   3  Boston Allston-Brighton      74      3 -71.168487  42.350608  22.7   \n",
       "3   4  Boston Allston-Brighton      74      4 -71.156163  42.343818  22.6   \n",
       "4   5  Boston Allston-Brighton      74      5 -71.155807  42.337318  25.0   \n",
       "\n",
       "   CMEDV     CRIM   ZN  ...  CHAS   NOX     RM   AGE     DIS  RAD  TAX  \\\n",
       "0   17.8  8.98296  0.0  ...     1  0.77  6.212  97.4  2.1222   24  666   \n",
       "1   21.7  3.84970  0.0  ...     1  0.77  6.395  91.0  2.5052   24  666   \n",
       "2   22.7  5.20177  0.0  ...     1  0.77  6.127  83.4  2.7227   24  666   \n",
       "3   22.6  4.26131  0.0  ...     0  0.77  6.112  81.3  2.5091   24  666   \n",
       "4   25.0  4.54192  0.0  ...     0  0.77  6.398  88.0  2.5182   24  666   \n",
       "\n",
       "   PTRATIO       B  LSTAT  \n",
       "0     20.2  377.73  17.60  \n",
       "1     20.2  391.34  13.27  \n",
       "2     20.2  395.43  11.48  \n",
       "3     20.2  390.74  12.67  \n",
       "4     20.2  374.56   7.79  \n",
       "\n",
       "[5 rows x 21 columns]"
      ]
     },
     "execution_count": 25,
     "metadata": {},
     "output_type": "execute_result"
    }
   ],
   "source": [
    "boston.head()"
   ]
  },
  {
   "cell_type": "markdown",
   "metadata": {},
   "source": [
    "Summary information"
   ]
  },
  {
   "cell_type": "code",
   "execution_count": 26,
   "metadata": {},
   "outputs": [
    {
     "name": "stdout",
     "output_type": "stream",
     "text": [
      "<class 'pandas.core.frame.DataFrame'>\n",
      "RangeIndex: 506 entries, 0 to 505\n",
      "Data columns (total 21 columns):\n",
      " #   Column   Non-Null Count  Dtype  \n",
      "---  ------   --------------  -----  \n",
      " 0   ID       506 non-null    int64  \n",
      " 1   TOWN     506 non-null    object \n",
      " 2   TOWNNO   506 non-null    int64  \n",
      " 3   TRACT    506 non-null    int64  \n",
      " 4   LON      506 non-null    float64\n",
      " 5   LAT      506 non-null    float64\n",
      " 6   MEDV     506 non-null    float64\n",
      " 7   CMEDV    506 non-null    float64\n",
      " 8   CRIM     506 non-null    float64\n",
      " 9   ZN       506 non-null    float64\n",
      " 10  INDUS    506 non-null    float64\n",
      " 11  CHAS     506 non-null    int64  \n",
      " 12  NOX      506 non-null    float64\n",
      " 13  RM       506 non-null    float64\n",
      " 14  AGE      506 non-null    float64\n",
      " 15  DIS      506 non-null    float64\n",
      " 16  RAD      506 non-null    int64  \n",
      " 17  TAX      506 non-null    int64  \n",
      " 18  PTRATIO  506 non-null    float64\n",
      " 19  B        506 non-null    float64\n",
      " 20  LSTAT    506 non-null    float64\n",
      "dtypes: float64(14), int64(6), object(1)\n",
      "memory usage: 83.1+ KB\n"
     ]
    }
   ],
   "source": [
    "boston.info()"
   ]
  },
  {
   "cell_type": "markdown",
   "metadata": {},
   "source": [
    "Value "
   ]
  },
  {
   "cell_type": "code",
   "execution_count": 27,
   "metadata": {},
   "outputs": [
    {
     "data": {
      "text/html": [
       "<div>\n",
       "<style scoped>\n",
       "    .dataframe tbody tr th:only-of-type {\n",
       "        vertical-align: middle;\n",
       "    }\n",
       "\n",
       "    .dataframe tbody tr th {\n",
       "        vertical-align: top;\n",
       "    }\n",
       "\n",
       "    .dataframe thead th {\n",
       "        text-align: right;\n",
       "    }\n",
       "</style>\n",
       "<table border=\"1\" class=\"dataframe\">\n",
       "  <thead>\n",
       "    <tr style=\"text-align: right;\">\n",
       "      <th></th>\n",
       "      <th>ID</th>\n",
       "      <th>TOWNNO</th>\n",
       "      <th>TRACT</th>\n",
       "      <th>LON</th>\n",
       "      <th>LAT</th>\n",
       "      <th>MEDV</th>\n",
       "      <th>CMEDV</th>\n",
       "      <th>CRIM</th>\n",
       "      <th>ZN</th>\n",
       "      <th>INDUS</th>\n",
       "      <th>CHAS</th>\n",
       "      <th>NOX</th>\n",
       "      <th>RM</th>\n",
       "      <th>AGE</th>\n",
       "      <th>DIS</th>\n",
       "      <th>RAD</th>\n",
       "      <th>TAX</th>\n",
       "      <th>PTRATIO</th>\n",
       "      <th>B</th>\n",
       "      <th>LSTAT</th>\n",
       "    </tr>\n",
       "  </thead>\n",
       "  <tbody>\n",
       "    <tr>\n",
       "      <th>count</th>\n",
       "      <td>506.000000</td>\n",
       "      <td>506.000000</td>\n",
       "      <td>506.000000</td>\n",
       "      <td>506.000000</td>\n",
       "      <td>506.000000</td>\n",
       "      <td>506.000000</td>\n",
       "      <td>506.000000</td>\n",
       "      <td>506.000000</td>\n",
       "      <td>506.000000</td>\n",
       "      <td>506.000000</td>\n",
       "      <td>506.000000</td>\n",
       "      <td>506.000000</td>\n",
       "      <td>506.000000</td>\n",
       "      <td>506.000000</td>\n",
       "      <td>506.000000</td>\n",
       "      <td>506.000000</td>\n",
       "      <td>506.000000</td>\n",
       "      <td>506.000000</td>\n",
       "      <td>506.000000</td>\n",
       "      <td>506.000000</td>\n",
       "    </tr>\n",
       "    <tr>\n",
       "      <th>mean</th>\n",
       "      <td>253.500000</td>\n",
       "      <td>47.531621</td>\n",
       "      <td>2700.355731</td>\n",
       "      <td>-71.094343</td>\n",
       "      <td>42.360270</td>\n",
       "      <td>22.532806</td>\n",
       "      <td>22.528854</td>\n",
       "      <td>3.613524</td>\n",
       "      <td>11.363636</td>\n",
       "      <td>11.136779</td>\n",
       "      <td>0.069170</td>\n",
       "      <td>0.554695</td>\n",
       "      <td>6.284634</td>\n",
       "      <td>68.574901</td>\n",
       "      <td>3.795043</td>\n",
       "      <td>9.549407</td>\n",
       "      <td>408.237154</td>\n",
       "      <td>18.455534</td>\n",
       "      <td>356.674032</td>\n",
       "      <td>12.653063</td>\n",
       "    </tr>\n",
       "    <tr>\n",
       "      <th>std</th>\n",
       "      <td>146.213884</td>\n",
       "      <td>27.571401</td>\n",
       "      <td>1380.036830</td>\n",
       "      <td>0.125508</td>\n",
       "      <td>0.103696</td>\n",
       "      <td>9.197104</td>\n",
       "      <td>9.182176</td>\n",
       "      <td>8.601545</td>\n",
       "      <td>23.322453</td>\n",
       "      <td>6.860353</td>\n",
       "      <td>0.253994</td>\n",
       "      <td>0.115878</td>\n",
       "      <td>0.702617</td>\n",
       "      <td>28.148861</td>\n",
       "      <td>2.105710</td>\n",
       "      <td>8.707259</td>\n",
       "      <td>168.537116</td>\n",
       "      <td>2.164946</td>\n",
       "      <td>91.294864</td>\n",
       "      <td>7.141062</td>\n",
       "    </tr>\n",
       "    <tr>\n",
       "      <th>min</th>\n",
       "      <td>1.000000</td>\n",
       "      <td>0.000000</td>\n",
       "      <td>1.000000</td>\n",
       "      <td>-71.485152</td>\n",
       "      <td>42.045973</td>\n",
       "      <td>5.000000</td>\n",
       "      <td>5.000000</td>\n",
       "      <td>0.006320</td>\n",
       "      <td>0.000000</td>\n",
       "      <td>0.460000</td>\n",
       "      <td>0.000000</td>\n",
       "      <td>0.385000</td>\n",
       "      <td>3.561000</td>\n",
       "      <td>2.900000</td>\n",
       "      <td>1.129600</td>\n",
       "      <td>1.000000</td>\n",
       "      <td>187.000000</td>\n",
       "      <td>12.600000</td>\n",
       "      <td>0.320000</td>\n",
       "      <td>1.730000</td>\n",
       "    </tr>\n",
       "    <tr>\n",
       "      <th>25%</th>\n",
       "      <td>127.250000</td>\n",
       "      <td>26.250000</td>\n",
       "      <td>1303.250000</td>\n",
       "      <td>-71.156074</td>\n",
       "      <td>42.299922</td>\n",
       "      <td>17.025000</td>\n",
       "      <td>17.025000</td>\n",
       "      <td>0.082045</td>\n",
       "      <td>0.000000</td>\n",
       "      <td>5.190000</td>\n",
       "      <td>0.000000</td>\n",
       "      <td>0.449000</td>\n",
       "      <td>5.885500</td>\n",
       "      <td>45.025000</td>\n",
       "      <td>2.100175</td>\n",
       "      <td>4.000000</td>\n",
       "      <td>279.000000</td>\n",
       "      <td>17.400000</td>\n",
       "      <td>375.377500</td>\n",
       "      <td>6.950000</td>\n",
       "    </tr>\n",
       "    <tr>\n",
       "      <th>50%</th>\n",
       "      <td>253.500000</td>\n",
       "      <td>42.000000</td>\n",
       "      <td>3393.500000</td>\n",
       "      <td>-71.088686</td>\n",
       "      <td>42.362347</td>\n",
       "      <td>21.200000</td>\n",
       "      <td>21.200000</td>\n",
       "      <td>0.256510</td>\n",
       "      <td>0.000000</td>\n",
       "      <td>9.690000</td>\n",
       "      <td>0.000000</td>\n",
       "      <td>0.538000</td>\n",
       "      <td>6.208500</td>\n",
       "      <td>77.500000</td>\n",
       "      <td>3.207450</td>\n",
       "      <td>5.000000</td>\n",
       "      <td>330.000000</td>\n",
       "      <td>19.050000</td>\n",
       "      <td>391.440000</td>\n",
       "      <td>11.360000</td>\n",
       "    </tr>\n",
       "    <tr>\n",
       "      <th>75%</th>\n",
       "      <td>379.750000</td>\n",
       "      <td>78.000000</td>\n",
       "      <td>3739.750000</td>\n",
       "      <td>-71.031016</td>\n",
       "      <td>42.423070</td>\n",
       "      <td>25.000000</td>\n",
       "      <td>25.000000</td>\n",
       "      <td>3.677082</td>\n",
       "      <td>12.500000</td>\n",
       "      <td>18.100000</td>\n",
       "      <td>0.000000</td>\n",
       "      <td>0.624000</td>\n",
       "      <td>6.623500</td>\n",
       "      <td>94.075000</td>\n",
       "      <td>5.188425</td>\n",
       "      <td>24.000000</td>\n",
       "      <td>666.000000</td>\n",
       "      <td>20.200000</td>\n",
       "      <td>396.225000</td>\n",
       "      <td>16.955000</td>\n",
       "    </tr>\n",
       "    <tr>\n",
       "      <th>max</th>\n",
       "      <td>506.000000</td>\n",
       "      <td>91.000000</td>\n",
       "      <td>5082.000000</td>\n",
       "      <td>-70.680481</td>\n",
       "      <td>42.637086</td>\n",
       "      <td>50.000000</td>\n",
       "      <td>50.000000</td>\n",
       "      <td>88.976200</td>\n",
       "      <td>100.000000</td>\n",
       "      <td>27.740000</td>\n",
       "      <td>1.000000</td>\n",
       "      <td>0.871000</td>\n",
       "      <td>8.780000</td>\n",
       "      <td>100.000000</td>\n",
       "      <td>12.126500</td>\n",
       "      <td>24.000000</td>\n",
       "      <td>711.000000</td>\n",
       "      <td>22.000000</td>\n",
       "      <td>396.900000</td>\n",
       "      <td>37.970000</td>\n",
       "    </tr>\n",
       "  </tbody>\n",
       "</table>\n",
       "</div>"
      ],
      "text/plain": [
       "               ID      TOWNNO        TRACT         LON         LAT  \\\n",
       "count  506.000000  506.000000   506.000000  506.000000  506.000000   \n",
       "mean   253.500000   47.531621  2700.355731  -71.094343   42.360270   \n",
       "std    146.213884   27.571401  1380.036830    0.125508    0.103696   \n",
       "min      1.000000    0.000000     1.000000  -71.485152   42.045973   \n",
       "25%    127.250000   26.250000  1303.250000  -71.156074   42.299922   \n",
       "50%    253.500000   42.000000  3393.500000  -71.088686   42.362347   \n",
       "75%    379.750000   78.000000  3739.750000  -71.031016   42.423070   \n",
       "max    506.000000   91.000000  5082.000000  -70.680481   42.637086   \n",
       "\n",
       "             MEDV       CMEDV        CRIM          ZN       INDUS        CHAS  \\\n",
       "count  506.000000  506.000000  506.000000  506.000000  506.000000  506.000000   \n",
       "mean    22.532806   22.528854    3.613524   11.363636   11.136779    0.069170   \n",
       "std      9.197104    9.182176    8.601545   23.322453    6.860353    0.253994   \n",
       "min      5.000000    5.000000    0.006320    0.000000    0.460000    0.000000   \n",
       "25%     17.025000   17.025000    0.082045    0.000000    5.190000    0.000000   \n",
       "50%     21.200000   21.200000    0.256510    0.000000    9.690000    0.000000   \n",
       "75%     25.000000   25.000000    3.677082   12.500000   18.100000    0.000000   \n",
       "max     50.000000   50.000000   88.976200  100.000000   27.740000    1.000000   \n",
       "\n",
       "              NOX          RM         AGE         DIS         RAD         TAX  \\\n",
       "count  506.000000  506.000000  506.000000  506.000000  506.000000  506.000000   \n",
       "mean     0.554695    6.284634   68.574901    3.795043    9.549407  408.237154   \n",
       "std      0.115878    0.702617   28.148861    2.105710    8.707259  168.537116   \n",
       "min      0.385000    3.561000    2.900000    1.129600    1.000000  187.000000   \n",
       "25%      0.449000    5.885500   45.025000    2.100175    4.000000  279.000000   \n",
       "50%      0.538000    6.208500   77.500000    3.207450    5.000000  330.000000   \n",
       "75%      0.624000    6.623500   94.075000    5.188425   24.000000  666.000000   \n",
       "max      0.871000    8.780000  100.000000   12.126500   24.000000  711.000000   \n",
       "\n",
       "          PTRATIO           B       LSTAT  \n",
       "count  506.000000  506.000000  506.000000  \n",
       "mean    18.455534  356.674032   12.653063  \n",
       "std      2.164946   91.294864    7.141062  \n",
       "min     12.600000    0.320000    1.730000  \n",
       "25%     17.400000  375.377500    6.950000  \n",
       "50%     19.050000  391.440000   11.360000  \n",
       "75%     20.200000  396.225000   16.955000  \n",
       "max     22.000000  396.900000   37.970000  "
      ]
     },
     "execution_count": 27,
     "metadata": {},
     "output_type": "execute_result"
    }
   ],
   "source": [
    "boston.describe()"
   ]
  },
  {
   "cell_type": "markdown",
   "metadata": {},
   "source": [
    "### Data processing\n",
    "\n",
    "Next, we'll split out the features (we'll use a subset of the available information) and the labels. The 'labels` we are going to model are the corrected median house values in $000s (from the 1970's - that's why it looks so cheap). "
   ]
  },
  {
   "cell_type": "code",
   "execution_count": 28,
   "metadata": {},
   "outputs": [
    {
     "data": {
      "text/plain": [
       "Index(['CMEDV', 'CRIM', 'ZN', 'INDUS', 'CHAS', 'NOX', 'RM', 'AGE', 'DIS',\n",
       "       'RAD', 'TAX', 'PTRATIO', 'B', 'LSTAT'],\n",
       "      dtype='object')"
      ]
     },
     "execution_count": 28,
     "metadata": {},
     "output_type": "execute_result"
    }
   ],
   "source": [
    "boston2 = boston.iloc[:,7:21]\n",
    "boston2.columns"
   ]
  },
  {
   "cell_type": "markdown",
   "metadata": {},
   "source": [
    "Let's plot the features out as histograms."
   ]
  },
  {
   "cell_type": "code",
   "execution_count": 29,
   "metadata": {},
   "outputs": [
    {
     "data": {
      "image/png": "[encoded data removed]",
      "text/plain": [
       "<Figure size 1440x1080 with 16 Axes>"
      ]
     },
     "metadata": {
      "needs_background": "light"
     },
     "output_type": "display_data"
    }
   ],
   "source": [
    "## %matplotlib inline\n",
    "import matplotlib.pyplot as plt\n",
    "boston2.hist(bins=50, figsize=(20,15))\n",
    "plt.show()"
   ]
  },
  {
   "cell_type": "markdown",
   "metadata": {},
   "source": [
    "Next, we'll make up a training and testing dataset, by adding 80% of the samples randomly to training and leaving the rest for testing. We can use scikit-learn's tools for this:"
   ]
  },
  {
   "cell_type": "code",
   "execution_count": 30,
   "metadata": {},
   "outputs": [],
   "source": [
    "from sklearn.model_selection import train_test_split\n",
    "\n",
    "train, test = train_test_split(boston2, test_size=0.2, random_state=42)"
   ]
  },
  {
   "cell_type": "markdown",
   "metadata": {},
   "source": [
    "Then split these into features and labels:"
   ]
  },
  {
   "cell_type": "code",
   "execution_count": 31,
   "metadata": {},
   "outputs": [
    {
     "name": "stdout",
     "output_type": "stream",
     "text": [
      "(404, 13)\n",
      "(404,)\n"
     ]
    }
   ],
   "source": [
    "X_train = train.drop('CMEDV', axis=1).values\n",
    "y_train = train['CMEDV'].values\n",
    "print(X_train.shape)\n",
    "print(y_train.shape)"
   ]
  },
  {
   "cell_type": "code",
   "execution_count": 32,
   "metadata": {},
   "outputs": [
    {
     "name": "stdout",
     "output_type": "stream",
     "text": [
      "(102, 13)\n",
      "(102,)\n"
     ]
    }
   ],
   "source": [
    "X_test = test.drop('CMEDV', axis=1).values\n",
    "y_test = test['CMEDV'].values\n",
    "print(X_test.shape)\n",
    "print(y_test.shape)"
   ]
  },
  {
   "cell_type": "markdown",
   "metadata": {},
   "source": [
    "The features are on quite different scales, so we'll standardize them to $z$-scores. To do this, we'll use scikit-learn's `StandardScaler`. First import and fit this to the training data"
   ]
  },
  {
   "cell_type": "code",
   "execution_count": 33,
   "metadata": {},
   "outputs": [
    {
     "data": {
      "text/plain": [
       "StandardScaler()"
      ]
     },
     "execution_count": 33,
     "metadata": {},
     "output_type": "execute_result"
    }
   ],
   "source": [
    "from sklearn.preprocessing import StandardScaler\n",
    "scaler = StandardScaler()\n",
    "scaler.fit(X_train)"
   ]
  },
  {
   "cell_type": "markdown",
   "metadata": {},
   "source": [
    "Then use it to transform the two sets of features:"
   ]
  },
  {
   "cell_type": "code",
   "execution_count": 34,
   "metadata": {},
   "outputs": [],
   "source": [
    "X_train = scaler.transform(X_train)\n",
    "X_test = scaler.transform(X_test)"
   ]
  },
  {
   "cell_type": "markdown",
   "metadata": {},
   "source": [
    "### Setting up the network\n",
    "\n",
    "We'll build a model that again has two hidden layers and a single output node. We'll use use the ReLU activation function and slightly more nodes in each hidden layer than in the previous example. One difference here is that we'll create a function (`build_model()`) that contains all the code to set up a Keras neural network. This just contains the two sets of instructions to build a sequential model and compile it together with loss and performance metrics (we're using the mean square error for loss and the mean absolute error for performance:"
   ]
  },
  {
   "cell_type": "code",
   "execution_count": 35,
   "metadata": {},
   "outputs": [],
   "source": [
    "from tensorflow.keras import models\n",
    "from tensorflow.keras import layers\n",
    "\n",
    "def build_model():\n",
    "    model = models.Sequential([                        \n",
    "\n",
    "      layers.Dense(64, activation='relu', input_shape=(13,)),\n",
    "      layers.Dense(64, activation='relu'),\n",
    "      layers.Dense(1)\n",
    "    ])\n",
    "    model.compile(optimizer='rmsprop', loss='mse', metrics=['mae'])\n",
    "    return model"
   ]
  },
  {
   "cell_type": "markdown",
   "metadata": {},
   "source": [
    "Now we can create a new, untrained version of our network by calling this function:"
   ]
  },
  {
   "cell_type": "code",
   "execution_count": 36,
   "metadata": {},
   "outputs": [
    {
     "name": "stdout",
     "output_type": "stream",
     "text": [
      "Model: \"sequential_2\"\n",
      "_________________________________________________________________\n",
      "Layer (type)                 Output Shape              Param #   \n",
      "=================================================================\n",
      "dense_6 (Dense)              (None, 64)                896       \n",
      "_________________________________________________________________\n",
      "dense_7 (Dense)              (None, 64)                4160      \n",
      "_________________________________________________________________\n",
      "dense_8 (Dense)              (None, 1)                 65        \n",
      "=================================================================\n",
      "Total params: 5,121\n",
      "Trainable params: 5,121\n",
      "Non-trainable params: 0\n",
      "_________________________________________________________________\n"
     ]
    }
   ],
   "source": [
    "model = build_model()\n",
    "model.summary()"
   ]
  },
  {
   "cell_type": "code",
   "execution_count": 37,
   "metadata": {},
   "outputs": [
    {
     "data": {
      "image/png": "[encoded data removed]",
      "text/plain": [
       "<IPython.core.display.Image object>"
      ]
     },
     "execution_count": 37,
     "metadata": {},
     "output_type": "execute_result"
    }
   ],
   "source": [
    "from tensorflow.keras.utils import plot_model\n",
    "plot_model(model, show_shapes = True)"
   ]
  },
  {
   "cell_type": "markdown",
   "metadata": {},
   "source": [
    "### Cross-validation "
   ]
  },
  {
   "cell_type": "markdown",
   "metadata": {},
   "source": [
    "We'll now set up a cross-validation strategy by hand using scikit-learns `KFold` function. In the following code, we:\n",
    "\n",
    "- Use `KFold` to define indices for 4 folds of the training data.\n",
    "- Define the number of epochs to run for (250)\n",
    "- Create a blank object to store training information\n",
    "- Run a loop 4 times. In each iteration:\n",
    "    - We get the index for the training and validation samples\n",
    "    - Uses these to extract observations for the validation set (`X_val`, `y_val`), and for the training feature and labels (`X_partial_train`, `y_partial_train`)\n",
    "    - Build a new, untrained network using the function we created earlier\n",
    "    - Train the model for the set number of epochs, using a batch size of 16\n",
    "    - Store the validated MAE in `all_mae_histories`\n",
    "    \n",
    "Copy this over, check the code and run it. It will take a couple of minutes to iterate across all the training"
   ]
  },
  {
   "cell_type": "code",
   "execution_count": 38,
   "metadata": {},
   "outputs": [
    {
     "name": "stdout",
     "output_type": "stream",
     "text": [
      "processing fold #1\n",
      "processing fold #2\n",
      "processing fold #3\n",
      "processing fold #4\n"
     ]
    }
   ],
   "source": [
    "k = 4\n",
    "from sklearn.model_selection import KFold\n",
    "kf = KFold(n_splits = k)\n",
    "\n",
    "num_epochs = 250\n",
    "all_mae_histories = []\n",
    "i = 1\n",
    "for train_partial_index, val_index in kf.split(X_train):\n",
    "    print('processing fold #%d' % i)\n",
    "    X_val = X_train[val_index]  \n",
    "    y_val = y_train[val_index]\n",
    "    \n",
    "    X_partial_train = X_train[train_partial_index]\n",
    "    y_partial_train = y_train[train_partial_index]\n",
    "    \n",
    "    model = build_model()                                                  \n",
    "\n",
    "    history = model.fit(X_partial_train, y_partial_train,\n",
    "                        validation_data=(X_val, y_val),\n",
    "                        epochs=num_epochs, batch_size=16, verbose=0)\n",
    "    \n",
    "    mae_history = history.history['val_mae']\n",
    "    all_mae_histories.append(mae_history)\n",
    "    i += 1"
   ]
  },
  {
   "cell_type": "markdown",
   "metadata": {},
   "source": [
    "We can now average across the 4 folds, and plot the evolution of the MAE"
   ]
  },
  {
   "cell_type": "code",
   "execution_count": 39,
   "metadata": {},
   "outputs": [],
   "source": [
    "average_mae_history = [\n",
    "    np.mean([x[i] for x in all_mae_histories]) for i in range(num_epochs)]"
   ]
  },
  {
   "cell_type": "code",
   "execution_count": 40,
   "metadata": {},
   "outputs": [
    {
     "data": {
      "image/png": "[encoded data removed]",
      "text/plain": [
       "<Figure size 432x288 with 1 Axes>"
      ]
     },
     "metadata": {
      "needs_background": "light"
     },
     "output_type": "display_data"
    }
   ],
   "source": [
    "plt.plot(range(1, len(average_mae_history) + 1), average_mae_history)\n",
    "plt.xlabel('Epochs')\n",
    "plt.ylabel('Validation MAE')\n",
    "plt.show()"
   ]
  },
  {
   "cell_type": "markdown",
   "metadata": {},
   "source": [
    "The large drop in MAE over the first few epochs makes it quite difficult to see if and when the model reached an optimum. We'll remake this plot without the first 10 values:"
   ]
  },
  {
   "cell_type": "code",
   "execution_count": 41,
   "metadata": {},
   "outputs": [
    {
     "data": {
      "image/png": "[encoded data removed]",
      "text/plain": [
       "<Figure size 432x288 with 1 Axes>"
      ]
     },
     "metadata": {
      "needs_background": "light"
     },
     "output_type": "display_data"
    }
   ],
   "source": [
    "average_mae_history2 = average_mae_history[10:]\n",
    "plt.plot(range(1, len(average_mae_history2) + 1), average_mae_history2)\n",
    "plt.xlabel('Epochs')\n",
    "plt.ylabel('Validation MAE')\n",
    "plt.show()"
   ]
  },
  {
   "cell_type": "raw",
   "metadata": {},
   "source": [
    "The plot suggests that, while there is no visible increase in the validation MAE, there is little improvement beyond about 125 epochs. Let's use this to train a final model on the full training dataset, and evaluate with the test set:"
   ]
  },
  {
   "cell_type": "code",
   "execution_count": 42,
   "metadata": {},
   "outputs": [
    {
     "name": "stdout",
     "output_type": "stream",
     "text": [
      "Train on 404 samples, validate on 102 samples\n",
      "Epoch 1/125\n",
      "404/404 [==============================] - 2s 4ms/sample - loss: 496.4039 - mae: 20.2815 - val_loss: 410.3115 - val_mae: 17.3936\n",
      "Epoch 2/125\n",
      "404/404 [==============================] - 0s 443us/sample - loss: 335.5132 - mae: 16.0558 - val_loss: 247.9395 - val_mae: 12.5104\n",
      "Epoch 3/125\n",
      "404/404 [==============================] - 0s 468us/sample - loss: 178.0178 - mae: 11.1627 - val_loss: 124.9030 - val_mae: 8.3741\n",
      "Epoch 4/125\n",
      "404/404 [==============================] - 0s 453us/sample - loss: 81.1274 - mae: 7.0859 - val_loss: 63.4370 - val_mae: 5.8339\n",
      "Epoch 5/125\n",
      "404/404 [==============================] - 0s 460us/sample - loss: 46.2892 - mae: 5.0565 - val_loss: 36.6523 - val_mae: 4.5663\n",
      "Epoch 6/125\n",
      "404/404 [==============================] - 0s 457us/sample - loss: 32.9893 - mae: 4.2085 - val_loss: 23.2007 - val_mae: 3.6124\n",
      "Epoch 7/125\n",
      "404/404 [==============================] - 0s 454us/sample - loss: 25.8214 - mae: 3.6209 - val_loss: 16.9819 - val_mae: 3.3485\n",
      "Epoch 8/125\n",
      "404/404 [==============================] - 0s 474us/sample - loss: 22.5466 - mae: 3.4240 - val_loss: 13.5281 - val_mae: 2.8276\n",
      "Epoch 9/125\n",
      "404/404 [==============================] - 0s 486us/sample - loss: 20.2285 - mae: 3.1754 - val_loss: 11.7208 - val_mae: 2.7002\n",
      "Epoch 10/125\n",
      "404/404 [==============================] - 0s 491us/sample - loss: 18.3034 - mae: 3.0232 - val_loss: 10.6409 - val_mae: 2.5093\n",
      "Epoch 11/125\n",
      "404/404 [==============================] - 0s 496us/sample - loss: 16.9439 - mae: 2.8752 - val_loss: 11.3193 - val_mae: 2.5794\n",
      "Epoch 12/125\n",
      "404/404 [==============================] - 0s 485us/sample - loss: 16.1320 - mae: 2.8538 - val_loss: 10.7940 - val_mae: 2.6432\n",
      "Epoch 13/125\n",
      "404/404 [==============================] - 0s 500us/sample - loss: 15.0786 - mae: 2.7453 - val_loss: 10.7268 - val_mae: 2.4683\n",
      "Epoch 14/125\n",
      "404/404 [==============================] - 0s 491us/sample - loss: 14.6551 - mae: 2.6472 - val_loss: 11.6839 - val_mae: 2.7222\n",
      "Epoch 15/125\n",
      "404/404 [==============================] - 0s 489us/sample - loss: 14.2816 - mae: 2.6490 - val_loss: 10.4305 - val_mae: 2.4988\n",
      "Epoch 16/125\n",
      "404/404 [==============================] - 0s 502us/sample - loss: 13.6719 - mae: 2.5728 - val_loss: 11.3117 - val_mae: 2.6685\n",
      "Epoch 17/125\n",
      "404/404 [==============================] - 0s 478us/sample - loss: 13.2914 - mae: 2.5506 - val_loss: 10.3137 - val_mae: 2.4352\n",
      "Epoch 18/125\n",
      "404/404 [==============================] - 0s 503us/sample - loss: 12.5956 - mae: 2.4700 - val_loss: 10.6023 - val_mae: 2.5090\n",
      "Epoch 19/125\n",
      "404/404 [==============================] - 0s 483us/sample - loss: 12.8811 - mae: 2.4915 - val_loss: 9.7840 - val_mae: 2.3982\n",
      "Epoch 20/125\n",
      "404/404 [==============================] - 0s 508us/sample - loss: 11.9813 - mae: 2.3790 - val_loss: 10.3478 - val_mae: 2.6068\n",
      "Epoch 21/125\n",
      "404/404 [==============================] - 0s 503us/sample - loss: 11.8764 - mae: 2.3954 - val_loss: 10.2040 - val_mae: 2.4688\n",
      "Epoch 22/125\n",
      "404/404 [==============================] - 0s 506us/sample - loss: 11.5256 - mae: 2.3858 - val_loss: 11.1449 - val_mae: 2.4572\n",
      "Epoch 23/125\n",
      "404/404 [==============================] - 0s 502us/sample - loss: 11.6574 - mae: 2.3782 - val_loss: 10.4264 - val_mae: 2.4883\n",
      "Epoch 24/125\n",
      "404/404 [==============================] - 0s 496us/sample - loss: 11.0181 - mae: 2.3340 - val_loss: 10.5851 - val_mae: 2.3738\n",
      "Epoch 25/125\n",
      "404/404 [==============================] - 0s 476us/sample - loss: 11.3658 - mae: 2.3177 - val_loss: 10.1886 - val_mae: 2.4354\n",
      "Epoch 26/125\n",
      "404/404 [==============================] - 0s 486us/sample - loss: 11.0248 - mae: 2.3195 - val_loss: 10.6400 - val_mae: 2.4678\n",
      "Epoch 27/125\n",
      "404/404 [==============================] - 0s 483us/sample - loss: 10.8567 - mae: 2.2695 - val_loss: 10.0443 - val_mae: 2.4261\n",
      "Epoch 28/125\n",
      "404/404 [==============================] - 0s 511us/sample - loss: 10.6866 - mae: 2.2695 - val_loss: 10.1701 - val_mae: 2.4777\n",
      "Epoch 29/125\n",
      "404/404 [==============================] - 0s 474us/sample - loss: 10.5836 - mae: 2.2509 - val_loss: 10.3456 - val_mae: 2.4519\n",
      "Epoch 30/125\n",
      "404/404 [==============================] - 0s 498us/sample - loss: 10.3627 - mae: 2.2435 - val_loss: 10.4286 - val_mae: 2.5141\n",
      "Epoch 31/125\n",
      "404/404 [==============================] - 0s 491us/sample - loss: 10.3140 - mae: 2.2641 - val_loss: 9.6540 - val_mae: 2.3356\n",
      "Epoch 32/125\n",
      "404/404 [==============================] - 0s 524us/sample - loss: 10.1112 - mae: 2.1997 - val_loss: 10.4285 - val_mae: 2.4287\n",
      "Epoch 33/125\n",
      "404/404 [==============================] - 0s 502us/sample - loss: 9.7794 - mae: 2.1919 - val_loss: 9.7834 - val_mae: 2.3752\n",
      "Epoch 34/125\n",
      "404/404 [==============================] - 0s 490us/sample - loss: 9.9600 - mae: 2.1974 - val_loss: 10.4946 - val_mae: 2.4318\n",
      "Epoch 35/125\n",
      "404/404 [==============================] - 0s 546us/sample - loss: 9.9255 - mae: 2.1771 - val_loss: 12.2595 - val_mae: 2.6693\n",
      "Epoch 36/125\n",
      "404/404 [==============================] - 0s 489us/sample - loss: 9.8825 - mae: 2.1970 - val_loss: 11.5640 - val_mae: 2.5567\n",
      "Epoch 37/125\n",
      "404/404 [==============================] - 0s 503us/sample - loss: 9.3996 - mae: 2.1482 - val_loss: 9.0220 - val_mae: 2.2982\n",
      "Epoch 38/125\n",
      "404/404 [==============================] - 0s 520us/sample - loss: 9.4711 - mae: 2.1374 - val_loss: 9.7075 - val_mae: 2.3280\n",
      "Epoch 39/125\n",
      "404/404 [==============================] - 0s 505us/sample - loss: 9.2782 - mae: 2.1142 - val_loss: 9.3588 - val_mae: 2.3042\n",
      "Epoch 40/125\n",
      "404/404 [==============================] - 0s 515us/sample - loss: 9.3448 - mae: 2.1509 - val_loss: 10.9980 - val_mae: 2.4451\n",
      "Epoch 41/125\n",
      "404/404 [==============================] - 0s 510us/sample - loss: 9.2896 - mae: 2.1208 - val_loss: 9.8151 - val_mae: 2.3462\n",
      "Epoch 42/125\n",
      "404/404 [==============================] - 0s 513us/sample - loss: 9.0878 - mae: 2.1227 - val_loss: 9.9197 - val_mae: 2.3537\n",
      "Epoch 43/125\n",
      "404/404 [==============================] - 0s 508us/sample - loss: 9.3344 - mae: 2.1217 - val_loss: 9.9146 - val_mae: 2.3259\n",
      "Epoch 44/125\n",
      "404/404 [==============================] - 0s 512us/sample - loss: 9.1844 - mae: 2.1019 - val_loss: 12.4309 - val_mae: 2.6335\n",
      "Epoch 45/125\n",
      "404/404 [==============================] - 0s 508us/sample - loss: 8.8733 - mae: 2.0899 - val_loss: 10.7465 - val_mae: 2.4167\n",
      "Epoch 46/125\n",
      "404/404 [==============================] - 0s 494us/sample - loss: 8.9900 - mae: 2.0905 - val_loss: 11.4998 - val_mae: 2.5166\n",
      "Epoch 47/125\n",
      "404/404 [==============================] - 0s 499us/sample - loss: 8.8489 - mae: 2.1286 - val_loss: 10.3259 - val_mae: 2.3544\n",
      "Epoch 48/125\n",
      "404/404 [==============================] - 0s 504us/sample - loss: 8.6589 - mae: 2.0831 - val_loss: 10.8222 - val_mae: 2.4305\n",
      "Epoch 49/125\n",
      "404/404 [==============================] - 0s 528us/sample - loss: 8.7035 - mae: 2.0851 - val_loss: 11.6494 - val_mae: 2.5062\n",
      "Epoch 50/125\n",
      "404/404 [==============================] - 0s 499us/sample - loss: 8.8011 - mae: 2.0828 - val_loss: 10.0872 - val_mae: 2.3202\n",
      "Epoch 51/125\n",
      "404/404 [==============================] - 0s 504us/sample - loss: 8.3352 - mae: 2.0362 - val_loss: 11.1141 - val_mae: 2.4780\n",
      "Epoch 52/125\n",
      "404/404 [==============================] - 0s 513us/sample - loss: 8.4907 - mae: 2.0502 - val_loss: 9.9627 - val_mae: 2.3232\n",
      "Epoch 53/125\n",
      "404/404 [==============================] - 0s 504us/sample - loss: 8.4558 - mae: 2.0568 - val_loss: 10.3711 - val_mae: 2.3921\n",
      "Epoch 54/125\n",
      "404/404 [==============================] - 0s 490us/sample - loss: 8.3967 - mae: 2.0217 - val_loss: 9.2725 - val_mae: 2.2294\n",
      "Epoch 55/125\n",
      "404/404 [==============================] - 0s 491us/sample - loss: 8.2707 - mae: 2.0606 - val_loss: 9.5448 - val_mae: 2.2655\n",
      "Epoch 56/125\n",
      "404/404 [==============================] - 0s 497us/sample - loss: 8.0257 - mae: 2.0002 - val_loss: 11.7870 - val_mae: 2.5237\n",
      "Epoch 57/125\n",
      "404/404 [==============================] - 0s 501us/sample - loss: 8.1172 - mae: 2.0516 - val_loss: 11.1879 - val_mae: 2.4424\n",
      "Epoch 58/125\n",
      "404/404 [==============================] - 0s 501us/sample - loss: 8.1107 - mae: 2.0225 - val_loss: 9.4447 - val_mae: 2.2418\n",
      "Epoch 59/125\n",
      "404/404 [==============================] - 0s 530us/sample - loss: 7.9891 - mae: 1.9768 - val_loss: 10.5881 - val_mae: 2.3789\n",
      "Epoch 60/125\n",
      "404/404 [==============================] - 0s 466us/sample - loss: 7.9457 - mae: 1.9899 - val_loss: 9.1553 - val_mae: 2.2454\n",
      "Epoch 61/125\n",
      "404/404 [==============================] - 0s 480us/sample - loss: 7.8604 - mae: 1.9944 - val_loss: 11.3887 - val_mae: 2.5077\n",
      "Epoch 62/125\n",
      "404/404 [==============================] - 0s 507us/sample - loss: 7.8733 - mae: 2.0062 - val_loss: 10.5075 - val_mae: 2.3403\n",
      "Epoch 63/125\n",
      "404/404 [==============================] - 0s 466us/sample - loss: 7.7737 - mae: 1.9729 - val_loss: 13.5514 - val_mae: 2.7294\n",
      "Epoch 64/125\n",
      "404/404 [==============================] - 0s 453us/sample - loss: 7.8408 - mae: 2.0235 - val_loss: 10.5247 - val_mae: 2.3541\n",
      "Epoch 65/125\n",
      "404/404 [==============================] - 0s 457us/sample - loss: 7.5970 - mae: 1.9448 - val_loss: 9.0811 - val_mae: 2.1902\n",
      "Epoch 66/125\n",
      "404/404 [==============================] - 0s 460us/sample - loss: 7.5549 - mae: 1.9434 - val_loss: 9.9299 - val_mae: 2.2988\n",
      "Epoch 67/125\n",
      "404/404 [==============================] - 0s 459us/sample - loss: 7.5352 - mae: 1.9226 - val_loss: 10.7829 - val_mae: 2.3928\n",
      "Epoch 68/125\n",
      "404/404 [==============================] - 0s 459us/sample - loss: 7.4453 - mae: 1.9243 - val_loss: 9.3671 - val_mae: 2.1766\n",
      "Epoch 69/125\n",
      "404/404 [==============================] - 0s 471us/sample - loss: 7.4673 - mae: 1.9383 - val_loss: 10.8402 - val_mae: 2.3801\n",
      "Epoch 70/125\n",
      "404/404 [==============================] - 0s 453us/sample - loss: 7.3351 - mae: 1.9329 - val_loss: 9.7014 - val_mae: 2.2392\n",
      "Epoch 71/125\n",
      "404/404 [==============================] - 0s 453us/sample - loss: 7.4087 - mae: 1.9114 - val_loss: 9.7738 - val_mae: 2.2540\n",
      "Epoch 72/125\n",
      "404/404 [==============================] - 0s 458us/sample - loss: 7.3363 - mae: 1.9583 - val_loss: 9.5030 - val_mae: 2.2711\n",
      "Epoch 73/125\n",
      "404/404 [==============================] - 0s 461us/sample - loss: 7.2768 - mae: 1.9269 - val_loss: 8.9443 - val_mae: 2.1930\n",
      "Epoch 74/125\n",
      "404/404 [==============================] - 0s 465us/sample - loss: 7.2341 - mae: 1.8997 - val_loss: 9.4704 - val_mae: 2.2496\n",
      "Epoch 75/125\n",
      "404/404 [==============================] - 0s 457us/sample - loss: 7.3881 - mae: 1.9266 - val_loss: 9.3671 - val_mae: 2.2417\n",
      "Epoch 76/125\n",
      "404/404 [==============================] - 0s 492us/sample - loss: 6.9386 - mae: 1.8657 - val_loss: 9.8353 - val_mae: 2.2848\n",
      "Epoch 77/125\n",
      "404/404 [==============================] - 0s 492us/sample - loss: 7.0486 - mae: 1.8990 - val_loss: 9.1051 - val_mae: 2.2325\n",
      "Epoch 78/125\n",
      "404/404 [==============================] - 0s 503us/sample - loss: 6.9827 - mae: 1.8765 - val_loss: 10.5512 - val_mae: 2.3754\n",
      "Epoch 79/125\n",
      "404/404 [==============================] - 0s 481us/sample - loss: 6.8445 - mae: 1.8797 - val_loss: 9.2458 - val_mae: 2.1948\n",
      "Epoch 80/125\n",
      "404/404 [==============================] - 0s 494us/sample - loss: 6.7999 - mae: 1.8413 - val_loss: 12.1009 - val_mae: 2.6793\n",
      "Epoch 81/125\n",
      "404/404 [==============================] - 0s 499us/sample - loss: 6.7893 - mae: 1.8772 - val_loss: 8.9771 - val_mae: 2.2760\n",
      "Epoch 82/125\n",
      "404/404 [==============================] - 0s 483us/sample - loss: 6.7580 - mae: 1.8374 - val_loss: 8.7965 - val_mae: 2.1352\n",
      "Epoch 83/125\n",
      "404/404 [==============================] - 0s 495us/sample - loss: 6.8445 - mae: 1.8750 - val_loss: 9.8649 - val_mae: 2.3078\n",
      "Epoch 84/125\n",
      "404/404 [==============================] - 0s 480us/sample - loss: 6.6249 - mae: 1.8596 - val_loss: 8.3332 - val_mae: 2.0786\n",
      "Epoch 85/125\n",
      "404/404 [==============================] - 0s 491us/sample - loss: 6.6223 - mae: 1.8640 - val_loss: 9.0062 - val_mae: 2.1729\n",
      "Epoch 86/125\n",
      "404/404 [==============================] - 0s 496us/sample - loss: 6.4460 - mae: 1.8071 - val_loss: 14.1377 - val_mae: 2.7595\n",
      "Epoch 87/125\n",
      "404/404 [==============================] - 0s 490us/sample - loss: 6.4606 - mae: 1.8279 - val_loss: 9.4446 - val_mae: 2.2227\n",
      "Epoch 88/125\n",
      "404/404 [==============================] - 0s 441us/sample - loss: 6.4036 - mae: 1.8058 - val_loss: 11.3494 - val_mae: 2.4187\n",
      "Epoch 89/125\n",
      "404/404 [==============================] - 0s 409us/sample - loss: 6.4093 - mae: 1.8395 - val_loss: 9.6275 - val_mae: 2.2552\n",
      "Epoch 90/125\n",
      "404/404 [==============================] - 0s 467us/sample - loss: 6.3326 - mae: 1.7900 - val_loss: 11.4056 - val_mae: 2.4810\n",
      "Epoch 91/125\n",
      "404/404 [==============================] - 0s 482us/sample - loss: 6.4598 - mae: 1.8162 - val_loss: 10.0527 - val_mae: 2.3151\n",
      "Epoch 92/125\n",
      "404/404 [==============================] - 0s 515us/sample - loss: 6.0906 - mae: 1.7726 - val_loss: 9.7518 - val_mae: 2.2867\n",
      "Epoch 93/125\n",
      "404/404 [==============================] - 0s 476us/sample - loss: 6.2291 - mae: 1.7735 - val_loss: 12.4921 - val_mae: 2.5985\n",
      "Epoch 94/125\n",
      "404/404 [==============================] - 0s 481us/sample - loss: 6.1239 - mae: 1.7940 - val_loss: 10.1399 - val_mae: 2.2908\n",
      "Epoch 95/125\n",
      "404/404 [==============================] - 0s 471us/sample - loss: 6.1341 - mae: 1.8065 - val_loss: 9.5954 - val_mae: 2.2000\n",
      "Epoch 96/125\n",
      "404/404 [==============================] - 0s 489us/sample - loss: 6.2203 - mae: 1.8028 - val_loss: 9.0174 - val_mae: 2.1683\n",
      "Epoch 97/125\n",
      "404/404 [==============================] - 0s 484us/sample - loss: 5.9855 - mae: 1.7561 - val_loss: 10.0234 - val_mae: 2.2783\n",
      "Epoch 98/125\n",
      "404/404 [==============================] - 0s 490us/sample - loss: 6.0236 - mae: 1.7851 - val_loss: 11.1480 - val_mae: 2.4034\n",
      "Epoch 99/125\n",
      "404/404 [==============================] - 0s 479us/sample - loss: 5.9313 - mae: 1.7632 - val_loss: 9.0621 - val_mae: 2.1796\n",
      "Epoch 100/125\n",
      "404/404 [==============================] - 0s 470us/sample - loss: 6.0304 - mae: 1.7819 - val_loss: 10.3144 - val_mae: 2.3774\n",
      "Epoch 101/125\n",
      "404/404 [==============================] - 0s 482us/sample - loss: 5.8165 - mae: 1.7528 - val_loss: 8.6828 - val_mae: 2.1074\n",
      "Epoch 102/125\n",
      "404/404 [==============================] - 0s 488us/sample - loss: 5.8142 - mae: 1.7328 - val_loss: 9.1114 - val_mae: 2.1749\n",
      "Epoch 103/125\n",
      "404/404 [==============================] - 0s 493us/sample - loss: 5.7615 - mae: 1.7351 - val_loss: 11.0692 - val_mae: 2.3951\n",
      "Epoch 104/125\n",
      "404/404 [==============================] - 0s 497us/sample - loss: 5.7882 - mae: 1.7459 - val_loss: 9.3715 - val_mae: 2.1916\n",
      "Epoch 105/125\n",
      "404/404 [==============================] - 0s 501us/sample - loss: 5.6630 - mae: 1.7440 - val_loss: 8.8034 - val_mae: 2.1271\n",
      "Epoch 106/125\n",
      "404/404 [==============================] - 0s 473us/sample - loss: 5.7924 - mae: 1.7213 - val_loss: 8.9202 - val_mae: 2.1131\n",
      "Epoch 107/125\n",
      "404/404 [==============================] - 0s 477us/sample - loss: 5.6173 - mae: 1.7313 - val_loss: 8.8542 - val_mae: 2.1834\n",
      "Epoch 108/125\n",
      "404/404 [==============================] - 0s 491us/sample - loss: 5.6419 - mae: 1.7204 - val_loss: 10.0662 - val_mae: 2.2659\n",
      "Epoch 109/125\n",
      "404/404 [==============================] - 0s 495us/sample - loss: 5.6620 - mae: 1.7136 - val_loss: 9.9179 - val_mae: 2.2507\n",
      "Epoch 110/125\n",
      "404/404 [==============================] - 0s 493us/sample - loss: 5.5611 - mae: 1.7200 - val_loss: 7.8699 - val_mae: 2.0395\n",
      "Epoch 111/125\n",
      "404/404 [==============================] - 0s 499us/sample - loss: 5.5335 - mae: 1.6847 - val_loss: 9.3401 - val_mae: 2.2125\n",
      "Epoch 112/125\n",
      "404/404 [==============================] - 0s 486us/sample - loss: 5.5130 - mae: 1.7043 - val_loss: 8.6408 - val_mae: 2.1284\n",
      "Epoch 113/125\n",
      "404/404 [==============================] - 0s 490us/sample - loss: 5.4879 - mae: 1.6730 - val_loss: 8.6078 - val_mae: 2.1521\n",
      "Epoch 114/125\n",
      "404/404 [==============================] - 0s 495us/sample - loss: 5.3249 - mae: 1.7028 - val_loss: 10.0485 - val_mae: 2.2578\n",
      "Epoch 115/125\n",
      "404/404 [==============================] - 0s 489us/sample - loss: 5.3550 - mae: 1.6736 - val_loss: 9.6910 - val_mae: 2.2388\n",
      "Epoch 116/125\n",
      "404/404 [==============================] - 0s 487us/sample - loss: 5.2759 - mae: 1.6787 - val_loss: 9.2415 - val_mae: 2.1717\n",
      "Epoch 117/125\n",
      "404/404 [==============================] - 0s 494us/sample - loss: 5.3982 - mae: 1.7014 - val_loss: 9.3557 - val_mae: 2.2096\n",
      "Epoch 118/125\n"
     ]
    },
    {
     "name": "stdout",
     "output_type": "stream",
     "text": [
      "404/404 [==============================] - 0s 498us/sample - loss: 5.1677 - mae: 1.6521 - val_loss: 8.5429 - val_mae: 2.1117\n",
      "Epoch 119/125\n",
      "404/404 [==============================] - 0s 490us/sample - loss: 5.3222 - mae: 1.6960 - val_loss: 8.4782 - val_mae: 2.1042\n",
      "Epoch 120/125\n",
      "404/404 [==============================] - 0s 481us/sample - loss: 5.1354 - mae: 1.6436 - val_loss: 8.9715 - val_mae: 2.1796\n",
      "Epoch 121/125\n",
      "404/404 [==============================] - 0s 488us/sample - loss: 5.0957 - mae: 1.6277 - val_loss: 11.9159 - val_mae: 2.5088\n",
      "Epoch 122/125\n",
      "404/404 [==============================] - 0s 487us/sample - loss: 5.0198 - mae: 1.6325 - val_loss: 8.3668 - val_mae: 2.0915\n",
      "Epoch 123/125\n",
      "404/404 [==============================] - 0s 483us/sample - loss: 5.2020 - mae: 1.6375 - val_loss: 8.3547 - val_mae: 2.0883\n",
      "Epoch 124/125\n",
      "404/404 [==============================] - 0s 497us/sample - loss: 5.0100 - mae: 1.6108 - val_loss: 10.0960 - val_mae: 2.3585\n",
      "Epoch 125/125\n",
      "404/404 [==============================] - 0s 489us/sample - loss: 5.0975 - mae: 1.6610 - val_loss: 8.7352 - val_mae: 2.1126\n"
     ]
    }
   ],
   "source": [
    "model = build_model()\n",
    "history = model.fit(X_train, y_train,\n",
    "                        validation_data=(X_test, y_test),\n",
    "                        epochs=125, batch_size=16, verbose=1)"
   ]
  },
  {
   "cell_type": "code",
   "execution_count": 43,
   "metadata": {},
   "outputs": [],
   "source": [
    "test_mse_score, test_mae_score = model.evaluate(X_test, y_test, verbose=0)"
   ]
  },
  {
   "cell_type": "code",
   "execution_count": 44,
   "metadata": {},
   "outputs": [
    {
     "data": {
      "text/plain": [
       "2.112596"
      ]
     },
     "execution_count": 44,
     "metadata": {},
     "output_type": "execute_result"
    }
   ],
   "source": [
    "test_mae_score"
   ]
  },
  {
   "cell_type": "markdown",
   "metadata": {},
   "source": [
    "As before, there are several modifications you could try to this basic network to attempt to improve on this. "
   ]
  },
  {
   "cell_type": "markdown",
   "metadata": {},
   "source": [
    "## Exercise\n",
    "\n",
    "For the exercise we will once again use the data from the *Sonar.csv* file to model types of object (rocks 'R' or mines 'M') using the values of a set of frequency bands. The goal this time is to construct a neural network using Keras. You will need to do the following:\n",
    "\n",
    "- Import the data and divide it into a training and test set\n",
    "- Design a network\n",
    "- Train the network for a number of epochs with a validation set (use the `binary_crossentropy` loss function)\n",
    "- Identify the optimum number of epochs\n",
    "- Run the model with the full training set\n",
    "- Evaluate the model on the test set and report the *accuracy* of your final model\n",
    "\n",
    "All the code to do this is in the two examples of this lab. You submitted answers should contain:\n",
    "\n",
    "- A description of your network, including the summary table (from the `summary(model)` function)\n",
    "- A figure showing the evolution of the loss function and accuracy\n",
    "- The accuracy of your final model\n"
   ]
  },
  {
   "cell_type": "markdown",
   "metadata": {},
   "source": [
    "## Appendix\n",
    "\n",
    "### Boston housing dataset: *boston6k.csv*\n",
    "| Column header | Variable |\n",
    "| --- | --- |\n",
    "| ID | Sequential ID |\n",
    "| TOWN | Town names |\n",
    "| TOWNNO | Town ID |\n",
    "| TRACT | Tract ID numbers |\n",
    "| LON | Longitude in decimal degrees |\n",
    "| LAT | Latitude in decimal degrees |\n",
    "| MEDV | Median values of owner-occupied |\n",
    "|  | housing (USD 1000) |\n",
    "| CMEDV | Corrected median values of owner-occupied |\n",
    "|  | housing (USD 1000) |\n",
    "| CRIM | Per capita crime |\n",
    "| ZN | Proportion of residential land zoned |\n",
    "| | for lots over 25000 sq. ft |\n",
    "| INDUS | Proportions of non-retail business acres per town |\n",
    "| CHAS | 1 if tract borders Charles River; 0 otherwise |\n",
    "| NOX | Nitric oxides concentration (parts per 10 million) |\n",
    "| RM | Average numbers of rooms per dwelling |\n",
    "| AGE | Proportions of owner-occupied units built prior to 1940 |\n",
    "| DIS | Weighted distances to five Boston employment centers |\n",
    "| RAD | Index of accessibility to radial highways per town |\n",
    "| TAX | Property-tax rate per USD 10,000 per town |\n",
    "| PTRATIO | Pupil-teacher ratios per town |\n",
    "| B | Proportion African-American |\n",
    "| LSTAT | Percent lower status population |"
   ]
  }
 ],
 "metadata": {
  "kernelspec": {
   "display_name": "Python 3 (ipykernel)",
   "language": "python",
   "name": "python3"
  },
  "language_info": {
   "codemirror_mode": {
    "name": "ipython",
    "version": 3
   },
   "file_extension": ".py",
   "mimetype": "text/x-python",
   "name": "python",
   "nbconvert_exporter": "python",
   "pygments_lexer": "ipython3",
   "version": "3.8.12"
  }
 },
 "nbformat": 4,
 "nbformat_minor": 4
}
