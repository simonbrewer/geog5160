{
 "cells": [
  {
   "cell_type": "markdown",
   "metadata": {},
   "source": [
    "# GEOG 5160 6160 Lab 10"
   ]
  },
  {
   "cell_type": "markdown",
   "metadata": {},
   "source": [
    "## Keras workflow\n",
    "\n",
    "Building a deep learning model through Keras requires a series of steps:\n",
    "\n",
    "1. Create training data as tensors. This should include the input features and the target as separate tensors. For the simple models we are looking at in this lab, this is fairly straightforward, but for the more complex models, careful attention is required to the size and shape of these tensors.\n",
    "2. Create the network architecture. This consists of the set of layers that link the inputs to the target(s)\n",
    "3. Define the loss function, the optimizer and the performance metrics to be used to test the progress of the training\n",
    "4. Train the model using the training data, with part of the training data left out as validation data"
   ]
  },
  {
   "cell_type": "markdown",
   "metadata": {},
   "source": [
    "### Defining the network architecture\n",
    "\n",
    "Keras has two methods to create the network. The simplest is to use the `Sequential()` function from the `models` submodule. This takes as input the definition of the hidden layers, as well as any parameters that are used to modify these during training. \n",
    "\n",
    "For example, to create a simple, two layer model with a single output, one hidden layer with 10 nodes, you would run the following command. Note that the first layer takes the argument `input_shape` which describes the expected shape of the tensor holding the features, and that we specify a ReLU activation function for the output. \n",
    "\n",
    "```\n",
    "model = models.Sequential([\n",
    "  layers.Dense(10, input_shape=(20,)),\n",
    "  layers.Dense(1, activation='relu')\n",
    "])\n",
    "```\n",
    "\n",
    "The other method to define the architecture uses the Keras API. This is a much more flexible approach based on graph theory and can be used to create networks that are much more complex. "
   ]
  },
  {
   "cell_type": "markdown",
   "metadata": {},
   "source": [
    "## Example 1: binary classification\n",
    "The first example we'll look is a binary classification task. This is based on a set of movie reviews taken from the IMDB. There are a total of 50,000 reviews, split 50-50 into a training and testing set. "
   ]
  },
  {
   "cell_type": "markdown",
   "metadata": {},
   "source": [
    "The IMDB data is included with the Keras package, so we don't need to worry about processing it, but simply load it. First, import the `imdb` functions from `datasets`, the use the `load_data()` method to get the data. This will download the data to your computer, so make sure you are connected to the internet when you run this."
   ]
  },
  {
   "cell_type": "code",
   "execution_count": 1,
   "metadata": {},
   "outputs": [
    {
     "name": "stderr",
     "output_type": "stream",
     "text": [
      "/opt/miniconda3/envs/tensorflow/lib/python3.7/site-packages/tensorflow_core/python/keras/datasets/imdb.py:129: VisibleDeprecationWarning: Creating an ndarray from ragged nested sequences (which is a list-or-tuple of lists-or-tuples-or ndarrays with different lengths or shapes) is deprecated. If you meant to do this, you must specify 'dtype=object' when creating the ndarray\n",
      "  x_train, y_train = np.array(xs[:idx]), np.array(labels[:idx])\n",
      "/opt/miniconda3/envs/tensorflow/lib/python3.7/site-packages/tensorflow_core/python/keras/datasets/imdb.py:130: VisibleDeprecationWarning: Creating an ndarray from ragged nested sequences (which is a list-or-tuple of lists-or-tuples-or ndarrays with different lengths or shapes) is deprecated. If you meant to do this, you must specify 'dtype=object' when creating the ndarray\n",
      "  x_test, y_test = np.array(xs[idx:]), np.array(labels[idx:])\n"
     ]
    }
   ],
   "source": [
    "from tensorflow.keras.datasets import imdb\n",
    "(train_data, train_labels), (test_data, test_labels) = imdb.load_data(\n",
    "    num_words=10000)"
   ]
  },
  {
   "cell_type": "markdown",
   "metadata": {},
   "source": [
    "The `num_words` argument limits the data to the top 10,000 words, and ignores words that occur less frequently. Note that this has already been split into the training and testing set for us. "
   ]
  },
  {
   "cell_type": "code",
   "execution_count": 2,
   "metadata": {},
   "outputs": [
    {
     "name": "stdout",
     "output_type": "stream",
     "text": [
      "(25000,)\n"
     ]
    }
   ],
   "source": [
    "print(train_data.shape)"
   ]
  },
  {
   "cell_type": "markdown",
   "metadata": {},
   "source": [
    "Let's take a quick look at the first review:"
   ]
  },
  {
   "cell_type": "code",
   "execution_count": 3,
   "metadata": {},
   "outputs": [
    {
     "name": "stdout",
     "output_type": "stream",
     "text": [
      "[1, 14, 22, 16, 43, 530, 973, 1622, 1385, 65, 458, 4468, 66, 3941, 4, 173, 36, 256, 5, 25, 100, 43, 838, 112, 50, 670, 2, 9, 35, 480, 284, 5, 150, 4, 172, 112, 167, 2, 336, 385, 39, 4, 172, 4536, 1111, 17, 546, 38, 13, 447, 4, 192, 50, 16, 6, 147, 2025, 19, 14, 22, 4, 1920, 4613, 469, 4, 22, 71, 87, 12, 16, 43, 530, 38, 76, 15, 13, 1247, 4, 22, 17, 515, 17, 12, 16, 626, 18, 2, 5, 62, 386, 12, 8, 316, 8, 106, 5, 4, 2223, 5244, 16, 480, 66, 3785, 33, 4, 130, 12, 16, 38, 619, 5, 25, 124, 51, 36, 135, 48, 25, 1415, 33, 6, 22, 12, 215, 28, 77, 52, 5, 14, 407, 16, 82, 2, 8, 4, 107, 117, 5952, 15, 256, 4, 2, 7, 3766, 5, 723, 36, 71, 43, 530, 476, 26, 400, 317, 46, 7, 4, 2, 1029, 13, 104, 88, 4, 381, 15, 297, 98, 32, 2071, 56, 26, 141, 6, 194, 7486, 18, 4, 226, 22, 21, 134, 476, 26, 480, 5, 144, 30, 5535, 18, 51, 36, 28, 224, 92, 25, 104, 4, 226, 65, 16, 38, 1334, 88, 12, 16, 283, 5, 16, 4472, 113, 103, 32, 15, 16, 5345, 19, 178, 32]\n"
     ]
    }
   ],
   "source": [
    "print(train_data[0])"
   ]
  },
  {
   "cell_type": "markdown",
   "metadata": {},
   "source": [
    "The review has already been encoded to an integer representation. Each number represents the presence of a single word in a review (for example 19 == `film`). \n",
    "\n",
    "The authors provide a function that allows you to decode these reviews (i.e. back transform them to the original text). First, create an index containing the words and their integer representations:"
   ]
  },
  {
   "cell_type": "code",
   "execution_count": 4,
   "metadata": {},
   "outputs": [],
   "source": [
    "word_index = imdb.get_word_index()                               \n",
    "\n",
    "reverse_word_index = dict(\n",
    "    [(value, key) for (key, value) in word_index.items()])       "
   ]
  },
  {
   "cell_type": "markdown",
   "metadata": {},
   "source": [
    "Now use this to transform the above review "
   ]
  },
  {
   "cell_type": "code",
   "execution_count": 5,
   "metadata": {},
   "outputs": [
    {
     "name": "stdout",
     "output_type": "stream",
     "text": [
      "? this film was just brilliant casting location scenery story direction everyone's really suited the part they played and you could just imagine being there robert ? is an amazing actor and now the same being director ? father came from the same scottish island as myself so i loved the fact there was a real connection with this film the witty remarks throughout the film were great it was just brilliant so much that i bought the film as soon as it was released for ? and would recommend it to everyone to watch and the fly fishing was amazing really cried at the end it was so sad and you know what they say if you cry at a film it must have been good and this definitely was also ? to the two little boy's that played the ? of norman and paul they were just brilliant children are often left out of the ? list i think because the stars that play them all grown up are such a big profile for the whole film but these children are amazing and should be praised for what they have done don't you think the whole story was so lovely because it was true and was someone's life after all that was shared with us all\n"
     ]
    }
   ],
   "source": [
    "decoded_review = ' '.join(\n",
    "    [reverse_word_index.get(i - 3, '?') for i in train_data[0]]) \n",
    "\n",
    "print(decoded_review)"
   ]
  },
  {
   "cell_type": "markdown",
   "metadata": {},
   "source": [
    "We can also take a look at the outcome label. This is a binary value, where 0 indicates a negative review and 1 indicates a positive review. "
   ]
  },
  {
   "cell_type": "code",
   "execution_count": 6,
   "metadata": {},
   "outputs": [
    {
     "name": "stdout",
     "output_type": "stream",
     "text": [
      "1\n"
     ]
    }
   ],
   "source": [
    "print(train_labels[0])"
   ]
  },
  {
   "cell_type": "markdown",
   "metadata": {},
   "source": [
    "So the objects `train_data` and `test_data` are lists of reviews; each review is a list of word indices (encoding a sequence of words). `train_labels` and `test_labels` are lists of 0s and 1s, where 0 stands for negative and 1 stands for positive:\n",
    "\n",
    "Although the data have been processed and organized by review, we can't use these reviews directly in a model, as it will based any weights on the integer assigned to each word, rather than simply the presence or absence of that word. In addition, each review is of a different length, which makes it tricky to assign these values to input nodes in a neural network. We can get a better organization by one-hot encoding the reviews. This will produce, for each review, a vector of length 10,000, where each entry will be a binary (0/1) value indicating whether or not that particular word was present in the review. As we need to do this for both the training and testing sets, we'll create a function to do this for us:"
   ]
  },
  {
   "cell_type": "code",
   "execution_count": 7,
   "metadata": {},
   "outputs": [],
   "source": [
    "import numpy as np\n",
    "\n",
    "def vectorize_sequences(sequences, dimension=10000):\n",
    "    # Create an all-zero matrix of shape (len(sequences), dimension)\n",
    "    results = np.zeros((len(sequences), dimension))\n",
    "    for i, sequence in enumerate(sequences):\n",
    "        results[i, sequence] = 1.  # set specific indices of results[i] to 1s\n",
    "    return results"
   ]
  },
  {
   "cell_type": "markdown",
   "metadata": {},
   "source": [
    "This first creates a matrix with 10,000 columns (representing each word) and the same number of rows as the set of reviews we are processing. It then iterates through each review, and if a given word is present in that review, then the value in the matrix is set to 1, otherwise it is left as a 0. \n",
    "\n",
    "Now we can apply this to both the training and testing reviews:"
   ]
  },
  {
   "cell_type": "code",
   "execution_count": 8,
   "metadata": {},
   "outputs": [],
   "source": [
    "# Our vectorized training data\n",
    "x_train = vectorize_sequences(train_data)\n",
    "# Our vectorized test data\n",
    "x_test = vectorize_sequences(test_data)"
   ]
  },
  {
   "cell_type": "markdown",
   "metadata": {},
   "source": [
    "If you want to see what the first training review looks like following the one-hot encoding, simply type `x_train[0]`. These represent the input *tensors*. For this model, these are rank 2 tensors and simply represented in Python as 2D arrays. "
   ]
  },
  {
   "cell_type": "code",
   "execution_count": 9,
   "metadata": {},
   "outputs": [
    {
     "data": {
      "text/plain": [
       "array([0., 1., 1., ..., 0., 0., 0.])"
      ]
     },
     "execution_count": 9,
     "metadata": {},
     "output_type": "execute_result"
    }
   ],
   "source": [
    "x_train[0]"
   ]
  },
  {
   "cell_type": "markdown",
   "metadata": {},
   "source": [
    "We'll also convert the labels from integer values to floating point (numeric):"
   ]
  },
  {
   "cell_type": "code",
   "execution_count": 10,
   "metadata": {},
   "outputs": [],
   "source": [
    "y_train = np.asarray(train_labels).astype('float32')\n",
    "y_test = np.asarray(test_labels).astype('float32')"
   ]
  },
  {
   "cell_type": "markdown",
   "metadata": {},
   "source": [
    "Before we start to build the model, we'll create a validation dataset by splitting the training data in two parts. Validation datasets are important in deep learning as the complex networks can quickly and easily overfit to the training data. Validation data are used during the training process. Following each adjustment of the weights, the network predicts the labels for the validation set, and a validation error is calculated. A decreasing validation error suggests that the model is training well to the data, but when it starts to increase, this indicates overfitting: prediction for new data becomes worse. Here, we'll take the first 10,000 reviews and use them for validation:"
   ]
  },
  {
   "cell_type": "code",
   "execution_count": 11,
   "metadata": {},
   "outputs": [],
   "source": [
    "x_val = x_train[:10000]\n",
    "partial_x_train = x_train[10000:]\n",
    "y_val = y_train[:10000]\n",
    "partial_y_train = y_train[10000:]"
   ]
  },
  {
   "cell_type": "markdown",
   "metadata": {},
   "source": [
    "## Setting up the network\n",
    "\n",
    "Now we'll set up the network architecture. The Keras API uses a set of building block functions to set up this network. The `Sequential()` function defines a blank template for a sequential neural network. The `Dense()` function adds a single hidden layer to this. A *dense* layer is a a standard neural network hidden layer that is fully (or densely) connected to all inputs and all outputs. \n",
    "\n",
    "In the following code, we define a simple network with two hidden layers. Each hidden layer has 16 nodes (`units`) and uses a ReLU activation function. The second layer is then connected to an output later with a single unit as we are predicting a single outcome (good vs. bad reviews). Note that \n",
    "\n",
    "- we use a sigmoid activation function for the output layer, as this forces the output to be in 0-1 range. \n",
    "- we define the number of features in the `input_shape` in the first hidden layer. This will define the number of connections needed between the input (10,000 words) and the nodes of the first layer"
   ]
  },
  {
   "cell_type": "code",
   "execution_count": 12,
   "metadata": {},
   "outputs": [],
   "source": [
    "from tensorflow.keras import models\n",
    "from tensorflow.keras import layers\n",
    "\n",
    "model = models.Sequential([\n",
    "  layers.Dense(16, activation='relu', input_shape=(10000,)),\n",
    "  layers.Dense(16, activation='relu'),\n",
    "  layers.Dense(1, activation='sigmoid')\n",
    "])"
   ]
  },
  {
   "cell_type": "markdown",
   "metadata": {},
   "source": [
    "Let's take a look at the architecture this has created:"
   ]
  },
  {
   "cell_type": "code",
   "execution_count": 13,
   "metadata": {},
   "outputs": [
    {
     "name": "stdout",
     "output_type": "stream",
     "text": [
      "Model: \"sequential\"\n",
      "_________________________________________________________________\n",
      "Layer (type)                 Output Shape              Param #   \n",
      "=================================================================\n",
      "dense (Dense)                (None, 16)                160016    \n",
      "_________________________________________________________________\n",
      "dense_1 (Dense)              (None, 16)                272       \n",
      "_________________________________________________________________\n",
      "dense_2 (Dense)              (None, 1)                 17        \n",
      "=================================================================\n",
      "Total params: 160,305\n",
      "Trainable params: 160,305\n",
      "Non-trainable params: 0\n",
      "_________________________________________________________________\n",
      "None\n"
     ]
    }
   ],
   "source": [
    "print(model.summary())"
   ]
  },
  {
   "cell_type": "markdown",
   "metadata": {},
   "source": [
    "This table shows for each layer:\n",
    "\n",
    "- Its name (this can be set in the `layer_dense` function)\n",
    "- The number of outputs (shape)\n",
    "- The number of parameters to be estimated. For the first this is the number of inputs (10,000) multiplied by the number of nodes (16) + a bias for each node (16). \n",
    "- The total number of parameters in the model, which comes out to a little over 160,000. This large number of parameters is why these models require large amounts of data to train (and why they can fit complex problems)"
   ]
  },
  {
   "cell_type": "markdown",
   "metadata": {},
   "source": [
    "You can also plot out the model as a graph network (this requires that the `pydot` and `graphviz` packages are installed). This is a great way to track more complex models. "
   ]
  },
  {
   "cell_type": "code",
   "execution_count": 14,
   "metadata": {},
   "outputs": [
    {
     "data": {
      "image/png": "[encoded data removed]",
      "text/plain": [
       "<IPython.core.display.Image object>"
      ]
     },
     "execution_count": 14,
     "metadata": {},
     "output_type": "execute_result"
    }
   ],
   "source": [
    "from tensorflow.keras.utils import plot_model\n",
    "plot_model(model, show_shapes = True)"
   ]
  },
  {
   "cell_type": "markdown",
   "metadata": {},
   "source": [
    "Next, we need to configure the model by specifying the optimizer to be used, the loss function and any error metrics we want to calculate. We'll use standard backpropagation for the optimizer, binary cross entropy for the loss function and we'll measure the model's accuracy. Cross entropy is a measure of how different two distributions are, and this is well suited to a binary classification exercise, where we want to discriminate between 0's and 1's,"
   ]
  },
  {
   "cell_type": "code",
   "execution_count": 15,
   "metadata": {},
   "outputs": [],
   "source": [
    "model.compile(optimizer='rmsprop',\n",
    "              loss='binary_crossentropy',\n",
    "              metrics=['acc'])"
   ]
  },
  {
   "cell_type": "markdown",
   "metadata": {},
   "source": [
    "### Training the model\n",
    "\n",
    "Now we have everything in place, we can train the model. Here we specify:\n",
    "\n",
    "- the set of features for training (`partial_x_train`)\n",
    "- the set of labels for training (`partial_y_train`)\n",
    "- the number of iterations to train the model for (`epochs`)\n",
    "- the `batch_size`. \n",
    "- the validation features and labels\n",
    "\n",
    "The batch size is quite an useful parameter to make your network more efficient. This is the number of samples to pass through the network before updating weights. This allows you to trade off the speed of the calculation against the convergence. Using smaller batches uses less memory but may take longer to converge, as the weights are being updated using only a fraction of the data. Larger batches will converge quickly, by may cause memory issues, and may more easily result in overfitting. "
   ]
  },
  {
   "cell_type": "code",
   "execution_count": 16,
   "metadata": {},
   "outputs": [
    {
     "name": "stdout",
     "output_type": "stream",
     "text": [
      "Train on 15000 samples, validate on 10000 samples\n",
      "Epoch 1/20\n",
      "15000/15000 [==============================] - 3s 192us/sample - loss: 0.5266 - acc: 0.7793 - val_loss: 0.3996 - val_acc: 0.8698\n",
      "Epoch 2/20\n",
      "15000/15000 [==============================] - 1s 66us/sample - loss: 0.3202 - acc: 0.9029 - val_loss: 0.3132 - val_acc: 0.8844\n",
      "Epoch 3/20\n",
      "15000/15000 [==============================] - 1s 65us/sample - loss: 0.2357 - acc: 0.9241 - val_loss: 0.2860 - val_acc: 0.8863\n",
      "Epoch 4/20\n",
      "15000/15000 [==============================] - 1s 68us/sample - loss: 0.1855 - acc: 0.9404 - val_loss: 0.2729 - val_acc: 0.8897\n",
      "Epoch 5/20\n",
      "15000/15000 [==============================] - 1s 67us/sample - loss: 0.1491 - acc: 0.9531 - val_loss: 0.2955 - val_acc: 0.8816\n",
      "Epoch 6/20\n",
      "15000/15000 [==============================] - 1s 65us/sample - loss: 0.1248 - acc: 0.9595 - val_loss: 0.2896 - val_acc: 0.8855\n",
      "Epoch 7/20\n",
      "15000/15000 [==============================] - 1s 63us/sample - loss: 0.1033 - acc: 0.9683 - val_loss: 0.3071 - val_acc: 0.8857\n",
      "Epoch 8/20\n",
      "15000/15000 [==============================] - 1s 64us/sample - loss: 0.0882 - acc: 0.9747 - val_loss: 0.3464 - val_acc: 0.8773\n",
      "Epoch 9/20\n",
      "15000/15000 [==============================] - 1s 70us/sample - loss: 0.0729 - acc: 0.9801 - val_loss: 0.3427 - val_acc: 0.8815\n",
      "Epoch 10/20\n",
      "15000/15000 [==============================] - 1s 67us/sample - loss: 0.0596 - acc: 0.9850 - val_loss: 0.3667 - val_acc: 0.8785\n",
      "Epoch 11/20\n",
      "15000/15000 [==============================] - 1s 65us/sample - loss: 0.0477 - acc: 0.9892 - val_loss: 0.3995 - val_acc: 0.8718\n",
      "Epoch 12/20\n",
      "15000/15000 [==============================] - 1s 67us/sample - loss: 0.0421 - acc: 0.9901 - val_loss: 0.4205 - val_acc: 0.8749\n",
      "Epoch 13/20\n",
      "15000/15000 [==============================] - 1s 70us/sample - loss: 0.0323 - acc: 0.9933 - val_loss: 0.4616 - val_acc: 0.8675\n",
      "Epoch 14/20\n",
      "15000/15000 [==============================] - 1s 69us/sample - loss: 0.0273 - acc: 0.9943 - val_loss: 0.4810 - val_acc: 0.8728\n",
      "Epoch 15/20\n",
      "15000/15000 [==============================] - 1s 69us/sample - loss: 0.0220 - acc: 0.9965 - val_loss: 0.5310 - val_acc: 0.8709\n",
      "Epoch 16/20\n",
      "15000/15000 [==============================] - 1s 71us/sample - loss: 0.0176 - acc: 0.9973 - val_loss: 0.5708 - val_acc: 0.8679\n",
      "Epoch 17/20\n",
      "15000/15000 [==============================] - 1s 70us/sample - loss: 0.0151 - acc: 0.9979 - val_loss: 0.5770 - val_acc: 0.8699\n",
      "Epoch 18/20\n",
      "15000/15000 [==============================] - 1s 72us/sample - loss: 0.0100 - acc: 0.9994 - val_loss: 0.6063 - val_acc: 0.8686\n",
      "Epoch 19/20\n",
      "15000/15000 [==============================] - 1s 70us/sample - loss: 0.0082 - acc: 0.9994 - val_loss: 0.6804 - val_acc: 0.8588\n",
      "Epoch 20/20\n",
      "15000/15000 [==============================] - 1s 73us/sample - loss: 0.0086 - acc: 0.9984 - val_loss: 0.6789 - val_acc: 0.8662\n"
     ]
    }
   ],
   "source": [
    "history = model.fit(partial_x_train,\n",
    "                    partial_y_train,\n",
    "                    epochs=20,\n",
    "                    batch_size=512,\n",
    "                    validation_data=(x_val, y_val))"
   ]
  },
  {
   "cell_type": "markdown",
   "metadata": {},
   "source": [
    "The output from the training (`history`) contains the evolution of the loss function and performance metric, and we can use this to visualize the progression of the model:"
   ]
  },
  {
   "cell_type": "code",
   "execution_count": 17,
   "metadata": {},
   "outputs": [
    {
     "data": {
      "text/plain": [
       "dict_keys(['loss', 'acc', 'val_loss', 'val_acc'])"
      ]
     },
     "execution_count": 17,
     "metadata": {},
     "output_type": "execute_result"
    }
   ],
   "source": [
    "history_dict = history.history\n",
    "history_dict.keys()"
   ]
  },
  {
   "cell_type": "code",
   "execution_count": 18,
   "metadata": {},
   "outputs": [
    {
     "data": {
      "image/png": "[encoded data removed]",
      "text/plain": [
       "<Figure size 432x288 with 1 Axes>"
      ]
     },
     "metadata": {
      "needs_background": "light"
     },
     "output_type": "display_data"
    }
   ],
   "source": [
    "import matplotlib.pyplot as plt\n",
    "\n",
    "loss_values = history_dict['loss']\n",
    "val_loss_values = history_dict['val_loss']\n",
    "\n",
    "epochs = range(1, len(loss_values) + 1)\n",
    "plt.plot(epochs, loss_values, 'bo', label='Training loss')          \n",
    "\n",
    "plt.plot(epochs, val_loss_values, 'b', label='Validation loss')     \n",
    "\n",
    "plt.title('Training and validation loss')\n",
    "plt.xlabel('Epochs')\n",
    "plt.ylabel('Loss')\n",
    "plt.legend()\n",
    "plt.show()"
   ]
  },
  {
   "cell_type": "markdown",
   "metadata": {},
   "source": [
    "And here's the change in the accuracy:"
   ]
  },
  {
   "cell_type": "code",
   "execution_count": 19,
   "metadata": {},
   "outputs": [
    {
     "data": {
      "image/png": "[encoded data removed]",
      "text/plain": [
       "<Figure size 432x288 with 1 Axes>"
      ]
     },
     "metadata": {
      "needs_background": "light"
     },
     "output_type": "display_data"
    }
   ],
   "source": [
    "plt.clf()                                                           \n",
    "\n",
    "acc = history_dict['acc']\n",
    "val_acc = history_dict['val_acc']\n",
    "plt.plot(epochs, acc, 'bo', label='Training acc')\n",
    "plt.plot(epochs, val_acc, 'b', label='Validation acc')\n",
    "plt.title('Training and validation accuracy')\n",
    "plt.xlabel('Epochs')\n",
    "plt.ylabel('Accuracy')\n",
    "plt.legend()\n",
    "plt.show()"
   ]
  },
  {
   "cell_type": "markdown",
   "metadata": {},
   "source": [
    "The lines show the loss and accuracy for the training dataset, with a maximum accuracy close to 1. The blue points show the same for the validation dataset, and show clear signs of overfitting. There is a peak in accuracy (and a minimum in the loss function) at around 5 epochs. We'll refit our model with a smaller number of epochs to the full training set, and then go on to test it.\n"
   ]
  },
  {
   "cell_type": "code",
   "execution_count": 20,
   "metadata": {},
   "outputs": [
    {
     "name": "stdout",
     "output_type": "stream",
     "text": [
      "Train on 25000 samples\n",
      "Epoch 1/5\n",
      "25000/25000 [==============================] - 2s 78us/sample - loss: 0.4533 - accuracy: 0.8178\n",
      "Epoch 2/5\n",
      "25000/25000 [==============================] - 1s 41us/sample - loss: 0.2572 - accuracy: 0.9109\n",
      "Epoch 3/5\n",
      "25000/25000 [==============================] - 1s 48us/sample - loss: 0.1979 - accuracy: 0.9285\n",
      "Epoch 4/5\n",
      "25000/25000 [==============================] - 2s 62us/sample - loss: 0.1669 - accuracy: 0.9400\n",
      "Epoch 5/5\n",
      "25000/25000 [==============================] - 1s 59us/sample - loss: 0.1445 - accuracy: 0.9493\n"
     ]
    },
    {
     "data": {
      "text/plain": [
       "<tensorflow.python.keras.callbacks.History at 0x7ff8fc4d4b50>"
      ]
     },
     "execution_count": 20,
     "metadata": {},
     "output_type": "execute_result"
    }
   ],
   "source": [
    "model = models.Sequential([\n",
    "  layers.Dense(16, activation='relu', input_shape=(10000,)),\n",
    "  layers.Dense(16, activation='relu'),\n",
    "  layers.Dense(1, activation='sigmoid')\n",
    "])\n",
    "\n",
    "model.compile(optimizer='rmsprop',\n",
    "              loss='binary_crossentropy',\n",
    "              metrics=['accuracy'])\n",
    "\n",
    "model.fit(x_train, y_train, epochs = 5, batch_size = 512)"
   ]
  },
  {
   "cell_type": "markdown",
   "metadata": {},
   "source": [
    "We can test the model by using the `evaluate()` method and the original test (not validation!) dataset:"
   ]
  },
  {
   "cell_type": "code",
   "execution_count": 21,
   "metadata": {},
   "outputs": [],
   "source": [
    "results = model.evaluate(x_test, y_test, verbose=0)"
   ]
  },
  {
   "cell_type": "code",
   "execution_count": 22,
   "metadata": {},
   "outputs": [
    {
     "name": "stdout",
     "output_type": "stream",
     "text": [
      "Final loss: 0.3125\n",
      "Final accuracy: 0.8802\n"
     ]
    }
   ],
   "source": [
    "print('Final loss: %.4f'\n",
    "      % results[0])\n",
    "print('Final accuracy: %.4f'\n",
    "      % results[1])"
   ]
  },
  {
   "cell_type": "markdown",
   "metadata": {},
   "source": [
    "We get an accuracy of about 87%, which is not bad for a first attempt. The next steps would be to modify the network architecture to see if this could be improved on, e.g. by adding more layers or more nodes in the layers. We'll finish here by making a quick prediction using our trained network, but feel free to try and change your network. "
   ]
  },
  {
   "cell_type": "markdown",
   "metadata": {},
   "source": [
    "We'll take the first 10 reviews from the test data and use the `predict()` method to get a predicted probability of this being a good review:"
   ]
  },
  {
   "cell_type": "code",
   "execution_count": 23,
   "metadata": {},
   "outputs": [
    {
     "data": {
      "text/plain": [
       "array([[0.14893463],\n",
       "       [0.9996742 ],\n",
       "       [0.7481483 ],\n",
       "       [0.8903264 ],\n",
       "       [0.95306706],\n",
       "       [0.8267564 ],\n",
       "       [0.99965715],\n",
       "       [0.00467083],\n",
       "       [0.9730933 ],\n",
       "       [0.99750644]], dtype=float32)"
      ]
     },
     "execution_count": 23,
     "metadata": {},
     "output_type": "execute_result"
    }
   ],
   "source": [
    "model.predict(x_test[0:10])"
   ]
  },
  {
   "cell_type": "markdown",
   "metadata": {},
   "source": [
    "This shows a fair range, with some reviews being predicted as very close to 0 or 1, but others where there is greater uncertainty. One thing to do would be to take the function that back transforms the reviews, and look at an example that has been predicted close to 0 or 1 to see what was actually written."
   ]
  },
  {
   "cell_type": "markdown",
   "metadata": {},
   "source": [
    "## Example 2: regression\n",
    "\n",
    "For the second example, we'll demonstrate a regression example, as well as a $k$-fold cross-validation. We'll use data on house prices and neighborhood characteristics from Boston, in the file *boston6k.csv*. Start by reading this data in, and take a quick look at the values:"
   ]
  },
  {
   "cell_type": "code",
   "execution_count": 24,
   "metadata": {},
   "outputs": [],
   "source": [
    "import numpy as np\n",
    "import pandas as pd\n",
    "\n",
    "boston = pd.read_csv(\"../datafiles/boston6k.csv\")"
   ]
  },
  {
   "cell_type": "markdown",
   "metadata": {},
   "source": [
    "Load data"
   ]
  },
  {
   "cell_type": "code",
   "execution_count": 25,
   "metadata": {},
   "outputs": [
    {
     "data": {
      "text/html": [
       "<div>\n",
       "<style scoped>\n",
       "    .dataframe tbody tr th:only-of-type {\n",
       "        vertical-align: middle;\n",
       "    }\n",
       "\n",
       "    .dataframe tbody tr th {\n",
       "        vertical-align: top;\n",
       "    }\n",
       "\n",
       "    .dataframe thead th {\n",
       "        text-align: right;\n",
       "    }\n",
       "</style>\n",
       "<table border=\"1\" class=\"dataframe\">\n",
       "  <thead>\n",
       "    <tr style=\"text-align: right;\">\n",
       "      <th></th>\n",
       "      <th>ID</th>\n",
       "      <th>TOWN</th>\n",
       "      <th>TOWNNO</th>\n",
       "      <th>TRACT</th>\n",
       "      <th>LON</th>\n",
       "      <th>LAT</th>\n",
       "      <th>MEDV</th>\n",
       "      <th>CMEDV</th>\n",
       "      <th>CRIM</th>\n",
       "      <th>ZN</th>\n",
       "      <th>...</th>\n",
       "      <th>CHAS</th>\n",
       "      <th>NOX</th>\n",
       "      <th>RM</th>\n",
       "      <th>AGE</th>\n",
       "      <th>DIS</th>\n",
       "      <th>RAD</th>\n",
       "      <th>TAX</th>\n",
       "      <th>PTRATIO</th>\n",
       "      <th>B</th>\n",
       "      <th>LSTAT</th>\n",
       "    </tr>\n",
       "  </thead>\n",
       "  <tbody>\n",
       "    <tr>\n",
       "      <th>0</th>\n",
       "      <td>1</td>\n",
       "      <td>Boston Allston-Brighton</td>\n",
       "      <td>74</td>\n",
       "      <td>1</td>\n",
       "      <td>-71.139367</td>\n",
       "      <td>42.362447</td>\n",
       "      <td>17.8</td>\n",
       "      <td>17.8</td>\n",
       "      <td>8.98296</td>\n",
       "      <td>0.0</td>\n",
       "      <td>...</td>\n",
       "      <td>1</td>\n",
       "      <td>0.77</td>\n",
       "      <td>6.212</td>\n",
       "      <td>97.4</td>\n",
       "      <td>2.1222</td>\n",
       "      <td>24</td>\n",
       "      <td>666</td>\n",
       "      <td>20.2</td>\n",
       "      <td>377.73</td>\n",
       "      <td>17.60</td>\n",
       "    </tr>\n",
       "    <tr>\n",
       "      <th>1</th>\n",
       "      <td>2</td>\n",
       "      <td>Boston Allston-Brighton</td>\n",
       "      <td>74</td>\n",
       "      <td>2</td>\n",
       "      <td>-71.158552</td>\n",
       "      <td>42.353116</td>\n",
       "      <td>21.7</td>\n",
       "      <td>21.7</td>\n",
       "      <td>3.84970</td>\n",
       "      <td>0.0</td>\n",
       "      <td>...</td>\n",
       "      <td>1</td>\n",
       "      <td>0.77</td>\n",
       "      <td>6.395</td>\n",
       "      <td>91.0</td>\n",
       "      <td>2.5052</td>\n",
       "      <td>24</td>\n",
       "      <td>666</td>\n",
       "      <td>20.2</td>\n",
       "      <td>391.34</td>\n",
       "      <td>13.27</td>\n",
       "    </tr>\n",
       "    <tr>\n",
       "      <th>2</th>\n",
       "      <td>3</td>\n",
       "      <td>Boston Allston-Brighton</td>\n",
       "      <td>74</td>\n",
       "      <td>3</td>\n",
       "      <td>-71.168487</td>\n",
       "      <td>42.350608</td>\n",
       "      <td>22.7</td>\n",
       "      <td>22.7</td>\n",
       "      <td>5.20177</td>\n",
       "      <td>0.0</td>\n",
       "      <td>...</td>\n",
       "      <td>1</td>\n",
       "      <td>0.77</td>\n",
       "      <td>6.127</td>\n",
       "      <td>83.4</td>\n",
       "      <td>2.7227</td>\n",
       "      <td>24</td>\n",
       "      <td>666</td>\n",
       "      <td>20.2</td>\n",
       "      <td>395.43</td>\n",
       "      <td>11.48</td>\n",
       "    </tr>\n",
       "    <tr>\n",
       "      <th>3</th>\n",
       "      <td>4</td>\n",
       "      <td>Boston Allston-Brighton</td>\n",
       "      <td>74</td>\n",
       "      <td>4</td>\n",
       "      <td>-71.156163</td>\n",
       "      <td>42.343818</td>\n",
       "      <td>22.6</td>\n",
       "      <td>22.6</td>\n",
       "      <td>4.26131</td>\n",
       "      <td>0.0</td>\n",
       "      <td>...</td>\n",
       "      <td>0</td>\n",
       "      <td>0.77</td>\n",
       "      <td>6.112</td>\n",
       "      <td>81.3</td>\n",
       "      <td>2.5091</td>\n",
       "      <td>24</td>\n",
       "      <td>666</td>\n",
       "      <td>20.2</td>\n",
       "      <td>390.74</td>\n",
       "      <td>12.67</td>\n",
       "    </tr>\n",
       "    <tr>\n",
       "      <th>4</th>\n",
       "      <td>5</td>\n",
       "      <td>Boston Allston-Brighton</td>\n",
       "      <td>74</td>\n",
       "      <td>5</td>\n",
       "      <td>-71.155807</td>\n",
       "      <td>42.337318</td>\n",
       "      <td>25.0</td>\n",
       "      <td>25.0</td>\n",
       "      <td>4.54192</td>\n",
       "      <td>0.0</td>\n",
       "      <td>...</td>\n",
       "      <td>0</td>\n",
       "      <td>0.77</td>\n",
       "      <td>6.398</td>\n",
       "      <td>88.0</td>\n",
       "      <td>2.5182</td>\n",
       "      <td>24</td>\n",
       "      <td>666</td>\n",
       "      <td>20.2</td>\n",
       "      <td>374.56</td>\n",
       "      <td>7.79</td>\n",
       "    </tr>\n",
       "  </tbody>\n",
       "</table>\n",
       "<p>5 rows × 21 columns</p>\n",
       "</div>"
      ],
      "text/plain": [
       "   ID                     TOWN  TOWNNO  TRACT        LON        LAT  MEDV  \\\n",
       "0   1  Boston Allston-Brighton      74      1 -71.139367  42.362447  17.8   \n",
       "1   2  Boston Allston-Brighton      74      2 -71.158552  42.353116  21.7   \n",
       "2   3  Boston Allston-Brighton      74      3 -71.168487  42.350608  22.7   \n",
       "3   4  Boston Allston-Brighton      74      4 -71.156163  42.343818  22.6   \n",
       "4   5  Boston Allston-Brighton      74      5 -71.155807  42.337318  25.0   \n",
       "\n",
       "   CMEDV     CRIM   ZN  ...  CHAS   NOX     RM   AGE     DIS  RAD  TAX  \\\n",
       "0   17.8  8.98296  0.0  ...     1  0.77  6.212  97.4  2.1222   24  666   \n",
       "1   21.7  3.84970  0.0  ...     1  0.77  6.395  91.0  2.5052   24  666   \n",
       "2   22.7  5.20177  0.0  ...     1  0.77  6.127  83.4  2.7227   24  666   \n",
       "3   22.6  4.26131  0.0  ...     0  0.77  6.112  81.3  2.5091   24  666   \n",
       "4   25.0  4.54192  0.0  ...     0  0.77  6.398  88.0  2.5182   24  666   \n",
       "\n",
       "   PTRATIO       B  LSTAT  \n",
       "0     20.2  377.73  17.60  \n",
       "1     20.2  391.34  13.27  \n",
       "2     20.2  395.43  11.48  \n",
       "3     20.2  390.74  12.67  \n",
       "4     20.2  374.56   7.79  \n",
       "\n",
       "[5 rows x 21 columns]"
      ]
     },
     "execution_count": 25,
     "metadata": {},
     "output_type": "execute_result"
    }
   ],
   "source": [
    "boston.head()"
   ]
  },
  {
   "cell_type": "markdown",
   "metadata": {},
   "source": [
    "Summary information"
   ]
  },
  {
   "cell_type": "code",
   "execution_count": 26,
   "metadata": {},
   "outputs": [
    {
     "name": "stdout",
     "output_type": "stream",
     "text": [
      "<class 'pandas.core.frame.DataFrame'>\n",
      "RangeIndex: 506 entries, 0 to 505\n",
      "Data columns (total 21 columns):\n",
      " #   Column   Non-Null Count  Dtype  \n",
      "---  ------   --------------  -----  \n",
      " 0   ID       506 non-null    int64  \n",
      " 1   TOWN     506 non-null    object \n",
      " 2   TOWNNO   506 non-null    int64  \n",
      " 3   TRACT    506 non-null    int64  \n",
      " 4   LON      506 non-null    float64\n",
      " 5   LAT      506 non-null    float64\n",
      " 6   MEDV     506 non-null    float64\n",
      " 7   CMEDV    506 non-null    float64\n",
      " 8   CRIM     506 non-null    float64\n",
      " 9   ZN       506 non-null    float64\n",
      " 10  INDUS    506 non-null    float64\n",
      " 11  CHAS     506 non-null    int64  \n",
      " 12  NOX      506 non-null    float64\n",
      " 13  RM       506 non-null    float64\n",
      " 14  AGE      506 non-null    float64\n",
      " 15  DIS      506 non-null    float64\n",
      " 16  RAD      506 non-null    int64  \n",
      " 17  TAX      506 non-null    int64  \n",
      " 18  PTRATIO  506 non-null    float64\n",
      " 19  B        506 non-null    float64\n",
      " 20  LSTAT    506 non-null    float64\n",
      "dtypes: float64(14), int64(6), object(1)\n",
      "memory usage: 83.1+ KB\n"
     ]
    }
   ],
   "source": [
    "boston.info()"
   ]
  },
  {
   "cell_type": "markdown",
   "metadata": {},
   "source": [
    "Value "
   ]
  },
  {
   "cell_type": "code",
   "execution_count": 27,
   "metadata": {},
   "outputs": [
    {
     "data": {
      "text/html": [
       "<div>\n",
       "<style scoped>\n",
       "    .dataframe tbody tr th:only-of-type {\n",
       "        vertical-align: middle;\n",
       "    }\n",
       "\n",
       "    .dataframe tbody tr th {\n",
       "        vertical-align: top;\n",
       "    }\n",
       "\n",
       "    .dataframe thead th {\n",
       "        text-align: right;\n",
       "    }\n",
       "</style>\n",
       "<table border=\"1\" class=\"dataframe\">\n",
       "  <thead>\n",
       "    <tr style=\"text-align: right;\">\n",
       "      <th></th>\n",
       "      <th>ID</th>\n",
       "      <th>TOWNNO</th>\n",
       "      <th>TRACT</th>\n",
       "      <th>LON</th>\n",
       "      <th>LAT</th>\n",
       "      <th>MEDV</th>\n",
       "      <th>CMEDV</th>\n",
       "      <th>CRIM</th>\n",
       "      <th>ZN</th>\n",
       "      <th>INDUS</th>\n",
       "      <th>CHAS</th>\n",
       "      <th>NOX</th>\n",
       "      <th>RM</th>\n",
       "      <th>AGE</th>\n",
       "      <th>DIS</th>\n",
       "      <th>RAD</th>\n",
       "      <th>TAX</th>\n",
       "      <th>PTRATIO</th>\n",
       "      <th>B</th>\n",
       "      <th>LSTAT</th>\n",
       "    </tr>\n",
       "  </thead>\n",
       "  <tbody>\n",
       "    <tr>\n",
       "      <th>count</th>\n",
       "      <td>506.000000</td>\n",
       "      <td>506.000000</td>\n",
       "      <td>506.000000</td>\n",
       "      <td>506.000000</td>\n",
       "      <td>506.000000</td>\n",
       "      <td>506.000000</td>\n",
       "      <td>506.000000</td>\n",
       "      <td>506.000000</td>\n",
       "      <td>506.000000</td>\n",
       "      <td>506.000000</td>\n",
       "      <td>506.000000</td>\n",
       "      <td>506.000000</td>\n",
       "      <td>506.000000</td>\n",
       "      <td>506.000000</td>\n",
       "      <td>506.000000</td>\n",
       "      <td>506.000000</td>\n",
       "      <td>506.000000</td>\n",
       "      <td>506.000000</td>\n",
       "      <td>506.000000</td>\n",
       "      <td>506.000000</td>\n",
       "    </tr>\n",
       "    <tr>\n",
       "      <th>mean</th>\n",
       "      <td>253.500000</td>\n",
       "      <td>47.531621</td>\n",
       "      <td>2700.355731</td>\n",
       "      <td>-71.094343</td>\n",
       "      <td>42.360270</td>\n",
       "      <td>22.532806</td>\n",
       "      <td>22.528854</td>\n",
       "      <td>3.613524</td>\n",
       "      <td>11.363636</td>\n",
       "      <td>11.136779</td>\n",
       "      <td>0.069170</td>\n",
       "      <td>0.554695</td>\n",
       "      <td>6.284634</td>\n",
       "      <td>68.574901</td>\n",
       "      <td>3.795043</td>\n",
       "      <td>9.549407</td>\n",
       "      <td>408.237154</td>\n",
       "      <td>18.455534</td>\n",
       "      <td>356.674032</td>\n",
       "      <td>12.653063</td>\n",
       "    </tr>\n",
       "    <tr>\n",
       "      <th>std</th>\n",
       "      <td>146.213884</td>\n",
       "      <td>27.571401</td>\n",
       "      <td>1380.036830</td>\n",
       "      <td>0.125508</td>\n",
       "      <td>0.103696</td>\n",
       "      <td>9.197104</td>\n",
       "      <td>9.182176</td>\n",
       "      <td>8.601545</td>\n",
       "      <td>23.322453</td>\n",
       "      <td>6.860353</td>\n",
       "      <td>0.253994</td>\n",
       "      <td>0.115878</td>\n",
       "      <td>0.702617</td>\n",
       "      <td>28.148861</td>\n",
       "      <td>2.105710</td>\n",
       "      <td>8.707259</td>\n",
       "      <td>168.537116</td>\n",
       "      <td>2.164946</td>\n",
       "      <td>91.294864</td>\n",
       "      <td>7.141062</td>\n",
       "    </tr>\n",
       "    <tr>\n",
       "      <th>min</th>\n",
       "      <td>1.000000</td>\n",
       "      <td>0.000000</td>\n",
       "      <td>1.000000</td>\n",
       "      <td>-71.485152</td>\n",
       "      <td>42.045973</td>\n",
       "      <td>5.000000</td>\n",
       "      <td>5.000000</td>\n",
       "      <td>0.006320</td>\n",
       "      <td>0.000000</td>\n",
       "      <td>0.460000</td>\n",
       "      <td>0.000000</td>\n",
       "      <td>0.385000</td>\n",
       "      <td>3.561000</td>\n",
       "      <td>2.900000</td>\n",
       "      <td>1.129600</td>\n",
       "      <td>1.000000</td>\n",
       "      <td>187.000000</td>\n",
       "      <td>12.600000</td>\n",
       "      <td>0.320000</td>\n",
       "      <td>1.730000</td>\n",
       "    </tr>\n",
       "    <tr>\n",
       "      <th>25%</th>\n",
       "      <td>127.250000</td>\n",
       "      <td>26.250000</td>\n",
       "      <td>1303.250000</td>\n",
       "      <td>-71.156074</td>\n",
       "      <td>42.299922</td>\n",
       "      <td>17.025000</td>\n",
       "      <td>17.025000</td>\n",
       "      <td>0.082045</td>\n",
       "      <td>0.000000</td>\n",
       "      <td>5.190000</td>\n",
       "      <td>0.000000</td>\n",
       "      <td>0.449000</td>\n",
       "      <td>5.885500</td>\n",
       "      <td>45.025000</td>\n",
       "      <td>2.100175</td>\n",
       "      <td>4.000000</td>\n",
       "      <td>279.000000</td>\n",
       "      <td>17.400000</td>\n",
       "      <td>375.377500</td>\n",
       "      <td>6.950000</td>\n",
       "    </tr>\n",
       "    <tr>\n",
       "      <th>50%</th>\n",
       "      <td>253.500000</td>\n",
       "      <td>42.000000</td>\n",
       "      <td>3393.500000</td>\n",
       "      <td>-71.088686</td>\n",
       "      <td>42.362347</td>\n",
       "      <td>21.200000</td>\n",
       "      <td>21.200000</td>\n",
       "      <td>0.256510</td>\n",
       "      <td>0.000000</td>\n",
       "      <td>9.690000</td>\n",
       "      <td>0.000000</td>\n",
       "      <td>0.538000</td>\n",
       "      <td>6.208500</td>\n",
       "      <td>77.500000</td>\n",
       "      <td>3.207450</td>\n",
       "      <td>5.000000</td>\n",
       "      <td>330.000000</td>\n",
       "      <td>19.050000</td>\n",
       "      <td>391.440000</td>\n",
       "      <td>11.360000</td>\n",
       "    </tr>\n",
       "    <tr>\n",
       "      <th>75%</th>\n",
       "      <td>379.750000</td>\n",
       "      <td>78.000000</td>\n",
       "      <td>3739.750000</td>\n",
       "      <td>-71.031016</td>\n",
       "      <td>42.423070</td>\n",
       "      <td>25.000000</td>\n",
       "      <td>25.000000</td>\n",
       "      <td>3.677082</td>\n",
       "      <td>12.500000</td>\n",
       "      <td>18.100000</td>\n",
       "      <td>0.000000</td>\n",
       "      <td>0.624000</td>\n",
       "      <td>6.623500</td>\n",
       "      <td>94.075000</td>\n",
       "      <td>5.188425</td>\n",
       "      <td>24.000000</td>\n",
       "      <td>666.000000</td>\n",
       "      <td>20.200000</td>\n",
       "      <td>396.225000</td>\n",
       "      <td>16.955000</td>\n",
       "    </tr>\n",
       "    <tr>\n",
       "      <th>max</th>\n",
       "      <td>506.000000</td>\n",
       "      <td>91.000000</td>\n",
       "      <td>5082.000000</td>\n",
       "      <td>-70.680481</td>\n",
       "      <td>42.637086</td>\n",
       "      <td>50.000000</td>\n",
       "      <td>50.000000</td>\n",
       "      <td>88.976200</td>\n",
       "      <td>100.000000</td>\n",
       "      <td>27.740000</td>\n",
       "      <td>1.000000</td>\n",
       "      <td>0.871000</td>\n",
       "      <td>8.780000</td>\n",
       "      <td>100.000000</td>\n",
       "      <td>12.126500</td>\n",
       "      <td>24.000000</td>\n",
       "      <td>711.000000</td>\n",
       "      <td>22.000000</td>\n",
       "      <td>396.900000</td>\n",
       "      <td>37.970000</td>\n",
       "    </tr>\n",
       "  </tbody>\n",
       "</table>\n",
       "</div>"
      ],
      "text/plain": [
       "               ID      TOWNNO        TRACT         LON         LAT  \\\n",
       "count  506.000000  506.000000   506.000000  506.000000  506.000000   \n",
       "mean   253.500000   47.531621  2700.355731  -71.094343   42.360270   \n",
       "std    146.213884   27.571401  1380.036830    0.125508    0.103696   \n",
       "min      1.000000    0.000000     1.000000  -71.485152   42.045973   \n",
       "25%    127.250000   26.250000  1303.250000  -71.156074   42.299922   \n",
       "50%    253.500000   42.000000  3393.500000  -71.088686   42.362347   \n",
       "75%    379.750000   78.000000  3739.750000  -71.031016   42.423070   \n",
       "max    506.000000   91.000000  5082.000000  -70.680481   42.637086   \n",
       "\n",
       "             MEDV       CMEDV        CRIM          ZN       INDUS        CHAS  \\\n",
       "count  506.000000  506.000000  506.000000  506.000000  506.000000  506.000000   \n",
       "mean    22.532806   22.528854    3.613524   11.363636   11.136779    0.069170   \n",
       "std      9.197104    9.182176    8.601545   23.322453    6.860353    0.253994   \n",
       "min      5.000000    5.000000    0.006320    0.000000    0.460000    0.000000   \n",
       "25%     17.025000   17.025000    0.082045    0.000000    5.190000    0.000000   \n",
       "50%     21.200000   21.200000    0.256510    0.000000    9.690000    0.000000   \n",
       "75%     25.000000   25.000000    3.677082   12.500000   18.100000    0.000000   \n",
       "max     50.000000   50.000000   88.976200  100.000000   27.740000    1.000000   \n",
       "\n",
       "              NOX          RM         AGE         DIS         RAD         TAX  \\\n",
       "count  506.000000  506.000000  506.000000  506.000000  506.000000  506.000000   \n",
       "mean     0.554695    6.284634   68.574901    3.795043    9.549407  408.237154   \n",
       "std      0.115878    0.702617   28.148861    2.105710    8.707259  168.537116   \n",
       "min      0.385000    3.561000    2.900000    1.129600    1.000000  187.000000   \n",
       "25%      0.449000    5.885500   45.025000    2.100175    4.000000  279.000000   \n",
       "50%      0.538000    6.208500   77.500000    3.207450    5.000000  330.000000   \n",
       "75%      0.624000    6.623500   94.075000    5.188425   24.000000  666.000000   \n",
       "max      0.871000    8.780000  100.000000   12.126500   24.000000  711.000000   \n",
       "\n",
       "          PTRATIO           B       LSTAT  \n",
       "count  506.000000  506.000000  506.000000  \n",
       "mean    18.455534  356.674032   12.653063  \n",
       "std      2.164946   91.294864    7.141062  \n",
       "min     12.600000    0.320000    1.730000  \n",
       "25%     17.400000  375.377500    6.950000  \n",
       "50%     19.050000  391.440000   11.360000  \n",
       "75%     20.200000  396.225000   16.955000  \n",
       "max     22.000000  396.900000   37.970000  "
      ]
     },
     "execution_count": 27,
     "metadata": {},
     "output_type": "execute_result"
    }
   ],
   "source": [
    "boston.describe()"
   ]
  },
  {
   "cell_type": "markdown",
   "metadata": {},
   "source": [
    "### Data processing\n",
    "\n",
    "Next, we'll split out the features (we'll use a subset of the available information) and the labels. The 'labels` we are going to model are the corrected median house values in $000s (from the 1970's - that's why it looks so cheap). "
   ]
  },
  {
   "cell_type": "code",
   "execution_count": 28,
   "metadata": {},
   "outputs": [
    {
     "data": {
      "text/plain": [
       "Index(['CMEDV', 'CRIM', 'ZN', 'INDUS', 'CHAS', 'NOX', 'RM', 'AGE', 'DIS',\n",
       "       'RAD', 'TAX', 'PTRATIO', 'B', 'LSTAT'],\n",
       "      dtype='object')"
      ]
     },
     "execution_count": 28,
     "metadata": {},
     "output_type": "execute_result"
    }
   ],
   "source": [
    "boston2 = boston.iloc[:,7:21]\n",
    "boston2.columns"
   ]
  },
  {
   "cell_type": "markdown",
   "metadata": {},
   "source": [
    "Let's plot the features out as histograms."
   ]
  },
  {
   "cell_type": "code",
   "execution_count": 29,
   "metadata": {},
   "outputs": [
    {
     "data": {
      "image/png": "[encoded data removed]",
      "text/plain": [
       "<Figure size 1440x1080 with 16 Axes>"
      ]
     },
     "metadata": {
      "needs_background": "light"
     },
     "output_type": "display_data"
    }
   ],
   "source": [
    "## %matplotlib inline\n",
    "import matplotlib.pyplot as plt\n",
    "boston2.hist(bins=50, figsize=(20,15))\n",
    "plt.show()"
   ]
  },
  {
   "cell_type": "markdown",
   "metadata": {},
   "source": [
    "Next, we'll make up a training and testing dataset, by adding 80% of the samples randomly to training and leaving the rest for testing. We can use scikit-learn's tools for this:"
   ]
  },
  {
   "cell_type": "code",
   "execution_count": 30,
   "metadata": {},
   "outputs": [],
   "source": [
    "from sklearn.model_selection import train_test_split\n",
    "\n",
    "train, test = train_test_split(boston2, test_size=0.2, random_state=42)"
   ]
  },
  {
   "cell_type": "markdown",
   "metadata": {},
   "source": [
    "Then split these into features and labels:"
   ]
  },
  {
   "cell_type": "code",
   "execution_count": 31,
   "metadata": {},
   "outputs": [
    {
     "name": "stdout",
     "output_type": "stream",
     "text": [
      "(404, 13)\n",
      "(404,)\n"
     ]
    }
   ],
   "source": [
    "X_train = train.drop('CMEDV', axis=1).values\n",
    "y_train = train['CMEDV'].values\n",
    "print(X_train.shape)\n",
    "print(y_train.shape)"
   ]
  },
  {
   "cell_type": "code",
   "execution_count": 32,
   "metadata": {},
   "outputs": [
    {
     "name": "stdout",
     "output_type": "stream",
     "text": [
      "(102, 13)\n",
      "(102,)\n"
     ]
    }
   ],
   "source": [
    "X_test = test.drop('CMEDV', axis=1).values\n",
    "y_test = test['CMEDV'].values\n",
    "print(X_test.shape)\n",
    "print(y_test.shape)"
   ]
  },
  {
   "cell_type": "markdown",
   "metadata": {},
   "source": [
    "The features are on quite different scales, so we'll standardize them to $z$-scores. To do this, we'll use scikit-learn's `StandardScaler`. First import and fit this to the training data"
   ]
  },
  {
   "cell_type": "code",
   "execution_count": 33,
   "metadata": {},
   "outputs": [
    {
     "data": {
      "text/plain": [
       "StandardScaler()"
      ]
     },
     "execution_count": 33,
     "metadata": {},
     "output_type": "execute_result"
    }
   ],
   "source": [
    "from sklearn.preprocessing import StandardScaler\n",
    "scaler = StandardScaler()\n",
    "scaler.fit(X_train)"
   ]
  },
  {
   "cell_type": "markdown",
   "metadata": {},
   "source": [
    "Then use it to transform the two sets of features:"
   ]
  },
  {
   "cell_type": "code",
   "execution_count": 34,
   "metadata": {},
   "outputs": [],
   "source": [
    "X_train = scaler.transform(X_train)\n",
    "X_test = scaler.transform(X_test)"
   ]
  },
  {
   "cell_type": "markdown",
   "metadata": {},
   "source": [
    "### Setting up the network\n",
    "\n",
    "We'll build a model that again has two hidden layers and a single output node. We'll use use the ReLU activation function and slightly more nodes in each hidden layer than in the previous example. One difference here is that we'll create a function (`build_model()`) that contains all the code to set up a Keras neural network. This just contains the two sets of instructions to build a sequential model and compile it together with loss and performance metrics (we're using the mean square error for loss and the mean absolute error for performance:"
   ]
  },
  {
   "cell_type": "code",
   "execution_count": 35,
   "metadata": {},
   "outputs": [],
   "source": [
    "from tensorflow.keras import models\n",
    "from tensorflow.keras import layers\n",
    "\n",
    "def build_model():\n",
    "    model = models.Sequential([                        \n",
    "\n",
    "      layers.Dense(64, activation='relu', input_shape=(13,)),\n",
    "      layers.Dense(64, activation='relu'),\n",
    "      layers.Dense(1)\n",
    "    ])\n",
    "    model.compile(optimizer='rmsprop', loss='mse', metrics=['mae'])\n",
    "    return model"
   ]
  },
  {
   "cell_type": "markdown",
   "metadata": {},
   "source": [
    "Now we can create a new, untrained version of our network by calling this function:"
   ]
  },
  {
   "cell_type": "code",
   "execution_count": 36,
   "metadata": {},
   "outputs": [
    {
     "name": "stdout",
     "output_type": "stream",
     "text": [
      "Model: \"sequential_2\"\n",
      "_________________________________________________________________\n",
      "Layer (type)                 Output Shape              Param #   \n",
      "=================================================================\n",
      "dense_6 (Dense)              (None, 64)                896       \n",
      "_________________________________________________________________\n",
      "dense_7 (Dense)              (None, 64)                4160      \n",
      "_________________________________________________________________\n",
      "dense_8 (Dense)              (None, 1)                 65        \n",
      "=================================================================\n",
      "Total params: 5,121\n",
      "Trainable params: 5,121\n",
      "Non-trainable params: 0\n",
      "_________________________________________________________________\n"
     ]
    }
   ],
   "source": [
    "model = build_model()\n",
    "model.summary()"
   ]
  },
  {
   "cell_type": "code",
   "execution_count": 37,
   "metadata": {},
   "outputs": [
    {
     "data": {
      "image/png": "[encoded data removed]",
      "text/plain": [
       "<IPython.core.display.Image object>"
      ]
     },
     "execution_count": 37,
     "metadata": {},
     "output_type": "execute_result"
    }
   ],
   "source": [
    "from tensorflow.keras.utils import plot_model\n",
    "plot_model(model, show_shapes = True)"
   ]
  },
  {
   "cell_type": "markdown",
   "metadata": {},
   "source": [
    "### Cross-validation "
   ]
  },
  {
   "cell_type": "markdown",
   "metadata": {},
   "source": [
    "We'll now set up a cross-validation strategy by hand using scikit-learns `KFold` function. In the following code, we:\n",
    "\n",
    "- Use `KFold` to define indices for 4 folds of the training data.\n",
    "- Define the number of epochs to run for (250)\n",
    "- Create a blank object to store training information\n",
    "- Run a loop 4 times. In each iteration:\n",
    "    - We get the index for the training and validation samples\n",
    "    - Uses these to extract observations for the validation set (`X_val`, `y_val`), and for the training feature and labels (`X_partial_train`, `y_partial_train`)\n",
    "    - Build a new, untrained network using the function we created earlier\n",
    "    - Train the model for the set number of epochs, using a batch size of 16\n",
    "    - Store the validated MAE in `all_mae_histories`\n",
    "    \n",
    "Copy this over, check the code and run it. It will take a couple of minutes to iterate across all the training"
   ]
  },
  {
   "cell_type": "code",
   "execution_count": 38,
   "metadata": {},
   "outputs": [
    {
     "name": "stdout",
     "output_type": "stream",
     "text": [
      "processing fold #1\n",
      "processing fold #2\n",
      "processing fold #3\n",
      "processing fold #4\n"
     ]
    }
   ],
   "source": [
    "k = 4\n",
    "from sklearn.model_selection import KFold\n",
    "kf = KFold(n_splits = k)\n",
    "\n",
    "num_epochs = 250\n",
    "all_mae_histories = []\n",
    "i = 1\n",
    "for train_partial_index, val_index in kf.split(X_train):\n",
    "    print('processing fold #%d' % i)\n",
    "    X_val = X_train[val_index]  \n",
    "    y_val = y_train[val_index]\n",
    "    \n",
    "    X_partial_train = X_train[train_partial_index]\n",
    "    y_partial_train = y_train[train_partial_index]\n",
    "    \n",
    "    model = build_model()                                                  \n",
    "\n",
    "    history = model.fit(X_partial_train, y_partial_train,\n",
    "                        validation_data=(X_val, y_val),\n",
    "                        epochs=num_epochs, batch_size=16, verbose=0)\n",
    "    \n",
    "    mae_history = history.history['val_mae']\n",
    "    all_mae_histories.append(mae_history)\n",
    "    i += 1"
   ]
  },
  {
   "cell_type": "markdown",
   "metadata": {},
   "source": [
    "We can now average across the 4 folds, and plot the evolution of the MAE"
   ]
  },
  {
   "cell_type": "code",
   "execution_count": 39,
   "metadata": {},
   "outputs": [],
   "source": [
    "average_mae_history = [\n",
    "    np.mean([x[i] for x in all_mae_histories]) for i in range(num_epochs)]"
   ]
  },
  {
   "cell_type": "code",
   "execution_count": 40,
   "metadata": {},
   "outputs": [
    {
     "data": {
      "image/png": "[encoded data removed]",
      "text/plain": [
       "<Figure size 432x288 with 1 Axes>"
      ]
     },
     "metadata": {
      "needs_background": "light"
     },
     "output_type": "display_data"
    }
   ],
   "source": [
    "plt.plot(range(1, len(average_mae_history) + 1), average_mae_history)\n",
    "plt.xlabel('Epochs')\n",
    "plt.ylabel('Validation MAE')\n",
    "plt.show()"
   ]
  },
  {
   "cell_type": "markdown",
   "metadata": {},
   "source": [
    "The large drop in MAE over the first few epochs makes it quite difficult to see if and when the model reached an optimum. We'll remake this plot without the first 10 values:"
   ]
  },
  {
   "cell_type": "code",
   "execution_count": 41,
   "metadata": {},
   "outputs": [
    {
     "data": {
      "image/png": "[encoded data removed]",
      "text/plain": [
       "<Figure size 432x288 with 1 Axes>"
      ]
     },
     "metadata": {
      "needs_background": "light"
     },
     "output_type": "display_data"
    }
   ],
   "source": [
    "average_mae_history2 = average_mae_history[10:]\n",
    "plt.plot(range(1, len(average_mae_history2) + 1), average_mae_history2)\n",
    "plt.xlabel('Epochs')\n",
    "plt.ylabel('Validation MAE')\n",
    "plt.show()"
   ]
  },
  {
   "cell_type": "raw",
   "metadata": {},
   "source": [
    "The plot suggests that, while there is no visible increase in the validation MAE, there is little improvement beyond about 125 epochs. Let's use this to train a final model on the full training dataset, and evaluate with the test set:"
   ]
  },
  {
   "cell_type": "code",
   "execution_count": null,
   "metadata": {},
   "outputs": [
    {
     "name": "stdout",
     "output_type": "stream",
     "text": [
      "Train on 404 samples, validate on 102 samples\n",
      "Epoch 1/125\n",
      "404/404 [==============================] - 1s 3ms/sample - loss: 457.8813 - mae: 19.3565 - val_loss: 351.3807 - val_mae: 15.9888\n",
      "Epoch 2/125\n",
      "404/404 [==============================] - 0s 504us/sample - loss: 256.7332 - mae: 13.6830 - val_loss: 164.4272 - val_mae: 9.5067\n",
      "Epoch 3/125\n",
      "404/404 [==============================] - 0s 470us/sample - loss: 106.3469 - mae: 8.1306 - val_loss: 73.3309 - val_mae: 6.1652\n",
      "Epoch 4/125\n",
      "404/404 [==============================] - 0s 392us/sample - loss: 59.8068 - mae: 5.6379 - val_loss: 47.4537 - val_mae: 4.8960\n",
      "Epoch 5/125\n",
      "404/404 [==============================] - 0s 399us/sample - loss: 43.0301 - mae: 4.5699 - val_loss: 27.8089 - val_mae: 3.8728\n",
      "Epoch 6/125\n",
      "404/404 [==============================] - 0s 476us/sample - loss: 32.7914 - mae: 3.8735 - val_loss: 19.4280 - val_mae: 3.3783\n",
      "Epoch 7/125\n",
      "404/404 [==============================] - 0s 555us/sample - loss: 27.0136 - mae: 3.4676 - val_loss: 14.1509 - val_mae: 2.9470\n",
      "Epoch 8/125\n",
      "404/404 [==============================] - 0s 464us/sample - loss: 24.0722 - mae: 3.2489 - val_loss: 12.9454 - val_mae: 2.7249\n",
      "Epoch 9/125\n",
      "404/404 [==============================] - 0s 404us/sample - loss: 21.9991 - mae: 3.0919 - val_loss: 13.0671 - val_mae: 2.6197\n",
      "Epoch 10/125\n",
      "404/404 [==============================] - 0s 408us/sample - loss: 20.1231 - mae: 2.9707 - val_loss: 12.4118 - val_mae: 2.5420\n",
      "Epoch 11/125\n",
      "404/404 [==============================] - 0s 412us/sample - loss: 18.8499 - mae: 2.9139 - val_loss: 11.7359 - val_mae: 2.4801\n",
      "Epoch 12/125\n",
      "404/404 [==============================] - 0s 419us/sample - loss: 17.8750 - mae: 2.8395 - val_loss: 10.1498 - val_mae: 2.3821\n",
      "Epoch 13/125\n",
      "404/404 [==============================] - 0s 440us/sample - loss: 16.9965 - mae: 2.7938 - val_loss: 10.7747 - val_mae: 2.4901\n",
      "Epoch 14/125\n",
      "404/404 [==============================] - 0s 576us/sample - loss: 15.8620 - mae: 2.6942 - val_loss: 10.7408 - val_mae: 2.6197\n",
      "Epoch 15/125\n",
      "404/404 [==============================] - 0s 594us/sample - loss: 15.3448 - mae: 2.6676 - val_loss: 10.0039 - val_mae: 2.4498\n",
      "Epoch 16/125\n",
      "404/404 [==============================] - 0s 529us/sample - loss: 14.7217 - mae: 2.5841 - val_loss: 9.5890 - val_mae: 2.3836\n",
      "Epoch 17/125\n",
      "404/404 [==============================] - 0s 446us/sample - loss: 14.2011 - mae: 2.5551 - val_loss: 10.8489 - val_mae: 2.4429\n",
      "Epoch 18/125\n",
      "404/404 [==============================] - 0s 458us/sample - loss: 13.8606 - mae: 2.5501 - val_loss: 10.9513 - val_mae: 2.3917\n",
      "Epoch 19/125\n",
      "404/404 [==============================] - 0s 574us/sample - loss: 13.3365 - mae: 2.4757 - val_loss: 11.1500 - val_mae: 2.5352\n",
      "Epoch 20/125\n",
      "404/404 [==============================] - 0s 567us/sample - loss: 12.9787 - mae: 2.4556 - val_loss: 10.4027 - val_mae: 2.2984\n",
      "Epoch 21/125\n",
      "404/404 [==============================] - 0s 595us/sample - loss: 13.0536 - mae: 2.4970 - val_loss: 9.4532 - val_mae: 2.3664\n",
      "Epoch 22/125\n",
      "404/404 [==============================] - 0s 461us/sample - loss: 12.4879 - mae: 2.4339 - val_loss: 10.1373 - val_mae: 2.3718\n",
      "Epoch 23/125\n",
      "404/404 [==============================] - 0s 482us/sample - loss: 12.3214 - mae: 2.3955 - val_loss: 10.1023 - val_mae: 2.3731\n",
      "Epoch 24/125\n",
      "404/404 [==============================] - 0s 538us/sample - loss: 11.9559 - mae: 2.3455 - val_loss: 10.4181 - val_mae: 2.4770\n",
      "Epoch 25/125\n",
      "404/404 [==============================] - 0s 622us/sample - loss: 11.3013 - mae: 2.3043 - val_loss: 12.4145 - val_mae: 2.7534\n",
      "Epoch 26/125\n",
      "404/404 [==============================] - 0s 469us/sample - loss: 11.5769 - mae: 2.3290 - val_loss: 9.6873 - val_mae: 2.2733\n",
      "Epoch 27/125\n",
      "404/404 [==============================] - 0s 544us/sample - loss: 11.4500 - mae: 2.2996 - val_loss: 9.0231 - val_mae: 2.3050\n",
      "Epoch 28/125\n",
      "404/404 [==============================] - 0s 595us/sample - loss: 11.0273 - mae: 2.2814 - val_loss: 9.2687 - val_mae: 2.3245\n",
      "Epoch 29/125\n",
      "404/404 [==============================] - 0s 639us/sample - loss: 10.9359 - mae: 2.2453 - val_loss: 10.0531 - val_mae: 2.4259\n",
      "Epoch 30/125\n",
      "404/404 [==============================] - 0s 632us/sample - loss: 10.5045 - mae: 2.2360 - val_loss: 9.8880 - val_mae: 2.5130\n",
      "Epoch 31/125\n",
      "404/404 [==============================] - 0s 523us/sample - loss: 10.5586 - mae: 2.2318 - val_loss: 8.7785 - val_mae: 2.2708\n",
      "Epoch 32/125\n",
      "404/404 [==============================] - 0s 486us/sample - loss: 10.2446 - mae: 2.2061 - val_loss: 9.5255 - val_mae: 2.3950\n",
      "Epoch 33/125\n",
      "404/404 [==============================] - 0s 655us/sample - loss: 10.2350 - mae: 2.1909 - val_loss: 9.2305 - val_mae: 2.2909\n",
      "Epoch 34/125\n",
      "404/404 [==============================] - 0s 659us/sample - loss: 9.8314 - mae: 2.1578 - val_loss: 10.0267 - val_mae: 2.4154\n",
      "Epoch 35/125\n",
      "404/404 [==============================] - 0s 606us/sample - loss: 9.8404 - mae: 2.1416 - val_loss: 10.0402 - val_mae: 2.4175\n",
      "Epoch 36/125\n",
      "404/404 [==============================] - 0s 600us/sample - loss: 9.5511 - mae: 2.1507 - val_loss: 9.9426 - val_mae: 2.3621\n",
      "Epoch 37/125\n",
      "404/404 [==============================] - 0s 502us/sample - loss: 9.4163 - mae: 2.1122 - val_loss: 10.4531 - val_mae: 2.3974\n",
      "Epoch 38/125\n",
      "404/404 [==============================] - 0s 466us/sample - loss: 9.4429 - mae: 2.1339 - val_loss: 9.6660 - val_mae: 2.3480\n",
      "Epoch 39/125\n",
      "404/404 [==============================] - 0s 524us/sample - loss: 9.4232 - mae: 2.1034 - val_loss: 9.3887 - val_mae: 2.2485\n",
      "Epoch 40/125\n",
      "404/404 [==============================] - 0s 625us/sample - loss: 9.0470 - mae: 2.0517 - val_loss: 10.8099 - val_mae: 2.4530\n",
      "Epoch 41/125\n",
      "404/404 [==============================] - 0s 614us/sample - loss: 8.7634 - mae: 2.0765 - val_loss: 10.7209 - val_mae: 2.3612\n",
      "Epoch 42/125\n",
      "404/404 [==============================] - 0s 583us/sample - loss: 8.5960 - mae: 2.0402 - val_loss: 11.2637 - val_mae: 2.4406\n",
      "Epoch 43/125\n",
      "404/404 [==============================] - 0s 568us/sample - loss: 8.5612 - mae: 2.0614 - val_loss: 9.5337 - val_mae: 2.2394\n",
      "Epoch 44/125\n",
      "404/404 [==============================] - 0s 492us/sample - loss: 8.6002 - mae: 2.0249 - val_loss: 11.4740 - val_mae: 2.5234\n",
      "Epoch 45/125\n",
      "404/404 [==============================] - 0s 454us/sample - loss: 8.4727 - mae: 2.0096 - val_loss: 11.8177 - val_mae: 2.5176\n",
      "Epoch 46/125\n",
      "404/404 [==============================] - 0s 469us/sample - loss: 8.2185 - mae: 1.9995 - val_loss: 11.2246 - val_mae: 2.4405\n",
      "Epoch 47/125\n",
      "404/404 [==============================] - 0s 447us/sample - loss: 8.1566 - mae: 1.9544 - val_loss: 10.6387 - val_mae: 2.4001\n",
      "Epoch 48/125\n",
      "404/404 [==============================] - 0s 438us/sample - loss: 7.6593 - mae: 1.9659 - val_loss: 8.7154 - val_mae: 2.1787\n",
      "Epoch 49/125\n",
      "404/404 [==============================] - 0s 445us/sample - loss: 8.1367 - mae: 1.9912 - val_loss: 10.4087 - val_mae: 2.3237\n",
      "Epoch 50/125\n",
      "404/404 [==============================] - 0s 460us/sample - loss: 7.8990 - mae: 1.9481 - val_loss: 11.3478 - val_mae: 2.5773\n",
      "Epoch 51/125\n",
      "404/404 [==============================] - 0s 445us/sample - loss: 7.8283 - mae: 1.9842 - val_loss: 10.9645 - val_mae: 2.3870\n",
      "Epoch 52/125\n",
      "404/404 [==============================] - 0s 439us/sample - loss: 7.7034 - mae: 1.9511 - val_loss: 12.2103 - val_mae: 2.5587\n",
      "Epoch 53/125\n",
      "404/404 [==============================] - 0s 471us/sample - loss: 7.6403 - mae: 1.9323 - val_loss: 10.6156 - val_mae: 2.4235\n",
      "Epoch 54/125\n",
      "404/404 [==============================] - 0s 448us/sample - loss: 7.5253 - mae: 1.9471 - val_loss: 9.0735 - val_mae: 2.2290\n",
      "Epoch 55/125\n",
      "404/404 [==============================] - 0s 460us/sample - loss: 7.6352 - mae: 1.9338 - val_loss: 11.0385 - val_mae: 2.4357\n",
      "Epoch 56/125\n",
      "404/404 [==============================] - 0s 458us/sample - loss: 7.3843 - mae: 1.8877 - val_loss: 9.7792 - val_mae: 2.2816\n",
      "Epoch 57/125\n",
      "404/404 [==============================] - 0s 492us/sample - loss: 7.1552 - mae: 1.9132 - val_loss: 9.1206 - val_mae: 2.2137\n",
      "Epoch 58/125\n",
      "404/404 [==============================] - 0s 476us/sample - loss: 7.1208 - mae: 1.9257 - val_loss: 9.3388 - val_mae: 2.2586\n",
      "Epoch 59/125\n"
     ]
    },
    {
     "name": "stdout",
     "output_type": "stream",
     "text": [
      "404/404 [==============================] - 0s 446us/sample - loss: 7.0200 - mae: 1.9166 - val_loss: 9.2801 - val_mae: 2.2177\n",
      "Epoch 60/125\n",
      "404/404 [==============================] - 0s 515us/sample - loss: 6.8246 - mae: 1.8616 - val_loss: 9.4825 - val_mae: 2.2315\n",
      "Epoch 61/125\n",
      "404/404 [==============================] - 0s 446us/sample - loss: 7.0083 - mae: 1.8868 - val_loss: 10.2945 - val_mae: 2.4214\n",
      "Epoch 62/125\n",
      "404/404 [==============================] - 0s 421us/sample - loss: 6.8131 - mae: 1.8595 - val_loss: 10.7596 - val_mae: 2.4279\n",
      "Epoch 63/125\n",
      "404/404 [==============================] - 0s 450us/sample - loss: 6.6862 - mae: 1.8512 - val_loss: 10.0170 - val_mae: 2.3307\n",
      "Epoch 64/125\n",
      "404/404 [==============================] - 0s 434us/sample - loss: 6.8615 - mae: 1.8747 - val_loss: 9.6359 - val_mae: 2.2249\n",
      "Epoch 65/125\n",
      "404/404 [==============================] - 0s 420us/sample - loss: 6.5984 - mae: 1.8357 - val_loss: 11.9349 - val_mae: 2.5294\n",
      "Epoch 66/125\n",
      "404/404 [==============================] - 0s 412us/sample - loss: 6.4249 - mae: 1.8298 - val_loss: 8.9436 - val_mae: 2.1635\n",
      "Epoch 67/125\n",
      "404/404 [==============================] - 0s 401us/sample - loss: 6.5147 - mae: 1.8077 - val_loss: 11.8955 - val_mae: 2.5246\n",
      "Epoch 68/125\n",
      "404/404 [==============================] - 0s 427us/sample - loss: 6.3849 - mae: 1.7972 - val_loss: 11.4560 - val_mae: 2.4800\n",
      "Epoch 69/125\n",
      "404/404 [==============================] - 0s 395us/sample - loss: 6.3140 - mae: 1.8003 - val_loss: 9.1021 - val_mae: 2.2082\n",
      "Epoch 70/125\n",
      "404/404 [==============================] - 0s 403us/sample - loss: 6.2693 - mae: 1.8129 - val_loss: 8.9645 - val_mae: 2.1761\n",
      "Epoch 71/125\n",
      "404/404 [==============================] - 0s 481us/sample - loss: 6.1416 - mae: 1.7751 - val_loss: 10.5793 - val_mae: 2.3566\n",
      "Epoch 72/125\n",
      "404/404 [==============================] - 0s 393us/sample - loss: 6.2665 - mae: 1.8035 - val_loss: 8.9788 - val_mae: 2.1835\n",
      "Epoch 73/125\n",
      "404/404 [==============================] - 0s 410us/sample - loss: 5.9533 - mae: 1.7500 - val_loss: 9.7589 - val_mae: 2.2738\n",
      "Epoch 74/125\n",
      "404/404 [==============================] - 0s 408us/sample - loss: 5.8210 - mae: 1.7711 - val_loss: 10.6148 - val_mae: 2.3511\n",
      "Epoch 75/125\n",
      "404/404 [==============================] - 0s 432us/sample - loss: 6.0531 - mae: 1.7796 - val_loss: 10.6048 - val_mae: 2.3800\n",
      "Epoch 76/125\n",
      "404/404 [==============================] - 0s 416us/sample - loss: 5.8265 - mae: 1.7497 - val_loss: 9.3186 - val_mae: 2.2302\n",
      "Epoch 77/125\n",
      "404/404 [==============================] - 0s 433us/sample - loss: 5.7473 - mae: 1.7297 - val_loss: 11.0071 - val_mae: 2.4349\n",
      "Epoch 78/125\n",
      "404/404 [==============================] - 0s 421us/sample - loss: 5.7838 - mae: 1.7315 - val_loss: 10.7951 - val_mae: 2.4118\n",
      "Epoch 79/125\n",
      "404/404 [==============================] - 0s 427us/sample - loss: 5.6921 - mae: 1.7180 - val_loss: 11.7836 - val_mae: 2.5220\n",
      "Epoch 80/125\n",
      "404/404 [==============================] - 0s 426us/sample - loss: 5.6334 - mae: 1.6875 - val_loss: 11.7203 - val_mae: 2.4782\n",
      "Epoch 81/125\n",
      "404/404 [==============================] - 0s 432us/sample - loss: 5.5591 - mae: 1.7071 - val_loss: 9.5147 - val_mae: 2.2372\n",
      "Epoch 82/125\n",
      "404/404 [==============================] - 0s 393us/sample - loss: 5.6808 - mae: 1.7231 - val_loss: 11.2638 - val_mae: 2.4409\n",
      "Epoch 83/125\n",
      "404/404 [==============================] - 0s 403us/sample - loss: 5.4024 - mae: 1.7095 - val_loss: 15.7206 - val_mae: 2.9009\n",
      "Epoch 84/125\n",
      "404/404 [==============================] - 0s 402us/sample - loss: 5.5589 - mae: 1.6956 - val_loss: 11.2906 - val_mae: 2.4622\n",
      "Epoch 85/125\n",
      "404/404 [==============================] - 0s 450us/sample - loss: 5.2304 - mae: 1.6415 - val_loss: 11.1410 - val_mae: 2.3809\n",
      "Epoch 86/125\n",
      "404/404 [==============================] - 0s 502us/sample - loss: 5.2203 - mae: 1.6884 - val_loss: 11.4084 - val_mae: 2.4557\n",
      "Epoch 87/125\n",
      "404/404 [==============================] - 0s 508us/sample - loss: 5.3482 - mae: 1.6674 - val_loss: 8.8161 - val_mae: 2.1799\n",
      "Epoch 88/125\n",
      "404/404 [==============================] - 0s 434us/sample - loss: 5.3510 - mae: 1.6616 - val_loss: 10.3424 - val_mae: 2.3014\n",
      "Epoch 89/125\n",
      "404/404 [==============================] - 0s 458us/sample - loss: 5.2736 - mae: 1.6980 - val_loss: 11.0072 - val_mae: 2.4104\n",
      "Epoch 90/125\n",
      "404/404 [==============================] - 0s 500us/sample - loss: 5.3059 - mae: 1.6524 - val_loss: 9.9275 - val_mae: 2.2788\n",
      "Epoch 91/125\n",
      "404/404 [==============================] - 0s 464us/sample - loss: 5.1231 - mae: 1.6237 - val_loss: 10.0571 - val_mae: 2.2701\n",
      "Epoch 92/125\n",
      "404/404 [==============================] - 0s 444us/sample - loss: 5.1927 - mae: 1.6569 - val_loss: 12.2654 - val_mae: 2.5394\n",
      "Epoch 93/125\n",
      "404/404 [==============================] - 0s 432us/sample - loss: 4.9998 - mae: 1.6295 - val_loss: 10.3320 - val_mae: 2.3801\n",
      "Epoch 94/125\n",
      "404/404 [==============================] - 0s 416us/sample - loss: 4.8847 - mae: 1.6198 - val_loss: 10.5957 - val_mae: 2.3258\n",
      "Epoch 95/125\n",
      "404/404 [==============================] - 0s 392us/sample - loss: 5.0235 - mae: 1.6292 - val_loss: 10.0930 - val_mae: 2.3445\n",
      "Epoch 96/125\n",
      "404/404 [==============================] - 0s 391us/sample - loss: 4.9932 - mae: 1.5924 - val_loss: 10.1643 - val_mae: 2.3424\n",
      "Epoch 97/125\n",
      "404/404 [==============================] - 0s 411us/sample - loss: 4.9079 - mae: 1.6206 - val_loss: 10.7180 - val_mae: 2.4330\n",
      "Epoch 98/125\n",
      "404/404 [==============================] - 0s 396us/sample - loss: 4.8667 - mae: 1.6397 - val_loss: 9.9997 - val_mae: 2.3528\n",
      "Epoch 99/125\n",
      "404/404 [==============================] - 0s 408us/sample - loss: 4.7082 - mae: 1.6002 - val_loss: 9.2541 - val_mae: 2.2355\n",
      "Epoch 100/125\n",
      "404/404 [==============================] - 0s 397us/sample - loss: 5.0749 - mae: 1.6017 - val_loss: 8.7912 - val_mae: 2.1648\n",
      "Epoch 101/125\n",
      "404/404 [==============================] - 0s 411us/sample - loss: 4.7292 - mae: 1.5843 - val_loss: 12.2594 - val_mae: 2.5883\n",
      "Epoch 102/125\n",
      "404/404 [==============================] - 0s 419us/sample - loss: 4.5555 - mae: 1.5520 - val_loss: 13.4212 - val_mae: 2.6985\n",
      "Epoch 103/125\n",
      "404/404 [==============================] - 0s 410us/sample - loss: 4.8062 - mae: 1.6010 - val_loss: 12.0903 - val_mae: 2.6646\n",
      "Epoch 104/125\n",
      "404/404 [==============================] - 0s 417us/sample - loss: 4.6694 - mae: 1.5933 - val_loss: 10.3154 - val_mae: 2.3371\n",
      "Epoch 105/125\n",
      "288/404 [====================>.........] - ETA: 0s - loss: 4.6347 - mae: 1.5288"
     ]
    }
   ],
   "source": [
    "model = build_model()\n",
    "history = model.fit(X_train, y_train,\n",
    "                        validation_data=(X_test, y_test),\n",
    "                        epochs=125, batch_size=16, verbose=0)"
   ]
  },
  {
   "cell_type": "code",
   "execution_count": null,
   "metadata": {},
   "outputs": [],
   "source": [
    "test_mse_score, test_mae_score = model.evaluate(X_test, y_test, verbose=0)"
   ]
  },
  {
   "cell_type": "code",
   "execution_count": null,
   "metadata": {},
   "outputs": [],
   "source": [
    "test_mae_score"
   ]
  },
  {
   "cell_type": "markdown",
   "metadata": {},
   "source": [
    "As before, there are several modifications you could try to this basic network to attempt to improve on this. "
   ]
  },
  {
   "cell_type": "markdown",
   "metadata": {},
   "source": [
    "## Exercise\n",
    "\n",
    "For the exercise we will once again use the data from the *Sonar.csv* file to model types of object (rocks 'R' or mines 'M') using the values of a set of frequency bands. The goal this time is to construct a neural network using Keras. You will need to do the following:\n",
    "\n",
    "- Import the data and divide it into a training and test set\n",
    "- Design a network\n",
    "- Train the network for a number of epochs with a validation set (use the `binary_crossentropy` loss function)\n",
    "- Identify the optimum number of epochs\n",
    "- Run the model with the full training set\n",
    "- Evaluate the model on the test set and report the *accuracy* of your final model\n",
    "\n",
    "All the code to do this is in the two examples of this lab. You submitted answers should contain:\n",
    "\n",
    "- A description of your network, including the summary table (from the `summary(model)` function)\n",
    "- A figure showing the evolution of the loss function and accuracy\n",
    "- The accuracy of your final model\n"
   ]
  },
  {
   "cell_type": "markdown",
   "metadata": {},
   "source": [
    "## Appendix\n",
    "\n",
    "### Boston housing dataset: *boston6k.csv*\n",
    "| Column header | Variable |\n",
    "| --- | --- |\n",
    "| ID | Sequential ID |\n",
    "| TOWN | Town names |\n",
    "| TOWNNO | Town ID |\n",
    "| TRACT | Tract ID numbers |\n",
    "| LON | Longitude in decimal degrees |\n",
    "| LAT | Latitude in decimal degrees |\n",
    "| MEDV | Median values of owner-occupied |\n",
    "|  | housing (USD 1000) |\n",
    "| CMEDV | Corrected median values of owner-occupied |\n",
    "|  | housing (USD 1000) |\n",
    "| CRIM | Per capita crime |\n",
    "| ZN | Proportion of residential land zoned |\n",
    "| | for lots over 25000 sq. ft |\n",
    "| INDUS | Proportions of non-retail business acres per town |\n",
    "| CHAS | 1 if tract borders Charles River; 0 otherwise |\n",
    "| NOX | Nitric oxides concentration (parts per 10 million) |\n",
    "| RM | Average numbers of rooms per dwelling |\n",
    "| AGE | Proportions of owner-occupied units built prior to 1940 |\n",
    "| DIS | Weighted distances to five Boston employment centers |\n",
    "| RAD | Index of accessibility to radial highways per town |\n",
    "| TAX | Property-tax rate per USD 10,000 per town |\n",
    "| PTRATIO | Pupil-teacher ratios per town |\n",
    "| B | Proportion African-American |\n",
    "| LSTAT | Percent lower status population |"
   ]
  }
 ],
 "metadata": {
  "kernelspec": {
   "display_name": "Python 3.8 (tensorflow)",
   "language": "python",
   "name": "tensorflow"
  },
  "language_info": {
   "codemirror_mode": {
    "name": "ipython",
    "version": 3
   },
   "file_extension": ".py",
   "mimetype": "text/x-python",
   "name": "python",
   "nbconvert_exporter": "python",
   "pygments_lexer": "ipython3",
   "version": "3.7.7"
  }
 },
 "nbformat": 4,
 "nbformat_minor": 4
}
