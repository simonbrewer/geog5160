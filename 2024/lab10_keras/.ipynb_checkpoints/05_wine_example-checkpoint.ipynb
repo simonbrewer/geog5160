{
 "cells": [
  {
   "cell_type": "markdown",
   "id": "2db4cff9",
   "metadata": {},
   "source": [
    "# Tensorflow Wine Example"
   ]
  },
  {
   "cell_type": "markdown",
   "id": "f177a9a8",
   "metadata": {},
   "source": [
    "Libraries and data"
   ]
  },
  {
   "cell_type": "code",
   "execution_count": 32,
   "id": "3a5df44c",
   "metadata": {},
   "outputs": [],
   "source": [
    "import numpy as np\n",
    "import pandas as pd\n",
    "import tensorflow as tf\n",
    "\n",
    "wine = pd.read_csv(\"../datafiles/winequality-red.csv\", sep = \";\")\n",
    "\n",
    "tf.random.set_seed(1234)"
   ]
  },
  {
   "cell_type": "code",
   "execution_count": 33,
   "id": "b862a9f5",
   "metadata": {},
   "outputs": [
    {
     "data": {
      "text/html": [
       "<div>\n",
       "<style scoped>\n",
       "    .dataframe tbody tr th:only-of-type {\n",
       "        vertical-align: middle;\n",
       "    }\n",
       "\n",
       "    .dataframe tbody tr th {\n",
       "        vertical-align: top;\n",
       "    }\n",
       "\n",
       "    .dataframe thead th {\n",
       "        text-align: right;\n",
       "    }\n",
       "</style>\n",
       "<table border=\"1\" class=\"dataframe\">\n",
       "  <thead>\n",
       "    <tr style=\"text-align: right;\">\n",
       "      <th></th>\n",
       "      <th>fixed acidity</th>\n",
       "      <th>volatile acidity</th>\n",
       "      <th>citric acid</th>\n",
       "      <th>residual sugar</th>\n",
       "      <th>chlorides</th>\n",
       "      <th>free sulfur dioxide</th>\n",
       "      <th>total sulfur dioxide</th>\n",
       "      <th>density</th>\n",
       "      <th>pH</th>\n",
       "      <th>sulphates</th>\n",
       "      <th>alcohol</th>\n",
       "      <th>quality</th>\n",
       "    </tr>\n",
       "  </thead>\n",
       "  <tbody>\n",
       "    <tr>\n",
       "      <th>0</th>\n",
       "      <td>7.4</td>\n",
       "      <td>0.70</td>\n",
       "      <td>0.00</td>\n",
       "      <td>1.9</td>\n",
       "      <td>0.076</td>\n",
       "      <td>11.0</td>\n",
       "      <td>34.0</td>\n",
       "      <td>0.9978</td>\n",
       "      <td>3.51</td>\n",
       "      <td>0.56</td>\n",
       "      <td>9.4</td>\n",
       "      <td>5</td>\n",
       "    </tr>\n",
       "    <tr>\n",
       "      <th>1</th>\n",
       "      <td>7.8</td>\n",
       "      <td>0.88</td>\n",
       "      <td>0.00</td>\n",
       "      <td>2.6</td>\n",
       "      <td>0.098</td>\n",
       "      <td>25.0</td>\n",
       "      <td>67.0</td>\n",
       "      <td>0.9968</td>\n",
       "      <td>3.20</td>\n",
       "      <td>0.68</td>\n",
       "      <td>9.8</td>\n",
       "      <td>5</td>\n",
       "    </tr>\n",
       "    <tr>\n",
       "      <th>2</th>\n",
       "      <td>7.8</td>\n",
       "      <td>0.76</td>\n",
       "      <td>0.04</td>\n",
       "      <td>2.3</td>\n",
       "      <td>0.092</td>\n",
       "      <td>15.0</td>\n",
       "      <td>54.0</td>\n",
       "      <td>0.9970</td>\n",
       "      <td>3.26</td>\n",
       "      <td>0.65</td>\n",
       "      <td>9.8</td>\n",
       "      <td>5</td>\n",
       "    </tr>\n",
       "    <tr>\n",
       "      <th>3</th>\n",
       "      <td>11.2</td>\n",
       "      <td>0.28</td>\n",
       "      <td>0.56</td>\n",
       "      <td>1.9</td>\n",
       "      <td>0.075</td>\n",
       "      <td>17.0</td>\n",
       "      <td>60.0</td>\n",
       "      <td>0.9980</td>\n",
       "      <td>3.16</td>\n",
       "      <td>0.58</td>\n",
       "      <td>9.8</td>\n",
       "      <td>6</td>\n",
       "    </tr>\n",
       "    <tr>\n",
       "      <th>4</th>\n",
       "      <td>7.4</td>\n",
       "      <td>0.70</td>\n",
       "      <td>0.00</td>\n",
       "      <td>1.9</td>\n",
       "      <td>0.076</td>\n",
       "      <td>11.0</td>\n",
       "      <td>34.0</td>\n",
       "      <td>0.9978</td>\n",
       "      <td>3.51</td>\n",
       "      <td>0.56</td>\n",
       "      <td>9.4</td>\n",
       "      <td>5</td>\n",
       "    </tr>\n",
       "  </tbody>\n",
       "</table>\n",
       "</div>"
      ],
      "text/plain": [
       "   fixed acidity  volatile acidity  citric acid  residual sugar  chlorides  \\\n",
       "0            7.4              0.70         0.00             1.9      0.076   \n",
       "1            7.8              0.88         0.00             2.6      0.098   \n",
       "2            7.8              0.76         0.04             2.3      0.092   \n",
       "3           11.2              0.28         0.56             1.9      0.075   \n",
       "4            7.4              0.70         0.00             1.9      0.076   \n",
       "\n",
       "   free sulfur dioxide  total sulfur dioxide  density    pH  sulphates  \\\n",
       "0                 11.0                  34.0   0.9978  3.51       0.56   \n",
       "1                 25.0                  67.0   0.9968  3.20       0.68   \n",
       "2                 15.0                  54.0   0.9970  3.26       0.65   \n",
       "3                 17.0                  60.0   0.9980  3.16       0.58   \n",
       "4                 11.0                  34.0   0.9978  3.51       0.56   \n",
       "\n",
       "   alcohol  quality  \n",
       "0      9.4        5  \n",
       "1      9.8        5  \n",
       "2      9.8        5  \n",
       "3      9.8        6  \n",
       "4      9.4        5  "
      ]
     },
     "execution_count": 33,
     "metadata": {},
     "output_type": "execute_result"
    }
   ],
   "source": [
    "wine.head()"
   ]
  },
  {
   "cell_type": "code",
   "execution_count": 34,
   "id": "efcb5c8b",
   "metadata": {},
   "outputs": [
    {
     "data": {
      "text/html": [
       "<div>\n",
       "<style scoped>\n",
       "    .dataframe tbody tr th:only-of-type {\n",
       "        vertical-align: middle;\n",
       "    }\n",
       "\n",
       "    .dataframe tbody tr th {\n",
       "        vertical-align: top;\n",
       "    }\n",
       "\n",
       "    .dataframe thead th {\n",
       "        text-align: right;\n",
       "    }\n",
       "</style>\n",
       "<table border=\"1\" class=\"dataframe\">\n",
       "  <thead>\n",
       "    <tr style=\"text-align: right;\">\n",
       "      <th></th>\n",
       "      <th>fixed acidity</th>\n",
       "      <th>volatile acidity</th>\n",
       "      <th>citric acid</th>\n",
       "      <th>residual sugar</th>\n",
       "      <th>chlorides</th>\n",
       "      <th>free sulfur dioxide</th>\n",
       "      <th>total sulfur dioxide</th>\n",
       "      <th>density</th>\n",
       "      <th>pH</th>\n",
       "      <th>sulphates</th>\n",
       "      <th>alcohol</th>\n",
       "      <th>quality</th>\n",
       "    </tr>\n",
       "  </thead>\n",
       "  <tbody>\n",
       "    <tr>\n",
       "      <th>count</th>\n",
       "      <td>1599.000000</td>\n",
       "      <td>1599.000000</td>\n",
       "      <td>1599.000000</td>\n",
       "      <td>1599.000000</td>\n",
       "      <td>1599.000000</td>\n",
       "      <td>1599.000000</td>\n",
       "      <td>1599.000000</td>\n",
       "      <td>1599.000000</td>\n",
       "      <td>1599.000000</td>\n",
       "      <td>1599.000000</td>\n",
       "      <td>1599.000000</td>\n",
       "      <td>1599.000000</td>\n",
       "    </tr>\n",
       "    <tr>\n",
       "      <th>mean</th>\n",
       "      <td>8.319637</td>\n",
       "      <td>0.527821</td>\n",
       "      <td>0.270976</td>\n",
       "      <td>2.538806</td>\n",
       "      <td>0.087467</td>\n",
       "      <td>15.874922</td>\n",
       "      <td>46.467792</td>\n",
       "      <td>0.996747</td>\n",
       "      <td>3.311113</td>\n",
       "      <td>0.658149</td>\n",
       "      <td>10.422983</td>\n",
       "      <td>5.636023</td>\n",
       "    </tr>\n",
       "    <tr>\n",
       "      <th>std</th>\n",
       "      <td>1.741096</td>\n",
       "      <td>0.179060</td>\n",
       "      <td>0.194801</td>\n",
       "      <td>1.409928</td>\n",
       "      <td>0.047065</td>\n",
       "      <td>10.460157</td>\n",
       "      <td>32.895324</td>\n",
       "      <td>0.001887</td>\n",
       "      <td>0.154386</td>\n",
       "      <td>0.169507</td>\n",
       "      <td>1.065668</td>\n",
       "      <td>0.807569</td>\n",
       "    </tr>\n",
       "    <tr>\n",
       "      <th>min</th>\n",
       "      <td>4.600000</td>\n",
       "      <td>0.120000</td>\n",
       "      <td>0.000000</td>\n",
       "      <td>0.900000</td>\n",
       "      <td>0.012000</td>\n",
       "      <td>1.000000</td>\n",
       "      <td>6.000000</td>\n",
       "      <td>0.990070</td>\n",
       "      <td>2.740000</td>\n",
       "      <td>0.330000</td>\n",
       "      <td>8.400000</td>\n",
       "      <td>3.000000</td>\n",
       "    </tr>\n",
       "    <tr>\n",
       "      <th>25%</th>\n",
       "      <td>7.100000</td>\n",
       "      <td>0.390000</td>\n",
       "      <td>0.090000</td>\n",
       "      <td>1.900000</td>\n",
       "      <td>0.070000</td>\n",
       "      <td>7.000000</td>\n",
       "      <td>22.000000</td>\n",
       "      <td>0.995600</td>\n",
       "      <td>3.210000</td>\n",
       "      <td>0.550000</td>\n",
       "      <td>9.500000</td>\n",
       "      <td>5.000000</td>\n",
       "    </tr>\n",
       "    <tr>\n",
       "      <th>50%</th>\n",
       "      <td>7.900000</td>\n",
       "      <td>0.520000</td>\n",
       "      <td>0.260000</td>\n",
       "      <td>2.200000</td>\n",
       "      <td>0.079000</td>\n",
       "      <td>14.000000</td>\n",
       "      <td>38.000000</td>\n",
       "      <td>0.996750</td>\n",
       "      <td>3.310000</td>\n",
       "      <td>0.620000</td>\n",
       "      <td>10.200000</td>\n",
       "      <td>6.000000</td>\n",
       "    </tr>\n",
       "    <tr>\n",
       "      <th>75%</th>\n",
       "      <td>9.200000</td>\n",
       "      <td>0.640000</td>\n",
       "      <td>0.420000</td>\n",
       "      <td>2.600000</td>\n",
       "      <td>0.090000</td>\n",
       "      <td>21.000000</td>\n",
       "      <td>62.000000</td>\n",
       "      <td>0.997835</td>\n",
       "      <td>3.400000</td>\n",
       "      <td>0.730000</td>\n",
       "      <td>11.100000</td>\n",
       "      <td>6.000000</td>\n",
       "    </tr>\n",
       "    <tr>\n",
       "      <th>max</th>\n",
       "      <td>15.900000</td>\n",
       "      <td>1.580000</td>\n",
       "      <td>1.000000</td>\n",
       "      <td>15.500000</td>\n",
       "      <td>0.611000</td>\n",
       "      <td>72.000000</td>\n",
       "      <td>289.000000</td>\n",
       "      <td>1.003690</td>\n",
       "      <td>4.010000</td>\n",
       "      <td>2.000000</td>\n",
       "      <td>14.900000</td>\n",
       "      <td>8.000000</td>\n",
       "    </tr>\n",
       "  </tbody>\n",
       "</table>\n",
       "</div>"
      ],
      "text/plain": [
       "       fixed acidity  volatile acidity  citric acid  residual sugar  \\\n",
       "count    1599.000000       1599.000000  1599.000000     1599.000000   \n",
       "mean        8.319637          0.527821     0.270976        2.538806   \n",
       "std         1.741096          0.179060     0.194801        1.409928   \n",
       "min         4.600000          0.120000     0.000000        0.900000   \n",
       "25%         7.100000          0.390000     0.090000        1.900000   \n",
       "50%         7.900000          0.520000     0.260000        2.200000   \n",
       "75%         9.200000          0.640000     0.420000        2.600000   \n",
       "max        15.900000          1.580000     1.000000       15.500000   \n",
       "\n",
       "         chlorides  free sulfur dioxide  total sulfur dioxide      density  \\\n",
       "count  1599.000000          1599.000000           1599.000000  1599.000000   \n",
       "mean      0.087467            15.874922             46.467792     0.996747   \n",
       "std       0.047065            10.460157             32.895324     0.001887   \n",
       "min       0.012000             1.000000              6.000000     0.990070   \n",
       "25%       0.070000             7.000000             22.000000     0.995600   \n",
       "50%       0.079000            14.000000             38.000000     0.996750   \n",
       "75%       0.090000            21.000000             62.000000     0.997835   \n",
       "max       0.611000            72.000000            289.000000     1.003690   \n",
       "\n",
       "                pH    sulphates      alcohol      quality  \n",
       "count  1599.000000  1599.000000  1599.000000  1599.000000  \n",
       "mean      3.311113     0.658149    10.422983     5.636023  \n",
       "std       0.154386     0.169507     1.065668     0.807569  \n",
       "min       2.740000     0.330000     8.400000     3.000000  \n",
       "25%       3.210000     0.550000     9.500000     5.000000  \n",
       "50%       3.310000     0.620000    10.200000     6.000000  \n",
       "75%       3.400000     0.730000    11.100000     6.000000  \n",
       "max       4.010000     2.000000    14.900000     8.000000  "
      ]
     },
     "execution_count": 34,
     "metadata": {},
     "output_type": "execute_result"
    }
   ],
   "source": [
    "wine.describe()"
   ]
  },
  {
   "cell_type": "code",
   "execution_count": 35,
   "id": "4d79d98c",
   "metadata": {},
   "outputs": [
    {
     "data": {
      "image/png": "[encoded data removed]",
      "text/plain": [
       "<Figure size 1440x1080 with 12 Axes>"
      ]
     },
     "metadata": {
      "needs_background": "light"
     },
     "output_type": "display_data"
    }
   ],
   "source": [
    "## %matplotlib inline\n",
    "import matplotlib.pyplot as plt\n",
    "wine.hist(bins=50, figsize=(20,15))\n",
    "plt.show()"
   ]
  },
  {
   "cell_type": "markdown",
   "id": "45a6ffbc",
   "metadata": {},
   "source": [
    "## Cross-validation"
   ]
  },
  {
   "cell_type": "code",
   "execution_count": 36,
   "id": "9aa1ca82",
   "metadata": {},
   "outputs": [],
   "source": [
    "from sklearn.model_selection import train_test_split\n",
    "\n",
    "train, test = train_test_split(wine, test_size=0.2, random_state=42)"
   ]
  },
  {
   "cell_type": "code",
   "execution_count": 37,
   "id": "62f8c539",
   "metadata": {},
   "outputs": [
    {
     "name": "stdout",
     "output_type": "stream",
     "text": [
      "(1279, 11)\n",
      "(1279,)\n"
     ]
    }
   ],
   "source": [
    "X_train = train.drop('quality', axis=1).values\n",
    "y_train = train['quality'].values\n",
    "print(X_train.shape)\n",
    "print(y_train.shape)"
   ]
  },
  {
   "cell_type": "code",
   "execution_count": 38,
   "id": "8c98caac",
   "metadata": {},
   "outputs": [
    {
     "name": "stdout",
     "output_type": "stream",
     "text": [
      "(320, 11)\n",
      "(320,)\n"
     ]
    }
   ],
   "source": [
    "X_test = test.drop('quality', axis=1).values\n",
    "y_test = test['quality'].values\n",
    "print(X_test.shape)\n",
    "print(y_test.shape)"
   ]
  },
  {
   "cell_type": "code",
   "execution_count": 39,
   "id": "e78f075d",
   "metadata": {},
   "outputs": [
    {
     "data": {
      "text/plain": [
       "StandardScaler()"
      ]
     },
     "execution_count": 39,
     "metadata": {},
     "output_type": "execute_result"
    }
   ],
   "source": [
    "from sklearn.preprocessing import StandardScaler\n",
    "scaler = StandardScaler()\n",
    "scaler.fit(X_train)"
   ]
  },
  {
   "cell_type": "code",
   "execution_count": 40,
   "id": "1bb5c66d",
   "metadata": {},
   "outputs": [],
   "source": [
    "X_train = scaler.transform(X_train)\n",
    "X_test = scaler.transform(X_test)"
   ]
  },
  {
   "cell_type": "markdown",
   "id": "635afeee",
   "metadata": {},
   "source": [
    "## Random forest (shallow learner)"
   ]
  },
  {
   "cell_type": "code",
   "execution_count": 41,
   "id": "71aac83d",
   "metadata": {},
   "outputs": [],
   "source": [
    "from sklearn.ensemble import RandomForestRegressor\n",
    "rf = RandomForestRegressor(n_estimators = 500)\n",
    "rf.fit(X_train, y_train)\n",
    "y_test_pred = rf.predict(X_test)"
   ]
  },
  {
   "cell_type": "code",
   "execution_count": 42,
   "id": "5c1658d1",
   "metadata": {},
   "outputs": [
    {
     "name": "stdout",
     "output_type": "stream",
     "text": [
      "Root mean squared error: 0.31\n"
     ]
    }
   ],
   "source": [
    "from sklearn.metrics import mean_squared_error\n",
    "print('Root mean squared error: %.2f'\n",
    "      % mean_squared_error(y_test, y_test_pred, squared = True))"
   ]
  },
  {
   "cell_type": "code",
   "execution_count": 43,
   "id": "35bbf3e7",
   "metadata": {},
   "outputs": [
    {
     "data": {
      "image/png": "[encoded data removed]",
      "text/plain": [
       "<Figure size 432x288 with 1 Axes>"
      ]
     },
     "metadata": {
      "needs_background": "light"
     },
     "output_type": "display_data"
    }
   ],
   "source": [
    "plt.scatter(y_test, y_test_pred)\n",
    "plt.show()"
   ]
  },
  {
   "cell_type": "markdown",
   "id": "7cf50c7c",
   "metadata": {},
   "source": [
    "## Tensorflow (deep learner)"
   ]
  },
  {
   "cell_type": "code",
   "execution_count": 44,
   "id": "ee1ebc5d",
   "metadata": {},
   "outputs": [
    {
     "ename": "ModuleNotFoundError",
     "evalue": "No module named 'tf'",
     "output_type": "error",
     "traceback": [
      "\u001b[0;31m---------------------------------------------------------------------------\u001b[0m",
      "\u001b[0;31mModuleNotFoundError\u001b[0m                       Traceback (most recent call last)",
      "Input \u001b[0;32mIn [44]\u001b[0m, in \u001b[0;36m<module>\u001b[0;34m\u001b[0m\n\u001b[0;32m----> 1\u001b[0m \u001b[38;5;28;01mfrom\u001b[39;00m \u001b[38;5;21;01mtf\u001b[39;00m\u001b[38;5;21;01m.\u001b[39;00m\u001b[38;5;21;01mkeras\u001b[39;00m \u001b[38;5;28;01mimport\u001b[39;00m models\n\u001b[1;32m      2\u001b[0m \u001b[38;5;28;01mfrom\u001b[39;00m \u001b[38;5;21;01mtf\u001b[39;00m\u001b[38;5;21;01m.\u001b[39;00m\u001b[38;5;21;01mkeras\u001b[39;00m \u001b[38;5;28;01mimport\u001b[39;00m layers\n",
      "\u001b[0;31mModuleNotFoundError\u001b[0m: No module named 'tf'"
     ]
    }
   ],
   "source": [
    "from tensorflow.keras import models\n",
    "from tensorflow.keras import layers"
   ]
  },
  {
   "cell_type": "code",
   "execution_count": 14,
   "id": "1009f2ec",
   "metadata": {},
   "outputs": [
    {
     "data": {
      "text/plain": [
       "(1279, 11)"
      ]
     },
     "execution_count": 14,
     "metadata": {},
     "output_type": "execute_result"
    }
   ],
   "source": [
    "X_train.shape"
   ]
  },
  {
   "cell_type": "code",
   "execution_count": 15,
   "id": "eb0711d9",
   "metadata": {},
   "outputs": [],
   "source": [
    "model = models.Sequential([\n",
    "  layers.Dense(64, activation='relu', input_shape=(11,)),\n",
    "  layers.Dense(1, activation='linear')\n",
    "])"
   ]
  },
  {
   "cell_type": "code",
   "execution_count": 16,
   "id": "a4d33af2",
   "metadata": {},
   "outputs": [
    {
     "data": {
      "image/png": "[encoded data removed]",
      "text/plain": [
       "<IPython.core.display.Image object>"
      ]
     },
     "execution_count": 16,
     "metadata": {},
     "output_type": "execute_result"
    }
   ],
   "source": [
    "from tensorflow.keras.utils import plot_model\n",
    "plot_model(model, show_shapes = True)"
   ]
  },
  {
   "cell_type": "code",
   "execution_count": 17,
   "id": "b01bacc4",
   "metadata": {},
   "outputs": [
    {
     "data": {
      "image/png": "[encoded data removed]",
      "text/plain": [
       "<IPython.core.display.Image object>"
      ]
     },
     "execution_count": 17,
     "metadata": {},
     "output_type": "execute_result"
    }
   ],
   "source": [
    "model = models.Sequential([\n",
    "  layers.Dense(64, activation='relu', input_shape=(11,)),\n",
    "  layers.Dense(32, activation='relu'),\n",
    "  layers.Dense(1, activation='linear')\n",
    "])\n",
    "plot_model(model, show_shapes = True)"
   ]
  },
  {
   "cell_type": "code",
   "execution_count": 18,
   "id": "85e16f48",
   "metadata": {},
   "outputs": [
    {
     "data": {
      "image/png": "[encoded data removed]",
      "text/plain": [
       "<IPython.core.display.Image object>"
      ]
     },
     "execution_count": 18,
     "metadata": {},
     "output_type": "execute_result"
    }
   ],
   "source": [
    "model = models.Sequential([\n",
    "  layers.Dense(64, activation='relu', input_shape=(11,)),\n",
    "  layers.Dense(32, activation='relu'),\n",
    "  layers.Dense(16, activation='relu'),\n",
    "  layers.Dense(1, activation='linear')\n",
    "])\n",
    "plot_model(model, show_shapes = True)"
   ]
  },
  {
   "cell_type": "code",
   "execution_count": 19,
   "id": "a467405d",
   "metadata": {},
   "outputs": [
    {
     "name": "stdout",
     "output_type": "stream",
     "text": [
      "Model: \"sequential_2\"\n",
      "_________________________________________________________________\n",
      "Layer (type)                 Output Shape              Param #   \n",
      "=================================================================\n",
      "dense_5 (Dense)              (None, 64)                768       \n",
      "_________________________________________________________________\n",
      "dense_6 (Dense)              (None, 32)                2080      \n",
      "_________________________________________________________________\n",
      "dense_7 (Dense)              (None, 16)                528       \n",
      "_________________________________________________________________\n",
      "dense_8 (Dense)              (None, 1)                 17        \n",
      "=================================================================\n",
      "Total params: 3,393\n",
      "Trainable params: 3,393\n",
      "Non-trainable params: 0\n",
      "_________________________________________________________________\n"
     ]
    }
   ],
   "source": [
    "model.summary()"
   ]
  },
  {
   "cell_type": "code",
   "execution_count": 20,
   "id": "e8bf0040",
   "metadata": {},
   "outputs": [],
   "source": [
    "from tensorflow.keras import optimizers\n",
    "optimizer = optimizers.RMSprop()\n",
    "\n",
    "model.compile(optimizer=optimizer, loss='mse', metrics=['mae'])"
   ]
  },
  {
   "cell_type": "code",
   "execution_count": 21,
   "id": "188122a6",
   "metadata": {},
   "outputs": [
    {
     "name": "stdout",
     "output_type": "stream",
     "text": [
      "Epoch 1/125\n",
      "WARNING:tensorflow:AutoGraph could not transform <function Model.make_train_function.<locals>.train_function at 0x29519ac10> and will run it as-is.\n",
      "Please report this to the TensorFlow team. When filing the bug, set the verbosity to 10 (on Linux, `export AUTOGRAPH_VERBOSITY=10`) and attach the full output.\n",
      "Cause: unsupported operand type(s) for -: 'NoneType' and 'int'\n",
      "To silence this warning, decorate the function with @tf.autograph.experimental.do_not_convert\n",
      "WARNING: AutoGraph could not transform <function Model.make_train_function.<locals>.train_function at 0x29519ac10> and will run it as-is.\n",
      "Please report this to the TensorFlow team. When filing the bug, set the verbosity to 10 (on Linux, `export AUTOGRAPH_VERBOSITY=10`) and attach the full output.\n",
      "Cause: unsupported operand type(s) for -: 'NoneType' and 'int'\n",
      "To silence this warning, decorate the function with @tf.autograph.experimental.do_not_convert\n",
      " 1/80 [..............................] - ETA: 13s - loss: 34.7753 - mae: 5.8468"
     ]
    },
    {
     "name": "stderr",
     "output_type": "stream",
     "text": [
      "2023-04-16 17:16:42.636364: I tensorflow/compiler/mlir/mlir_graph_optimization_pass.cc:116] None of the MLIR optimization passes are enabled (registered 2)\n",
      "2023-04-16 17:16:42.636535: W tensorflow/core/platform/profile_utils/cpu_utils.cc:126] Failed to get CPU frequency: 0 Hz\n"
     ]
    },
    {
     "name": "stdout",
     "output_type": "stream",
     "text": [
      "WARNING:tensorflow:AutoGraph could not transform <function Model.make_test_function.<locals>.test_function at 0x298521940> and will run it as-is.\n",
      "Please report this to the TensorFlow team. When filing the bug, set the verbosity to 10 (on Linux, `export AUTOGRAPH_VERBOSITY=10`) and attach the full output.\n",
      "Cause: unsupported operand type(s) for -: 'NoneType' and 'int'\n",
      "To silence this warning, decorate the function with @tf.autograph.experimental.do_not_convert\n",
      "WARNING: AutoGraph could not transform <function Model.make_test_function.<locals>.test_function at 0x298521940> and will run it as-is.\n",
      "Please report this to the TensorFlow team. When filing the bug, set the verbosity to 10 (on Linux, `export AUTOGRAPH_VERBOSITY=10`) and attach the full output.\n",
      "Cause: unsupported operand type(s) for -: 'NoneType' and 'int'\n",
      "To silence this warning, decorate the function with @tf.autograph.experimental.do_not_convert\n",
      "80/80 [==============================] - 1s 5ms/step - loss: 19.2119 - mae: 4.0641 - val_loss: 2.6318 - val_mae: 1.2732\n",
      "Epoch 2/125\n",
      "80/80 [==============================] - 0s 655us/step - loss: 2.1888 - mae: 1.1490 - val_loss: 1.5059 - val_mae: 0.9613\n",
      "Epoch 3/125\n",
      "80/80 [==============================] - 0s 713us/step - loss: 1.3848 - mae: 0.8862 - val_loss: 1.1089 - val_mae: 0.8372\n",
      "Epoch 4/125\n",
      "80/80 [==============================] - 0s 704us/step - loss: 0.9142 - mae: 0.7283 - val_loss: 0.8957 - val_mae: 0.7689\n",
      "Epoch 5/125\n",
      "80/80 [==============================] - 0s 662us/step - loss: 0.7589 - mae: 0.6724 - val_loss: 0.7259 - val_mae: 0.6777\n",
      "Epoch 6/125\n",
      "80/80 [==============================] - 0s 648us/step - loss: 0.6590 - mae: 0.6211 - val_loss: 0.6065 - val_mae: 0.6206\n",
      "Epoch 7/125\n",
      "80/80 [==============================] - 0s 663us/step - loss: 0.6248 - mae: 0.6106 - val_loss: 0.5235 - val_mae: 0.5851\n",
      "Epoch 8/125\n",
      "80/80 [==============================] - 0s 653us/step - loss: 0.5642 - mae: 0.5865 - val_loss: 0.4878 - val_mae: 0.5620\n",
      "Epoch 9/125\n",
      "80/80 [==============================] - 0s 618us/step - loss: 0.4882 - mae: 0.5401 - val_loss: 0.4847 - val_mae: 0.5670\n",
      "Epoch 10/125\n",
      "80/80 [==============================] - 0s 596us/step - loss: 0.4887 - mae: 0.5425 - val_loss: 0.4500 - val_mae: 0.5441\n",
      "Epoch 11/125\n",
      "80/80 [==============================] - 0s 622us/step - loss: 0.4530 - mae: 0.5242 - val_loss: 0.4766 - val_mae: 0.5644\n",
      "Epoch 12/125\n",
      "80/80 [==============================] - 0s 585us/step - loss: 0.4084 - mae: 0.4954 - val_loss: 0.4202 - val_mae: 0.5301\n",
      "Epoch 13/125\n",
      "80/80 [==============================] - 0s 590us/step - loss: 0.4149 - mae: 0.4914 - val_loss: 0.4275 - val_mae: 0.5259\n",
      "Epoch 14/125\n",
      "80/80 [==============================] - 0s 586us/step - loss: 0.4038 - mae: 0.4949 - val_loss: 0.4142 - val_mae: 0.5090\n",
      "Epoch 15/125\n",
      "80/80 [==============================] - 0s 576us/step - loss: 0.3939 - mae: 0.4917 - val_loss: 0.3846 - val_mae: 0.4982\n",
      "Epoch 16/125\n",
      "80/80 [==============================] - 0s 587us/step - loss: 0.3914 - mae: 0.4897 - val_loss: 0.3917 - val_mae: 0.5006\n",
      "Epoch 17/125\n",
      "80/80 [==============================] - 0s 619us/step - loss: 0.4191 - mae: 0.4969 - val_loss: 0.3975 - val_mae: 0.5052\n",
      "Epoch 18/125\n",
      "80/80 [==============================] - 0s 601us/step - loss: 0.3624 - mae: 0.4662 - val_loss: 0.3945 - val_mae: 0.5073\n",
      "Epoch 19/125\n",
      "80/80 [==============================] - 0s 591us/step - loss: 0.3806 - mae: 0.4782 - val_loss: 0.4259 - val_mae: 0.5131\n",
      "Epoch 20/125\n",
      "80/80 [==============================] - 0s 619us/step - loss: 0.3514 - mae: 0.4544 - val_loss: 0.3853 - val_mae: 0.4960\n",
      "Epoch 21/125\n",
      "80/80 [==============================] - 0s 587us/step - loss: 0.3396 - mae: 0.4526 - val_loss: 0.3967 - val_mae: 0.5072\n",
      "Epoch 22/125\n",
      "80/80 [==============================] - 0s 584us/step - loss: 0.3601 - mae: 0.4628 - val_loss: 0.4123 - val_mae: 0.5186\n",
      "Epoch 23/125\n",
      "80/80 [==============================] - 0s 577us/step - loss: 0.3253 - mae: 0.4406 - val_loss: 0.4262 - val_mae: 0.5150\n",
      "Epoch 24/125\n",
      "80/80 [==============================] - 0s 577us/step - loss: 0.3501 - mae: 0.4571 - val_loss: 0.4273 - val_mae: 0.5174\n",
      "Epoch 25/125\n",
      "80/80 [==============================] - 0s 599us/step - loss: 0.3530 - mae: 0.4513 - val_loss: 0.3726 - val_mae: 0.4873\n",
      "Epoch 26/125\n",
      "80/80 [==============================] - 0s 602us/step - loss: 0.3514 - mae: 0.4611 - val_loss: 0.3831 - val_mae: 0.4945\n",
      "Epoch 27/125\n",
      "80/80 [==============================] - 0s 568us/step - loss: 0.2970 - mae: 0.4216 - val_loss: 0.4156 - val_mae: 0.5133\n",
      "Epoch 28/125\n",
      "80/80 [==============================] - 0s 567us/step - loss: 0.3187 - mae: 0.4373 - val_loss: 0.3842 - val_mae: 0.4972\n",
      "Epoch 29/125\n",
      "80/80 [==============================] - 0s 565us/step - loss: 0.3000 - mae: 0.4239 - val_loss: 0.4169 - val_mae: 0.5074\n",
      "Epoch 30/125\n",
      "80/80 [==============================] - 0s 613us/step - loss: 0.3111 - mae: 0.4290 - val_loss: 0.4045 - val_mae: 0.5012\n",
      "Epoch 31/125\n",
      "80/80 [==============================] - 0s 598us/step - loss: 0.3422 - mae: 0.4420 - val_loss: 0.4411 - val_mae: 0.5388\n",
      "Epoch 32/125\n",
      "80/80 [==============================] - 0s 611us/step - loss: 0.3301 - mae: 0.4406 - val_loss: 0.3814 - val_mae: 0.4888\n",
      "Epoch 33/125\n",
      "80/80 [==============================] - 0s 586us/step - loss: 0.2957 - mae: 0.4198 - val_loss: 0.3720 - val_mae: 0.4787\n",
      "Epoch 34/125\n",
      "80/80 [==============================] - 0s 577us/step - loss: 0.3245 - mae: 0.4402 - val_loss: 0.4036 - val_mae: 0.5009\n",
      "Epoch 35/125\n",
      "80/80 [==============================] - 0s 586us/step - loss: 0.3091 - mae: 0.4339 - val_loss: 0.4160 - val_mae: 0.5057\n",
      "Epoch 36/125\n",
      "80/80 [==============================] - 0s 592us/step - loss: 0.3046 - mae: 0.4201 - val_loss: 0.3786 - val_mae: 0.4976\n",
      "Epoch 37/125\n",
      "80/80 [==============================] - 0s 577us/step - loss: 0.3125 - mae: 0.4280 - val_loss: 0.4302 - val_mae: 0.5201\n",
      "Epoch 38/125\n",
      "80/80 [==============================] - 0s 620us/step - loss: 0.3100 - mae: 0.4215 - val_loss: 0.3972 - val_mae: 0.4971\n",
      "Epoch 39/125\n",
      "80/80 [==============================] - 0s 602us/step - loss: 0.3043 - mae: 0.4344 - val_loss: 0.4358 - val_mae: 0.5247\n",
      "Epoch 40/125\n",
      "80/80 [==============================] - 0s 616us/step - loss: 0.3201 - mae: 0.4415 - val_loss: 0.4185 - val_mae: 0.5113\n",
      "Epoch 41/125\n",
      "80/80 [==============================] - 0s 585us/step - loss: 0.2814 - mae: 0.4070 - val_loss: 0.3707 - val_mae: 0.4853\n",
      "Epoch 42/125\n",
      "80/80 [==============================] - 0s 562us/step - loss: 0.3075 - mae: 0.4254 - val_loss: 0.3962 - val_mae: 0.4969\n",
      "Epoch 43/125\n",
      "80/80 [==============================] - 0s 581us/step - loss: 0.2917 - mae: 0.4147 - val_loss: 0.3847 - val_mae: 0.4821\n",
      "Epoch 44/125\n",
      "80/80 [==============================] - 0s 594us/step - loss: 0.3011 - mae: 0.4261 - val_loss: 0.4097 - val_mae: 0.4853\n",
      "Epoch 45/125\n",
      "80/80 [==============================] - 0s 582us/step - loss: 0.2933 - mae: 0.4105 - val_loss: 0.4045 - val_mae: 0.5021\n",
      "Epoch 46/125\n",
      "80/80 [==============================] - 0s 582us/step - loss: 0.2958 - mae: 0.4212 - val_loss: 0.3930 - val_mae: 0.4847\n",
      "Epoch 47/125\n",
      "80/80 [==============================] - 0s 580us/step - loss: 0.2813 - mae: 0.4059 - val_loss: 0.3989 - val_mae: 0.4922\n",
      "Epoch 48/125\n",
      "80/80 [==============================] - 0s 583us/step - loss: 0.2837 - mae: 0.4070 - val_loss: 0.4159 - val_mae: 0.5026\n",
      "Epoch 49/125\n",
      "80/80 [==============================] - 0s 607us/step - loss: 0.2657 - mae: 0.4041 - val_loss: 0.3906 - val_mae: 0.4870\n",
      "Epoch 50/125\n",
      "80/80 [==============================] - 0s 622us/step - loss: 0.2712 - mae: 0.4037 - val_loss: 0.3851 - val_mae: 0.4799\n",
      "Epoch 51/125\n",
      "80/80 [==============================] - 0s 647us/step - loss: 0.2679 - mae: 0.3956 - val_loss: 0.4594 - val_mae: 0.5326\n",
      "Epoch 52/125\n",
      "80/80 [==============================] - 0s 668us/step - loss: 0.2909 - mae: 0.4030 - val_loss: 0.3852 - val_mae: 0.4826\n",
      "Epoch 53/125\n",
      "80/80 [==============================] - 0s 649us/step - loss: 0.2722 - mae: 0.3950 - val_loss: 0.4090 - val_mae: 0.4910\n",
      "Epoch 54/125\n",
      "80/80 [==============================] - 0s 640us/step - loss: 0.2737 - mae: 0.3942 - val_loss: 0.4267 - val_mae: 0.5071\n",
      "Epoch 55/125\n"
     ]
    },
    {
     "name": "stdout",
     "output_type": "stream",
     "text": [
      "80/80 [==============================] - 0s 642us/step - loss: 0.2656 - mae: 0.3920 - val_loss: 0.3723 - val_mae: 0.4722\n",
      "Epoch 56/125\n",
      "80/80 [==============================] - 0s 642us/step - loss: 0.3058 - mae: 0.4188 - val_loss: 0.4039 - val_mae: 0.4904\n",
      "Epoch 57/125\n",
      "80/80 [==============================] - 0s 601us/step - loss: 0.2536 - mae: 0.3855 - val_loss: 0.3999 - val_mae: 0.4938\n",
      "Epoch 58/125\n",
      "80/80 [==============================] - 0s 594us/step - loss: 0.2779 - mae: 0.4008 - val_loss: 0.4528 - val_mae: 0.5187\n",
      "Epoch 59/125\n",
      "80/80 [==============================] - 0s 571us/step - loss: 0.2798 - mae: 0.4078 - val_loss: 0.4134 - val_mae: 0.5000\n",
      "Epoch 60/125\n",
      "80/80 [==============================] - 0s 569us/step - loss: 0.2561 - mae: 0.3951 - val_loss: 0.4299 - val_mae: 0.5107\n",
      "Epoch 61/125\n",
      "80/80 [==============================] - 0s 569us/step - loss: 0.2497 - mae: 0.3826 - val_loss: 0.3921 - val_mae: 0.4969\n",
      "Epoch 62/125\n",
      "80/80 [==============================] - 0s 564us/step - loss: 0.2490 - mae: 0.3808 - val_loss: 0.4136 - val_mae: 0.5098\n",
      "Epoch 63/125\n",
      "80/80 [==============================] - 0s 605us/step - loss: 0.2512 - mae: 0.3825 - val_loss: 0.4154 - val_mae: 0.5092\n",
      "Epoch 64/125\n",
      "80/80 [==============================] - 0s 629us/step - loss: 0.2675 - mae: 0.3938 - val_loss: 0.4530 - val_mae: 0.5295\n",
      "Epoch 65/125\n",
      "80/80 [==============================] - 0s 627us/step - loss: 0.2457 - mae: 0.3809 - val_loss: 0.3935 - val_mae: 0.4839\n",
      "Epoch 66/125\n",
      "80/80 [==============================] - 0s 632us/step - loss: 0.2413 - mae: 0.3717 - val_loss: 0.4835 - val_mae: 0.5435\n",
      "Epoch 67/125\n",
      "80/80 [==============================] - 0s 587us/step - loss: 0.2356 - mae: 0.3709 - val_loss: 0.3975 - val_mae: 0.4896\n",
      "Epoch 68/125\n",
      "80/80 [==============================] - 0s 582us/step - loss: 0.2407 - mae: 0.3807 - val_loss: 0.3998 - val_mae: 0.4847\n",
      "Epoch 69/125\n",
      "80/80 [==============================] - 0s 575us/step - loss: 0.2454 - mae: 0.3782 - val_loss: 0.3905 - val_mae: 0.4817\n",
      "Epoch 70/125\n",
      "80/80 [==============================] - 0s 575us/step - loss: 0.2483 - mae: 0.3853 - val_loss: 0.4068 - val_mae: 0.4954\n",
      "Epoch 71/125\n",
      "80/80 [==============================] - 0s 558us/step - loss: 0.2394 - mae: 0.3779 - val_loss: 0.3872 - val_mae: 0.4946\n",
      "Epoch 72/125\n",
      "80/80 [==============================] - 0s 610us/step - loss: 0.2555 - mae: 0.3863 - val_loss: 0.3974 - val_mae: 0.4931\n",
      "Epoch 73/125\n",
      "80/80 [==============================] - 0s 629us/step - loss: 0.2197 - mae: 0.3633 - val_loss: 0.4115 - val_mae: 0.4861\n",
      "Epoch 74/125\n",
      "80/80 [==============================] - 0s 651us/step - loss: 0.2282 - mae: 0.3655 - val_loss: 0.4294 - val_mae: 0.5059\n",
      "Epoch 75/125\n",
      "80/80 [==============================] - 0s 664us/step - loss: 0.2261 - mae: 0.3621 - val_loss: 0.3940 - val_mae: 0.4843\n",
      "Epoch 76/125\n",
      "80/80 [==============================] - 0s 634us/step - loss: 0.2170 - mae: 0.3538 - val_loss: 0.4111 - val_mae: 0.4944\n",
      "Epoch 77/125\n",
      "80/80 [==============================] - 0s 638us/step - loss: 0.2447 - mae: 0.3758 - val_loss: 0.3954 - val_mae: 0.4898\n",
      "Epoch 78/125\n",
      "80/80 [==============================] - 0s 638us/step - loss: 0.2243 - mae: 0.3680 - val_loss: 0.3908 - val_mae: 0.4789\n",
      "Epoch 79/125\n",
      "80/80 [==============================] - 0s 633us/step - loss: 0.2195 - mae: 0.3614 - val_loss: 0.4424 - val_mae: 0.5179\n",
      "Epoch 80/125\n",
      "80/80 [==============================] - 0s 713us/step - loss: 0.2215 - mae: 0.3528 - val_loss: 0.4288 - val_mae: 0.5120\n",
      "Epoch 81/125\n",
      "80/80 [==============================] - 0s 644us/step - loss: 0.2334 - mae: 0.3673 - val_loss: 0.3928 - val_mae: 0.4777\n",
      "Epoch 82/125\n",
      "80/80 [==============================] - 0s 639us/step - loss: 0.2153 - mae: 0.3597 - val_loss: 0.4030 - val_mae: 0.4918\n",
      "Epoch 83/125\n",
      "80/80 [==============================] - 0s 678us/step - loss: 0.2313 - mae: 0.3680 - val_loss: 0.3904 - val_mae: 0.4774\n",
      "Epoch 84/125\n",
      "80/80 [==============================] - 0s 634us/step - loss: 0.2110 - mae: 0.3529 - val_loss: 0.4093 - val_mae: 0.4880\n",
      "Epoch 85/125\n",
      "80/80 [==============================] - 0s 651us/step - loss: 0.2204 - mae: 0.3544 - val_loss: 0.3967 - val_mae: 0.4827\n",
      "Epoch 86/125\n",
      "80/80 [==============================] - 0s 665us/step - loss: 0.2237 - mae: 0.3547 - val_loss: 0.4304 - val_mae: 0.5185\n",
      "Epoch 87/125\n",
      "80/80 [==============================] - 0s 673us/step - loss: 0.2107 - mae: 0.3477 - val_loss: 0.4053 - val_mae: 0.4793\n",
      "Epoch 88/125\n",
      "80/80 [==============================] - 0s 651us/step - loss: 0.2068 - mae: 0.3409 - val_loss: 0.4203 - val_mae: 0.4937\n",
      "Epoch 89/125\n",
      "80/80 [==============================] - 0s 644us/step - loss: 0.1898 - mae: 0.3308 - val_loss: 0.4476 - val_mae: 0.5179\n",
      "Epoch 90/125\n",
      "80/80 [==============================] - 0s 641us/step - loss: 0.1893 - mae: 0.3332 - val_loss: 0.4317 - val_mae: 0.5094\n",
      "Epoch 91/125\n",
      "80/80 [==============================] - 0s 652us/step - loss: 0.2115 - mae: 0.3584 - val_loss: 0.4639 - val_mae: 0.5278\n",
      "Epoch 92/125\n",
      "80/80 [==============================] - 0s 771us/step - loss: 0.2061 - mae: 0.3516 - val_loss: 0.4530 - val_mae: 0.5121\n",
      "Epoch 93/125\n",
      "80/80 [==============================] - 0s 652us/step - loss: 0.2063 - mae: 0.3526 - val_loss: 0.4380 - val_mae: 0.4932\n",
      "Epoch 94/125\n",
      "80/80 [==============================] - 0s 653us/step - loss: 0.2055 - mae: 0.3515 - val_loss: 0.3932 - val_mae: 0.4752\n",
      "Epoch 95/125\n",
      "80/80 [==============================] - 0s 670us/step - loss: 0.2013 - mae: 0.3426 - val_loss: 0.4444 - val_mae: 0.5150\n",
      "Epoch 96/125\n",
      "80/80 [==============================] - 0s 619us/step - loss: 0.2228 - mae: 0.3547 - val_loss: 0.4032 - val_mae: 0.4820\n",
      "Epoch 97/125\n",
      "80/80 [==============================] - 0s 622us/step - loss: 0.2055 - mae: 0.3485 - val_loss: 0.4298 - val_mae: 0.5000\n",
      "Epoch 98/125\n",
      "80/80 [==============================] - 0s 628us/step - loss: 0.2226 - mae: 0.3609 - val_loss: 0.5177 - val_mae: 0.5593\n",
      "Epoch 99/125\n",
      "80/80 [==============================] - 0s 615us/step - loss: 0.1975 - mae: 0.3336 - val_loss: 0.3919 - val_mae: 0.4819\n",
      "Epoch 100/125\n",
      "80/80 [==============================] - 0s 618us/step - loss: 0.1905 - mae: 0.3340 - val_loss: 0.4502 - val_mae: 0.5055\n",
      "Epoch 101/125\n",
      "80/80 [==============================] - 0s 620us/step - loss: 0.1960 - mae: 0.3317 - val_loss: 0.4398 - val_mae: 0.4929\n",
      "Epoch 102/125\n",
      "80/80 [==============================] - 0s 591us/step - loss: 0.2086 - mae: 0.3461 - val_loss: 0.4018 - val_mae: 0.4780\n",
      "Epoch 103/125\n",
      "80/80 [==============================] - 0s 584us/step - loss: 0.1864 - mae: 0.3272 - val_loss: 0.4160 - val_mae: 0.4939\n",
      "Epoch 104/125\n",
      "80/80 [==============================] - 0s 620us/step - loss: 0.1956 - mae: 0.3297 - val_loss: 0.4487 - val_mae: 0.5130\n",
      "Epoch 105/125\n",
      "80/80 [==============================] - 0s 604us/step - loss: 0.2075 - mae: 0.3440 - val_loss: 0.4434 - val_mae: 0.5143\n",
      "Epoch 106/125\n",
      "80/80 [==============================] - 0s 575us/step - loss: 0.2010 - mae: 0.3454 - val_loss: 0.4174 - val_mae: 0.4845\n",
      "Epoch 107/125\n",
      "80/80 [==============================] - 0s 586us/step - loss: 0.1903 - mae: 0.3335 - val_loss: 0.5186 - val_mae: 0.5323\n",
      "Epoch 108/125\n",
      "80/80 [==============================] - 0s 584us/step - loss: 0.1861 - mae: 0.3325 - val_loss: 0.4178 - val_mae: 0.5094\n",
      "Epoch 109/125\n",
      "80/80 [==============================] - 0s 582us/step - loss: 0.1964 - mae: 0.3440 - val_loss: 0.4518 - val_mae: 0.5162\n",
      "Epoch 110/125\n",
      "80/80 [==============================] - 0s 615us/step - loss: 0.1871 - mae: 0.3307 - val_loss: 0.4238 - val_mae: 0.5014\n",
      "Epoch 111/125\n",
      "80/80 [==============================] - 0s 619us/step - loss: 0.1986 - mae: 0.3412 - val_loss: 0.3835 - val_mae: 0.4758\n",
      "Epoch 112/125\n",
      "80/80 [==============================] - 0s 611us/step - loss: 0.1932 - mae: 0.3316 - val_loss: 0.4679 - val_mae: 0.5368\n",
      "Epoch 113/125\n",
      "80/80 [==============================] - 0s 589us/step - loss: 0.1963 - mae: 0.3358 - val_loss: 0.4086 - val_mae: 0.4869\n",
      "Epoch 114/125\n",
      "80/80 [==============================] - 0s 571us/step - loss: 0.1936 - mae: 0.3345 - val_loss: 0.3974 - val_mae: 0.4784\n",
      "Epoch 115/125\n",
      "80/80 [==============================] - 0s 588us/step - loss: 0.1798 - mae: 0.3244 - val_loss: 0.4811 - val_mae: 0.5338\n",
      "Epoch 116/125\n"
     ]
    },
    {
     "name": "stdout",
     "output_type": "stream",
     "text": [
      "80/80 [==============================] - 0s 600us/step - loss: 0.1846 - mae: 0.3238 - val_loss: 0.4464 - val_mae: 0.4963\n",
      "Epoch 117/125\n",
      "80/80 [==============================] - 0s 565us/step - loss: 0.1861 - mae: 0.3303 - val_loss: 0.4684 - val_mae: 0.5099\n",
      "Epoch 118/125\n",
      "80/80 [==============================] - 0s 554us/step - loss: 0.1813 - mae: 0.3227 - val_loss: 0.4483 - val_mae: 0.5155\n",
      "Epoch 119/125\n",
      "80/80 [==============================] - 0s 541us/step - loss: 0.1988 - mae: 0.3350 - val_loss: 0.4188 - val_mae: 0.4994\n",
      "Epoch 120/125\n",
      "80/80 [==============================] - 0s 545us/step - loss: 0.1742 - mae: 0.3179 - val_loss: 0.4496 - val_mae: 0.5101\n",
      "Epoch 121/125\n",
      "80/80 [==============================] - 0s 538us/step - loss: 0.1832 - mae: 0.3244 - val_loss: 0.4272 - val_mae: 0.4872\n",
      "Epoch 122/125\n",
      "80/80 [==============================] - 0s 551us/step - loss: 0.1759 - mae: 0.3150 - val_loss: 0.4870 - val_mae: 0.5384\n",
      "Epoch 123/125\n",
      "80/80 [==============================] - 0s 542us/step - loss: 0.1742 - mae: 0.3207 - val_loss: 0.4203 - val_mae: 0.4956\n",
      "Epoch 124/125\n",
      "80/80 [==============================] - 0s 543us/step - loss: 0.1874 - mae: 0.3298 - val_loss: 0.5026 - val_mae: 0.5303\n",
      "Epoch 125/125\n",
      "80/80 [==============================] - 0s 562us/step - loss: 0.1910 - mae: 0.3292 - val_loss: 0.4585 - val_mae: 0.5245\n"
     ]
    }
   ],
   "source": [
    "hist = model.fit(X_train, y_train,\n",
    "                 validation_data=(X_test, y_test),\n",
    "                 epochs=125, batch_size=16, verbose=1)"
   ]
  },
  {
   "cell_type": "code",
   "execution_count": 22,
   "id": "dd5cc6ef",
   "metadata": {},
   "outputs": [
    {
     "data": {
      "image/png": "[encoded data removed]",
      "text/plain": [
       "<Figure size 432x288 with 1 Axes>"
      ]
     },
     "metadata": {
      "needs_background": "light"
     },
     "output_type": "display_data"
    }
   ],
   "source": [
    "plt.plot(hist.history['loss'], label='train')\n",
    "plt.plot(hist.history['val_loss'], label='test')\n",
    "plt.legend()\n",
    "plt.show()"
   ]
  },
  {
   "cell_type": "code",
   "execution_count": 23,
   "id": "850f0da4",
   "metadata": {},
   "outputs": [
    {
     "name": "stdout",
     "output_type": "stream",
     "text": [
      "MSE loss: 0.4585\n",
      "MAE: 0.5245\n"
     ]
    }
   ],
   "source": [
    "test_mse_score, test_mae_score = model.evaluate(X_test, y_test, verbose=0)\n",
    "print('MSE loss: %.4f'\n",
    "      % test_mse_score)\n",
    "print('MAE: %.4f'\n",
    "      % test_mae_score)"
   ]
  },
  {
   "cell_type": "markdown",
   "id": "7734bc16",
   "metadata": {},
   "source": [
    "Change hyper-parameters"
   ]
  },
  {
   "cell_type": "code",
   "execution_count": 24,
   "id": "a82c23ad",
   "metadata": {},
   "outputs": [],
   "source": [
    "model = models.Sequential([\n",
    "  layers.Dense(64, activation='relu', input_shape=(11,)),\n",
    "  layers.Dense(32, activation='relu'),\n",
    "  layers.Dense(16, activation='relu'),\n",
    "  layers.Dense(1, activation='linear')\n",
    "])\n",
    "optimizer = optimizers.RMSprop(lr = 1e-4)\n",
    "\n",
    "model.compile(optimizer=optimizer, loss='mse', metrics=['mae'])"
   ]
  },
  {
   "cell_type": "code",
   "execution_count": 25,
   "id": "ab0b8572",
   "metadata": {},
   "outputs": [
    {
     "name": "stdout",
     "output_type": "stream",
     "text": [
      "Epoch 1/50\n",
      "WARNING:tensorflow:AutoGraph could not transform <function Model.make_train_function.<locals>.train_function at 0x2982d4ee0> and will run it as-is.\n",
      "Please report this to the TensorFlow team. When filing the bug, set the verbosity to 10 (on Linux, `export AUTOGRAPH_VERBOSITY=10`) and attach the full output.\n",
      "Cause: unsupported operand type(s) for -: 'NoneType' and 'int'\n",
      "To silence this warning, decorate the function with @tf.autograph.experimental.do_not_convert\n",
      "WARNING: AutoGraph could not transform <function Model.make_train_function.<locals>.train_function at 0x2982d4ee0> and will run it as-is.\n",
      "Please report this to the TensorFlow team. When filing the bug, set the verbosity to 10 (on Linux, `export AUTOGRAPH_VERBOSITY=10`) and attach the full output.\n",
      "Cause: unsupported operand type(s) for -: 'NoneType' and 'int'\n",
      "To silence this warning, decorate the function with @tf.autograph.experimental.do_not_convert\n",
      " 1/80 [..............................] - ETA: 15s - loss: 34.9619 - mae: 5.8511WARNING:tensorflow:AutoGraph could not transform <function Model.make_test_function.<locals>.test_function at 0x17efecca0> and will run it as-is.\n",
      "Please report this to the TensorFlow team. When filing the bug, set the verbosity to 10 (on Linux, `export AUTOGRAPH_VERBOSITY=10`) and attach the full output.\n",
      "Cause: unsupported operand type(s) for -: 'NoneType' and 'int'\n",
      "To silence this warning, decorate the function with @tf.autograph.experimental.do_not_convert\n",
      "WARNING: AutoGraph could not transform <function Model.make_test_function.<locals>.test_function at 0x17efecca0> and will run it as-is.\n",
      "Please report this to the TensorFlow team. When filing the bug, set the verbosity to 10 (on Linux, `export AUTOGRAPH_VERBOSITY=10`) and attach the full output.\n",
      "Cause: unsupported operand type(s) for -: 'NoneType' and 'int'\n",
      "To silence this warning, decorate the function with @tf.autograph.experimental.do_not_convert\n",
      "80/80 [==============================] - 0s 1ms/step - loss: 30.3776 - mae: 5.4394 - val_loss: 27.8668 - val_mae: 5.2058\n",
      "Epoch 2/50\n",
      "80/80 [==============================] - 0s 609us/step - loss: 26.0466 - mae: 5.0200 - val_loss: 23.7637 - val_mae: 4.7822\n",
      "Epoch 3/50\n",
      "80/80 [==============================] - 0s 595us/step - loss: 22.3404 - mae: 4.6204 - val_loss: 19.5207 - val_mae: 4.2935\n",
      "Epoch 4/50\n",
      "80/80 [==============================] - 0s 580us/step - loss: 18.2156 - mae: 4.1261 - val_loss: 15.1579 - val_mae: 3.7248\n",
      "Epoch 5/50\n",
      "80/80 [==============================] - 0s 563us/step - loss: 13.8668 - mae: 3.5347 - val_loss: 10.9335 - val_mae: 3.0924\n",
      "Epoch 6/50\n",
      "80/80 [==============================] - 0s 567us/step - loss: 10.0624 - mae: 2.9551 - val_loss: 7.3283 - val_mae: 2.4358\n",
      "Epoch 7/50\n",
      "80/80 [==============================] - 0s 599us/step - loss: 6.8704 - mae: 2.3415 - val_loss: 4.8637 - val_mae: 1.8949\n",
      "Epoch 8/50\n",
      "80/80 [==============================] - 0s 683us/step - loss: 4.8418 - mae: 1.8281 - val_loss: 3.7630 - val_mae: 1.6276\n",
      "Epoch 9/50\n",
      "80/80 [==============================] - 0s 639us/step - loss: 4.2448 - mae: 1.6398 - val_loss: 3.3102 - val_mae: 1.4946\n",
      "Epoch 10/50\n",
      "80/80 [==============================] - 0s 652us/step - loss: 3.6378 - mae: 1.4875 - val_loss: 3.0292 - val_mae: 1.4191\n",
      "Epoch 11/50\n",
      "80/80 [==============================] - 0s 668us/step - loss: 4.0080 - mae: 1.5020 - val_loss: 2.8008 - val_mae: 1.3579\n",
      "Epoch 12/50\n",
      "80/80 [==============================] - 0s 640us/step - loss: 2.9401 - mae: 1.3205 - val_loss: 2.6027 - val_mae: 1.3060\n",
      "Epoch 13/50\n",
      "80/80 [==============================] - 0s 658us/step - loss: 3.0125 - mae: 1.3217 - val_loss: 2.4259 - val_mae: 1.2573\n",
      "Epoch 14/50\n",
      "80/80 [==============================] - 0s 638us/step - loss: 2.6077 - mae: 1.2408 - val_loss: 2.2653 - val_mae: 1.2048\n",
      "Epoch 15/50\n",
      "80/80 [==============================] - 0s 634us/step - loss: 2.6930 - mae: 1.2528 - val_loss: 2.1248 - val_mae: 1.1601\n",
      "Epoch 16/50\n",
      "80/80 [==============================] - 0s 606us/step - loss: 2.1359 - mae: 1.1286 - val_loss: 1.9946 - val_mae: 1.1227\n",
      "Epoch 17/50\n",
      "80/80 [==============================] - 0s 605us/step - loss: 2.2140 - mae: 1.1363 - val_loss: 1.8804 - val_mae: 1.0882\n",
      "Epoch 18/50\n",
      "80/80 [==============================] - 0s 601us/step - loss: 2.0724 - mae: 1.1195 - val_loss: 1.7797 - val_mae: 1.0591\n",
      "Epoch 19/50\n",
      "80/80 [==============================] - 0s 611us/step - loss: 1.9110 - mae: 1.0900 - val_loss: 1.6818 - val_mae: 1.0309\n",
      "Epoch 20/50\n",
      "80/80 [==============================] - 0s 577us/step - loss: 1.6833 - mae: 1.0292 - val_loss: 1.5939 - val_mae: 1.0045\n",
      "Epoch 21/50\n",
      "80/80 [==============================] - 0s 679us/step - loss: 1.6764 - mae: 1.0108 - val_loss: 1.5172 - val_mae: 0.9767\n",
      "Epoch 22/50\n",
      "80/80 [==============================] - 0s 688us/step - loss: 1.5772 - mae: 0.9593 - val_loss: 1.4380 - val_mae: 0.9516\n",
      "Epoch 23/50\n",
      "80/80 [==============================] - 0s 697us/step - loss: 1.3324 - mae: 0.9165 - val_loss: 1.3684 - val_mae: 0.9272\n",
      "Epoch 24/50\n",
      "80/80 [==============================] - 0s 654us/step - loss: 1.4414 - mae: 0.9181 - val_loss: 1.3109 - val_mae: 0.9062\n",
      "Epoch 25/50\n",
      "80/80 [==============================] - 0s 824us/step - loss: 1.2898 - mae: 0.8920 - val_loss: 1.2546 - val_mae: 0.8870\n",
      "Epoch 26/50\n",
      "80/80 [==============================] - 0s 605us/step - loss: 1.1694 - mae: 0.8488 - val_loss: 1.2062 - val_mae: 0.8714\n",
      "Epoch 27/50\n",
      "80/80 [==============================] - 0s 619us/step - loss: 1.2547 - mae: 0.8778 - val_loss: 1.1590 - val_mae: 0.8523\n",
      "Epoch 28/50\n",
      "80/80 [==============================] - 0s 640us/step - loss: 1.1701 - mae: 0.8440 - val_loss: 1.1139 - val_mae: 0.8357\n",
      "Epoch 29/50\n",
      "80/80 [==============================] - 0s 601us/step - loss: 1.1743 - mae: 0.8475 - val_loss: 1.0728 - val_mae: 0.8211\n",
      "Epoch 30/50\n",
      "80/80 [==============================] - 0s 587us/step - loss: 1.0840 - mae: 0.8213 - val_loss: 1.0331 - val_mae: 0.8048\n",
      "Epoch 31/50\n",
      "80/80 [==============================] - 0s 571us/step - loss: 1.0617 - mae: 0.8072 - val_loss: 0.9972 - val_mae: 0.7917\n",
      "Epoch 32/50\n",
      "80/80 [==============================] - 0s 643us/step - loss: 1.0414 - mae: 0.7991 - val_loss: 0.9626 - val_mae: 0.7772\n",
      "Epoch 33/50\n",
      "80/80 [==============================] - 0s 644us/step - loss: 0.9130 - mae: 0.7485 - val_loss: 0.9320 - val_mae: 0.7657\n",
      "Epoch 34/50\n",
      "80/80 [==============================] - 0s 599us/step - loss: 0.9137 - mae: 0.7382 - val_loss: 0.9024 - val_mae: 0.7520\n",
      "Epoch 35/50\n",
      "80/80 [==============================] - 0s 625us/step - loss: 0.9085 - mae: 0.7437 - val_loss: 0.8779 - val_mae: 0.7417\n",
      "Epoch 36/50\n",
      "80/80 [==============================] - 0s 651us/step - loss: 0.8742 - mae: 0.7370 - val_loss: 0.8464 - val_mae: 0.7284\n",
      "Epoch 37/50\n",
      "80/80 [==============================] - 0s 596us/step - loss: 0.8705 - mae: 0.7202 - val_loss: 0.8214 - val_mae: 0.7175\n",
      "Epoch 38/50\n",
      "80/80 [==============================] - 0s 586us/step - loss: 0.7897 - mae: 0.6810 - val_loss: 0.7973 - val_mae: 0.7072\n",
      "Epoch 39/50\n",
      "80/80 [==============================] - 0s 624us/step - loss: 0.8360 - mae: 0.7145 - val_loss: 0.7772 - val_mae: 0.6982\n",
      "Epoch 40/50\n",
      "80/80 [==============================] - 0s 623us/step - loss: 0.7930 - mae: 0.6922 - val_loss: 0.7574 - val_mae: 0.6909\n",
      "Epoch 41/50\n",
      "80/80 [==============================] - 0s 624us/step - loss: 0.7320 - mae: 0.6707 - val_loss: 0.7335 - val_mae: 0.6792\n",
      "Epoch 42/50\n",
      "80/80 [==============================] - 0s 621us/step - loss: 0.6934 - mae: 0.6492 - val_loss: 0.7206 - val_mae: 0.6770\n",
      "Epoch 43/50\n",
      "80/80 [==============================] - 0s 621us/step - loss: 0.7310 - mae: 0.6646 - val_loss: 0.7003 - val_mae: 0.6660\n",
      "Epoch 44/50\n",
      "80/80 [==============================] - 0s 596us/step - loss: 0.7058 - mae: 0.6594 - val_loss: 0.6815 - val_mae: 0.6557\n",
      "Epoch 45/50\n",
      "80/80 [==============================] - 0s 598us/step - loss: 0.6465 - mae: 0.6235 - val_loss: 0.6684 - val_mae: 0.6465\n",
      "Epoch 46/50\n",
      "80/80 [==============================] - 0s 594us/step - loss: 0.6512 - mae: 0.6324 - val_loss: 0.6523 - val_mae: 0.6431\n",
      "Epoch 47/50\n",
      "80/80 [==============================] - 0s 653us/step - loss: 0.6802 - mae: 0.6465 - val_loss: 0.6428 - val_mae: 0.6400\n",
      "Epoch 48/50\n"
     ]
    },
    {
     "name": "stdout",
     "output_type": "stream",
     "text": [
      "80/80 [==============================] - 0s 680us/step - loss: 0.6391 - mae: 0.6226 - val_loss: 0.6273 - val_mae: 0.6308\n",
      "Epoch 49/50\n",
      "80/80 [==============================] - 0s 659us/step - loss: 0.6243 - mae: 0.6205 - val_loss: 0.6224 - val_mae: 0.6306\n",
      "Epoch 50/50\n",
      "80/80 [==============================] - 0s 635us/step - loss: 0.5780 - mae: 0.5912 - val_loss: 0.6090 - val_mae: 0.6233\n"
     ]
    }
   ],
   "source": [
    "hist = model.fit(X_train, y_train,\n",
    "                 validation_data=(X_test, y_test),\n",
    "                 epochs=50, batch_size=16, verbose=1)"
   ]
  },
  {
   "cell_type": "code",
   "execution_count": 26,
   "id": "d2cd15a8",
   "metadata": {},
   "outputs": [
    {
     "data": {
      "image/png": "[encoded data removed]",
      "text/plain": [
       "<Figure size 432x288 with 1 Axes>"
      ]
     },
     "metadata": {
      "needs_background": "light"
     },
     "output_type": "display_data"
    }
   ],
   "source": [
    "plt.plot(hist.history['loss'], label='train')\n",
    "plt.plot(hist.history['val_loss'], label='test')\n",
    "plt.legend()\n",
    "plt.show()"
   ]
  },
  {
   "cell_type": "code",
   "execution_count": 27,
   "id": "a26515b6",
   "metadata": {},
   "outputs": [
    {
     "name": "stdout",
     "output_type": "stream",
     "text": [
      "MSE loss: 0.6090\n",
      "MAE: 0.6233\n"
     ]
    }
   ],
   "source": [
    "test_mse_score, test_mae_score = model.evaluate(X_test, y_test, verbose=0)\n",
    "print('MSE loss: %.4f'\n",
    "      % test_mse_score)\n",
    "print('MAE: %.4f'\n",
    "      % test_mae_score)"
   ]
  },
  {
   "cell_type": "code",
   "execution_count": 28,
   "id": "67536b3b",
   "metadata": {},
   "outputs": [
    {
     "name": "stdout",
     "output_type": "stream",
     "text": [
      "WARNING:tensorflow:AutoGraph could not transform <function Model.make_predict_function.<locals>.predict_function at 0x298584670> and will run it as-is.\n",
      "Please report this to the TensorFlow team. When filing the bug, set the verbosity to 10 (on Linux, `export AUTOGRAPH_VERBOSITY=10`) and attach the full output.\n",
      "Cause: unsupported operand type(s) for -: 'NoneType' and 'int'\n",
      "To silence this warning, decorate the function with @tf.autograph.experimental.do_not_convert\n",
      "WARNING: AutoGraph could not transform <function Model.make_predict_function.<locals>.predict_function at 0x298584670> and will run it as-is.\n",
      "Please report this to the TensorFlow team. When filing the bug, set the verbosity to 10 (on Linux, `export AUTOGRAPH_VERBOSITY=10`) and attach the full output.\n",
      "Cause: unsupported operand type(s) for -: 'NoneType' and 'int'\n",
      "To silence this warning, decorate the function with @tf.autograph.experimental.do_not_convert\n"
     ]
    }
   ],
   "source": [
    "y_test_pred = model.predict(X_test)"
   ]
  },
  {
   "cell_type": "code",
   "execution_count": 29,
   "id": "fa408b37",
   "metadata": {},
   "outputs": [
    {
     "data": {
      "image/png": "[encoded data removed]",
      "text/plain": [
       "<Figure size 432x288 with 1 Axes>"
      ]
     },
     "metadata": {
      "needs_background": "light"
     },
     "output_type": "display_data"
    }
   ],
   "source": [
    "plt.scatter(y_test, y_test_pred)\n",
    "plt.show()"
   ]
  }
 ],
 "metadata": {
  "kernelspec": {
   "display_name": "Python 3 (ipykernel)",
   "language": "python",
   "name": "python3"
  },
  "language_info": {
   "codemirror_mode": {
    "name": "ipython",
    "version": 3
   },
   "file_extension": ".py",
   "mimetype": "text/x-python",
   "name": "python",
   "nbconvert_exporter": "python",
   "pygments_lexer": "ipython3",
   "version": "3.8.12"
  }
 },
 "nbformat": 4,
 "nbformat_minor": 5
}
