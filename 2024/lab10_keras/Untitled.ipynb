{
 "cells": [
  {
   "cell_type": "code",
   "execution_count": 8,
   "metadata": {},
   "outputs": [],
   "source": [
    "# Imports\n",
    "import os\n",
    "from tensorflow.keras.models import Sequential\n",
    "from tensorflow.keras.layers import Dense, Flatten, Conv2D\n",
    "from tensorflow.keras.losses import sparse_categorical_crossentropy\n",
    "from tensorflow.keras.optimizers import Adam\n",
    "from tensorflow.keras.preprocessing.image import ImageDataGenerator"
   ]
  },
  {
   "cell_type": "code",
   "execution_count": 11,
   "metadata": {},
   "outputs": [],
   "source": [
    "# Data configuration\n",
    "# path to image folders\n",
    "path = \"/Users/u0784726/Dropbox/Data/ml/fruits/\"\n",
    "\n",
    "train_image_files_path = path + \"Training_smaller\"\n",
    "valid_image_files_path = path + \"Test_smaller\"\n",
    "\n",
    "\n",
    "# Model configuration\n",
    "batch_size = 25\n",
    "img_width, img_height, img_num_channels = 25, 25, 3\n",
    "loss_function = sparse_categorical_crossentropy\n",
    "no_classes = 10\n",
    "no_epochs = 25\n",
    "optimizer = Adam()\n",
    "verbosity = 1"
   ]
  },
  {
   "cell_type": "code",
   "execution_count": 15,
   "metadata": {},
   "outputs": [
    {
     "name": "stdout",
     "output_type": "stream",
     "text": [
      "Found 4951 images belonging to 10 classes.\n"
     ]
    }
   ],
   "source": [
    "# Determine shape of the data\n",
    "input_shape = (img_width, img_height, img_num_channels)\n",
    "\n",
    "# Create a generator\n",
    "train_datagen = ImageDataGenerator(\n",
    "  rescale=1./255\n",
    ")\n",
    "train_datagen = train_datagen.flow_from_directory(\n",
    "        train_image_files_path,\n",
    "        #save_to_dir='./adapted-images',\n",
    "        #save_format='jpeg',\n",
    "        batch_size=batch_size,\n",
    "        target_size=(25, 25),\n",
    "        class_mode='sparse')"
   ]
  },
  {
   "cell_type": "code",
   "execution_count": 16,
   "metadata": {},
   "outputs": [
    {
     "name": "stdout",
     "output_type": "stream",
     "text": [
      "Model: \"sequential_1\"\n",
      "_________________________________________________________________\n",
      "Layer (type)                 Output Shape              Param #   \n",
      "=================================================================\n",
      "conv2d_4 (Conv2D)            (None, 21, 21, 16)        1216      \n",
      "_________________________________________________________________\n",
      "conv2d_5 (Conv2D)            (None, 17, 17, 32)        12832     \n",
      "_________________________________________________________________\n",
      "conv2d_6 (Conv2D)            (None, 13, 13, 64)        51264     \n",
      "_________________________________________________________________\n",
      "conv2d_7 (Conv2D)            (None, 9, 9, 128)         204928    \n",
      "_________________________________________________________________\n",
      "flatten_1 (Flatten)          (None, 10368)             0         \n",
      "_________________________________________________________________\n",
      "dense_2 (Dense)              (None, 16)                165904    \n",
      "_________________________________________________________________\n",
      "dense_3 (Dense)              (None, 10)                170       \n",
      "=================================================================\n",
      "Total params: 436,314\n",
      "Trainable params: 436,314\n",
      "Non-trainable params: 0\n",
      "_________________________________________________________________\n"
     ]
    }
   ],
   "source": [
    "# Create the model\n",
    "model = Sequential()\n",
    "model.add(Conv2D(16, kernel_size=(5, 5), activation='relu', input_shape=input_shape))\n",
    "model.add(Conv2D(32, kernel_size=(5, 5), activation='relu'))\n",
    "model.add(Conv2D(64, kernel_size=(5, 5), activation='relu'))\n",
    "model.add(Conv2D(128, kernel_size=(5, 5), activation='relu'))\n",
    "model.add(Flatten())\n",
    "model.add(Dense(16, activation='relu'))\n",
    "model.add(Dense(no_classes, activation='softmax'))\n",
    "\n",
    "# Display a model summary\n",
    "model.summary()"
   ]
  },
  {
   "cell_type": "code",
   "execution_count": 17,
   "metadata": {},
   "outputs": [
    {
     "name": "stdout",
     "output_type": "stream",
     "text": [
      "Train for 199 steps\n",
      "Epoch 1/25\n",
      "199/199 [==============================] - 16s 78ms/step - loss: 0.7330 - accuracy: 0.7778\n",
      "Epoch 2/25\n",
      "199/199 [==============================] - 14s 71ms/step - loss: 0.2474 - accuracy: 0.9772\n",
      "Epoch 3/25\n",
      "199/199 [==============================] - 14s 70ms/step - loss: 0.1811 - accuracy: 0.9984\n",
      "Epoch 4/25\n",
      "199/199 [==============================] - 14s 72ms/step - loss: 0.1612 - accuracy: 0.9996\n",
      "Epoch 5/25\n",
      "199/199 [==============================] - 15s 73ms/step - loss: 0.1424 - accuracy: 1.0000\n",
      "Epoch 6/25\n",
      "199/199 [==============================] - 14s 72ms/step - loss: 0.1248 - accuracy: 1.0000\n",
      "Epoch 7/25\n",
      "199/199 [==============================] - 14s 72ms/step - loss: 0.1085 - accuracy: 1.0000\n",
      "Epoch 8/25\n",
      "199/199 [==============================] - 14s 72ms/step - loss: 0.0938 - accuracy: 1.0000\n",
      "Epoch 9/25\n",
      "199/199 [==============================] - 15s 76ms/step - loss: 0.1812 - accuracy: 0.9937\n",
      "Epoch 10/25\n",
      "199/199 [==============================] - 16s 82ms/step - loss: 2.7042 - accuracy: 0.1058\n",
      "Epoch 11/25\n",
      "199/199 [==============================] - 16s 81ms/step - loss: 2.3998 - accuracy: 0.0990\n",
      "Epoch 12/25\n",
      "199/199 [==============================] - 16s 81ms/step - loss: 2.3544 - accuracy: 0.0990\n",
      "Epoch 13/25\n",
      "199/199 [==============================] - 16s 78ms/step - loss: 2.3309 - accuracy: 0.0990\n",
      "Epoch 14/25\n",
      "199/199 [==============================] - 15s 75ms/step - loss: 2.3172 - accuracy: 0.0990\n",
      "Epoch 15/25\n",
      "199/199 [==============================] - 15s 76ms/step - loss: 2.3088 - accuracy: 0.0990\n",
      "Epoch 16/25\n",
      "199/199 [==============================] - 14s 73ms/step - loss: 2.3035 - accuracy: 0.0990\n",
      "Epoch 17/25\n",
      "199/199 [==============================] - 15s 74ms/step - loss: 2.3000 - accuracy: 0.1266\n",
      "Epoch 18/25\n",
      "199/199 [==============================] - 14s 73ms/step - loss: 2.2977 - accuracy: 0.1418\n",
      "Epoch 19/25\n",
      "199/199 [==============================] - 14s 72ms/step - loss: 2.2963 - accuracy: 0.1418\n",
      "Epoch 20/25\n",
      "199/199 [==============================] - 14s 71ms/step - loss: 2.2953 - accuracy: 0.1418\n",
      "Epoch 21/25\n",
      "199/199 [==============================] - 14s 71ms/step - loss: 2.2947 - accuracy: 0.1418\n",
      "Epoch 22/25\n",
      "199/199 [==============================] - 14s 72ms/step - loss: 2.2943 - accuracy: 0.1418\n",
      "Epoch 23/25\n",
      "199/199 [==============================] - 14s 71ms/step - loss: 2.2940 - accuracy: 0.1418\n",
      "Epoch 24/25\n",
      "199/199 [==============================] - 14s 72ms/step - loss: 2.2938 - accuracy: 0.1418\n",
      "Epoch 25/25\n",
      "199/199 [==============================] - 14s 72ms/step - loss: 2.2937 - accuracy: 0.1418\n"
     ]
    },
    {
     "data": {
      "text/plain": [
       "<tensorflow.python.keras.callbacks.History at 0x7fe9bd3de150>"
      ]
     },
     "execution_count": 17,
     "metadata": {},
     "output_type": "execute_result"
    }
   ],
   "source": [
    "# Compile the model\n",
    "model.compile(loss=loss_function,\n",
    "              optimizer=optimizer,\n",
    "              metrics=['accuracy'])\n",
    "\n",
    "# Start training\n",
    "model.fit(\n",
    "        train_datagen,\n",
    "        epochs=no_epochs,\n",
    "        shuffle=False)"
   ]
  }
 ],
 "metadata": {
  "kernelspec": {
   "display_name": "Python 3.8 (tensorflow)",
   "language": "python",
   "name": "tensorflow"
  },
  "language_info": {
   "codemirror_mode": {
    "name": "ipython",
    "version": 3
   },
   "file_extension": ".py",
   "mimetype": "text/x-python",
   "name": "python",
   "nbconvert_exporter": "python",
   "pygments_lexer": "ipython3",
   "version": "3.7.7"
  }
 },
 "nbformat": 4,
 "nbformat_minor": 4
}
