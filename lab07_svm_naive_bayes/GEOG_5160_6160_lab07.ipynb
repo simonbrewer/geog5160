{
 "cells": [
  {
   "cell_type": "markdown",
   "metadata": {},
   "source": [
    "# GEOG 5160 6160 Lab 07\n",
    "\n",
    "## Data processing\n",
    "\n",
    "Let's start by by importing the modules we'll need for the class:"
   ]
  },
  {
   "cell_type": "code",
   "execution_count": 1,
   "metadata": {},
   "outputs": [],
   "source": [
    "import pandas as pd\n",
    "import numpy as np\n",
    "import sklearn\n",
    "import seaborn as sns\n",
    "sns.set(style=\"white\")\n",
    "sns.set(style=\"whitegrid\", color_codes=True)\n",
    "## Set random seed for reproducibility\n",
    "np.random.seed(1234)"
   ]
  },
  {
   "cell_type": "markdown",
   "metadata": {},
   "source": [
    "As before, we will start by loading and cleaning the dataset for us. There are several steps we need to take here:\n",
    "\n",
    "- Remove observations with missing values\n",
    "- Create variables containing the average number of bedrooms and rooms per district\n",
    "- Create a Boolean (0/1) variable indicating whether a district is high value or not. We'll define this as being when the median house value for that district is over $250K\n",
    "\n",
    "Now load the data and use the `describe()` method to remind us of the available variables/features"
   ]
  },
  {
   "cell_type": "code",
   "execution_count": 2,
   "metadata": {},
   "outputs": [
    {
     "name": "stdout",
     "output_type": "stream",
     "text": [
      "(20640, 10)\n"
     ]
    }
   ],
   "source": [
    "housing = pd.read_csv(\"../datafiles/housing.csv\")\n",
    "print(housing.shape)"
   ]
  },
  {
   "cell_type": "code",
   "execution_count": 3,
   "metadata": {},
   "outputs": [
    {
     "data": {
      "text/html": [
       "<div>\n",
       "<style scoped>\n",
       "    .dataframe tbody tr th:only-of-type {\n",
       "        vertical-align: middle;\n",
       "    }\n",
       "\n",
       "    .dataframe tbody tr th {\n",
       "        vertical-align: top;\n",
       "    }\n",
       "\n",
       "    .dataframe thead th {\n",
       "        text-align: right;\n",
       "    }\n",
       "</style>\n",
       "<table border=\"1\" class=\"dataframe\">\n",
       "  <thead>\n",
       "    <tr style=\"text-align: right;\">\n",
       "      <th></th>\n",
       "      <th>longitude</th>\n",
       "      <th>latitude</th>\n",
       "      <th>housing_median_age</th>\n",
       "      <th>total_rooms</th>\n",
       "      <th>total_bedrooms</th>\n",
       "      <th>population</th>\n",
       "      <th>households</th>\n",
       "      <th>median_income</th>\n",
       "      <th>median_house_value</th>\n",
       "    </tr>\n",
       "  </thead>\n",
       "  <tbody>\n",
       "    <tr>\n",
       "      <th>count</th>\n",
       "      <td>20640.000000</td>\n",
       "      <td>20640.000000</td>\n",
       "      <td>20640.000000</td>\n",
       "      <td>20640.000000</td>\n",
       "      <td>20433.000000</td>\n",
       "      <td>20640.000000</td>\n",
       "      <td>20640.000000</td>\n",
       "      <td>20640.000000</td>\n",
       "      <td>20640.000000</td>\n",
       "    </tr>\n",
       "    <tr>\n",
       "      <th>mean</th>\n",
       "      <td>-119.569704</td>\n",
       "      <td>35.631861</td>\n",
       "      <td>28.639486</td>\n",
       "      <td>2635.763081</td>\n",
       "      <td>537.870553</td>\n",
       "      <td>1425.476744</td>\n",
       "      <td>499.539680</td>\n",
       "      <td>3.870671</td>\n",
       "      <td>206855.816909</td>\n",
       "    </tr>\n",
       "    <tr>\n",
       "      <th>std</th>\n",
       "      <td>2.003532</td>\n",
       "      <td>2.135952</td>\n",
       "      <td>12.585558</td>\n",
       "      <td>2181.615252</td>\n",
       "      <td>421.385070</td>\n",
       "      <td>1132.462122</td>\n",
       "      <td>382.329753</td>\n",
       "      <td>1.899822</td>\n",
       "      <td>115395.615874</td>\n",
       "    </tr>\n",
       "    <tr>\n",
       "      <th>min</th>\n",
       "      <td>-124.350000</td>\n",
       "      <td>32.540000</td>\n",
       "      <td>1.000000</td>\n",
       "      <td>2.000000</td>\n",
       "      <td>1.000000</td>\n",
       "      <td>3.000000</td>\n",
       "      <td>1.000000</td>\n",
       "      <td>0.499900</td>\n",
       "      <td>14999.000000</td>\n",
       "    </tr>\n",
       "    <tr>\n",
       "      <th>25%</th>\n",
       "      <td>-121.800000</td>\n",
       "      <td>33.930000</td>\n",
       "      <td>18.000000</td>\n",
       "      <td>1447.750000</td>\n",
       "      <td>296.000000</td>\n",
       "      <td>787.000000</td>\n",
       "      <td>280.000000</td>\n",
       "      <td>2.563400</td>\n",
       "      <td>119600.000000</td>\n",
       "    </tr>\n",
       "    <tr>\n",
       "      <th>50%</th>\n",
       "      <td>-118.490000</td>\n",
       "      <td>34.260000</td>\n",
       "      <td>29.000000</td>\n",
       "      <td>2127.000000</td>\n",
       "      <td>435.000000</td>\n",
       "      <td>1166.000000</td>\n",
       "      <td>409.000000</td>\n",
       "      <td>3.534800</td>\n",
       "      <td>179700.000000</td>\n",
       "    </tr>\n",
       "    <tr>\n",
       "      <th>75%</th>\n",
       "      <td>-118.010000</td>\n",
       "      <td>37.710000</td>\n",
       "      <td>37.000000</td>\n",
       "      <td>3148.000000</td>\n",
       "      <td>647.000000</td>\n",
       "      <td>1725.000000</td>\n",
       "      <td>605.000000</td>\n",
       "      <td>4.743250</td>\n",
       "      <td>264725.000000</td>\n",
       "    </tr>\n",
       "    <tr>\n",
       "      <th>max</th>\n",
       "      <td>-114.310000</td>\n",
       "      <td>41.950000</td>\n",
       "      <td>52.000000</td>\n",
       "      <td>39320.000000</td>\n",
       "      <td>6445.000000</td>\n",
       "      <td>35682.000000</td>\n",
       "      <td>6082.000000</td>\n",
       "      <td>15.000100</td>\n",
       "      <td>500001.000000</td>\n",
       "    </tr>\n",
       "  </tbody>\n",
       "</table>\n",
       "</div>"
      ],
      "text/plain": [
       "          longitude      latitude  housing_median_age   total_rooms  \\\n",
       "count  20640.000000  20640.000000        20640.000000  20640.000000   \n",
       "mean    -119.569704     35.631861           28.639486   2635.763081   \n",
       "std        2.003532      2.135952           12.585558   2181.615252   \n",
       "min     -124.350000     32.540000            1.000000      2.000000   \n",
       "25%     -121.800000     33.930000           18.000000   1447.750000   \n",
       "50%     -118.490000     34.260000           29.000000   2127.000000   \n",
       "75%     -118.010000     37.710000           37.000000   3148.000000   \n",
       "max     -114.310000     41.950000           52.000000  39320.000000   \n",
       "\n",
       "       total_bedrooms    population    households  median_income  \\\n",
       "count    20433.000000  20640.000000  20640.000000   20640.000000   \n",
       "mean       537.870553   1425.476744    499.539680       3.870671   \n",
       "std        421.385070   1132.462122    382.329753       1.899822   \n",
       "min          1.000000      3.000000      1.000000       0.499900   \n",
       "25%        296.000000    787.000000    280.000000       2.563400   \n",
       "50%        435.000000   1166.000000    409.000000       3.534800   \n",
       "75%        647.000000   1725.000000    605.000000       4.743250   \n",
       "max       6445.000000  35682.000000   6082.000000      15.000100   \n",
       "\n",
       "       median_house_value  \n",
       "count        20640.000000  \n",
       "mean        206855.816909  \n",
       "std         115395.615874  \n",
       "min          14999.000000  \n",
       "25%         119600.000000  \n",
       "50%         179700.000000  \n",
       "75%         264725.000000  \n",
       "max         500001.000000  "
      ]
     },
     "execution_count": 3,
     "metadata": {},
     "output_type": "execute_result"
    }
   ],
   "source": [
    "housing.describe()"
   ]
  },
  {
   "cell_type": "markdown",
   "metadata": {},
   "source": [
    "First use the `dropna()` method to remove missing values:"
   ]
  },
  {
   "cell_type": "code",
   "execution_count": 4,
   "metadata": {},
   "outputs": [
    {
     "data": {
      "text/plain": [
       "(20433, 10)"
      ]
     },
     "execution_count": 4,
     "metadata": {},
     "output_type": "execute_result"
    }
   ],
   "source": [
    "housing = housing.dropna()\n",
    "housing.shape"
   ]
  },
  {
   "cell_type": "markdown",
   "metadata": {},
   "source": [
    "Next, we'll create the features with the average number of rooms and bedroom ratio."
   ]
  },
  {
   "cell_type": "code",
   "execution_count": 5,
   "metadata": {},
   "outputs": [],
   "source": [
    "housing['avg_rooms'] = housing.total_rooms / housing.households\n",
    "housing['bedroom_ratio'] = housing.total_bedrooms / housing.total_rooms"
   ]
  },
  {
   "cell_type": "markdown",
   "metadata": {},
   "source": [
    "Now, we'll create two categorical features for use in the model, both binary. For the first of these, we'll convert the `ocean_proximity` feature into a binary value. This requires a few steps: first we convert this to two groups by with a conditional statement (INLAND vs all other locations); then we convert this to a categorical Series and extract the numerical codes (0/1) using `.cat.codes`. "
   ]
  },
  {
   "cell_type": "code",
   "execution_count": 6,
   "metadata": {},
   "outputs": [],
   "source": [
    "ocean_cats = housing.ocean_proximity != \"INLAND\" ## Conditional to make two groups inland vs all others\n",
    "ocean_cats = ocean_cats.astype('category') ## Convert to categorical\n",
    "ocean_cats = ocean_cats.cat.codes ## Extract the code numerical labels (0/1)\n",
    "housing['ocean_new'] = ocean_cats ## Replace original ocean_proximity"
   ]
  },
  {
   "cell_type": "markdown",
   "metadata": {},
   "source": [
    "Next we convert the `median_house_value` to a binary outcome of low vs. high house values. We'll initially do this as labels (`low`, `high`). To do this we use Pandas `cut()` function. For $k$ groups, this requires a vector of cuts of length $k+1$, and optionally a vector of labels for the new groups of length $k$. "
   ]
  },
  {
   "cell_type": "code",
   "execution_count": 7,
   "metadata": {},
   "outputs": [],
   "source": [
    "bins = [0, 2.5e5, np.inf]\n",
    "labels = ['low', 'high']\n",
    "housing['mhv_new'] = pd.cut(housing.median_house_value, bins, labels = labels)"
   ]
  },
  {
   "cell_type": "markdown",
   "metadata": {},
   "source": [
    "Now let's look at the new data"
   ]
  },
  {
   "cell_type": "code",
   "execution_count": 8,
   "metadata": {},
   "outputs": [
    {
     "data": {
      "text/html": [
       "<div>\n",
       "<style scoped>\n",
       "    .dataframe tbody tr th:only-of-type {\n",
       "        vertical-align: middle;\n",
       "    }\n",
       "\n",
       "    .dataframe tbody tr th {\n",
       "        vertical-align: top;\n",
       "    }\n",
       "\n",
       "    .dataframe thead th {\n",
       "        text-align: right;\n",
       "    }\n",
       "</style>\n",
       "<table border=\"1\" class=\"dataframe\">\n",
       "  <thead>\n",
       "    <tr style=\"text-align: right;\">\n",
       "      <th></th>\n",
       "      <th>longitude</th>\n",
       "      <th>latitude</th>\n",
       "      <th>housing_median_age</th>\n",
       "      <th>total_rooms</th>\n",
       "      <th>total_bedrooms</th>\n",
       "      <th>population</th>\n",
       "      <th>households</th>\n",
       "      <th>median_income</th>\n",
       "      <th>median_house_value</th>\n",
       "      <th>avg_rooms</th>\n",
       "      <th>bedroom_ratio</th>\n",
       "      <th>ocean_new</th>\n",
       "    </tr>\n",
       "  </thead>\n",
       "  <tbody>\n",
       "    <tr>\n",
       "      <th>count</th>\n",
       "      <td>20433.000000</td>\n",
       "      <td>20433.000000</td>\n",
       "      <td>20433.000000</td>\n",
       "      <td>20433.000000</td>\n",
       "      <td>20433.000000</td>\n",
       "      <td>20433.000000</td>\n",
       "      <td>20433.000000</td>\n",
       "      <td>20433.000000</td>\n",
       "      <td>20433.000000</td>\n",
       "      <td>20433.000000</td>\n",
       "      <td>20433.000000</td>\n",
       "      <td>20433.000000</td>\n",
       "    </tr>\n",
       "    <tr>\n",
       "      <th>mean</th>\n",
       "      <td>-119.570689</td>\n",
       "      <td>35.633221</td>\n",
       "      <td>28.633094</td>\n",
       "      <td>2636.504233</td>\n",
       "      <td>537.870553</td>\n",
       "      <td>1424.946949</td>\n",
       "      <td>499.433465</td>\n",
       "      <td>3.871162</td>\n",
       "      <td>206864.413155</td>\n",
       "      <td>5.431344</td>\n",
       "      <td>0.213039</td>\n",
       "      <td>0.682083</td>\n",
       "    </tr>\n",
       "    <tr>\n",
       "      <th>std</th>\n",
       "      <td>2.003578</td>\n",
       "      <td>2.136348</td>\n",
       "      <td>12.591805</td>\n",
       "      <td>2185.269567</td>\n",
       "      <td>421.385070</td>\n",
       "      <td>1133.208490</td>\n",
       "      <td>382.299226</td>\n",
       "      <td>1.899291</td>\n",
       "      <td>115435.667099</td>\n",
       "      <td>2.482946</td>\n",
       "      <td>0.057983</td>\n",
       "      <td>0.465678</td>\n",
       "    </tr>\n",
       "    <tr>\n",
       "      <th>min</th>\n",
       "      <td>-124.350000</td>\n",
       "      <td>32.540000</td>\n",
       "      <td>1.000000</td>\n",
       "      <td>2.000000</td>\n",
       "      <td>1.000000</td>\n",
       "      <td>3.000000</td>\n",
       "      <td>1.000000</td>\n",
       "      <td>0.499900</td>\n",
       "      <td>14999.000000</td>\n",
       "      <td>0.846154</td>\n",
       "      <td>0.100000</td>\n",
       "      <td>0.000000</td>\n",
       "    </tr>\n",
       "    <tr>\n",
       "      <th>25%</th>\n",
       "      <td>-121.800000</td>\n",
       "      <td>33.930000</td>\n",
       "      <td>18.000000</td>\n",
       "      <td>1450.000000</td>\n",
       "      <td>296.000000</td>\n",
       "      <td>787.000000</td>\n",
       "      <td>280.000000</td>\n",
       "      <td>2.563700</td>\n",
       "      <td>119500.000000</td>\n",
       "      <td>4.441441</td>\n",
       "      <td>0.175427</td>\n",
       "      <td>0.000000</td>\n",
       "    </tr>\n",
       "    <tr>\n",
       "      <th>50%</th>\n",
       "      <td>-118.490000</td>\n",
       "      <td>34.260000</td>\n",
       "      <td>29.000000</td>\n",
       "      <td>2127.000000</td>\n",
       "      <td>435.000000</td>\n",
       "      <td>1166.000000</td>\n",
       "      <td>409.000000</td>\n",
       "      <td>3.536500</td>\n",
       "      <td>179700.000000</td>\n",
       "      <td>5.230769</td>\n",
       "      <td>0.203162</td>\n",
       "      <td>1.000000</td>\n",
       "    </tr>\n",
       "    <tr>\n",
       "      <th>75%</th>\n",
       "      <td>-118.010000</td>\n",
       "      <td>37.720000</td>\n",
       "      <td>37.000000</td>\n",
       "      <td>3143.000000</td>\n",
       "      <td>647.000000</td>\n",
       "      <td>1722.000000</td>\n",
       "      <td>604.000000</td>\n",
       "      <td>4.744000</td>\n",
       "      <td>264700.000000</td>\n",
       "      <td>6.052381</td>\n",
       "      <td>0.239821</td>\n",
       "      <td>1.000000</td>\n",
       "    </tr>\n",
       "    <tr>\n",
       "      <th>max</th>\n",
       "      <td>-114.310000</td>\n",
       "      <td>41.950000</td>\n",
       "      <td>52.000000</td>\n",
       "      <td>39320.000000</td>\n",
       "      <td>6445.000000</td>\n",
       "      <td>35682.000000</td>\n",
       "      <td>6082.000000</td>\n",
       "      <td>15.000100</td>\n",
       "      <td>500001.000000</td>\n",
       "      <td>141.909091</td>\n",
       "      <td>1.000000</td>\n",
       "      <td>1.000000</td>\n",
       "    </tr>\n",
       "  </tbody>\n",
       "</table>\n",
       "</div>"
      ],
      "text/plain": [
       "          longitude      latitude  housing_median_age   total_rooms  \\\n",
       "count  20433.000000  20433.000000        20433.000000  20433.000000   \n",
       "mean    -119.570689     35.633221           28.633094   2636.504233   \n",
       "std        2.003578      2.136348           12.591805   2185.269567   \n",
       "min     -124.350000     32.540000            1.000000      2.000000   \n",
       "25%     -121.800000     33.930000           18.000000   1450.000000   \n",
       "50%     -118.490000     34.260000           29.000000   2127.000000   \n",
       "75%     -118.010000     37.720000           37.000000   3143.000000   \n",
       "max     -114.310000     41.950000           52.000000  39320.000000   \n",
       "\n",
       "       total_bedrooms    population    households  median_income  \\\n",
       "count    20433.000000  20433.000000  20433.000000   20433.000000   \n",
       "mean       537.870553   1424.946949    499.433465       3.871162   \n",
       "std        421.385070   1133.208490    382.299226       1.899291   \n",
       "min          1.000000      3.000000      1.000000       0.499900   \n",
       "25%        296.000000    787.000000    280.000000       2.563700   \n",
       "50%        435.000000   1166.000000    409.000000       3.536500   \n",
       "75%        647.000000   1722.000000    604.000000       4.744000   \n",
       "max       6445.000000  35682.000000   6082.000000      15.000100   \n",
       "\n",
       "       median_house_value     avg_rooms  bedroom_ratio     ocean_new  \n",
       "count        20433.000000  20433.000000   20433.000000  20433.000000  \n",
       "mean        206864.413155      5.431344       0.213039      0.682083  \n",
       "std         115435.667099      2.482946       0.057983      0.465678  \n",
       "min          14999.000000      0.846154       0.100000      0.000000  \n",
       "25%         119500.000000      4.441441       0.175427      0.000000  \n",
       "50%         179700.000000      5.230769       0.203162      1.000000  \n",
       "75%         264700.000000      6.052381       0.239821      1.000000  \n",
       "max         500001.000000    141.909091       1.000000      1.000000  "
      ]
     },
     "execution_count": 8,
     "metadata": {},
     "output_type": "execute_result"
    }
   ],
   "source": [
    "housing.describe()"
   ]
  },
  {
   "cell_type": "code",
   "execution_count": 9,
   "metadata": {},
   "outputs": [
    {
     "data": {
      "text/html": [
       "<div>\n",
       "<style scoped>\n",
       "    .dataframe tbody tr th:only-of-type {\n",
       "        vertical-align: middle;\n",
       "    }\n",
       "\n",
       "    .dataframe tbody tr th {\n",
       "        vertical-align: top;\n",
       "    }\n",
       "\n",
       "    .dataframe thead th {\n",
       "        text-align: right;\n",
       "    }\n",
       "</style>\n",
       "<table border=\"1\" class=\"dataframe\">\n",
       "  <thead>\n",
       "    <tr style=\"text-align: right;\">\n",
       "      <th></th>\n",
       "      <th>longitude</th>\n",
       "      <th>latitude</th>\n",
       "      <th>housing_median_age</th>\n",
       "      <th>total_rooms</th>\n",
       "      <th>total_bedrooms</th>\n",
       "      <th>population</th>\n",
       "      <th>households</th>\n",
       "      <th>median_income</th>\n",
       "      <th>median_house_value</th>\n",
       "      <th>ocean_proximity</th>\n",
       "      <th>avg_rooms</th>\n",
       "      <th>bedroom_ratio</th>\n",
       "      <th>ocean_new</th>\n",
       "      <th>mhv_new</th>\n",
       "    </tr>\n",
       "  </thead>\n",
       "  <tbody>\n",
       "    <tr>\n",
       "      <th>0</th>\n",
       "      <td>-122.23</td>\n",
       "      <td>37.88</td>\n",
       "      <td>41.0</td>\n",
       "      <td>880.0</td>\n",
       "      <td>129.0</td>\n",
       "      <td>322.0</td>\n",
       "      <td>126.0</td>\n",
       "      <td>8.3252</td>\n",
       "      <td>452600.0</td>\n",
       "      <td>NEAR BAY</td>\n",
       "      <td>6.984127</td>\n",
       "      <td>0.146591</td>\n",
       "      <td>1</td>\n",
       "      <td>high</td>\n",
       "    </tr>\n",
       "    <tr>\n",
       "      <th>1</th>\n",
       "      <td>-122.22</td>\n",
       "      <td>37.86</td>\n",
       "      <td>21.0</td>\n",
       "      <td>7099.0</td>\n",
       "      <td>1106.0</td>\n",
       "      <td>2401.0</td>\n",
       "      <td>1138.0</td>\n",
       "      <td>8.3014</td>\n",
       "      <td>358500.0</td>\n",
       "      <td>NEAR BAY</td>\n",
       "      <td>6.238137</td>\n",
       "      <td>0.155797</td>\n",
       "      <td>1</td>\n",
       "      <td>high</td>\n",
       "    </tr>\n",
       "    <tr>\n",
       "      <th>2</th>\n",
       "      <td>-122.24</td>\n",
       "      <td>37.85</td>\n",
       "      <td>52.0</td>\n",
       "      <td>1467.0</td>\n",
       "      <td>190.0</td>\n",
       "      <td>496.0</td>\n",
       "      <td>177.0</td>\n",
       "      <td>7.2574</td>\n",
       "      <td>352100.0</td>\n",
       "      <td>NEAR BAY</td>\n",
       "      <td>8.288136</td>\n",
       "      <td>0.129516</td>\n",
       "      <td>1</td>\n",
       "      <td>high</td>\n",
       "    </tr>\n",
       "    <tr>\n",
       "      <th>3</th>\n",
       "      <td>-122.25</td>\n",
       "      <td>37.85</td>\n",
       "      <td>52.0</td>\n",
       "      <td>1274.0</td>\n",
       "      <td>235.0</td>\n",
       "      <td>558.0</td>\n",
       "      <td>219.0</td>\n",
       "      <td>5.6431</td>\n",
       "      <td>341300.0</td>\n",
       "      <td>NEAR BAY</td>\n",
       "      <td>5.817352</td>\n",
       "      <td>0.184458</td>\n",
       "      <td>1</td>\n",
       "      <td>high</td>\n",
       "    </tr>\n",
       "    <tr>\n",
       "      <th>4</th>\n",
       "      <td>-122.25</td>\n",
       "      <td>37.85</td>\n",
       "      <td>52.0</td>\n",
       "      <td>1627.0</td>\n",
       "      <td>280.0</td>\n",
       "      <td>565.0</td>\n",
       "      <td>259.0</td>\n",
       "      <td>3.8462</td>\n",
       "      <td>342200.0</td>\n",
       "      <td>NEAR BAY</td>\n",
       "      <td>6.281853</td>\n",
       "      <td>0.172096</td>\n",
       "      <td>1</td>\n",
       "      <td>high</td>\n",
       "    </tr>\n",
       "  </tbody>\n",
       "</table>\n",
       "</div>"
      ],
      "text/plain": [
       "   longitude  latitude  housing_median_age  total_rooms  total_bedrooms  \\\n",
       "0    -122.23     37.88                41.0        880.0           129.0   \n",
       "1    -122.22     37.86                21.0       7099.0          1106.0   \n",
       "2    -122.24     37.85                52.0       1467.0           190.0   \n",
       "3    -122.25     37.85                52.0       1274.0           235.0   \n",
       "4    -122.25     37.85                52.0       1627.0           280.0   \n",
       "\n",
       "   population  households  median_income  median_house_value ocean_proximity  \\\n",
       "0       322.0       126.0         8.3252            452600.0        NEAR BAY   \n",
       "1      2401.0      1138.0         8.3014            358500.0        NEAR BAY   \n",
       "2       496.0       177.0         7.2574            352100.0        NEAR BAY   \n",
       "3       558.0       219.0         5.6431            341300.0        NEAR BAY   \n",
       "4       565.0       259.0         3.8462            342200.0        NEAR BAY   \n",
       "\n",
       "   avg_rooms  bedroom_ratio  ocean_new mhv_new  \n",
       "0   6.984127       0.146591          1    high  \n",
       "1   6.238137       0.155797          1    high  \n",
       "2   8.288136       0.129516          1    high  \n",
       "3   5.817352       0.184458          1    high  \n",
       "4   6.281853       0.172096          1    high  "
      ]
     },
     "execution_count": 9,
     "metadata": {},
     "output_type": "execute_result"
    }
   ],
   "source": [
    "housing.head()"
   ]
  },
  {
   "cell_type": "markdown",
   "metadata": {},
   "source": [
    "We can make a quick barplot to show the distribution of our house value categories. This suggests that the data are unbalanced, with more observations in the low than in the high category. We'll want to account for this when designing resampling strategies. "
   ]
  },
  {
   "cell_type": "code",
   "execution_count": 10,
   "metadata": {},
   "outputs": [
    {
     "data": {
      "text/plain": [
       "<AxesSubplot:xlabel='mhv_new', ylabel='count'>"
      ]
     },
     "execution_count": 10,
     "metadata": {},
     "output_type": "execute_result"
    },
    {
     "data": {
      "image/png": "[encoded data removed]",
      "text/plain": [
       "<Figure size 432x288 with 1 Axes>"
      ]
     },
     "metadata": {},
     "output_type": "display_data"
    }
   ],
   "source": [
    "sns.countplot(x=\"mhv_new\", data=housing, palette='hls')"
   ]
  },
  {
   "cell_type": "markdown",
   "metadata": {},
   "source": [
    "## Setting up data for scikit-learn\n",
    "\n",
    "Let's make new DataFrames: one with a subset of variables or features for building our initial model (`X`), and one with the outcome or labels (`y`). We're going to center the continuous variables, so we have to a little more work here than previously. There are a couple of ways to do this, and we'll go through both of them here. \n",
    "\n",
    "In the first method:\n",
    "\n",
    "- We first extract the subset of variables in to a new DataFrame `X`. \n",
    "- Then we take advantage of Pandas `mean()` method to subtract the columns means from each column and create a new DataFrame (`X_scaled`) \n",
    "- As this also removes the mean from the binary variable representing proximity to ocean (`ocean_new`), we replace it with the original value from the `housing` DataFrame. \n",
    "\n",
    "If we now look at the summary of the data, you should see that the mean of all numeric variables is 0 (or close to it). "
   ]
  },
  {
   "cell_type": "code",
   "execution_count": 11,
   "metadata": {},
   "outputs": [
    {
     "data": {
      "text/html": [
       "<div>\n",
       "<style scoped>\n",
       "    .dataframe tbody tr th:only-of-type {\n",
       "        vertical-align: middle;\n",
       "    }\n",
       "\n",
       "    .dataframe tbody tr th {\n",
       "        vertical-align: top;\n",
       "    }\n",
       "\n",
       "    .dataframe thead th {\n",
       "        text-align: right;\n",
       "    }\n",
       "</style>\n",
       "<table border=\"1\" class=\"dataframe\">\n",
       "  <thead>\n",
       "    <tr style=\"text-align: right;\">\n",
       "      <th></th>\n",
       "      <th>avg_rooms</th>\n",
       "      <th>bedroom_ratio</th>\n",
       "      <th>housing_median_age</th>\n",
       "      <th>median_income</th>\n",
       "      <th>population</th>\n",
       "      <th>ocean_new</th>\n",
       "    </tr>\n",
       "  </thead>\n",
       "  <tbody>\n",
       "    <tr>\n",
       "      <th>count</th>\n",
       "      <td>2.043300e+04</td>\n",
       "      <td>2.043300e+04</td>\n",
       "      <td>20433.000000</td>\n",
       "      <td>2.043300e+04</td>\n",
       "      <td>2.043300e+04</td>\n",
       "      <td>20433.000000</td>\n",
       "    </tr>\n",
       "    <tr>\n",
       "      <th>mean</th>\n",
       "      <td>-1.669165e-17</td>\n",
       "      <td>1.390971e-17</td>\n",
       "      <td>0.000000</td>\n",
       "      <td>6.008995e-16</td>\n",
       "      <td>-9.685609e-14</td>\n",
       "      <td>0.682083</td>\n",
       "    </tr>\n",
       "    <tr>\n",
       "      <th>std</th>\n",
       "      <td>2.482946e+00</td>\n",
       "      <td>5.798267e-02</td>\n",
       "      <td>12.591805</td>\n",
       "      <td>1.899291e+00</td>\n",
       "      <td>1.133208e+03</td>\n",
       "      <td>0.465678</td>\n",
       "    </tr>\n",
       "    <tr>\n",
       "      <th>min</th>\n",
       "      <td>-4.585190e+00</td>\n",
       "      <td>-1.130388e-01</td>\n",
       "      <td>-27.633094</td>\n",
       "      <td>-3.371262e+00</td>\n",
       "      <td>-1.421947e+03</td>\n",
       "      <td>0.000000</td>\n",
       "    </tr>\n",
       "    <tr>\n",
       "      <th>25%</th>\n",
       "      <td>-9.899025e-01</td>\n",
       "      <td>-3.761145e-02</td>\n",
       "      <td>-10.633094</td>\n",
       "      <td>-1.307462e+00</td>\n",
       "      <td>-6.379469e+02</td>\n",
       "      <td>0.000000</td>\n",
       "    </tr>\n",
       "    <tr>\n",
       "      <th>50%</th>\n",
       "      <td>-2.005747e-01</td>\n",
       "      <td>-9.876396e-03</td>\n",
       "      <td>0.366906</td>\n",
       "      <td>-3.346616e-01</td>\n",
       "      <td>-2.589469e+02</td>\n",
       "      <td>1.000000</td>\n",
       "    </tr>\n",
       "    <tr>\n",
       "      <th>75%</th>\n",
       "      <td>6.210370e-01</td>\n",
       "      <td>2.678186e-02</td>\n",
       "      <td>8.366906</td>\n",
       "      <td>8.728384e-01</td>\n",
       "      <td>2.970531e+02</td>\n",
       "      <td>1.000000</td>\n",
       "    </tr>\n",
       "    <tr>\n",
       "      <th>max</th>\n",
       "      <td>1.364777e+02</td>\n",
       "      <td>7.869612e-01</td>\n",
       "      <td>23.366906</td>\n",
       "      <td>1.112894e+01</td>\n",
       "      <td>3.425705e+04</td>\n",
       "      <td>1.000000</td>\n",
       "    </tr>\n",
       "  </tbody>\n",
       "</table>\n",
       "</div>"
      ],
      "text/plain": [
       "          avg_rooms  bedroom_ratio  housing_median_age  median_income  \\\n",
       "count  2.043300e+04   2.043300e+04        20433.000000   2.043300e+04   \n",
       "mean  -1.669165e-17   1.390971e-17            0.000000   6.008995e-16   \n",
       "std    2.482946e+00   5.798267e-02           12.591805   1.899291e+00   \n",
       "min   -4.585190e+00  -1.130388e-01          -27.633094  -3.371262e+00   \n",
       "25%   -9.899025e-01  -3.761145e-02          -10.633094  -1.307462e+00   \n",
       "50%   -2.005747e-01  -9.876396e-03            0.366906  -3.346616e-01   \n",
       "75%    6.210370e-01   2.678186e-02            8.366906   8.728384e-01   \n",
       "max    1.364777e+02   7.869612e-01           23.366906   1.112894e+01   \n",
       "\n",
       "         population     ocean_new  \n",
       "count  2.043300e+04  20433.000000  \n",
       "mean  -9.685609e-14      0.682083  \n",
       "std    1.133208e+03      0.465678  \n",
       "min   -1.421947e+03      0.000000  \n",
       "25%   -6.379469e+02      0.000000  \n",
       "50%   -2.589469e+02      1.000000  \n",
       "75%    2.970531e+02      1.000000  \n",
       "max    3.425705e+04      1.000000  "
      ]
     },
     "execution_count": 11,
     "metadata": {},
     "output_type": "execute_result"
    }
   ],
   "source": [
    "X = housing[['avg_rooms', 'bedroom_ratio', 'housing_median_age', 'median_income', \n",
    "             'population', 'ocean_new']]\n",
    "X_scaled = X - X.mean()\n",
    "X_scaled.ocean_new = housing.ocean_new\n",
    "X_scaled.describe()"
   ]
  },
  {
   "cell_type": "markdown",
   "metadata": {},
   "source": [
    "A second way to do this transformation is by using scikit-learn's preprocessing toolkit (called, not surprisingly, `preprocessing`).  \n",
    "\n",
    "- Import the `StandarScaler` function from `preprocessing\n",
    "- Create an array of column names\n",
    "- Use this to create a subset of the original features from `housing` into a new matrix `X`\n",
    "- Create an object `scaler` using `StandardScaler()`. This is an object that holds information about the type of transformation we want to do. By default, this method will standardized numeric variables by first subtracting the mean, then dividing by the standard deviation. The argument `with_std=False` stops this second step. \n",
    "- Once this is set up, we use the `fit()` method to apply this to `X`. As this requires a NumPy array, rather than a Pandas DataFrame, we apply it to the `values()` of `X`\n",
    "- We then back convert this to a Pandas DataFrame (and use the `col_names` array to set the column names)\n",
    "- Finally we add the `ocean_new` column to our new scaled DataFrame. To allow us to copy the values directly over from one DataFrame to another, we first have to make sure the indices align. The easiest way to do this is to simply copy the `housing` index to the `X_scaled` index \n",
    "\n",
    "This is obviously more work than the first way, but it allows a much wider range of data transformations, and we'll illustrate that later on. "
   ]
  },
  {
   "cell_type": "code",
   "execution_count": 12,
   "metadata": {},
   "outputs": [],
   "source": [
    "from sklearn.preprocessing import StandardScaler\n",
    "col_names = ['avg_rooms', 'bedroom_ratio', 'housing_median_age', 'median_income', \n",
    "             'population', 'ocean_new']\n",
    "X = housing[col_names]\n",
    "scaler = StandardScaler(with_std=False).fit(X.values)\n",
    "X_scaled = pd.DataFrame(scaler.transform(X.values), columns = col_names)\n",
    "X_scaled.index = housing.index\n",
    "X_scaled['ocean_new'] = housing.ocean_new"
   ]
  },
  {
   "cell_type": "markdown",
   "metadata": {},
   "source": [
    "We also need to create our array of labels (the `mhv_new` variable created earlier). For some ML methods, we can use the text labels, but other methods require this to be a binary (0/1) vector, so we'll create one of those where low value = 0 and high value = 1. \n",
    "\n",
    "We could re-use the code we used earlier to create the `ocean_new` variable, but instead, we're going to use a Pandas function: `get_dummies()`, which provides a little more control over how this binary encoding is set up. If we run this, and look at the output, you'll see that it has create two columns. "
   ]
  },
  {
   "cell_type": "code",
   "execution_count": 13,
   "metadata": {},
   "outputs": [
    {
     "name": "stdout",
     "output_type": "stream",
     "text": [
      "       low  high\n",
      "0        0     1\n",
      "1        0     1\n",
      "2        0     1\n",
      "3        0     1\n",
      "4        0     1\n",
      "...    ...   ...\n",
      "20635    1     0\n",
      "20636    1     0\n",
      "20637    1     0\n",
      "20638    1     0\n",
      "20639    1     0\n",
      "\n",
      "[20433 rows x 2 columns]\n"
     ]
    }
   ],
   "source": [
    "mhv_dummies = pd.get_dummies(housing.mhv_new)\n",
    "print(mhv_dummies)"
   ]
  },
  {
   "cell_type": "markdown",
   "metadata": {},
   "source": [
    "The first encodes for the low values (i.e. 1 = low) and the second encodes for high values (i.e. 1 = high). As we want to model the probability of a district being high value, we can then create our `y` series using the second column. If we were interested in the probability of a district being low value, we could use the first of these two columns as our label.\n",
    "\n",
    "This form of encoding is called 'one-hot' encoding and several uses in machine learning, especially with text analysis."
   ]
  },
  {
   "cell_type": "code",
   "execution_count": 14,
   "metadata": {},
   "outputs": [
    {
     "name": "stdout",
     "output_type": "stream",
     "text": [
      "0        1\n",
      "1        1\n",
      "2        1\n",
      "3        1\n",
      "4        1\n",
      "        ..\n",
      "20635    0\n",
      "20636    0\n",
      "20637    0\n",
      "20638    0\n",
      "20639    0\n",
      "Name: high, Length: 20433, dtype: uint8\n"
     ]
    }
   ],
   "source": [
    "y = mhv_dummies.high\n",
    "print(y)"
   ]
  },
  {
   "cell_type": "markdown",
   "metadata": {},
   "source": [
    "## Training/test split\n",
    "\n",
    "We'll set up a couple of different strategies for testing our models. First, a holdout method with 80% of the data in the training set (this will be used for initial tests). As we noted previously that the data are unbalanced with more 'low' value districts than 'high' value ones, we use the argument `stratify` to do, well, stratified sampling. This will force the training and testing datasets to have the same proportion of low and high value districts as in the full dataset. "
   ]
  },
  {
   "cell_type": "code",
   "execution_count": 15,
   "metadata": {},
   "outputs": [],
   "source": [
    "from sklearn.model_selection import train_test_split\n",
    "X_train, X_test, y_train, y_test = train_test_split(X_scaled, y,\n",
    "                                                    train_size = 0.8,\n",
    "                                                    stratify = y)"
   ]
  },
  {
   "cell_type": "markdown",
   "metadata": {},
   "source": [
    "Next, a 5-fold cross-validation strategy (this will be used to get the final estimate of model skill). Unlike the previous lab, we use the stratified version of $K$-fold cross-validation to keep the proportions of low/high value districts consistent across all folds."
   ]
  },
  {
   "cell_type": "code",
   "execution_count": 16,
   "metadata": {},
   "outputs": [],
   "source": [
    "from sklearn.model_selection import cross_val_score, StratifiedKFold\n",
    "# define model evaluation method\n",
    "cv = StratifiedKFold(n_splits=5)"
   ]
  },
  {
   "cell_type": "markdown",
   "metadata": {},
   "source": [
    "## Logistic regression"
   ]
  },
  {
   "cell_type": "markdown",
   "metadata": {},
   "source": [
    "Now we've set up our training and testing sets, we can build the model. The function for logistic regression is part of the linear model methods in scikit-learn, so import this, and create a new logistic regression object. This uses an optimization routine to find the best estimate of the coefficients, and works best for small datasets. As the default setting will not converge for our dataset, we increase the maximum number of iterations for the optimizer (you could alternatively try different optimizers or transformations of the data). \n",
    "\n",
    "The `LogisticRegression` function uses L2 (ridge) regularization by default. For this exercise, we are just going to run non-regularized regression, we set the penalty term to `none`. To see the effect of regularization, set this to `l1` or `l2`:"
   ]
  },
  {
   "cell_type": "code",
   "execution_count": 17,
   "metadata": {
    "scrolled": true
   },
   "outputs": [],
   "source": [
    "from sklearn import linear_model\n",
    "log_reg = linear_model.LogisticRegression(max_iter=200, penalty='none')"
   ]
  },
  {
   "cell_type": "markdown",
   "metadata": {},
   "source": [
    "Now let's use the training data to fit it:"
   ]
  },
  {
   "cell_type": "code",
   "execution_count": 18,
   "metadata": {},
   "outputs": [
    {
     "data": {
      "text/plain": [
       "LogisticRegression(max_iter=200, penalty='none')"
      ]
     },
     "execution_count": 18,
     "metadata": {},
     "output_type": "execute_result"
    }
   ],
   "source": [
    "log_reg.fit(X_train, y_train)"
   ]
  },
  {
   "cell_type": "markdown",
   "metadata": {},
   "source": [
    "As before, we can look at the coefficients from this model:"
   ]
  },
  {
   "cell_type": "code",
   "execution_count": 19,
   "metadata": {},
   "outputs": [
    {
     "name": "stdout",
     "output_type": "stream",
     "text": [
      "                    Coefficients\n",
      "avg_rooms               0.044084\n",
      "bedroom_ratio          10.431983\n",
      "housing_median_age      0.039457\n",
      "median_income           1.285489\n",
      "population              0.000013\n",
      "ocean_new               1.844405\n"
     ]
    }
   ],
   "source": [
    "cdf = pd.DataFrame(log_reg.coef_.transpose(), X_train.columns, columns=['Coefficients'])\n",
    "print(cdf)"
   ]
  },
  {
   "cell_type": "markdown",
   "metadata": {},
   "source": [
    "And the intercept:"
   ]
  },
  {
   "cell_type": "code",
   "execution_count": 20,
   "metadata": {},
   "outputs": [
    {
     "name": "stdout",
     "output_type": "stream",
     "text": [
      "[-2.82137429]\n"
     ]
    }
   ],
   "source": [
    "print(log_reg.intercept_)"
   ]
  },
  {
   "cell_type": "markdown",
   "metadata": {},
   "source": [
    "### Predicting with the test set\n",
    "\n",
    "Next step is to predict the the value of `mhv_new` for for the testing set. If we use the `predict` method, then the values are 0's or 1's. Although the model predicts a probability of a district being high value, this uses a probability threshold of 0.5 probability to distinguish between low and high:"
   ]
  },
  {
   "cell_type": "code",
   "execution_count": 21,
   "metadata": {},
   "outputs": [
    {
     "name": "stdout",
     "output_type": "stream",
     "text": [
      "[0 0 0 ... 0 0 0]\n"
     ]
    }
   ],
   "source": [
    "y_test_pred = log_reg.predict(X_test)\n",
    "print(y_test_pred)"
   ]
  },
  {
   "cell_type": "markdown",
   "metadata": {},
   "source": [
    "We can use these predictions to estimate the model performance, and there are several measures that can be easily calculated from scikit-learn's metrics packages. The `classification_report` function calculates the specificity (precision), sensitivity (recall), $f1$-score and accuracy (the proportion of correctly predcited outcomes)"
   ]
  },
  {
   "cell_type": "code",
   "execution_count": 22,
   "metadata": {},
   "outputs": [
    {
     "name": "stdout",
     "output_type": "stream",
     "text": [
      "              precision    recall  f1-score   support\n",
      "\n",
      "           0       0.86      0.93      0.89      2943\n",
      "           1       0.77      0.61      0.68      1144\n",
      "\n",
      "    accuracy                           0.84      4087\n",
      "   macro avg       0.81      0.77      0.79      4087\n",
      "weighted avg       0.83      0.84      0.83      4087\n",
      "\n"
     ]
    }
   ],
   "source": [
    "from sklearn import metrics\n",
    "print(metrics.classification_report(y_test, y_test_pred))"
   ]
  },
  {
   "cell_type": "markdown",
   "metadata": {},
   "source": [
    "You can also see the confusion matrix showing the number of correct/incorrect predictions (the diagonal elements are the correct predictions for 0's and 1's in the test set)."
   ]
  },
  {
   "cell_type": "code",
   "execution_count": 23,
   "metadata": {},
   "outputs": [
    {
     "name": "stdout",
     "output_type": "stream",
     "text": [
      "[[2736  207]\n",
      " [ 451  693]]\n"
     ]
    }
   ],
   "source": [
    "cm = metrics.confusion_matrix(y_test, y_test_pred)\n",
    "print(cm)"
   ]
  },
  {
   "cell_type": "markdown",
   "metadata": {},
   "source": [
    "While this gives us a good overview of the model performance, the threshold of 0.5 might not be the best way to differentiate between 0's and 1's. To avoid this, we can use the AUC of the receiver operating charactistic (ROC) curve, which is not based on a single threshold. To calculate this, we need the actual predicted probabilities of a district being high value. To get these, we use a different method: `predict_probab`. This returns a two column array where the first column is the probability of a '0' or a low value district, second column is probability of a '1' or high value district. "
   ]
  },
  {
   "cell_type": "code",
   "execution_count": 24,
   "metadata": {},
   "outputs": [
    {
     "name": "stdout",
     "output_type": "stream",
     "text": [
      "[[0.67106201 0.32893799]\n",
      " [0.99172499 0.00827501]\n",
      " [0.96075451 0.03924549]\n",
      " ...\n",
      " [0.60112198 0.39887802]\n",
      " [0.87768516 0.12231484]\n",
      " [0.8504935  0.1495065 ]]\n"
     ]
    }
   ],
   "source": [
    "y_test_pred = log_reg.predict_proba(X_test)\n",
    "print(y_test_pred)"
   ]
  },
  {
   "cell_type": "markdown",
   "metadata": {},
   "source": [
    "As we are modeling high value districts, we can now calculate the AUC using the second column of this array. The resulting value is quite high, suggesting we have a good model even with this simple algorithm"
   ]
  },
  {
   "cell_type": "code",
   "execution_count": 25,
   "metadata": {},
   "outputs": [
    {
     "data": {
      "text/plain": [
       "0.8951776646730775"
      ]
     },
     "execution_count": 25,
     "metadata": {},
     "output_type": "execute_result"
    }
   ],
   "source": [
    "metrics.roc_auc_score(y_test, y_test_pred[:,1])"
   ]
  },
  {
   "cell_type": "markdown",
   "metadata": {},
   "source": [
    "If you want to see the ROC curve that this value is derived from:"
   ]
  },
  {
   "cell_type": "code",
   "execution_count": 26,
   "metadata": {},
   "outputs": [
    {
     "data": {
      "text/plain": [
       "<sklearn.metrics._plot.roc_curve.RocCurveDisplay at 0x11c961700>"
      ]
     },
     "execution_count": 26,
     "metadata": {},
     "output_type": "execute_result"
    },
    {
     "data": {
      "image/png": "[encoded data removed]",
      "text/plain": [
       "<Figure size 432x288 with 1 Axes>"
      ]
     },
     "metadata": {},
     "output_type": "display_data"
    }
   ],
   "source": [
    "metrics.plot_roc_curve(log_reg, X_test, y_test) "
   ]
  },
  {
   "cell_type": "markdown",
   "metadata": {},
   "source": [
    "The ROC analysis can also be used to find the optimal threshold. There are a couple of ways to find this, but good optimal cut off point would be where true positive rate is high and the false positive rate is low. To find this, we calculate (not just plot) the ROC curve. This gives the false positive rate (`fpr`, the x-axis), the true positive rate (`tpr`, the y-axis) and the set of tested thresholds. We can use this to find the biggest difference between `tpr` and `fpr` and the associated threshold:"
   ]
  },
  {
   "cell_type": "code",
   "execution_count": 27,
   "metadata": {},
   "outputs": [
    {
     "data": {
      "text/plain": [
       "0.24112635840130242"
      ]
     },
     "execution_count": 27,
     "metadata": {},
     "output_type": "execute_result"
    }
   ],
   "source": [
    "fpr, tpr, thresholds = metrics.roc_curve(y_test, y_test_pred[:,1])\n",
    "thresholds[np.argmax(tpr - fpr)]"
   ]
  },
  {
   "cell_type": "markdown",
   "metadata": {},
   "source": [
    "Now we'll run a 5-fold cross-validation to check the stability of the AUC score we got above, using our previously defined cross-validation strategy. "
   ]
  },
  {
   "cell_type": "code",
   "execution_count": 28,
   "metadata": {},
   "outputs": [],
   "source": [
    "scores = cross_val_score(log_reg, X, y, cv=cv, scoring = 'roc_auc')"
   ]
  },
  {
   "cell_type": "code",
   "execution_count": 29,
   "metadata": {},
   "outputs": [
    {
     "name": "stdout",
     "output_type": "stream",
     "text": [
      "[0.914 0.83  0.844 0.891 0.897]\n",
      "0.875\n"
     ]
    }
   ],
   "source": [
    "with np.printoptions(precision=3, suppress=True):\n",
    "    print(scores)\n",
    "print(\"%.3f\" % np.mean(scores))"
   ]
  },
  {
   "cell_type": "markdown",
   "metadata": {},
   "source": [
    "This suggests that our previous AUC score was a little overestimated, and there is some variability across our subsets of data. "
   ]
  },
  {
   "cell_type": "markdown",
   "metadata": {},
   "source": [
    "## Naive Bayes\n",
    "\n",
    "The Naive Bayes approach tries to establish the conditional probability of any class given the values of the input features. Whichever class has the highest overall probability will be used as a prediction for a new case. These conditional probabilities are built either:\n",
    "\n",
    "- Categorical features: Looking for the relative number of times an output class co-occurs with a feature class \n",
    "- Continuous features: Building a probability function to relate values of the feature to the likelihood of a class (usually based on the mean and s.d. values of the feature for that class)\n",
    "\n",
    "scikit-learn has a couple of different function for Naive Bayes models, which mainly differ in some assumptions about the probabilities. We'll use `GaussianNB` to fit a model, which assumes (surprisingly) a Gaussian distribution.\n",
    "\n",
    "As we have already set up our data and cross-validation strategy, we simply need to load the new method:"
   ]
  },
  {
   "cell_type": "code",
   "execution_count": 30,
   "metadata": {},
   "outputs": [
    {
     "data": {
      "text/plain": [
       "GaussianNB()"
      ]
     },
     "execution_count": 30,
     "metadata": {},
     "output_type": "execute_result"
    }
   ],
   "source": [
    "from sklearn.naive_bayes import GaussianNB\n",
    "gnb = GaussianNB()"
   ]
  },
  {
   "cell_type": "markdown",
   "metadata": {},
   "source": [
    "And run the cross validation:"
   ]
  },
  {
   "cell_type": "code",
   "execution_count": 31,
   "metadata": {},
   "outputs": [
    {
     "name": "stdout",
     "output_type": "stream",
     "text": [
      "[0.867 0.735 0.836 0.872 0.899]\n",
      "0.842\n"
     ]
    }
   ],
   "source": [
    "scores = cross_val_score(gnb, X, y, cv=cv, scoring = 'roc_auc')\n",
    "with np.printoptions(precision=3, suppress=True):\n",
    "    print(scores)\n",
    "print(\"%.3f\" % np.mean(scores))"
   ]
  },
  {
   "cell_type": "markdown",
   "metadata": {},
   "source": [
    "The results are worse than the logistic regression. This is not too surprising; while the Naive Bayes is a very efficient classifier it is known to be relatively poor in making predictions. It's main use is in classifying large text documents. "
   ]
  },
  {
   "cell_type": "markdown",
   "metadata": {},
   "source": [
    "## Support vector machine"
   ]
  },
  {
   "cell_type": "markdown",
   "metadata": {},
   "source": [
    "The last algorithm we will look at today is a support vector machine (SVM). For classification, these work by projecting the dataset in a parameter space defined by the features, then finding a plane or hyperplane that best discriminates between the classes. \n",
    "\n",
    "Need to scale features for SVM"
   ]
  },
  {
   "cell_type": "code",
   "execution_count": 32,
   "metadata": {},
   "outputs": [],
   "source": [
    "scaler = StandardScaler(with_std=True).fit(X.values)\n",
    "X_scaled = pd.DataFrame(scaler.transform(X.values), columns = col_names)\n",
    "X_scaled.index = housing.index\n",
    "X_scaled['ocean_new'] = housing.ocean_new"
   ]
  },
  {
   "cell_type": "code",
   "execution_count": 33,
   "metadata": {},
   "outputs": [],
   "source": [
    "X_train, X_test, y_train, y_test = train_test_split(X_scaled, y,\n",
    "                                                    train_size = 0.8,\n",
    "                                                    stratify = y)"
   ]
  },
  {
   "cell_type": "code",
   "execution_count": 34,
   "metadata": {},
   "outputs": [
    {
     "data": {
      "text/plain": [
       "SVC(kernel='linear')"
      ]
     },
     "execution_count": 34,
     "metadata": {},
     "output_type": "execute_result"
    }
   ],
   "source": [
    "from sklearn import svm\n",
    "linear_svc = svm.SVC(kernel='linear')\n",
    "linear_svc.fit(X_train, y_train)"
   ]
  },
  {
   "cell_type": "markdown",
   "metadata": {},
   "source": [
    "Get number of support vectors per class"
   ]
  },
  {
   "cell_type": "code",
   "execution_count": 56,
   "metadata": {},
   "outputs": [
    {
     "name": "stdout",
     "output_type": "stream",
     "text": [
      "[3185 3185]\n"
     ]
    }
   ],
   "source": [
    "support_vectors_per_class = linear_svc.n_support_\n",
    "print(support_vectors_per_class)"
   ]
  },
  {
   "cell_type": "code",
   "execution_count": 40,
   "metadata": {},
   "outputs": [
    {
     "name": "stdout",
     "output_type": "stream",
     "text": [
      "[    0     9    11 ... 16334 16337 16338]\n"
     ]
    },
    {
     "data": {
      "text/plain": [
       "(6370,)"
      ]
     },
     "execution_count": 40,
     "metadata": {},
     "output_type": "execute_result"
    }
   ],
   "source": [
    "# Get support vector indices\n",
    "support_vector_indices = linear_svc.support_\n",
    "print(support_vector_indices)\n",
    "support_vector_indices.shape"
   ]
  },
  {
   "cell_type": "code",
   "execution_count": 49,
   "metadata": {},
   "outputs": [
    {
     "data": {
      "text/html": [
       "<div>\n",
       "<style scoped>\n",
       "    .dataframe tbody tr th:only-of-type {\n",
       "        vertical-align: middle;\n",
       "    }\n",
       "\n",
       "    .dataframe tbody tr th {\n",
       "        vertical-align: top;\n",
       "    }\n",
       "\n",
       "    .dataframe thead th {\n",
       "        text-align: right;\n",
       "    }\n",
       "</style>\n",
       "<table border=\"1\" class=\"dataframe\">\n",
       "  <thead>\n",
       "    <tr style=\"text-align: right;\">\n",
       "      <th></th>\n",
       "      <th>avg_rooms</th>\n",
       "      <th>bedroom_ratio</th>\n",
       "      <th>housing_median_age</th>\n",
       "      <th>median_income</th>\n",
       "      <th>population</th>\n",
       "      <th>ocean_new</th>\n",
       "    </tr>\n",
       "  </thead>\n",
       "  <tbody>\n",
       "    <tr>\n",
       "      <th>count</th>\n",
       "      <td>16346.000000</td>\n",
       "      <td>16346.000000</td>\n",
       "      <td>16346.000000</td>\n",
       "      <td>16346.000000</td>\n",
       "      <td>16346.000000</td>\n",
       "      <td>16346.000000</td>\n",
       "    </tr>\n",
       "    <tr>\n",
       "      <th>mean</th>\n",
       "      <td>-0.004295</td>\n",
       "      <td>0.003723</td>\n",
       "      <td>0.003933</td>\n",
       "      <td>-0.003644</td>\n",
       "      <td>-0.002761</td>\n",
       "      <td>0.683592</td>\n",
       "    </tr>\n",
       "    <tr>\n",
       "      <th>std</th>\n",
       "      <td>0.955809</td>\n",
       "      <td>0.997909</td>\n",
       "      <td>0.996783</td>\n",
       "      <td>0.996258</td>\n",
       "      <td>0.988918</td>\n",
       "      <td>0.465088</td>\n",
       "    </tr>\n",
       "    <tr>\n",
       "      <th>min</th>\n",
       "      <td>-1.846719</td>\n",
       "      <td>-1.949575</td>\n",
       "      <td>-2.194584</td>\n",
       "      <td>-1.775054</td>\n",
       "      <td>-1.254828</td>\n",
       "      <td>0.000000</td>\n",
       "    </tr>\n",
       "    <tr>\n",
       "      <th>25%</th>\n",
       "      <td>-0.400285</td>\n",
       "      <td>-0.645204</td>\n",
       "      <td>-0.844466</td>\n",
       "      <td>-0.689043</td>\n",
       "      <td>-0.563853</td>\n",
       "      <td>0.000000</td>\n",
       "    </tr>\n",
       "    <tr>\n",
       "      <th>50%</th>\n",
       "      <td>-0.083127</td>\n",
       "      <td>-0.163565</td>\n",
       "      <td>0.029139</td>\n",
       "      <td>-0.180683</td>\n",
       "      <td>-0.230278</td>\n",
       "      <td>1.000000</td>\n",
       "    </tr>\n",
       "    <tr>\n",
       "      <th>75%</th>\n",
       "      <td>0.247445</td>\n",
       "      <td>0.466572</td>\n",
       "      <td>0.664489</td>\n",
       "      <td>0.467851</td>\n",
       "      <td>0.259273</td>\n",
       "      <td>1.000000</td>\n",
       "    </tr>\n",
       "    <tr>\n",
       "      <th>max</th>\n",
       "      <td>54.967404</td>\n",
       "      <td>13.572683</td>\n",
       "      <td>1.855769</td>\n",
       "      <td>5.859665</td>\n",
       "      <td>30.230881</td>\n",
       "      <td>1.000000</td>\n",
       "    </tr>\n",
       "  </tbody>\n",
       "</table>\n",
       "</div>"
      ],
      "text/plain": [
       "          avg_rooms  bedroom_ratio  housing_median_age  median_income  \\\n",
       "count  16346.000000   16346.000000        16346.000000   16346.000000   \n",
       "mean      -0.004295       0.003723            0.003933      -0.003644   \n",
       "std        0.955809       0.997909            0.996783       0.996258   \n",
       "min       -1.846719      -1.949575           -2.194584      -1.775054   \n",
       "25%       -0.400285      -0.645204           -0.844466      -0.689043   \n",
       "50%       -0.083127      -0.163565            0.029139      -0.180683   \n",
       "75%        0.247445       0.466572            0.664489       0.467851   \n",
       "max       54.967404      13.572683            1.855769       5.859665   \n",
       "\n",
       "         population     ocean_new  \n",
       "count  16346.000000  16346.000000  \n",
       "mean      -0.002761      0.683592  \n",
       "std        0.988918      0.465088  \n",
       "min       -1.254828      0.000000  \n",
       "25%       -0.563853      0.000000  \n",
       "50%       -0.230278      1.000000  \n",
       "75%        0.259273      1.000000  \n",
       "max       30.230881      1.000000  "
      ]
     },
     "execution_count": 49,
     "metadata": {},
     "output_type": "execute_result"
    }
   ],
   "source": [
    "X_train.describe()"
   ]
  },
  {
   "cell_type": "code",
   "execution_count": 53,
   "metadata": {},
   "outputs": [
    {
     "data": {
      "image/png": "[encoded data removed]",
      "text/plain": [
       "<Figure size 432x288 with 1 Axes>"
      ]
     },
     "metadata": {},
     "output_type": "display_data"
    }
   ],
   "source": [
    "import matplotlib.pyplot as plt\n",
    "support_vectors = linear_svc.support_vectors_\n",
    "\n",
    "# Visualize support vectors\n",
    "plt.scatter(X_scaled.median_income, X_scaled.housing_median_age)\n",
    "plt.scatter(support_vectors[:,3], support_vectors[:,2], color='red')\n",
    "plt.title('Linearly separable data with support vectors')\n",
    "plt.xlabel('X1')\n",
    "plt.ylabel('X2')\n",
    "plt.show()"
   ]
  },
  {
   "cell_type": "code",
   "execution_count": 35,
   "metadata": {},
   "outputs": [
    {
     "name": "stdout",
     "output_type": "stream",
     "text": [
      "[0.911 0.843 0.861 0.905 0.898]\n",
      "0.884\n"
     ]
    }
   ],
   "source": [
    "scores = cross_val_score(linear_svc, X_scaled, y, cv=cv, scoring = 'roc_auc')\n",
    "with np.printoptions(precision=3, suppress=True):\n",
    "    print(scores)\n",
    "print(\"%.3f\" % np.mean(scores))"
   ]
  },
  {
   "cell_type": "code",
   "execution_count": 36,
   "metadata": {},
   "outputs": [
    {
     "data": {
      "text/plain": [
       "SVC()"
      ]
     },
     "execution_count": 36,
     "metadata": {},
     "output_type": "execute_result"
    }
   ],
   "source": [
    "rbf_svc = svm.SVC(kernel='rbf')\n",
    "rbf_svc.fit(X_train, y_train)"
   ]
  },
  {
   "cell_type": "code",
   "execution_count": 37,
   "metadata": {},
   "outputs": [
    {
     "name": "stdout",
     "output_type": "stream",
     "text": [
      "[0.895 0.821 0.856 0.879 0.874]\n",
      "0.865\n"
     ]
    }
   ],
   "source": [
    "scores = cross_val_score(rbf_svc, X_scaled, y, cv=cv, scoring = 'roc_auc')\n",
    "with np.printoptions(precision=3, suppress=True):\n",
    "    print(scores)\n",
    "print(\"%.3f\" % np.mean(scores))"
   ]
  },
  {
   "cell_type": "markdown",
   "metadata": {},
   "source": [
    "## Exercise\n",
    "\n",
    "The file *Sonar.csv* contains values of 208 sonar signals. The data have 60 features, each representing \"the energy within a particular frequency band, integrated over a certain period of time\", and an outcome variable `Class`, which is coded `M` or `R`. The goal of the experiment is to discriminate between the sonar signals bounced of a rock `R` or a metal object (a mine `M`). \n",
    "\n",
    "For the exercise, you need to carry out a comparison of the three methods presented in today's lab with this new dataset. You should use the **mlr3** framework to set up and test your models, and report the cross-validated AUC score for each one. At the end of this exercise, you should make a recommendation as to which method you think is best for this task. \n",
    "\n",
    "Your answer should include\n",
    "\n",
    "- Your R code\n",
    "- A list of aggregate AUC scores, one per method\n",
    "- A note of any parameter settings you used (e.g. for the SVM method)\n",
    "- The recommendation"
   ]
  }
 ],
 "metadata": {
  "kernelspec": {
   "display_name": "Python 3",
   "language": "python",
   "name": "python3"
  },
  "language_info": {
   "codemirror_mode": {
    "name": "ipython",
    "version": 3
   },
   "file_extension": ".py",
   "mimetype": "text/x-python",
   "name": "python",
   "nbconvert_exporter": "python",
   "pygments_lexer": "ipython3",
   "version": "3.9.1"
  }
 },
 "nbformat": 4,
 "nbformat_minor": 2
}
